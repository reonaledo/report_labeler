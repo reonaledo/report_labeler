{
  "cells": [
    {
      "attachments": {},
      "cell_type": "markdown",
      "metadata": {},
      "source": [
        "# Batch Generation"
      ]
    },
    {
      "cell_type": "code",
      "execution_count": 32,
      "metadata": {},
      "outputs": [],
      "source": [
        "import torch\n",
        "from transformers import AutoTokenizer, AutoModelForCausalLM, BitsAndBytesConfig, LlamaForCausalLM\n",
        "\n",
        "# model_id = 'huggyllama/llama-7b'\n",
        "model_id = 'huggyllama/llama-65b'\n",
        "# model_id = 'meta-llama/Llama-2-7b-hf'\n",
        "# model_id = 'meta-llama/Llama-2-13b-hf'\n",
        "# model_id = 'meta-llama/Llama-2-70b-hf'\n",
        "# model_id = 'epfl-llm/meditron-70b'\n",
        "USE_FINETUNED = False\n",
        "N_SHOT = 0\n",
        "# DATASET = 'SNUH_test'\n",
        "DATASET = 'CDDCESM'\n",
        "# DATASET = 'SNUH_all'\n",
        "BATCH_SZ = 2\n",
        "DEVICE = 0\n",
        "lora_r= 2"
      ]
    },
    {
      "cell_type": "code",
      "execution_count": 2,
      "metadata": {},
      "outputs": [],
      "source": [
        "IS_ZEROSHOT = 1 if not USE_FINETUNED and N_SHOT==0 else 0"
      ]
    },
    {
      "cell_type": "code",
      "execution_count": 3,
      "metadata": {},
      "outputs": [],
      "source": [
        "#Load from checkpoint\n",
        "# checkpoint_name = '/lora-alpaca-MG-30b/checkpoint-50/pytorch_model.bin' ## 데이터 100개 훈련 모델\n",
        "# checkpoint_name = '/home/workspace/lora-alpaca-MG-30b-1+2/checkpoint-80/pytorch_model.bin' ## 데이터 200개 훈련 모델\n",
        "# checkpoint_name = '/home/workspace/lora-alpaca-MG-30b-364/checkpoint-80/pytorch_model.bin' ## 데이터 364개 훈련 모델\n",
        "# checkpoint_name = '/home/workspace/lora-alpaca-MG-30b-500/checkpoint-116/pytorch_model.bin' ## 데이터 500개 훈련 모델\n",
        "# checkpoint_name = '/home/workspace/lora_alpaca-MG-65b-500/checkpoint-116/pytorch_model.bin' ## \n",
        "# checkpoint_name = '/home/workspace/lora_alpaca-MG-7b-500/checkpoint-156/pytorch_model.bin' ## \n",
        "# checkpoint_name = '/home/workspace/lora_alpaca-MG-7b-500-r4/checkpoint-140/pytorch_model.bin' ## \n",
        "#==========================================================================================================================\n",
        "### v1\n",
        "# checkpoint_name = '/home/workspace/MGLabler_trained_model/v1_7b_r8/checkpoint-148/pytorch_model.bin' ## \n",
        "# checkpoint_name = '/home/workspace/MGLabler_trained_model/v1_30b_r8/checkpoint-44/pytorch_model.bin' ## \n",
        "#==========================================================================================================================\n",
        "### v2\n",
        "# checkpoint_name = '/home/workspace/MGLabler_trained_model/v2_7b_r8/checkpoint-124/pytorch_model.bin' ## \n",
        "# checkpoint_name = '/home/workspace/MGLabler_trained_model/v2.1_7b_r8/checkpoint-108/pytorch_model.bin' ## \n",
        "# checkpoint_name = '/home/workspace/MGLabler_trained_model/v2.2_7b_r8/checkpoint-144/pytorch_model.bin' ## \n",
        "# checkpoint_name = '/home/workspace/MGLabler_trained_model/v2.2_30b_r8/checkpoint-116/pytorch_model.bin' ## \n",
        "# checkpoint_name = '/home/workspace/MGLabler_trained_model/v2.2_30b_r2/checkpoint-116/pytorch_model.bin' ## \n",
        "# checkpoint_name = '/home/workspace/MGLabler_trained_model/v2.2_30b_r16/checkpoint-92/pytorch_model.bin' ## \n",
        "# checkpoint_name = '/home/workspace/MGLabler_trained_model/v2.2_30b_r4kqvo/checkpoint-104/pytorch_model.bin' ## \n",
        "# checkpoint_name = '/home/workspace/MGLabler_trained_model/v2.2_30b_r1kqvo/checkpoint-164/pytorch_model.bin' ## \n",
        "# checkpoint_name = '/home/workspace/MGLabler_trained_model/v2.2_13b_r2/checkpoint-84/pytorch_model.bin' ## \n",
        "# checkpoint_name = '/home/workspace/MGLabler_trained_model/v2.2_13b_r8/checkpoint-88/pytorch_model.bin' ## \n",
        "# checkpoint_name = '/home/workspace/MGLabler_trained_model/v2.2_13b_r1kqvo/checkpoint-144/pytorch_model.bin' ## \n",
        "#==========================================================================================================================\n",
        "### v3\n",
        "# checkpoint_name = '/home/workspace/MGLabler_trained_model/v3.0_13b_r1kqvo/checkpoint-132/pytorch_model.bin' \n",
        "# checkpoint_name = '/home/workspace/MGLabler_trained_model/v3.0_30b_r1kqvo/checkpoint-132/pytorch_model.bin' \n",
        "# checkpoint_name = '/home/workspace/MGLabler_trained_model/v3.0_7b_r8/checkpoint-172/pytorch_model.bin' \n",
        "# checkpoint_name = '/home/workspace/MGLabler_trained_model/v3.0_13b_r2/checkpoint-240/pytorch_model.bin' ## \n",
        "# checkpoint_name = '/home/workspace/MGLabler_trained_model/v3.0_30b_r4kqvo/checkpoint-168/pytorch_model.bin' ## \n",
        "# checkpoint_name = '/home/workspace/MGLabler_trained_model/v3.0_13b_r8/checkpoint-156/pytorch_model.bin' ## \n",
        "# checkpoint_name = '/home/workspace/MGLabler_trained_model/v3.0_30b_r16/checkpoint-72/pytorch_model.bin' ## \n",
        "# checkpoint_name = '/home/workspace/MGLabler_trained_model/v3.0_30b_r8/checkpoint-64/pytorch_model.bin' \n",
        "# checkpoint_name = '/home/workspace/MGLabler_trained_model/v3.0_30b_r2/checkpoint-212/pytorch_model.bin' \n",
        "# checkpoint_name = '/home/workspace/MGLabler_trained_model/v3.0_30b_r2/checkpoint-156/pytorch_model.bin' \n",
        "#==========================================================================================================================\n",
        "### v3.2\n",
        "# checkpoint_name = '/home/workspace/MGLabler_trained_model/v3.2_30b_r2/checkpoint-284/pytorch_model.bin' \n",
        "# checkpoint_name = '/home/workspace/MGLabler_trained_model/v3.2_30b_r2/checkpoint-212/pytorch_model.bin' \n",
        "# checkpoint_name = '/home/workspace/MGLabler_trained_model/v3.2_30b_r2/checkpoint-100/pytorch_model.bin' \n",
        "# checkpoint_name = '/home/workspace/MGLabler_trained_model/v3.2_30b_r2/checkpoint-24/pytorch_model.bin' \n",
        "# checkpoint_name = '/home/workspace/MGLabler_trained_model/v3.2_30b_r1/checkpoint-144/pytorch_model.bin' \n",
        "# checkpoint_name = '/home/workspace/MGLabler_trained_model/v3.2_30b_r1_cutoff512/checkpoint-144/pytorch_model.bin' \n",
        "\n",
        "# checkpoint_name = '/home/workspace/MGLabler_trained_model/v3.2_30b_r1all_bz8/checkpoint-488/pytorch_model.bin' \n",
        "# checkpoint_name = '/home/workspace/MGLabler_trained_model/v3.2_30b_r1all_bz8/checkpoint-580/pytorch_model.bin' \n",
        "# checkpoint_name = '/home/workspace/MGLabler_trained_model/v3.2_30b_r2all_bz8/checkpoint-580/pytorch_model.bin' \n",
        "# checkpoint_name = '/home/workspace/MGLabler_trained_model/v3.2_30b_r4all_bz8/checkpoint-580/pytorch_model.bin' \n",
        "# checkpoint_name = '/home/workspace/MGLabler_trained_model/v3.2_7b_r2all_bs8/checkpoint-476/pytorch_model.bin' \n",
        "# checkpoint_name = '/home/workspace/MGLabler_trained_model/v3.2_65b_r2all_bs8/checkpoint-580/pytorch_model.bin' \n",
        "# checkpoint_name = '/home/workspace/MGLabler_trained_model/v3.2_13b_r2all_bs8/checkpoint-496/pytorch_model.bin' \n",
        "\n",
        "# checkpoint_name = '/home/workspace/MGLabler_trained_model/v3.2_Llama2_7b_r2all_bs8/checkpoint-420/adapter_model.bin' \n",
        "# checkpoint_name = '/home/workspace/MGLabler_trained_model/v3.2_Llama2_7b_r2all_bs8/adapter_model.bin' \n",
        "# checkpoint_name = '/home/workspace/MGLabler_trained_model/v3.2_7b_r2all_bs8_again2/checkpoint-420/adapter_model.bin' \n",
        "\n",
        "# checkpoint_name = '/home/workspace/MGLabler_trained_model/v3.2_70b_r2all_bs8_again/adapter_model.bin' \n",
        "# checkpoint_name = '/home/workspace/MGLabler_trained_model/v3.2_Llama2_70b_r2all_bs8/adapter_model.bin'\n",
        "checkpoint_name = '/home/workspace/MGLabler_trained_model/v3.2_Llama2_13b_r2all_bs8/adapter_model.bin'\n",
        "\n"
      ]
    },
    {
      "cell_type": "code",
      "execution_count": 4,
      "metadata": {},
      "outputs": [
        {
          "name": "stderr",
          "output_type": "stream",
          "text": [
            "Loading checkpoint shards: 100%|██████████| 14/14 [00:42<00:00,  3.06s/it]\n"
          ]
        }
      ],
      "source": [
        "tokenizer = AutoTokenizer.from_pretrained(model_id)\n",
        "tokenizer.pad_token_id = (\n",
        "    0  # unk. we want this to be different from the eos token\n",
        ")\n",
        "tokenizer.padding_side = \"left\"  # Allow batched inference\n",
        "\n",
        "bnb_config = BitsAndBytesConfig(\n",
        "    load_in_4bit=True,\n",
        "    bnb_4bit_use_double_quant=True,\n",
        "    bnb_4bit_quant_type=\"nf4\",\n",
        "    bnb_4bit_compute_dtype=torch.bfloat16\n",
        ")\n",
        "model = LlamaForCausalLM.from_pretrained(\n",
        "    model_id, \n",
        "    quantization_config=bnb_config, \n",
        "    # device_map='auto',\n",
        "    device_map={\"\":DEVICE},\n",
        "    cache_dir='/home/public_models'\n",
        ")"
      ]
    },
    {
      "cell_type": "code",
      "execution_count": 5,
      "metadata": {},
      "outputs": [],
      "source": [
        "import bitsandbytes as bnb\n",
        "\n",
        "def find_all_linear_names(model):\n",
        "    cls = bnb.nn.Linear4bit\n",
        "    # cls = bnb.nn.Linear4bit if args.bits == 4 else (bnb.nn.Linear8bitLt if args.bits == 8 else torch.nn.Linear)\n",
        "    lora_module_names = set()\n",
        "    for name, module in model.named_modules():\n",
        "        if isinstance(module, cls):\n",
        "            names = name.split('.')\n",
        "            lora_module_names.add(names[0] if len(names) == 1 else names[-1])\n",
        "\n",
        "    if 'lm_head' in lora_module_names: # needed for 16-bit\n",
        "        lora_module_names.remove('lm_head')\n",
        "    return list(lora_module_names)"
      ]
    },
    {
      "cell_type": "code",
      "execution_count": 6,
      "metadata": {},
      "outputs": [],
      "source": [
        "if USE_FINETUNED:\n",
        "    from peft import (\n",
        "        LoraConfig,\n",
        "        get_peft_model,\n",
        "        get_peft_model_state_dict,\n",
        "        prepare_model_for_kbit_training,\n",
        "        set_peft_model_state_dict,\n",
        "    )\n",
        "    lora_target_modules= find_all_linear_names(model)\n",
        "    # lora_target_modules= [\n",
        "    #     \"q_proj\",\n",
        "    #     \"v_proj\",\n",
        "    #     # \"k_proj\",\n",
        "    #     # \"o_proj\",\n",
        "    # ]\n",
        "\n",
        "    config = LoraConfig(\n",
        "        r=lora_r,\n",
        "        lora_alpha=16,\n",
        "        target_modules=lora_target_modules,\n",
        "        lora_dropout=0.05,\n",
        "        bias=\"none\",\n",
        "        task_type=\"CAUSAL_LM\",\n",
        "    )\n",
        "    model = get_peft_model(model, config)\n",
        "    set_peft_model_state_dict(model, torch.load(checkpoint_name, map_location=torch.device(f\"cuda:{DEVICE}\")))"
      ]
    },
    {
      "cell_type": "code",
      "execution_count": 7,
      "metadata": {},
      "outputs": [],
      "source": [
        "model.eval()\n",
        "model.config.use_cache = True  # silence the warnings. Please re-enable for inference!"
      ]
    },
    {
      "cell_type": "code",
      "execution_count": 8,
      "metadata": {},
      "outputs": [],
      "source": [
        "# #Load from saved\n",
        "# from peft import PeftModel\n",
        "# model = PeftModel.from_pretrained(model, '/lora-alpaca-MG-30b/')"
      ]
    },
    {
      "cell_type": "code",
      "execution_count": 33,
      "metadata": {},
      "outputs": [
        {
          "name": "stdout",
          "output_type": "stream",
          "text": [
            "CDDCESM fixed1.3\n"
          ]
        }
      ],
      "source": [
        "import pandas as pd\n",
        "\n",
        "if DATASET == 'SNUH_test':\n",
        "    data_path = '/home/data/SNUH_Mammo/0518/MGLabler_test_data_v5.xlsx'\n",
        "    data = pd.read_excel(data_path)\n",
        "elif DATASET == 'CDDCESM':\n",
        "    data_path = '/home/data/CDD-CESM/CDD-CESM_reports_w_label_wo_CESM_fixed1.3.xlsx'\n",
        "    data = pd.read_excel(data_path)\n",
        "elif DATASET == 'SNUH_train':\n",
        "    data_path = '/home/data/SNUH_Mammo/0518/MGLabler_training_data_labeled_v2.2.xlsx'\n",
        "    data = pd.read_excel(data_path)\n",
        "\n",
        "elif DATASET == 'SNUH_all':\n",
        "    data_path = '/home/data/SNUH_Mammo/0518/mammo_screening0531_w_processedFinding_prior.csv'\n",
        "    data = pd.read_csv(data_path)\n",
        "\n",
        "version = data_path.split('_')[-1][:-5]\n",
        "print(DATASET, version)"
      ]
    },
    {
      "cell_type": "code",
      "execution_count": 10,
      "metadata": {},
      "outputs": [],
      "source": [
        "# import pandas as pd\n",
        "# # data = pd.read_csv('/home/data/SNUH_Mammo/0518/mammo_screening0531_w_processedFinding_prior.csv')\n",
        "# data = pd.read_excel('/home/data/SNUH_Mammo/0518/MGLabler_training_data_labeled_v1.xlsx')"
      ]
    },
    {
      "cell_type": "code",
      "execution_count": 11,
      "metadata": {},
      "outputs": [],
      "source": [
        "if not USE_FINETUNED:\n",
        "    import json\n",
        "    import random\n",
        "    random.seed(1125)\n",
        "\n",
        "    train_path = '/home/data/SNUH_Mammo/0518/MG_training_data_labeled_v3.2_w_inst.json'\n",
        "    with open(train_path, \"r\", encoding=\"utf-8-sig\") as f:\n",
        "        train = json.load(f)"
      ]
    },
    {
      "cell_type": "code",
      "execution_count": 34,
      "metadata": {},
      "outputs": [],
      "source": [
        "instruction = open('/home/workspace/lora_finetune/alpaca-lora/mg_labeler_instruction_prompt.txt', 'r').read()\n",
        "bars='-'*10\n",
        "if USE_FINETUNED:\n",
        "    prompt = [f\"Below is an instruction that describes a task, paired with an input that provides further context. Write a response that appropriately completes the request.\\n\\n### Instruction:\\n{instruction}\\n\\n### Input: {f}\\n\\n### Response:\" for f in data['processed_finding']]\n",
        "elif N_SHOT>0: \n",
        "    instruction = instruction[:-1] + f\" like {N_SHOT} examples below.\"\n",
        "\n",
        "    prompt = []\n",
        "    for f in data['processed_finding']:\n",
        "        eg = random.sample(train, k=N_SHOT)\n",
        "        examples = \"\"\n",
        "        for k in range(N_SHOT):\n",
        "            text = f\"\"\"Example{k+1}: ### Input: {eg[k]['input']}\\n### Response: {eg[k]['output']}\"\"\"\n",
        "            examples += text + \"\\n\"\n",
        "\n",
        "        # pt = f\"\"\"Below is an instruction that describes a task, paired with an input that provides further context. Write a response that appropriately completes the request.\\n\\n### Instruction:\\n{instruction}\\n\\n{examples}\\n\\n### Input: {f}\\n### Response:\"\"\"\n",
        "        pt = f\"\"\"Below is an instruction that describes a task, paired with an input that provides further context. Write a response that appropriately completes the request.\\n\\n### Instruction:{instruction}\\n\\n{bars}\\n{examples}{bars}\\n\\nHere is the report that I want you to extract lesion information.\\n### Input: {f}\\n### Response:\"\"\"\n",
        "\n",
        "        prompt.append(pt)\n",
        "else:\n",
        "    # zero-shot prompt\n",
        "    prompt = []\n",
        "    for f in data['processed_finding']:      \n",
        "        pt = \"\"\"As an AI trained in analyzing radiology reports, your task is to classify the presence or absence of specific findings in each report. Respond according to the given template. \n",
        "\n",
        "Requirements:\n",
        "1. Provide the lesion's location as 'right', 'left' or 'both'(i.e, right and left) if the lesion is explicitly mentioned as present.\n",
        "2. Provide 'obscure' if the information is incomplete.\n",
        "3. Default to 'x' if the finding is not mentioned.\n",
        "\n",
        "Template:\n",
        "{\n",
        "'Nodule': '[ANSWER]',\n",
        "'Mass': '[ANSWER]',\n",
        "'Calcification': '[ANSWER]',\n",
        "'Asymmetry': '[ANSWER]',\n",
        "'Architectural Distortion': '[ANSWER]',\n",
        "'Skin Thickening': '[ANSWER]',\n",
        "'Lymph Node Enlargement': '[ANSWER]',\n",
        "'Intramammary Lymph Node': '[ANSWER]',\n",
        "'Nipple Retraction': '[ANSWER]',\n",
        "'Skin Retraction': '[ANSWER]',\n",
        "'Trabecular Thickening': '[ANSWER]',\n",
        "}\n",
        "\n",
        "Report:\n",
        "\"\"\" + f + \"\"\"\n",
        "\n",
        "Answer according to the template:\n",
        "{\n",
        "'Nodule': '\"\"\"\n",
        "        prompt.append(pt)"
      ]
    },
    {
      "cell_type": "code",
      "execution_count": 13,
      "metadata": {},
      "outputs": [],
      "source": [
        "def post_process_llama_label(text, is_zeroshot=False):\n",
        "    if is_zeroshot == False:\n",
        "        text = text.split('### Response:')[-1]\n",
        "    elif is_zeroshot:\n",
        "        text = text.split('Answer according to the template:')[-1]\n",
        "        text = text.split(\"}\")[0]+'}'\n",
        "        text = text.replace('\\n','')\n",
        "        \n",
        "    text = text.replace('right','r')\n",
        "    text = text.replace('left', 'l')\n",
        "    text = text.replace('both', 'b')\n",
        "    text = text.replace('obscure', 'o')\n",
        "    return text.strip()"
      ]
    },
    {
      "cell_type": "code",
      "execution_count": 35,
      "metadata": {},
      "outputs": [
        {
          "name": "stdout",
          "output_type": "stream",
          "text": [
            "As an AI trained in analyzing radiology reports, your task is to classify the presence or absence of specific findings in each report. Respond according to the given template. \n",
            "\n",
            "Requirements:\n",
            "1. Provide the lesion's location as 'right', 'left' or 'both'(i.e, right and left) if the lesion is explicitly mentioned as present.\n",
            "2. Provide 'obscure' if the information is incomplete.\n",
            "3. Default to 'x' if the finding is not mentioned.\n",
            "\n",
            "Template:\n",
            "{\n",
            "'Nodule': '[ANSWER]',\n",
            "'Mass': '[ANSWER]',\n",
            "'Calcification': '[ANSWER]',\n",
            "'Asymmetry': '[ANSWER]',\n",
            "'Architectural Distortion': '[ANSWER]',\n",
            "'Skin Thickening': '[ANSWER]',\n",
            "'Lymph Node Enlargement': '[ANSWER]',\n",
            "'Intramammary Lymph Node': '[ANSWER]',\n",
            "'Nipple Retraction': '[ANSWER]',\n",
            "'Skin Retraction': '[ANSWER]',\n",
            "'Trabecular Thickening': '[ANSWER]',\n",
            "}\n",
            "\n",
            "Report:\n",
            "Left Breast:  Upper architectural distortion is seen.  No suspicious microcalcifications.  Normal skin thickness and contour of breast.      OPINION:  Left Breast:  Upper architectural distortion (BIRADS 4).                              \n",
            "\n",
            "Answer according to the template:\n",
            "{\n",
            "'Nodule': '\n"
          ]
        }
      ],
      "source": [
        "print(prompt[0])"
      ]
    },
    {
      "cell_type": "code",
      "execution_count": 36,
      "metadata": {},
      "outputs": [],
      "source": [
        "default_dict={'N': 'o',\n",
        " 'M': 'o',\n",
        " 'C': 'o',\n",
        " 'A': 'o',\n",
        " 'AD': 'o',\n",
        " 'ST': 'o',\n",
        " 'LNE': 'o',\n",
        " 'ILN': 'o',\n",
        " 'NR': 'o',\n",
        " 'SR': 'o',\n",
        " 'TT': 'o'}\n",
        "def generate_label(model, batch, is_zeroshot=False):\n",
        "    max_new_tokens = 70\n",
        "    if is_zeroshot:\n",
        "        max_new_tokens = 140\n",
        "    with torch.no_grad():\n",
        "        generated_ids = model.generate(\n",
        "                            **tokenizer(batch, \n",
        "                                return_tensors='pt', \n",
        "                                return_token_type_ids=False, \n",
        "                                truncation=False, \n",
        "                                padding=True, \n",
        "                                # max_length=2048\n",
        "                                # max_length=512\n",
        "                            ).to('cuda'),\n",
        "                            # max_new_tokens=2048,\n",
        "                            max_new_tokens=max_new_tokens,\n",
        "                            early_stopping=True,\n",
        "                            do_sample=False,\n",
        "                            eos_token_id=2,\n",
        "                            )\n",
        "        \n",
        "    generated_texts = tokenizer.batch_decode(generated_ids, skip_special_tokens=True)\n",
        "    print(generated_texts)\n",
        "    generated_dict = []\n",
        "    for t in generated_texts:\n",
        "        try:\n",
        "            generated_label = eval(post_process_llama_label(t, is_zeroshot))\n",
        "        except:\n",
        "            generated_label = default_dict\n",
        "\n",
        "        if type(generated_label) == dict:\n",
        "            generated_dict.append(generated_label)\n",
        "        else:\n",
        "            generated_dict.append(default_dict)\n",
        "\n",
        "    # generated_dict = [eval(post_process_llama_label(t))for t in generated_texts]\n",
        "    return generated_dict    "
      ]
    },
    {
      "cell_type": "code",
      "execution_count": 37,
      "metadata": {},
      "outputs": [],
      "source": [
        "def divide_batch(l:list, batch_size):\n",
        "    for i in range(0, len(l), batch_size): \n",
        "        yield l[i:i + batch_size]"
      ]
    },
    {
      "cell_type": "code",
      "execution_count": 38,
      "metadata": {},
      "outputs": [],
      "source": [
        "batchs = list(divide_batch(prompt, batch_size=BATCH_SZ)) ## 왜 제일 앞  29개 뻈지? "
      ]
    },
    {
      "cell_type": "code",
      "execution_count": 39,
      "metadata": {},
      "outputs": [
        {
          "name": "stderr",
          "output_type": "stream",
          "text": [
            "  0%|          | 0/163 [00:00<?, ?it/s]/opt/conda/lib/python3.10/site-packages/transformers/generation/configuration_utils.py:399: UserWarning: `num_beams` is set to 1. However, `early_stopping` is set to `True` -- this flag is only used in beam-based generation modes. You should set `num_beams>1` or unset `early_stopping`.\n",
            "  warnings.warn(\n",
            "  1%|          | 1/163 [02:14<6:04:03, 134.84s/it]"
          ]
        },
        {
          "name": "stdout",
          "output_type": "stream",
          "text": [
            "[\"As an AI trained in analyzing radiology reports, your task is to classify the presence or absence of specific findings in each report. Respond according to the given template. \\n\\nRequirements:\\n1. Provide the lesion's location as 'right', 'left' or 'both'(i.e, right and left) if the lesion is explicitly mentioned as present.\\n2. Provide 'obscure' if the information is incomplete.\\n3. Default to 'x' if the finding is not mentioned.\\n\\nTemplate:\\n{\\n'Nodule': '[ANSWER]',\\n'Mass': '[ANSWER]',\\n'Calcification': '[ANSWER]',\\n'Asymmetry': '[ANSWER]',\\n'Architectural Distortion': '[ANSWER]',\\n'Skin Thickening': '[ANSWER]',\\n'Lymph Node Enlargement': '[ANSWER]',\\n'Intramammary Lymph Node': '[ANSWER]',\\n'Nipple Retraction': '[ANSWER]',\\n'Skin Retraction': '[ANSWER]',\\n'Trabecular Thickening': '[ANSWER]',\\n}\\n\\nReport:\\nLeft Breast:  Upper architectural distortion is seen.  No suspicious microcalcifications.  Normal skin thickness and contour of breast.      OPINION:  Left Breast:  Upper architectural distortion (BIRADS 4).                              \\n\\nAnswer according to the template:\\n{\\n'Nodule': 'x',\\n'Mass': 'x',\\n'Calcification': 'x',\\n'Asymmetry': 'x',\\n'Architectural Distortion': 'left',\\n'Skin Thickening': 'x',\\n'Lymph Node Enlargement': 'x',\\n'Intramammary Lymph Node': 'x',\\n'Nipple Retraction': 'x',\\n'Skin Retraction': 'x',\\n'Trabecular Thickening': 'x',\\n}\\n\\n\\n\\n\\n\\n\\n\\n\\n\\n\\n\\n\\n\\n\\n\\n\\n\\n\\n\\n\\n\\n\\n\\n\", 'As an AI trained in analyzing radiology reports, your task is to classify the presence or absence of specific findings in each report. Respond according to the given template. \\n\\nRequirements:\\n1. Provide the lesion\\'s location as \\'right\\', \\'left\\' or \\'both\\'(i.e, right and left) if the lesion is explicitly mentioned as present.\\n2. Provide \\'obscure\\' if the information is incomplete.\\n3. Default to \\'x\\' if the finding is not mentioned.\\n\\nTemplate:\\n{\\n\\'Nodule\\': \\'[ANSWER]\\',\\n\\'Mass\\': \\'[ANSWER]\\',\\n\\'Calcification\\': \\'[ANSWER]\\',\\n\\'Asymmetry\\': \\'[ANSWER]\\',\\n\\'Architectural Distortion\\': \\'[ANSWER]\\',\\n\\'Skin Thickening\\': \\'[ANSWER]\\',\\n\\'Lymph Node Enlargement\\': \\'[ANSWER]\\',\\n\\'Intramammary Lymph Node\\': \\'[ANSWER]\\',\\n\\'Nipple Retraction\\': \\'[ANSWER]\\',\\n\\'Skin Retraction\\': \\'[ANSWER]\\',\\n\\'Trabecular Thickening\\': \\'[ANSWER]\\',\\n}\\n\\nReport:\\nRight Breast:  ACR C: Heterogeneously dense breasts.  Upper outer quadrant benign macrocalifications.  No suspicious microcalcifications.  Multiple lower and central inner equal density rounded and oval shaped masses are seen, some of them show circumscribed margin and others show obscured margin.  Normal skin thickness and contour of breast.    Left Breast:  Status postoperative with flap reconstruction showing no speculated mass lesions or suspicious microcalcifications.  Normal skin thickness.          OPINION:      Right Breast:  Multiple lower and central inner rounded and oval shaped benign looking homogenously enhancing masses with circumscribed margin (BIRADS 3).  Upper outer quadrant benign macrocalifications (BIRADS 2).    Left Breast:  Status postoperative with flap reconstruction showing no evidence of recurrent lesions (BIRADS 2).            \\n\\nAnswer according to the template:\\n{\\n\\'Nodule\\': \\'obscure\\',\\n\\'Mass\\': \\'both\\',\\n\\'Calcification\\': \\'right\\',\\n\\'Asymmetry\\': \\'obscure\\',\\n\\'Architectural Distortion\\': \\'obscure\\',\\n\\'Skin Thickening\\': \\'obscure\\',\\n\\'Lymph Node Enlargement\\': \\'obscure\\',\\n\\'Intramammary Lymph Node\\': \\'obscure\\',\\n\\'Nipple Retraction\\': \\'obscure\\',\\n\\'Skin Retraction\\': \\'obscure\\',\\n\\'Trabecular Thickening\\': \\'obscure\\',\\n}\\n\\n\"\"\"\\n\\n']\n"
          ]
        },
        {
          "name": "stderr",
          "output_type": "stream",
          "text": [
            "  1%|          | 2/163 [04:29<6:01:39, 134.78s/it]"
          ]
        },
        {
          "name": "stdout",
          "output_type": "stream",
          "text": [
            "[\"As an AI trained in analyzing radiology reports, your task is to classify the presence or absence of specific findings in each report. Respond according to the given template. \\n\\nRequirements:\\n1. Provide the lesion's location as 'right', 'left' or 'both'(i.e, right and left) if the lesion is explicitly mentioned as present.\\n2. Provide 'obscure' if the information is incomplete.\\n3. Default to 'x' if the finding is not mentioned.\\n\\nTemplate:\\n{\\n'Nodule': '[ANSWER]',\\n'Mass': '[ANSWER]',\\n'Calcification': '[ANSWER]',\\n'Asymmetry': '[ANSWER]',\\n'Architectural Distortion': '[ANSWER]',\\n'Skin Thickening': '[ANSWER]',\\n'Lymph Node Enlargement': '[ANSWER]',\\n'Intramammary Lymph Node': '[ANSWER]',\\n'Nipple Retraction': '[ANSWER]',\\n'Skin Retraction': '[ANSWER]',\\n'Trabecular Thickening': '[ANSWER]',\\n}\\n\\nReport:\\nRight Breast:  No speculated mass lesions or suspicious microcalcifications.  Retroareolar increased density that is tubular in shape likely dilated duct.  Normal skin thickness and contour of breast.    Left Breast:  Lower inner quadrant high density irregular shaped mass with speculated margin is seen.  No suspicious microcalcifications.  Normal skin thickness and contour of breast.      OPINION:  Right Breast:  Dilated retroareolar duct (BIRADS 2).    Left Breast:  Lower inner malignant looking mass (BIRADS 5).                  \\n\\nAnswer according to the template:\\n{\\n'Nodule': 'left',\\n'Mass': 'left',\\n'Calcification': 'x',\\n'Asymmetry': 'x',\\n'Architectural Distortion': 'x',\\n'Skin Thickening': 'x',\\n'Lymph Node Enlargement': 'x',\\n'Intramammary Lymph Node': 'x',\\n'Nipple Retraction': 'x',\\n'Skin Retraction': 'x',\\n'Trabecular Thickening': 'x',\\n}\\n\\n\\n\\n\\n\\n\\n\\n\\n\\n\\n\\n\\n\\n\\n\\n\\n\\n\\n\\n\\n\\n\\n\\n\", \"As an AI trained in analyzing radiology reports, your task is to classify the presence or absence of specific findings in each report. Respond according to the given template. \\n\\nRequirements:\\n1. Provide the lesion's location as 'right', 'left' or 'both'(i.e, right and left) if the lesion is explicitly mentioned as present.\\n2. Provide 'obscure' if the information is incomplete.\\n3. Default to 'x' if the finding is not mentioned.\\n\\nTemplate:\\n{\\n'Nodule': '[ANSWER]',\\n'Mass': '[ANSWER]',\\n'Calcification': '[ANSWER]',\\n'Asymmetry': '[ANSWER]',\\n'Architectural Distortion': '[ANSWER]',\\n'Skin Thickening': '[ANSWER]',\\n'Lymph Node Enlargement': '[ANSWER]',\\n'Intramammary Lymph Node': '[ANSWER]',\\n'Nipple Retraction': '[ANSWER]',\\n'Skin Retraction': '[ANSWER]',\\n'Trabecular Thickening': '[ANSWER]',\\n}\\n\\nReport:\\nRight Breast:  No speculated mass lesions or suspicious microcalcifications.  Normal skin thickness and contour of breast.    Left Breast:  No speculated mass lesions or suspicious microcalcifications.  Normal skin thickness and contour of breast.      OPINION:  Right Breast:  Normal breast examination (BIRADS 1).    Left Breast:  Normal breast examination (BIRADS 1).                            \\n\\nAnswer according to the template:\\n{\\n'Nodule': 'obscure',\\n'Mass': 'obscure',\\n'Calcification': 'obscure',\\n'Asymmetry': 'obscure',\\n'Architectural Distortion': 'obscure',\\n'Skin Thickening': 'obscure',\\n'Lymph Node Enlargement': 'obscure',\\n'Intramammary Lymph Node': 'obscure',\\n'Nipple Retraction': 'obscure',\\n'Skin Retraction': 'obscure',\\n'Trabecular Thickening': 'obscure',\\n}\\n\\n\"]\n"
          ]
        },
        {
          "name": "stderr",
          "output_type": "stream",
          "text": [
            "  2%|▏         | 3/163 [06:44<5:59:11, 134.70s/it]"
          ]
        },
        {
          "name": "stdout",
          "output_type": "stream",
          "text": [
            "[\"As an AI trained in analyzing radiology reports, your task is to classify the presence or absence of specific findings in each report. Respond according to the given template. \\n\\nRequirements:\\n1. Provide the lesion's location as 'right', 'left' or 'both'(i.e, right and left) if the lesion is explicitly mentioned as present.\\n2. Provide 'obscure' if the information is incomplete.\\n3. Default to 'x' if the finding is not mentioned.\\n\\nTemplate:\\n{\\n'Nodule': '[ANSWER]',\\n'Mass': '[ANSWER]',\\n'Calcification': '[ANSWER]',\\n'Asymmetry': '[ANSWER]',\\n'Architectural Distortion': '[ANSWER]',\\n'Skin Thickening': '[ANSWER]',\\n'Lymph Node Enlargement': '[ANSWER]',\\n'Intramammary Lymph Node': '[ANSWER]',\\n'Nipple Retraction': '[ANSWER]',\\n'Skin Retraction': '[ANSWER]',\\n'Trabecular Thickening': '[ANSWER]',\\n}\\n\\nReport:\\nRight Breast:  No speculated mass lesions or suspicious microcalcifications.  Normal skin thickness and contour of breast.    Left Breast:  No speculated mass lesions or suspicious microcalcifications.  Normal skin thickness and contour of breast.      OPINION:  Right Breast:  Normal breast examination (BIRADS 1).    Left Breast:  Normal breast examination (BIRADS 1).                            \\n\\nAnswer according to the template:\\n{\\n'Nodule': 'obscure',\\n'Mass': 'obscure',\\n'Calcification': 'obscure',\\n'Asymmetry': 'obscure',\\n'Architectural Distortion': 'obscure',\\n'Skin Thickening': 'obscure',\\n'Lymph Node Enlargement': 'obscure',\\n'Intramammary Lymph Node': 'obscure',\\n'Nipple Retraction': 'obscure',\\n'Skin Retraction': 'obscure',\\n'Trabecular Thickening': 'obscure',\\n}\\n\\n\", 'As an AI trained in analyzing radiology reports, your task is to classify the presence or absence of specific findings in each report. Respond according to the given template. \\n\\nRequirements:\\n1. Provide the lesion\\'s location as \\'right\\', \\'left\\' or \\'both\\'(i.e, right and left) if the lesion is explicitly mentioned as present.\\n2. Provide \\'obscure\\' if the information is incomplete.\\n3. Default to \\'x\\' if the finding is not mentioned.\\n\\nTemplate:\\n{\\n\\'Nodule\\': \\'[ANSWER]\\',\\n\\'Mass\\': \\'[ANSWER]\\',\\n\\'Calcification\\': \\'[ANSWER]\\',\\n\\'Asymmetry\\': \\'[ANSWER]\\',\\n\\'Architectural Distortion\\': \\'[ANSWER]\\',\\n\\'Skin Thickening\\': \\'[ANSWER]\\',\\n\\'Lymph Node Enlargement\\': \\'[ANSWER]\\',\\n\\'Intramammary Lymph Node\\': \\'[ANSWER]\\',\\n\\'Nipple Retraction\\': \\'[ANSWER]\\',\\n\\'Skin Retraction\\': \\'[ANSWER]\\',\\n\\'Trabecular Thickening\\': \\'[ANSWER]\\',\\n}\\n\\nReport:\\nRight Breast:  Inner benign macrocalcifications.  No speculated mass lesions or suspicious microcalcifications.  Normal skin thickness and contour of breast.    Left Breast:  Upper high density oval shaped mass with indistinct margin is seen.  No suspicious microcalcifications.  Normal skin thickness and contour of breast.      OPINION:  Right Breast:  Benign macrocalcifications (BIRADS 2).    Left Breast:  Upper suspicious looking mass (BIRADS 4).                    \\n\\nAnswer according to the template:\\n{\\n\\'Nodule\\': \\'left\\',\\n\\'Mass\\': \\'left\\',\\n\\'Calcification\\': \\'right\\',\\n\\'Asymmetry\\': \\'obscure\\',\\n\\'Architectural Distortion\\': \\'x\\',\\n\\'Skin Thickening\\': \\'both\\',\\n\\'Lymph Node Enlargement\\': \\'x\\',\\n\\'Intramammary Lymph Node\\': \\'x\\',\\n\\'Nipple Retraction\\': \\'x\\',\\n\\'Skin Retraction\\': \\'both\\',\\n\\'Trabecular Thickening\\': \\'x\\',\\n}\\n\\n\\n\"\"\"\\n\\nimport os\\nimport json\\nimport numpy as np\\nimport pandas as pd']\n"
          ]
        },
        {
          "name": "stderr",
          "output_type": "stream",
          "text": [
            "  2%|▏         | 4/163 [08:58<5:56:50, 134.66s/it]"
          ]
        },
        {
          "name": "stdout",
          "output_type": "stream",
          "text": [
            "[\"As an AI trained in analyzing radiology reports, your task is to classify the presence or absence of specific findings in each report. Respond according to the given template. \\n\\nRequirements:\\n1. Provide the lesion's location as 'right', 'left' or 'both'(i.e, right and left) if the lesion is explicitly mentioned as present.\\n2. Provide 'obscure' if the information is incomplete.\\n3. Default to 'x' if the finding is not mentioned.\\n\\nTemplate:\\n{\\n'Nodule': '[ANSWER]',\\n'Mass': '[ANSWER]',\\n'Calcification': '[ANSWER]',\\n'Asymmetry': '[ANSWER]',\\n'Architectural Distortion': '[ANSWER]',\\n'Skin Thickening': '[ANSWER]',\\n'Lymph Node Enlargement': '[ANSWER]',\\n'Intramammary Lymph Node': '[ANSWER]',\\n'Nipple Retraction': '[ANSWER]',\\n'Skin Retraction': '[ANSWER]',\\n'Trabecular Thickening': '[ANSWER]',\\n}\\n\\nReport:\\nRight Breast:  No speculated mass lesions or suspicious microcalcifications.  Normal skin thickness and contour of breast.    Left Breast:  Upper high density irregular shaped mass with speculated margin is seen.  It is seen reaching to the skin with focal indentation as well as retracting the nipple.      OPINION:  Right Breast:  Normal breast examination (BIRADS 1).    Left Breast:  Upper malignant looking mass with focal skin and nipple retraction (BIRADS 5).                      \\n\\nAnswer according to the template:\\n{\\n'Nodule': 'left',\\n'Mass': 'left',\\n'Calcification': 'x',\\n'Asymmetry': 'left',\\n'Architectural Distortion': 'x',\\n'Skin Thickening': 'left',\\n'Lymph Node Enlargement': 'x',\\n'Intramammary Lymph Node': 'x',\\n'Nipple Retraction': 'left',\\n'Skin Retraction': 'left',\\n'Trabecular Thickening': 'x',\\n}\\n\\n\\n\\n\\n\\n\\n\\n\\n\\n\\n\\n\\n\\n\\n\\n\\n\\n\\n\\n\\n\\n\\n\\n\", \"As an AI trained in analyzing radiology reports, your task is to classify the presence or absence of specific findings in each report. Respond according to the given template. \\n\\nRequirements:\\n1. Provide the lesion's location as 'right', 'left' or 'both'(i.e, right and left) if the lesion is explicitly mentioned as present.\\n2. Provide 'obscure' if the information is incomplete.\\n3. Default to 'x' if the finding is not mentioned.\\n\\nTemplate:\\n{\\n'Nodule': '[ANSWER]',\\n'Mass': '[ANSWER]',\\n'Calcification': '[ANSWER]',\\n'Asymmetry': '[ANSWER]',\\n'Architectural Distortion': '[ANSWER]',\\n'Skin Thickening': '[ANSWER]',\\n'Lymph Node Enlargement': '[ANSWER]',\\n'Intramammary Lymph Node': '[ANSWER]',\\n'Nipple Retraction': '[ANSWER]',\\n'Skin Retraction': '[ANSWER]',\\n'Trabecular Thickening': '[ANSWER]',\\n}\\n\\nReport:\\nLeft Breast:  Lower benign marocalifications.  No speculated mass lesions or suspicious microcalcifications.  Normal skin thickness and contour of breast.      OPINION:    Left Breast:  Benign macrocalcifications (BIRADS 2).                              \\n\\nAnswer according to the template:\\n{\\n'Nodule': 'obscure',\\n'Mass': 'obscure',\\n'Calcification': 'left',\\n'Asymmetry': 'x',\\n'Architectural Distortion': 'x',\\n'Skin Thickening': 'x',\\n'Lymph Node Enlargement': 'x',\\n'Intramammary Lymph Node': 'x',\\n'Nipple Retraction': 'x',\\n'Skin Retraction': 'x',\\n'Trabecular Thickening': 'x',\\n}\\n\\nReport:\\nLeft Breast:  Lower benign marocalifications.  No spec\"]\n"
          ]
        },
        {
          "name": "stderr",
          "output_type": "stream",
          "text": [
            "  3%|▎         | 5/163 [11:13<5:54:36, 134.66s/it]"
          ]
        },
        {
          "name": "stdout",
          "output_type": "stream",
          "text": [
            "[\"As an AI trained in analyzing radiology reports, your task is to classify the presence or absence of specific findings in each report. Respond according to the given template. \\n\\nRequirements:\\n1. Provide the lesion's location as 'right', 'left' or 'both'(i.e, right and left) if the lesion is explicitly mentioned as present.\\n2. Provide 'obscure' if the information is incomplete.\\n3. Default to 'x' if the finding is not mentioned.\\n\\nTemplate:\\n{\\n'Nodule': '[ANSWER]',\\n'Mass': '[ANSWER]',\\n'Calcification': '[ANSWER]',\\n'Asymmetry': '[ANSWER]',\\n'Architectural Distortion': '[ANSWER]',\\n'Skin Thickening': '[ANSWER]',\\n'Lymph Node Enlargement': '[ANSWER]',\\n'Intramammary Lymph Node': '[ANSWER]',\\n'Nipple Retraction': '[ANSWER]',\\n'Skin Retraction': '[ANSWER]',\\n'Trabecular Thickening': '[ANSWER]',\\n}\\n\\nReport:\\nLeft Breast:  Lower benign marocalcifications.  No speculated mass lesions or suspicious microcalcifications.  Normal skin thickness and contour of breast.      OPINION:    Left Breast:  Benign macrocalcifications (BIRADS 2).                              \\n\\nAnswer according to the template:\\n{\\n'Nodule': 'obscure',\\n'Mass': 'obscure',\\n'Calcification': 'left',\\n'Asymmetry': 'x',\\n'Architectural Distortion': 'x',\\n'Skin Thickening': 'x',\\n'Lymph Node Enlargement': 'x',\\n'Intramammary Lymph Node': 'x',\\n'Nipple Retraction': 'x',\\n'Skin Retraction': 'x',\\n'Trabecular Thickening': 'x',\\n}\\n\\nReport:\\nLeft Breast:  Lower benign marocalcifications.  No\", \"As an AI trained in analyzing radiology reports, your task is to classify the presence or absence of specific findings in each report. Respond according to the given template. \\n\\nRequirements:\\n1. Provide the lesion's location as 'right', 'left' or 'both'(i.e, right and left) if the lesion is explicitly mentioned as present.\\n2. Provide 'obscure' if the information is incomplete.\\n3. Default to 'x' if the finding is not mentioned.\\n\\nTemplate:\\n{\\n'Nodule': '[ANSWER]',\\n'Mass': '[ANSWER]',\\n'Calcification': '[ANSWER]',\\n'Asymmetry': '[ANSWER]',\\n'Architectural Distortion': '[ANSWER]',\\n'Skin Thickening': '[ANSWER]',\\n'Lymph Node Enlargement': '[ANSWER]',\\n'Intramammary Lymph Node': '[ANSWER]',\\n'Nipple Retraction': '[ANSWER]',\\n'Skin Retraction': '[ANSWER]',\\n'Trabecular Thickening': '[ANSWER]',\\n}\\n\\nReport:\\nRight Breast:  Status postoperative showing operative scar and edema.  No speculated mass lesions or suspicious microcalcifications.    Left Breast:  ACR C: Heterogeneously dense breast.  No speculated mass lesions or suspicious microcalcifications.  Normal skin thickness and contour of breast.      OPINION:  Right Breast:  Status post operative with operative scar and edema showing no evidence of recurrent lesions (BIRADS 2).    Left Breast:  Normal breast examination (BIRADS 1).                      \\n\\nAnswer according to the template:\\n{\\n'Nodule': 'obscure',\\n'Mass': 'obscure',\\n'Calcification': 'obscure',\\n'Asymmetry': 'obscure',\\n'Architectural Distortion': 'obscure',\\n'Skin Thickening': 'obscure',\\n'Lymph Node Enlargement': 'obscure',\\n'Intramammary Lymph Node': 'obscure',\\n'Nipple Retraction': 'obscure',\\n'Skin Retraction': 'obscure',\\n'Trabecular Thickening': 'obscure',\\n}\\n\\n\"]\n"
          ]
        },
        {
          "name": "stderr",
          "output_type": "stream",
          "text": [
            "  4%|▎         | 6/163 [13:28<5:52:23, 134.67s/it]"
          ]
        },
        {
          "name": "stdout",
          "output_type": "stream",
          "text": [
            "[\"As an AI trained in analyzing radiology reports, your task is to classify the presence or absence of specific findings in each report. Respond according to the given template. \\n\\nRequirements:\\n1. Provide the lesion's location as 'right', 'left' or 'both'(i.e, right and left) if the lesion is explicitly mentioned as present.\\n2. Provide 'obscure' if the information is incomplete.\\n3. Default to 'x' if the finding is not mentioned.\\n\\nTemplate:\\n{\\n'Nodule': '[ANSWER]',\\n'Mass': '[ANSWER]',\\n'Calcification': '[ANSWER]',\\n'Asymmetry': '[ANSWER]',\\n'Architectural Distortion': '[ANSWER]',\\n'Skin Thickening': '[ANSWER]',\\n'Lymph Node Enlargement': '[ANSWER]',\\n'Intramammary Lymph Node': '[ANSWER]',\\n'Nipple Retraction': '[ANSWER]',\\n'Skin Retraction': '[ANSWER]',\\n'Trabecular Thickening': '[ANSWER]',\\n}\\n\\nReport:\\nRight Breast:  Upper outer equal density oval shaped mass with partially obscured margin is seen.  No suspicious microcalcifications.  Normal skin thickness and contour of breast.        OPINION:  Right Breast:  Upper outer benign looking mass (BIRADS 3).                              \\n\\nAnswer according to the template:\\n{\\n'Nodule': 'right',\\n'Mass': 'right',\\n'Calcification': 'obscure',\\n'Asymmetry': 'x',\\n'Architectural Distortion': 'x',\\n'Skin Thickening': 'x',\\n'Lymph Node Enlargement': 'x',\\n'Intramammary Lymph Node': 'x',\\n'Nipple Retraction': 'x',\\n'Skin Retraction': 'x',\\n'Trabecular Thickening': 'x',\\n}\\n\\nReport:\\nLeft Breast:  No mass, calcification, architectural distortion,\", \"As an AI trained in analyzing radiology reports, your task is to classify the presence or absence of specific findings in each report. Respond according to the given template. \\n\\nRequirements:\\n1. Provide the lesion's location as 'right', 'left' or 'both'(i.e, right and left) if the lesion is explicitly mentioned as present.\\n2. Provide 'obscure' if the information is incomplete.\\n3. Default to 'x' if the finding is not mentioned.\\n\\nTemplate:\\n{\\n'Nodule': '[ANSWER]',\\n'Mass': '[ANSWER]',\\n'Calcification': '[ANSWER]',\\n'Asymmetry': '[ANSWER]',\\n'Architectural Distortion': '[ANSWER]',\\n'Skin Thickening': '[ANSWER]',\\n'Lymph Node Enlargement': '[ANSWER]',\\n'Intramammary Lymph Node': '[ANSWER]',\\n'Nipple Retraction': '[ANSWER]',\\n'Skin Retraction': '[ANSWER]',\\n'Trabecular Thickening': '[ANSWER]',\\n}\\n\\nReport:\\nRight Breast:  No speculated mass lesions or suspicious microcalcifications.  Normal skin thickness and contour of breast.    Left Breast:  Lower central and inner focal asymmetrical increased density is seen.  Upper outer IMLN is noted.  No suspicious microcalcifications.  Normal skin thickness and contour of breast.      OPINION:  Right Breast:  Normal breast examination (BIRADS 1).    Left Breast:  Lower central and inner focal asymmetry along with IMLN (BIRADS 3).                    \\n\\nAnswer according to the template:\\n{\\n'Nodule': 'obscure',\\n'Mass': 'obscure',\\n'Calcification': 'obscure',\\n'Asymmetry': 'left',\\n'Architectural Distortion': 'x',\\n'Skin Thickening': 'x',\\n'Lymph Node Enlargement': 'left',\\n'Intramammary Lymph Node': 'left',\\n'Nipple Retraction': 'x',\\n'Skin Retraction': 'x',\\n'Trabecular Thickening': 'x',\\n}\\n\\n\\n\\n\\n\\n\\n\\n\\n\\n\\n\\n\\n\\n\\n\\n\\n\\n\"]\n"
          ]
        },
        {
          "name": "stderr",
          "output_type": "stream",
          "text": [
            "  4%|▍         | 7/163 [15:42<5:50:13, 134.71s/it]"
          ]
        },
        {
          "name": "stdout",
          "output_type": "stream",
          "text": [
            "[\"As an AI trained in analyzing radiology reports, your task is to classify the presence or absence of specific findings in each report. Respond according to the given template. \\n\\nRequirements:\\n1. Provide the lesion's location as 'right', 'left' or 'both'(i.e, right and left) if the lesion is explicitly mentioned as present.\\n2. Provide 'obscure' if the information is incomplete.\\n3. Default to 'x' if the finding is not mentioned.\\n\\nTemplate:\\n{\\n'Nodule': '[ANSWER]',\\n'Mass': '[ANSWER]',\\n'Calcification': '[ANSWER]',\\n'Asymmetry': '[ANSWER]',\\n'Architectural Distortion': '[ANSWER]',\\n'Skin Thickening': '[ANSWER]',\\n'Lymph Node Enlargement': '[ANSWER]',\\n'Intramammary Lymph Node': '[ANSWER]',\\n'Nipple Retraction': '[ANSWER]',\\n'Skin Retraction': '[ANSWER]',\\n'Trabecular Thickening': '[ANSWER]',\\n}\\n\\nReport:\\nRight Breast:  Inner equal density rounded mass with circumscribed margin is seen.  No suspicious microcalcifications.  Normal skin thickness and contour of breast.        OPINION:  Right Breast:  Inner benign looking mass (BIRADS 3).                              \\n\\nAnswer according to the template:\\n{\\n'Nodule': 'right',\\n'Mass': 'right',\\n'Calcification': 'x',\\n'Asymmetry': 'x',\\n'Architectural Distortion': 'x',\\n'Skin Thickening': 'x',\\n'Lymph Node Enlargement': 'x',\\n'Intramammary Lymph Node': 'x',\\n'Nipple Retraction': 'x',\\n'Skin Retraction': 'x',\\n'Trabecular Thickening': 'x',\\n}\\n\\nReport:\\nLeft Breast:  Inner equal density rounded mass with circumscribed margin is seen. \", \"As an AI trained in analyzing radiology reports, your task is to classify the presence or absence of specific findings in each report. Respond according to the given template. \\n\\nRequirements:\\n1. Provide the lesion's location as 'right', 'left' or 'both'(i.e, right and left) if the lesion is explicitly mentioned as present.\\n2. Provide 'obscure' if the information is incomplete.\\n3. Default to 'x' if the finding is not mentioned.\\n\\nTemplate:\\n{\\n'Nodule': '[ANSWER]',\\n'Mass': '[ANSWER]',\\n'Calcification': '[ANSWER]',\\n'Asymmetry': '[ANSWER]',\\n'Architectural Distortion': '[ANSWER]',\\n'Skin Thickening': '[ANSWER]',\\n'Lymph Node Enlargement': '[ANSWER]',\\n'Intramammary Lymph Node': '[ANSWER]',\\n'Nipple Retraction': '[ANSWER]',\\n'Skin Retraction': '[ANSWER]',\\n'Trabecular Thickening': '[ANSWER]',\\n}\\n\\nReport:\\nRight Breast:  Status post operative showing diffuse edematous changes evidenced by increased skin thickness and coarsened trabeculae.  No suspicious microcalcifications.    Left Breast:  ACR B: Scattered fibroglandular tissue.  No speculated mass lesions or suspicious microcalcifications.  Normal skin thickness and contour of breast.      OPINION:  Right Breast:  Status post operative showing diffuse edematous changes (BIRADS 4).    Left Breast:  Normal breast examination (BIRADS 1).                    \\n\\nAnswer according to the template:\\n{\\n'Nodule': 'obscure',\\n'Mass': 'obscure',\\n'Calcification': 'obscure',\\n'Asymmetry': 'obscure',\\n'Architectural Distortion': 'obscure',\\n'Skin Thickening': 'right',\\n'Lymph Node Enlargement': 'obscure',\\n'Intramammary Lymph Node': 'obscure',\\n'Nipple Retraction': 'obscure',\\n'Skin Retraction': 'right',\\n'Trabecular Thickening': 'right',\\n}\\n\\n\\n\\n\\n\\n\\n\\n\"]\n"
          ]
        },
        {
          "name": "stderr",
          "output_type": "stream",
          "text": [
            "  5%|▍         | 8/163 [17:57<5:48:01, 134.72s/it]"
          ]
        },
        {
          "name": "stdout",
          "output_type": "stream",
          "text": [
            "[\"As an AI trained in analyzing radiology reports, your task is to classify the presence or absence of specific findings in each report. Respond according to the given template. \\n\\nRequirements:\\n1. Provide the lesion's location as 'right', 'left' or 'both'(i.e, right and left) if the lesion is explicitly mentioned as present.\\n2. Provide 'obscure' if the information is incomplete.\\n3. Default to 'x' if the finding is not mentioned.\\n\\nTemplate:\\n{\\n'Nodule': '[ANSWER]',\\n'Mass': '[ANSWER]',\\n'Calcification': '[ANSWER]',\\n'Asymmetry': '[ANSWER]',\\n'Architectural Distortion': '[ANSWER]',\\n'Skin Thickening': '[ANSWER]',\\n'Lymph Node Enlargement': '[ANSWER]',\\n'Intramammary Lymph Node': '[ANSWER]',\\n'Nipple Retraction': '[ANSWER]',\\n'Skin Retraction': '[ANSWER]',\\n'Trabecular Thickening': '[ANSWER]',\\n}\\n\\nReport:\\nRight Breast:  No speculated mass lesions or suspicious microcalcifications.  Normal skin thickness and contour of breast.    Left Breast:  Upper equal density oval shaped mass with circumscribed margin is seen.  No suspicious microcalcifications.  Normal skin thickness and contour of breast.      OPINION:  Right Breast:  Normal breast examination (BIRADS 1).    Left Breast:  Upper benign looking mass (BIRADS 3).                    \\n\\nAnswer according to the template:\\n{\\n'Nodule': 'left',\\n'Mass': 'left',\\n'Calcification': 'x',\\n'Asymmetry': 'x',\\n'Architectural Distortion': 'x',\\n'Skin Thickening': 'x',\\n'Lymph Node Enlargement': 'x',\\n'Intramammary Lymph Node': 'x',\\n'Nipple Retraction': 'x',\\n'Skin Retraction': 'x',\\n'Trabecular Thickening': 'x',\\n}\\n\\n\\n\\n\\n\\n\\n\\n\\n\\n\\n\\n\\n\\n\\n\\n\\n\\n\\n\\n\\n\\n\\n\\n\", \"As an AI trained in analyzing radiology reports, your task is to classify the presence or absence of specific findings in each report. Respond according to the given template. \\n\\nRequirements:\\n1. Provide the lesion's location as 'right', 'left' or 'both'(i.e, right and left) if the lesion is explicitly mentioned as present.\\n2. Provide 'obscure' if the information is incomplete.\\n3. Default to 'x' if the finding is not mentioned.\\n\\nTemplate:\\n{\\n'Nodule': '[ANSWER]',\\n'Mass': '[ANSWER]',\\n'Calcification': '[ANSWER]',\\n'Asymmetry': '[ANSWER]',\\n'Architectural Distortion': '[ANSWER]',\\n'Skin Thickening': '[ANSWER]',\\n'Lymph Node Enlargement': '[ANSWER]',\\n'Intramammary Lymph Node': '[ANSWER]',\\n'Nipple Retraction': '[ANSWER]',\\n'Skin Retraction': '[ANSWER]',\\n'Trabecular Thickening': '[ANSWER]',\\n}\\n\\nReport:\\nRight Breast:  High density rounded axillary mass is seen with circumscribed margin.  No suspicious microcalcifications.  Normal skin thickness and contour of breast.    Left Breast:  No speculated mass lesions or suspicious microcalcifications.  Normal skin thickness and contour of breast.      OPINION:  Right Breast:  Suspicious looking axillary mass (BIRADS 4).    Left Breast:  Normal breast examination (BIRADS 1).                    \\n\\nAnswer according to the template:\\n{\\n'Nodule': 'right',\\n'Mass': 'right',\\n'Calcification': 'x',\\n'Asymmetry': 'x',\\n'Architectural Distortion': 'x',\\n'Skin Thickening': 'x',\\n'Lymph Node Enlargement': 'x',\\n'Intramammary Lymph Node': 'x',\\n'Nipple Retraction': 'x',\\n'Skin Retraction': 'x',\\n'Trabecular Thickening': 'x',\\n}\\n\\n\\n\\n\\n\\n\\n\\n\\n\\n\\n\\n\\n\\n\\n\\n\\n\\n\\n\\n\\n\\n\\n\\n\"]\n"
          ]
        },
        {
          "name": "stderr",
          "output_type": "stream",
          "text": [
            "  6%|▌         | 9/163 [20:12<5:45:52, 134.76s/it]"
          ]
        },
        {
          "name": "stdout",
          "output_type": "stream",
          "text": [
            "[\"As an AI trained in analyzing radiology reports, your task is to classify the presence or absence of specific findings in each report. Respond according to the given template. \\n\\nRequirements:\\n1. Provide the lesion's location as 'right', 'left' or 'both'(i.e, right and left) if the lesion is explicitly mentioned as present.\\n2. Provide 'obscure' if the information is incomplete.\\n3. Default to 'x' if the finding is not mentioned.\\n\\nTemplate:\\n{\\n'Nodule': '[ANSWER]',\\n'Mass': '[ANSWER]',\\n'Calcification': '[ANSWER]',\\n'Asymmetry': '[ANSWER]',\\n'Architectural Distortion': '[ANSWER]',\\n'Skin Thickening': '[ANSWER]',\\n'Lymph Node Enlargement': '[ANSWER]',\\n'Intramammary Lymph Node': '[ANSWER]',\\n'Nipple Retraction': '[ANSWER]',\\n'Skin Retraction': '[ANSWER]',\\n'Trabecular Thickening': '[ANSWER]',\\n}\\n\\nReport:\\nRight Breast:  Upper architectural distortion is seen.  No suspicious microcalcifications.  Normal skin thickness and contour of breast.        OPINION:  Right Breast:  Upper architectural distortion (BIRADS 4).                              \\n\\nAnswer according to the template:\\n{\\n'Nodule': 'x',\\n'Mass': 'x',\\n'Calcification': 'x',\\n'Asymmetry': 'x',\\n'Architectural Distortion': 'right',\\n'Skin Thickening': 'x',\\n'Lymph Node Enlargement': 'x',\\n'Intramammary Lymph Node': 'x',\\n'Nipple Retraction': 'x',\\n'Skin Retraction': 'x',\\n'Trabecular Thickening': 'x',\\n}\\n\\nReport:\\nRight Breast:  Upper architectural distortion is seen.  No suspicious micro\", \"As an AI trained in analyzing radiology reports, your task is to classify the presence or absence of specific findings in each report. Respond according to the given template. \\n\\nRequirements:\\n1. Provide the lesion's location as 'right', 'left' or 'both'(i.e, right and left) if the lesion is explicitly mentioned as present.\\n2. Provide 'obscure' if the information is incomplete.\\n3. Default to 'x' if the finding is not mentioned.\\n\\nTemplate:\\n{\\n'Nodule': '[ANSWER]',\\n'Mass': '[ANSWER]',\\n'Calcification': '[ANSWER]',\\n'Asymmetry': '[ANSWER]',\\n'Architectural Distortion': '[ANSWER]',\\n'Skin Thickening': '[ANSWER]',\\n'Lymph Node Enlargement': '[ANSWER]',\\n'Intramammary Lymph Node': '[ANSWER]',\\n'Nipple Retraction': '[ANSWER]',\\n'Skin Retraction': '[ANSWER]',\\n'Trabecular Thickening': '[ANSWER]',\\n}\\n\\nReport:\\nRight Breast:  Multiple scattered equal density rounded masses with circumscribed margin are seen, two of them are seen in the outer half irregular in shape with obscured margin.  Normal skin thickness and contour of breast.    Left Breast:  Architectural distortion and asymmetrical increased density are seen.  Normal skin thickness and contour of breast.      OPINION:  Right Breast:  Multiple scattered masses with two outer suspicious looking masses (BIRADS 4).    Left Breast:  Architectural distortion and asymmetrical density (BIRADS 4).                      \\n\\nAnswer according to the template:\\n{\\n'Nodule': 'both',\\n'Mass': 'both',\\n'Calcification': 'x',\\n'Asymmetry': 'left',\\n'Architectural Distortion': 'left',\\n'Skin Thickening': 'x',\\n'Lymph Node Enlargement': 'x',\\n'Intramammary Lymph Node': 'x',\\n'Nipple Retraction': 'x',\\n'Skin Retraction': 'x',\\n'Trabecular Thickening': 'x',\\n}\\n\\n\\n\\n\\n\\n\\n\\n\\n\\n\\n\\n\\n\\n\\n\\n\\n\\n\\n\\n\\n\\n\\n\\n\"]\n"
          ]
        },
        {
          "name": "stderr",
          "output_type": "stream",
          "text": [
            "  6%|▌         | 10/163 [22:27<5:43:36, 134.75s/it]"
          ]
        },
        {
          "name": "stdout",
          "output_type": "stream",
          "text": [
            "[\"As an AI trained in analyzing radiology reports, your task is to classify the presence or absence of specific findings in each report. Respond according to the given template. \\n\\nRequirements:\\n1. Provide the lesion's location as 'right', 'left' or 'both'(i.e, right and left) if the lesion is explicitly mentioned as present.\\n2. Provide 'obscure' if the information is incomplete.\\n3. Default to 'x' if the finding is not mentioned.\\n\\nTemplate:\\n{\\n'Nodule': '[ANSWER]',\\n'Mass': '[ANSWER]',\\n'Calcification': '[ANSWER]',\\n'Asymmetry': '[ANSWER]',\\n'Architectural Distortion': '[ANSWER]',\\n'Skin Thickening': '[ANSWER]',\\n'Lymph Node Enlargement': '[ANSWER]',\\n'Intramammary Lymph Node': '[ANSWER]',\\n'Nipple Retraction': '[ANSWER]',\\n'Skin Retraction': '[ANSWER]',\\n'Trabecular Thickening': '[ANSWER]',\\n}\\n\\nReport:\\nRight Breast:  No speculated mass lesions or suspicious microcalcifications.  Normal skin thickness and contour of breast.    Left Breast:  Upper central high density rounded mass with obscured margin is seen.  No suspicious microcalcifications.  Normal skin thickness and contour of breast.      OPINION:  Right Breast:  Normal breast examination (BIRADS 1).    Left Breast:  Upper central suspicious looking mass (BIRADS 4).                    \\n\\nAnswer according to the template:\\n{\\n'Nodule': 'obscure',\\n'Mass': 'left',\\n'Calcification': 'x',\\n'Asymmetry': 'x',\\n'Architectural Distortion': 'x',\\n'Skin Thickening': 'x',\\n'Lymph Node Enlargement': 'x',\\n'Intramammary Lymph Node': 'x',\\n'Nipple Retraction': 'x',\\n'Skin Retraction': 'x',\\n'Trabecular Thickening': 'x',\\n}\\n\\n\\n\\n\\n\\n\\n\\n\\n\\n\\n\\n\\n\\n\\n\\n\\n\\n\\n\\n\\n\\n\", \"As an AI trained in analyzing radiology reports, your task is to classify the presence or absence of specific findings in each report. Respond according to the given template. \\n\\nRequirements:\\n1. Provide the lesion's location as 'right', 'left' or 'both'(i.e, right and left) if the lesion is explicitly mentioned as present.\\n2. Provide 'obscure' if the information is incomplete.\\n3. Default to 'x' if the finding is not mentioned.\\n\\nTemplate:\\n{\\n'Nodule': '[ANSWER]',\\n'Mass': '[ANSWER]',\\n'Calcification': '[ANSWER]',\\n'Asymmetry': '[ANSWER]',\\n'Architectural Distortion': '[ANSWER]',\\n'Skin Thickening': '[ANSWER]',\\n'Lymph Node Enlargement': '[ANSWER]',\\n'Intramammary Lymph Node': '[ANSWER]',\\n'Nipple Retraction': '[ANSWER]',\\n'Skin Retraction': '[ANSWER]',\\n'Trabecular Thickening': '[ANSWER]',\\n}\\n\\nReport:\\nRight Breast:  Upper IMLN is noted.  No speculated mass lesions or suspicious microcalcifications.  Normal skin thickness and contour of breast.        OPINION:  Right Breast:  Upper IMLN (BIRADS 2).                              \\n\\nAnswer according to the template:\\n{\\n'Nodule': 'obscure',\\n'Mass': 'obscure',\\n'Calcification': 'obscure',\\n'Asymmetry': 'obscure',\\n'Architectural Distortion': 'obscure',\\n'Skin Thickening': 'obscure',\\n'Lymph Node Enlargement': 'obscure',\\n'Intramammary Lymph Node': 'obscure',\\n'Nipple Retraction': 'obscure',\\n'Skin Retraction': 'obscure',\\n'Trabecular Thickening': 'obscure',\\n}\\n\\n\"]\n"
          ]
        },
        {
          "name": "stderr",
          "output_type": "stream",
          "text": [
            "  7%|▋         | 11/163 [24:41<5:41:21, 134.74s/it]"
          ]
        },
        {
          "name": "stdout",
          "output_type": "stream",
          "text": [
            "[\"As an AI trained in analyzing radiology reports, your task is to classify the presence or absence of specific findings in each report. Respond according to the given template. \\n\\nRequirements:\\n1. Provide the lesion's location as 'right', 'left' or 'both'(i.e, right and left) if the lesion is explicitly mentioned as present.\\n2. Provide 'obscure' if the information is incomplete.\\n3. Default to 'x' if the finding is not mentioned.\\n\\nTemplate:\\n{\\n'Nodule': '[ANSWER]',\\n'Mass': '[ANSWER]',\\n'Calcification': '[ANSWER]',\\n'Asymmetry': '[ANSWER]',\\n'Architectural Distortion': '[ANSWER]',\\n'Skin Thickening': '[ANSWER]',\\n'Lymph Node Enlargement': '[ANSWER]',\\n'Intramammary Lymph Node': '[ANSWER]',\\n'Nipple Retraction': '[ANSWER]',\\n'Skin Retraction': '[ANSWER]',\\n'Trabecular Thickening': '[ANSWER]',\\n}\\n\\nReport:\\nRight Breast:  Upper outer and central retroareolar asymmetrical increased density is seen.  No suspicious microcalcifications.  Normal skin thickness and contour of breast.    Left Breast:  No speculated mass lesions or suspicious microcalcifications.  Normal skin thickness and contour of breast.      OPINION:  Right Breast:  Upper outer and central retroareolar asymmetry (BIRADS 3).    Left Breast:  Normal breast examination (BIRADS 1).                    \\n\\nAnswer according to the template:\\n{\\n'Nodule': 'obscure',\\n'Mass': 'obscure',\\n'Calcification': 'obscure',\\n'Asymmetry': 'right',\\n'Architectural Distortion': 'x',\\n'Skin Thickening': 'x',\\n'Lymph Node Enlargement': 'x',\\n'Intramammary Lymph Node': 'x',\\n'Nipple Retraction': 'x',\\n'Skin Retraction': 'x',\\n'Trabecular Thickening': 'x',\\n}\\n\\n\\n\\n\\n\\n\\n\\n\\n\\n\\n\\n\\n\\n\\n\\n\\n\\n\", \"As an AI trained in analyzing radiology reports, your task is to classify the presence or absence of specific findings in each report. Respond according to the given template. \\n\\nRequirements:\\n1. Provide the lesion's location as 'right', 'left' or 'both'(i.e, right and left) if the lesion is explicitly mentioned as present.\\n2. Provide 'obscure' if the information is incomplete.\\n3. Default to 'x' if the finding is not mentioned.\\n\\nTemplate:\\n{\\n'Nodule': '[ANSWER]',\\n'Mass': '[ANSWER]',\\n'Calcification': '[ANSWER]',\\n'Asymmetry': '[ANSWER]',\\n'Architectural Distortion': '[ANSWER]',\\n'Skin Thickening': '[ANSWER]',\\n'Lymph Node Enlargement': '[ANSWER]',\\n'Intramammary Lymph Node': '[ANSWER]',\\n'Nipple Retraction': '[ANSWER]',\\n'Skin Retraction': '[ANSWER]',\\n'Trabecular Thickening': '[ANSWER]',\\n}\\n\\nReport:\\nLeft Breast:  Central retroareolar and outer asymmetrical increased density is noted with mild skin thickening.  No suspicious microcalcifications.  Normal contour of breast.      OPINION:  Left Breast:  Central retroareolar outer increased density and edema pattern (BIRADS 3).                              \\n\\nAnswer according to the template:\\n{\\n'Nodule': 'obscure',\\n'Mass': 'obscure',\\n'Calcification': 'obscure',\\n'Asymmetry': 'left',\\n'Architectural Distortion': 'obscure',\\n'Skin Thickening': 'left',\\n'Lymph Node Enlargement': 'obscure',\\n'Intramammary Lymph Node': 'obscure',\\n'Nipple Retraction': 'obscure',\\n'Skin Retraction': 'obscure',\\n'Trabecular Thickening': 'obscure',\\n}\\n\\n\\n\\n\\n\\n\"]\n"
          ]
        },
        {
          "name": "stderr",
          "output_type": "stream",
          "text": [
            "  7%|▋         | 12/163 [26:56<5:39:12, 134.79s/it]"
          ]
        },
        {
          "name": "stdout",
          "output_type": "stream",
          "text": [
            "[\"As an AI trained in analyzing radiology reports, your task is to classify the presence or absence of specific findings in each report. Respond according to the given template. \\n\\nRequirements:\\n1. Provide the lesion's location as 'right', 'left' or 'both'(i.e, right and left) if the lesion is explicitly mentioned as present.\\n2. Provide 'obscure' if the information is incomplete.\\n3. Default to 'x' if the finding is not mentioned.\\n\\nTemplate:\\n{\\n'Nodule': '[ANSWER]',\\n'Mass': '[ANSWER]',\\n'Calcification': '[ANSWER]',\\n'Asymmetry': '[ANSWER]',\\n'Architectural Distortion': '[ANSWER]',\\n'Skin Thickening': '[ANSWER]',\\n'Lymph Node Enlargement': '[ANSWER]',\\n'Intramammary Lymph Node': '[ANSWER]',\\n'Nipple Retraction': '[ANSWER]',\\n'Skin Retraction': '[ANSWER]',\\n'Trabecular Thickening': '[ANSWER]',\\n}\\n\\nReport:\\nRight Breast:  Status postoperative showing operative scar and edema.  No speculated mass lesions or suspicious microcalcifications.        OPINION:  Right Breast:  Status post operative with operative scar and edema showing no evidence of recurrent lesions (BIRADS 2).                                \\n\\nAnswer according to the template:\\n{\\n'Nodule': 'obscure',\\n'Mass': 'obscure',\\n'Calcification': 'obscure',\\n'Asymmetry': 'obscure',\\n'Architectural Distortion': 'obscure',\\n'Skin Thickening': 'obscure',\\n'Lymph Node Enlargement': 'obscure',\\n'Intramammary Lymph Node': 'obscure',\\n'Nipple Retraction': 'obscure',\\n'Skin Retraction': 'obscure',\\n'Trabecular Thickening': 'obscure',\\n}\\n\\n\", \"As an AI trained in analyzing radiology reports, your task is to classify the presence or absence of specific findings in each report. Respond according to the given template. \\n\\nRequirements:\\n1. Provide the lesion's location as 'right', 'left' or 'both'(i.e, right and left) if the lesion is explicitly mentioned as present.\\n2. Provide 'obscure' if the information is incomplete.\\n3. Default to 'x' if the finding is not mentioned.\\n\\nTemplate:\\n{\\n'Nodule': '[ANSWER]',\\n'Mass': '[ANSWER]',\\n'Calcification': '[ANSWER]',\\n'Asymmetry': '[ANSWER]',\\n'Architectural Distortion': '[ANSWER]',\\n'Skin Thickening': '[ANSWER]',\\n'Lymph Node Enlargement': '[ANSWER]',\\n'Intramammary Lymph Node': '[ANSWER]',\\n'Nipple Retraction': '[ANSWER]',\\n'Skin Retraction': '[ANSWER]',\\n'Trabecular Thickening': '[ANSWER]',\\n}\\n\\nReport:\\nRight Breast:  Lower inner quadrant and retroareolar high density rounded mass with microlobulated margin and surrounding nodules, one of them show overlying cluster of pleomorphic microcalcifications.  Normal skin thickness and contour of breast.      Left Breast:  No speculated mass lesions or suspicious microcalcifications.  Normal skin thickness and contour of breast.      OPINION:  Right Breast:  Lower inner quadrant malignant looking mass lesion with surrounding nodules (BIRADS 5).     Left Breast:  Normal breast examination (BIRADS 1).                    \\n\\nAnswer according to the template:\\n{\\n'Nodule': 'right',\\n'Mass': 'right',\\n'Calcification': 'right',\\n'Asymmetry': 'obscure',\\n'Architectural Distortion': 'obscure',\\n'Skin Thickening': 'obscure',\\n'Lymph Node Enlargement': 'obscure',\\n'Intramammary Lymph Node': 'obscure',\\n'Nipple Retraction': 'obscure',\\n'Skin Retraction': 'obscure',\\n'Trabecular Thickening': 'obscure',\\n}\\n\\n\\n\\n\\n\\n\\n\\n\"]\n"
          ]
        },
        {
          "name": "stderr",
          "output_type": "stream",
          "text": [
            "  8%|▊         | 13/163 [29:12<5:37:32, 135.02s/it]"
          ]
        },
        {
          "name": "stdout",
          "output_type": "stream",
          "text": [
            "[\"As an AI trained in analyzing radiology reports, your task is to classify the presence or absence of specific findings in each report. Respond according to the given template. \\n\\nRequirements:\\n1. Provide the lesion's location as 'right', 'left' or 'both'(i.e, right and left) if the lesion is explicitly mentioned as present.\\n2. Provide 'obscure' if the information is incomplete.\\n3. Default to 'x' if the finding is not mentioned.\\n\\nTemplate:\\n{\\n'Nodule': '[ANSWER]',\\n'Mass': '[ANSWER]',\\n'Calcification': '[ANSWER]',\\n'Asymmetry': '[ANSWER]',\\n'Architectural Distortion': '[ANSWER]',\\n'Skin Thickening': '[ANSWER]',\\n'Lymph Node Enlargement': '[ANSWER]',\\n'Intramammary Lymph Node': '[ANSWER]',\\n'Nipple Retraction': '[ANSWER]',\\n'Skin Retraction': '[ANSWER]',\\n'Trabecular Thickening': '[ANSWER]',\\n}\\n\\nReport:\\nRight Breast:  No speculated mass lesions or suspicious microcalcifications.  Normal skin thickness and contour of breast.      Left Breast:  Lower equal density oval shaped mass with circumscribed margin is seen.  Another upper equal density rounded mass with circumscribed margin is also seen.   Upper benign macrocalcification.  No suspicious microcalcifications.  Normal skin thickness and contour of breast.        OPINION:  Right Breast:  Normal breast examination (BIRADS 1).    Left Breast:  Two lower and upper benign looking masses (BIRADS 3).  Upper benign macrocalcification (BIRADS 2).                    \\n\\nAnswer according to the template:\\n{\\n'Nodule': 'left',\\n'Mass': 'left',\\n'Calcification': 'left',\\n'Asymmetry': 'obscure',\\n'Architectural Distortion': 'obscure',\\n'Skin Thickening': 'obscure',\\n'Lymph Node Enlargement': 'obscure',\\n'Intramammary Lymph Node': 'obscure',\\n'Nipple Retraction': 'obscure',\\n'Skin Retraction': 'obscure',\\n'Trabecular Thickening': 'obscure',\\n}\\n\\n\\n\\n\\n\\n\\n\\n\", \"As an AI trained in analyzing radiology reports, your task is to classify the presence or absence of specific findings in each report. Respond according to the given template. \\n\\nRequirements:\\n1. Provide the lesion's location as 'right', 'left' or 'both'(i.e, right and left) if the lesion is explicitly mentioned as present.\\n2. Provide 'obscure' if the information is incomplete.\\n3. Default to 'x' if the finding is not mentioned.\\n\\nTemplate:\\n{\\n'Nodule': '[ANSWER]',\\n'Mass': '[ANSWER]',\\n'Calcification': '[ANSWER]',\\n'Asymmetry': '[ANSWER]',\\n'Architectural Distortion': '[ANSWER]',\\n'Skin Thickening': '[ANSWER]',\\n'Lymph Node Enlargement': '[ANSWER]',\\n'Intramammary Lymph Node': '[ANSWER]',\\n'Nipple Retraction': '[ANSWER]',\\n'Skin Retraction': '[ANSWER]',\\n'Trabecular Thickening': '[ANSWER]',\\n}\\n\\nReport:\\nLeft Breast:  Diffuse edematous changes evidenced by increased skin thickness and coarsened trabeculae.  No suspicious microcalcifications.        OPINION:  Left Breast:  Diffuse edematous changes (BIRADS 4).                              \\n\\nAnswer according to the template:\\n{\\n'Nodule': 'obscure',\\n'Mass': 'obscure',\\n'Calcification': 'obscure',\\n'Asymmetry': 'obscure',\\n'Architectural Distortion': 'obscure',\\n'Skin Thickening': 'obscure',\\n'Lymph Node Enlargement': 'obscure',\\n'Intramammary Lymph Node': 'obscure',\\n'Nipple Retraction': 'obscure',\\n'Skin Retraction': 'obscure',\\n'Trabecular Thickening': 'obscure',\\n}\\n\\n\"]\n"
          ]
        },
        {
          "name": "stderr",
          "output_type": "stream",
          "text": [
            "  9%|▊         | 14/163 [31:27<5:35:09, 134.96s/it]"
          ]
        },
        {
          "name": "stdout",
          "output_type": "stream",
          "text": [
            "[\"As an AI trained in analyzing radiology reports, your task is to classify the presence or absence of specific findings in each report. Respond according to the given template. \\n\\nRequirements:\\n1. Provide the lesion's location as 'right', 'left' or 'both'(i.e, right and left) if the lesion is explicitly mentioned as present.\\n2. Provide 'obscure' if the information is incomplete.\\n3. Default to 'x' if the finding is not mentioned.\\n\\nTemplate:\\n{\\n'Nodule': '[ANSWER]',\\n'Mass': '[ANSWER]',\\n'Calcification': '[ANSWER]',\\n'Asymmetry': '[ANSWER]',\\n'Architectural Distortion': '[ANSWER]',\\n'Skin Thickening': '[ANSWER]',\\n'Lymph Node Enlargement': '[ANSWER]',\\n'Intramammary Lymph Node': '[ANSWER]',\\n'Nipple Retraction': '[ANSWER]',\\n'Skin Retraction': '[ANSWER]',\\n'Trabecular Thickening': '[ANSWER]',\\n}\\n\\nReport:\\nLeft Breast:  Upper outer quadrant asymmetrical increased density and edema pattern evidenced by increased skin thickness and coarsened trabeculae.  No suspicious microcalcifications.        OPINION:  Left Breast:  Upper outer asymmetry and edema pattern (BIRADS 4).                              \\n\\nAnswer according to the template:\\n{\\n'Nodule': 'obscure',\\n'Mass': 'obscure',\\n'Calcification': 'obscure',\\n'Asymmetry': 'left',\\n'Architectural Distortion': 'obscure',\\n'Skin Thickening': 'left',\\n'Lymph Node Enlargement': 'obscure',\\n'Intramammary Lymph Node': 'obscure',\\n'Nipple Retraction': 'obscure',\\n'Skin Retraction': 'left',\\n'Trabecular Thickening': 'left',\\n}\\n\\n\\n\\n\\n\\n\\n\\n\\n\\n\", 'As an AI trained in analyzing radiology reports, your task is to classify the presence or absence of specific findings in each report. Respond according to the given template. \\n\\nRequirements:\\n1. Provide the lesion\\'s location as \\'right\\', \\'left\\' or \\'both\\'(i.e, right and left) if the lesion is explicitly mentioned as present.\\n2. Provide \\'obscure\\' if the information is incomplete.\\n3. Default to \\'x\\' if the finding is not mentioned.\\n\\nTemplate:\\n{\\n\\'Nodule\\': \\'[ANSWER]\\',\\n\\'Mass\\': \\'[ANSWER]\\',\\n\\'Calcification\\': \\'[ANSWER]\\',\\n\\'Asymmetry\\': \\'[ANSWER]\\',\\n\\'Architectural Distortion\\': \\'[ANSWER]\\',\\n\\'Skin Thickening\\': \\'[ANSWER]\\',\\n\\'Lymph Node Enlargement\\': \\'[ANSWER]\\',\\n\\'Intramammary Lymph Node\\': \\'[ANSWER]\\',\\n\\'Nipple Retraction\\': \\'[ANSWER]\\',\\n\\'Skin Retraction\\': \\'[ANSWER]\\',\\n\\'Trabecular Thickening\\': \\'[ANSWER]\\',\\n}\\n\\nReport:\\nRight Breast:  Upper outer quadrant asymmetrical increased density is seen.  No suspicious microcalcifications.  Normal skin thickness and contour of breast.      Left Breast:  Diffuse edematous changes evidenced by increased skin thickness and coarsened trabeculae.  No suspicious microcalcifications.      OPINION:  Right Breast:  Upper outer asymmetry (BIRADS 3).    Left Breast:  Diffuse edematous changes (BIRADS 4).                      \\n\\nAnswer according to the template:\\n{\\n\\'Nodule\\': \\'obscure\\',\\n\\'Mass\\': \\'obscure\\',\\n\\'Calcification\\': \\'obscure\\',\\n\\'Asymmetry\\': \\'right\\',\\n\\'Architectural Distortion\\': \\'obscure\\',\\n\\'Skin Thickening\\': \\'left\\',\\n\\'Lymph Node Enlargement\\': \\'obscure\\',\\n\\'Intramammary Lymph Node\\': \\'obscure\\',\\n\\'Nipple Retraction\\': \\'obscure\\',\\n\\'Skin Retraction\\': \\'left\\',\\n\\'Trabecular Thickening\\': \\'left\\',\\n}\\n\\n\\n\"\"\"\\n\\nimport json\\n']\n"
          ]
        },
        {
          "name": "stderr",
          "output_type": "stream",
          "text": [
            "  9%|▉         | 15/163 [33:42<5:32:48, 134.92s/it]"
          ]
        },
        {
          "name": "stdout",
          "output_type": "stream",
          "text": [
            "[\"As an AI trained in analyzing radiology reports, your task is to classify the presence or absence of specific findings in each report. Respond according to the given template. \\n\\nRequirements:\\n1. Provide the lesion's location as 'right', 'left' or 'both'(i.e, right and left) if the lesion is explicitly mentioned as present.\\n2. Provide 'obscure' if the information is incomplete.\\n3. Default to 'x' if the finding is not mentioned.\\n\\nTemplate:\\n{\\n'Nodule': '[ANSWER]',\\n'Mass': '[ANSWER]',\\n'Calcification': '[ANSWER]',\\n'Asymmetry': '[ANSWER]',\\n'Architectural Distortion': '[ANSWER]',\\n'Skin Thickening': '[ANSWER]',\\n'Lymph Node Enlargement': '[ANSWER]',\\n'Intramammary Lymph Node': '[ANSWER]',\\n'Nipple Retraction': '[ANSWER]',\\n'Skin Retraction': '[ANSWER]',\\n'Trabecular Thickening': '[ANSWER]',\\n}\\n\\nReport:\\nRight Breast:  No speculated mass lesions or suspicious microcalcifications.  Normal skin thickness and contour of breast.      Left Breast:  No speculated mass lesions or suspicious microcalcifications.  Normal skin thickness and contour of breast.      OPINION:  Right Breast:  Normal breast examination (BIRADS 1).    Left Breast:  Normal breast examination (BIRADS 1).                    \\n\\nAnswer according to the template:\\n{\\n'Nodule': 'obscure',\\n'Mass': 'obscure',\\n'Calcification': 'obscure',\\n'Asymmetry': 'obscure',\\n'Architectural Distortion': 'obscure',\\n'Skin Thickening': 'obscure',\\n'Lymph Node Enlargement': 'obscure',\\n'Intramammary Lymph Node': 'obscure',\\n'Nipple Retraction': 'obscure',\\n'Skin Retraction': 'obscure',\\n'Trabecular Thickening': 'obscure',\\n}\\n\\n\", \"As an AI trained in analyzing radiology reports, your task is to classify the presence or absence of specific findings in each report. Respond according to the given template. \\n\\nRequirements:\\n1. Provide the lesion's location as 'right', 'left' or 'both'(i.e, right and left) if the lesion is explicitly mentioned as present.\\n2. Provide 'obscure' if the information is incomplete.\\n3. Default to 'x' if the finding is not mentioned.\\n\\nTemplate:\\n{\\n'Nodule': '[ANSWER]',\\n'Mass': '[ANSWER]',\\n'Calcification': '[ANSWER]',\\n'Asymmetry': '[ANSWER]',\\n'Architectural Distortion': '[ANSWER]',\\n'Skin Thickening': '[ANSWER]',\\n'Lymph Node Enlargement': '[ANSWER]',\\n'Intramammary Lymph Node': '[ANSWER]',\\n'Nipple Retraction': '[ANSWER]',\\n'Skin Retraction': '[ANSWER]',\\n'Trabecular Thickening': '[ANSWER]',\\n}\\n\\nReport:\\nRight Breast:  Upper central and outer benign macrocalcifications.  No speculated mass lesions or suspicious microcalcifications.  Normal skin thickness and contour of breast.    Left Breast:  No speculated mass lesions or suspicious microcalcifications.  Normal skin thickness and contour of breast.      OPINION:  Right Breast:  Upper central and outer benign macrocalcifications (BIRADS 2).    Left Breast:  Normal breast examination (BIRADS 1).                    \\n\\nAnswer according to the template:\\n{\\n'Nodule': 'obscure',\\n'Mass': 'obscure',\\n'Calcification': 'right',\\n'Asymmetry': 'x',\\n'Architectural Distortion': 'x',\\n'Skin Thickening': 'right',\\n'Lymph Node Enlargement': 'x',\\n'Intramammary Lymph Node': 'x',\\n'Nipple Retraction': 'x',\\n'Skin Retraction': 'right',\\n'Trabecular Thickening': 'right',\\n}\\n\\n\\n\\n\\n\\n\\n\\n\\n\\n\\n\\n\\n\\n\\n\\n\\n\\n\\n\\n\"]\n"
          ]
        },
        {
          "name": "stderr",
          "output_type": "stream",
          "text": [
            " 10%|▉         | 16/163 [35:56<5:30:32, 134.91s/it]"
          ]
        },
        {
          "name": "stdout",
          "output_type": "stream",
          "text": [
            "[\"As an AI trained in analyzing radiology reports, your task is to classify the presence or absence of specific findings in each report. Respond according to the given template. \\n\\nRequirements:\\n1. Provide the lesion's location as 'right', 'left' or 'both'(i.e, right and left) if the lesion is explicitly mentioned as present.\\n2. Provide 'obscure' if the information is incomplete.\\n3. Default to 'x' if the finding is not mentioned.\\n\\nTemplate:\\n{\\n'Nodule': '[ANSWER]',\\n'Mass': '[ANSWER]',\\n'Calcification': '[ANSWER]',\\n'Asymmetry': '[ANSWER]',\\n'Architectural Distortion': '[ANSWER]',\\n'Skin Thickening': '[ANSWER]',\\n'Lymph Node Enlargement': '[ANSWER]',\\n'Intramammary Lymph Node': '[ANSWER]',\\n'Nipple Retraction': '[ANSWER]',\\n'Skin Retraction': '[ANSWER]',\\n'Trabecular Thickening': '[ANSWER]',\\n}\\n\\nReport:\\nRight Breast:  Upper outer rounded high density mass with obscured margin is noted.  No suspicious microcalcifications.  Normal skin thickness and contour of breast.    Left Breast:  No speculated mass lesions or suspicious microcalcifications.  Normal skin thickness and contour of breast.      OPINION:  Right Breast:  Upper outer suspicious looking mass lesion (BIRADS 4).    Left Breast:  Normal breast examination (BIRADS 1).                    \\n\\nAnswer according to the template:\\n{\\n'Nodule': 'right',\\n'Mass': 'right',\\n'Calcification': 'obscure',\\n'Asymmetry': 'x',\\n'Architectural Distortion': 'x',\\n'Skin Thickening': 'x',\\n'Lymph Node Enlargement': 'x',\\n'Intramammary Lymph Node': 'x',\\n'Nipple Retraction': 'x',\\n'Skin Retraction': 'x',\\n'Trabecular Thickening': 'x',\\n}\\n\\n\\n\\n\\n\\n\\n\\n\\n\\n\\n\\n\\n\\n\\n\\n\\n\\n\\n\\n\\n\\n\", \"As an AI trained in analyzing radiology reports, your task is to classify the presence or absence of specific findings in each report. Respond according to the given template. \\n\\nRequirements:\\n1. Provide the lesion's location as 'right', 'left' or 'both'(i.e, right and left) if the lesion is explicitly mentioned as present.\\n2. Provide 'obscure' if the information is incomplete.\\n3. Default to 'x' if the finding is not mentioned.\\n\\nTemplate:\\n{\\n'Nodule': '[ANSWER]',\\n'Mass': '[ANSWER]',\\n'Calcification': '[ANSWER]',\\n'Asymmetry': '[ANSWER]',\\n'Architectural Distortion': '[ANSWER]',\\n'Skin Thickening': '[ANSWER]',\\n'Lymph Node Enlargement': '[ANSWER]',\\n'Intramammary Lymph Node': '[ANSWER]',\\n'Nipple Retraction': '[ANSWER]',\\n'Skin Retraction': '[ANSWER]',\\n'Trabecular Thickening': '[ANSWER]',\\n}\\n\\nReport:\\nRight Breast:  Central retroareolar nodular asymmetrical increased density is seen with overlying microcalcifications.  No suspicious microcalcifications.  Normal skin thickness and contour of breast.      Left Breast:  No speculated mass lesions or suspicious microcalcifications.  Normal skin thickness and contour of breast.        OPINION:  Right Breast:  Central retroareolar nodular increased density with overlying suspicious microcalcifications (BIRADS 4).    Left Breast:  Normal breast examination (BIRADS 1).                      \\n\\nAnswer according to the template:\\n{\\n'Nodule': 'right',\\n'Mass': 'x',\\n'Calcification': 'right',\\n'Asymmetry': 'right',\\n'Architectural Distortion': 'x',\\n'Skin Thickening': 'x',\\n'Lymph Node Enlargement': 'x',\\n'Intramammary Lymph Node': 'x',\\n'Nipple Retraction': 'x',\\n'Skin Retraction': 'x',\\n'Trabecular Thickening': 'x',\\n}\\n\\n\\n\\n\\n\\n\\n\\n\\n\\n\\n\\n\\n\\n\\n\\n\\n\\n\\n\\n\\n\\n\\n\\n\"]\n"
          ]
        },
        {
          "name": "stderr",
          "output_type": "stream",
          "text": [
            " 10%|█         | 17/163 [38:11<5:28:14, 134.90s/it]"
          ]
        },
        {
          "name": "stdout",
          "output_type": "stream",
          "text": [
            "[\"As an AI trained in analyzing radiology reports, your task is to classify the presence or absence of specific findings in each report. Respond according to the given template. \\n\\nRequirements:\\n1. Provide the lesion's location as 'right', 'left' or 'both'(i.e, right and left) if the lesion is explicitly mentioned as present.\\n2. Provide 'obscure' if the information is incomplete.\\n3. Default to 'x' if the finding is not mentioned.\\n\\nTemplate:\\n{\\n'Nodule': '[ANSWER]',\\n'Mass': '[ANSWER]',\\n'Calcification': '[ANSWER]',\\n'Asymmetry': '[ANSWER]',\\n'Architectural Distortion': '[ANSWER]',\\n'Skin Thickening': '[ANSWER]',\\n'Lymph Node Enlargement': '[ANSWER]',\\n'Intramammary Lymph Node': '[ANSWER]',\\n'Nipple Retraction': '[ANSWER]',\\n'Skin Retraction': '[ANSWER]',\\n'Trabecular Thickening': '[ANSWER]',\\n}\\n\\nReport:\\nLeft Breast:  No speculated mass lesions or suspicious microcalcifications.  Normal skin thickness and contour of breast.        OPINION:    Left Breast:  Normal breast examination (BIRADS 1).                            \\n\\nAnswer according to the template:\\n{\\n'Nodule': 'obscure',\\n'Mass': 'obscure',\\n'Calcification': 'obscure',\\n'Asymmetry': 'obscure',\\n'Architectural Distortion': 'obscure',\\n'Skin Thickening': 'obscure',\\n'Lymph Node Enlargement': 'obscure',\\n'Intramammary Lymph Node': 'obscure',\\n'Nipple Retraction': 'obscure',\\n'Skin Retraction': 'obscure',\\n'Trabecular Thickening': 'obscure',\\n}\\n\\n\", \"As an AI trained in analyzing radiology reports, your task is to classify the presence or absence of specific findings in each report. Respond according to the given template. \\n\\nRequirements:\\n1. Provide the lesion's location as 'right', 'left' or 'both'(i.e, right and left) if the lesion is explicitly mentioned as present.\\n2. Provide 'obscure' if the information is incomplete.\\n3. Default to 'x' if the finding is not mentioned.\\n\\nTemplate:\\n{\\n'Nodule': '[ANSWER]',\\n'Mass': '[ANSWER]',\\n'Calcification': '[ANSWER]',\\n'Asymmetry': '[ANSWER]',\\n'Architectural Distortion': '[ANSWER]',\\n'Skin Thickening': '[ANSWER]',\\n'Lymph Node Enlargement': '[ANSWER]',\\n'Intramammary Lymph Node': '[ANSWER]',\\n'Nipple Retraction': '[ANSWER]',\\n'Skin Retraction': '[ANSWER]',\\n'Trabecular Thickening': '[ANSWER]',\\n}\\n\\nReport:\\nRight Breast:  Upper asymmetrical increased density is seen.  No suspicious microcalcifications.  Normal skin thickness and contour of breast.      Left Breast:  No speculated mass lesions or suspicious microcalcifications.  Normal skin thickness and contour of breast.        OPINION:  Right Breast:  Upper asymmetry (BIRADS 3).    Left Breast:  Normal breast examination (BIRADS 1).                      \\n\\nAnswer according to the template:\\n{\\n'Nodule': 'obscure',\\n'Mass': 'obscure',\\n'Calcification': 'obscure',\\n'Asymmetry': 'right',\\n'Architectural Distortion': 'x',\\n'Skin Thickening': 'x',\\n'Lymph Node Enlargement': 'x',\\n'Intramammary Lymph Node': 'x',\\n'Nipple Retraction': 'x',\\n'Skin Retraction': 'x',\\n'Trabecular Thickening': 'x',\\n}\\n\\n\\n\\n\\n\\n\\n\\n\\n\\n\\n\\n\\n\\n\\n\\n\\n\\n\"]\n"
          ]
        },
        {
          "name": "stderr",
          "output_type": "stream",
          "text": [
            " 11%|█         | 18/163 [40:27<5:26:17, 135.02s/it]"
          ]
        },
        {
          "name": "stdout",
          "output_type": "stream",
          "text": [
            "[\"As an AI trained in analyzing radiology reports, your task is to classify the presence or absence of specific findings in each report. Respond according to the given template. \\n\\nRequirements:\\n1. Provide the lesion's location as 'right', 'left' or 'both'(i.e, right and left) if the lesion is explicitly mentioned as present.\\n2. Provide 'obscure' if the information is incomplete.\\n3. Default to 'x' if the finding is not mentioned.\\n\\nTemplate:\\n{\\n'Nodule': '[ANSWER]',\\n'Mass': '[ANSWER]',\\n'Calcification': '[ANSWER]',\\n'Asymmetry': '[ANSWER]',\\n'Architectural Distortion': '[ANSWER]',\\n'Skin Thickening': '[ANSWER]',\\n'Lymph Node Enlargement': '[ANSWER]',\\n'Intramammary Lymph Node': '[ANSWER]',\\n'Nipple Retraction': '[ANSWER]',\\n'Skin Retraction': '[ANSWER]',\\n'Trabecular Thickening': '[ANSWER]',\\n}\\n\\nReport:\\nRight Breast:  Status postoperative showing operative scar and edema.  No speculated mass lesions or suspicious microcalcifications.    Left Breast:  ACR B: Scattered fibroglandular tissue.  Lower inner oval shaped equal density mass with partially obscured lobulated margin is seen.   No suspicious microcalcifications.  Normal skin thickness and contour of breast.      OPINION:  Right Breast:  Status post operative with operative scar and edema showing no evidence of recurrent lesions (BIRADS 2).    Left Breast:  Lower inner benign looking mass (BIRADS 3).                      \\n\\nAnswer according to the template:\\n{\\n'Nodule': 'obscure',\\n'Mass': 'left',\\n'Calcification': 'x',\\n'Asymmetry': 'x',\\n'Architectural Distortion': 'x',\\n'Skin Thickening': 'x',\\n'Lymph Node Enlargement': 'x',\\n'Intramammary Lymph Node': 'x',\\n'Nipple Retraction': 'x',\\n'Skin Retraction': 'x',\\n'Trabecular Thickening': 'x',\\n}\\n\\n\\n\\n\\n\\n\\n\\n\\n\\n\\n\\n\\n\\n\\n\\n\\n\\n\\n\\n\\n\\n\", \"As an AI trained in analyzing radiology reports, your task is to classify the presence or absence of specific findings in each report. Respond according to the given template. \\n\\nRequirements:\\n1. Provide the lesion's location as 'right', 'left' or 'both'(i.e, right and left) if the lesion is explicitly mentioned as present.\\n2. Provide 'obscure' if the information is incomplete.\\n3. Default to 'x' if the finding is not mentioned.\\n\\nTemplate:\\n{\\n'Nodule': '[ANSWER]',\\n'Mass': '[ANSWER]',\\n'Calcification': '[ANSWER]',\\n'Asymmetry': '[ANSWER]',\\n'Architectural Distortion': '[ANSWER]',\\n'Skin Thickening': '[ANSWER]',\\n'Lymph Node Enlargement': '[ANSWER]',\\n'Intramammary Lymph Node': '[ANSWER]',\\n'Nipple Retraction': '[ANSWER]',\\n'Skin Retraction': '[ANSWER]',\\n'Trabecular Thickening': '[ANSWER]',\\n}\\n\\nReport:\\nRight Breast:  No speculated mass lesions or suspicious microcalcifications.  Normal skin thickness and contour of breast.        OPINION:    Right Breast:  Normal breast examination (BIRADS 1).                            \\n\\nAnswer according to the template:\\n{\\n'Nodule': 'obscure',\\n'Mass': 'obscure',\\n'Calcification': 'obscure',\\n'Asymmetry': 'obscure',\\n'Architectural Distortion': 'obscure',\\n'Skin Thickening': 'obscure',\\n'Lymph Node Enlargement': 'obscure',\\n'Intramammary Lymph Node': 'obscure',\\n'Nipple Retraction': 'obscure',\\n'Skin Retraction': 'obscure',\\n'Trabecular Thickening': 'obscure',\\n}\\n\\n\"]\n"
          ]
        },
        {
          "name": "stderr",
          "output_type": "stream",
          "text": [
            " 12%|█▏        | 19/163 [42:42<5:24:00, 135.00s/it]"
          ]
        },
        {
          "name": "stdout",
          "output_type": "stream",
          "text": [
            "[\"As an AI trained in analyzing radiology reports, your task is to classify the presence or absence of specific findings in each report. Respond according to the given template. \\n\\nRequirements:\\n1. Provide the lesion's location as 'right', 'left' or 'both'(i.e, right and left) if the lesion is explicitly mentioned as present.\\n2. Provide 'obscure' if the information is incomplete.\\n3. Default to 'x' if the finding is not mentioned.\\n\\nTemplate:\\n{\\n'Nodule': '[ANSWER]',\\n'Mass': '[ANSWER]',\\n'Calcification': '[ANSWER]',\\n'Asymmetry': '[ANSWER]',\\n'Architectural Distortion': '[ANSWER]',\\n'Skin Thickening': '[ANSWER]',\\n'Lymph Node Enlargement': '[ANSWER]',\\n'Intramammary Lymph Node': '[ANSWER]',\\n'Nipple Retraction': '[ANSWER]',\\n'Skin Retraction': '[ANSWER]',\\n'Trabecular Thickening': '[ANSWER]',\\n}\\n\\nReport:\\nRight Breast:  No speculated mass lesions or suspicious microcalcifications.  Normal skin thickness and contour of breast.          Left Breast:  Lower inner quadrant focal asymmetrical increased density is seen.  No suspicious microcalcifications.  Normal skin thickness and contour of breast.      OPINION:  Right Breast:  Normal breast examination (BIRADS 1).    Left Breast:  Lower inner focal asymmetry (BIRADS 3).                      \\n\\nAnswer according to the template:\\n{\\n'Nodule': 'obscure',\\n'Mass': 'obscure',\\n'Calcification': 'obscure',\\n'Asymmetry': 'left',\\n'Architectural Distortion': 'x',\\n'Skin Thickening': 'x',\\n'Lymph Node Enlargement': 'x',\\n'Intramammary Lymph Node': 'x',\\n'Nipple Retraction': 'x',\\n'Skin Retraction': 'x',\\n'Trabecular Thickening': 'x',\\n}\\n\\n\\n\\n\\n\\n\\n\\n\\n\\n\\n\\n\\n\\n\\n\\n\\n\\n\", \"As an AI trained in analyzing radiology reports, your task is to classify the presence or absence of specific findings in each report. Respond according to the given template. \\n\\nRequirements:\\n1. Provide the lesion's location as 'right', 'left' or 'both'(i.e, right and left) if the lesion is explicitly mentioned as present.\\n2. Provide 'obscure' if the information is incomplete.\\n3. Default to 'x' if the finding is not mentioned.\\n\\nTemplate:\\n{\\n'Nodule': '[ANSWER]',\\n'Mass': '[ANSWER]',\\n'Calcification': '[ANSWER]',\\n'Asymmetry': '[ANSWER]',\\n'Architectural Distortion': '[ANSWER]',\\n'Skin Thickening': '[ANSWER]',\\n'Lymph Node Enlargement': '[ANSWER]',\\n'Intramammary Lymph Node': '[ANSWER]',\\n'Nipple Retraction': '[ANSWER]',\\n'Skin Retraction': '[ANSWER]',\\n'Trabecular Thickening': '[ANSWER]',\\n}\\n\\nReport:\\nRight Breast:  No speculated mass lesions or suspicious microcalcifications.  Normal skin thickness and contour of breast.        OPINION:  Right Breast:  Normal breast examination (BIRADS 1).                                \\n\\nAnswer according to the template:\\n{\\n'Nodule': 'obscure',\\n'Mass': 'obscure',\\n'Calcification': 'obscure',\\n'Asymmetry': 'obscure',\\n'Architectural Distortion': 'obscure',\\n'Skin Thickening': 'obscure',\\n'Lymph Node Enlargement': 'obscure',\\n'Intramammary Lymph Node': 'obscure',\\n'Nipple Retraction': 'obscure',\\n'Skin Retraction': 'obscure',\\n'Trabecular Thickening': 'obscure',\\n}\\n\\n\"]\n"
          ]
        },
        {
          "name": "stderr",
          "output_type": "stream",
          "text": [
            " 12%|█▏        | 20/163 [44:57<5:21:44, 135.00s/it]"
          ]
        },
        {
          "name": "stdout",
          "output_type": "stream",
          "text": [
            "[\"As an AI trained in analyzing radiology reports, your task is to classify the presence or absence of specific findings in each report. Respond according to the given template. \\n\\nRequirements:\\n1. Provide the lesion's location as 'right', 'left' or 'both'(i.e, right and left) if the lesion is explicitly mentioned as present.\\n2. Provide 'obscure' if the information is incomplete.\\n3. Default to 'x' if the finding is not mentioned.\\n\\nTemplate:\\n{\\n'Nodule': '[ANSWER]',\\n'Mass': '[ANSWER]',\\n'Calcification': '[ANSWER]',\\n'Asymmetry': '[ANSWER]',\\n'Architectural Distortion': '[ANSWER]',\\n'Skin Thickening': '[ANSWER]',\\n'Lymph Node Enlargement': '[ANSWER]',\\n'Intramammary Lymph Node': '[ANSWER]',\\n'Nipple Retraction': '[ANSWER]',\\n'Skin Retraction': '[ANSWER]',\\n'Trabecular Thickening': '[ANSWER]',\\n}\\n\\nReport:\\nRight Breast:  No speculated mass lesions or suspicious microcalcifications.  Normal skin thickness and contour of breast.        OPINION:    Right Breast:  Normal breast examination (BIRADS 1).                            \\n\\nAnswer according to the template:\\n{\\n'Nodule': 'obscure',\\n'Mass': 'obscure',\\n'Calcification': 'obscure',\\n'Asymmetry': 'obscure',\\n'Architectural Distortion': 'obscure',\\n'Skin Thickening': 'obscure',\\n'Lymph Node Enlargement': 'obscure',\\n'Intramammary Lymph Node': 'obscure',\\n'Nipple Retraction': 'obscure',\\n'Skin Retraction': 'obscure',\\n'Trabecular Thickening': 'obscure',\\n}\\n\\n\", \"As an AI trained in analyzing radiology reports, your task is to classify the presence or absence of specific findings in each report. Respond according to the given template. \\n\\nRequirements:\\n1. Provide the lesion's location as 'right', 'left' or 'both'(i.e, right and left) if the lesion is explicitly mentioned as present.\\n2. Provide 'obscure' if the information is incomplete.\\n3. Default to 'x' if the finding is not mentioned.\\n\\nTemplate:\\n{\\n'Nodule': '[ANSWER]',\\n'Mass': '[ANSWER]',\\n'Calcification': '[ANSWER]',\\n'Asymmetry': '[ANSWER]',\\n'Architectural Distortion': '[ANSWER]',\\n'Skin Thickening': '[ANSWER]',\\n'Lymph Node Enlargement': '[ANSWER]',\\n'Intramammary Lymph Node': '[ANSWER]',\\n'Nipple Retraction': '[ANSWER]',\\n'Skin Retraction': '[ANSWER]',\\n'Trabecular Thickening': '[ANSWER]',\\n}\\n\\nReport:\\nRight Breast:  Upper outer rounded high density mass with indistinct margin is seen.  No suspicious microcalcifications.  Normal skin thickness and contour of breast.    Left Breast:  No speculated mass lesions or suspicious microcalcifications.  Upper outer quadrant IMLN is noted.  Normal skin thickness and contour of breast.      OPINION:  Right Breast:  Upper outer suspicious looking mass lesion (BIRADS 4).    Left Breast:  Upper outer IMLN (BIRADS 2).                    \\n\\nAnswer according to the template:\\n{\\n'Nodule': 'right',\\n'Mass': 'right',\\n'Calcification': 'x',\\n'Asymmetry': 'x',\\n'Architectural Distortion': 'x',\\n'Skin Thickening': 'x',\\n'Lymph Node Enlargement': 'left',\\n'Intramammary Lymph Node': 'left',\\n'Nipple Retraction': 'x',\\n'Skin Retraction': 'x',\\n'Trabecular Thickening': 'x',\\n}\\n\\n\\n\\n\\n\\n\\n\\n\\n\\n\\n\\n\\n\\n\\n\\n\\n\\n\\n\\n\\n\\n\\n\\n\"]\n"
          ]
        },
        {
          "name": "stderr",
          "output_type": "stream",
          "text": [
            " 13%|█▎        | 21/163 [47:11<5:19:17, 134.91s/it]"
          ]
        },
        {
          "name": "stdout",
          "output_type": "stream",
          "text": [
            "[\"As an AI trained in analyzing radiology reports, your task is to classify the presence or absence of specific findings in each report. Respond according to the given template. \\n\\nRequirements:\\n1. Provide the lesion's location as 'right', 'left' or 'both'(i.e, right and left) if the lesion is explicitly mentioned as present.\\n2. Provide 'obscure' if the information is incomplete.\\n3. Default to 'x' if the finding is not mentioned.\\n\\nTemplate:\\n{\\n'Nodule': '[ANSWER]',\\n'Mass': '[ANSWER]',\\n'Calcification': '[ANSWER]',\\n'Asymmetry': '[ANSWER]',\\n'Architectural Distortion': '[ANSWER]',\\n'Skin Thickening': '[ANSWER]',\\n'Lymph Node Enlargement': '[ANSWER]',\\n'Intramammary Lymph Node': '[ANSWER]',\\n'Nipple Retraction': '[ANSWER]',\\n'Skin Retraction': '[ANSWER]',\\n'Trabecular Thickening': '[ANSWER]',\\n}\\n\\nReport:\\nLeft Breast:  No speculated mass lesions or suspicious microcalcifications.  Normal skin thickness and contour of breast.        OPINION:    Left Breast:  Normal breast examination (BIRADS 1).                            \\n\\nAnswer according to the template:\\n{\\n'Nodule': 'obscure',\\n'Mass': 'obscure',\\n'Calcification': 'obscure',\\n'Asymmetry': 'obscure',\\n'Architectural Distortion': 'obscure',\\n'Skin Thickening': 'obscure',\\n'Lymph Node Enlargement': 'obscure',\\n'Intramammary Lymph Node': 'obscure',\\n'Nipple Retraction': 'obscure',\\n'Skin Retraction': 'obscure',\\n'Trabecular Thickening': 'obscure',\\n}\\n\\n\", \"As an AI trained in analyzing radiology reports, your task is to classify the presence or absence of specific findings in each report. Respond according to the given template. \\n\\nRequirements:\\n1. Provide the lesion's location as 'right', 'left' or 'both'(i.e, right and left) if the lesion is explicitly mentioned as present.\\n2. Provide 'obscure' if the information is incomplete.\\n3. Default to 'x' if the finding is not mentioned.\\n\\nTemplate:\\n{\\n'Nodule': '[ANSWER]',\\n'Mass': '[ANSWER]',\\n'Calcification': '[ANSWER]',\\n'Asymmetry': '[ANSWER]',\\n'Architectural Distortion': '[ANSWER]',\\n'Skin Thickening': '[ANSWER]',\\n'Lymph Node Enlargement': '[ANSWER]',\\n'Intramammary Lymph Node': '[ANSWER]',\\n'Nipple Retraction': '[ANSWER]',\\n'Skin Retraction': '[ANSWER]',\\n'Trabecular Thickening': '[ANSWER]',\\n}\\n\\nReport:\\nRight Breast:  Lower asymmetrical increased density is noted.  No speculated mass lesions or suspicious microcalcifications.  Normal skin thickness and contour of breast.        OPINION:    Right Breast:  Lower asymmetry (BIRADS 3).                            \\n\\nAnswer according to the template:\\n{\\n'Nodule': 'obscure',\\n'Mass': 'obscure',\\n'Calcification': 'obscure',\\n'Asymmetry': 'right',\\n'Architectural Distortion': 'obscure',\\n'Skin Thickening': 'obscure',\\n'Lymph Node Enlargement': 'obscure',\\n'Intramammary Lymph Node': 'obscure',\\n'Nipple Retraction': 'obscure',\\n'Skin Retraction': 'obscure',\\n'Trabecular Thickening': 'obscure',\\n}\\n\\nReport:\"]\n"
          ]
        },
        {
          "name": "stderr",
          "output_type": "stream",
          "text": [
            " 13%|█▎        | 22/163 [49:27<5:17:18, 135.03s/it]"
          ]
        },
        {
          "name": "stdout",
          "output_type": "stream",
          "text": [
            "[\"As an AI trained in analyzing radiology reports, your task is to classify the presence or absence of specific findings in each report. Respond according to the given template. \\n\\nRequirements:\\n1. Provide the lesion's location as 'right', 'left' or 'both'(i.e, right and left) if the lesion is explicitly mentioned as present.\\n2. Provide 'obscure' if the information is incomplete.\\n3. Default to 'x' if the finding is not mentioned.\\n\\nTemplate:\\n{\\n'Nodule': '[ANSWER]',\\n'Mass': '[ANSWER]',\\n'Calcification': '[ANSWER]',\\n'Asymmetry': '[ANSWER]',\\n'Architectural Distortion': '[ANSWER]',\\n'Skin Thickening': '[ANSWER]',\\n'Lymph Node Enlargement': '[ANSWER]',\\n'Intramammary Lymph Node': '[ANSWER]',\\n'Nipple Retraction': '[ANSWER]',\\n'Skin Retraction': '[ANSWER]',\\n'Trabecular Thickening': '[ANSWER]',\\n}\\n\\nReport:\\nRight Breast:  No speculated mass lesions or suspicious microcalcifications.  Normal skin thickness and contour of breast.        OPINION:    Right Breast:  Normal breast examination (BIRADS 1).                            \\n\\nAnswer according to the template:\\n{\\n'Nodule': 'obscure',\\n'Mass': 'obscure',\\n'Calcification': 'obscure',\\n'Asymmetry': 'obscure',\\n'Architectural Distortion': 'obscure',\\n'Skin Thickening': 'obscure',\\n'Lymph Node Enlargement': 'obscure',\\n'Intramammary Lymph Node': 'obscure',\\n'Nipple Retraction': 'obscure',\\n'Skin Retraction': 'obscure',\\n'Trabecular Thickening': 'obscure',\\n}\\n\\n\", \"As an AI trained in analyzing radiology reports, your task is to classify the presence or absence of specific findings in each report. Respond according to the given template. \\n\\nRequirements:\\n1. Provide the lesion's location as 'right', 'left' or 'both'(i.e, right and left) if the lesion is explicitly mentioned as present.\\n2. Provide 'obscure' if the information is incomplete.\\n3. Default to 'x' if the finding is not mentioned.\\n\\nTemplate:\\n{\\n'Nodule': '[ANSWER]',\\n'Mass': '[ANSWER]',\\n'Calcification': '[ANSWER]',\\n'Asymmetry': '[ANSWER]',\\n'Architectural Distortion': '[ANSWER]',\\n'Skin Thickening': '[ANSWER]',\\n'Lymph Node Enlargement': '[ANSWER]',\\n'Intramammary Lymph Node': '[ANSWER]',\\n'Nipple Retraction': '[ANSWER]',\\n'Skin Retraction': '[ANSWER]',\\n'Trabecular Thickening': '[ANSWER]',\\n}\\n\\nReport:\\nRight Breast:  ACR C: Heterogenously dense breasts.  Outer oval shaped mixed density mass with circumscribed margin is seen.   No suspicious microcalcifications.  Normal skin thickness and contour of breast.    Left Breast:  Status postoperative showing operative scar and edema.  No speculated mass lesions or suspicious microcalcifications.      OPINION:  Right Breast:  Outer fat containing benign looking mass (BIRADS 2).    Left Breast:  Status post operative with operative scar and edema showing no evidence of recurrent lesions (BIRADS 2).                        \\n\\nAnswer according to the template:\\n{\\n'Nodule': 'right',\\n'Mass': 'right',\\n'Calcification': 'x',\\n'Asymmetry': 'x',\\n'Architectural Distortion': 'x',\\n'Skin Thickening': 'x',\\n'Lymph Node Enlargement': 'x',\\n'Intramammary Lymph Node': 'x',\\n'Nipple Retraction': 'x',\\n'Skin Retraction': 'x',\\n'Trabecular Thickening': 'x',\\n}\\n\\n\\n\\n\\n\\n\\n\\n\\n\\n\\n\\n\\n\\n\\n\\n\\n\\n\\n\\n\\n\\n\\n\\n\"]\n"
          ]
        },
        {
          "name": "stderr",
          "output_type": "stream",
          "text": [
            " 14%|█▍        | 23/163 [51:42<5:15:24, 135.17s/it]"
          ]
        },
        {
          "name": "stdout",
          "output_type": "stream",
          "text": [
            "[\"As an AI trained in analyzing radiology reports, your task is to classify the presence or absence of specific findings in each report. Respond according to the given template. \\n\\nRequirements:\\n1. Provide the lesion's location as 'right', 'left' or 'both'(i.e, right and left) if the lesion is explicitly mentioned as present.\\n2. Provide 'obscure' if the information is incomplete.\\n3. Default to 'x' if the finding is not mentioned.\\n\\nTemplate:\\n{\\n'Nodule': '[ANSWER]',\\n'Mass': '[ANSWER]',\\n'Calcification': '[ANSWER]',\\n'Asymmetry': '[ANSWER]',\\n'Architectural Distortion': '[ANSWER]',\\n'Skin Thickening': '[ANSWER]',\\n'Lymph Node Enlargement': '[ANSWER]',\\n'Intramammary Lymph Node': '[ANSWER]',\\n'Nipple Retraction': '[ANSWER]',\\n'Skin Retraction': '[ANSWER]',\\n'Trabecular Thickening': '[ANSWER]',\\n}\\n\\nReport:\\nRight Breast:  Upper central periareolar oval shaped lobulated equal density mass with partially obscured margin is seen.  Another lower inner equal density rounded mass with circumscribed margin is also seen.  No suspicious microcalcifications.  Normal skin thickness and contour of breast.    Left Breast:  Central and lower inner quadrant asymmetrical increased density is seen.  Associated lower inner equal density rounded mass with circumscribed margin is also seen.  No suspicious microcalcifications.  Normal skin thickness and contour of breast.        OPINION:    Right Breast:  Two upper central periareolar and lower inner benign looking masses (BIRADS 3).    Left Breast:  Central and lower inner asymmetrical increased density (BIRADS 3).  Lower inner benign looking mass (BIRADS 3).            \\n\\nAnswer according to the template:\\n{\\n'Nodule': 'both',\\n'Mass': 'both',\\n'Calcification': 'x',\\n'Asymmetry': 'left',\\n'Architectural Distortion': 'x',\\n'Skin Thickening': 'x',\\n'Lymph Node Enlargement': 'x',\\n'Intramammary Lymph Node': 'x',\\n'Nipple Retraction': 'x',\\n'Skin Retraction': 'x',\\n'Trabecular Thickening': 'x',\\n}\\n\\n\\n\\n\\n\\n\\n\\n\\n\\n\\n\\n\\n\\n\\n\\n\\n\\n\\n\\n\\n\\n\\n\\n\", \"As an AI trained in analyzing radiology reports, your task is to classify the presence or absence of specific findings in each report. Respond according to the given template. \\n\\nRequirements:\\n1. Provide the lesion's location as 'right', 'left' or 'both'(i.e, right and left) if the lesion is explicitly mentioned as present.\\n2. Provide 'obscure' if the information is incomplete.\\n3. Default to 'x' if the finding is not mentioned.\\n\\nTemplate:\\n{\\n'Nodule': '[ANSWER]',\\n'Mass': '[ANSWER]',\\n'Calcification': '[ANSWER]',\\n'Asymmetry': '[ANSWER]',\\n'Architectural Distortion': '[ANSWER]',\\n'Skin Thickening': '[ANSWER]',\\n'Lymph Node Enlargement': '[ANSWER]',\\n'Intramammary Lymph Node': '[ANSWER]',\\n'Nipple Retraction': '[ANSWER]',\\n'Skin Retraction': '[ANSWER]',\\n'Trabecular Thickening': '[ANSWER]',\\n}\\n\\nReport:\\nRight Breast:  No speculated mass lesions or suspicious microcalcifications.  Normal skin thickness and contour of breast.    Left Breast:  Upper asymmetrical increased density with overlying microcalcifications is noted.   Normal skin thickness and contour of breast.        OPINION:    Right Breast:  Normal breast examination (BIRADS 1).    Left Breast:  Upper asymmetry with overlying suspicious microcalcifications (BIRADS 4).                  \\n\\nAnswer according to the template:\\n{\\n'Nodule': 'obscure',\\n'Mass': 'obscure',\\n'Calcification': 'obscure',\\n'Asymmetry': 'left',\\n'Architectural Distortion': 'x',\\n'Skin Thickening': 'x',\\n'Lymph Node Enlargement': 'x',\\n'Intramammary Lymph Node': 'x',\\n'Nipple Retraction': 'x',\\n'Skin Retraction': 'x',\\n'Trabecular Thickening': 'x',\\n}\\n\\n\\n\\n\\n\\n\\n\\n\\n\\n\\n\\n\\n\\n\\n\\n\\n\\n\"]\n"
          ]
        },
        {
          "name": "stderr",
          "output_type": "stream",
          "text": [
            " 15%|█▍        | 24/163 [53:57<5:13:01, 135.12s/it]"
          ]
        },
        {
          "name": "stdout",
          "output_type": "stream",
          "text": [
            "[\"As an AI trained in analyzing radiology reports, your task is to classify the presence or absence of specific findings in each report. Respond according to the given template. \\n\\nRequirements:\\n1. Provide the lesion's location as 'right', 'left' or 'both'(i.e, right and left) if the lesion is explicitly mentioned as present.\\n2. Provide 'obscure' if the information is incomplete.\\n3. Default to 'x' if the finding is not mentioned.\\n\\nTemplate:\\n{\\n'Nodule': '[ANSWER]',\\n'Mass': '[ANSWER]',\\n'Calcification': '[ANSWER]',\\n'Asymmetry': '[ANSWER]',\\n'Architectural Distortion': '[ANSWER]',\\n'Skin Thickening': '[ANSWER]',\\n'Lymph Node Enlargement': '[ANSWER]',\\n'Intramammary Lymph Node': '[ANSWER]',\\n'Nipple Retraction': '[ANSWER]',\\n'Skin Retraction': '[ANSWER]',\\n'Trabecular Thickening': '[ANSWER]',\\n}\\n\\nReport:\\nRight Breast:  Outer architectural distortion and irregular high density mass with speculated margin is seen with overlying clusters of pleomorphic microcalcifications.  Retroareolar oval shaped equal density mass with circumscribed margin is also noted.  Normal skin thickness and contour of breast.      OPINION:  Right Breast:  Outer architectural distortion and malignant looking mass with overlying suspicious microcalcifications associated with retroareolar mass (BIRADS 4).                              \\n\\nAnswer according to the template:\\n{\\n'Nodule': 'obscure',\\n'Mass': 'right',\\n'Calcification': 'right',\\n'Asymmetry': 'obscure',\\n'Architectural Distortion': 'right',\\n'Skin Thickening': 'x',\\n'Lymph Node Enlargement': 'x',\\n'Intramammary Lymph Node': 'x',\\n'Nipple Retraction': 'x',\\n'Skin Retraction': 'x',\\n'Trabecular Thickening': 'x',\\n}\\n\\n\\n\\n\\n\\n\\n\\n\\n\\n\\n\\n\\n\\n\\n\\n\\n\\n\\n\\n\", \"As an AI trained in analyzing radiology reports, your task is to classify the presence or absence of specific findings in each report. Respond according to the given template. \\n\\nRequirements:\\n1. Provide the lesion's location as 'right', 'left' or 'both'(i.e, right and left) if the lesion is explicitly mentioned as present.\\n2. Provide 'obscure' if the information is incomplete.\\n3. Default to 'x' if the finding is not mentioned.\\n\\nTemplate:\\n{\\n'Nodule': '[ANSWER]',\\n'Mass': '[ANSWER]',\\n'Calcification': '[ANSWER]',\\n'Asymmetry': '[ANSWER]',\\n'Architectural Distortion': '[ANSWER]',\\n'Skin Thickening': '[ANSWER]',\\n'Lymph Node Enlargement': '[ANSWER]',\\n'Intramammary Lymph Node': '[ANSWER]',\\n'Nipple Retraction': '[ANSWER]',\\n'Skin Retraction': '[ANSWER]',\\n'Trabecular Thickening': '[ANSWER]',\\n}\\n\\nReport:\\nLeft Breast:  No speculated mass lesions or suspicious microcalcifications.  Normal skin thickness and contour of breast.        OPINION:    Left Breast:  Normal breast examination (BIRADS 1).                            \\n\\nAnswer according to the template:\\n{\\n'Nodule': 'obscure',\\n'Mass': 'obscure',\\n'Calcification': 'obscure',\\n'Asymmetry': 'obscure',\\n'Architectural Distortion': 'obscure',\\n'Skin Thickening': 'obscure',\\n'Lymph Node Enlargement': 'obscure',\\n'Intramammary Lymph Node': 'obscure',\\n'Nipple Retraction': 'obscure',\\n'Skin Retraction': 'obscure',\\n'Trabecular Thickening': 'obscure',\\n}\\n\\n\"]\n"
          ]
        },
        {
          "name": "stderr",
          "output_type": "stream",
          "text": [
            " 15%|█▌        | 25/163 [56:12<5:10:43, 135.10s/it]"
          ]
        },
        {
          "name": "stdout",
          "output_type": "stream",
          "text": [
            "[\"As an AI trained in analyzing radiology reports, your task is to classify the presence or absence of specific findings in each report. Respond according to the given template. \\n\\nRequirements:\\n1. Provide the lesion's location as 'right', 'left' or 'both'(i.e, right and left) if the lesion is explicitly mentioned as present.\\n2. Provide 'obscure' if the information is incomplete.\\n3. Default to 'x' if the finding is not mentioned.\\n\\nTemplate:\\n{\\n'Nodule': '[ANSWER]',\\n'Mass': '[ANSWER]',\\n'Calcification': '[ANSWER]',\\n'Asymmetry': '[ANSWER]',\\n'Architectural Distortion': '[ANSWER]',\\n'Skin Thickening': '[ANSWER]',\\n'Lymph Node Enlargement': '[ANSWER]',\\n'Intramammary Lymph Node': '[ANSWER]',\\n'Nipple Retraction': '[ANSWER]',\\n'Skin Retraction': '[ANSWER]',\\n'Trabecular Thickening': '[ANSWER]',\\n}\\n\\nReport:\\nRight Breast:  No speculated mass lesions or suspicious microcalcifications.  Normal skin thickness and contour of breast.    Left Breast:  No speculated mass lesions or suspicious microcalcifications.  Normal skin thickness and contour of breast.      OPINION:  Right Breast:  Normal breast examination (BIRADS 1).    Left Breast:  Normal breast examination (BIRADS 1).                      \\n\\nAnswer according to the template:\\n{\\n'Nodule': 'obscure',\\n'Mass': 'obscure',\\n'Calcification': 'obscure',\\n'Asymmetry': 'obscure',\\n'Architectural Distortion': 'obscure',\\n'Skin Thickening': 'obscure',\\n'Lymph Node Enlargement': 'obscure',\\n'Intramammary Lymph Node': 'obscure',\\n'Nipple Retraction': 'obscure',\\n'Skin Retraction': 'obscure',\\n'Trabecular Thickening': 'obscure',\\n}\\n\\n\", \"As an AI trained in analyzing radiology reports, your task is to classify the presence or absence of specific findings in each report. Respond according to the given template. \\n\\nRequirements:\\n1. Provide the lesion's location as 'right', 'left' or 'both'(i.e, right and left) if the lesion is explicitly mentioned as present.\\n2. Provide 'obscure' if the information is incomplete.\\n3. Default to 'x' if the finding is not mentioned.\\n\\nTemplate:\\n{\\n'Nodule': '[ANSWER]',\\n'Mass': '[ANSWER]',\\n'Calcification': '[ANSWER]',\\n'Asymmetry': '[ANSWER]',\\n'Architectural Distortion': '[ANSWER]',\\n'Skin Thickening': '[ANSWER]',\\n'Lymph Node Enlargement': '[ANSWER]',\\n'Intramammary Lymph Node': '[ANSWER]',\\n'Nipple Retraction': '[ANSWER]',\\n'Skin Retraction': '[ANSWER]',\\n'Trabecular Thickening': '[ANSWER]',\\n}\\n\\nReport:\\nRight Breast:  No speculated mass lesions or suspicious microcalcifications.  Normal skin thickness and contour of breast.    Left Breast:  Outer focal asymmetrical increased density is noted.   No speculated mass lesions or suspicious microcalcifications.  Normal skin thickness and contour of breast.      OPINION:  Right Breast:  Normal breast examination (BIRADS 1).    Left Breast:  Outer focal asymmetry (BIRADS 3).                        \\n\\nAnswer according to the template:\\n{\\n'Nodule': 'obscure',\\n'Mass': 'obscure',\\n'Calcification': 'obscure',\\n'Asymmetry': 'left',\\n'Architectural Distortion': 'x',\\n'Skin Thickening': 'x',\\n'Lymph Node Enlargement': 'x',\\n'Intramammary Lymph Node': 'x',\\n'Nipple Retraction': 'x',\\n'Skin Retraction': 'x',\\n'Trabecular Thickening': 'x',\\n}\\n\\n\\n\\n\\n\\n\\n\\n\\n\\n\\n\\n\\n\\n\\n\\n\\n\\n\"]\n"
          ]
        },
        {
          "name": "stderr",
          "output_type": "stream",
          "text": [
            " 16%|█▌        | 26/163 [58:27<5:08:28, 135.10s/it]"
          ]
        },
        {
          "name": "stdout",
          "output_type": "stream",
          "text": [
            "[\"As an AI trained in analyzing radiology reports, your task is to classify the presence or absence of specific findings in each report. Respond according to the given template. \\n\\nRequirements:\\n1. Provide the lesion's location as 'right', 'left' or 'both'(i.e, right and left) if the lesion is explicitly mentioned as present.\\n2. Provide 'obscure' if the information is incomplete.\\n3. Default to 'x' if the finding is not mentioned.\\n\\nTemplate:\\n{\\n'Nodule': '[ANSWER]',\\n'Mass': '[ANSWER]',\\n'Calcification': '[ANSWER]',\\n'Asymmetry': '[ANSWER]',\\n'Architectural Distortion': '[ANSWER]',\\n'Skin Thickening': '[ANSWER]',\\n'Lymph Node Enlargement': '[ANSWER]',\\n'Intramammary Lymph Node': '[ANSWER]',\\n'Nipple Retraction': '[ANSWER]',\\n'Skin Retraction': '[ANSWER]',\\n'Trabecular Thickening': '[ANSWER]',\\n}\\n\\nReport:\\nRight Breast:  Upper outer and central asymmetrical increased density with overlying microcalcifications is seen.   Normal skin thickness and contour of breast.    Left Breast:  Upper outer benign macrocalcification is noted.  No speculated mass lesions or suspicious microcalcifications.  Normal skin thickness and contour of breast.        OPINION:    Right Breast:  Upper outer and central asymmetry with overlying malignant microcalcifications (BIRADS 5).    Left Breast:  Upper outer benign macrocalcification (BIRADS 2).                  \\n\\nAnswer according to the template:\\n{\\n'Nodule': 'obscure',\\n'Mass': 'obscure',\\n'Calcification': 'obscure',\\n'Asymmetry': 'right',\\n'Architectural Distortion': 'x',\\n'Skin Thickening': 'x',\\n'Lymph Node Enlargement': 'x',\\n'Intramammary Lymph Node': 'x',\\n'Nipple Retraction': 'x',\\n'Skin Retraction': 'x',\\n'Trabecular Thickening': 'x',\\n}\\n\\n\\n\\n\\n\\n\\n\\n\\n\\n\\n\\n\\n\\n\\n\\n\\n\\n\", \"As an AI trained in analyzing radiology reports, your task is to classify the presence or absence of specific findings in each report. Respond according to the given template. \\n\\nRequirements:\\n1. Provide the lesion's location as 'right', 'left' or 'both'(i.e, right and left) if the lesion is explicitly mentioned as present.\\n2. Provide 'obscure' if the information is incomplete.\\n3. Default to 'x' if the finding is not mentioned.\\n\\nTemplate:\\n{\\n'Nodule': '[ANSWER]',\\n'Mass': '[ANSWER]',\\n'Calcification': '[ANSWER]',\\n'Asymmetry': '[ANSWER]',\\n'Architectural Distortion': '[ANSWER]',\\n'Skin Thickening': '[ANSWER]',\\n'Lymph Node Enlargement': '[ANSWER]',\\n'Intramammary Lymph Node': '[ANSWER]',\\n'Nipple Retraction': '[ANSWER]',\\n'Skin Retraction': '[ANSWER]',\\n'Trabecular Thickening': '[ANSWER]',\\n}\\n\\nReport:\\nRight Breast:  No speculated mass lesions or suspicious microcalcifications.  Normal skin thickness and contour of breast.    Left Breast:  Upper central and inner benign macrocalcifications.  No speculated mass lesions or suspicious microcalcifications.  Normal skin thickness and contour of breast.      OPINION:  Right Breast:  Normal breast examination (BIRADS 1).    Left Breast:  Upper central and inner benign macrocalcifications (BIRADS 2).                    \\n\\nAnswer according to the template:\\n{\\n'Nodule': 'obscure',\\n'Mass': 'obscure',\\n'Calcification': 'both',\\n'Asymmetry': 'x',\\n'Architectural Distortion': 'x',\\n'Skin Thickening': 'x',\\n'Lymph Node Enlargement': 'x',\\n'Intramammary Lymph Node': 'x',\\n'Nipple Retraction': 'x',\\n'Skin Retraction': 'x',\\n'Trabecular Thickening': 'x',\\n}\\n\\n\\n\\n\\n\\n\\n\\n\\n\\n\\n\\n\\n\\n\\n\\n\\n\\n\\n\\n\"]\n"
          ]
        },
        {
          "name": "stderr",
          "output_type": "stream",
          "text": [
            " 17%|█▋        | 27/163 [1:00:42<5:06:13, 135.10s/it]"
          ]
        },
        {
          "name": "stdout",
          "output_type": "stream",
          "text": [
            "[\"As an AI trained in analyzing radiology reports, your task is to classify the presence or absence of specific findings in each report. Respond according to the given template. \\n\\nRequirements:\\n1. Provide the lesion's location as 'right', 'left' or 'both'(i.e, right and left) if the lesion is explicitly mentioned as present.\\n2. Provide 'obscure' if the information is incomplete.\\n3. Default to 'x' if the finding is not mentioned.\\n\\nTemplate:\\n{\\n'Nodule': '[ANSWER]',\\n'Mass': '[ANSWER]',\\n'Calcification': '[ANSWER]',\\n'Asymmetry': '[ANSWER]',\\n'Architectural Distortion': '[ANSWER]',\\n'Skin Thickening': '[ANSWER]',\\n'Lymph Node Enlargement': '[ANSWER]',\\n'Intramammary Lymph Node': '[ANSWER]',\\n'Nipple Retraction': '[ANSWER]',\\n'Skin Retraction': '[ANSWER]',\\n'Trabecular Thickening': '[ANSWER]',\\n}\\n\\nReport:\\nRight Breast:  Asymmetrical increased density and edema pattern.  No speculated mass lesions or suspicious microcalcifications.        OPINION:    Right Breast:  Asymmetry and edema pattern (BIRADS 4).                            \\n\\nAnswer according to the template:\\n{\\n'Nodule': 'obscure',\\n'Mass': 'obscure',\\n'Calcification': 'obscure',\\n'Asymmetry': 'right',\\n'Architectural Distortion': 'obscure',\\n'Skin Thickening': 'obscure',\\n'Lymph Node Enlargement': 'obscure',\\n'Intramammary Lymph Node': 'obscure',\\n'Nipple Retraction': 'obscure',\\n'Skin Retraction': 'obscure',\\n'Trabecular Thickening': 'obscure',\\n}\\n\\nReport:\", \"As an AI trained in analyzing radiology reports, your task is to classify the presence or absence of specific findings in each report. Respond according to the given template. \\n\\nRequirements:\\n1. Provide the lesion's location as 'right', 'left' or 'both'(i.e, right and left) if the lesion is explicitly mentioned as present.\\n2. Provide 'obscure' if the information is incomplete.\\n3. Default to 'x' if the finding is not mentioned.\\n\\nTemplate:\\n{\\n'Nodule': '[ANSWER]',\\n'Mass': '[ANSWER]',\\n'Calcification': '[ANSWER]',\\n'Asymmetry': '[ANSWER]',\\n'Architectural Distortion': '[ANSWER]',\\n'Skin Thickening': '[ANSWER]',\\n'Lymph Node Enlargement': '[ANSWER]',\\n'Intramammary Lymph Node': '[ANSWER]',\\n'Nipple Retraction': '[ANSWER]',\\n'Skin Retraction': '[ANSWER]',\\n'Trabecular Thickening': '[ANSWER]',\\n}\\n\\nReport:\\nRight Breast:  Status postoperative showing operative scar and edema.  No speculated mass lesions or suspicious microcalcifications.      Left Breast:  ACR B: Scattered fibroglandular tissue.  No speculated mass lesions or suspicious microcalcifications.  Normal skin thickness and contour of breast.      OPINION:  Right Breast:  Status post operative with operative scar and edema showing no evidence of recurrent lesions (BIRADS 2).    Left Breast:  Normal breast examination (BIRADS 1).                        \\n\\nAnswer according to the template:\\n{\\n'Nodule': 'obscure',\\n'Mass': 'obscure',\\n'Calcification': 'obscure',\\n'Asymmetry': 'obscure',\\n'Architectural Distortion': 'obscure',\\n'Skin Thickening': 'obscure',\\n'Lymph Node Enlargement': 'obscure',\\n'Intramammary Lymph Node': 'obscure',\\n'Nipple Retraction': 'obscure',\\n'Skin Retraction': 'obscure',\\n'Trabecular Thickening': 'obscure',\\n}\\n\\n\"]\n"
          ]
        },
        {
          "name": "stderr",
          "output_type": "stream",
          "text": [
            " 17%|█▋        | 28/163 [1:02:58<5:04:07, 135.16s/it]"
          ]
        },
        {
          "name": "stdout",
          "output_type": "stream",
          "text": [
            "['As an AI trained in analyzing radiology reports, your task is to classify the presence or absence of specific findings in each report. Respond according to the given template. \\n\\nRequirements:\\n1. Provide the lesion\\'s location as \\'right\\', \\'left\\' or \\'both\\'(i.e, right and left) if the lesion is explicitly mentioned as present.\\n2. Provide \\'obscure\\' if the information is incomplete.\\n3. Default to \\'x\\' if the finding is not mentioned.\\n\\nTemplate:\\n{\\n\\'Nodule\\': \\'[ANSWER]\\',\\n\\'Mass\\': \\'[ANSWER]\\',\\n\\'Calcification\\': \\'[ANSWER]\\',\\n\\'Asymmetry\\': \\'[ANSWER]\\',\\n\\'Architectural Distortion\\': \\'[ANSWER]\\',\\n\\'Skin Thickening\\': \\'[ANSWER]\\',\\n\\'Lymph Node Enlargement\\': \\'[ANSWER]\\',\\n\\'Intramammary Lymph Node\\': \\'[ANSWER]\\',\\n\\'Nipple Retraction\\': \\'[ANSWER]\\',\\n\\'Skin Retraction\\': \\'[ANSWER]\\',\\n\\'Trabecular Thickening\\': \\'[ANSWER]\\',\\n}\\n\\nReport:\\nRight Breast:  Status post operative showing two upper outer and inner quadrants focal asymmetrical increased densities with nipple retraction.  No suspicious microcalcifications.      Left Breast:  ACR B: Scattered fibroglandular tissue.  No speculated mass lesions or suspicious microcalcifications.  Normal skin thickness and contour of breast.      OPINION:  Right Breast:  Status post operative showing two recurrent malignant looking focal asymmetries with nipple retraction (BIRADS 5).    Left Breast:  Normal breast examination (BIRADS 1).                        \\n\\nAnswer according to the template:\\n{\\n\\'Nodule\\': \\'obscure\\',\\n\\'Mass\\': \\'obscure\\',\\n\\'Calcification\\': \\'x\\',\\n\\'Asymmetry\\': \\'right\\',\\n\\'Architectural Distortion\\': \\'obscure\\',\\n\\'Skin Thickening\\': \\'obscure\\',\\n\\'Lymph Node Enlargement\\': \\'obscure\\',\\n\\'Intramammary Lymph Node\\': \\'obscure\\',\\n\\'Nipple Retraction\\': \\'right\\',\\n\\'Skin Retraction\\': \\'obscure\\',\\n\\'Trabecular Thickening\\': \\'obscure\\',\\n}\\n\\n\"\"\"\\n\\nimport json', \"As an AI trained in analyzing radiology reports, your task is to classify the presence or absence of specific findings in each report. Respond according to the given template. \\n\\nRequirements:\\n1. Provide the lesion's location as 'right', 'left' or 'both'(i.e, right and left) if the lesion is explicitly mentioned as present.\\n2. Provide 'obscure' if the information is incomplete.\\n3. Default to 'x' if the finding is not mentioned.\\n\\nTemplate:\\n{\\n'Nodule': '[ANSWER]',\\n'Mass': '[ANSWER]',\\n'Calcification': '[ANSWER]',\\n'Asymmetry': '[ANSWER]',\\n'Architectural Distortion': '[ANSWER]',\\n'Skin Thickening': '[ANSWER]',\\n'Lymph Node Enlargement': '[ANSWER]',\\n'Intramammary Lymph Node': '[ANSWER]',\\n'Nipple Retraction': '[ANSWER]',\\n'Skin Retraction': '[ANSWER]',\\n'Trabecular Thickening': '[ANSWER]',\\n}\\n\\nReport:\\nRight Breast:  No speculated mass lesions or suspicious microcalcifications.  Normal skin thickness and contour of breast.    Left Breast:  Upper central architectural distortion is seen.  No suspicious microcalcifications.  Normal skin thickness and contour of breast.      OPINION:  Right Breast:  Normal breast examination (BIRADS 1).    Left Breast:  Upper central architectural distortion (BIRADS 4).                              \\n\\nAnswer according to the template:\\n{\\n'Nodule': 'obscure',\\n'Mass': 'obscure',\\n'Calcification': 'obscure',\\n'Asymmetry': 'obscure',\\n'Architectural Distortion': 'left',\\n'Skin Thickening': 'obscure',\\n'Lymph Node Enlargement': 'obscure',\\n'Intramammary Lymph Node': 'obscure',\\n'Nipple Retraction': 'obscure',\\n'Skin Retraction': 'obscure',\\n'Trabecular Thickening': 'obscure',\\n}\\n\\n\\n\\n\"]\n"
          ]
        },
        {
          "name": "stderr",
          "output_type": "stream",
          "text": [
            " 18%|█▊        | 29/163 [1:05:12<5:01:31, 135.01s/it]"
          ]
        },
        {
          "name": "stdout",
          "output_type": "stream",
          "text": [
            "[\"As an AI trained in analyzing radiology reports, your task is to classify the presence or absence of specific findings in each report. Respond according to the given template. \\n\\nRequirements:\\n1. Provide the lesion's location as 'right', 'left' or 'both'(i.e, right and left) if the lesion is explicitly mentioned as present.\\n2. Provide 'obscure' if the information is incomplete.\\n3. Default to 'x' if the finding is not mentioned.\\n\\nTemplate:\\n{\\n'Nodule': '[ANSWER]',\\n'Mass': '[ANSWER]',\\n'Calcification': '[ANSWER]',\\n'Asymmetry': '[ANSWER]',\\n'Architectural Distortion': '[ANSWER]',\\n'Skin Thickening': '[ANSWER]',\\n'Lymph Node Enlargement': '[ANSWER]',\\n'Intramammary Lymph Node': '[ANSWER]',\\n'Nipple Retraction': '[ANSWER]',\\n'Skin Retraction': '[ANSWER]',\\n'Trabecular Thickening': '[ANSWER]',\\n}\\n\\nReport:\\nRight Breast:  No speculated mass lesions or suspicious microcalcifications.  Normal skin thickness and contour of breast.        OPINION:    Right Breast:  Normal breast examination (BIRADS 1).                            \\n\\nAnswer according to the template:\\n{\\n'Nodule': 'obscure',\\n'Mass': 'obscure',\\n'Calcification': 'obscure',\\n'Asymmetry': 'obscure',\\n'Architectural Distortion': 'obscure',\\n'Skin Thickening': 'obscure',\\n'Lymph Node Enlargement': 'obscure',\\n'Intramammary Lymph Node': 'obscure',\\n'Nipple Retraction': 'obscure',\\n'Skin Retraction': 'obscure',\\n'Trabecular Thickening': 'obscure',\\n}\\n\\n\", \"As an AI trained in analyzing radiology reports, your task is to classify the presence or absence of specific findings in each report. Respond according to the given template. \\n\\nRequirements:\\n1. Provide the lesion's location as 'right', 'left' or 'both'(i.e, right and left) if the lesion is explicitly mentioned as present.\\n2. Provide 'obscure' if the information is incomplete.\\n3. Default to 'x' if the finding is not mentioned.\\n\\nTemplate:\\n{\\n'Nodule': '[ANSWER]',\\n'Mass': '[ANSWER]',\\n'Calcification': '[ANSWER]',\\n'Asymmetry': '[ANSWER]',\\n'Architectural Distortion': '[ANSWER]',\\n'Skin Thickening': '[ANSWER]',\\n'Lymph Node Enlargement': '[ANSWER]',\\n'Intramammary Lymph Node': '[ANSWER]',\\n'Nipple Retraction': '[ANSWER]',\\n'Skin Retraction': '[ANSWER]',\\n'Trabecular Thickening': '[ANSWER]',\\n}\\n\\nReport:\\nLeft Breast:  No speculated mass lesions or suspicious microcalcifications.  Normal skin thickness and contour of breast.        OPINION:    Left Breast:  Normal breast examination (BIRADS 1).                            \\n\\nAnswer according to the template:\\n{\\n'Nodule': 'obscure',\\n'Mass': 'obscure',\\n'Calcification': 'obscure',\\n'Asymmetry': 'obscure',\\n'Architectural Distortion': 'obscure',\\n'Skin Thickening': 'obscure',\\n'Lymph Node Enlargement': 'obscure',\\n'Intramammary Lymph Node': 'obscure',\\n'Nipple Retraction': 'obscure',\\n'Skin Retraction': 'obscure',\\n'Trabecular Thickening': 'obscure',\\n}\\n\\n\"]\n"
          ]
        },
        {
          "name": "stderr",
          "output_type": "stream",
          "text": [
            " 18%|█▊        | 30/163 [1:07:27<4:59:23, 135.06s/it]"
          ]
        },
        {
          "name": "stdout",
          "output_type": "stream",
          "text": [
            "['As an AI trained in analyzing radiology reports, your task is to classify the presence or absence of specific findings in each report. Respond according to the given template. \\n\\nRequirements:\\n1. Provide the lesion\\'s location as \\'right\\', \\'left\\' or \\'both\\'(i.e, right and left) if the lesion is explicitly mentioned as present.\\n2. Provide \\'obscure\\' if the information is incomplete.\\n3. Default to \\'x\\' if the finding is not mentioned.\\n\\nTemplate:\\n{\\n\\'Nodule\\': \\'[ANSWER]\\',\\n\\'Mass\\': \\'[ANSWER]\\',\\n\\'Calcification\\': \\'[ANSWER]\\',\\n\\'Asymmetry\\': \\'[ANSWER]\\',\\n\\'Architectural Distortion\\': \\'[ANSWER]\\',\\n\\'Skin Thickening\\': \\'[ANSWER]\\',\\n\\'Lymph Node Enlargement\\': \\'[ANSWER]\\',\\n\\'Intramammary Lymph Node\\': \\'[ANSWER]\\',\\n\\'Nipple Retraction\\': \\'[ANSWER]\\',\\n\\'Skin Retraction\\': \\'[ANSWER]\\',\\n\\'Trabecular Thickening\\': \\'[ANSWER]\\',\\n}\\n\\nReport:\\nRight Breast:  Large retroareolar irregular high density ulcerating mass with speculated margin, overlying microcalcifications and edema pattern.  Normal skin thickness and contour of breast.    Left Breast:  Upper outer benign vascular calcification is noted.  No speculated mass lesions or suspicious microcalcifications.  Normal skin thickness and contour of breast.        OPINION:    Right Breast:  Large retroareolar malignant looking ulcerating mass with overlying microcalcifications and edema pattern (BIRADS 5).    Left Breast:  Upper outer benign vascular calcification (BIRADS 2).                    \\n\\nAnswer according to the template:\\n{\\n\\'Nodule\\': \\'right\\',\\n\\'Mass\\': \\'right\\',\\n\\'Calcification\\': \\'left\\',\\n\\'Asymmetry\\': \\'obscure\\',\\n\\'Architectural Distortion\\': \\'obscure\\',\\n\\'Skin Thickening\\': \\'obscure\\',\\n\\'Lymph Node Enlargement\\': \\'obscure\\',\\n\\'Intramammary Lymph Node\\': \\'obscure\\',\\n\\'Nipple Retraction\\': \\'obscure\\',\\n\\'Skin Retraction\\': \\'obscure\\',\\n\\'Trabecular Thickening\\': \\'obscure\\',\\n}\\n\\n\\n\"\"\"\\n\\nimport', \"As an AI trained in analyzing radiology reports, your task is to classify the presence or absence of specific findings in each report. Respond according to the given template. \\n\\nRequirements:\\n1. Provide the lesion's location as 'right', 'left' or 'both'(i.e, right and left) if the lesion is explicitly mentioned as present.\\n2. Provide 'obscure' if the information is incomplete.\\n3. Default to 'x' if the finding is not mentioned.\\n\\nTemplate:\\n{\\n'Nodule': '[ANSWER]',\\n'Mass': '[ANSWER]',\\n'Calcification': '[ANSWER]',\\n'Asymmetry': '[ANSWER]',\\n'Architectural Distortion': '[ANSWER]',\\n'Skin Thickening': '[ANSWER]',\\n'Lymph Node Enlargement': '[ANSWER]',\\n'Intramammary Lymph Node': '[ANSWER]',\\n'Nipple Retraction': '[ANSWER]',\\n'Skin Retraction': '[ANSWER]',\\n'Trabecular Thickening': '[ANSWER]',\\n}\\n\\nReport:\\nLeft Breast:  Upper irregular high density mass with speculated margin is seen.  No suspicious microcalcifications.  Normal skin thickness and contour of breast.        OPINION:    Left Breast:  Upper malignant looking mass (BIRADS 5).                            \\n\\nAnswer according to the template:\\n{\\n'Nodule': 'left',\\n'Mass': 'left',\\n'Calcification': 'x',\\n'Asymmetry': 'x',\\n'Architectural Distortion': 'x',\\n'Skin Thickening': 'x',\\n'Lymph Node Enlargement': 'x',\\n'Intramammary Lymph Node': 'x',\\n'Nipple Retraction': 'x',\\n'Skin Retraction': 'x',\\n'Trabecular Thickening': 'x',\\n}\\n\\nReport:\\nLeft Breast:  Upper irregular high density mass with speculated margin is seen.  No\"]\n"
          ]
        },
        {
          "name": "stderr",
          "output_type": "stream",
          "text": [
            " 19%|█▉        | 31/163 [1:09:42<4:57:03, 135.02s/it]"
          ]
        },
        {
          "name": "stdout",
          "output_type": "stream",
          "text": [
            "[\"As an AI trained in analyzing radiology reports, your task is to classify the presence or absence of specific findings in each report. Respond according to the given template. \\n\\nRequirements:\\n1. Provide the lesion's location as 'right', 'left' or 'both'(i.e, right and left) if the lesion is explicitly mentioned as present.\\n2. Provide 'obscure' if the information is incomplete.\\n3. Default to 'x' if the finding is not mentioned.\\n\\nTemplate:\\n{\\n'Nodule': '[ANSWER]',\\n'Mass': '[ANSWER]',\\n'Calcification': '[ANSWER]',\\n'Asymmetry': '[ANSWER]',\\n'Architectural Distortion': '[ANSWER]',\\n'Skin Thickening': '[ANSWER]',\\n'Lymph Node Enlargement': '[ANSWER]',\\n'Intramammary Lymph Node': '[ANSWER]',\\n'Nipple Retraction': '[ANSWER]',\\n'Skin Retraction': '[ANSWER]',\\n'Trabecular Thickening': '[ANSWER]',\\n}\\n\\nReport:\\nRight Breast:  ACR C: Heterogenously dense breasts.  No speculated mass lesions or suspicious microcalcifications.  Normal skin thickness and contour of breast.    Left Breast:  Status postoperative showing operative scar with upper central deeply seated focal asymmetrical increased density.  No speculated mass lesions or suspicious microcalcifications.      OPINION:  Right Breast:  Normal breast examination (BIRADS 1).    Left Breast:  Status post operative with operative scar showing suspicious upper central deeply seated focal asymmetry (BIRADS 4).                      \\n\\nAnswer according to the template:\\n{\\n'Nodule': 'obscure',\\n'Mass': 'obscure',\\n'Calcification': 'obscure',\\n'Asymmetry': 'left',\\n'Architectural Distortion': 'obscure',\\n'Skin Thickening': 'obscure',\\n'Lymph Node Enlargement': 'obscure',\\n'Intramammary Lymph Node': 'obscure',\\n'Nipple Retraction': 'obscure',\\n'Skin Retraction': 'obscure',\\n'Trabecular Thickening': 'obscure',\\n}\\n\\n\\n\\n\", \"As an AI trained in analyzing radiology reports, your task is to classify the presence or absence of specific findings in each report. Respond according to the given template. \\n\\nRequirements:\\n1. Provide the lesion's location as 'right', 'left' or 'both'(i.e, right and left) if the lesion is explicitly mentioned as present.\\n2. Provide 'obscure' if the information is incomplete.\\n3. Default to 'x' if the finding is not mentioned.\\n\\nTemplate:\\n{\\n'Nodule': '[ANSWER]',\\n'Mass': '[ANSWER]',\\n'Calcification': '[ANSWER]',\\n'Asymmetry': '[ANSWER]',\\n'Architectural Distortion': '[ANSWER]',\\n'Skin Thickening': '[ANSWER]',\\n'Lymph Node Enlargement': '[ANSWER]',\\n'Intramammary Lymph Node': '[ANSWER]',\\n'Nipple Retraction': '[ANSWER]',\\n'Skin Retraction': '[ANSWER]',\\n'Trabecular Thickening': '[ANSWER]',\\n}\\n\\nReport:\\nRight Breast:  Upper outer and inner quadrants IMLNs are noted.  No speculated mass lesions or suspicious microcalcifications.  Normal skin thickness and contour of breast.    Left Breast:  Upper outer quadrant IMLNs are noted.  No speculated mass lesions or suspicious microcalcifications.  Normal skin thickness and contour of breast.      OPINION:  Right Breast:  Upper outer and inner IMLNs (BIRADS 2).    Left Breast:  Upper outer IMLNs (BIRADS 2).                    \\n\\nAnswer according to the template:\\n{\\n'Nodule': 'obscure',\\n'Mass': 'obscure',\\n'Calcification': 'obscure',\\n'Asymmetry': 'obscure',\\n'Architectural Distortion': 'obscure',\\n'Skin Thickening': 'obscure',\\n'Lymph Node Enlargement': 'obscure',\\n'Intramammary Lymph Node': 'obscure',\\n'Nipple Retraction': 'obscure',\\n'Skin Retraction': 'obscure',\\n'Trabecular Thickening': 'obscure',\\n}\\n\\n\"]\n"
          ]
        },
        {
          "name": "stderr",
          "output_type": "stream",
          "text": [
            " 20%|█▉        | 32/163 [1:11:57<4:54:32, 134.90s/it]"
          ]
        },
        {
          "name": "stdout",
          "output_type": "stream",
          "text": [
            "[\"As an AI trained in analyzing radiology reports, your task is to classify the presence or absence of specific findings in each report. Respond according to the given template. \\n\\nRequirements:\\n1. Provide the lesion's location as 'right', 'left' or 'both'(i.e, right and left) if the lesion is explicitly mentioned as present.\\n2. Provide 'obscure' if the information is incomplete.\\n3. Default to 'x' if the finding is not mentioned.\\n\\nTemplate:\\n{\\n'Nodule': '[ANSWER]',\\n'Mass': '[ANSWER]',\\n'Calcification': '[ANSWER]',\\n'Asymmetry': '[ANSWER]',\\n'Architectural Distortion': '[ANSWER]',\\n'Skin Thickening': '[ANSWER]',\\n'Lymph Node Enlargement': '[ANSWER]',\\n'Intramammary Lymph Node': '[ANSWER]',\\n'Nipple Retraction': '[ANSWER]',\\n'Skin Retraction': '[ANSWER]',\\n'Trabecular Thickening': '[ANSWER]',\\n}\\n\\nReport:\\nRight Breast:  No speculated mass lesions or suspicious microcalcifications.  Normal skin thickness and contour of breast.        OPINION:    Right Breast:  Normal breast examination (BIRADS 1).                            \\n\\nAnswer according to the template:\\n{\\n'Nodule': 'obscure',\\n'Mass': 'obscure',\\n'Calcification': 'obscure',\\n'Asymmetry': 'obscure',\\n'Architectural Distortion': 'obscure',\\n'Skin Thickening': 'obscure',\\n'Lymph Node Enlargement': 'obscure',\\n'Intramammary Lymph Node': 'obscure',\\n'Nipple Retraction': 'obscure',\\n'Skin Retraction': 'obscure',\\n'Trabecular Thickening': 'obscure',\\n}\\n\\n\", 'As an AI trained in analyzing radiology reports, your task is to classify the presence or absence of specific findings in each report. Respond according to the given template. \\n\\nRequirements:\\n1. Provide the lesion\\'s location as \\'right\\', \\'left\\' or \\'both\\'(i.e, right and left) if the lesion is explicitly mentioned as present.\\n2. Provide \\'obscure\\' if the information is incomplete.\\n3. Default to \\'x\\' if the finding is not mentioned.\\n\\nTemplate:\\n{\\n\\'Nodule\\': \\'[ANSWER]\\',\\n\\'Mass\\': \\'[ANSWER]\\',\\n\\'Calcification\\': \\'[ANSWER]\\',\\n\\'Asymmetry\\': \\'[ANSWER]\\',\\n\\'Architectural Distortion\\': \\'[ANSWER]\\',\\n\\'Skin Thickening\\': \\'[ANSWER]\\',\\n\\'Lymph Node Enlargement\\': \\'[ANSWER]\\',\\n\\'Intramammary Lymph Node\\': \\'[ANSWER]\\',\\n\\'Nipple Retraction\\': \\'[ANSWER]\\',\\n\\'Skin Retraction\\': \\'[ANSWER]\\',\\n\\'Trabecular Thickening\\': \\'[ANSWER]\\',\\n}\\n\\nReport:\\nRight Breast:  Outer irregular equal density mass with indistinct margin is noted.  No suspicious microcalcifications.  Normal skin thickness and contour of breast.    Left Breast:  Upper outer quadrant IMLN is noted.  No speculated mass lesions or suspicious microcalcifications.  Normal skin thickness and contour of breast.      OPINION:  Right Breast:  Outer suspicious looking mass (BIRADS 4).    Left Breast:  Upper outer IMLN (BIRADS 2).                    \\n\\nAnswer according to the template:\\n{\\n\\'Nodule\\': \\'right\\',\\n\\'Mass\\': \\'right\\',\\n\\'Calcification\\': \\'x\\',\\n\\'Asymmetry\\': \\'x\\',\\n\\'Architectural Distortion\\': \\'x\\',\\n\\'Skin Thickening\\': \\'x\\',\\n\\'Lymph Node Enlargement\\': \\'left\\',\\n\\'Intramammary Lymph Node\\': \\'left\\',\\n\\'Nipple Retraction\\': \\'x\\',\\n\\'Skin Retraction\\': \\'x\\',\\n\\'Trabecular Thickening\\': \\'x\\',\\n}\\n\\n\\n\"\"\"\\n\\nimport os\\nimport json\\nimport numpy as np\\nimport pandas as pd\\nimport']\n"
          ]
        },
        {
          "name": "stderr",
          "output_type": "stream",
          "text": [
            " 20%|██        | 33/163 [1:14:11<4:51:56, 134.74s/it]"
          ]
        },
        {
          "name": "stdout",
          "output_type": "stream",
          "text": [
            "[\"As an AI trained in analyzing radiology reports, your task is to classify the presence or absence of specific findings in each report. Respond according to the given template. \\n\\nRequirements:\\n1. Provide the lesion's location as 'right', 'left' or 'both'(i.e, right and left) if the lesion is explicitly mentioned as present.\\n2. Provide 'obscure' if the information is incomplete.\\n3. Default to 'x' if the finding is not mentioned.\\n\\nTemplate:\\n{\\n'Nodule': '[ANSWER]',\\n'Mass': '[ANSWER]',\\n'Calcification': '[ANSWER]',\\n'Asymmetry': '[ANSWER]',\\n'Architectural Distortion': '[ANSWER]',\\n'Skin Thickening': '[ANSWER]',\\n'Lymph Node Enlargement': '[ANSWER]',\\n'Intramammary Lymph Node': '[ANSWER]',\\n'Nipple Retraction': '[ANSWER]',\\n'Skin Retraction': '[ANSWER]',\\n'Trabecular Thickening': '[ANSWER]',\\n}\\n\\nReport:\\nRight Breast:  No speculated mass lesions or suspicious microcalcifications.  Normal skin thickness and contour of breast.    Left Breast:  Lower inner oval shaped equal density mass with microlobulated margin is seen.  No suspicious microcalcifications.  Normal skin thickness and contour of breast.        OPINION:    Right Breast:  Normal breast examination (BIRADS 1).    Left Breast:  Lower inner quadrant suspicious looking mass (BIRADS 4).                  \\n\\nAnswer according to the template:\\n{\\n'Nodule': 'obscure',\\n'Mass': 'left',\\n'Calcification': 'x',\\n'Asymmetry': 'x',\\n'Architectural Distortion': 'x',\\n'Skin Thickening': 'x',\\n'Lymph Node Enlargement': 'x',\\n'Intramammary Lymph Node': 'x',\\n'Nipple Retraction': 'x',\\n'Skin Retraction': 'x',\\n'Trabecular Thickening': 'x',\\n}\\n\\n\\n\\n\\n\\n\\n\\n\\n\\n\\n\\n\\n\\n\\n\\n\\n\\n\\n\\n\\n\\n\", \"As an AI trained in analyzing radiology reports, your task is to classify the presence or absence of specific findings in each report. Respond according to the given template. \\n\\nRequirements:\\n1. Provide the lesion's location as 'right', 'left' or 'both'(i.e, right and left) if the lesion is explicitly mentioned as present.\\n2. Provide 'obscure' if the information is incomplete.\\n3. Default to 'x' if the finding is not mentioned.\\n\\nTemplate:\\n{\\n'Nodule': '[ANSWER]',\\n'Mass': '[ANSWER]',\\n'Calcification': '[ANSWER]',\\n'Asymmetry': '[ANSWER]',\\n'Architectural Distortion': '[ANSWER]',\\n'Skin Thickening': '[ANSWER]',\\n'Lymph Node Enlargement': '[ANSWER]',\\n'Intramammary Lymph Node': '[ANSWER]',\\n'Nipple Retraction': '[ANSWER]',\\n'Skin Retraction': '[ANSWER]',\\n'Trabecular Thickening': '[ANSWER]',\\n}\\n\\nReport:\\nRight Breast:  Upper central and outer irregular high density mass with speculated margin is seen.  Normal skin thickness and contour of breast.    Left Breast:  Upper outer quadrant irregular high density mass with speculated margin is seen.  No suspicious microcalcifications.  Normal skin thickness and contour of breast.        OPINION:    Right Breast:  Upper central and outer suspicious looking mass (BIRADS 4).    Left Breast:  Upper outer quadrant malignant looking mass (BIRADS 5).                  \\n\\nAnswer according to the template:\\n{\\n'Nodule': 'right',\\n'Mass': 'right',\\n'Calcification': 'x',\\n'Asymmetry': 'x',\\n'Architectural Distortion': 'x',\\n'Skin Thickening': 'x',\\n'Lymph Node Enlargement': 'x',\\n'Intramammary Lymph Node': 'x',\\n'Nipple Retraction': 'x',\\n'Skin Retraction': 'x',\\n'Trabecular Thickening': 'x',\\n}\\n\\n\\n\\n\\n\\n\\n\\n\\n\\n\\n\\n\\n\\n\\n\\n\\n\\n\\n\\n\\n\\n\\n\\n\"]\n"
          ]
        },
        {
          "name": "stderr",
          "output_type": "stream",
          "text": [
            " 21%|██        | 34/163 [1:16:26<4:49:32, 134.67s/it]"
          ]
        },
        {
          "name": "stdout",
          "output_type": "stream",
          "text": [
            "[\"As an AI trained in analyzing radiology reports, your task is to classify the presence or absence of specific findings in each report. Respond according to the given template. \\n\\nRequirements:\\n1. Provide the lesion's location as 'right', 'left' or 'both'(i.e, right and left) if the lesion is explicitly mentioned as present.\\n2. Provide 'obscure' if the information is incomplete.\\n3. Default to 'x' if the finding is not mentioned.\\n\\nTemplate:\\n{\\n'Nodule': '[ANSWER]',\\n'Mass': '[ANSWER]',\\n'Calcification': '[ANSWER]',\\n'Asymmetry': '[ANSWER]',\\n'Architectural Distortion': '[ANSWER]',\\n'Skin Thickening': '[ANSWER]',\\n'Lymph Node Enlargement': '[ANSWER]',\\n'Intramammary Lymph Node': '[ANSWER]',\\n'Nipple Retraction': '[ANSWER]',\\n'Skin Retraction': '[ANSWER]',\\n'Trabecular Thickening': '[ANSWER]',\\n}\\n\\nReport:\\nRight Breast:  Lower oval shaped equal density mass with circumscribed margin is seen.  Upper benign macrocalcification is noted.  No speculated mass lesions or suspicious microcalcifications.  Normal skin thickness and contour of breast.    Left Breast:  Inner IMLN is noted.  No speculated mass lesions or suspicious microcalcifications.  Normal skin thickness and contour of breast.        OPINION:    Right Breast:  Lower benign looking mass (BIRADS 3).  Upper benign macrocalcification (BIRADS 2).    Left Breast:  Inner IMLN (BIRADS 2).                  \\n\\nAnswer according to the template:\\n{\\n'Nodule': 'right',\\n'Mass': 'right',\\n'Calcification': 'right',\\n'Asymmetry': 'x',\\n'Architectural Distortion': 'x',\\n'Skin Thickening': 'x',\\n'Lymph Node Enlargement': 'left',\\n'Intramammary Lymph Node': 'left',\\n'Nipple Retraction': 'x',\\n'Skin Retraction': 'x',\\n'Trabecular Thickening': 'x',\\n}\\n\\n\\n\\n\\n\\n\\n\\n\\n\\n\\n\\n\\n\\n\\n\\n\\n\\n\\n\\n\\n\\n\\n\\n\", \"As an AI trained in analyzing radiology reports, your task is to classify the presence or absence of specific findings in each report. Respond according to the given template. \\n\\nRequirements:\\n1. Provide the lesion's location as 'right', 'left' or 'both'(i.e, right and left) if the lesion is explicitly mentioned as present.\\n2. Provide 'obscure' if the information is incomplete.\\n3. Default to 'x' if the finding is not mentioned.\\n\\nTemplate:\\n{\\n'Nodule': '[ANSWER]',\\n'Mass': '[ANSWER]',\\n'Calcification': '[ANSWER]',\\n'Asymmetry': '[ANSWER]',\\n'Architectural Distortion': '[ANSWER]',\\n'Skin Thickening': '[ANSWER]',\\n'Lymph Node Enlargement': '[ANSWER]',\\n'Intramammary Lymph Node': '[ANSWER]',\\n'Nipple Retraction': '[ANSWER]',\\n'Skin Retraction': '[ANSWER]',\\n'Trabecular Thickening': '[ANSWER]',\\n}\\n\\nReport:\\nLeft Breast:  Upper outer and central rounded and oval shaped equal density masses with circumscribed and obscured margin are seen.  No speculated mass lesions or suspicious microcalcifications.  Normal skin thickness and contour of breast.        OPINION:    Left Breast:  Upper outer and central benign looking masses (BIRADS 3).                            \\n\\nAnswer according to the template:\\n{\\n'Nodule': 'obscure',\\n'Mass': 'both',\\n'Calcification': 'x',\\n'Asymmetry': 'x',\\n'Architectural Distortion': 'x',\\n'Skin Thickening': 'x',\\n'Lymph Node Enlargement': 'x',\\n'Intramammary Lymph Node': 'x',\\n'Nipple Retraction': 'x',\\n'Skin Retraction': 'x',\\n'Trabecular Thickening': 'x',\\n}\\n\\nReport:\\nLeft Breast:  Upper outer and central rounded and oval shaped equal density\"]\n"
          ]
        },
        {
          "name": "stderr",
          "output_type": "stream",
          "text": [
            " 21%|██▏       | 35/163 [1:18:40<4:46:48, 134.44s/it]"
          ]
        },
        {
          "name": "stdout",
          "output_type": "stream",
          "text": [
            "[\"As an AI trained in analyzing radiology reports, your task is to classify the presence or absence of specific findings in each report. Respond according to the given template. \\n\\nRequirements:\\n1. Provide the lesion's location as 'right', 'left' or 'both'(i.e, right and left) if the lesion is explicitly mentioned as present.\\n2. Provide 'obscure' if the information is incomplete.\\n3. Default to 'x' if the finding is not mentioned.\\n\\nTemplate:\\n{\\n'Nodule': '[ANSWER]',\\n'Mass': '[ANSWER]',\\n'Calcification': '[ANSWER]',\\n'Asymmetry': '[ANSWER]',\\n'Architectural Distortion': '[ANSWER]',\\n'Skin Thickening': '[ANSWER]',\\n'Lymph Node Enlargement': '[ANSWER]',\\n'Intramammary Lymph Node': '[ANSWER]',\\n'Nipple Retraction': '[ANSWER]',\\n'Skin Retraction': '[ANSWER]',\\n'Trabecular Thickening': '[ANSWER]',\\n}\\n\\nReport:\\nLeft Breast:  Upper outer quadrant benign macrocalcification is noted.  No speculated mass lesions or suspicious microcalcifications.  Normal skin thickness and contour of breast.      OPINION:    Left Breast:  Upper outer benign macrocalcifications (BIRADS 2).                              \\n\\nAnswer according to the template:\\n{\\n'Nodule': 'x',\\n'Mass': 'x',\\n'Calcification': 'left',\\n'Asymmetry': 'x',\\n'Architectural Distortion': 'x',\\n'Skin Thickening': 'x',\\n'Lymph Node Enlargement': 'x',\\n'Intramammary Lymph Node': 'x',\\n'Nipple Retraction': 'x',\\n'Skin Retraction': 'x',\\n'Trabecular Thickening': 'x',\\n}\\n\\nReport:\\nLeft Breast:  Upper outer quadrant benign macrocalcification is noted.  No\", \"As an AI trained in analyzing radiology reports, your task is to classify the presence or absence of specific findings in each report. Respond according to the given template. \\n\\nRequirements:\\n1. Provide the lesion's location as 'right', 'left' or 'both'(i.e, right and left) if the lesion is explicitly mentioned as present.\\n2. Provide 'obscure' if the information is incomplete.\\n3. Default to 'x' if the finding is not mentioned.\\n\\nTemplate:\\n{\\n'Nodule': '[ANSWER]',\\n'Mass': '[ANSWER]',\\n'Calcification': '[ANSWER]',\\n'Asymmetry': '[ANSWER]',\\n'Architectural Distortion': '[ANSWER]',\\n'Skin Thickening': '[ANSWER]',\\n'Lymph Node Enlargement': '[ANSWER]',\\n'Intramammary Lymph Node': '[ANSWER]',\\n'Nipple Retraction': '[ANSWER]',\\n'Skin Retraction': '[ANSWER]',\\n'Trabecular Thickening': '[ANSWER]',\\n}\\n\\nReport:\\nLeft Breast:  Outer central and inner clusters of pleomorphic microcalcifications are noted.  Normal skin thickness and contour of breast.      OPINION:    Left Breast:  Outer central and inner suspicious looking clusters of microcalcifications (BIRADS 4).                              \\n\\nAnswer according to the template:\\n{\\n'Nodule': 'obscure',\\n'Mass': 'obscure',\\n'Calcification': 'left',\\n'Asymmetry': 'x',\\n'Architectural Distortion': 'x',\\n'Skin Thickening': 'x',\\n'Lymph Node Enlargement': 'x',\\n'Intramammary Lymph Node': 'x',\\n'Nipple Retraction': 'x',\\n'Skin Retraction': 'x',\\n'Trabecular Thickening': 'x',\\n}\\n\\nReport:\\nLeft Breast:  Outer central and inner clusters of pleomorphic micro\"]\n"
          ]
        },
        {
          "name": "stderr",
          "output_type": "stream",
          "text": [
            " 22%|██▏       | 36/163 [1:20:54<4:44:23, 134.36s/it]"
          ]
        },
        {
          "name": "stdout",
          "output_type": "stream",
          "text": [
            "[\"As an AI trained in analyzing radiology reports, your task is to classify the presence or absence of specific findings in each report. Respond according to the given template. \\n\\nRequirements:\\n1. Provide the lesion's location as 'right', 'left' or 'both'(i.e, right and left) if the lesion is explicitly mentioned as present.\\n2. Provide 'obscure' if the information is incomplete.\\n3. Default to 'x' if the finding is not mentioned.\\n\\nTemplate:\\n{\\n'Nodule': '[ANSWER]',\\n'Mass': '[ANSWER]',\\n'Calcification': '[ANSWER]',\\n'Asymmetry': '[ANSWER]',\\n'Architectural Distortion': '[ANSWER]',\\n'Skin Thickening': '[ANSWER]',\\n'Lymph Node Enlargement': '[ANSWER]',\\n'Intramammary Lymph Node': '[ANSWER]',\\n'Nipple Retraction': '[ANSWER]',\\n'Skin Retraction': '[ANSWER]',\\n'Trabecular Thickening': '[ANSWER]',\\n}\\n\\nReport:\\nLeft Breast:  No speculated mass lesions or suspicious microcalcifications.  Normal skin thickness and contour of breast.      OPINION:    Left Breast:  Normal breast examination (BIRADS 1).                              \\n\\nAnswer according to the template:\\n{\\n'Nodule': 'obscure',\\n'Mass': 'obscure',\\n'Calcification': 'obscure',\\n'Asymmetry': 'obscure',\\n'Architectural Distortion': 'obscure',\\n'Skin Thickening': 'obscure',\\n'Lymph Node Enlargement': 'obscure',\\n'Intramammary Lymph Node': 'obscure',\\n'Nipple Retraction': 'obscure',\\n'Skin Retraction': 'obscure',\\n'Trabecular Thickening': 'obscure',\\n}\\n\\n\", \"As an AI trained in analyzing radiology reports, your task is to classify the presence or absence of specific findings in each report. Respond according to the given template. \\n\\nRequirements:\\n1. Provide the lesion's location as 'right', 'left' or 'both'(i.e, right and left) if the lesion is explicitly mentioned as present.\\n2. Provide 'obscure' if the information is incomplete.\\n3. Default to 'x' if the finding is not mentioned.\\n\\nTemplate:\\n{\\n'Nodule': '[ANSWER]',\\n'Mass': '[ANSWER]',\\n'Calcification': '[ANSWER]',\\n'Asymmetry': '[ANSWER]',\\n'Architectural Distortion': '[ANSWER]',\\n'Skin Thickening': '[ANSWER]',\\n'Lymph Node Enlargement': '[ANSWER]',\\n'Intramammary Lymph Node': '[ANSWER]',\\n'Nipple Retraction': '[ANSWER]',\\n'Skin Retraction': '[ANSWER]',\\n'Trabecular Thickening': '[ANSWER]',\\n}\\n\\nReport:\\nRight Breast:  Two retroareolar and inner irregular high density masses with speculated margin are seen.  No suspicious microcalcifications.  Normal skin thickness and contour of breast.    Left Breast:  No speculated mass lesions or suspicious microcalcifications.  Normal skin thickness and contour of breast.        OPINION:    Right Breast:  Two retroareolar and inner malignant looking masses (BIRADS 5).    Left Breast:  Normal breast examination (BIRADS 1).                  \\n\\nAnswer according to the template:\\n{\\n'Nodule': 'right',\\n'Mass': 'right',\\n'Calcification': 'x',\\n'Asymmetry': 'x',\\n'Architectural Distortion': 'x',\\n'Skin Thickening': 'x',\\n'Lymph Node Enlargement': 'x',\\n'Intramammary Lymph Node': 'x',\\n'Nipple Retraction': 'x',\\n'Skin Retraction': 'x',\\n'Trabecular Thickening': 'x',\\n}\\n\\n\\n\\n\\n\\n\\n\\n\\n\\n\\n\\n\\n\\n\\n\\n\\n\\n\\n\\n\\n\\n\\n\\n\"]\n"
          ]
        },
        {
          "name": "stderr",
          "output_type": "stream",
          "text": [
            " 23%|██▎       | 37/163 [1:23:09<4:42:20, 134.45s/it]"
          ]
        },
        {
          "name": "stdout",
          "output_type": "stream",
          "text": [
            "[\"As an AI trained in analyzing radiology reports, your task is to classify the presence or absence of specific findings in each report. Respond according to the given template. \\n\\nRequirements:\\n1. Provide the lesion's location as 'right', 'left' or 'both'(i.e, right and left) if the lesion is explicitly mentioned as present.\\n2. Provide 'obscure' if the information is incomplete.\\n3. Default to 'x' if the finding is not mentioned.\\n\\nTemplate:\\n{\\n'Nodule': '[ANSWER]',\\n'Mass': '[ANSWER]',\\n'Calcification': '[ANSWER]',\\n'Asymmetry': '[ANSWER]',\\n'Architectural Distortion': '[ANSWER]',\\n'Skin Thickening': '[ANSWER]',\\n'Lymph Node Enlargement': '[ANSWER]',\\n'Intramammary Lymph Node': '[ANSWER]',\\n'Nipple Retraction': '[ANSWER]',\\n'Skin Retraction': '[ANSWER]',\\n'Trabecular Thickening': '[ANSWER]',\\n}\\n\\nReport:\\nRight Breast:  Upper outer quadrant benign macrocalcifications are noted.  Upper outer and central asymmetrical increased density associated with retroareolar increased density that is tubular in shape likely prominent duct system.  No suspicious microcalcifications.  Normal skin thickness and contour of breast.    Left Breast:  No speculated mass lesions or suspicious microcalcifications.  Retroareolar increased density that is tubular in shape likely prominent duct system.  Normal skin thickness and contour of breast.      OPINION:  Right Breast:  Upper outer benign macrocalcificaions (BIRADS 2).  Upper outer and central asymmetry with prominent retroareolar duct system (BIRADS 3).    Left Breast:  Prominent retroareolar duct system (BIRADS 2).                  \\n\\nAnswer according to the template:\\n{\\n'Nodule': 'obscure',\\n'Mass': 'obscure',\\n'Calcification': 'right',\\n'Asymmetry': 'right',\\n'Architectural Distortion': 'x',\\n'Skin Thickening': 'x',\\n'Lymph Node Enlargement': 'x',\\n'Intramammary Lymph Node': 'x',\\n'Nipple Retraction': 'x',\\n'Skin Retraction': 'x',\\n'Trabecular Thickening': 'x',\\n}\\n\\n\\n\\n\\n\\n\\n\\n\\n\\n\\n\\n\\n\\n\\n\\n\\n\\n\\n\\n\", \"As an AI trained in analyzing radiology reports, your task is to classify the presence or absence of specific findings in each report. Respond according to the given template. \\n\\nRequirements:\\n1. Provide the lesion's location as 'right', 'left' or 'both'(i.e, right and left) if the lesion is explicitly mentioned as present.\\n2. Provide 'obscure' if the information is incomplete.\\n3. Default to 'x' if the finding is not mentioned.\\n\\nTemplate:\\n{\\n'Nodule': '[ANSWER]',\\n'Mass': '[ANSWER]',\\n'Calcification': '[ANSWER]',\\n'Asymmetry': '[ANSWER]',\\n'Architectural Distortion': '[ANSWER]',\\n'Skin Thickening': '[ANSWER]',\\n'Lymph Node Enlargement': '[ANSWER]',\\n'Intramammary Lymph Node': '[ANSWER]',\\n'Nipple Retraction': '[ANSWER]',\\n'Skin Retraction': '[ANSWER]',\\n'Trabecular Thickening': '[ANSWER]',\\n}\\n\\nReport:\\nRight Breast:  No speculated mass lesions or suspicious microcalcifications.  Normal skin thickness and contour of breast.    Left Breast:  Upper outer and retroareolar asymmetrical increased density with overlying microcalcifications and edema pattern are seen.         OPINION:    Right Breast:  Normal breast examination (BIRADS 1).    Left Breast:  Upper outer and retroareolar malignant looking asymmetry with overlying microcalcifications and edema pattern (BIRADS 5).                    \\n\\nAnswer according to the template:\\n{\\n'Nodule': 'obscure',\\n'Mass': 'obscure',\\n'Calcification': 'obscure',\\n'Asymmetry': 'left',\\n'Architectural Distortion': 'x',\\n'Skin Thickening': 'x',\\n'Lymph Node Enlargement': 'x',\\n'Intramammary Lymph Node': 'x',\\n'Nipple Retraction': 'x',\\n'Skin Retraction': 'x',\\n'Trabecular Thickening': 'x',\\n}\\n\\n\\n\\n\\n\\n\\n\\n\\n\\n\\n\\n\\n\\n\\n\\n\\n\\n\"]\n"
          ]
        },
        {
          "name": "stderr",
          "output_type": "stream",
          "text": [
            " 23%|██▎       | 38/163 [1:25:23<4:39:57, 134.38s/it]"
          ]
        },
        {
          "name": "stdout",
          "output_type": "stream",
          "text": [
            "[\"As an AI trained in analyzing radiology reports, your task is to classify the presence or absence of specific findings in each report. Respond according to the given template. \\n\\nRequirements:\\n1. Provide the lesion's location as 'right', 'left' or 'both'(i.e, right and left) if the lesion is explicitly mentioned as present.\\n2. Provide 'obscure' if the information is incomplete.\\n3. Default to 'x' if the finding is not mentioned.\\n\\nTemplate:\\n{\\n'Nodule': '[ANSWER]',\\n'Mass': '[ANSWER]',\\n'Calcification': '[ANSWER]',\\n'Asymmetry': '[ANSWER]',\\n'Architectural Distortion': '[ANSWER]',\\n'Skin Thickening': '[ANSWER]',\\n'Lymph Node Enlargement': '[ANSWER]',\\n'Intramammary Lymph Node': '[ANSWER]',\\n'Nipple Retraction': '[ANSWER]',\\n'Skin Retraction': '[ANSWER]',\\n'Trabecular Thickening': '[ANSWER]',\\n}\\n\\nReport:\\nRight Breast:  No speculated mass lesions or suspicious microcalcifications.  Normal skin thickness and contour of breast.      OPINION:    Right Breast:  Normal breast examination (BIRADS 1).                              \\n\\nAnswer according to the template:\\n{\\n'Nodule': 'obscure',\\n'Mass': 'obscure',\\n'Calcification': 'obscure',\\n'Asymmetry': 'obscure',\\n'Architectural Distortion': 'obscure',\\n'Skin Thickening': 'obscure',\\n'Lymph Node Enlargement': 'obscure',\\n'Intramammary Lymph Node': 'obscure',\\n'Nipple Retraction': 'obscure',\\n'Skin Retraction': 'obscure',\\n'Trabecular Thickening': 'obscure',\\n}\\n\\n\", \"As an AI trained in analyzing radiology reports, your task is to classify the presence or absence of specific findings in each report. Respond according to the given template. \\n\\nRequirements:\\n1. Provide the lesion's location as 'right', 'left' or 'both'(i.e, right and left) if the lesion is explicitly mentioned as present.\\n2. Provide 'obscure' if the information is incomplete.\\n3. Default to 'x' if the finding is not mentioned.\\n\\nTemplate:\\n{\\n'Nodule': '[ANSWER]',\\n'Mass': '[ANSWER]',\\n'Calcification': '[ANSWER]',\\n'Asymmetry': '[ANSWER]',\\n'Architectural Distortion': '[ANSWER]',\\n'Skin Thickening': '[ANSWER]',\\n'Lymph Node Enlargement': '[ANSWER]',\\n'Intramammary Lymph Node': '[ANSWER]',\\n'Nipple Retraction': '[ANSWER]',\\n'Skin Retraction': '[ANSWER]',\\n'Trabecular Thickening': '[ANSWER]',\\n}\\n\\nReport:\\nRight Breast:  Three upper and lower central and inner rounded equal density masses with circumscribed margin, two of them show overlying macrocalcification.  No suspicious microcalcifications.  Normal skin thickness and contour of breast.    Left Breast:  No speculated mass lesions or suspicious microcalcifications.  Normal skin thickness and contour of breast.        OPINION:    Right Breast:  Three upper and lower central and inner benign looking masses (BIRADS 3).    Left Breast:  Normal breast examination (BIRADS 1).                  \\n\\nAnswer according to the template:\\n{\\n'Nodule': 'right',\\n'Mass': 'right',\\n'Calcification': 'right',\\n'Asymmetry': 'obscure',\\n'Architectural Distortion': 'x',\\n'Skin Thickening': 'right',\\n'Lymph Node Enlargement': 'x',\\n'Intramammary Lymph Node': 'x',\\n'Nipple Retraction': 'x',\\n'Skin Retraction': 'x',\\n'Trabecular Thickening': 'x',\\n}\\n\\n\\n\\n\\n\\n\\n\\n\\n\\n\\n\\n\\n\\n\\n\\n\\n\\n\\n\\n\\n\\n\"]\n"
          ]
        },
        {
          "name": "stderr",
          "output_type": "stream",
          "text": [
            " 24%|██▍       | 39/163 [1:27:37<4:37:36, 134.33s/it]"
          ]
        },
        {
          "name": "stdout",
          "output_type": "stream",
          "text": [
            "[\"As an AI trained in analyzing radiology reports, your task is to classify the presence or absence of specific findings in each report. Respond according to the given template. \\n\\nRequirements:\\n1. Provide the lesion's location as 'right', 'left' or 'both'(i.e, right and left) if the lesion is explicitly mentioned as present.\\n2. Provide 'obscure' if the information is incomplete.\\n3. Default to 'x' if the finding is not mentioned.\\n\\nTemplate:\\n{\\n'Nodule': '[ANSWER]',\\n'Mass': '[ANSWER]',\\n'Calcification': '[ANSWER]',\\n'Asymmetry': '[ANSWER]',\\n'Architectural Distortion': '[ANSWER]',\\n'Skin Thickening': '[ANSWER]',\\n'Lymph Node Enlargement': '[ANSWER]',\\n'Intramammary Lymph Node': '[ANSWER]',\\n'Nipple Retraction': '[ANSWER]',\\n'Skin Retraction': '[ANSWER]',\\n'Trabecular Thickening': '[ANSWER]',\\n}\\n\\nReport:\\nRight Breast:  Outer oval shaped equal density lobulated mass with partially obscured margin is seen.  No suspicious microcalcifications.  Normal skin thickness and contour of breast.    Left Breast:  No speculated mass lesions or suspicious microcalcifications.  Normal skin thickness and contour of breast.        OPINION:    Right Breast:  Outer benign looking mass (BIRADS 3).    Left Breast:  Normal breast study (BIRADS 1).                    \\n\\nAnswer according to the template:\\n{\\n'Nodule': 'right',\\n'Mass': 'right',\\n'Calcification': 'obscure',\\n'Asymmetry': 'x',\\n'Architectural Distortion': 'x',\\n'Skin Thickening': 'x',\\n'Lymph Node Enlargement': 'x',\\n'Intramammary Lymph Node': 'x',\\n'Nipple Retraction': 'x',\\n'Skin Retraction': 'x',\\n'Trabecular Thickening': 'x',\\n}\\n\\n\\n\\n\\n\\n\\n\\n\\n\\n\\n\\n\\n\\n\\n\\n\\n\\n\\n\\n\\n\\n\", \"As an AI trained in analyzing radiology reports, your task is to classify the presence or absence of specific findings in each report. Respond according to the given template. \\n\\nRequirements:\\n1. Provide the lesion's location as 'right', 'left' or 'both'(i.e, right and left) if the lesion is explicitly mentioned as present.\\n2. Provide 'obscure' if the information is incomplete.\\n3. Default to 'x' if the finding is not mentioned.\\n\\nTemplate:\\n{\\n'Nodule': '[ANSWER]',\\n'Mass': '[ANSWER]',\\n'Calcification': '[ANSWER]',\\n'Asymmetry': '[ANSWER]',\\n'Architectural Distortion': '[ANSWER]',\\n'Skin Thickening': '[ANSWER]',\\n'Lymph Node Enlargement': '[ANSWER]',\\n'Intramammary Lymph Node': '[ANSWER]',\\n'Nipple Retraction': '[ANSWER]',\\n'Skin Retraction': '[ANSWER]',\\n'Trabecular Thickening': '[ANSWER]',\\n}\\n\\nReport:\\nLeft Breast:  No speculated mass lesions or suspicious microcalcifications.  Normal skin thickness and contour of breast.      OPINION:    Left Breast:  Normal breast examination (BIRADS 1).                              \\n\\nAnswer according to the template:\\n{\\n'Nodule': 'obscure',\\n'Mass': 'obscure',\\n'Calcification': 'obscure',\\n'Asymmetry': 'obscure',\\n'Architectural Distortion': 'obscure',\\n'Skin Thickening': 'obscure',\\n'Lymph Node Enlargement': 'obscure',\\n'Intramammary Lymph Node': 'obscure',\\n'Nipple Retraction': 'obscure',\\n'Skin Retraction': 'obscure',\\n'Trabecular Thickening': 'obscure',\\n}\\n\\n\"]\n"
          ]
        },
        {
          "name": "stderr",
          "output_type": "stream",
          "text": [
            " 25%|██▍       | 40/163 [1:29:51<4:35:20, 134.32s/it]"
          ]
        },
        {
          "name": "stdout",
          "output_type": "stream",
          "text": [
            "[\"As an AI trained in analyzing radiology reports, your task is to classify the presence or absence of specific findings in each report. Respond according to the given template. \\n\\nRequirements:\\n1. Provide the lesion's location as 'right', 'left' or 'both'(i.e, right and left) if the lesion is explicitly mentioned as present.\\n2. Provide 'obscure' if the information is incomplete.\\n3. Default to 'x' if the finding is not mentioned.\\n\\nTemplate:\\n{\\n'Nodule': '[ANSWER]',\\n'Mass': '[ANSWER]',\\n'Calcification': '[ANSWER]',\\n'Asymmetry': '[ANSWER]',\\n'Architectural Distortion': '[ANSWER]',\\n'Skin Thickening': '[ANSWER]',\\n'Lymph Node Enlargement': '[ANSWER]',\\n'Intramammary Lymph Node': '[ANSWER]',\\n'Nipple Retraction': '[ANSWER]',\\n'Skin Retraction': '[ANSWER]',\\n'Trabecular Thickening': '[ANSWER]',\\n}\\n\\nReport:\\nLeft Breast:  No speculated mass lesions or suspicious microcalcifications.  Normal skin thickness and contour of breast.      OPINION:    Left Breast:  Normal breast examination (BIRADS 1).                              \\n\\nAnswer according to the template:\\n{\\n'Nodule': 'obscure',\\n'Mass': 'obscure',\\n'Calcification': 'obscure',\\n'Asymmetry': 'obscure',\\n'Architectural Distortion': 'obscure',\\n'Skin Thickening': 'obscure',\\n'Lymph Node Enlargement': 'obscure',\\n'Intramammary Lymph Node': 'obscure',\\n'Nipple Retraction': 'obscure',\\n'Skin Retraction': 'obscure',\\n'Trabecular Thickening': 'obscure',\\n}\\n\\n\", \"As an AI trained in analyzing radiology reports, your task is to classify the presence or absence of specific findings in each report. Respond according to the given template. \\n\\nRequirements:\\n1. Provide the lesion's location as 'right', 'left' or 'both'(i.e, right and left) if the lesion is explicitly mentioned as present.\\n2. Provide 'obscure' if the information is incomplete.\\n3. Default to 'x' if the finding is not mentioned.\\n\\nTemplate:\\n{\\n'Nodule': '[ANSWER]',\\n'Mass': '[ANSWER]',\\n'Calcification': '[ANSWER]',\\n'Asymmetry': '[ANSWER]',\\n'Architectural Distortion': '[ANSWER]',\\n'Skin Thickening': '[ANSWER]',\\n'Lymph Node Enlargement': '[ANSWER]',\\n'Intramammary Lymph Node': '[ANSWER]',\\n'Nipple Retraction': '[ANSWER]',\\n'Skin Retraction': '[ANSWER]',\\n'Trabecular Thickening': '[ANSWER]',\\n}\\n\\nReport:\\nRight Breast:  ACR C: Heterogenously dense breasts.  No speculated mass lesions or suspicious microcalcifications.  Normal skin thickness and contour of breast.      Left Breast:  Status postoperative showing operative scar and edema.  No speculated mass lesions or suspicious microcalcifications.      OPINION:  Right Breast:  Normal breast examination (BIRADS 1).    Left Breast:  Status post operative with operative scar and edema showing no evidence of recurrent lesions (BIRADS 2).                        \\n\\nAnswer according to the template:\\n{\\n'Nodule': 'obscure',\\n'Mass': 'obscure',\\n'Calcification': 'obscure',\\n'Asymmetry': 'obscure',\\n'Architectural Distortion': 'obscure',\\n'Skin Thickening': 'obscure',\\n'Lymph Node Enlargement': 'obscure',\\n'Intramammary Lymph Node': 'obscure',\\n'Nipple Retraction': 'obscure',\\n'Skin Retraction': 'obscure',\\n'Trabecular Thickening': 'obscure',\\n}\\n\\n\"]\n"
          ]
        },
        {
          "name": "stderr",
          "output_type": "stream",
          "text": [
            " 25%|██▌       | 41/163 [1:32:06<4:33:05, 134.31s/it]"
          ]
        },
        {
          "name": "stdout",
          "output_type": "stream",
          "text": [
            "[\"As an AI trained in analyzing radiology reports, your task is to classify the presence or absence of specific findings in each report. Respond according to the given template. \\n\\nRequirements:\\n1. Provide the lesion's location as 'right', 'left' or 'both'(i.e, right and left) if the lesion is explicitly mentioned as present.\\n2. Provide 'obscure' if the information is incomplete.\\n3. Default to 'x' if the finding is not mentioned.\\n\\nTemplate:\\n{\\n'Nodule': '[ANSWER]',\\n'Mass': '[ANSWER]',\\n'Calcification': '[ANSWER]',\\n'Asymmetry': '[ANSWER]',\\n'Architectural Distortion': '[ANSWER]',\\n'Skin Thickening': '[ANSWER]',\\n'Lymph Node Enlargement': '[ANSWER]',\\n'Intramammary Lymph Node': '[ANSWER]',\\n'Nipple Retraction': '[ANSWER]',\\n'Skin Retraction': '[ANSWER]',\\n'Trabecular Thickening': '[ANSWER]',\\n}\\n\\nReport:\\nRight Breast:  No speculated mass lesions or suspicious microcalcifications.  Normal skin thickness and contour of breast.    Left Breast:  Upper outer quadrant IMLN is noted.  No speculated mass lesions or suspicious microcalcifications.  Normal skin thickness and contour of breast.      OPINION:  Right Breast:  Normal breast examination (BIRADS 1).    Left Breast:  Upper outer IMLN (BIRADS 2).                    \\n\\nAnswer according to the template:\\n{\\n'Nodule': 'obscure',\\n'Mass': 'obscure',\\n'Calcification': 'obscure',\\n'Asymmetry': 'obscure',\\n'Architectural Distortion': 'obscure',\\n'Skin Thickening': 'obscure',\\n'Lymph Node Enlargement': 'obscure',\\n'Intramammary Lymph Node': 'obscure',\\n'Nipple Retraction': 'obscure',\\n'Skin Retraction': 'obscure',\\n'Trabecular Thickening': 'obscure',\\n}\\n\\n\", \"As an AI trained in analyzing radiology reports, your task is to classify the presence or absence of specific findings in each report. Respond according to the given template. \\n\\nRequirements:\\n1. Provide the lesion's location as 'right', 'left' or 'both'(i.e, right and left) if the lesion is explicitly mentioned as present.\\n2. Provide 'obscure' if the information is incomplete.\\n3. Default to 'x' if the finding is not mentioned.\\n\\nTemplate:\\n{\\n'Nodule': '[ANSWER]',\\n'Mass': '[ANSWER]',\\n'Calcification': '[ANSWER]',\\n'Asymmetry': '[ANSWER]',\\n'Architectural Distortion': '[ANSWER]',\\n'Skin Thickening': '[ANSWER]',\\n'Lymph Node Enlargement': '[ANSWER]',\\n'Intramammary Lymph Node': '[ANSWER]',\\n'Nipple Retraction': '[ANSWER]',\\n'Skin Retraction': '[ANSWER]',\\n'Trabecular Thickening': '[ANSWER]',\\n}\\n\\nReport:\\nRight Breast:  No speculated mass lesions or suspicious microcalcifications.  Normal skin thickness and contour of breast.    Left Breast:  Upper central irregular high density mass with indistinct margin is seen associated with two adjacent small irregular equal density masses with indistinct margin.  No suspicious microcalcifications.  Normal skin thickness and contour of breast.      OPINION:  Right Breast:  Normal breast examination (BIRADS 1).    Left Breast:  Upper central suspicious looking mass associated with two adjacent smaller masses (BIRADS 4).                    \\n\\nAnswer according to the template:\\n{\\n'Nodule': 'obscure',\\n'Mass': 'left',\\n'Calcification': 'x',\\n'Asymmetry': 'x',\\n'Architectural Distortion': 'x',\\n'Skin Thickening': 'x',\\n'Lymph Node Enlargement': 'x',\\n'Intramammary Lymph Node': 'x',\\n'Nipple Retraction': 'x',\\n'Skin Retraction': 'x',\\n'Trabecular Thickening': 'x',\\n}\\n\\n\\n\\n\\n\\n\\n\\n\\n\\n\\n\\n\\n\\n\\n\\n\\n\\n\\n\\n\\n\\n\"]\n"
          ]
        },
        {
          "name": "stderr",
          "output_type": "stream",
          "text": [
            " 26%|██▌       | 42/163 [1:34:20<4:30:48, 134.29s/it]"
          ]
        },
        {
          "name": "stdout",
          "output_type": "stream",
          "text": [
            "[\"As an AI trained in analyzing radiology reports, your task is to classify the presence or absence of specific findings in each report. Respond according to the given template. \\n\\nRequirements:\\n1. Provide the lesion's location as 'right', 'left' or 'both'(i.e, right and left) if the lesion is explicitly mentioned as present.\\n2. Provide 'obscure' if the information is incomplete.\\n3. Default to 'x' if the finding is not mentioned.\\n\\nTemplate:\\n{\\n'Nodule': '[ANSWER]',\\n'Mass': '[ANSWER]',\\n'Calcification': '[ANSWER]',\\n'Asymmetry': '[ANSWER]',\\n'Architectural Distortion': '[ANSWER]',\\n'Skin Thickening': '[ANSWER]',\\n'Lymph Node Enlargement': '[ANSWER]',\\n'Intramammary Lymph Node': '[ANSWER]',\\n'Nipple Retraction': '[ANSWER]',\\n'Skin Retraction': '[ANSWER]',\\n'Trabecular Thickening': '[ANSWER]',\\n}\\n\\nReport:\\nRight Breast:  No speculated mass lesions or suspicious microcalcifications.  Normal skin thickness and contour of breast.      Left Breast:  Upper outer and inner asymmetrical increased density and edema pattern.  Retroareolar architectural distortion with overlying macrocalcifications.       OPINION:  Right Breast:  Normal breast examination (BIRADS 1).    Left Breast:  Retroareolar architectural distortion with overlying macrocalcifications and edema pattern (BIRADS 4).                        \\n\\nAnswer according to the template:\\n{\\n'Nodule': 'obscure',\\n'Mass': 'obscure',\\n'Calcification': 'obscure',\\n'Asymmetry': 'left',\\n'Architectural Distortion': 'left',\\n'Skin Thickening': 'x',\\n'Lymph Node Enlargement': 'x',\\n'Intramammary Lymph Node': 'x',\\n'Nipple Retraction': 'x',\\n'Skin Retraction': 'x',\\n'Trabecular Thickening': 'x',\\n}\\n\\n\\n\\n\\n\\n\\n\\n\\n\\n\\n\\n\\n\\n\\n\\n\\n\\n\", \"As an AI trained in analyzing radiology reports, your task is to classify the presence or absence of specific findings in each report. Respond according to the given template. \\n\\nRequirements:\\n1. Provide the lesion's location as 'right', 'left' or 'both'(i.e, right and left) if the lesion is explicitly mentioned as present.\\n2. Provide 'obscure' if the information is incomplete.\\n3. Default to 'x' if the finding is not mentioned.\\n\\nTemplate:\\n{\\n'Nodule': '[ANSWER]',\\n'Mass': '[ANSWER]',\\n'Calcification': '[ANSWER]',\\n'Asymmetry': '[ANSWER]',\\n'Architectural Distortion': '[ANSWER]',\\n'Skin Thickening': '[ANSWER]',\\n'Lymph Node Enlargement': '[ANSWER]',\\n'Intramammary Lymph Node': '[ANSWER]',\\n'Nipple Retraction': '[ANSWER]',\\n'Skin Retraction': '[ANSWER]',\\n'Trabecular Thickening': '[ANSWER]',\\n}\\n\\nReport:\\nRight Breast:  No speculated mass lesions or suspicious microcalcifications.  Normal skin thickness and contour of breast.    Left Breast:  Upper central and outer architectural distortion with overlying macrocalcification and edema pattern are seen.      OPINION:  Right Breast:  Normal breast examination (BIRADS 1).    Left Breast:  Upper central and outer suspicious looking architectural distortion with overlying macrocalcification and edema pattern (BIRADS 4).                              \\n\\nAnswer according to the template:\\n{\\n'Nodule': 'obscure',\\n'Mass': 'obscure',\\n'Calcification': 'obscure',\\n'Asymmetry': 'obscure',\\n'Architectural Distortion': 'left',\\n'Skin Thickening': 'obscure',\\n'Lymph Node Enlargement': 'obscure',\\n'Intramammary Lymph Node': 'obscure',\\n'Nipple Retraction': 'obscure',\\n'Skin Retraction': 'obscure',\\n'Trabecular Thickening': 'obscure',\\n}\\n\\n\\n\\n\"]\n"
          ]
        },
        {
          "name": "stderr",
          "output_type": "stream",
          "text": [
            " 26%|██▋       | 43/163 [1:36:34<4:28:33, 134.28s/it]"
          ]
        },
        {
          "name": "stdout",
          "output_type": "stream",
          "text": [
            "[\"As an AI trained in analyzing radiology reports, your task is to classify the presence or absence of specific findings in each report. Respond according to the given template. \\n\\nRequirements:\\n1. Provide the lesion's location as 'right', 'left' or 'both'(i.e, right and left) if the lesion is explicitly mentioned as present.\\n2. Provide 'obscure' if the information is incomplete.\\n3. Default to 'x' if the finding is not mentioned.\\n\\nTemplate:\\n{\\n'Nodule': '[ANSWER]',\\n'Mass': '[ANSWER]',\\n'Calcification': '[ANSWER]',\\n'Asymmetry': '[ANSWER]',\\n'Architectural Distortion': '[ANSWER]',\\n'Skin Thickening': '[ANSWER]',\\n'Lymph Node Enlargement': '[ANSWER]',\\n'Intramammary Lymph Node': '[ANSWER]',\\n'Nipple Retraction': '[ANSWER]',\\n'Skin Retraction': '[ANSWER]',\\n'Trabecular Thickening': '[ANSWER]',\\n}\\n\\nReport:\\nRight Breast:  Upper central architectural distortion.  No suspicious microcalcifications.  Normal skin thickness and contour of breast.      OPINION:    Right Breast:  Status post neoadjuvant chemotherapy of a known case of breast cancer showing residual upper central architectural distortion (BIRADS 6).                              \\n\\nAnswer according to the template:\\n{\\n'Nodule': 'x',\\n'Mass': 'x',\\n'Calcification': 'x',\\n'Asymmetry': 'x',\\n'Architectural Distortion': 'right',\\n'Skin Thickening': 'x',\\n'Lymph Node Enlargement': 'x',\\n'Intramammary Lymph Node': 'x',\\n'Nipple Retraction': 'x',\\n'Skin Retraction': 'x',\\n'Trabecular Thickening': 'x',\\n}\\n\\nReport:\\nRight Breast:  Upper central architectural distortion.  No suspicious microcalc\", \"As an AI trained in analyzing radiology reports, your task is to classify the presence or absence of specific findings in each report. Respond according to the given template. \\n\\nRequirements:\\n1. Provide the lesion's location as 'right', 'left' or 'both'(i.e, right and left) if the lesion is explicitly mentioned as present.\\n2. Provide 'obscure' if the information is incomplete.\\n3. Default to 'x' if the finding is not mentioned.\\n\\nTemplate:\\n{\\n'Nodule': '[ANSWER]',\\n'Mass': '[ANSWER]',\\n'Calcification': '[ANSWER]',\\n'Asymmetry': '[ANSWER]',\\n'Architectural Distortion': '[ANSWER]',\\n'Skin Thickening': '[ANSWER]',\\n'Lymph Node Enlargement': '[ANSWER]',\\n'Intramammary Lymph Node': '[ANSWER]',\\n'Nipple Retraction': '[ANSWER]',\\n'Skin Retraction': '[ANSWER]',\\n'Trabecular Thickening': '[ANSWER]',\\n}\\n\\nReport:\\nRight Breast:  Upper focal asymmetrical increased density is noted.   No speculated mass lesions or suspicious microcalcifications.  Normal skin thickness and contour of breast.    Left Breast:  No speculated mass lesions or suspicious microcalcifications.  Normal skin thickness and contour of breast.      OPINION:  Right Breast:  Upper focal asymmetry (BIRADS 3).    Left Breast:  Normal breast examination (BIRADS 1).                        \\n\\nAnswer according to the template:\\n{\\n'Nodule': 'obscure',\\n'Mass': 'obscure',\\n'Calcification': 'obscure',\\n'Asymmetry': 'right',\\n'Architectural Distortion': 'x',\\n'Skin Thickening': 'x',\\n'Lymph Node Enlargement': 'x',\\n'Intramammary Lymph Node': 'x',\\n'Nipple Retraction': 'x',\\n'Skin Retraction': 'x',\\n'Trabecular Thickening': 'x',\\n}\\n\\n\\n\\n\\n\\n\\n\\n\\n\\n\\n\\n\\n\\n\\n\\n\\n\\n\"]\n"
          ]
        },
        {
          "name": "stderr",
          "output_type": "stream",
          "text": [
            " 27%|██▋       | 44/163 [1:38:48<4:26:21, 134.30s/it]"
          ]
        },
        {
          "name": "stdout",
          "output_type": "stream",
          "text": [
            "[\"As an AI trained in analyzing radiology reports, your task is to classify the presence or absence of specific findings in each report. Respond according to the given template. \\n\\nRequirements:\\n1. Provide the lesion's location as 'right', 'left' or 'both'(i.e, right and left) if the lesion is explicitly mentioned as present.\\n2. Provide 'obscure' if the information is incomplete.\\n3. Default to 'x' if the finding is not mentioned.\\n\\nTemplate:\\n{\\n'Nodule': '[ANSWER]',\\n'Mass': '[ANSWER]',\\n'Calcification': '[ANSWER]',\\n'Asymmetry': '[ANSWER]',\\n'Architectural Distortion': '[ANSWER]',\\n'Skin Thickening': '[ANSWER]',\\n'Lymph Node Enlargement': '[ANSWER]',\\n'Intramammary Lymph Node': '[ANSWER]',\\n'Nipple Retraction': '[ANSWER]',\\n'Skin Retraction': '[ANSWER]',\\n'Trabecular Thickening': '[ANSWER]',\\n}\\n\\nReport:\\nRight Breast:  No speculated mass lesions or suspicious microcalcifications.  Normal skin thickness and contour of breast.    Left Breast:  Upper central and outer focal asymmetrical increased density with overlying segmental microcalcifications are seen.   Normal skin thickness and contour of breast.      OPINION:  Right Breast:  Normal breast examination (BIRADS 1).    Left Breast:  Upper central and outer malignant looking focal asymmetry with overlying suspicious microcalcifications (BIRADS 5).                        \\n\\nAnswer according to the template:\\n{\\n'Nodule': 'obscure',\\n'Mass': 'obscure',\\n'Calcification': 'obscure',\\n'Asymmetry': 'left',\\n'Architectural Distortion': 'x',\\n'Skin Thickening': 'x',\\n'Lymph Node Enlargement': 'x',\\n'Intramammary Lymph Node': 'x',\\n'Nipple Retraction': 'x',\\n'Skin Retraction': 'x',\\n'Trabecular Thickening': 'x',\\n}\\n\\n\\n\\n\\n\\n\\n\\n\\n\\n\\n\\n\\n\\n\\n\\n\\n\\n\", \"As an AI trained in analyzing radiology reports, your task is to classify the presence or absence of specific findings in each report. Respond according to the given template. \\n\\nRequirements:\\n1. Provide the lesion's location as 'right', 'left' or 'both'(i.e, right and left) if the lesion is explicitly mentioned as present.\\n2. Provide 'obscure' if the information is incomplete.\\n3. Default to 'x' if the finding is not mentioned.\\n\\nTemplate:\\n{\\n'Nodule': '[ANSWER]',\\n'Mass': '[ANSWER]',\\n'Calcification': '[ANSWER]',\\n'Asymmetry': '[ANSWER]',\\n'Architectural Distortion': '[ANSWER]',\\n'Skin Thickening': '[ANSWER]',\\n'Lymph Node Enlargement': '[ANSWER]',\\n'Intramammary Lymph Node': '[ANSWER]',\\n'Nipple Retraction': '[ANSWER]',\\n'Skin Retraction': '[ANSWER]',\\n'Trabecular Thickening': '[ANSWER]',\\n}\\n\\nReport:\\nRight Breast:  Retroareolar focal asymmetrical increased density is noted.   No speculated mass lesions or suspicious microcalcifications.  Normal skin thickness and contour of breast.    Left Breast:  No speculated mass lesions or suspicious microcalcifications.  Normal skin thickness and contour of breast.      OPINION:  Right Breast:  Retroareolar focal asymmetry (BIRADS 3).    Left Breast:  Normal breast examination (BIRADS 1).                        \\n\\nAnswer according to the template:\\n{\\n'Nodule': 'obscure',\\n'Mass': 'obscure',\\n'Calcification': 'obscure',\\n'Asymmetry': 'right',\\n'Architectural Distortion': 'x',\\n'Skin Thickening': 'x',\\n'Lymph Node Enlargement': 'x',\\n'Intramammary Lymph Node': 'x',\\n'Nipple Retraction': 'x',\\n'Skin Retraction': 'x',\\n'Trabecular Thickening': 'x',\\n}\\n\\n\\n\\n\\n\\n\\n\\n\\n\\n\\n\\n\\n\\n\\n\\n\\n\\n\"]\n"
          ]
        },
        {
          "name": "stderr",
          "output_type": "stream",
          "text": [
            " 28%|██▊       | 45/163 [1:41:03<4:24:06, 134.29s/it]"
          ]
        },
        {
          "name": "stdout",
          "output_type": "stream",
          "text": [
            "[\"As an AI trained in analyzing radiology reports, your task is to classify the presence or absence of specific findings in each report. Respond according to the given template. \\n\\nRequirements:\\n1. Provide the lesion's location as 'right', 'left' or 'both'(i.e, right and left) if the lesion is explicitly mentioned as present.\\n2. Provide 'obscure' if the information is incomplete.\\n3. Default to 'x' if the finding is not mentioned.\\n\\nTemplate:\\n{\\n'Nodule': '[ANSWER]',\\n'Mass': '[ANSWER]',\\n'Calcification': '[ANSWER]',\\n'Asymmetry': '[ANSWER]',\\n'Architectural Distortion': '[ANSWER]',\\n'Skin Thickening': '[ANSWER]',\\n'Lymph Node Enlargement': '[ANSWER]',\\n'Intramammary Lymph Node': '[ANSWER]',\\n'Nipple Retraction': '[ANSWER]',\\n'Skin Retraction': '[ANSWER]',\\n'Trabecular Thickening': '[ANSWER]',\\n}\\n\\nReport:\\nRight Breast:  Upper outer high density irregular mass with indistinct margin and overlying microcalcification associated with edema pattern.    Left Breast:  No speculated mass lesions or suspicious microcalcifications.  Normal skin thickness and contour of breast.      OPINION:  Right Breast:  Upper outer malignant looking mass with overlying suspicious microcalcifications and edema pattern (BIRADS 5).    Left Breast:  Normal breast examination (BIRADS 1).                        \\n\\nAnswer according to the template:\\n{\\n'Nodule': 'right',\\n'Mass': 'right',\\n'Calcification': 'right',\\n'Asymmetry': 'obscure',\\n'Architectural Distortion': 'obscure',\\n'Skin Thickening': 'obscure',\\n'Lymph Node Enlargement': 'obscure',\\n'Intramammary Lymph Node': 'obscure',\\n'Nipple Retraction': 'obscure',\\n'Skin Retraction': 'obscure',\\n'Trabecular Thickening': 'obscure',\\n}\\n\\n\\n\\n\\n\\n\\n\\n\", \"As an AI trained in analyzing radiology reports, your task is to classify the presence or absence of specific findings in each report. Respond according to the given template. \\n\\nRequirements:\\n1. Provide the lesion's location as 'right', 'left' or 'both'(i.e, right and left) if the lesion is explicitly mentioned as present.\\n2. Provide 'obscure' if the information is incomplete.\\n3. Default to 'x' if the finding is not mentioned.\\n\\nTemplate:\\n{\\n'Nodule': '[ANSWER]',\\n'Mass': '[ANSWER]',\\n'Calcification': '[ANSWER]',\\n'Asymmetry': '[ANSWER]',\\n'Architectural Distortion': '[ANSWER]',\\n'Skin Thickening': '[ANSWER]',\\n'Lymph Node Enlargement': '[ANSWER]',\\n'Intramammary Lymph Node': '[ANSWER]',\\n'Nipple Retraction': '[ANSWER]',\\n'Skin Retraction': '[ANSWER]',\\n'Trabecular Thickening': '[ANSWER]',\\n}\\n\\nReport:\\nRight Breast:  Retroareolar asymmetrical increased density/  No speculated mass lesions or suspicious microcalcifications.  Normal skin thickness and contour of breast.    Left Breast:  No speculated mass lesions or suspicious microcalcifications.  Normal skin thickness and contour of breast.      OPINION:  Right Breast:  Retroareolar asymmetry (BIRADS 3).    Left Breast:  Normal breast examination (BIRADS 1).                          \\n\\nAnswer according to the template:\\n{\\n'Nodule': 'obscure',\\n'Mass': 'obscure',\\n'Calcification': 'obscure',\\n'Asymmetry': 'right',\\n'Architectural Distortion': 'x',\\n'Skin Thickening': 'x',\\n'Lymph Node Enlargement': 'x',\\n'Intramammary Lymph Node': 'x',\\n'Nipple Retraction': 'x',\\n'Skin Retraction': 'x',\\n'Trabecular Thickening': 'x',\\n}\\n\\n\\n\\n\\n\\n\\n\\n\\n\\n\\n\\n\\n\\n\\n\\n\\n\\n\"]\n"
          ]
        },
        {
          "name": "stderr",
          "output_type": "stream",
          "text": [
            " 28%|██▊       | 46/163 [1:43:17<4:21:52, 134.29s/it]"
          ]
        },
        {
          "name": "stdout",
          "output_type": "stream",
          "text": [
            "[\"As an AI trained in analyzing radiology reports, your task is to classify the presence or absence of specific findings in each report. Respond according to the given template. \\n\\nRequirements:\\n1. Provide the lesion's location as 'right', 'left' or 'both'(i.e, right and left) if the lesion is explicitly mentioned as present.\\n2. Provide 'obscure' if the information is incomplete.\\n3. Default to 'x' if the finding is not mentioned.\\n\\nTemplate:\\n{\\n'Nodule': '[ANSWER]',\\n'Mass': '[ANSWER]',\\n'Calcification': '[ANSWER]',\\n'Asymmetry': '[ANSWER]',\\n'Architectural Distortion': '[ANSWER]',\\n'Skin Thickening': '[ANSWER]',\\n'Lymph Node Enlargement': '[ANSWER]',\\n'Intramammary Lymph Node': '[ANSWER]',\\n'Nipple Retraction': '[ANSWER]',\\n'Skin Retraction': '[ANSWER]',\\n'Trabecular Thickening': '[ANSWER]',\\n}\\n\\nReport:\\nLeft Breast:  Status post operative showing central deeply seated focal asymmetrical increased density and mild edema pattern.  No suspicious microcalcifications.  Normal skin thickness and contour of breast.      OPINION:    Left Breast:  Status post operative showing central deeply seated focal asymmetry (BIRADS 3).                                  \\n\\nAnswer according to the template:\\n{\\n'Nodule': 'obscure',\\n'Mass': 'obscure',\\n'Calcification': 'obscure',\\n'Asymmetry': 'left',\\n'Architectural Distortion': 'obscure',\\n'Skin Thickening': 'obscure',\\n'Lymph Node Enlargement': 'obscure',\\n'Intramammary Lymph Node': 'obscure',\\n'Nipple Retraction': 'obscure',\\n'Skin Retraction': 'obscure',\\n'Trabecular Thickening': 'obscure',\\n}\\n\\nReport:\", \"As an AI trained in analyzing radiology reports, your task is to classify the presence or absence of specific findings in each report. Respond according to the given template. \\n\\nRequirements:\\n1. Provide the lesion's location as 'right', 'left' or 'both'(i.e, right and left) if the lesion is explicitly mentioned as present.\\n2. Provide 'obscure' if the information is incomplete.\\n3. Default to 'x' if the finding is not mentioned.\\n\\nTemplate:\\n{\\n'Nodule': '[ANSWER]',\\n'Mass': '[ANSWER]',\\n'Calcification': '[ANSWER]',\\n'Asymmetry': '[ANSWER]',\\n'Architectural Distortion': '[ANSWER]',\\n'Skin Thickening': '[ANSWER]',\\n'Lymph Node Enlargement': '[ANSWER]',\\n'Intramammary Lymph Node': '[ANSWER]',\\n'Nipple Retraction': '[ANSWER]',\\n'Skin Retraction': '[ANSWER]',\\n'Trabecular Thickening': '[ANSWER]',\\n}\\n\\nReport:\\nRight Breast:  No speculated mass lesions or suspicious microcalcifications.  Normal skin thickness and contour of breast.    Left Breast:  No speculated mass lesions or suspicious microcalcifications.  Normal skin thickness and contour of breast.      OPINION:  Right Breast:  Normal breast examination (BIRADS 1).    Left Breast:  Normal breast examination (BIRADS 1).                          \\n\\nAnswer according to the template:\\n{\\n'Nodule': 'obscure',\\n'Mass': 'obscure',\\n'Calcification': 'obscure',\\n'Asymmetry': 'obscure',\\n'Architectural Distortion': 'obscure',\\n'Skin Thickening': 'obscure',\\n'Lymph Node Enlargement': 'obscure',\\n'Intramammary Lymph Node': 'obscure',\\n'Nipple Retraction': 'obscure',\\n'Skin Retraction': 'obscure',\\n'Trabecular Thickening': 'obscure',\\n}\\n\\n\"]\n"
          ]
        },
        {
          "name": "stderr",
          "output_type": "stream",
          "text": [
            " 29%|██▉       | 47/163 [1:45:32<4:19:52, 134.42s/it]"
          ]
        },
        {
          "name": "stdout",
          "output_type": "stream",
          "text": [
            "['As an AI trained in analyzing radiology reports, your task is to classify the presence or absence of specific findings in each report. Respond according to the given template. \\n\\nRequirements:\\n1. Provide the lesion\\'s location as \\'right\\', \\'left\\' or \\'both\\'(i.e, right and left) if the lesion is explicitly mentioned as present.\\n2. Provide \\'obscure\\' if the information is incomplete.\\n3. Default to \\'x\\' if the finding is not mentioned.\\n\\nTemplate:\\n{\\n\\'Nodule\\': \\'[ANSWER]\\',\\n\\'Mass\\': \\'[ANSWER]\\',\\n\\'Calcification\\': \\'[ANSWER]\\',\\n\\'Asymmetry\\': \\'[ANSWER]\\',\\n\\'Architectural Distortion\\': \\'[ANSWER]\\',\\n\\'Skin Thickening\\': \\'[ANSWER]\\',\\n\\'Lymph Node Enlargement\\': \\'[ANSWER]\\',\\n\\'Intramammary Lymph Node\\': \\'[ANSWER]\\',\\n\\'Nipple Retraction\\': \\'[ANSWER]\\',\\n\\'Skin Retraction\\': \\'[ANSWER]\\',\\n\\'Trabecular Thickening\\': \\'[ANSWER]\\',\\n}\\n\\nReport:\\nRight Breast:  Upper central and inner benign macrocalcifications are noted.  No suspicious microcalcifications.  Normal skin thickness and contour of breast.    Left Breast:  Upper outer quadrant irregular high density mass with speculated margin and overlying microcalcifications is seen.  Central inner benign macrocalcification is noted.  Normal skin thickness and contour of breast.      OPINION:  Right Breast:  Upper central and inner benign macrocalcifications (BIRADS 2).    Left Breast:  Upper outer quadrant malignant looking mass with overlying microcalcifications (BIRADS 5).  Central inner benign macrocalcification (BIRADS 2).                \\n\\nAnswer according to the template:\\n{\\n\\'Nodule\\': \\'obscure\\',\\n\\'Mass\\': \\'left\\',\\n\\'Calcification\\': \\'both\\',\\n\\'Asymmetry\\': \\'x\\',\\n\\'Architectural Distortion\\': \\'x\\',\\n\\'Skin Thickening\\': \\'x\\',\\n\\'Lymph Node Enlargement\\': \\'x\\',\\n\\'Intramammary Lymph Node\\': \\'x\\',\\n\\'Nipple Retraction\\': \\'x\\',\\n\\'Skin Retraction\\': \\'x\\',\\n\\'Trabecular Thickening\\': \\'x\\',\\n}\\n\\n\\n\"\"\"\\n\\nimport os\\nimport json\\nimport numpy as np\\nimport pandas as pd', \"As an AI trained in analyzing radiology reports, your task is to classify the presence or absence of specific findings in each report. Respond according to the given template. \\n\\nRequirements:\\n1. Provide the lesion's location as 'right', 'left' or 'both'(i.e, right and left) if the lesion is explicitly mentioned as present.\\n2. Provide 'obscure' if the information is incomplete.\\n3. Default to 'x' if the finding is not mentioned.\\n\\nTemplate:\\n{\\n'Nodule': '[ANSWER]',\\n'Mass': '[ANSWER]',\\n'Calcification': '[ANSWER]',\\n'Asymmetry': '[ANSWER]',\\n'Architectural Distortion': '[ANSWER]',\\n'Skin Thickening': '[ANSWER]',\\n'Lymph Node Enlargement': '[ANSWER]',\\n'Intramammary Lymph Node': '[ANSWER]',\\n'Nipple Retraction': '[ANSWER]',\\n'Skin Retraction': '[ANSWER]',\\n'Trabecular Thickening': '[ANSWER]',\\n}\\n\\nReport:\\nRight Breast:  Upper outer quadrant asymmetrical increased density is noted.  No suspicious microcalcifications.  Normal skin thickness and contour of breast.    Left Breast:  Upper IMLN is noted.  No speculated mass lesions or suspicious microcalcifications.  Normal skin thickness and contour of breast.      OPINION:  Right Breast:  Upper outer asymmetry (BIRADS 3).    Left Breast:  Upper IMLN (BIRADS 2).                          \\n\\nAnswer according to the template:\\n{\\n'Nodule': 'obscure',\\n'Mass': 'obscure',\\n'Calcification': 'obscure',\\n'Asymmetry': 'right',\\n'Architectural Distortion': 'x',\\n'Skin Thickening': 'x',\\n'Lymph Node Enlargement': 'left',\\n'Intramammary Lymph Node': 'left',\\n'Nipple Retraction': 'x',\\n'Skin Retraction': 'x',\\n'Trabecular Thickening': 'x',\\n}\\n\\n\\n\\n\\n\\n\\n\\n\\n\\n\\n\\n\\n\\n\\n\\n\\n\\n\"]\n"
          ]
        },
        {
          "name": "stderr",
          "output_type": "stream",
          "text": [
            " 29%|██▉       | 48/163 [1:47:46<4:17:40, 134.44s/it]"
          ]
        },
        {
          "name": "stdout",
          "output_type": "stream",
          "text": [
            "[\"As an AI trained in analyzing radiology reports, your task is to classify the presence or absence of specific findings in each report. Respond according to the given template. \\n\\nRequirements:\\n1. Provide the lesion's location as 'right', 'left' or 'both'(i.e, right and left) if the lesion is explicitly mentioned as present.\\n2. Provide 'obscure' if the information is incomplete.\\n3. Default to 'x' if the finding is not mentioned.\\n\\nTemplate:\\n{\\n'Nodule': '[ANSWER]',\\n'Mass': '[ANSWER]',\\n'Calcification': '[ANSWER]',\\n'Asymmetry': '[ANSWER]',\\n'Architectural Distortion': '[ANSWER]',\\n'Skin Thickening': '[ANSWER]',\\n'Lymph Node Enlargement': '[ANSWER]',\\n'Intramammary Lymph Node': '[ANSWER]',\\n'Nipple Retraction': '[ANSWER]',\\n'Skin Retraction': '[ANSWER]',\\n'Trabecular Thickening': '[ANSWER]',\\n}\\n\\nReport:\\nRight Breast:  No speculated mass lesions or suspicious microcalcifications.  Normal skin thickness and contour of breast.    Left Breast:  Inner irregular high density mass with speculated margin is seen with nipple retraction.  No suspicious microcalcifications.  Normal skin thickness and contour of breast.      OPINION:  Right Breast:  Normal breast examination (BIRADS 1).    Left Breast:  Inner malignant looking mass with nipple retraction (BIRADS 5).                          \\n\\nAnswer according to the template:\\n{\\n'Nodule': 'left',\\n'Mass': 'left',\\n'Calcification': 'x',\\n'Asymmetry': 'left',\\n'Architectural Distortion': 'x',\\n'Skin Thickening': 'left',\\n'Lymph Node Enlargement': 'x',\\n'Intramammary Lymph Node': 'x',\\n'Nipple Retraction': 'left',\\n'Skin Retraction': 'left',\\n'Trabecular Thickening': 'x',\\n}\\n\\n\\n\\n\\n\\n\\n\\n\\n\\n\\n\\n\\n\\n\\n\\n\\n\\n\\n\\n\\n\\n\\n\\n\", \"As an AI trained in analyzing radiology reports, your task is to classify the presence or absence of specific findings in each report. Respond according to the given template. \\n\\nRequirements:\\n1. Provide the lesion's location as 'right', 'left' or 'both'(i.e, right and left) if the lesion is explicitly mentioned as present.\\n2. Provide 'obscure' if the information is incomplete.\\n3. Default to 'x' if the finding is not mentioned.\\n\\nTemplate:\\n{\\n'Nodule': '[ANSWER]',\\n'Mass': '[ANSWER]',\\n'Calcification': '[ANSWER]',\\n'Asymmetry': '[ANSWER]',\\n'Architectural Distortion': '[ANSWER]',\\n'Skin Thickening': '[ANSWER]',\\n'Lymph Node Enlargement': '[ANSWER]',\\n'Intramammary Lymph Node': '[ANSWER]',\\n'Nipple Retraction': '[ANSWER]',\\n'Skin Retraction': '[ANSWER]',\\n'Trabecular Thickening': '[ANSWER]',\\n}\\n\\nReport:\\nRight Breast:  Global asymmetrical increased density associated with retroareolar irregular high density mass with indistinct margin and edema pattern.  No suspicious microcalcifications.    Left Breast:  Upper outer benign macrocalcifications.  No speculated mass lesions or suspicious microcalcifications.  Normal skin thickness and contour of breast.      OPINION:  Right Breast:  Global asymmetry with retroareolar suspicious looking mass and edema pattern (BIRADS 4).    Left Breast:  Upper outer benign macrocalcification (BIRADS 2).                          \\n\\nAnswer according to the template:\\n{\\n'Nodule': 'obscure',\\n'Mass': 'right',\\n'Calcification': 'left',\\n'Asymmetry': 'right',\\n'Architectural Distortion': 'obscure',\\n'Skin Thickening': 'obscure',\\n'Lymph Node Enlargement': 'obscure',\\n'Intramammary Lymph Node': 'obscure',\\n'Nipple Retraction': 'obscure',\\n'Skin Retraction': 'obscure',\\n'Trabecular Thickening': 'obscure',\\n}\\n\\n\\n\\n\\n\\n\\n\\n\"]\n"
          ]
        },
        {
          "name": "stderr",
          "output_type": "stream",
          "text": [
            " 30%|███       | 49/163 [1:50:01<4:15:27, 134.45s/it]"
          ]
        },
        {
          "name": "stdout",
          "output_type": "stream",
          "text": [
            "[\"As an AI trained in analyzing radiology reports, your task is to classify the presence or absence of specific findings in each report. Respond according to the given template. \\n\\nRequirements:\\n1. Provide the lesion's location as 'right', 'left' or 'both'(i.e, right and left) if the lesion is explicitly mentioned as present.\\n2. Provide 'obscure' if the information is incomplete.\\n3. Default to 'x' if the finding is not mentioned.\\n\\nTemplate:\\n{\\n'Nodule': '[ANSWER]',\\n'Mass': '[ANSWER]',\\n'Calcification': '[ANSWER]',\\n'Asymmetry': '[ANSWER]',\\n'Architectural Distortion': '[ANSWER]',\\n'Skin Thickening': '[ANSWER]',\\n'Lymph Node Enlargement': '[ANSWER]',\\n'Intramammary Lymph Node': '[ANSWER]',\\n'Nipple Retraction': '[ANSWER]',\\n'Skin Retraction': '[ANSWER]',\\n'Trabecular Thickening': '[ANSWER]',\\n}\\n\\nReport:\\nRight Breast:  No speculated mass lesions or suspicious microcalcifications.  Normal skin thickness and contour of breast.    Left Breast:  Upper outer central irregular high density mass with indistinct margin is seen.  No suspicious microcalcifications.  Normal skin thickness and contour of breast.      OPINION:  Right Breast:  Normal breast examination (BIRADS 1).    Left Breast:  Upper outer central suspicious looking mass (BIRADS 4).                          \\n\\nAnswer according to the template:\\n{\\n'Nodule': 'obscure',\\n'Mass': 'left',\\n'Calcification': 'x',\\n'Asymmetry': 'x',\\n'Architectural Distortion': 'x',\\n'Skin Thickening': 'x',\\n'Lymph Node Enlargement': 'x',\\n'Intramammary Lymph Node': 'x',\\n'Nipple Retraction': 'x',\\n'Skin Retraction': 'x',\\n'Trabecular Thickening': 'x',\\n}\\n\\n\\n\\n\\n\\n\\n\\n\\n\\n\\n\\n\\n\\n\\n\\n\\n\\n\\n\\n\\n\\n\", \"As an AI trained in analyzing radiology reports, your task is to classify the presence or absence of specific findings in each report. Respond according to the given template. \\n\\nRequirements:\\n1. Provide the lesion's location as 'right', 'left' or 'both'(i.e, right and left) if the lesion is explicitly mentioned as present.\\n2. Provide 'obscure' if the information is incomplete.\\n3. Default to 'x' if the finding is not mentioned.\\n\\nTemplate:\\n{\\n'Nodule': '[ANSWER]',\\n'Mass': '[ANSWER]',\\n'Calcification': '[ANSWER]',\\n'Asymmetry': '[ANSWER]',\\n'Architectural Distortion': '[ANSWER]',\\n'Skin Thickening': '[ANSWER]',\\n'Lymph Node Enlargement': '[ANSWER]',\\n'Intramammary Lymph Node': '[ANSWER]',\\n'Nipple Retraction': '[ANSWER]',\\n'Skin Retraction': '[ANSWER]',\\n'Trabecular Thickening': '[ANSWER]',\\n}\\n\\nReport:\\nRight Breast:  No speculated mass lesions or suspicious microcalcifications.  Normal skin thickness and contour of breast.    Left Breast:  Global asymmetrical increased density and edema pattern.   No suspicious microcalcifications.      OPINION:  Right Breast:  Normal breast examination (BIRADS 1).    Left Breast:  Global asymmetry and edema pattern (BIRADS 4).                          \\n\\nAnswer according to the template:\\n{\\n'Nodule': 'obscure',\\n'Mass': 'obscure',\\n'Calcification': 'obscure',\\n'Asymmetry': 'left',\\n'Architectural Distortion': 'x',\\n'Skin Thickening': 'x',\\n'Lymph Node Enlargement': 'x',\\n'Intramammary Lymph Node': 'x',\\n'Nipple Retraction': 'x',\\n'Skin Retraction': 'x',\\n'Trabecular Thickening': 'x',\\n}\\n\\n\\n\\n\\n\\n\\n\\n\\n\\n\\n\\n\\n\\n\\n\\n\\n\\n\"]\n"
          ]
        },
        {
          "name": "stderr",
          "output_type": "stream",
          "text": [
            " 31%|███       | 50/163 [1:52:15<4:13:14, 134.47s/it]"
          ]
        },
        {
          "name": "stdout",
          "output_type": "stream",
          "text": [
            "[\"As an AI trained in analyzing radiology reports, your task is to classify the presence or absence of specific findings in each report. Respond according to the given template. \\n\\nRequirements:\\n1. Provide the lesion's location as 'right', 'left' or 'both'(i.e, right and left) if the lesion is explicitly mentioned as present.\\n2. Provide 'obscure' if the information is incomplete.\\n3. Default to 'x' if the finding is not mentioned.\\n\\nTemplate:\\n{\\n'Nodule': '[ANSWER]',\\n'Mass': '[ANSWER]',\\n'Calcification': '[ANSWER]',\\n'Asymmetry': '[ANSWER]',\\n'Architectural Distortion': '[ANSWER]',\\n'Skin Thickening': '[ANSWER]',\\n'Lymph Node Enlargement': '[ANSWER]',\\n'Intramammary Lymph Node': '[ANSWER]',\\n'Nipple Retraction': '[ANSWER]',\\n'Skin Retraction': '[ANSWER]',\\n'Trabecular Thickening': '[ANSWER]',\\n}\\n\\nReport:\\nRight Breast:  Upper outer quadrant rounded high density mass with microlobulated margin is seen.  No suspicious microcalcifications.  Normal skin thickness and contour of breast.    Left Breast:  No speculated mass lesions or suspicious microcalcifications.  Normal skin thickness and contour of breast.      OPINION:  Right Breast:  Upper outer suspicious looking mass (BIRADS 4).    Left Breast:  Normal breast examination (BIRADS 1).                          \\n\\nAnswer according to the template:\\n{\\n'Nodule': 'right',\\n'Mass': 'right',\\n'Calcification': 'x',\\n'Asymmetry': 'x',\\n'Architectural Distortion': 'x',\\n'Skin Thickening': 'x',\\n'Lymph Node Enlargement': 'x',\\n'Intramammary Lymph Node': 'x',\\n'Nipple Retraction': 'x',\\n'Skin Retraction': 'x',\\n'Trabecular Thickening': 'x',\\n}\\n\\n\\n\\n\\n\\n\\n\\n\\n\\n\\n\\n\\n\\n\\n\\n\\n\\n\\n\\n\\n\\n\\n\\n\", \"As an AI trained in analyzing radiology reports, your task is to classify the presence or absence of specific findings in each report. Respond according to the given template. \\n\\nRequirements:\\n1. Provide the lesion's location as 'right', 'left' or 'both'(i.e, right and left) if the lesion is explicitly mentioned as present.\\n2. Provide 'obscure' if the information is incomplete.\\n3. Default to 'x' if the finding is not mentioned.\\n\\nTemplate:\\n{\\n'Nodule': '[ANSWER]',\\n'Mass': '[ANSWER]',\\n'Calcification': '[ANSWER]',\\n'Asymmetry': '[ANSWER]',\\n'Architectural Distortion': '[ANSWER]',\\n'Skin Thickening': '[ANSWER]',\\n'Lymph Node Enlargement': '[ANSWER]',\\n'Intramammary Lymph Node': '[ANSWER]',\\n'Nipple Retraction': '[ANSWER]',\\n'Skin Retraction': '[ANSWER]',\\n'Trabecular Thickening': '[ANSWER]',\\n}\\n\\nReport:\\nRight Breast:  ACR C: Heterogenously dense breasts.  No speculated mass lesions or suspicious microcalcifications.  Normal skin thickness and contour of breast.      Left Breast:  Status postoperative showing operative scar and edema.  No speculated mass lesions or suspicious microcalcifications.      OPINION:  Right Breast:  Normal breast examination (BIRADS 1).    Left Breast:  Status post operative with operative scar and edema showing no evidence of recurrent lesions (BIRADS 2).                        \\n\\nAnswer according to the template:\\n{\\n'Nodule': 'obscure',\\n'Mass': 'obscure',\\n'Calcification': 'obscure',\\n'Asymmetry': 'obscure',\\n'Architectural Distortion': 'obscure',\\n'Skin Thickening': 'obscure',\\n'Lymph Node Enlargement': 'obscure',\\n'Intramammary Lymph Node': 'obscure',\\n'Nipple Retraction': 'obscure',\\n'Skin Retraction': 'obscure',\\n'Trabecular Thickening': 'obscure',\\n}\\n\\n\"]\n"
          ]
        },
        {
          "name": "stderr",
          "output_type": "stream",
          "text": [
            " 31%|███▏      | 51/163 [1:54:30<4:10:59, 134.46s/it]"
          ]
        },
        {
          "name": "stdout",
          "output_type": "stream",
          "text": [
            "[\"As an AI trained in analyzing radiology reports, your task is to classify the presence or absence of specific findings in each report. Respond according to the given template. \\n\\nRequirements:\\n1. Provide the lesion's location as 'right', 'left' or 'both'(i.e, right and left) if the lesion is explicitly mentioned as present.\\n2. Provide 'obscure' if the information is incomplete.\\n3. Default to 'x' if the finding is not mentioned.\\n\\nTemplate:\\n{\\n'Nodule': '[ANSWER]',\\n'Mass': '[ANSWER]',\\n'Calcification': '[ANSWER]',\\n'Asymmetry': '[ANSWER]',\\n'Architectural Distortion': '[ANSWER]',\\n'Skin Thickening': '[ANSWER]',\\n'Lymph Node Enlargement': '[ANSWER]',\\n'Intramammary Lymph Node': '[ANSWER]',\\n'Nipple Retraction': '[ANSWER]',\\n'Skin Retraction': '[ANSWER]',\\n'Trabecular Thickening': '[ANSWER]',\\n}\\n\\nReport:\\nRight Breast:  No speculated mass lesions or suspicious microcalcifications.  Normal skin thickness and contour of breast.    Left Breast:  No speculated mass lesions or suspicious microcalcifications.  Normal skin thickness and contour of breast.      OPINION:  Right Breast:  Normal breast examination (BIRADS 1).    Left Breast:  Normal breast examination (BIRADS 1).                          \\n\\nAnswer according to the template:\\n{\\n'Nodule': 'obscure',\\n'Mass': 'obscure',\\n'Calcification': 'obscure',\\n'Asymmetry': 'obscure',\\n'Architectural Distortion': 'obscure',\\n'Skin Thickening': 'obscure',\\n'Lymph Node Enlargement': 'obscure',\\n'Intramammary Lymph Node': 'obscure',\\n'Nipple Retraction': 'obscure',\\n'Skin Retraction': 'obscure',\\n'Trabecular Thickening': 'obscure',\\n}\\n\\n\", \"As an AI trained in analyzing radiology reports, your task is to classify the presence or absence of specific findings in each report. Respond according to the given template. \\n\\nRequirements:\\n1. Provide the lesion's location as 'right', 'left' or 'both'(i.e, right and left) if the lesion is explicitly mentioned as present.\\n2. Provide 'obscure' if the information is incomplete.\\n3. Default to 'x' if the finding is not mentioned.\\n\\nTemplate:\\n{\\n'Nodule': '[ANSWER]',\\n'Mass': '[ANSWER]',\\n'Calcification': '[ANSWER]',\\n'Asymmetry': '[ANSWER]',\\n'Architectural Distortion': '[ANSWER]',\\n'Skin Thickening': '[ANSWER]',\\n'Lymph Node Enlargement': '[ANSWER]',\\n'Intramammary Lymph Node': '[ANSWER]',\\n'Nipple Retraction': '[ANSWER]',\\n'Skin Retraction': '[ANSWER]',\\n'Trabecular Thickening': '[ANSWER]',\\n}\\n\\nReport:\\nRight Breast:  Lower inner focal asymmetrical increased density is noted.  No suspicious microcalcifications.  Normal skin thickness and contour of breast.    Left Breast:  No speculated mass lesions or suspicious microcalcifications.  Normal skin thickness and contour of breast.      OPINION:  Right Breast:  Lower inner focal asymmetry (BIRADS 3).    Left Breast:  Normal breast examination (BIRADS 1).                          \\n\\nAnswer according to the template:\\n{\\n'Nodule': 'obscure',\\n'Mass': 'obscure',\\n'Calcification': 'obscure',\\n'Asymmetry': 'right',\\n'Architectural Distortion': 'x',\\n'Skin Thickening': 'x',\\n'Lymph Node Enlargement': 'x',\\n'Intramammary Lymph Node': 'x',\\n'Nipple Retraction': 'x',\\n'Skin Retraction': 'x',\\n'Trabecular Thickening': 'x',\\n}\\n\\n\\n\\n\\n\\n\\n\\n\\n\\n\\n\\n\\n\\n\\n\\n\\n\\n\"]\n"
          ]
        },
        {
          "name": "stderr",
          "output_type": "stream",
          "text": [
            " 32%|███▏      | 52/163 [1:56:44<4:08:50, 134.51s/it]"
          ]
        },
        {
          "name": "stdout",
          "output_type": "stream",
          "text": [
            "[\"As an AI trained in analyzing radiology reports, your task is to classify the presence or absence of specific findings in each report. Respond according to the given template. \\n\\nRequirements:\\n1. Provide the lesion's location as 'right', 'left' or 'both'(i.e, right and left) if the lesion is explicitly mentioned as present.\\n2. Provide 'obscure' if the information is incomplete.\\n3. Default to 'x' if the finding is not mentioned.\\n\\nTemplate:\\n{\\n'Nodule': '[ANSWER]',\\n'Mass': '[ANSWER]',\\n'Calcification': '[ANSWER]',\\n'Asymmetry': '[ANSWER]',\\n'Architectural Distortion': '[ANSWER]',\\n'Skin Thickening': '[ANSWER]',\\n'Lymph Node Enlargement': '[ANSWER]',\\n'Intramammary Lymph Node': '[ANSWER]',\\n'Nipple Retraction': '[ANSWER]',\\n'Skin Retraction': '[ANSWER]',\\n'Trabecular Thickening': '[ANSWER]',\\n}\\n\\nReport:\\nRight Breast:  Upper outer quadrant rounded equal density circumscribed mass with partially obscured margin is seen.  No suspicious microcalcifications.  Normal skin thickness and contour of breast.    Left Breast:  No speculated mass lesions or suspicious microcalcifications.  Normal skin thickness and contour of breast.      OPINION:  Right Breast:  Upper outer benign looking mass (BIRADS 3).    Left Breast:  Normal breast examination (BIRADS 1).                          \\n\\nAnswer according to the template:\\n{\\n'Nodule': 'right',\\n'Mass': 'right',\\n'Calcification': 'obscure',\\n'Asymmetry': 'x',\\n'Architectural Distortion': 'x',\\n'Skin Thickening': 'x',\\n'Lymph Node Enlargement': 'x',\\n'Intramammary Lymph Node': 'x',\\n'Nipple Retraction': 'x',\\n'Skin Retraction': 'x',\\n'Trabecular Thickening': 'x',\\n}\\n\\n\\n\\n\\n\\n\\n\\n\\n\\n\\n\\n\\n\\n\\n\\n\\n\\n\\n\\n\\n\\n\", \"As an AI trained in analyzing radiology reports, your task is to classify the presence or absence of specific findings in each report. Respond according to the given template. \\n\\nRequirements:\\n1. Provide the lesion's location as 'right', 'left' or 'both'(i.e, right and left) if the lesion is explicitly mentioned as present.\\n2. Provide 'obscure' if the information is incomplete.\\n3. Default to 'x' if the finding is not mentioned.\\n\\nTemplate:\\n{\\n'Nodule': '[ANSWER]',\\n'Mass': '[ANSWER]',\\n'Calcification': '[ANSWER]',\\n'Asymmetry': '[ANSWER]',\\n'Architectural Distortion': '[ANSWER]',\\n'Skin Thickening': '[ANSWER]',\\n'Lymph Node Enlargement': '[ANSWER]',\\n'Intramammary Lymph Node': '[ANSWER]',\\n'Nipple Retraction': '[ANSWER]',\\n'Skin Retraction': '[ANSWER]',\\n'Trabecular Thickening': '[ANSWER]',\\n}\\n\\nReport:\\nRight Breast:  ACR B: Scattered fibroglandular tissue.  No speculated mass lesions or suspicious microcalcifications.  Normal skin thickness and contour of breast.    Left Breast:  Status postoperative showing operative scar and edema.  No speculated mass lesions or suspicious microcalcifications.          OPINION:  Right Breast:  Normal breast examination (BIRADS 1).    Left Breast:  Status post operative with operative scar and edema showing no evidence of recurrent lesions (BIRADS 2).                          \\n\\nAnswer according to the template:\\n{\\n'Nodule': 'obscure',\\n'Mass': 'obscure',\\n'Calcification': 'obscure',\\n'Asymmetry': 'obscure',\\n'Architectural Distortion': 'obscure',\\n'Skin Thickening': 'obscure',\\n'Lymph Node Enlargement': 'obscure',\\n'Intramammary Lymph Node': 'obscure',\\n'Nipple Retraction': 'obscure',\\n'Skin Retraction': 'obscure',\\n'Trabecular Thickening': 'obscure',\\n}\\n\\n\"]\n"
          ]
        },
        {
          "name": "stderr",
          "output_type": "stream",
          "text": [
            " 33%|███▎      | 53/163 [1:58:59<4:06:39, 134.54s/it]"
          ]
        },
        {
          "name": "stdout",
          "output_type": "stream",
          "text": [
            "[\"As an AI trained in analyzing radiology reports, your task is to classify the presence or absence of specific findings in each report. Respond according to the given template. \\n\\nRequirements:\\n1. Provide the lesion's location as 'right', 'left' or 'both'(i.e, right and left) if the lesion is explicitly mentioned as present.\\n2. Provide 'obscure' if the information is incomplete.\\n3. Default to 'x' if the finding is not mentioned.\\n\\nTemplate:\\n{\\n'Nodule': '[ANSWER]',\\n'Mass': '[ANSWER]',\\n'Calcification': '[ANSWER]',\\n'Asymmetry': '[ANSWER]',\\n'Architectural Distortion': '[ANSWER]',\\n'Skin Thickening': '[ANSWER]',\\n'Lymph Node Enlargement': '[ANSWER]',\\n'Intramammary Lymph Node': '[ANSWER]',\\n'Nipple Retraction': '[ANSWER]',\\n'Skin Retraction': '[ANSWER]',\\n'Trabecular Thickening': '[ANSWER]',\\n}\\n\\nReport:\\nRight Breast:  Retroareolar irregular high density mass with microlobulated margin and edema pattern is seen.  No suspicious microcalcifications.    Left Breast:  No speculated mass lesions or suspicious microcalcifications.  Normal skin thickness and contour of breast.      OPINION:  Right Breast:  Retroareolar suspicious looking mass (BIRADS 4).    Left Breast:  Normal breast examination (BIRADS 1).                          \\n\\nAnswer according to the template:\\n{\\n'Nodule': 'right',\\n'Mass': 'right',\\n'Calcification': 'x',\\n'Asymmetry': 'x',\\n'Architectural Distortion': 'x',\\n'Skin Thickening': 'x',\\n'Lymph Node Enlargement': 'x',\\n'Intramammary Lymph Node': 'x',\\n'Nipple Retraction': 'x',\\n'Skin Retraction': 'x',\\n'Trabecular Thickening': 'x',\\n}\\n\\n\\n\\n\\n\\n\\n\\n\\n\\n\\n\\n\\n\\n\\n\\n\\n\\n\\n\\n\\n\\n\\n\\n\", \"As an AI trained in analyzing radiology reports, your task is to classify the presence or absence of specific findings in each report. Respond according to the given template. \\n\\nRequirements:\\n1. Provide the lesion's location as 'right', 'left' or 'both'(i.e, right and left) if the lesion is explicitly mentioned as present.\\n2. Provide 'obscure' if the information is incomplete.\\n3. Default to 'x' if the finding is not mentioned.\\n\\nTemplate:\\n{\\n'Nodule': '[ANSWER]',\\n'Mass': '[ANSWER]',\\n'Calcification': '[ANSWER]',\\n'Asymmetry': '[ANSWER]',\\n'Architectural Distortion': '[ANSWER]',\\n'Skin Thickening': '[ANSWER]',\\n'Lymph Node Enlargement': '[ANSWER]',\\n'Intramammary Lymph Node': '[ANSWER]',\\n'Nipple Retraction': '[ANSWER]',\\n'Skin Retraction': '[ANSWER]',\\n'Trabecular Thickening': '[ANSWER]',\\n}\\n\\nReport:\\nRight Breast:  Outer IMLN.  No speculated mass lesions or suspicious microcalcifications.  Normal skin thickness and contour of breast.    Left Breast:  Upper architectural distortion is seen associated with focal skin thickening.  No suspicious microcalcifications.      OPINION:  Right Breast:  Outer IMLN (BIRADS 2).    Left Breast:  Upper malignant looking architectural distortion and focal skin thickening (BIRADS 5).                          \\n\\nAnswer according to the template:\\n{\\n'Nodule': 'obscure',\\n'Mass': 'obscure',\\n'Calcification': 'obscure',\\n'Asymmetry': 'obscure',\\n'Architectural Distortion': 'left',\\n'Skin Thickening': 'left',\\n'Lymph Node Enlargement': 'right',\\n'Intramammary Lymph Node': 'right',\\n'Nipple Retraction': 'obscure',\\n'Skin Retraction': 'left',\\n'Trabecular Thickening': 'obscure',\\n}\\n\\n\\n\\n\\n\\n\\n\\n\\n\\n\\n\\n\"]\n"
          ]
        },
        {
          "name": "stderr",
          "output_type": "stream",
          "text": [
            " 33%|███▎      | 54/163 [2:01:14<4:04:28, 134.57s/it]"
          ]
        },
        {
          "name": "stdout",
          "output_type": "stream",
          "text": [
            "[\"As an AI trained in analyzing radiology reports, your task is to classify the presence or absence of specific findings in each report. Respond according to the given template. \\n\\nRequirements:\\n1. Provide the lesion's location as 'right', 'left' or 'both'(i.e, right and left) if the lesion is explicitly mentioned as present.\\n2. Provide 'obscure' if the information is incomplete.\\n3. Default to 'x' if the finding is not mentioned.\\n\\nTemplate:\\n{\\n'Nodule': '[ANSWER]',\\n'Mass': '[ANSWER]',\\n'Calcification': '[ANSWER]',\\n'Asymmetry': '[ANSWER]',\\n'Architectural Distortion': '[ANSWER]',\\n'Skin Thickening': '[ANSWER]',\\n'Lymph Node Enlargement': '[ANSWER]',\\n'Intramammary Lymph Node': '[ANSWER]',\\n'Nipple Retraction': '[ANSWER]',\\n'Skin Retraction': '[ANSWER]',\\n'Trabecular Thickening': '[ANSWER]',\\n}\\n\\nReport:\\nRight Breast:  Upper central irregular high density mass with speculated margin is seen.  No suspicious microcalcifications.  Normal skin thickness and contour of breast.    Left Breast:  No speculated mass lesions or suspicious microcalcifications.  Normal skin thickness and contour of breast.      OPINION:  Right Breast:  Upper central malignant looking mass (BIRADS 5).    Left Breast:  Normal breast examination (BIRADS 1).                          \\n\\nAnswer according to the template:\\n{\\n'Nodule': 'right',\\n'Mass': 'right',\\n'Calcification': 'x',\\n'Asymmetry': 'x',\\n'Architectural Distortion': 'x',\\n'Skin Thickening': 'x',\\n'Lymph Node Enlargement': 'x',\\n'Intramammary Lymph Node': 'x',\\n'Nipple Retraction': 'x',\\n'Skin Retraction': 'x',\\n'Trabecular Thickening': 'x',\\n}\\n\\n\\n\\n\\n\\n\\n\\n\\n\\n\\n\\n\\n\\n\\n\\n\\n\\n\\n\\n\\n\\n\\n\\n\", \"As an AI trained in analyzing radiology reports, your task is to classify the presence or absence of specific findings in each report. Respond according to the given template. \\n\\nRequirements:\\n1. Provide the lesion's location as 'right', 'left' or 'both'(i.e, right and left) if the lesion is explicitly mentioned as present.\\n2. Provide 'obscure' if the information is incomplete.\\n3. Default to 'x' if the finding is not mentioned.\\n\\nTemplate:\\n{\\n'Nodule': '[ANSWER]',\\n'Mass': '[ANSWER]',\\n'Calcification': '[ANSWER]',\\n'Asymmetry': '[ANSWER]',\\n'Architectural Distortion': '[ANSWER]',\\n'Skin Thickening': '[ANSWER]',\\n'Lymph Node Enlargement': '[ANSWER]',\\n'Intramammary Lymph Node': '[ANSWER]',\\n'Nipple Retraction': '[ANSWER]',\\n'Skin Retraction': '[ANSWER]',\\n'Trabecular Thickening': '[ANSWER]',\\n}\\n\\nReport:\\nRight Breast:  No speculated mass lesions or suspicious microcalcifications.  Normal skin thickness and contour of breast.    Left Breast:  Outer irregular high density mass with microlobulated margin and edema pattern is seen.  Multiple surrounding calcific foci are also noted.      OPINION:  Right Breast:  Normal breast examination (BIRADS 1).    Left Breast:  Outer suspicious looking mass with edema pattern and calcific foci (BIRADS 4).                            \\n\\nAnswer according to the template:\\n{\\n'Nodule': 'left',\\n'Mass': 'left',\\n'Calcification': 'left',\\n'Asymmetry': 'obscure',\\n'Architectural Distortion': 'obscure',\\n'Skin Thickening': 'obscure',\\n'Lymph Node Enlargement': 'obscure',\\n'Intramammary Lymph Node': 'obscure',\\n'Nipple Retraction': 'obscure',\\n'Skin Retraction': 'obscure',\\n'Trabecular Thickening': 'obscure',\\n}\\n\\n\\n\\n\\n\\n\\n\\n\"]\n"
          ]
        },
        {
          "name": "stderr",
          "output_type": "stream",
          "text": [
            " 34%|███▎      | 55/163 [2:03:28<4:02:16, 134.60s/it]"
          ]
        },
        {
          "name": "stdout",
          "output_type": "stream",
          "text": [
            "[\"As an AI trained in analyzing radiology reports, your task is to classify the presence or absence of specific findings in each report. Respond according to the given template. \\n\\nRequirements:\\n1. Provide the lesion's location as 'right', 'left' or 'both'(i.e, right and left) if the lesion is explicitly mentioned as present.\\n2. Provide 'obscure' if the information is incomplete.\\n3. Default to 'x' if the finding is not mentioned.\\n\\nTemplate:\\n{\\n'Nodule': '[ANSWER]',\\n'Mass': '[ANSWER]',\\n'Calcification': '[ANSWER]',\\n'Asymmetry': '[ANSWER]',\\n'Architectural Distortion': '[ANSWER]',\\n'Skin Thickening': '[ANSWER]',\\n'Lymph Node Enlargement': '[ANSWER]',\\n'Intramammary Lymph Node': '[ANSWER]',\\n'Nipple Retraction': '[ANSWER]',\\n'Skin Retraction': '[ANSWER]',\\n'Trabecular Thickening': '[ANSWER]',\\n}\\n\\nReport:\\nLeft Breast:  No speculated mass lesions or suspicious microcalcifications.  Normal skin thickness and contour of breast.      OPINION:    Left Breast:  Normal breast examination (BIRADS 1).                                    \\n\\nAnswer according to the template:\\n{\\n'Nodule': 'obscure',\\n'Mass': 'obscure',\\n'Calcification': 'obscure',\\n'Asymmetry': 'obscure',\\n'Architectural Distortion': 'obscure',\\n'Skin Thickening': 'obscure',\\n'Lymph Node Enlargement': 'obscure',\\n'Intramammary Lymph Node': 'obscure',\\n'Nipple Retraction': 'obscure',\\n'Skin Retraction': 'obscure',\\n'Trabecular Thickening': 'obscure',\\n}\\n\\n\", \"As an AI trained in analyzing radiology reports, your task is to classify the presence or absence of specific findings in each report. Respond according to the given template. \\n\\nRequirements:\\n1. Provide the lesion's location as 'right', 'left' or 'both'(i.e, right and left) if the lesion is explicitly mentioned as present.\\n2. Provide 'obscure' if the information is incomplete.\\n3. Default to 'x' if the finding is not mentioned.\\n\\nTemplate:\\n{\\n'Nodule': '[ANSWER]',\\n'Mass': '[ANSWER]',\\n'Calcification': '[ANSWER]',\\n'Asymmetry': '[ANSWER]',\\n'Architectural Distortion': '[ANSWER]',\\n'Skin Thickening': '[ANSWER]',\\n'Lymph Node Enlargement': '[ANSWER]',\\n'Intramammary Lymph Node': '[ANSWER]',\\n'Nipple Retraction': '[ANSWER]',\\n'Skin Retraction': '[ANSWER]',\\n'Trabecular Thickening': '[ANSWER]',\\n}\\n\\nReport:\\nRight Breast:  No speculated mass lesions or suspicious microcalcifications.  Normal skin thickness and contour of breast.    Left Breast:  Retroareolar clusters of pleomorphic microcalcifications.  No speculated mass lesions.  Normal skin thickness and contour of breast.      OPINION:  Right Breast:  Normal breast examination (BIRADS 1).    Left Breast:  Retroareolar malignant looking clusters of microcalcifications (BIRADS 5).                          \\n\\nAnswer according to the template:\\n{\\n'Nodule': 'obscure',\\n'Mass': 'obscure',\\n'Calcification': 'obscure',\\n'Asymmetry': 'obscure',\\n'Architectural Distortion': 'obscure',\\n'Skin Thickening': 'obscure',\\n'Lymph Node Enlargement': 'obscure',\\n'Intramammary Lymph Node': 'obscure',\\n'Nipple Retraction': 'obscure',\\n'Skin Retraction': 'obscure',\\n'Trabecular Thickening': 'obscure',\\n}\\n\\n\"]\n"
          ]
        },
        {
          "name": "stderr",
          "output_type": "stream",
          "text": [
            " 34%|███▍      | 56/163 [2:05:43<4:00:04, 134.62s/it]"
          ]
        },
        {
          "name": "stdout",
          "output_type": "stream",
          "text": [
            "[\"As an AI trained in analyzing radiology reports, your task is to classify the presence or absence of specific findings in each report. Respond according to the given template. \\n\\nRequirements:\\n1. Provide the lesion's location as 'right', 'left' or 'both'(i.e, right and left) if the lesion is explicitly mentioned as present.\\n2. Provide 'obscure' if the information is incomplete.\\n3. Default to 'x' if the finding is not mentioned.\\n\\nTemplate:\\n{\\n'Nodule': '[ANSWER]',\\n'Mass': '[ANSWER]',\\n'Calcification': '[ANSWER]',\\n'Asymmetry': '[ANSWER]',\\n'Architectural Distortion': '[ANSWER]',\\n'Skin Thickening': '[ANSWER]',\\n'Lymph Node Enlargement': '[ANSWER]',\\n'Intramammary Lymph Node': '[ANSWER]',\\n'Nipple Retraction': '[ANSWER]',\\n'Skin Retraction': '[ANSWER]',\\n'Trabecular Thickening': '[ANSWER]',\\n}\\n\\nReport:\\nRight Breast:  Upper oval shaped equal density mass with lobulated partially obscured margin is seen.  No suspicious microcalcifications.  Normal skin thickness and contour of breast.    Left Breast:  No speculated mass lesions or suspicious microcalcifications.  Normal skin thickness and contour of breast.      OPINION:  Right Breast:  Upper benign looking mass (BIRADS 3).    Left Breast:  Normal breast examination (BIRADS 1).                          \\n\\nAnswer according to the template:\\n{\\n'Nodule': 'right',\\n'Mass': 'right',\\n'Calcification': 'obscure',\\n'Asymmetry': 'x',\\n'Architectural Distortion': 'x',\\n'Skin Thickening': 'x',\\n'Lymph Node Enlargement': 'x',\\n'Intramammary Lymph Node': 'x',\\n'Nipple Retraction': 'x',\\n'Skin Retraction': 'x',\\n'Trabecular Thickening': 'x',\\n}\\n\\n\\n\\n\\n\\n\\n\\n\\n\\n\\n\\n\\n\\n\\n\\n\\n\\n\\n\\n\\n\\n\", \"As an AI trained in analyzing radiology reports, your task is to classify the presence or absence of specific findings in each report. Respond according to the given template. \\n\\nRequirements:\\n1. Provide the lesion's location as 'right', 'left' or 'both'(i.e, right and left) if the lesion is explicitly mentioned as present.\\n2. Provide 'obscure' if the information is incomplete.\\n3. Default to 'x' if the finding is not mentioned.\\n\\nTemplate:\\n{\\n'Nodule': '[ANSWER]',\\n'Mass': '[ANSWER]',\\n'Calcification': '[ANSWER]',\\n'Asymmetry': '[ANSWER]',\\n'Architectural Distortion': '[ANSWER]',\\n'Skin Thickening': '[ANSWER]',\\n'Lymph Node Enlargement': '[ANSWER]',\\n'Intramammary Lymph Node': '[ANSWER]',\\n'Nipple Retraction': '[ANSWER]',\\n'Skin Retraction': '[ANSWER]',\\n'Trabecular Thickening': '[ANSWER]',\\n}\\n\\nReport:\\nLeft Breast:  No speculated mass lesions or suspicious microcalcifications.  Normal skin thickness and contour of breast.      OPINION:  Left Breast:  Normal breast examination (BIRADS 1).                                      \\n\\nAnswer according to the template:\\n{\\n'Nodule': 'obscure',\\n'Mass': 'obscure',\\n'Calcification': 'obscure',\\n'Asymmetry': 'obscure',\\n'Architectural Distortion': 'obscure',\\n'Skin Thickening': 'obscure',\\n'Lymph Node Enlargement': 'obscure',\\n'Intramammary Lymph Node': 'obscure',\\n'Nipple Retraction': 'obscure',\\n'Skin Retraction': 'obscure',\\n'Trabecular Thickening': 'obscure',\\n}\\n\\n\"]\n"
          ]
        },
        {
          "name": "stderr",
          "output_type": "stream",
          "text": [
            " 35%|███▍      | 57/163 [2:07:58<3:58:00, 134.72s/it]"
          ]
        },
        {
          "name": "stdout",
          "output_type": "stream",
          "text": [
            "[\"As an AI trained in analyzing radiology reports, your task is to classify the presence or absence of specific findings in each report. Respond according to the given template. \\n\\nRequirements:\\n1. Provide the lesion's location as 'right', 'left' or 'both'(i.e, right and left) if the lesion is explicitly mentioned as present.\\n2. Provide 'obscure' if the information is incomplete.\\n3. Default to 'x' if the finding is not mentioned.\\n\\nTemplate:\\n{\\n'Nodule': '[ANSWER]',\\n'Mass': '[ANSWER]',\\n'Calcification': '[ANSWER]',\\n'Asymmetry': '[ANSWER]',\\n'Architectural Distortion': '[ANSWER]',\\n'Skin Thickening': '[ANSWER]',\\n'Lymph Node Enlargement': '[ANSWER]',\\n'Intramammary Lymph Node': '[ANSWER]',\\n'Nipple Retraction': '[ANSWER]',\\n'Skin Retraction': '[ANSWER]',\\n'Trabecular Thickening': '[ANSWER]',\\n}\\n\\nReport:\\nRight Breast:  Central lower vascular calcifications are noted.  No speculated mass lesions or suspicious microcalcifications.  Normal skin thickness and contour of breast.    Left Breast:  Lower inner irregular high density mass with microlobulated margin and edema pattern is seen.  Upper central vascular calcifications are noted.  No suspicious microcalcifications.      OPINION:  Right Breast:  Central lower vascular calcifications (BIRADS 2).    Left Breast:  Lower inner malignant looking mass with edema pattern (BIRADS 5).  Upper central vascular calcifications (BIRADS 2).                          \\n\\nAnswer according to the template:\\n{\\n'Nodule': 'obscure',\\n'Mass': 'left',\\n'Calcification': 'both',\\n'Asymmetry': 'x',\\n'Architectural Distortion': 'x',\\n'Skin Thickening': 'x',\\n'Lymph Node Enlargement': 'x',\\n'Intramammary Lymph Node': 'x',\\n'Nipple Retraction': 'x',\\n'Skin Retraction': 'x',\\n'Trabecular Thickening': 'x',\\n}\\n\\n\\n\\n\\n\\n\\n\\n\\n\\n\\n\\n\\n\\n\\n\\n\\n\\n\\n\\n\\n\\n\", \"As an AI trained in analyzing radiology reports, your task is to classify the presence or absence of specific findings in each report. Respond according to the given template. \\n\\nRequirements:\\n1. Provide the lesion's location as 'right', 'left' or 'both'(i.e, right and left) if the lesion is explicitly mentioned as present.\\n2. Provide 'obscure' if the information is incomplete.\\n3. Default to 'x' if the finding is not mentioned.\\n\\nTemplate:\\n{\\n'Nodule': '[ANSWER]',\\n'Mass': '[ANSWER]',\\n'Calcification': '[ANSWER]',\\n'Asymmetry': '[ANSWER]',\\n'Architectural Distortion': '[ANSWER]',\\n'Skin Thickening': '[ANSWER]',\\n'Lymph Node Enlargement': '[ANSWER]',\\n'Intramammary Lymph Node': '[ANSWER]',\\n'Nipple Retraction': '[ANSWER]',\\n'Skin Retraction': '[ANSWER]',\\n'Trabecular Thickening': '[ANSWER]',\\n}\\n\\nReport:\\nRight Breast:  Upper central architectural distortion is noted.  No suspicious microcalcifications.  Normal skin thickness and contour of breast.    Left Breast:  No speculated mass lesions or suspicious microcalcifications.  Normal skin thickness and contour of breast.      OPINION:  Right Breast:  Upper central suspicious looking architectural distortion (BIRADS 4).    Left Breast:  Normal breast examination (BIRADS 1).                          \\n\\nAnswer according to the template:\\n{\\n'Nodule': 'obscure',\\n'Mass': 'obscure',\\n'Calcification': 'obscure',\\n'Asymmetry': 'obscure',\\n'Architectural Distortion': 'right',\\n'Skin Thickening': 'obscure',\\n'Lymph Node Enlargement': 'obscure',\\n'Intramammary Lymph Node': 'obscure',\\n'Nipple Retraction': 'obscure',\\n'Skin Retraction': 'obscure',\\n'Trabecular Thickening': 'obscure',\\n}\\n\\n\\n\\n\"]\n"
          ]
        },
        {
          "name": "stderr",
          "output_type": "stream",
          "text": [
            " 36%|███▌      | 58/163 [2:10:13<3:55:53, 134.79s/it]"
          ]
        },
        {
          "name": "stdout",
          "output_type": "stream",
          "text": [
            "[\"As an AI trained in analyzing radiology reports, your task is to classify the presence or absence of specific findings in each report. Respond according to the given template. \\n\\nRequirements:\\n1. Provide the lesion's location as 'right', 'left' or 'both'(i.e, right and left) if the lesion is explicitly mentioned as present.\\n2. Provide 'obscure' if the information is incomplete.\\n3. Default to 'x' if the finding is not mentioned.\\n\\nTemplate:\\n{\\n'Nodule': '[ANSWER]',\\n'Mass': '[ANSWER]',\\n'Calcification': '[ANSWER]',\\n'Asymmetry': '[ANSWER]',\\n'Architectural Distortion': '[ANSWER]',\\n'Skin Thickening': '[ANSWER]',\\n'Lymph Node Enlargement': '[ANSWER]',\\n'Intramammary Lymph Node': '[ANSWER]',\\n'Nipple Retraction': '[ANSWER]',\\n'Skin Retraction': '[ANSWER]',\\n'Trabecular Thickening': '[ANSWER]',\\n}\\n\\nReport:\\nRight Breast:  Retroareolar focal asymmetrical increased density with nipple retraction and edema pattern are noted.  No suspicious microcalcifications.    Left Breast:  Scattered benign macrocalcifications are noted.  No speculated mass lesions or suspicious microcalcifications.  Normal skin thickness and contour of breast.      OPINION:  Right Breast:  Retroareolar focal asymmetry with nipple retraction and edema pattern (BIRADS 4).    Left Breast:  Scattered benign macrocalcifications (BIRADS 2).                          \\n\\nAnswer according to the template:\\n{\\n'Nodule': 'obscure',\\n'Mass': 'obscure',\\n'Calcification': 'obscure',\\n'Asymmetry': 'right',\\n'Architectural Distortion': 'obscure',\\n'Skin Thickening': 'obscure',\\n'Lymph Node Enlargement': 'obscure',\\n'Intramammary Lymph Node': 'obscure',\\n'Nipple Retraction': 'right',\\n'Skin Retraction': 'right',\\n'Trabecular Thickening': 'obscure',\\n}\\n\\n\\n\\n\\n\\n\\n\\n\", \"As an AI trained in analyzing radiology reports, your task is to classify the presence or absence of specific findings in each report. Respond according to the given template. \\n\\nRequirements:\\n1. Provide the lesion's location as 'right', 'left' or 'both'(i.e, right and left) if the lesion is explicitly mentioned as present.\\n2. Provide 'obscure' if the information is incomplete.\\n3. Default to 'x' if the finding is not mentioned.\\n\\nTemplate:\\n{\\n'Nodule': '[ANSWER]',\\n'Mass': '[ANSWER]',\\n'Calcification': '[ANSWER]',\\n'Asymmetry': '[ANSWER]',\\n'Architectural Distortion': '[ANSWER]',\\n'Skin Thickening': '[ANSWER]',\\n'Lymph Node Enlargement': '[ANSWER]',\\n'Intramammary Lymph Node': '[ANSWER]',\\n'Nipple Retraction': '[ANSWER]',\\n'Skin Retraction': '[ANSWER]',\\n'Trabecular Thickening': '[ANSWER]',\\n}\\n\\nReport:\\nRight Breast:  Upper outer architectural distortion with overlying macrocalcification and edema pattern are noted.  No suspicious microcalcifications.    Left Breast:  Upper benign macrocalcification is noted.  No speculated mass lesions or suspicious microcalcifications.  Normal skin thickness and contour of breast.      OPINION:  Right Breast:  Upper outer suspicious looking architectural distortion with overlying macrocalcification and edema pattern (BIRADS 4).    Left Breast:  Upper benign macrocalcification (BIRADS 2).                          \\n\\nAnswer according to the template:\\n{\\n'Nodule': 'obscure',\\n'Mass': 'obscure',\\n'Calcification': 'right',\\n'Asymmetry': 'obscure',\\n'Architectural Distortion': 'right',\\n'Skin Thickening': 'obscure',\\n'Lymph Node Enlargement': 'obscure',\\n'Intramammary Lymph Node': 'obscure',\\n'Nipple Retraction': 'obscure',\\n'Skin Retraction': 'obscure',\\n'Trabecular Thickening': 'obscure',\\n}\\n\\n\\n\\n\\n\\n\"]\n"
          ]
        },
        {
          "name": "stderr",
          "output_type": "stream",
          "text": [
            " 36%|███▌      | 59/163 [2:12:28<3:53:37, 134.78s/it]"
          ]
        },
        {
          "name": "stdout",
          "output_type": "stream",
          "text": [
            "[\"As an AI trained in analyzing radiology reports, your task is to classify the presence or absence of specific findings in each report. Respond according to the given template. \\n\\nRequirements:\\n1. Provide the lesion's location as 'right', 'left' or 'both'(i.e, right and left) if the lesion is explicitly mentioned as present.\\n2. Provide 'obscure' if the information is incomplete.\\n3. Default to 'x' if the finding is not mentioned.\\n\\nTemplate:\\n{\\n'Nodule': '[ANSWER]',\\n'Mass': '[ANSWER]',\\n'Calcification': '[ANSWER]',\\n'Asymmetry': '[ANSWER]',\\n'Architectural Distortion': '[ANSWER]',\\n'Skin Thickening': '[ANSWER]',\\n'Lymph Node Enlargement': '[ANSWER]',\\n'Intramammary Lymph Node': '[ANSWER]',\\n'Nipple Retraction': '[ANSWER]',\\n'Skin Retraction': '[ANSWER]',\\n'Trabecular Thickening': '[ANSWER]',\\n}\\n\\nReport:\\nRight Breast:  Status postoperative showing operative scar and edema.  No speculated mass lesions or suspicious microcalcifications.    OPINION:  Right Breast:  Status post operative with operative scar and edema showing no evidence of recurrent lesions (BIRADS 2).                                    \\n\\nAnswer according to the template:\\n{\\n'Nodule': 'obscure',\\n'Mass': 'obscure',\\n'Calcification': 'obscure',\\n'Asymmetry': 'obscure',\\n'Architectural Distortion': 'obscure',\\n'Skin Thickening': 'obscure',\\n'Lymph Node Enlargement': 'obscure',\\n'Intramammary Lymph Node': 'obscure',\\n'Nipple Retraction': 'obscure',\\n'Skin Retraction': 'obscure',\\n'Trabecular Thickening': 'obscure',\\n}\\n\\n\", \"As an AI trained in analyzing radiology reports, your task is to classify the presence or absence of specific findings in each report. Respond according to the given template. \\n\\nRequirements:\\n1. Provide the lesion's location as 'right', 'left' or 'both'(i.e, right and left) if the lesion is explicitly mentioned as present.\\n2. Provide 'obscure' if the information is incomplete.\\n3. Default to 'x' if the finding is not mentioned.\\n\\nTemplate:\\n{\\n'Nodule': '[ANSWER]',\\n'Mass': '[ANSWER]',\\n'Calcification': '[ANSWER]',\\n'Asymmetry': '[ANSWER]',\\n'Architectural Distortion': '[ANSWER]',\\n'Skin Thickening': '[ANSWER]',\\n'Lymph Node Enlargement': '[ANSWER]',\\n'Intramammary Lymph Node': '[ANSWER]',\\n'Nipple Retraction': '[ANSWER]',\\n'Skin Retraction': '[ANSWER]',\\n'Trabecular Thickening': '[ANSWER]',\\n}\\n\\nReport:\\nRight Breast:  ACR C: Heterogenously dense breasts.  No speculated mass lesions or suspicious microcalcifications.  Normal skin thickness and contour of breast.    Left Breast:  Status postoperative showing operative scar with no speculated mass lesions or suspicious microcalcifications.          OPINION:  Right Breast:  Normal breast examination (BIRADS 1).    Left Breast:  Status post operative with operative scar showing no evidence of recurrent lesions (BIRADS 2).                          \\n\\nAnswer according to the template:\\n{\\n'Nodule': 'obscure',\\n'Mass': 'obscure',\\n'Calcification': 'obscure',\\n'Asymmetry': 'obscure',\\n'Architectural Distortion': 'obscure',\\n'Skin Thickening': 'obscure',\\n'Lymph Node Enlargement': 'obscure',\\n'Intramammary Lymph Node': 'obscure',\\n'Nipple Retraction': 'obscure',\\n'Skin Retraction': 'obscure',\\n'Trabecular Thickening': 'obscure',\\n}\\n\\n\"]\n"
          ]
        },
        {
          "name": "stderr",
          "output_type": "stream",
          "text": [
            " 37%|███▋      | 60/163 [2:14:42<3:51:22, 134.79s/it]"
          ]
        },
        {
          "name": "stdout",
          "output_type": "stream",
          "text": [
            "[\"As an AI trained in analyzing radiology reports, your task is to classify the presence or absence of specific findings in each report. Respond according to the given template. \\n\\nRequirements:\\n1. Provide the lesion's location as 'right', 'left' or 'both'(i.e, right and left) if the lesion is explicitly mentioned as present.\\n2. Provide 'obscure' if the information is incomplete.\\n3. Default to 'x' if the finding is not mentioned.\\n\\nTemplate:\\n{\\n'Nodule': '[ANSWER]',\\n'Mass': '[ANSWER]',\\n'Calcification': '[ANSWER]',\\n'Asymmetry': '[ANSWER]',\\n'Architectural Distortion': '[ANSWER]',\\n'Skin Thickening': '[ANSWER]',\\n'Lymph Node Enlargement': '[ANSWER]',\\n'Intramammary Lymph Node': '[ANSWER]',\\n'Nipple Retraction': '[ANSWER]',\\n'Skin Retraction': '[ANSWER]',\\n'Trabecular Thickening': '[ANSWER]',\\n}\\n\\nReport:\\nRight Breast:  Upper outer benign calcific foci.  No speculated mass lesions.  Normal skin thickness and contour of breast.    Left Breast:  Upper outer retroareolar multiple irregular high density masses with indistinct margin and edema pattern are noted.  No suspicious microcalcifications.      OPINION:  Right Breast:  Upper outer benign calcific foci (BIRADS 2).    Left Breast:  Upper outer retroareolar suspicious looking asymmetry and edema pattern (BIRADS 4).                          \\n\\nAnswer according to the template:\\n{\\n'Nodule': 'obscure',\\n'Mass': 'left',\\n'Calcification': 'right',\\n'Asymmetry': 'left',\\n'Architectural Distortion': 'x',\\n'Skin Thickening': 'x',\\n'Lymph Node Enlargement': 'x',\\n'Intramammary Lymph Node': 'x',\\n'Nipple Retraction': 'x',\\n'Skin Retraction': 'x',\\n'Trabecular Thickening': 'x',\\n}\\n\\n\\n\\n\\n\\n\\n\\n\\n\\n\\n\\n\\n\\n\\n\\n\\n\\n\\n\\n\\n\\n\", \"As an AI trained in analyzing radiology reports, your task is to classify the presence or absence of specific findings in each report. Respond according to the given template. \\n\\nRequirements:\\n1. Provide the lesion's location as 'right', 'left' or 'both'(i.e, right and left) if the lesion is explicitly mentioned as present.\\n2. Provide 'obscure' if the information is incomplete.\\n3. Default to 'x' if the finding is not mentioned.\\n\\nTemplate:\\n{\\n'Nodule': '[ANSWER]',\\n'Mass': '[ANSWER]',\\n'Calcification': '[ANSWER]',\\n'Asymmetry': '[ANSWER]',\\n'Architectural Distortion': '[ANSWER]',\\n'Skin Thickening': '[ANSWER]',\\n'Lymph Node Enlargement': '[ANSWER]',\\n'Intramammary Lymph Node': '[ANSWER]',\\n'Nipple Retraction': '[ANSWER]',\\n'Skin Retraction': '[ANSWER]',\\n'Trabecular Thickening': '[ANSWER]',\\n}\\n\\nReport:\\nLeft Breast:  No speculated mass lesions or suspicious microcalcifications.  Normal skin thickness and contour of breast.      OPINION:  Left Breast:  Normal breast examination (BIRADS 1).                                      \\n\\nAnswer according to the template:\\n{\\n'Nodule': 'obscure',\\n'Mass': 'obscure',\\n'Calcification': 'obscure',\\n'Asymmetry': 'obscure',\\n'Architectural Distortion': 'obscure',\\n'Skin Thickening': 'obscure',\\n'Lymph Node Enlargement': 'obscure',\\n'Intramammary Lymph Node': 'obscure',\\n'Nipple Retraction': 'obscure',\\n'Skin Retraction': 'obscure',\\n'Trabecular Thickening': 'obscure',\\n}\\n\\n\"]\n"
          ]
        },
        {
          "name": "stderr",
          "output_type": "stream",
          "text": [
            " 37%|███▋      | 61/163 [2:16:58<3:49:20, 134.91s/it]"
          ]
        },
        {
          "name": "stdout",
          "output_type": "stream",
          "text": [
            "[\"As an AI trained in analyzing radiology reports, your task is to classify the presence or absence of specific findings in each report. Respond according to the given template. \\n\\nRequirements:\\n1. Provide the lesion's location as 'right', 'left' or 'both'(i.e, right and left) if the lesion is explicitly mentioned as present.\\n2. Provide 'obscure' if the information is incomplete.\\n3. Default to 'x' if the finding is not mentioned.\\n\\nTemplate:\\n{\\n'Nodule': '[ANSWER]',\\n'Mass': '[ANSWER]',\\n'Calcification': '[ANSWER]',\\n'Asymmetry': '[ANSWER]',\\n'Architectural Distortion': '[ANSWER]',\\n'Skin Thickening': '[ANSWER]',\\n'Lymph Node Enlargement': '[ANSWER]',\\n'Intramammary Lymph Node': '[ANSWER]',\\n'Nipple Retraction': '[ANSWER]',\\n'Skin Retraction': '[ANSWER]',\\n'Trabecular Thickening': '[ANSWER]',\\n}\\n\\nReport:\\nRight Breast:  Scattered benign macrocalcifications are noted.  No speculated mass lesions or suspicious microcalcifications.  Normal skin thickness and contour of breast.    Left Breast:  Outer architectural distortion is noted.  Central benign macrocalcifications are noted.  No suspicious microcalcifications.  Normal skin thickness and contour of breast.      OPINION:  Right Breast:  Scattered benign macrocalcifications (BIRADS 2).    Left Breast:  Outer suspicious looking architectural distortion (BIRADS 4).  Central benign macrocalcifications (BIRADS 2).                          \\n\\nAnswer according to the template:\\n{\\n'Nodule': 'obscure',\\n'Mass': 'obscure',\\n'Calcification': 'both',\\n'Asymmetry': 'obscure',\\n'Architectural Distortion': 'left',\\n'Skin Thickening': 'both',\\n'Lymph Node Enlargement': 'obscure',\\n'Intramammary Lymph Node': 'obscure',\\n'Nipple Retraction': 'obscure',\\n'Skin Retraction': 'obscure',\\n'Trabecular Thickening': 'obscure',\\n}\\n\\n\\n\\n\\n\\n\\n\\n\", \"As an AI trained in analyzing radiology reports, your task is to classify the presence or absence of specific findings in each report. Respond according to the given template. \\n\\nRequirements:\\n1. Provide the lesion's location as 'right', 'left' or 'both'(i.e, right and left) if the lesion is explicitly mentioned as present.\\n2. Provide 'obscure' if the information is incomplete.\\n3. Default to 'x' if the finding is not mentioned.\\n\\nTemplate:\\n{\\n'Nodule': '[ANSWER]',\\n'Mass': '[ANSWER]',\\n'Calcification': '[ANSWER]',\\n'Asymmetry': '[ANSWER]',\\n'Architectural Distortion': '[ANSWER]',\\n'Skin Thickening': '[ANSWER]',\\n'Lymph Node Enlargement': '[ANSWER]',\\n'Intramammary Lymph Node': '[ANSWER]',\\n'Nipple Retraction': '[ANSWER]',\\n'Skin Retraction': '[ANSWER]',\\n'Trabecular Thickening': '[ANSWER]',\\n}\\n\\nReport:\\nRight Breast:  Lower central and outer irregular high density mass with indistinct margin is seen.  No suspicious microcalcifications.  Normal skin thickness and contour of breast.    Left Breast:  Three lower central and retroareolar irregular high density masses with speculated margin. The retroareolar one is seen with nipple retraction, the other two lesions are seen interconnecting to each other.  No suspicious microcalcifications.  Normal skin thickness and contour of breast.      OPINION:  Right Breast:  Lower central and outer suspicious looking mass (BIRADS 4).    Left Breast:  Three lower central and retroareolar malignant looking masses with nipple retraction (BIRADS 5).                          \\n\\nAnswer according to the template:\\n{\\n'Nodule': 'right',\\n'Mass': 'right',\\n'Calcification': 'x',\\n'Asymmetry': 'x',\\n'Architectural Distortion': 'x',\\n'Skin Thickening': 'x',\\n'Lymph Node Enlargement': 'x',\\n'Intramammary Lymph Node': 'x',\\n'Nipple Retraction': 'left',\\n'Skin Retraction': 'left',\\n'Trabecular Thickening': 'x',\\n}\\n\\n\\n\\n\\n\\n\\n\\n\\n\\n\\n\\n\\n\\n\\n\\n\\n\\n\\n\\n\\n\\n\\n\\n\"]\n"
          ]
        },
        {
          "name": "stderr",
          "output_type": "stream",
          "text": [
            " 38%|███▊      | 62/163 [2:19:13<3:47:09, 134.95s/it]"
          ]
        },
        {
          "name": "stdout",
          "output_type": "stream",
          "text": [
            "[\"As an AI trained in analyzing radiology reports, your task is to classify the presence or absence of specific findings in each report. Respond according to the given template. \\n\\nRequirements:\\n1. Provide the lesion's location as 'right', 'left' or 'both'(i.e, right and left) if the lesion is explicitly mentioned as present.\\n2. Provide 'obscure' if the information is incomplete.\\n3. Default to 'x' if the finding is not mentioned.\\n\\nTemplate:\\n{\\n'Nodule': '[ANSWER]',\\n'Mass': '[ANSWER]',\\n'Calcification': '[ANSWER]',\\n'Asymmetry': '[ANSWER]',\\n'Architectural Distortion': '[ANSWER]',\\n'Skin Thickening': '[ANSWER]',\\n'Lymph Node Enlargement': '[ANSWER]',\\n'Intramammary Lymph Node': '[ANSWER]',\\n'Nipple Retraction': '[ANSWER]',\\n'Skin Retraction': '[ANSWER]',\\n'Trabecular Thickening': '[ANSWER]',\\n}\\n\\nReport:\\nRight Breast:  Retroareolar architectural distortion retracting the nipple with overlying microcalcifications and edema pattern are seen.    Left Breast:  Scattered vascular calcifications are noted.  No speculated mass lesions or suspicious microcalcifications.  Normal skin thickness and contour of breast.      OPINION:  Right Breast:  Retroareolar malignant looking distortion retracting the nipple with overlying suspicious microcalcifications and edema pattern (BIRADS 5).    Left Breast:  Vascular calcifications (BIRADS 2).                          \\n\\nAnswer according to the template:\\n{\\n'Nodule': 'obscure',\\n'Mass': 'obscure',\\n'Calcification': 'both',\\n'Asymmetry': 'obscure',\\n'Architectural Distortion': 'right',\\n'Skin Thickening': 'obscure',\\n'Lymph Node Enlargement': 'obscure',\\n'Intramammary Lymph Node': 'obscure',\\n'Nipple Retraction': 'right',\\n'Skin Retraction': 'obscure',\\n'Trabecular Thickening': 'obscure',\\n}\\n\\n\\n\\n\\n\\n\\n\\n\", \"As an AI trained in analyzing radiology reports, your task is to classify the presence or absence of specific findings in each report. Respond according to the given template. \\n\\nRequirements:\\n1. Provide the lesion's location as 'right', 'left' or 'both'(i.e, right and left) if the lesion is explicitly mentioned as present.\\n2. Provide 'obscure' if the information is incomplete.\\n3. Default to 'x' if the finding is not mentioned.\\n\\nTemplate:\\n{\\n'Nodule': '[ANSWER]',\\n'Mass': '[ANSWER]',\\n'Calcification': '[ANSWER]',\\n'Asymmetry': '[ANSWER]',\\n'Architectural Distortion': '[ANSWER]',\\n'Skin Thickening': '[ANSWER]',\\n'Lymph Node Enlargement': '[ANSWER]',\\n'Intramammary Lymph Node': '[ANSWER]',\\n'Nipple Retraction': '[ANSWER]',\\n'Skin Retraction': '[ANSWER]',\\n'Trabecular Thickening': '[ANSWER]',\\n}\\n\\nReport:\\nRight Breast:  Lower inner asymmetrical increased density with overlying microcalcifications.  Normal skin thickness and contour of breast.    Left Breast:  No speculated mass lesions or suspicious microcalcifications.  Normal skin thickness and contour of breast.      OPINION:  Right Breast:  Lower inner asymmetry with overlying suspicious microcalcifications (BIRADS 4).    Left Breast:  Normal breast examination (BIRADS 1).                          \\n\\nAnswer according to the template:\\n{\\n'Nodule': 'obscure',\\n'Mass': 'obscure',\\n'Calcification': 'right',\\n'Asymmetry': 'right',\\n'Architectural Distortion': 'x',\\n'Skin Thickening': 'x',\\n'Lymph Node Enlargement': 'x',\\n'Intramammary Lymph Node': 'x',\\n'Nipple Retraction': 'x',\\n'Skin Retraction': 'x',\\n'Trabecular Thickening': 'x',\\n}\\n\\n\\n\\n\\n\\n\\n\\n\\n\\n\\n\\n\\n\\n\\n\\n\\n\\n\\n\\n\"]\n"
          ]
        },
        {
          "name": "stderr",
          "output_type": "stream",
          "text": [
            " 39%|███▊      | 63/163 [2:21:27<3:44:50, 134.90s/it]"
          ]
        },
        {
          "name": "stdout",
          "output_type": "stream",
          "text": [
            "[\"As an AI trained in analyzing radiology reports, your task is to classify the presence or absence of specific findings in each report. Respond according to the given template. \\n\\nRequirements:\\n1. Provide the lesion's location as 'right', 'left' or 'both'(i.e, right and left) if the lesion is explicitly mentioned as present.\\n2. Provide 'obscure' if the information is incomplete.\\n3. Default to 'x' if the finding is not mentioned.\\n\\nTemplate:\\n{\\n'Nodule': '[ANSWER]',\\n'Mass': '[ANSWER]',\\n'Calcification': '[ANSWER]',\\n'Asymmetry': '[ANSWER]',\\n'Architectural Distortion': '[ANSWER]',\\n'Skin Thickening': '[ANSWER]',\\n'Lymph Node Enlargement': '[ANSWER]',\\n'Intramammary Lymph Node': '[ANSWER]',\\n'Nipple Retraction': '[ANSWER]',\\n'Skin Retraction': '[ANSWER]',\\n'Trabecular Thickening': '[ANSWER]',\\n}\\n\\nReport:\\nRight Breast:  No speculated mass lesions or suspicious microcalcifications.  Normal skin thickness and contour of breast.    Left Breast:  Upper outer quadrant oval shaped equal density mass with circumscribed margin is seen.  No suspicious microcalcifications.  Normal skin thickness and contour of breast.      OPINION:  Right Breast:  Normal breast examination (BIRADS 1).    Left Breast:  Upper outer benign looking mass (BIRADS 3).                          \\n\\nAnswer according to the template:\\n{\\n'Nodule': 'obscure',\\n'Mass': 'left',\\n'Calcification': 'x',\\n'Asymmetry': 'x',\\n'Architectural Distortion': 'x',\\n'Skin Thickening': 'x',\\n'Lymph Node Enlargement': 'x',\\n'Intramammary Lymph Node': 'x',\\n'Nipple Retraction': 'x',\\n'Skin Retraction': 'x',\\n'Trabecular Thickening': 'x',\\n}\\n\\n\\n\\n\\n\\n\\n\\n\\n\\n\\n\\n\\n\\n\\n\\n\\n\\n\\n\\n\\n\\n\", \"As an AI trained in analyzing radiology reports, your task is to classify the presence or absence of specific findings in each report. Respond according to the given template. \\n\\nRequirements:\\n1. Provide the lesion's location as 'right', 'left' or 'both'(i.e, right and left) if the lesion is explicitly mentioned as present.\\n2. Provide 'obscure' if the information is incomplete.\\n3. Default to 'x' if the finding is not mentioned.\\n\\nTemplate:\\n{\\n'Nodule': '[ANSWER]',\\n'Mass': '[ANSWER]',\\n'Calcification': '[ANSWER]',\\n'Asymmetry': '[ANSWER]',\\n'Architectural Distortion': '[ANSWER]',\\n'Skin Thickening': '[ANSWER]',\\n'Lymph Node Enlargement': '[ANSWER]',\\n'Intramammary Lymph Node': '[ANSWER]',\\n'Nipple Retraction': '[ANSWER]',\\n'Skin Retraction': '[ANSWER]',\\n'Trabecular Thickening': '[ANSWER]',\\n}\\n\\nReport:\\nRight Breast:  No speculated mass lesions or suspicious microcalcifications.  Normal skin thickness and contour of breast.    Left Breast:  Upper outer quadrant irregular high density mass with microlobulated margin is seen.  No suspicious microcalcifications.  Normal skin thickness and contour of breast.      OPINION:  Right Breast:  Normal breast examination (BIRADS 1).    Left Breast:  Upper outer malignant looking mass (BIRADS 5).                          \\n\\nAnswer according to the template:\\n{\\n'Nodule': 'obscure',\\n'Mass': 'left',\\n'Calcification': 'x',\\n'Asymmetry': 'x',\\n'Architectural Distortion': 'x',\\n'Skin Thickening': 'x',\\n'Lymph Node Enlargement': 'x',\\n'Intramammary Lymph Node': 'x',\\n'Nipple Retraction': 'x',\\n'Skin Retraction': 'x',\\n'Trabecular Thickening': 'x',\\n}\\n\\n\\n\\n\\n\\n\\n\\n\\n\\n\\n\\n\\n\\n\\n\\n\\n\\n\\n\\n\\n\\n\"]\n"
          ]
        },
        {
          "name": "stderr",
          "output_type": "stream",
          "text": [
            " 39%|███▉      | 64/163 [2:23:43<3:42:45, 135.00s/it]"
          ]
        },
        {
          "name": "stdout",
          "output_type": "stream",
          "text": [
            "[\"As an AI trained in analyzing radiology reports, your task is to classify the presence or absence of specific findings in each report. Respond according to the given template. \\n\\nRequirements:\\n1. Provide the lesion's location as 'right', 'left' or 'both'(i.e, right and left) if the lesion is explicitly mentioned as present.\\n2. Provide 'obscure' if the information is incomplete.\\n3. Default to 'x' if the finding is not mentioned.\\n\\nTemplate:\\n{\\n'Nodule': '[ANSWER]',\\n'Mass': '[ANSWER]',\\n'Calcification': '[ANSWER]',\\n'Asymmetry': '[ANSWER]',\\n'Architectural Distortion': '[ANSWER]',\\n'Skin Thickening': '[ANSWER]',\\n'Lymph Node Enlargement': '[ANSWER]',\\n'Intramammary Lymph Node': '[ANSWER]',\\n'Nipple Retraction': '[ANSWER]',\\n'Skin Retraction': '[ANSWER]',\\n'Trabecular Thickening': '[ANSWER]',\\n}\\n\\nReport:\\nLeft Breast:  No speculated mass lesions or suspicious microcalcifications.  Normal skin thickness and contour of breast.      OPINION:  Left Breast:  Normal breast examination (BIRADS 1).                                    \\n\\nAnswer according to the template:\\n{\\n'Nodule': 'obscure',\\n'Mass': 'obscure',\\n'Calcification': 'obscure',\\n'Asymmetry': 'obscure',\\n'Architectural Distortion': 'obscure',\\n'Skin Thickening': 'obscure',\\n'Lymph Node Enlargement': 'obscure',\\n'Intramammary Lymph Node': 'obscure',\\n'Nipple Retraction': 'obscure',\\n'Skin Retraction': 'obscure',\\n'Trabecular Thickening': 'obscure',\\n}\\n\\n\", \"As an AI trained in analyzing radiology reports, your task is to classify the presence or absence of specific findings in each report. Respond according to the given template. \\n\\nRequirements:\\n1. Provide the lesion's location as 'right', 'left' or 'both'(i.e, right and left) if the lesion is explicitly mentioned as present.\\n2. Provide 'obscure' if the information is incomplete.\\n3. Default to 'x' if the finding is not mentioned.\\n\\nTemplate:\\n{\\n'Nodule': '[ANSWER]',\\n'Mass': '[ANSWER]',\\n'Calcification': '[ANSWER]',\\n'Asymmetry': '[ANSWER]',\\n'Architectural Distortion': '[ANSWER]',\\n'Skin Thickening': '[ANSWER]',\\n'Lymph Node Enlargement': '[ANSWER]',\\n'Intramammary Lymph Node': '[ANSWER]',\\n'Nipple Retraction': '[ANSWER]',\\n'Skin Retraction': '[ANSWER]',\\n'Trabecular Thickening': '[ANSWER]',\\n}\\n\\nReport:\\nRight Breast:  No speculated mass lesions or suspicious microcalcifications.  Normal skin thickness and contour of breast.    Left Breast:  Central retroareolar inner asymmetrical increased density and oval shaped equal density nodule with indistinct margin and overlying ductal linear branching and casting macrocalcifications are noted.  Normal skin thickness and contour of breast.      OPINION:  Right Breast:  Normal breast examination (BIRADS 1).    Left Breast:  Central retroareolar inner malignant looking asymmetry with nodule and overlying ductal calcifications (BIRADS 5).                          \\n\\nAnswer according to the template:\\n{\\n'Nodule': 'both',\\n'Mass': 'left',\\n'Calcification': 'left',\\n'Asymmetry': 'left',\\n'Architectural Distortion': 'x',\\n'Skin Thickening': 'x',\\n'Lymph Node Enlargement': 'x',\\n'Intramammary Lymph Node': 'x',\\n'Nipple Retraction': 'x',\\n'Skin Retraction': 'x',\\n'Trabecular Thickening': 'x',\\n}\\n\\n\\n\\n\\n\\n\\n\\n\\n\\n\\n\\n\\n\\n\\n\\n\\n\\n\\n\\n\\n\\n\\n\\n\"]\n"
          ]
        },
        {
          "name": "stderr",
          "output_type": "stream",
          "text": [
            " 40%|███▉      | 65/163 [2:25:58<3:40:28, 134.98s/it]"
          ]
        },
        {
          "name": "stdout",
          "output_type": "stream",
          "text": [
            "[\"As an AI trained in analyzing radiology reports, your task is to classify the presence or absence of specific findings in each report. Respond according to the given template. \\n\\nRequirements:\\n1. Provide the lesion's location as 'right', 'left' or 'both'(i.e, right and left) if the lesion is explicitly mentioned as present.\\n2. Provide 'obscure' if the information is incomplete.\\n3. Default to 'x' if the finding is not mentioned.\\n\\nTemplate:\\n{\\n'Nodule': '[ANSWER]',\\n'Mass': '[ANSWER]',\\n'Calcification': '[ANSWER]',\\n'Asymmetry': '[ANSWER]',\\n'Architectural Distortion': '[ANSWER]',\\n'Skin Thickening': '[ANSWER]',\\n'Lymph Node Enlargement': '[ANSWER]',\\n'Intramammary Lymph Node': '[ANSWER]',\\n'Nipple Retraction': '[ANSWER]',\\n'Skin Retraction': '[ANSWER]',\\n'Trabecular Thickening': '[ANSWER]',\\n}\\n\\nReport:\\nRight Breast:  No speculated mass lesions or suspicious microcalcifications.  Normal skin thickness and contour of breast.    Left Breast:  Lower inner quadrant irregular high density mass with speculated margin is seen.  No suspicious microcalcifications.  Normal skin thickness.      OPINION:  Right Breast:  Normal breast examination (BIRADS 1).    Left Breast:  Lower inner malignant looking mass (BIRADS 5).                          \\n\\nAnswer according to the template:\\n{\\n'Nodule': 'obscure',\\n'Mass': 'left',\\n'Calcification': 'x',\\n'Asymmetry': 'x',\\n'Architectural Distortion': 'x',\\n'Skin Thickening': 'x',\\n'Lymph Node Enlargement': 'x',\\n'Intramammary Lymph Node': 'x',\\n'Nipple Retraction': 'x',\\n'Skin Retraction': 'x',\\n'Trabecular Thickening': 'x',\\n}\\n\\n\\n\\n\\n\\n\\n\\n\\n\\n\\n\\n\\n\\n\\n\\n\\n\\n\\n\\n\\n\\n\", \"As an AI trained in analyzing radiology reports, your task is to classify the presence or absence of specific findings in each report. Respond according to the given template. \\n\\nRequirements:\\n1. Provide the lesion's location as 'right', 'left' or 'both'(i.e, right and left) if the lesion is explicitly mentioned as present.\\n2. Provide 'obscure' if the information is incomplete.\\n3. Default to 'x' if the finding is not mentioned.\\n\\nTemplate:\\n{\\n'Nodule': '[ANSWER]',\\n'Mass': '[ANSWER]',\\n'Calcification': '[ANSWER]',\\n'Asymmetry': '[ANSWER]',\\n'Architectural Distortion': '[ANSWER]',\\n'Skin Thickening': '[ANSWER]',\\n'Lymph Node Enlargement': '[ANSWER]',\\n'Intramammary Lymph Node': '[ANSWER]',\\n'Nipple Retraction': '[ANSWER]',\\n'Skin Retraction': '[ANSWER]',\\n'Trabecular Thickening': '[ANSWER]',\\n}\\n\\nReport:\\nLeft Breast:  No speculated mass lesions or suspicious microcalcifications.  Normal skin thickness and contour of breast.      OPINION:  Left Breast:  Normal breast examination (BIRADS 1).                                      \\n\\nAnswer according to the template:\\n{\\n'Nodule': 'obscure',\\n'Mass': 'obscure',\\n'Calcification': 'obscure',\\n'Asymmetry': 'obscure',\\n'Architectural Distortion': 'obscure',\\n'Skin Thickening': 'obscure',\\n'Lymph Node Enlargement': 'obscure',\\n'Intramammary Lymph Node': 'obscure',\\n'Nipple Retraction': 'obscure',\\n'Skin Retraction': 'obscure',\\n'Trabecular Thickening': 'obscure',\\n}\\n\\n\"]\n"
          ]
        },
        {
          "name": "stderr",
          "output_type": "stream",
          "text": [
            " 40%|████      | 66/163 [2:28:13<3:38:12, 134.98s/it]"
          ]
        },
        {
          "name": "stdout",
          "output_type": "stream",
          "text": [
            "[\"As an AI trained in analyzing radiology reports, your task is to classify the presence or absence of specific findings in each report. Respond according to the given template. \\n\\nRequirements:\\n1. Provide the lesion's location as 'right', 'left' or 'both'(i.e, right and left) if the lesion is explicitly mentioned as present.\\n2. Provide 'obscure' if the information is incomplete.\\n3. Default to 'x' if the finding is not mentioned.\\n\\nTemplate:\\n{\\n'Nodule': '[ANSWER]',\\n'Mass': '[ANSWER]',\\n'Calcification': '[ANSWER]',\\n'Asymmetry': '[ANSWER]',\\n'Architectural Distortion': '[ANSWER]',\\n'Skin Thickening': '[ANSWER]',\\n'Lymph Node Enlargement': '[ANSWER]',\\n'Intramammary Lymph Node': '[ANSWER]',\\n'Nipple Retraction': '[ANSWER]',\\n'Skin Retraction': '[ANSWER]',\\n'Trabecular Thickening': '[ANSWER]',\\n}\\n\\nReport:\\nLeft Breast:  Global asymmetrical increased density is noted.  No suspicious microcalcifications.  Normal skin thickness and contour of breast.      OPINION:  Left Breast:  Global asymmetry (BIRADS 3).                                    \\n\\nAnswer according to the template:\\n{\\n'Nodule': 'obscure',\\n'Mass': 'obscure',\\n'Calcification': 'obscure',\\n'Asymmetry': 'left',\\n'Architectural Distortion': 'obscure',\\n'Skin Thickening': 'obscure',\\n'Lymph Node Enlargement': 'obscure',\\n'Intramammary Lymph Node': 'obscure',\\n'Nipple Retraction': 'obscure',\\n'Skin Retraction': 'obscure',\\n'Trabecular Thickening': 'obscure',\\n}\\n\\nReport:\", \"As an AI trained in analyzing radiology reports, your task is to classify the presence or absence of specific findings in each report. Respond according to the given template. \\n\\nRequirements:\\n1. Provide the lesion's location as 'right', 'left' or 'both'(i.e, right and left) if the lesion is explicitly mentioned as present.\\n2. Provide 'obscure' if the information is incomplete.\\n3. Default to 'x' if the finding is not mentioned.\\n\\nTemplate:\\n{\\n'Nodule': '[ANSWER]',\\n'Mass': '[ANSWER]',\\n'Calcification': '[ANSWER]',\\n'Asymmetry': '[ANSWER]',\\n'Architectural Distortion': '[ANSWER]',\\n'Skin Thickening': '[ANSWER]',\\n'Lymph Node Enlargement': '[ANSWER]',\\n'Intramammary Lymph Node': '[ANSWER]',\\n'Nipple Retraction': '[ANSWER]',\\n'Skin Retraction': '[ANSWER]',\\n'Trabecular Thickening': '[ANSWER]',\\n}\\n\\nReport:\\nRight Breast:  Upper axillary tail rounded equal density lobulated mass with indistinct margin is seen.  No suspicious microcalcifications.  Normal skin thickness and contour of breast.    Left Breast:  No speculated mass lesions or suspicious microcalcifications.  Normal skin thickness and contour of breast.      OPINION:  Right Breast:  Upper axillary tail suspicious looking mass (BIRADS 4).    Left Breast:  Normal breast examination (BIRADS 1).                          \\n\\nAnswer according to the template:\\n{\\n'Nodule': 'right',\\n'Mass': 'right',\\n'Calcification': 'x',\\n'Asymmetry': 'x',\\n'Architectural Distortion': 'x',\\n'Skin Thickening': 'x',\\n'Lymph Node Enlargement': 'x',\\n'Intramammary Lymph Node': 'x',\\n'Nipple Retraction': 'x',\\n'Skin Retraction': 'x',\\n'Trabecular Thickening': 'x',\\n}\\n\\n\\n\\n\\n\\n\\n\\n\\n\\n\\n\\n\\n\\n\\n\\n\\n\\n\\n\\n\\n\\n\\n\\n\"]\n"
          ]
        },
        {
          "name": "stderr",
          "output_type": "stream",
          "text": [
            " 41%|████      | 67/163 [2:30:27<3:35:49, 134.89s/it]"
          ]
        },
        {
          "name": "stdout",
          "output_type": "stream",
          "text": [
            "[\"As an AI trained in analyzing radiology reports, your task is to classify the presence or absence of specific findings in each report. Respond according to the given template. \\n\\nRequirements:\\n1. Provide the lesion's location as 'right', 'left' or 'both'(i.e, right and left) if the lesion is explicitly mentioned as present.\\n2. Provide 'obscure' if the information is incomplete.\\n3. Default to 'x' if the finding is not mentioned.\\n\\nTemplate:\\n{\\n'Nodule': '[ANSWER]',\\n'Mass': '[ANSWER]',\\n'Calcification': '[ANSWER]',\\n'Asymmetry': '[ANSWER]',\\n'Architectural Distortion': '[ANSWER]',\\n'Skin Thickening': '[ANSWER]',\\n'Lymph Node Enlargement': '[ANSWER]',\\n'Intramammary Lymph Node': '[ANSWER]',\\n'Nipple Retraction': '[ANSWER]',\\n'Skin Retraction': '[ANSWER]',\\n'Trabecular Thickening': '[ANSWER]',\\n}\\n\\nReport:\\nRight Breast:  No speculated mass lesions or suspicious microcalcifications.  Normal skin thickness and contour of breast.    OPINION:  Right Breast:  Normal breast examination (BIRADS 1).                                      \\n\\nAnswer according to the template:\\n{\\n'Nodule': 'x',\\n'Mass': 'x',\\n'Calcification': 'x',\\n'Asymmetry': 'x',\\n'Architectural Distortion': 'x',\\n'Skin Thickening': 'x',\\n'Lymph Node Enlargement': 'x',\\n'Intramammary Lymph Node': 'x',\\n'Nipple Retraction': 'x',\\n'Skin Retraction': 'x',\\n'Trabecular Thickening': 'x',\\n}\\n\\nReport:\\nRight Breast:  No speculated mass lesions or suspicious microcalcifications. \", \"As an AI trained in analyzing radiology reports, your task is to classify the presence or absence of specific findings in each report. Respond according to the given template. \\n\\nRequirements:\\n1. Provide the lesion's location as 'right', 'left' or 'both'(i.e, right and left) if the lesion is explicitly mentioned as present.\\n2. Provide 'obscure' if the information is incomplete.\\n3. Default to 'x' if the finding is not mentioned.\\n\\nTemplate:\\n{\\n'Nodule': '[ANSWER]',\\n'Mass': '[ANSWER]',\\n'Calcification': '[ANSWER]',\\n'Asymmetry': '[ANSWER]',\\n'Architectural Distortion': '[ANSWER]',\\n'Skin Thickening': '[ANSWER]',\\n'Lymph Node Enlargement': '[ANSWER]',\\n'Intramammary Lymph Node': '[ANSWER]',\\n'Nipple Retraction': '[ANSWER]',\\n'Skin Retraction': '[ANSWER]',\\n'Trabecular Thickening': '[ANSWER]',\\n}\\n\\nReport:\\nRight Breast:  Upper irregular high density mass with speculated margin is seen with surrounding nodules and calcifications.  Normal skin thickness and contour of breast.      OPINION:  Right Breast:  Upper suspicious looking mass with surrounding nodules and calcifications (BIRADS 4).                                      \\n\\nAnswer according to the template:\\n{\\n'Nodule': 'right',\\n'Mass': 'right',\\n'Calcification': 'right',\\n'Asymmetry': 'obscure',\\n'Architectural Distortion': 'obscure',\\n'Skin Thickening': 'obscure',\\n'Lymph Node Enlargement': 'obscure',\\n'Intramammary Lymph Node': 'obscure',\\n'Nipple Retraction': 'obscure',\\n'Skin Retraction': 'obscure',\\n'Trabecular Thickening': 'obscure',\\n}\\n\\nReport:\\nLeft Breast\"]\n"
          ]
        },
        {
          "name": "stderr",
          "output_type": "stream",
          "text": [
            " 42%|████▏     | 68/163 [2:32:42<3:33:38, 134.94s/it]"
          ]
        },
        {
          "name": "stdout",
          "output_type": "stream",
          "text": [
            "[\"As an AI trained in analyzing radiology reports, your task is to classify the presence or absence of specific findings in each report. Respond according to the given template. \\n\\nRequirements:\\n1. Provide the lesion's location as 'right', 'left' or 'both'(i.e, right and left) if the lesion is explicitly mentioned as present.\\n2. Provide 'obscure' if the information is incomplete.\\n3. Default to 'x' if the finding is not mentioned.\\n\\nTemplate:\\n{\\n'Nodule': '[ANSWER]',\\n'Mass': '[ANSWER]',\\n'Calcification': '[ANSWER]',\\n'Asymmetry': '[ANSWER]',\\n'Architectural Distortion': '[ANSWER]',\\n'Skin Thickening': '[ANSWER]',\\n'Lymph Node Enlargement': '[ANSWER]',\\n'Intramammary Lymph Node': '[ANSWER]',\\n'Nipple Retraction': '[ANSWER]',\\n'Skin Retraction': '[ANSWER]',\\n'Trabecular Thickening': '[ANSWER]',\\n}\\n\\nReport:\\nLeft Breast:  No speculated mass lesions or suspicious microcalcifications.  Normal skin thickness and contour of breast.      OPINION:  Left Breast:  Normal breast examination (BIRADS 1).                                      \\n\\nAnswer according to the template:\\n{\\n'Nodule': 'obscure',\\n'Mass': 'obscure',\\n'Calcification': 'obscure',\\n'Asymmetry': 'obscure',\\n'Architectural Distortion': 'obscure',\\n'Skin Thickening': 'obscure',\\n'Lymph Node Enlargement': 'obscure',\\n'Intramammary Lymph Node': 'obscure',\\n'Nipple Retraction': 'obscure',\\n'Skin Retraction': 'obscure',\\n'Trabecular Thickening': 'obscure',\\n}\\n\\n\", \"As an AI trained in analyzing radiology reports, your task is to classify the presence or absence of specific findings in each report. Respond according to the given template. \\n\\nRequirements:\\n1. Provide the lesion's location as 'right', 'left' or 'both'(i.e, right and left) if the lesion is explicitly mentioned as present.\\n2. Provide 'obscure' if the information is incomplete.\\n3. Default to 'x' if the finding is not mentioned.\\n\\nTemplate:\\n{\\n'Nodule': '[ANSWER]',\\n'Mass': '[ANSWER]',\\n'Calcification': '[ANSWER]',\\n'Asymmetry': '[ANSWER]',\\n'Architectural Distortion': '[ANSWER]',\\n'Skin Thickening': '[ANSWER]',\\n'Lymph Node Enlargement': '[ANSWER]',\\n'Intramammary Lymph Node': '[ANSWER]',\\n'Nipple Retraction': '[ANSWER]',\\n'Skin Retraction': '[ANSWER]',\\n'Trabecular Thickening': '[ANSWER]',\\n}\\n\\nReport:\\nRight Breast:  ACR B: Scattered fibroglandular tissue.  No speculated mass lesions or suspicious microcalcifications.  Normal skin thickness and contour of breast.      Left Breast:  Status postoperative showing operative scar with no speculated mass lesions or suspicious microcalcifications.      OPINION:  Right Breast:  Normal breast examination (BIRADS 1).    Left Breast:  Status post operative with operative scar showing no evidence of recurrent lesions (BIRADS 2).                        \\n\\nAnswer according to the template:\\n{\\n'Nodule': 'obscure',\\n'Mass': 'obscure',\\n'Calcification': 'obscure',\\n'Asymmetry': 'obscure',\\n'Architectural Distortion': 'obscure',\\n'Skin Thickening': 'obscure',\\n'Lymph Node Enlargement': 'obscure',\\n'Intramammary Lymph Node': 'obscure',\\n'Nipple Retraction': 'obscure',\\n'Skin Retraction': 'obscure',\\n'Trabecular Thickening': 'obscure',\\n}\\n\\n\"]\n"
          ]
        },
        {
          "name": "stderr",
          "output_type": "stream",
          "text": [
            " 42%|████▏     | 69/163 [2:34:57<3:31:26, 134.96s/it]"
          ]
        },
        {
          "name": "stdout",
          "output_type": "stream",
          "text": [
            "[\"As an AI trained in analyzing radiology reports, your task is to classify the presence or absence of specific findings in each report. Respond according to the given template. \\n\\nRequirements:\\n1. Provide the lesion's location as 'right', 'left' or 'both'(i.e, right and left) if the lesion is explicitly mentioned as present.\\n2. Provide 'obscure' if the information is incomplete.\\n3. Default to 'x' if the finding is not mentioned.\\n\\nTemplate:\\n{\\n'Nodule': '[ANSWER]',\\n'Mass': '[ANSWER]',\\n'Calcification': '[ANSWER]',\\n'Asymmetry': '[ANSWER]',\\n'Architectural Distortion': '[ANSWER]',\\n'Skin Thickening': '[ANSWER]',\\n'Lymph Node Enlargement': '[ANSWER]',\\n'Intramammary Lymph Node': '[ANSWER]',\\n'Nipple Retraction': '[ANSWER]',\\n'Skin Retraction': '[ANSWER]',\\n'Trabecular Thickening': '[ANSWER]',\\n}\\n\\nReport:\\nLeft Breast:  No speculated mass lesions or suspicious microcalcifications.  Normal skin thickness and contour of breast.      OPINION:  Left Breast:  Normal breast examination (BIRADS 1).                                      \\n\\nAnswer according to the template:\\n{\\n'Nodule': 'obscure',\\n'Mass': 'obscure',\\n'Calcification': 'obscure',\\n'Asymmetry': 'obscure',\\n'Architectural Distortion': 'obscure',\\n'Skin Thickening': 'obscure',\\n'Lymph Node Enlargement': 'obscure',\\n'Intramammary Lymph Node': 'obscure',\\n'Nipple Retraction': 'obscure',\\n'Skin Retraction': 'obscure',\\n'Trabecular Thickening': 'obscure',\\n}\\n\\n\", \"As an AI trained in analyzing radiology reports, your task is to classify the presence or absence of specific findings in each report. Respond according to the given template. \\n\\nRequirements:\\n1. Provide the lesion's location as 'right', 'left' or 'both'(i.e, right and left) if the lesion is explicitly mentioned as present.\\n2. Provide 'obscure' if the information is incomplete.\\n3. Default to 'x' if the finding is not mentioned.\\n\\nTemplate:\\n{\\n'Nodule': '[ANSWER]',\\n'Mass': '[ANSWER]',\\n'Calcification': '[ANSWER]',\\n'Asymmetry': '[ANSWER]',\\n'Architectural Distortion': '[ANSWER]',\\n'Skin Thickening': '[ANSWER]',\\n'Lymph Node Enlargement': '[ANSWER]',\\n'Intramammary Lymph Node': '[ANSWER]',\\n'Nipple Retraction': '[ANSWER]',\\n'Skin Retraction': '[ANSWER]',\\n'Trabecular Thickening': '[ANSWER]',\\n}\\n\\nReport:\\nRight Breast:  Upper outer quadrant irregular high density mass with speculated margin and overlying microcalcifications is seen with nipple retraction.  Normal skin thickness.    Left Breast:  No speculated mass lesions or suspicious microcalcifications.  Normal skin thickness and contour of breast.      OPINION:  Right Breast:  Upper outer malignant looking mass with overlying suspicious microcalcifications and nipple retraction (BIRADS 5).    Left Breast:  Normal breast examination (BIRADS 1).                          \\n\\nAnswer according to the template:\\n{\\n'Nodule': 'right',\\n'Mass': 'right',\\n'Calcification': 'right',\\n'Asymmetry': 'right',\\n'Architectural Distortion': 'obscure',\\n'Skin Thickening': 'right',\\n'Lymph Node Enlargement': 'obscure',\\n'Intramammary Lymph Node': 'obscure',\\n'Nipple Retraction': 'right',\\n'Skin Retraction': 'right',\\n'Trabecular Thickening': 'obscure',\\n}\\n\\n\\n\\n\\n\\n\\n\\n\\n\\n\\n\\n\\n\\n\\n\\n\"]\n"
          ]
        },
        {
          "name": "stderr",
          "output_type": "stream",
          "text": [
            " 43%|████▎     | 70/163 [2:37:12<3:29:14, 134.99s/it]"
          ]
        },
        {
          "name": "stdout",
          "output_type": "stream",
          "text": [
            "[\"As an AI trained in analyzing radiology reports, your task is to classify the presence or absence of specific findings in each report. Respond according to the given template. \\n\\nRequirements:\\n1. Provide the lesion's location as 'right', 'left' or 'both'(i.e, right and left) if the lesion is explicitly mentioned as present.\\n2. Provide 'obscure' if the information is incomplete.\\n3. Default to 'x' if the finding is not mentioned.\\n\\nTemplate:\\n{\\n'Nodule': '[ANSWER]',\\n'Mass': '[ANSWER]',\\n'Calcification': '[ANSWER]',\\n'Asymmetry': '[ANSWER]',\\n'Architectural Distortion': '[ANSWER]',\\n'Skin Thickening': '[ANSWER]',\\n'Lymph Node Enlargement': '[ANSWER]',\\n'Intramammary Lymph Node': '[ANSWER]',\\n'Nipple Retraction': '[ANSWER]',\\n'Skin Retraction': '[ANSWER]',\\n'Trabecular Thickening': '[ANSWER]',\\n}\\n\\nReport:\\nRight Breast:  Status postoperative showing operative scar and edema.  No speculated mass lesions or suspicious microcalcifications.      OPINION:  Right Breast:  Status post operative with operative scar and edema showing no evidence of recurrent lesions (BIRADS 2).                                  \\n\\nAnswer according to the template:\\n{\\n'Nodule': 'obscure',\\n'Mass': 'obscure',\\n'Calcification': 'obscure',\\n'Asymmetry': 'obscure',\\n'Architectural Distortion': 'obscure',\\n'Skin Thickening': 'obscure',\\n'Lymph Node Enlargement': 'obscure',\\n'Intramammary Lymph Node': 'obscure',\\n'Nipple Retraction': 'obscure',\\n'Skin Retraction': 'obscure',\\n'Trabecular Thickening': 'obscure',\\n}\\n\\n\", \"As an AI trained in analyzing radiology reports, your task is to classify the presence or absence of specific findings in each report. Respond according to the given template. \\n\\nRequirements:\\n1. Provide the lesion's location as 'right', 'left' or 'both'(i.e, right and left) if the lesion is explicitly mentioned as present.\\n2. Provide 'obscure' if the information is incomplete.\\n3. Default to 'x' if the finding is not mentioned.\\n\\nTemplate:\\n{\\n'Nodule': '[ANSWER]',\\n'Mass': '[ANSWER]',\\n'Calcification': '[ANSWER]',\\n'Asymmetry': '[ANSWER]',\\n'Architectural Distortion': '[ANSWER]',\\n'Skin Thickening': '[ANSWER]',\\n'Lymph Node Enlargement': '[ANSWER]',\\n'Intramammary Lymph Node': '[ANSWER]',\\n'Nipple Retraction': '[ANSWER]',\\n'Skin Retraction': '[ANSWER]',\\n'Trabecular Thickening': '[ANSWER]',\\n}\\n\\nReport:\\nRight Breast:  Status postoperative showing operative scar and edema.  No speculated mass lesions or suspicious microcalcifications.    Left Breast:  ACR C: Heterogenously dense breasts.  No speculated mass lesions or suspicious microcalcifications.  Normal skin thickness and contour of breast.        OPINION:  Right Breast:  Status post operative with operative scar and edema showing no evidence of recurrent lesions (BIRADS 2).    Left Breast:  Normal breast examination (BIRADS 1).                        \\n\\nAnswer according to the template:\\n{\\n'Nodule': 'obscure',\\n'Mass': 'obscure',\\n'Calcification': 'obscure',\\n'Asymmetry': 'obscure',\\n'Architectural Distortion': 'obscure',\\n'Skin Thickening': 'obscure',\\n'Lymph Node Enlargement': 'obscure',\\n'Intramammary Lymph Node': 'obscure',\\n'Nipple Retraction': 'obscure',\\n'Skin Retraction': 'obscure',\\n'Trabecular Thickening': 'obscure',\\n}\\n\\n\"]\n"
          ]
        },
        {
          "name": "stderr",
          "output_type": "stream",
          "text": [
            " 44%|████▎     | 71/163 [2:39:28<3:27:09, 135.10s/it]"
          ]
        },
        {
          "name": "stdout",
          "output_type": "stream",
          "text": [
            "[\"As an AI trained in analyzing radiology reports, your task is to classify the presence or absence of specific findings in each report. Respond according to the given template. \\n\\nRequirements:\\n1. Provide the lesion's location as 'right', 'left' or 'both'(i.e, right and left) if the lesion is explicitly mentioned as present.\\n2. Provide 'obscure' if the information is incomplete.\\n3. Default to 'x' if the finding is not mentioned.\\n\\nTemplate:\\n{\\n'Nodule': '[ANSWER]',\\n'Mass': '[ANSWER]',\\n'Calcification': '[ANSWER]',\\n'Asymmetry': '[ANSWER]',\\n'Architectural Distortion': '[ANSWER]',\\n'Skin Thickening': '[ANSWER]',\\n'Lymph Node Enlargement': '[ANSWER]',\\n'Intramammary Lymph Node': '[ANSWER]',\\n'Nipple Retraction': '[ANSWER]',\\n'Skin Retraction': '[ANSWER]',\\n'Trabecular Thickening': '[ANSWER]',\\n}\\n\\nReport:\\nRight Breast:  Upper outer and central benign macrocalcifications.  No speculated mass lesions or suspicious microcalcifications.  Normal skin thickness and contour of breast.    Left Breast:  Upper outer benign macrocalcification is noted.  Upper outer quadrant focal asymmetrical increased density is seen.  No suspicious microcalcifications.  Normal skin thickness and contour of breast.      OPINION:  Right Breast:  Upper outer and central benign macrocalcifications (BIRADS 2).    Left Breast:  Upper outer focal asymmetry (BIRADS 3).  Upper outer benign macrocalcification (BIRADS 2).                          \\n\\nAnswer according to the template:\\n{\\n'Nodule': 'obscure',\\n'Mass': 'obscure',\\n'Calcification': 'both',\\n'Asymmetry': 'left',\\n'Architectural Distortion': 'x',\\n'Skin Thickening': 'x',\\n'Lymph Node Enlargement': 'x',\\n'Intramammary Lymph Node': 'x',\\n'Nipple Retraction': 'x',\\n'Skin Retraction': 'x',\\n'Trabecular Thickening': 'x',\\n}\\n\\n\\n\\n\\n\\n\\n\\n\\n\\n\\n\\n\\n\\n\\n\\n\\n\\n\\n\\n\", \"As an AI trained in analyzing radiology reports, your task is to classify the presence or absence of specific findings in each report. Respond according to the given template. \\n\\nRequirements:\\n1. Provide the lesion's location as 'right', 'left' or 'both'(i.e, right and left) if the lesion is explicitly mentioned as present.\\n2. Provide 'obscure' if the information is incomplete.\\n3. Default to 'x' if the finding is not mentioned.\\n\\nTemplate:\\n{\\n'Nodule': '[ANSWER]',\\n'Mass': '[ANSWER]',\\n'Calcification': '[ANSWER]',\\n'Asymmetry': '[ANSWER]',\\n'Architectural Distortion': '[ANSWER]',\\n'Skin Thickening': '[ANSWER]',\\n'Lymph Node Enlargement': '[ANSWER]',\\n'Intramammary Lymph Node': '[ANSWER]',\\n'Nipple Retraction': '[ANSWER]',\\n'Skin Retraction': '[ANSWER]',\\n'Trabecular Thickening': '[ANSWER]',\\n}\\n\\nReport:\\nRight Breast:  Lower inner quadrant oval shaped equal density mass with circumscribed margin is seen.  No suspicious microcalcifications.  Normal skin thickness and contour of breast.      OPINION:  Right Breast:  Lower inner benign looking mass (BIRADS 3).                                      \\n\\nAnswer according to the template:\\n{\\n'Nodule': 'right',\\n'Mass': 'right',\\n'Calcification': 'obscure',\\n'Asymmetry': 'x',\\n'Architectural Distortion': 'x',\\n'Skin Thickening': 'x',\\n'Lymph Node Enlargement': 'x',\\n'Intramammary Lymph Node': 'x',\\n'Nipple Retraction': 'x',\\n'Skin Retraction': 'x',\\n'Trabecular Thickening': 'x',\\n}\\n\\nReport:\\nRight Breast:  Lower inner quadrant oval shaped equal density mass with\"]\n"
          ]
        },
        {
          "name": "stderr",
          "output_type": "stream",
          "text": [
            " 44%|████▍     | 72/163 [2:41:43<3:25:00, 135.17s/it]"
          ]
        },
        {
          "name": "stdout",
          "output_type": "stream",
          "text": [
            "[\"As an AI trained in analyzing radiology reports, your task is to classify the presence or absence of specific findings in each report. Respond according to the given template. \\n\\nRequirements:\\n1. Provide the lesion's location as 'right', 'left' or 'both'(i.e, right and left) if the lesion is explicitly mentioned as present.\\n2. Provide 'obscure' if the information is incomplete.\\n3. Default to 'x' if the finding is not mentioned.\\n\\nTemplate:\\n{\\n'Nodule': '[ANSWER]',\\n'Mass': '[ANSWER]',\\n'Calcification': '[ANSWER]',\\n'Asymmetry': '[ANSWER]',\\n'Architectural Distortion': '[ANSWER]',\\n'Skin Thickening': '[ANSWER]',\\n'Lymph Node Enlargement': '[ANSWER]',\\n'Intramammary Lymph Node': '[ANSWER]',\\n'Nipple Retraction': '[ANSWER]',\\n'Skin Retraction': '[ANSWER]',\\n'Trabecular Thickening': '[ANSWER]',\\n}\\n\\nReport:\\nRight Breast:  Status postoperative showing operative scar with no speculated mass lesions or suspicious microcalcifications.    Left Breast:  ACR C: Heterogenously dense breasts.  No speculated mass lesions or suspicious microcalcifications.  Normal skin thickness and contour of breast.    N.B. Port-a-catheter is noted.    OPINION:  Right Breast:  Status post operative with operative scar showing no evidence of recurrent lesions (BIRADS 2).    Left Breast:  Normal breast examination (BIRADS 1).                        \\n\\nAnswer according to the template:\\n{\\n'Nodule': 'obscure',\\n'Mass': 'obscure',\\n'Calcification': 'obscure',\\n'Asymmetry': 'obscure',\\n'Architectural Distortion': 'obscure',\\n'Skin Thickening': 'obscure',\\n'Lymph Node Enlargement': 'obscure',\\n'Intramammary Lymph Node': 'obscure',\\n'Nipple Retraction': 'obscure',\\n'Skin Retraction': 'obscure',\\n'Trabecular Thickening': 'obscure',\\n}\\n\\n\", \"As an AI trained in analyzing radiology reports, your task is to classify the presence or absence of specific findings in each report. Respond according to the given template. \\n\\nRequirements:\\n1. Provide the lesion's location as 'right', 'left' or 'both'(i.e, right and left) if the lesion is explicitly mentioned as present.\\n2. Provide 'obscure' if the information is incomplete.\\n3. Default to 'x' if the finding is not mentioned.\\n\\nTemplate:\\n{\\n'Nodule': '[ANSWER]',\\n'Mass': '[ANSWER]',\\n'Calcification': '[ANSWER]',\\n'Asymmetry': '[ANSWER]',\\n'Architectural Distortion': '[ANSWER]',\\n'Skin Thickening': '[ANSWER]',\\n'Lymph Node Enlargement': '[ANSWER]',\\n'Intramammary Lymph Node': '[ANSWER]',\\n'Nipple Retraction': '[ANSWER]',\\n'Skin Retraction': '[ANSWER]',\\n'Trabecular Thickening': '[ANSWER]',\\n}\\n\\nReport:\\nRight Breast:  Status postoperative showing operative scar and edema.  No speculated mass lesions or suspicious microcalcifications.      Left Breast:  ACR C: Heterogenously dense breasts.  Upper outer benign macrocalcification is noted.  No speculated mass lesions or suspicious microcalcifications.  Normal skin thickness and contour of breast.      OPINION:  Right Breast:  Status post operative with operative scar and edema showing no evidence of recurrent lesions (BIRADS 2).    Left Breast:  Upper outer benign macrocalcification (BIRADS 2).                        \\n\\nAnswer according to the template:\\n{\\n'Nodule': 'obscure',\\n'Mass': 'obscure',\\n'Calcification': 'left',\\n'Asymmetry': 'x',\\n'Architectural Distortion': 'x',\\n'Skin Thickening': 'x',\\n'Lymph Node Enlargement': 'x',\\n'Intramammary Lymph Node': 'x',\\n'Nipple Retraction': 'x',\\n'Skin Retraction': 'x',\\n'Trabecular Thickening': 'x',\\n}\\n\\n\\n\\n\\n\\n\\n\\n\\n\\n\\n\\n\\n\\n\\n\\n\\n\\n\\n\\n\"]\n"
          ]
        },
        {
          "name": "stderr",
          "output_type": "stream",
          "text": [
            " 45%|████▍     | 73/163 [2:43:58<3:22:43, 135.15s/it]"
          ]
        },
        {
          "name": "stdout",
          "output_type": "stream",
          "text": [
            "[\"As an AI trained in analyzing radiology reports, your task is to classify the presence or absence of specific findings in each report. Respond according to the given template. \\n\\nRequirements:\\n1. Provide the lesion's location as 'right', 'left' or 'both'(i.e, right and left) if the lesion is explicitly mentioned as present.\\n2. Provide 'obscure' if the information is incomplete.\\n3. Default to 'x' if the finding is not mentioned.\\n\\nTemplate:\\n{\\n'Nodule': '[ANSWER]',\\n'Mass': '[ANSWER]',\\n'Calcification': '[ANSWER]',\\n'Asymmetry': '[ANSWER]',\\n'Architectural Distortion': '[ANSWER]',\\n'Skin Thickening': '[ANSWER]',\\n'Lymph Node Enlargement': '[ANSWER]',\\n'Intramammary Lymph Node': '[ANSWER]',\\n'Nipple Retraction': '[ANSWER]',\\n'Skin Retraction': '[ANSWER]',\\n'Trabecular Thickening': '[ANSWER]',\\n}\\n\\nReport:\\nRight Breast:  Lower inner quadrant benign macrocalcification is noted.  No speculated mass lesions or suspicious microcalcifications.  Normal skin thickness and contour of breast.    Left Breast:  Lower inner quadrant asymmetrical increased density with overlying microcalcifications are seen.  Normal skin thickness and contour of breast.      OPINION:  Right Breast:  Lower inner benign macrocalcification (BIRADS 2).    Left Breast:  Lower inner malignant looking asymmetry with overlying microcalcifications (BIRADS 5).                          \\n\\nAnswer according to the template:\\n{\\n'Nodule': 'obscure',\\n'Mass': 'obscure',\\n'Calcification': 'right',\\n'Asymmetry': 'left',\\n'Architectural Distortion': 'x',\\n'Skin Thickening': 'x',\\n'Lymph Node Enlargement': 'x',\\n'Intramammary Lymph Node': 'x',\\n'Nipple Retraction': 'x',\\n'Skin Retraction': 'x',\\n'Trabecular Thickening': 'x',\\n}\\n\\n\\n\\n\\n\\n\\n\\n\\n\\n\\n\\n\\n\\n\\n\\n\\n\\n\\n\\n\", \"As an AI trained in analyzing radiology reports, your task is to classify the presence or absence of specific findings in each report. Respond according to the given template. \\n\\nRequirements:\\n1. Provide the lesion's location as 'right', 'left' or 'both'(i.e, right and left) if the lesion is explicitly mentioned as present.\\n2. Provide 'obscure' if the information is incomplete.\\n3. Default to 'x' if the finding is not mentioned.\\n\\nTemplate:\\n{\\n'Nodule': '[ANSWER]',\\n'Mass': '[ANSWER]',\\n'Calcification': '[ANSWER]',\\n'Asymmetry': '[ANSWER]',\\n'Architectural Distortion': '[ANSWER]',\\n'Skin Thickening': '[ANSWER]',\\n'Lymph Node Enlargement': '[ANSWER]',\\n'Intramammary Lymph Node': '[ANSWER]',\\n'Nipple Retraction': '[ANSWER]',\\n'Skin Retraction': '[ANSWER]',\\n'Trabecular Thickening': '[ANSWER]',\\n}\\n\\nReport:\\nRight Breast:  Multiple lower central quadrant irregular high density masses with speculated margin are seen.  No suspicious microcalcifications.  Normal skin thickness and contour of breast.    Left Breast:  No speculated mass lesions or suspicious microcalcifications.  Normal skin thickness and contour of breast.      OPINION:  Right Breast:  Multiple lower central suspicious looking masses (BIRADS 4).    Left Breast:  Normal breast examination (BIRADS 1).                          \\n\\nAnswer according to the template:\\n{\\n'Nodule': 'right',\\n'Mass': 'right',\\n'Calcification': 'x',\\n'Asymmetry': 'x',\\n'Architectural Distortion': 'x',\\n'Skin Thickening': 'x',\\n'Lymph Node Enlargement': 'x',\\n'Intramammary Lymph Node': 'x',\\n'Nipple Retraction': 'x',\\n'Skin Retraction': 'x',\\n'Trabecular Thickening': 'x',\\n}\\n\\n\\n\\n\\n\\n\\n\\n\\n\\n\\n\\n\\n\\n\\n\\n\\n\\n\\n\\n\\n\\n\\n\\n\"]\n"
          ]
        },
        {
          "name": "stderr",
          "output_type": "stream",
          "text": [
            " 45%|████▌     | 74/163 [2:46:13<3:20:33, 135.21s/it]"
          ]
        },
        {
          "name": "stdout",
          "output_type": "stream",
          "text": [
            "[\"As an AI trained in analyzing radiology reports, your task is to classify the presence or absence of specific findings in each report. Respond according to the given template. \\n\\nRequirements:\\n1. Provide the lesion's location as 'right', 'left' or 'both'(i.e, right and left) if the lesion is explicitly mentioned as present.\\n2. Provide 'obscure' if the information is incomplete.\\n3. Default to 'x' if the finding is not mentioned.\\n\\nTemplate:\\n{\\n'Nodule': '[ANSWER]',\\n'Mass': '[ANSWER]',\\n'Calcification': '[ANSWER]',\\n'Asymmetry': '[ANSWER]',\\n'Architectural Distortion': '[ANSWER]',\\n'Skin Thickening': '[ANSWER]',\\n'Lymph Node Enlargement': '[ANSWER]',\\n'Intramammary Lymph Node': '[ANSWER]',\\n'Nipple Retraction': '[ANSWER]',\\n'Skin Retraction': '[ANSWER]',\\n'Trabecular Thickening': '[ANSWER]',\\n}\\n\\nReport:\\nRight Breast:  Outer architectural distortion is noted.  No suspicious microcalcifications.  Normal skin thickness and contour of breast.      OPINION:  Right Breast:  Outer architectural distortion (BIRADS 4).                                    \\n\\nAnswer according to the template:\\n{\\n'Nodule': 'x',\\n'Mass': 'x',\\n'Calcification': 'x',\\n'Asymmetry': 'x',\\n'Architectural Distortion': 'right',\\n'Skin Thickening': 'x',\\n'Lymph Node Enlargement': 'x',\\n'Intramammary Lymph Node': 'x',\\n'Nipple Retraction': 'x',\\n'Skin Retraction': 'x',\\n'Trabecular Thickening': 'x',\\n}\\n\\nReport:\\nBoth Breasts:  No suspicious microcalcifications.  Normal skin thickness and\", \"As an AI trained in analyzing radiology reports, your task is to classify the presence or absence of specific findings in each report. Respond according to the given template. \\n\\nRequirements:\\n1. Provide the lesion's location as 'right', 'left' or 'both'(i.e, right and left) if the lesion is explicitly mentioned as present.\\n2. Provide 'obscure' if the information is incomplete.\\n3. Default to 'x' if the finding is not mentioned.\\n\\nTemplate:\\n{\\n'Nodule': '[ANSWER]',\\n'Mass': '[ANSWER]',\\n'Calcification': '[ANSWER]',\\n'Asymmetry': '[ANSWER]',\\n'Architectural Distortion': '[ANSWER]',\\n'Skin Thickening': '[ANSWER]',\\n'Lymph Node Enlargement': '[ANSWER]',\\n'Intramammary Lymph Node': '[ANSWER]',\\n'Nipple Retraction': '[ANSWER]',\\n'Skin Retraction': '[ANSWER]',\\n'Trabecular Thickening': '[ANSWER]',\\n}\\n\\nReport:\\nRight Breast:  Lower inner quadrant oval shaped equal density mass with circumscribed margin is seen.  No suspicious microcalcifications.  Retroareolar increased density that is tubular in shape likely dilated ducts.  Normal skin thickness and contour of breast.    Left Breast:  No speculated mass lesions or suspicious microcalcifications.  Normal skin thickness and contour of breast.      OPINION:  Right Breast:  Lower inner quadrant benign looking mass and dilated retroareolar ducts (BIRADS 3).    Left Breast:  Normal breast examination (BIRADS 1).                          \\n\\nAnswer according to the template:\\n{\\n'Nodule': 'right',\\n'Mass': 'right',\\n'Calcification': 'x',\\n'Asymmetry': 'x',\\n'Architectural Distortion': 'x',\\n'Skin Thickening': 'x',\\n'Lymph Node Enlargement': 'x',\\n'Intramammary Lymph Node': 'x',\\n'Nipple Retraction': 'x',\\n'Skin Retraction': 'x',\\n'Trabecular Thickening': 'x',\\n}\\n\\n\\n\\n\\n\\n\\n\\n\\n\\n\\n\\n\\n\\n\\n\\n\\n\\n\\n\\n\\n\\n\\n\\n\"]\n"
          ]
        },
        {
          "name": "stderr",
          "output_type": "stream",
          "text": [
            " 46%|████▌     | 75/163 [2:48:29<3:18:25, 135.29s/it]"
          ]
        },
        {
          "name": "stdout",
          "output_type": "stream",
          "text": [
            "[\"As an AI trained in analyzing radiology reports, your task is to classify the presence or absence of specific findings in each report. Respond according to the given template. \\n\\nRequirements:\\n1. Provide the lesion's location as 'right', 'left' or 'both'(i.e, right and left) if the lesion is explicitly mentioned as present.\\n2. Provide 'obscure' if the information is incomplete.\\n3. Default to 'x' if the finding is not mentioned.\\n\\nTemplate:\\n{\\n'Nodule': '[ANSWER]',\\n'Mass': '[ANSWER]',\\n'Calcification': '[ANSWER]',\\n'Asymmetry': '[ANSWER]',\\n'Architectural Distortion': '[ANSWER]',\\n'Skin Thickening': '[ANSWER]',\\n'Lymph Node Enlargement': '[ANSWER]',\\n'Intramammary Lymph Node': '[ANSWER]',\\n'Nipple Retraction': '[ANSWER]',\\n'Skin Retraction': '[ANSWER]',\\n'Trabecular Thickening': '[ANSWER]',\\n}\\n\\nReport:\\nRight Breast:  Three lower central and inner rounded and oval shaped equal density circumscribed masses with coarse popcorn calcifications noted within the masses.  No suspicious microcalcifications.  Normal skin thickness and contour of breast.    Left Breast:  Multiple central outer and inner rounded and oval shaped equal density circumscribed masses with coarse popcorn calcifications noted within the masses.  No suspicious microcalcifications.  Normal skin thickness and contour of breast.      OPINION:  Right Breast:  Three lower central and inner benign looking masses, likely involuting fibroadenomas (BIRADS 2).    Left Breast:  Multiple central outer and inner benign looking masses, likely involuting fibroadenomas (BIRADS 2).                          \\n\\nAnswer according to the template:\\n{\\n'Nodule': 'both',\\n'Mass': 'both',\\n'Calcification': 'both',\\n'Asymmetry': 'x',\\n'Architectural Distortion': 'x',\\n'Skin Thickening': 'x',\\n'Lymph Node Enlargement': 'x',\\n'Intramammary Lymph Node': 'x',\\n'Nipple Retraction': 'x',\\n'Skin Retraction': 'x',\\n'Trabecular Thickening': 'x',\\n}\\n\\n\\n\\n\\n\\n\\n\\n\\n\\n\\n\\n\\n\\n\\n\\n\\n\\n\\n\\n\\n\\n\\n\\n\", \"As an AI trained in analyzing radiology reports, your task is to classify the presence or absence of specific findings in each report. Respond according to the given template. \\n\\nRequirements:\\n1. Provide the lesion's location as 'right', 'left' or 'both'(i.e, right and left) if the lesion is explicitly mentioned as present.\\n2. Provide 'obscure' if the information is incomplete.\\n3. Default to 'x' if the finding is not mentioned.\\n\\nTemplate:\\n{\\n'Nodule': '[ANSWER]',\\n'Mass': '[ANSWER]',\\n'Calcification': '[ANSWER]',\\n'Asymmetry': '[ANSWER]',\\n'Architectural Distortion': '[ANSWER]',\\n'Skin Thickening': '[ANSWER]',\\n'Lymph Node Enlargement': '[ANSWER]',\\n'Intramammary Lymph Node': '[ANSWER]',\\n'Nipple Retraction': '[ANSWER]',\\n'Skin Retraction': '[ANSWER]',\\n'Trabecular Thickening': '[ANSWER]',\\n}\\n\\nReport:\\nRight Breast:  No speculated mass lesions or suspicious microcalcifications.  Normal skin thickness and contour of breast.    Left Breast:  Central outer asymmetrical increased density is noted.  No suspicious microcalcifications.  Normal skin thickness and contour of breast.      OPINION:  Right Breast:  Normal breast examination (BIRADS 1).    Left Breast:  Central outer asymmetry (BIRADS 3).                          \\n\\nAnswer according to the template:\\n{\\n'Nodule': 'obscure',\\n'Mass': 'obscure',\\n'Calcification': 'obscure',\\n'Asymmetry': 'left',\\n'Architectural Distortion': 'x',\\n'Skin Thickening': 'x',\\n'Lymph Node Enlargement': 'x',\\n'Intramammary Lymph Node': 'x',\\n'Nipple Retraction': 'x',\\n'Skin Retraction': 'x',\\n'Trabecular Thickening': 'x',\\n}\\n\\n\\n\\n\\n\\n\\n\\n\\n\\n\\n\\n\\n\\n\\n\\n\\n\\n\"]\n"
          ]
        },
        {
          "name": "stderr",
          "output_type": "stream",
          "text": [
            " 47%|████▋     | 76/163 [2:50:44<3:16:12, 135.31s/it]"
          ]
        },
        {
          "name": "stdout",
          "output_type": "stream",
          "text": [
            "[\"As an AI trained in analyzing radiology reports, your task is to classify the presence or absence of specific findings in each report. Respond according to the given template. \\n\\nRequirements:\\n1. Provide the lesion's location as 'right', 'left' or 'both'(i.e, right and left) if the lesion is explicitly mentioned as present.\\n2. Provide 'obscure' if the information is incomplete.\\n3. Default to 'x' if the finding is not mentioned.\\n\\nTemplate:\\n{\\n'Nodule': '[ANSWER]',\\n'Mass': '[ANSWER]',\\n'Calcification': '[ANSWER]',\\n'Asymmetry': '[ANSWER]',\\n'Architectural Distortion': '[ANSWER]',\\n'Skin Thickening': '[ANSWER]',\\n'Lymph Node Enlargement': '[ANSWER]',\\n'Intramammary Lymph Node': '[ANSWER]',\\n'Nipple Retraction': '[ANSWER]',\\n'Skin Retraction': '[ANSWER]',\\n'Trabecular Thickening': '[ANSWER]',\\n}\\n\\nReport:\\nLeft Breast:  Status postoperative showing operative scar and edema.  No speculated mass lesions or suspicious microcalcifications.      OPINION:  Left Breast:  Status post operative with operative scar and edema showing no evidence of recurrent lesions (BIRADS 2).                                \\n\\nAnswer according to the template:\\n{\\n'Nodule': 'obscure',\\n'Mass': 'obscure',\\n'Calcification': 'obscure',\\n'Asymmetry': 'obscure',\\n'Architectural Distortion': 'obscure',\\n'Skin Thickening': 'obscure',\\n'Lymph Node Enlargement': 'obscure',\\n'Intramammary Lymph Node': 'obscure',\\n'Nipple Retraction': 'obscure',\\n'Skin Retraction': 'obscure',\\n'Trabecular Thickening': 'obscure',\\n}\\n\\n\", \"As an AI trained in analyzing radiology reports, your task is to classify the presence or absence of specific findings in each report. Respond according to the given template. \\n\\nRequirements:\\n1. Provide the lesion's location as 'right', 'left' or 'both'(i.e, right and left) if the lesion is explicitly mentioned as present.\\n2. Provide 'obscure' if the information is incomplete.\\n3. Default to 'x' if the finding is not mentioned.\\n\\nTemplate:\\n{\\n'Nodule': '[ANSWER]',\\n'Mass': '[ANSWER]',\\n'Calcification': '[ANSWER]',\\n'Asymmetry': '[ANSWER]',\\n'Architectural Distortion': '[ANSWER]',\\n'Skin Thickening': '[ANSWER]',\\n'Lymph Node Enlargement': '[ANSWER]',\\n'Intramammary Lymph Node': '[ANSWER]',\\n'Nipple Retraction': '[ANSWER]',\\n'Skin Retraction': '[ANSWER]',\\n'Trabecular Thickening': '[ANSWER]',\\n}\\n\\nReport:\\nRight Breast:  Few scattered benign macrocalcifications are noted.  No speculated mass lesions or suspicious microcalcifications.  Normal skin thickness and contour of breast.    Left Breast:  Upper outer axillary tail irregular high density mass with speculated margin and ductal extension with scattered calcifications are noted.  Normal skin thickness and contour of breast.      OPINION:  Right Breast:  Scattered benign macrocalcifications (BIRADS 2).    Left Breast:  Upper outer axillary tail malignant looking mass with ductal extension and scattered calcifications (BIRADS 5).                          \\n\\nAnswer according to the template:\\n{\\n'Nodule': 'left',\\n'Mass': 'left',\\n'Calcification': 'left',\\n'Asymmetry': 'obscure',\\n'Architectural Distortion': 'obscure',\\n'Skin Thickening': 'obscure',\\n'Lymph Node Enlargement': 'obscure',\\n'Intramammary Lymph Node': 'obscure',\\n'Nipple Retraction': 'obscure',\\n'Skin Retraction': 'obscure',\\n'Trabecular Thickening': 'obscure',\\n}\\n\\n\\n\\n\\n\\n\\n\\n\"]\n"
          ]
        },
        {
          "name": "stderr",
          "output_type": "stream",
          "text": [
            " 47%|████▋     | 77/163 [2:53:00<3:14:08, 135.45s/it]"
          ]
        },
        {
          "name": "stdout",
          "output_type": "stream",
          "text": [
            "['As an AI trained in analyzing radiology reports, your task is to classify the presence or absence of specific findings in each report. Respond according to the given template. \\n\\nRequirements:\\n1. Provide the lesion\\'s location as \\'right\\', \\'left\\' or \\'both\\'(i.e, right and left) if the lesion is explicitly mentioned as present.\\n2. Provide \\'obscure\\' if the information is incomplete.\\n3. Default to \\'x\\' if the finding is not mentioned.\\n\\nTemplate:\\n{\\n\\'Nodule\\': \\'[ANSWER]\\',\\n\\'Mass\\': \\'[ANSWER]\\',\\n\\'Calcification\\': \\'[ANSWER]\\',\\n\\'Asymmetry\\': \\'[ANSWER]\\',\\n\\'Architectural Distortion\\': \\'[ANSWER]\\',\\n\\'Skin Thickening\\': \\'[ANSWER]\\',\\n\\'Lymph Node Enlargement\\': \\'[ANSWER]\\',\\n\\'Intramammary Lymph Node\\': \\'[ANSWER]\\',\\n\\'Nipple Retraction\\': \\'[ANSWER]\\',\\n\\'Skin Retraction\\': \\'[ANSWER]\\',\\n\\'Trabecular Thickening\\': \\'[ANSWER]\\',\\n}\\n\\nReport:\\nRight Breast:  Central rounded and oval shaped equal density mass with circumscribed margin is seen.  Lower IMLNs are noted.  No speculated mass lesions or suspicious microcalcifications.  Normal skin thickness and contour of breast.    Left Breast:  Upper outer quadrant oval shaped equal density mass with circumscribed margin is seen.  Upper outer IMLN is also noted.  Upper outer benign macrocalcifications.  No speculated mass lesions or suspicious microcalcifications.  Normal skin thickness and contour of breast.      OPINION:  Right Breast:  Central benign looking mass (BIRADS 3).  Lower IMLNs (BIRADS 2).    Left Breast:  Upper outer benign looking mass (BIRADS 3).  Upper outer IMLN (BIRADS 2).  Upper outer benign macrocalcifications (BIRADS 2).              \\n\\nAnswer according to the template:\\n{\\n\\'Nodule\\': \\'both\\',\\n\\'Mass\\': \\'both\\',\\n\\'Calcification\\': \\'left\\',\\n\\'Asymmetry\\': \\'obscure\\',\\n\\'Architectural Distortion\\': \\'obscure\\',\\n\\'Skin Thickening\\': \\'obscure\\',\\n\\'Lymph Node Enlargement\\': \\'both\\',\\n\\'Intramammary Lymph Node\\': \\'obscure\\',\\n\\'Nipple Retraction\\': \\'obscure\\',\\n\\'Skin Retraction\\': \\'obscure\\',\\n\\'Trabecular Thickening\\': \\'obscure\\',\\n}\\n\\n\"\"\"\\n\\nimport json\\nimport', \"As an AI trained in analyzing radiology reports, your task is to classify the presence or absence of specific findings in each report. Respond according to the given template. \\n\\nRequirements:\\n1. Provide the lesion's location as 'right', 'left' or 'both'(i.e, right and left) if the lesion is explicitly mentioned as present.\\n2. Provide 'obscure' if the information is incomplete.\\n3. Default to 'x' if the finding is not mentioned.\\n\\nTemplate:\\n{\\n'Nodule': '[ANSWER]',\\n'Mass': '[ANSWER]',\\n'Calcification': '[ANSWER]',\\n'Asymmetry': '[ANSWER]',\\n'Architectural Distortion': '[ANSWER]',\\n'Skin Thickening': '[ANSWER]',\\n'Lymph Node Enlargement': '[ANSWER]',\\n'Intramammary Lymph Node': '[ANSWER]',\\n'Nipple Retraction': '[ANSWER]',\\n'Skin Retraction': '[ANSWER]',\\n'Trabecular Thickening': '[ANSWER]',\\n}\\n\\nReport:\\nRight Breast:  ACR B: Scattered fibroglandular tissue.  No speculated mass lesions or suspicious microcalcifications.  Normal skin thickness and contour of breast.      Left Breast:  Status postoperative showing operative scar with upper outer asymmetrical increased density.  No suspicious microcalcifications.      OPINION:  Right Breast:  Normal breast examination (BIRADS 1).    Left Breast:  Status post operative with operative scar showing upper outer suspicious looking asymmetry (BIRADS 4).                        \\n\\nAnswer according to the template:\\n{\\n'Nodule': 'obscure',\\n'Mass': 'obscure',\\n'Calcification': 'obscure',\\n'Asymmetry': 'left',\\n'Architectural Distortion': 'x',\\n'Skin Thickening': 'x',\\n'Lymph Node Enlargement': 'x',\\n'Intramammary Lymph Node': 'x',\\n'Nipple Retraction': 'x',\\n'Skin Retraction': 'x',\\n'Trabecular Thickening': 'x',\\n}\\n\\n\\n\\n\\n\\n\\n\\n\\n\\n\\n\\n\\n\\n\\n\\n\\n\\n\"]\n"
          ]
        },
        {
          "name": "stderr",
          "output_type": "stream",
          "text": [
            " 48%|████▊     | 78/163 [2:55:15<3:11:52, 135.44s/it]"
          ]
        },
        {
          "name": "stdout",
          "output_type": "stream",
          "text": [
            "[\"As an AI trained in analyzing radiology reports, your task is to classify the presence or absence of specific findings in each report. Respond according to the given template. \\n\\nRequirements:\\n1. Provide the lesion's location as 'right', 'left' or 'both'(i.e, right and left) if the lesion is explicitly mentioned as present.\\n2. Provide 'obscure' if the information is incomplete.\\n3. Default to 'x' if the finding is not mentioned.\\n\\nTemplate:\\n{\\n'Nodule': '[ANSWER]',\\n'Mass': '[ANSWER]',\\n'Calcification': '[ANSWER]',\\n'Asymmetry': '[ANSWER]',\\n'Architectural Distortion': '[ANSWER]',\\n'Skin Thickening': '[ANSWER]',\\n'Lymph Node Enlargement': '[ANSWER]',\\n'Intramammary Lymph Node': '[ANSWER]',\\n'Nipple Retraction': '[ANSWER]',\\n'Skin Retraction': '[ANSWER]',\\n'Trabecular Thickening': '[ANSWER]',\\n}\\n\\nReport:\\nRight Breast:  No speculated mass lesions or suspicious microcalcifications.  Normal skin thickness and contour of breast.    Left Breast:  Diffuse edematous changes evidenced by increased skin thickness and coarsened trabeculae.  No suspicious microcalcifications.      OPINION:  Right Breast:  Normal breast examination (BIRADS 1).    Left Breast:  Diffuse edematous changes (BIRADS 4).                          \\n\\nAnswer according to the template:\\n{\\n'Nodule': 'obscure',\\n'Mass': 'obscure',\\n'Calcification': 'obscure',\\n'Asymmetry': 'obscure',\\n'Architectural Distortion': 'obscure',\\n'Skin Thickening': 'obscure',\\n'Lymph Node Enlargement': 'obscure',\\n'Intramammary Lymph Node': 'obscure',\\n'Nipple Retraction': 'obscure',\\n'Skin Retraction': 'obscure',\\n'Trabecular Thickening': 'obscure',\\n}\\n\\n\", \"As an AI trained in analyzing radiology reports, your task is to classify the presence or absence of specific findings in each report. Respond according to the given template. \\n\\nRequirements:\\n1. Provide the lesion's location as 'right', 'left' or 'both'(i.e, right and left) if the lesion is explicitly mentioned as present.\\n2. Provide 'obscure' if the information is incomplete.\\n3. Default to 'x' if the finding is not mentioned.\\n\\nTemplate:\\n{\\n'Nodule': '[ANSWER]',\\n'Mass': '[ANSWER]',\\n'Calcification': '[ANSWER]',\\n'Asymmetry': '[ANSWER]',\\n'Architectural Distortion': '[ANSWER]',\\n'Skin Thickening': '[ANSWER]',\\n'Lymph Node Enlargement': '[ANSWER]',\\n'Intramammary Lymph Node': '[ANSWER]',\\n'Nipple Retraction': '[ANSWER]',\\n'Skin Retraction': '[ANSWER]',\\n'Trabecular Thickening': '[ANSWER]',\\n}\\n\\nReport:\\nRight Breast:  Diffuse edematous changes evidenced by increased skin thickness and coarsened trabeculae.  Upper outer IMLN is noted.  No suspicious microcalcifications.    Left Breast:  Diffuse edematous changes evidenced by increased skin thickness and coarsened trabeculae.  No suspicious microcalcifications.      OPINION:  Right Breast:  Diffuse edematous changes (BIRADS 4).  Upper outer IMLN (BIRADS 2).    Left Breast:  Status post neoadjuvant chemotherapy of a known case of breast cancer showing diffuse edematous changes (BIRADS 6).                          \\n\\nAnswer according to the template:\\n{\\n'Nodule': 'obscure',\\n'Mass': 'obscure',\\n'Calcification': 'obscure',\\n'Asymmetry': 'obscure',\\n'Architectural Distortion': 'obscure',\\n'Skin Thickening': 'obscure',\\n'Lymph Node Enlargement': 'obscure',\\n'Intramammary Lymph Node': 'obscure',\\n'Nipple Retraction': 'obscure',\\n'Skin Retraction': 'obscure',\\n'Trabecular Thickening': 'obscure',\\n}\\n\\n\"]\n"
          ]
        },
        {
          "name": "stderr",
          "output_type": "stream",
          "text": [
            " 48%|████▊     | 79/163 [2:57:30<3:09:20, 135.25s/it]"
          ]
        },
        {
          "name": "stdout",
          "output_type": "stream",
          "text": [
            "[\"As an AI trained in analyzing radiology reports, your task is to classify the presence or absence of specific findings in each report. Respond according to the given template. \\n\\nRequirements:\\n1. Provide the lesion's location as 'right', 'left' or 'both'(i.e, right and left) if the lesion is explicitly mentioned as present.\\n2. Provide 'obscure' if the information is incomplete.\\n3. Default to 'x' if the finding is not mentioned.\\n\\nTemplate:\\n{\\n'Nodule': '[ANSWER]',\\n'Mass': '[ANSWER]',\\n'Calcification': '[ANSWER]',\\n'Asymmetry': '[ANSWER]',\\n'Architectural Distortion': '[ANSWER]',\\n'Skin Thickening': '[ANSWER]',\\n'Lymph Node Enlargement': '[ANSWER]',\\n'Intramammary Lymph Node': '[ANSWER]',\\n'Nipple Retraction': '[ANSWER]',\\n'Skin Retraction': '[ANSWER]',\\n'Trabecular Thickening': '[ANSWER]',\\n}\\n\\nReport:\\nRight Breast:  No speculated mass lesions or suspicious microcalcifications.  Normal skin thickness and contour of breast.      OPINION:  Right Breast:  Normal breast examination (BIRADS 1).                                      \\n\\nAnswer according to the template:\\n{\\n'Nodule': 'x',\\n'Mass': 'x',\\n'Calcification': 'x',\\n'Asymmetry': 'x',\\n'Architectural Distortion': 'x',\\n'Skin Thickening': 'x',\\n'Lymph Node Enlargement': 'x',\\n'Intramammary Lymph Node': 'x',\\n'Nipple Retraction': 'x',\\n'Skin Retraction': 'x',\\n'Trabecular Thickening': 'x',\\n}\\n\\nReport:\\nRight Breast:  No speculated mass lesions or suspicious microcalcifications. \", \"As an AI trained in analyzing radiology reports, your task is to classify the presence or absence of specific findings in each report. Respond according to the given template. \\n\\nRequirements:\\n1. Provide the lesion's location as 'right', 'left' or 'both'(i.e, right and left) if the lesion is explicitly mentioned as present.\\n2. Provide 'obscure' if the information is incomplete.\\n3. Default to 'x' if the finding is not mentioned.\\n\\nTemplate:\\n{\\n'Nodule': '[ANSWER]',\\n'Mass': '[ANSWER]',\\n'Calcification': '[ANSWER]',\\n'Asymmetry': '[ANSWER]',\\n'Architectural Distortion': '[ANSWER]',\\n'Skin Thickening': '[ANSWER]',\\n'Lymph Node Enlargement': '[ANSWER]',\\n'Intramammary Lymph Node': '[ANSWER]',\\n'Nipple Retraction': '[ANSWER]',\\n'Skin Retraction': '[ANSWER]',\\n'Trabecular Thickening': '[ANSWER]',\\n}\\n\\nReport:\\nLeft Breast:  No speculated mass lesions or suspicious microcalcifications.  Normal skin thickness and contour of breast.      OPINION:  Left Breast:  Normal breast examination (BIRADS 1).                                      \\n\\nAnswer according to the template:\\n{\\n'Nodule': 'obscure',\\n'Mass': 'obscure',\\n'Calcification': 'obscure',\\n'Asymmetry': 'obscure',\\n'Architectural Distortion': 'obscure',\\n'Skin Thickening': 'obscure',\\n'Lymph Node Enlargement': 'obscure',\\n'Intramammary Lymph Node': 'obscure',\\n'Nipple Retraction': 'obscure',\\n'Skin Retraction': 'obscure',\\n'Trabecular Thickening': 'obscure',\\n}\\n\\n\"]\n"
          ]
        },
        {
          "name": "stderr",
          "output_type": "stream",
          "text": [
            " 49%|████▉     | 80/163 [2:59:46<3:07:13, 135.34s/it]"
          ]
        },
        {
          "name": "stdout",
          "output_type": "stream",
          "text": [
            "[\"As an AI trained in analyzing radiology reports, your task is to classify the presence or absence of specific findings in each report. Respond according to the given template. \\n\\nRequirements:\\n1. Provide the lesion's location as 'right', 'left' or 'both'(i.e, right and left) if the lesion is explicitly mentioned as present.\\n2. Provide 'obscure' if the information is incomplete.\\n3. Default to 'x' if the finding is not mentioned.\\n\\nTemplate:\\n{\\n'Nodule': '[ANSWER]',\\n'Mass': '[ANSWER]',\\n'Calcification': '[ANSWER]',\\n'Asymmetry': '[ANSWER]',\\n'Architectural Distortion': '[ANSWER]',\\n'Skin Thickening': '[ANSWER]',\\n'Lymph Node Enlargement': '[ANSWER]',\\n'Intramammary Lymph Node': '[ANSWER]',\\n'Nipple Retraction': '[ANSWER]',\\n'Skin Retraction': '[ANSWER]',\\n'Trabecular Thickening': '[ANSWER]',\\n}\\n\\nReport:\\nLeft Breast:  Status postoperative showing operative scar and edema.  No suspicious microcalcifications.      OPINION:  Left Breast:  Status post operative with operative scar and edema showing no evidence of recurrent lesions (BIRADS 2).                                      \\n\\nAnswer according to the template:\\n{\\n'Nodule': 'obscure',\\n'Mass': 'obscure',\\n'Calcification': 'obscure',\\n'Asymmetry': 'obscure',\\n'Architectural Distortion': 'obscure',\\n'Skin Thickening': 'obscure',\\n'Lymph Node Enlargement': 'obscure',\\n'Intramammary Lymph Node': 'obscure',\\n'Nipple Retraction': 'obscure',\\n'Skin Retraction': 'obscure',\\n'Trabecular Thickening': 'obscure',\\n}\\n\\n\", \"As an AI trained in analyzing radiology reports, your task is to classify the presence or absence of specific findings in each report. Respond according to the given template. \\n\\nRequirements:\\n1. Provide the lesion's location as 'right', 'left' or 'both'(i.e, right and left) if the lesion is explicitly mentioned as present.\\n2. Provide 'obscure' if the information is incomplete.\\n3. Default to 'x' if the finding is not mentioned.\\n\\nTemplate:\\n{\\n'Nodule': '[ANSWER]',\\n'Mass': '[ANSWER]',\\n'Calcification': '[ANSWER]',\\n'Asymmetry': '[ANSWER]',\\n'Architectural Distortion': '[ANSWER]',\\n'Skin Thickening': '[ANSWER]',\\n'Lymph Node Enlargement': '[ANSWER]',\\n'Intramammary Lymph Node': '[ANSWER]',\\n'Nipple Retraction': '[ANSWER]',\\n'Skin Retraction': '[ANSWER]',\\n'Trabecular Thickening': '[ANSWER]',\\n}\\n\\nReport:\\nRight Breast:  Status postoperative showing operative scar and edema with dystrophic calcifications.  No speculated mass lesions or suspicious microcalcifications.      Left Breast:  Status postoperative showing operative scar and edema.  Retroareolar benign macrocalcifications.  No speculated mass lesions or suspicious microcalcifications.      OPINION:  Right Breast:  Status post operative with operative scar and edema showing no evidence of recurrent lesions (BIRADS 2).    Left Breast:  Status post operative with operative scar and edema showing no evidence of recurrent lesions (BIRADS 2).  Retroareolar benign macrocalcification (BIRADS 2).                        \\n\\nAnswer according to the template:\\n{\\n'Nodule': 'obscure',\\n'Mass': 'obscure',\\n'Calcification': 'both',\\n'Asymmetry': 'x',\\n'Architectural Distortion': 'x',\\n'Skin Thickening': 'x',\\n'Lymph Node Enlargement': 'x',\\n'Intramammary Lymph Node': 'x',\\n'Nipple Retraction': 'x',\\n'Skin Retraction': 'x',\\n'Trabecular Thickening': 'x',\\n}\\n\\n\\n\\n\\n\\n\\n\\n\\n\\n\\n\\n\\n\\n\\n\\n\\n\\n\\n\\n\"]\n"
          ]
        },
        {
          "name": "stderr",
          "output_type": "stream",
          "text": [
            " 50%|████▉     | 81/163 [3:02:01<3:05:01, 135.39s/it]"
          ]
        },
        {
          "name": "stdout",
          "output_type": "stream",
          "text": [
            "[\"As an AI trained in analyzing radiology reports, your task is to classify the presence or absence of specific findings in each report. Respond according to the given template. \\n\\nRequirements:\\n1. Provide the lesion's location as 'right', 'left' or 'both'(i.e, right and left) if the lesion is explicitly mentioned as present.\\n2. Provide 'obscure' if the information is incomplete.\\n3. Default to 'x' if the finding is not mentioned.\\n\\nTemplate:\\n{\\n'Nodule': '[ANSWER]',\\n'Mass': '[ANSWER]',\\n'Calcification': '[ANSWER]',\\n'Asymmetry': '[ANSWER]',\\n'Architectural Distortion': '[ANSWER]',\\n'Skin Thickening': '[ANSWER]',\\n'Lymph Node Enlargement': '[ANSWER]',\\n'Intramammary Lymph Node': '[ANSWER]',\\n'Nipple Retraction': '[ANSWER]',\\n'Skin Retraction': '[ANSWER]',\\n'Trabecular Thickening': '[ANSWER]',\\n}\\n\\nReport:\\nRight Breast:  Central outer oval shaped equal density mass with circumscribed margin is seen.  No suspicious microcalcifications.  Normal skin thickness and contour of breast.    Left Breast:  Upper outer quadrant irregular high density mass with indistinct margin is seen.  Upper outer benign macrocalcification is noted.  No suspicious microcalcifications.  Normal skin thickness and contour of breast.      OPINION:  Right Breast:  Central outer benign looking mass (BIRADS 3).    Left Breast:  Upper outer suspicious looking mass (BIRADS 4).  Upper outer benign macrocalcification (BIRADS 2).                          \\n\\nAnswer according to the template:\\n{\\n'Nodule': 'right',\\n'Mass': 'right',\\n'Calcification': 'left',\\n'Asymmetry': 'obscure',\\n'Architectural Distortion': 'x',\\n'Skin Thickening': 'obscure',\\n'Lymph Node Enlargement': 'obscure',\\n'Intramammary Lymph Node': 'obscure',\\n'Nipple Retraction': 'obscure',\\n'Skin Retraction': 'obscure',\\n'Trabecular Thickening': 'obscure',\\n}\\n\\n\\n\\n\\n\\n\\n\\n\\n\\n\", \"As an AI trained in analyzing radiology reports, your task is to classify the presence or absence of specific findings in each report. Respond according to the given template. \\n\\nRequirements:\\n1. Provide the lesion's location as 'right', 'left' or 'both'(i.e, right and left) if the lesion is explicitly mentioned as present.\\n2. Provide 'obscure' if the information is incomplete.\\n3. Default to 'x' if the finding is not mentioned.\\n\\nTemplate:\\n{\\n'Nodule': '[ANSWER]',\\n'Mass': '[ANSWER]',\\n'Calcification': '[ANSWER]',\\n'Asymmetry': '[ANSWER]',\\n'Architectural Distortion': '[ANSWER]',\\n'Skin Thickening': '[ANSWER]',\\n'Lymph Node Enlargement': '[ANSWER]',\\n'Intramammary Lymph Node': '[ANSWER]',\\n'Nipple Retraction': '[ANSWER]',\\n'Skin Retraction': '[ANSWER]',\\n'Trabecular Thickening': '[ANSWER]',\\n}\\n\\nReport:\\nRight Breast:  Lower central irregular high density mass with indistinct margin is seen.  Outer and deep central microcalcific foci mounting to cluster formation.  Normal skin thickness and contour of breast.    Left Breast:  No speculated mass lesions or suspicious microcalcifications.  Normal skin thickness and contour of breast.      OPINION:  Right Breast:  Lower central suspicious looking mass associated with outer and deep central microcalcifications (BIRADS 4).    Left Breast:  Normal breast examination (BIRADS 1).                          \\n\\nAnswer according to the template:\\n{\\n'Nodule': 'right',\\n'Mass': 'right',\\n'Calcification': 'right',\\n'Asymmetry': 'obscure',\\n'Architectural Distortion': 'x',\\n'Skin Thickening': 'x',\\n'Lymph Node Enlargement': 'x',\\n'Intramammary Lymph Node': 'x',\\n'Nipple Retraction': 'x',\\n'Skin Retraction': 'x',\\n'Trabecular Thickening': 'x',\\n}\\n\\n\\n\\n\\n\\n\\n\\n\\n\\n\\n\\n\\n\\n\\n\\n\\n\\n\\n\\n\\n\\n\"]\n"
          ]
        },
        {
          "name": "stderr",
          "output_type": "stream",
          "text": [
            " 50%|█████     | 82/163 [3:04:16<3:02:38, 135.29s/it]"
          ]
        },
        {
          "name": "stdout",
          "output_type": "stream",
          "text": [
            "[\"As an AI trained in analyzing radiology reports, your task is to classify the presence or absence of specific findings in each report. Respond according to the given template. \\n\\nRequirements:\\n1. Provide the lesion's location as 'right', 'left' or 'both'(i.e, right and left) if the lesion is explicitly mentioned as present.\\n2. Provide 'obscure' if the information is incomplete.\\n3. Default to 'x' if the finding is not mentioned.\\n\\nTemplate:\\n{\\n'Nodule': '[ANSWER]',\\n'Mass': '[ANSWER]',\\n'Calcification': '[ANSWER]',\\n'Asymmetry': '[ANSWER]',\\n'Architectural Distortion': '[ANSWER]',\\n'Skin Thickening': '[ANSWER]',\\n'Lymph Node Enlargement': '[ANSWER]',\\n'Intramammary Lymph Node': '[ANSWER]',\\n'Nipple Retraction': '[ANSWER]',\\n'Skin Retraction': '[ANSWER]',\\n'Trabecular Thickening': '[ANSWER]',\\n}\\n\\nReport:\\nRight Breast:  Retroareolar irregular high density mass with speculated margin associated with ductal extension and edema pattern.  No suspicious microcalcifications.    OPINION:  Right Breast:  Retroareolar malignant looking mass with ductal extension and edema pattern (BIRADS 5).                                      \\n\\nAnswer according to the template:\\n{\\n'Nodule': 'right',\\n'Mass': 'right',\\n'Calcification': 'x',\\n'Asymmetry': 'x',\\n'Architectural Distortion': 'x',\\n'Skin Thickening': 'x',\\n'Lymph Node Enlargement': 'x',\\n'Intramammary Lymph Node': 'x',\\n'Nipple Retraction': 'x',\\n'Skin Retraction': 'x',\\n'Trabecular Thickening': 'x',\\n}\\n\\nReport:\\nLeft Breast:  Irregular high density mass with speculated margin associated with ductal\", \"As an AI trained in analyzing radiology reports, your task is to classify the presence or absence of specific findings in each report. Respond according to the given template. \\n\\nRequirements:\\n1. Provide the lesion's location as 'right', 'left' or 'both'(i.e, right and left) if the lesion is explicitly mentioned as present.\\n2. Provide 'obscure' if the information is incomplete.\\n3. Default to 'x' if the finding is not mentioned.\\n\\nTemplate:\\n{\\n'Nodule': '[ANSWER]',\\n'Mass': '[ANSWER]',\\n'Calcification': '[ANSWER]',\\n'Asymmetry': '[ANSWER]',\\n'Architectural Distortion': '[ANSWER]',\\n'Skin Thickening': '[ANSWER]',\\n'Lymph Node Enlargement': '[ANSWER]',\\n'Intramammary Lymph Node': '[ANSWER]',\\n'Nipple Retraction': '[ANSWER]',\\n'Skin Retraction': '[ANSWER]',\\n'Trabecular Thickening': '[ANSWER]',\\n}\\n\\nReport:\\nLeft Breast:  Few scattered benign macrocalcifications are noted.  No speculated mass lesions or suspicious microcalcifications.  Normal skin thickness and contour of breast.      OPINION:  Left Breast:  Few scattered benign macrocalcifications (BIRADS 2).                                      \\n\\nAnswer according to the template:\\n{\\n'Nodule': 'x',\\n'Mass': 'x',\\n'Calcification': 'left',\\n'Asymmetry': 'x',\\n'Architectural Distortion': 'x',\\n'Skin Thickening': 'x',\\n'Lymph Node Enlargement': 'x',\\n'Intramammary Lymph Node': 'x',\\n'Nipple Retraction': 'x',\\n'Skin Retraction': 'x',\\n'Trabecular Thickening': 'x',\\n}\\n\\nReport:\\nLeft Breast:  Few scattered benign macrocalcifications are noted.  No spec\"]\n"
          ]
        },
        {
          "name": "stderr",
          "output_type": "stream",
          "text": [
            " 51%|█████     | 83/163 [3:06:32<3:00:38, 135.48s/it]"
          ]
        },
        {
          "name": "stdout",
          "output_type": "stream",
          "text": [
            "[\"As an AI trained in analyzing radiology reports, your task is to classify the presence or absence of specific findings in each report. Respond according to the given template. \\n\\nRequirements:\\n1. Provide the lesion's location as 'right', 'left' or 'both'(i.e, right and left) if the lesion is explicitly mentioned as present.\\n2. Provide 'obscure' if the information is incomplete.\\n3. Default to 'x' if the finding is not mentioned.\\n\\nTemplate:\\n{\\n'Nodule': '[ANSWER]',\\n'Mass': '[ANSWER]',\\n'Calcification': '[ANSWER]',\\n'Asymmetry': '[ANSWER]',\\n'Architectural Distortion': '[ANSWER]',\\n'Skin Thickening': '[ANSWER]',\\n'Lymph Node Enlargement': '[ANSWER]',\\n'Intramammary Lymph Node': '[ANSWER]',\\n'Nipple Retraction': '[ANSWER]',\\n'Skin Retraction': '[ANSWER]',\\n'Trabecular Thickening': '[ANSWER]',\\n}\\n\\nReport:\\nRight Breast:  Upper central rounded equal density mass with circumscribed margin is seen.  Lower inner vascular calcifications are noted.  No suspicious microcalcifications.  Normal skin thickness and contour of breast.    Left Breast:  Upper outer asymmetrical increased density with overlying pleomorphic microcalcifications is seen.  Another central inner cluster of punctate microcalcifications is noted.  Upper inner vascular calcifications are noted.  Normal skin thickness and contour of breast.      OPINION:  Right Breast:  Upper central benign looking mass (BIRADS 3).  Lower inner vascular calcifications (BIRADS 2).    Left Breast:  Upper outer suspicious looking asymmetry with overlying microcalcifications and central inner cluster of microcalcifications (BIRADS 4).  Upper inner vascular calcifications (BIRADS 2).                \\n\\nAnswer according to the template:\\n{\\n'Nodule': 'right',\\n'Mass': 'right',\\n'Calcification': 'right',\\n'Asymmetry': 'left',\\n'Architectural Distortion': 'x',\\n'Skin Thickening': 'x',\\n'Lymph Node Enlargement': 'x',\\n'Intramammary Lymph Node': 'x',\\n'Nipple Retraction': 'x',\\n'Skin Retraction': 'x',\\n'Trabecular Thickening': 'x',\\n}\\n\\n\\n\\n\\n\\n\\n\\n\\n\\n\\n\\n\\n\\n\\n\\n\\n\\n\\n\\n\\n\\n\\n\\n\", \"As an AI trained in analyzing radiology reports, your task is to classify the presence or absence of specific findings in each report. Respond according to the given template. \\n\\nRequirements:\\n1. Provide the lesion's location as 'right', 'left' or 'both'(i.e, right and left) if the lesion is explicitly mentioned as present.\\n2. Provide 'obscure' if the information is incomplete.\\n3. Default to 'x' if the finding is not mentioned.\\n\\nTemplate:\\n{\\n'Nodule': '[ANSWER]',\\n'Mass': '[ANSWER]',\\n'Calcification': '[ANSWER]',\\n'Asymmetry': '[ANSWER]',\\n'Architectural Distortion': '[ANSWER]',\\n'Skin Thickening': '[ANSWER]',\\n'Lymph Node Enlargement': '[ANSWER]',\\n'Intramammary Lymph Node': '[ANSWER]',\\n'Nipple Retraction': '[ANSWER]',\\n'Skin Retraction': '[ANSWER]',\\n'Trabecular Thickening': '[ANSWER]',\\n}\\n\\nReport:\\nLeft Breast:  No speculated mass lesions or suspicious microcalcifications.  Normal skin thickness and contour of breast.      OPINION:  Left Breast:  Normal breast examination (BIRADS 1).                                      \\n\\nAnswer according to the template:\\n{\\n'Nodule': 'obscure',\\n'Mass': 'obscure',\\n'Calcification': 'obscure',\\n'Asymmetry': 'obscure',\\n'Architectural Distortion': 'obscure',\\n'Skin Thickening': 'obscure',\\n'Lymph Node Enlargement': 'obscure',\\n'Intramammary Lymph Node': 'obscure',\\n'Nipple Retraction': 'obscure',\\n'Skin Retraction': 'obscure',\\n'Trabecular Thickening': 'obscure',\\n}\\n\\n\"]\n"
          ]
        },
        {
          "name": "stderr",
          "output_type": "stream",
          "text": [
            " 52%|█████▏    | 84/163 [3:08:47<2:58:13, 135.36s/it]"
          ]
        },
        {
          "name": "stdout",
          "output_type": "stream",
          "text": [
            "[\"As an AI trained in analyzing radiology reports, your task is to classify the presence or absence of specific findings in each report. Respond according to the given template. \\n\\nRequirements:\\n1. Provide the lesion's location as 'right', 'left' or 'both'(i.e, right and left) if the lesion is explicitly mentioned as present.\\n2. Provide 'obscure' if the information is incomplete.\\n3. Default to 'x' if the finding is not mentioned.\\n\\nTemplate:\\n{\\n'Nodule': '[ANSWER]',\\n'Mass': '[ANSWER]',\\n'Calcification': '[ANSWER]',\\n'Asymmetry': '[ANSWER]',\\n'Architectural Distortion': '[ANSWER]',\\n'Skin Thickening': '[ANSWER]',\\n'Lymph Node Enlargement': '[ANSWER]',\\n'Intramammary Lymph Node': '[ANSWER]',\\n'Nipple Retraction': '[ANSWER]',\\n'Skin Retraction': '[ANSWER]',\\n'Trabecular Thickening': '[ANSWER]',\\n}\\n\\nReport:\\nLeft Breast:  No speculated mass lesions or suspicious microcalcifications.  Normal skin thickness and contour of breast.      OPINION:  Left Breast:  Normal breast examination (BIRADS 1).                                      \\n\\nAnswer according to the template:\\n{\\n'Nodule': 'obscure',\\n'Mass': 'obscure',\\n'Calcification': 'obscure',\\n'Asymmetry': 'obscure',\\n'Architectural Distortion': 'obscure',\\n'Skin Thickening': 'obscure',\\n'Lymph Node Enlargement': 'obscure',\\n'Intramammary Lymph Node': 'obscure',\\n'Nipple Retraction': 'obscure',\\n'Skin Retraction': 'obscure',\\n'Trabecular Thickening': 'obscure',\\n}\\n\\n\", \"As an AI trained in analyzing radiology reports, your task is to classify the presence or absence of specific findings in each report. Respond according to the given template. \\n\\nRequirements:\\n1. Provide the lesion's location as 'right', 'left' or 'both'(i.e, right and left) if the lesion is explicitly mentioned as present.\\n2. Provide 'obscure' if the information is incomplete.\\n3. Default to 'x' if the finding is not mentioned.\\n\\nTemplate:\\n{\\n'Nodule': '[ANSWER]',\\n'Mass': '[ANSWER]',\\n'Calcification': '[ANSWER]',\\n'Asymmetry': '[ANSWER]',\\n'Architectural Distortion': '[ANSWER]',\\n'Skin Thickening': '[ANSWER]',\\n'Lymph Node Enlargement': '[ANSWER]',\\n'Intramammary Lymph Node': '[ANSWER]',\\n'Nipple Retraction': '[ANSWER]',\\n'Skin Retraction': '[ANSWER]',\\n'Trabecular Thickening': '[ANSWER]',\\n}\\n\\nReport:\\nLeft Breast:  Multiple upper central irregular high density masses with microlobulated margin and edema pattern are seen.  No suspicious microcalcifications.      OPINION:  Left Breast:  Multiple upper central malignant looking masses with edema pattern  (BIRADS 5).                                      \\n\\nAnswer according to the template:\\n{\\n'Nodule': 'left',\\n'Mass': 'left',\\n'Calcification': 'x',\\n'Asymmetry': 'x',\\n'Architectural Distortion': 'x',\\n'Skin Thickening': 'x',\\n'Lymph Node Enlargement': 'x',\\n'Intramammary Lymph Node': 'x',\\n'Nipple Retraction': 'x',\\n'Skin Retraction': 'x',\\n'Trabecular Thickening': 'x',\\n}\\n\\nReport:\\nLeft Breast:  Multiple upper central irregular high density masses with microlobulated margin and ed\"]\n"
          ]
        },
        {
          "name": "stderr",
          "output_type": "stream",
          "text": [
            " 52%|█████▏    | 85/163 [3:11:03<2:56:01, 135.41s/it]"
          ]
        },
        {
          "name": "stdout",
          "output_type": "stream",
          "text": [
            "[\"As an AI trained in analyzing radiology reports, your task is to classify the presence or absence of specific findings in each report. Respond according to the given template. \\n\\nRequirements:\\n1. Provide the lesion's location as 'right', 'left' or 'both'(i.e, right and left) if the lesion is explicitly mentioned as present.\\n2. Provide 'obscure' if the information is incomplete.\\n3. Default to 'x' if the finding is not mentioned.\\n\\nTemplate:\\n{\\n'Nodule': '[ANSWER]',\\n'Mass': '[ANSWER]',\\n'Calcification': '[ANSWER]',\\n'Asymmetry': '[ANSWER]',\\n'Architectural Distortion': '[ANSWER]',\\n'Skin Thickening': '[ANSWER]',\\n'Lymph Node Enlargement': '[ANSWER]',\\n'Intramammary Lymph Node': '[ANSWER]',\\n'Nipple Retraction': '[ANSWER]',\\n'Skin Retraction': '[ANSWER]',\\n'Trabecular Thickening': '[ANSWER]',\\n}\\n\\nReport:\\nRight Breast:  Diffuse edematous changes evidenced by increased skin thickness and coarsened trabeculae associated with nipple retraction.  No suspicious microcalcifications.    Left Breast:  Lower inner benign macrocalcifications are noted.  No speculated mass lesions or suspicious microcalcifications.  Normal skin thickness and contour of breast.      OPINION:  Right Breast:  Diffuse edematous changes and nipple retraction (BIRADS 5).    Left Breast:  Lower inner benign macrocalcifications (BIRADS 2).                          \\n\\nAnswer according to the template:\\n{\\n'Nodule': 'obscure',\\n'Mass': 'obscure',\\n'Calcification': 'obscure',\\n'Asymmetry': 'obscure',\\n'Architectural Distortion': 'obscure',\\n'Skin Thickening': 'right',\\n'Lymph Node Enlargement': 'obscure',\\n'Intramammary Lymph Node': 'obscure',\\n'Nipple Retraction': 'right',\\n'Skin Retraction': 'right',\\n'Trabecular Thickening': 'right',\\n}\\n\\n\\n\\n\\n\\n\\n\\n\\n\\n\", \"As an AI trained in analyzing radiology reports, your task is to classify the presence or absence of specific findings in each report. Respond according to the given template. \\n\\nRequirements:\\n1. Provide the lesion's location as 'right', 'left' or 'both'(i.e, right and left) if the lesion is explicitly mentioned as present.\\n2. Provide 'obscure' if the information is incomplete.\\n3. Default to 'x' if the finding is not mentioned.\\n\\nTemplate:\\n{\\n'Nodule': '[ANSWER]',\\n'Mass': '[ANSWER]',\\n'Calcification': '[ANSWER]',\\n'Asymmetry': '[ANSWER]',\\n'Architectural Distortion': '[ANSWER]',\\n'Skin Thickening': '[ANSWER]',\\n'Lymph Node Enlargement': '[ANSWER]',\\n'Intramammary Lymph Node': '[ANSWER]',\\n'Nipple Retraction': '[ANSWER]',\\n'Skin Retraction': '[ANSWER]',\\n'Trabecular Thickening': '[ANSWER]',\\n}\\n\\nReport:\\nRight Breast:  No speculated mass lesions or suspicious microcalcifications.  Normal skin thickness and contour of breast.    Left Breast:  No speculated mass lesions or suspicious microcalcifications.  Normal skin thickness and contour of breast.      OPINION:  Right Breast:  Normal breast examination (BIRADS 1).    Left Breast:  Normal breast examination (BIRADS 1).                          \\n\\nAnswer according to the template:\\n{\\n'Nodule': 'obscure',\\n'Mass': 'obscure',\\n'Calcification': 'obscure',\\n'Asymmetry': 'obscure',\\n'Architectural Distortion': 'obscure',\\n'Skin Thickening': 'obscure',\\n'Lymph Node Enlargement': 'obscure',\\n'Intramammary Lymph Node': 'obscure',\\n'Nipple Retraction': 'obscure',\\n'Skin Retraction': 'obscure',\\n'Trabecular Thickening': 'obscure',\\n}\\n\\n\"]\n"
          ]
        },
        {
          "name": "stderr",
          "output_type": "stream",
          "text": [
            " 53%|█████▎    | 86/163 [3:13:18<2:53:49, 135.45s/it]"
          ]
        },
        {
          "name": "stdout",
          "output_type": "stream",
          "text": [
            "[\"As an AI trained in analyzing radiology reports, your task is to classify the presence or absence of specific findings in each report. Respond according to the given template. \\n\\nRequirements:\\n1. Provide the lesion's location as 'right', 'left' or 'both'(i.e, right and left) if the lesion is explicitly mentioned as present.\\n2. Provide 'obscure' if the information is incomplete.\\n3. Default to 'x' if the finding is not mentioned.\\n\\nTemplate:\\n{\\n'Nodule': '[ANSWER]',\\n'Mass': '[ANSWER]',\\n'Calcification': '[ANSWER]',\\n'Asymmetry': '[ANSWER]',\\n'Architectural Distortion': '[ANSWER]',\\n'Skin Thickening': '[ANSWER]',\\n'Lymph Node Enlargement': '[ANSWER]',\\n'Intramammary Lymph Node': '[ANSWER]',\\n'Nipple Retraction': '[ANSWER]',\\n'Skin Retraction': '[ANSWER]',\\n'Trabecular Thickening': '[ANSWER]',\\n}\\n\\nReport:\\nLeft Breast:  Lower oval shaped equal density mass with circumscribed margin is seen.  No suspicious microcalcifications.  Normal skin thickness and contour of breast.      OPINION:  Left Breast:  Lower benign looking mass (BIRADS 3).                                      \\n\\nAnswer according to the template:\\n{\\n'Nodule': 'left',\\n'Mass': 'left',\\n'Calcification': 'x',\\n'Asymmetry': 'x',\\n'Architectural Distortion': 'x',\\n'Skin Thickening': 'x',\\n'Lymph Node Enlargement': 'x',\\n'Intramammary Lymph Node': 'x',\\n'Nipple Retraction': 'x',\\n'Skin Retraction': 'x',\\n'Trabecular Thickening': 'x',\\n}\\n\\nReport:\\nLeft Breast:  Lower oval shaped equal density mass with circumscribed margin is\", \"As an AI trained in analyzing radiology reports, your task is to classify the presence or absence of specific findings in each report. Respond according to the given template. \\n\\nRequirements:\\n1. Provide the lesion's location as 'right', 'left' or 'both'(i.e, right and left) if the lesion is explicitly mentioned as present.\\n2. Provide 'obscure' if the information is incomplete.\\n3. Default to 'x' if the finding is not mentioned.\\n\\nTemplate:\\n{\\n'Nodule': '[ANSWER]',\\n'Mass': '[ANSWER]',\\n'Calcification': '[ANSWER]',\\n'Asymmetry': '[ANSWER]',\\n'Architectural Distortion': '[ANSWER]',\\n'Skin Thickening': '[ANSWER]',\\n'Lymph Node Enlargement': '[ANSWER]',\\n'Intramammary Lymph Node': '[ANSWER]',\\n'Nipple Retraction': '[ANSWER]',\\n'Skin Retraction': '[ANSWER]',\\n'Trabecular Thickening': '[ANSWER]',\\n}\\n\\nReport:\\nRight Breast:  Upper outer retroareolar oval shaped equal density masses with circumscribed margin is seen.  No suspicious microcalcifications.  Normal skin thickness and contour of breast.    Left Breast:  Two central inner irregular high density masses with speculated margin and ductal extension are noted.  No suspicious microcalcifications.  Normal skin thickness and contour of breast.      OPINION:  Right Breast:  Upper outer retroareolar benign looking masses (BIRADS 3).    Left Breast:  Two central inner malignant looking masses with ductal extension (BIRADS 5).                          \\n\\nAnswer according to the template:\\n{\\n'Nodule': 'right',\\n'Mass': 'right',\\n'Calcification': 'x',\\n'Asymmetry': 'x',\\n'Architectural Distortion': 'x',\\n'Skin Thickening': 'x',\\n'Lymph Node Enlargement': 'x',\\n'Intramammary Lymph Node': 'x',\\n'Nipple Retraction': 'x',\\n'Skin Retraction': 'x',\\n'Trabecular Thickening': 'x',\\n}\\n\\n\\n\\n\\n\\n\\n\\n\\n\\n\\n\\n\\n\\n\\n\\n\\n\\n\\n\\n\\n\\n\\n\\n\"]\n"
          ]
        },
        {
          "name": "stderr",
          "output_type": "stream",
          "text": [
            " 53%|█████▎    | 87/163 [3:15:34<2:51:38, 135.51s/it]"
          ]
        },
        {
          "name": "stdout",
          "output_type": "stream",
          "text": [
            "[\"As an AI trained in analyzing radiology reports, your task is to classify the presence or absence of specific findings in each report. Respond according to the given template. \\n\\nRequirements:\\n1. Provide the lesion's location as 'right', 'left' or 'both'(i.e, right and left) if the lesion is explicitly mentioned as present.\\n2. Provide 'obscure' if the information is incomplete.\\n3. Default to 'x' if the finding is not mentioned.\\n\\nTemplate:\\n{\\n'Nodule': '[ANSWER]',\\n'Mass': '[ANSWER]',\\n'Calcification': '[ANSWER]',\\n'Asymmetry': '[ANSWER]',\\n'Architectural Distortion': '[ANSWER]',\\n'Skin Thickening': '[ANSWER]',\\n'Lymph Node Enlargement': '[ANSWER]',\\n'Intramammary Lymph Node': '[ANSWER]',\\n'Nipple Retraction': '[ANSWER]',\\n'Skin Retraction': '[ANSWER]',\\n'Trabecular Thickening': '[ANSWER]',\\n}\\n\\nReport:\\nRight Breast:  ACR B: Scattered fibroglandular tissue.  No speculated mass lesions or suspicious microcalcifications.  Normal skin thickness and contour of breast.    Left Breast:  Status postoperative with flap reconstruction showing operative bed irregular high density mass with microlobulated margin.  No suspicious microcalcifications.  Normal skin thickness.          OPINION:    Right Breast:  Normal breast examination (BIRADS 1).    Left Breast:  Status postoperative with flap reconstruction showing operative bed suspicious looking mass (BIRADS 4).              \\n\\nAnswer according to the template:\\n{\\n'Nodule': 'obscure',\\n'Mass': 'left',\\n'Calcification': 'x',\\n'Asymmetry': 'x',\\n'Architectural Distortion': 'x',\\n'Skin Thickening': 'x',\\n'Lymph Node Enlargement': 'x',\\n'Intramammary Lymph Node': 'x',\\n'Nipple Retraction': 'x',\\n'Skin Retraction': 'x',\\n'Trabecular Thickening': 'x',\\n}\\n\\n\\n\\n\\n\\n\\n\\n\\n\\n\\n\\n\\n\\n\\n\\n\\n\\n\\n\\n\\n\\n\", \"As an AI trained in analyzing radiology reports, your task is to classify the presence or absence of specific findings in each report. Respond according to the given template. \\n\\nRequirements:\\n1. Provide the lesion's location as 'right', 'left' or 'both'(i.e, right and left) if the lesion is explicitly mentioned as present.\\n2. Provide 'obscure' if the information is incomplete.\\n3. Default to 'x' if the finding is not mentioned.\\n\\nTemplate:\\n{\\n'Nodule': '[ANSWER]',\\n'Mass': '[ANSWER]',\\n'Calcification': '[ANSWER]',\\n'Asymmetry': '[ANSWER]',\\n'Architectural Distortion': '[ANSWER]',\\n'Skin Thickening': '[ANSWER]',\\n'Lymph Node Enlargement': '[ANSWER]',\\n'Intramammary Lymph Node': '[ANSWER]',\\n'Nipple Retraction': '[ANSWER]',\\n'Skin Retraction': '[ANSWER]',\\n'Trabecular Thickening': '[ANSWER]',\\n}\\n\\nReport:\\nRight Breast:  Status postoperative showing operative scar and edema.  No speculated mass lesions or suspicious microcalcifications.    Left Breast:  ACR B: Scattered fibroglandular tissue.  Upper outer benign macrocalcification is noted.  Upper outer quadrant irregular high density mass with microlobulated margin is seen.  Normal skin thickness and contour of breast.        OPINION:  Right Breast:  Status post operative with operative scar and edema showing no evidence of recurrent lesions (BIRADS 2).    Left Breast:  Upper outer benign macrocalcification (BIRADS 2).  Upper outer suspicious looking mass (BIRADS 4).                        \\n\\nAnswer according to the template:\\n{\\n'Nodule': 'obscure',\\n'Mass': 'left',\\n'Calcification': 'left',\\n'Asymmetry': 'x',\\n'Architectural Distortion': 'x',\\n'Skin Thickening': 'x',\\n'Lymph Node Enlargement': 'x',\\n'Intramammary Lymph Node': 'x',\\n'Nipple Retraction': 'x',\\n'Skin Retraction': 'x',\\n'Trabecular Thickening': 'x',\\n}\\n\\n\\n\\n\\n\\n\\n\\n\\n\\n\\n\\n\\n\\n\\n\\n\\n\\n\\n\\n\\n\\n\"]\n"
          ]
        },
        {
          "name": "stderr",
          "output_type": "stream",
          "text": [
            " 54%|█████▍    | 88/163 [3:17:49<2:49:18, 135.44s/it]"
          ]
        },
        {
          "name": "stdout",
          "output_type": "stream",
          "text": [
            "[\"As an AI trained in analyzing radiology reports, your task is to classify the presence or absence of specific findings in each report. Respond according to the given template. \\n\\nRequirements:\\n1. Provide the lesion's location as 'right', 'left' or 'both'(i.e, right and left) if the lesion is explicitly mentioned as present.\\n2. Provide 'obscure' if the information is incomplete.\\n3. Default to 'x' if the finding is not mentioned.\\n\\nTemplate:\\n{\\n'Nodule': '[ANSWER]',\\n'Mass': '[ANSWER]',\\n'Calcification': '[ANSWER]',\\n'Asymmetry': '[ANSWER]',\\n'Architectural Distortion': '[ANSWER]',\\n'Skin Thickening': '[ANSWER]',\\n'Lymph Node Enlargement': '[ANSWER]',\\n'Intramammary Lymph Node': '[ANSWER]',\\n'Nipple Retraction': '[ANSWER]',\\n'Skin Retraction': '[ANSWER]',\\n'Trabecular Thickening': '[ANSWER]',\\n}\\n\\nReport:\\nRight Breast:  No speculated mass lesions or suspicious microcalcifications.  Normal skin thickness and contour of breast.      OPINION:  Right Breast:  Normal breast examination (BIRADS 1).                                    \\n\\nAnswer according to the template:\\n{\\n'Nodule': 'obscure',\\n'Mass': 'obscure',\\n'Calcification': 'obscure',\\n'Asymmetry': 'obscure',\\n'Architectural Distortion': 'obscure',\\n'Skin Thickening': 'obscure',\\n'Lymph Node Enlargement': 'obscure',\\n'Intramammary Lymph Node': 'obscure',\\n'Nipple Retraction': 'obscure',\\n'Skin Retraction': 'obscure',\\n'Trabecular Thickening': 'obscure',\\n}\\n\\n\", \"As an AI trained in analyzing radiology reports, your task is to classify the presence or absence of specific findings in each report. Respond according to the given template. \\n\\nRequirements:\\n1. Provide the lesion's location as 'right', 'left' or 'both'(i.e, right and left) if the lesion is explicitly mentioned as present.\\n2. Provide 'obscure' if the information is incomplete.\\n3. Default to 'x' if the finding is not mentioned.\\n\\nTemplate:\\n{\\n'Nodule': '[ANSWER]',\\n'Mass': '[ANSWER]',\\n'Calcification': '[ANSWER]',\\n'Asymmetry': '[ANSWER]',\\n'Architectural Distortion': '[ANSWER]',\\n'Skin Thickening': '[ANSWER]',\\n'Lymph Node Enlargement': '[ANSWER]',\\n'Intramammary Lymph Node': '[ANSWER]',\\n'Nipple Retraction': '[ANSWER]',\\n'Skin Retraction': '[ANSWER]',\\n'Trabecular Thickening': '[ANSWER]',\\n}\\n\\nReport:\\nRight Breast:  Regional microcalcifications with clusters and edema pattern are noted.    Left Breast:  No speculated mass lesions or suspicious microcalcifications.  Normal skin thickness and contour of breast.      OPINION:  Right Breast:  Regional suspicious looking microcalcifications associated with edema pattern (BIRADS 4).    Left Breast:  Normal breast examination (BIRADS 1).                          \\n\\nAnswer according to the template:\\n{\\n'Nodule': 'obscure',\\n'Mass': 'obscure',\\n'Calcification': 'right',\\n'Asymmetry': 'obscure',\\n'Architectural Distortion': 'obscure',\\n'Skin Thickening': 'obscure',\\n'Lymph Node Enlargement': 'obscure',\\n'Intramammary Lymph Node': 'obscure',\\n'Nipple Retraction': 'obscure',\\n'Skin Retraction': 'obscure',\\n'Trabecular Thickening': 'obscure',\\n}\\n\\n\\n\\n\"]\n"
          ]
        },
        {
          "name": "stderr",
          "output_type": "stream",
          "text": [
            " 55%|█████▍    | 89/163 [3:20:05<2:47:02, 135.44s/it]"
          ]
        },
        {
          "name": "stdout",
          "output_type": "stream",
          "text": [
            "[\"As an AI trained in analyzing radiology reports, your task is to classify the presence or absence of specific findings in each report. Respond according to the given template. \\n\\nRequirements:\\n1. Provide the lesion's location as 'right', 'left' or 'both'(i.e, right and left) if the lesion is explicitly mentioned as present.\\n2. Provide 'obscure' if the information is incomplete.\\n3. Default to 'x' if the finding is not mentioned.\\n\\nTemplate:\\n{\\n'Nodule': '[ANSWER]',\\n'Mass': '[ANSWER]',\\n'Calcification': '[ANSWER]',\\n'Asymmetry': '[ANSWER]',\\n'Architectural Distortion': '[ANSWER]',\\n'Skin Thickening': '[ANSWER]',\\n'Lymph Node Enlargement': '[ANSWER]',\\n'Intramammary Lymph Node': '[ANSWER]',\\n'Nipple Retraction': '[ANSWER]',\\n'Skin Retraction': '[ANSWER]',\\n'Trabecular Thickening': '[ANSWER]',\\n}\\n\\nReport:\\nRight Breast:  Lower central irregular high density mass with indistinct margin and nipple retraction associated with edema pattern.  No suspicious microcalcifications.    Left Breast:  Lower inner quadrant rounded equal density mass with circumscribed margin is seen.  No suspicious microcalcifications.  Normal skin thickness and contour of breast.      OPINION:  Right Breast:  Lower central malignant looking mass with nipple retraction and edema pattern (BIRADS 5).    Left Breast:  Lower inner benign looking mass (BIRADS 3).                          \\n\\nAnswer according to the template:\\n{\\n'Nodule': 'right',\\n'Mass': 'right',\\n'Calcification': 'x',\\n'Asymmetry': 'right',\\n'Architectural Distortion': 'x',\\n'Skin Thickening': 'x',\\n'Lymph Node Enlargement': 'x',\\n'Intramammary Lymph Node': 'x',\\n'Nipple Retraction': 'right',\\n'Skin Retraction': 'right',\\n'Trabecular Thickening': 'x',\\n}\\n\\n\\n\\n\\n\\n\\n\\n\\n\\n\\n\\n\\n\\n\\n\\n\\n\\n\\n\\n\\n\\n\\n\\n\", \"As an AI trained in analyzing radiology reports, your task is to classify the presence or absence of specific findings in each report. Respond according to the given template. \\n\\nRequirements:\\n1. Provide the lesion's location as 'right', 'left' or 'both'(i.e, right and left) if the lesion is explicitly mentioned as present.\\n2. Provide 'obscure' if the information is incomplete.\\n3. Default to 'x' if the finding is not mentioned.\\n\\nTemplate:\\n{\\n'Nodule': '[ANSWER]',\\n'Mass': '[ANSWER]',\\n'Calcification': '[ANSWER]',\\n'Asymmetry': '[ANSWER]',\\n'Architectural Distortion': '[ANSWER]',\\n'Skin Thickening': '[ANSWER]',\\n'Lymph Node Enlargement': '[ANSWER]',\\n'Intramammary Lymph Node': '[ANSWER]',\\n'Nipple Retraction': '[ANSWER]',\\n'Skin Retraction': '[ANSWER]',\\n'Trabecular Thickening': '[ANSWER]',\\n}\\n\\nReport:\\nRight Breast:  No speculated mass lesions or suspicious microcalcifications.  Normal skin thickness and contour of breast.      OPINION:  Right Breast:  Normal breast examination (BIRADS 1).                                      \\n\\nAnswer according to the template:\\n{\\n'Nodule': 'x',\\n'Mass': 'x',\\n'Calcification': 'x',\\n'Asymmetry': 'x',\\n'Architectural Distortion': 'x',\\n'Skin Thickening': 'x',\\n'Lymph Node Enlargement': 'x',\\n'Intramammary Lymph Node': 'x',\\n'Nipple Retraction': 'x',\\n'Skin Retraction': 'x',\\n'Trabecular Thickening': 'x',\\n}\\n\\nReport:\\nRight Breast:  No speculated mass lesions or suspicious microcalcifications. \"]\n"
          ]
        },
        {
          "name": "stderr",
          "output_type": "stream",
          "text": [
            " 55%|█████▌    | 90/163 [3:22:20<2:44:44, 135.41s/it]"
          ]
        },
        {
          "name": "stdout",
          "output_type": "stream",
          "text": [
            "[\"As an AI trained in analyzing radiology reports, your task is to classify the presence or absence of specific findings in each report. Respond according to the given template. \\n\\nRequirements:\\n1. Provide the lesion's location as 'right', 'left' or 'both'(i.e, right and left) if the lesion is explicitly mentioned as present.\\n2. Provide 'obscure' if the information is incomplete.\\n3. Default to 'x' if the finding is not mentioned.\\n\\nTemplate:\\n{\\n'Nodule': '[ANSWER]',\\n'Mass': '[ANSWER]',\\n'Calcification': '[ANSWER]',\\n'Asymmetry': '[ANSWER]',\\n'Architectural Distortion': '[ANSWER]',\\n'Skin Thickening': '[ANSWER]',\\n'Lymph Node Enlargement': '[ANSWER]',\\n'Intramammary Lymph Node': '[ANSWER]',\\n'Nipple Retraction': '[ANSWER]',\\n'Skin Retraction': '[ANSWER]',\\n'Trabecular Thickening': '[ANSWER]',\\n}\\n\\nReport:\\nLeft Breast:  No speculated mass lesions or suspicious microcalcifications.  Normal skin thickness and contour of breast.      OPINION:  Left Breast:  Normal breast examination (BIRADS 1).                                      \\n\\nAnswer according to the template:\\n{\\n'Nodule': 'obscure',\\n'Mass': 'obscure',\\n'Calcification': 'obscure',\\n'Asymmetry': 'obscure',\\n'Architectural Distortion': 'obscure',\\n'Skin Thickening': 'obscure',\\n'Lymph Node Enlargement': 'obscure',\\n'Intramammary Lymph Node': 'obscure',\\n'Nipple Retraction': 'obscure',\\n'Skin Retraction': 'obscure',\\n'Trabecular Thickening': 'obscure',\\n}\\n\\n\", \"As an AI trained in analyzing radiology reports, your task is to classify the presence or absence of specific findings in each report. Respond according to the given template. \\n\\nRequirements:\\n1. Provide the lesion's location as 'right', 'left' or 'both'(i.e, right and left) if the lesion is explicitly mentioned as present.\\n2. Provide 'obscure' if the information is incomplete.\\n3. Default to 'x' if the finding is not mentioned.\\n\\nTemplate:\\n{\\n'Nodule': '[ANSWER]',\\n'Mass': '[ANSWER]',\\n'Calcification': '[ANSWER]',\\n'Asymmetry': '[ANSWER]',\\n'Architectural Distortion': '[ANSWER]',\\n'Skin Thickening': '[ANSWER]',\\n'Lymph Node Enlargement': '[ANSWER]',\\n'Intramammary Lymph Node': '[ANSWER]',\\n'Nipple Retraction': '[ANSWER]',\\n'Skin Retraction': '[ANSWER]',\\n'Trabecular Thickening': '[ANSWER]',\\n}\\n\\nReport:\\nRight Breast:  Central inner quadrant rounded high density mass with microlobulated margin is seen.  No suspicious microcalcifications.  Normal skin thickness and contour of breast.    Left Breast:  No speculated mass lesions or suspicious microcalcifications.  Normal skin thickness and contour of breast.      OPINION:  Right Breast:  Central inner suspicious looking mass (BIRADS 4).    Left Breast:  Normal breast examination (BIRADS 1).                          \\n\\nAnswer according to the template:\\n{\\n'Nodule': 'right',\\n'Mass': 'right',\\n'Calcification': 'x',\\n'Asymmetry': 'x',\\n'Architectural Distortion': 'x',\\n'Skin Thickening': 'x',\\n'Lymph Node Enlargement': 'x',\\n'Intramammary Lymph Node': 'x',\\n'Nipple Retraction': 'x',\\n'Skin Retraction': 'x',\\n'Trabecular Thickening': 'x',\\n}\\n\\n\\n\\n\\n\\n\\n\\n\\n\\n\\n\\n\\n\\n\\n\\n\\n\\n\\n\\n\\n\\n\\n\\n\"]\n"
          ]
        },
        {
          "name": "stderr",
          "output_type": "stream",
          "text": [
            " 56%|█████▌    | 91/163 [3:24:36<2:42:28, 135.40s/it]"
          ]
        },
        {
          "name": "stdout",
          "output_type": "stream",
          "text": [
            "[\"As an AI trained in analyzing radiology reports, your task is to classify the presence or absence of specific findings in each report. Respond according to the given template. \\n\\nRequirements:\\n1. Provide the lesion's location as 'right', 'left' or 'both'(i.e, right and left) if the lesion is explicitly mentioned as present.\\n2. Provide 'obscure' if the information is incomplete.\\n3. Default to 'x' if the finding is not mentioned.\\n\\nTemplate:\\n{\\n'Nodule': '[ANSWER]',\\n'Mass': '[ANSWER]',\\n'Calcification': '[ANSWER]',\\n'Asymmetry': '[ANSWER]',\\n'Architectural Distortion': '[ANSWER]',\\n'Skin Thickening': '[ANSWER]',\\n'Lymph Node Enlargement': '[ANSWER]',\\n'Intramammary Lymph Node': '[ANSWER]',\\n'Nipple Retraction': '[ANSWER]',\\n'Skin Retraction': '[ANSWER]',\\n'Trabecular Thickening': '[ANSWER]',\\n}\\n\\nReport:\\nRight Breast:  No speculated mass lesions or suspicious microcalcifications.  Normal skin thickness and contour of breast.    Left Breast:  Upper outer quadrant asymmetrical increased density is noted.  Upper outer IMLN is also noted.  No suspicious microcalcifications.  Normal skin thickness.      OPINION:  Right Breast:  Normal breast examination (BIRADS 1).    Left Breast:  Upper outer asymmetry and IMLN (BIRADS 3).                          \\n\\nAnswer according to the template:\\n{\\n'Nodule': 'obscure',\\n'Mass': 'obscure',\\n'Calcification': 'obscure',\\n'Asymmetry': 'left',\\n'Architectural Distortion': 'x',\\n'Skin Thickening': 'x',\\n'Lymph Node Enlargement': 'left',\\n'Intramammary Lymph Node': 'left',\\n'Nipple Retraction': 'x',\\n'Skin Retraction': 'x',\\n'Trabecular Thickening': 'x',\\n}\\n\\n\\n\\n\\n\\n\\n\\n\\n\\n\\n\\n\\n\\n\\n\\n\\n\\n\", \"As an AI trained in analyzing radiology reports, your task is to classify the presence or absence of specific findings in each report. Respond according to the given template. \\n\\nRequirements:\\n1. Provide the lesion's location as 'right', 'left' or 'both'(i.e, right and left) if the lesion is explicitly mentioned as present.\\n2. Provide 'obscure' if the information is incomplete.\\n3. Default to 'x' if the finding is not mentioned.\\n\\nTemplate:\\n{\\n'Nodule': '[ANSWER]',\\n'Mass': '[ANSWER]',\\n'Calcification': '[ANSWER]',\\n'Asymmetry': '[ANSWER]',\\n'Architectural Distortion': '[ANSWER]',\\n'Skin Thickening': '[ANSWER]',\\n'Lymph Node Enlargement': '[ANSWER]',\\n'Intramammary Lymph Node': '[ANSWER]',\\n'Nipple Retraction': '[ANSWER]',\\n'Skin Retraction': '[ANSWER]',\\n'Trabecular Thickening': '[ANSWER]',\\n}\\n\\nReport:\\nRight Breast:  Status postoperative showing operative scar with no speculated mass lesions or suspicious microcalcifications.      OPINION:  Right Breast:  Status post operative with operative scar showing no evidence of recurrent lesions (BIRADS 2).                                  \\n\\nAnswer according to the template:\\n{\\n'Nodule': 'obscure',\\n'Mass': 'obscure',\\n'Calcification': 'obscure',\\n'Asymmetry': 'obscure',\\n'Architectural Distortion': 'obscure',\\n'Skin Thickening': 'obscure',\\n'Lymph Node Enlargement': 'obscure',\\n'Intramammary Lymph Node': 'obscure',\\n'Nipple Retraction': 'obscure',\\n'Skin Retraction': 'obscure',\\n'Trabecular Thickening': 'obscure',\\n}\\n\\n\"]\n"
          ]
        },
        {
          "name": "stderr",
          "output_type": "stream",
          "text": [
            " 56%|█████▋    | 92/163 [3:26:51<2:40:14, 135.41s/it]"
          ]
        },
        {
          "name": "stdout",
          "output_type": "stream",
          "text": [
            "[\"As an AI trained in analyzing radiology reports, your task is to classify the presence or absence of specific findings in each report. Respond according to the given template. \\n\\nRequirements:\\n1. Provide the lesion's location as 'right', 'left' or 'both'(i.e, right and left) if the lesion is explicitly mentioned as present.\\n2. Provide 'obscure' if the information is incomplete.\\n3. Default to 'x' if the finding is not mentioned.\\n\\nTemplate:\\n{\\n'Nodule': '[ANSWER]',\\n'Mass': '[ANSWER]',\\n'Calcification': '[ANSWER]',\\n'Asymmetry': '[ANSWER]',\\n'Architectural Distortion': '[ANSWER]',\\n'Skin Thickening': '[ANSWER]',\\n'Lymph Node Enlargement': '[ANSWER]',\\n'Intramammary Lymph Node': '[ANSWER]',\\n'Nipple Retraction': '[ANSWER]',\\n'Skin Retraction': '[ANSWER]',\\n'Trabecular Thickening': '[ANSWER]',\\n}\\n\\nReport:\\nRight Breast:  No speculated mass lesions or suspicious microcalcifications.  Normal skin thickness and contour of breast.    Left Breast:  Diffuse edematous changes evidenced by increased skin thickness and coarsened trabeculae.  No suspicious microcalcifications.      OPINION:  Right Breast:  Normal breast examination (BIRADS 1).    Left Breast:  Diffuse edematous changes (BIRADS 4).                          \\n\\nAnswer according to the template:\\n{\\n'Nodule': 'obscure',\\n'Mass': 'obscure',\\n'Calcification': 'obscure',\\n'Asymmetry': 'obscure',\\n'Architectural Distortion': 'obscure',\\n'Skin Thickening': 'obscure',\\n'Lymph Node Enlargement': 'obscure',\\n'Intramammary Lymph Node': 'obscure',\\n'Nipple Retraction': 'obscure',\\n'Skin Retraction': 'obscure',\\n'Trabecular Thickening': 'obscure',\\n}\\n\\n\", \"As an AI trained in analyzing radiology reports, your task is to classify the presence or absence of specific findings in each report. Respond according to the given template. \\n\\nRequirements:\\n1. Provide the lesion's location as 'right', 'left' or 'both'(i.e, right and left) if the lesion is explicitly mentioned as present.\\n2. Provide 'obscure' if the information is incomplete.\\n3. Default to 'x' if the finding is not mentioned.\\n\\nTemplate:\\n{\\n'Nodule': '[ANSWER]',\\n'Mass': '[ANSWER]',\\n'Calcification': '[ANSWER]',\\n'Asymmetry': '[ANSWER]',\\n'Architectural Distortion': '[ANSWER]',\\n'Skin Thickening': '[ANSWER]',\\n'Lymph Node Enlargement': '[ANSWER]',\\n'Intramammary Lymph Node': '[ANSWER]',\\n'Nipple Retraction': '[ANSWER]',\\n'Skin Retraction': '[ANSWER]',\\n'Trabecular Thickening': '[ANSWER]',\\n}\\n\\nReport:\\nRight Breast:  Status postoperative showing operative bed with multiple irregular high density masses with speculated margin.  No suspicious microcalcifications.      Left Breast:  Status postoperative showing operative scar with no speculated mass lesions or suspicious microcalcifications.      OPINION:  Right Breast:  Status post operative with operative bed showing multiple malignant looking masses (BIRADS 5).    Left Breast:  Status post operative with operative scar showing no evidence of recurrent lesions (BIRADS 2).                        \\n\\nAnswer according to the template:\\n{\\n'Nodule': 'right',\\n'Mass': 'right',\\n'Calcification': 'obscure',\\n'Asymmetry': 'obscure',\\n'Architectural Distortion': 'obscure',\\n'Skin Thickening': 'obscure',\\n'Lymph Node Enlargement': 'obscure',\\n'Intramammary Lymph Node': 'obscure',\\n'Nipple Retraction': 'obscure',\\n'Skin Retraction': 'obscure',\\n'Trabecular Thickening': 'obscure',\\n}\\n\\n\\n\\n\\n\\n\"]\n"
          ]
        },
        {
          "name": "stderr",
          "output_type": "stream",
          "text": [
            " 57%|█████▋    | 93/163 [3:29:07<2:38:06, 135.52s/it]"
          ]
        },
        {
          "name": "stdout",
          "output_type": "stream",
          "text": [
            "[\"As an AI trained in analyzing radiology reports, your task is to classify the presence or absence of specific findings in each report. Respond according to the given template. \\n\\nRequirements:\\n1. Provide the lesion's location as 'right', 'left' or 'both'(i.e, right and left) if the lesion is explicitly mentioned as present.\\n2. Provide 'obscure' if the information is incomplete.\\n3. Default to 'x' if the finding is not mentioned.\\n\\nTemplate:\\n{\\n'Nodule': '[ANSWER]',\\n'Mass': '[ANSWER]',\\n'Calcification': '[ANSWER]',\\n'Asymmetry': '[ANSWER]',\\n'Architectural Distortion': '[ANSWER]',\\n'Skin Thickening': '[ANSWER]',\\n'Lymph Node Enlargement': '[ANSWER]',\\n'Intramammary Lymph Node': '[ANSWER]',\\n'Nipple Retraction': '[ANSWER]',\\n'Skin Retraction': '[ANSWER]',\\n'Trabecular Thickening': '[ANSWER]',\\n}\\n\\nReport:\\nRight Breast:  No speculated mass lesions or suspicious microcalcifications.  Normal skin thickness and contour of breast.    Left Breast:  No speculated mass lesions or suspicious microcalcifications.  Normal skin thickness and contour of breast.      OPINION:  Right Breast:  Normal breast examination (BIRADS 1).    Left Breast:  Normal breast examination (BIRADS 1).                          \\n\\nAnswer according to the template:\\n{\\n'Nodule': 'obscure',\\n'Mass': 'obscure',\\n'Calcification': 'obscure',\\n'Asymmetry': 'obscure',\\n'Architectural Distortion': 'obscure',\\n'Skin Thickening': 'obscure',\\n'Lymph Node Enlargement': 'obscure',\\n'Intramammary Lymph Node': 'obscure',\\n'Nipple Retraction': 'obscure',\\n'Skin Retraction': 'obscure',\\n'Trabecular Thickening': 'obscure',\\n}\\n\\n\", \"As an AI trained in analyzing radiology reports, your task is to classify the presence or absence of specific findings in each report. Respond according to the given template. \\n\\nRequirements:\\n1. Provide the lesion's location as 'right', 'left' or 'both'(i.e, right and left) if the lesion is explicitly mentioned as present.\\n2. Provide 'obscure' if the information is incomplete.\\n3. Default to 'x' if the finding is not mentioned.\\n\\nTemplate:\\n{\\n'Nodule': '[ANSWER]',\\n'Mass': '[ANSWER]',\\n'Calcification': '[ANSWER]',\\n'Asymmetry': '[ANSWER]',\\n'Architectural Distortion': '[ANSWER]',\\n'Skin Thickening': '[ANSWER]',\\n'Lymph Node Enlargement': '[ANSWER]',\\n'Intramammary Lymph Node': '[ANSWER]',\\n'Nipple Retraction': '[ANSWER]',\\n'Skin Retraction': '[ANSWER]',\\n'Trabecular Thickening': '[ANSWER]',\\n}\\n\\nReport:\\nRight Breast:  Status postoperative showing operative scar with no speculated mass lesions or suspicious microcalcifications.  Outer benign macrocalcifications.      Left Breast:  Status postoperative showing operative scar with no speculated mass lesions.  Lower central cluster of microcalcifications.      OPINION:  Right Breast:  Status post operative with operative scar showing no evidence of recurrent lesions (BIRADS 2).  Outer benign macrocalcifications (BIRADS 2).    Left Breast:  Status post operative with operative scar showing no evidence of recurrent mass lesions.  Lower central suspicious microcalcifications (BIRADS 4).                        \\n\\nAnswer according to the template:\\n{\\n'Nodule': 'obscure',\\n'Mass': 'obscure',\\n'Calcification': 'both',\\n'Asymmetry': 'x',\\n'Architectural Distortion': 'x',\\n'Skin Thickening': 'x',\\n'Lymph Node Enlargement': 'x',\\n'Intramammary Lymph Node': 'x',\\n'Nipple Retraction': 'x',\\n'Skin Retraction': 'x',\\n'Trabecular Thickening': 'x',\\n}\\n\\n\\n\\n\\n\\n\\n\\n\\n\\n\\n\\n\\n\\n\\n\\n\\n\\n\\n\\n\"]\n"
          ]
        },
        {
          "name": "stderr",
          "output_type": "stream",
          "text": [
            " 58%|█████▊    | 94/163 [3:31:23<2:35:56, 135.60s/it]"
          ]
        },
        {
          "name": "stdout",
          "output_type": "stream",
          "text": [
            "[\"As an AI trained in analyzing radiology reports, your task is to classify the presence or absence of specific findings in each report. Respond according to the given template. \\n\\nRequirements:\\n1. Provide the lesion's location as 'right', 'left' or 'both'(i.e, right and left) if the lesion is explicitly mentioned as present.\\n2. Provide 'obscure' if the information is incomplete.\\n3. Default to 'x' if the finding is not mentioned.\\n\\nTemplate:\\n{\\n'Nodule': '[ANSWER]',\\n'Mass': '[ANSWER]',\\n'Calcification': '[ANSWER]',\\n'Asymmetry': '[ANSWER]',\\n'Architectural Distortion': '[ANSWER]',\\n'Skin Thickening': '[ANSWER]',\\n'Lymph Node Enlargement': '[ANSWER]',\\n'Intramammary Lymph Node': '[ANSWER]',\\n'Nipple Retraction': '[ANSWER]',\\n'Skin Retraction': '[ANSWER]',\\n'Trabecular Thickening': '[ANSWER]',\\n}\\n\\nReport:\\nRight Breast:  Retroareolar asymmetrical increased density and dilated ducts.  No suspicious microcalcifications.  Normal skin thickness and contour of breast.    Left Breast:  No speculated mass lesions or suspicious microcalcifications.  Retroareolar increased density that is tubular in shape likely dilated duct.  Normal skin thickness and contour of breast.      OPINION:  Right Breast:  Retroareolar asymmetry with an ill defined lesion and dilated ducts (BIRADS 4).    Left Breast:  Dilated retroareolar duct (BIRADS 2).                  \\n\\nAnswer according to the template:\\n{\\n'Nodule': 'obscure',\\n'Mass': 'obscure',\\n'Calcification': 'x',\\n'Asymmetry': 'right',\\n'Architectural Distortion': 'x',\\n'Skin Thickening': 'x',\\n'Lymph Node Enlargement': 'x',\\n'Intramammary Lymph Node': 'x',\\n'Nipple Retraction': 'x',\\n'Skin Retraction': 'x',\\n'Trabecular Thickening': 'x',\\n}\\n\\n\\n\\n\\n\\n\\n\\n\\n\\n\\n\\n\\n\\n\\n\\n\\n\\n\\n\\n\", \"As an AI trained in analyzing radiology reports, your task is to classify the presence or absence of specific findings in each report. Respond according to the given template. \\n\\nRequirements:\\n1. Provide the lesion's location as 'right', 'left' or 'both'(i.e, right and left) if the lesion is explicitly mentioned as present.\\n2. Provide 'obscure' if the information is incomplete.\\n3. Default to 'x' if the finding is not mentioned.\\n\\nTemplate:\\n{\\n'Nodule': '[ANSWER]',\\n'Mass': '[ANSWER]',\\n'Calcification': '[ANSWER]',\\n'Asymmetry': '[ANSWER]',\\n'Architectural Distortion': '[ANSWER]',\\n'Skin Thickening': '[ANSWER]',\\n'Lymph Node Enlargement': '[ANSWER]',\\n'Intramammary Lymph Node': '[ANSWER]',\\n'Nipple Retraction': '[ANSWER]',\\n'Skin Retraction': '[ANSWER]',\\n'Trabecular Thickening': '[ANSWER]',\\n}\\n\\nReport:\\nRight Breast:  Upper outer quadrant irregular high density mass with speculated margin and edema pattern are seen.  No suspicious microcalcifications.    Left Breast:  No speculated mass lesions or suspicious microcalcifications.  Normal skin thickness and contour of breast.      OPINION:  Right Breast:  Upper outer malignant looking mass and edema pattern (BIRADS 5).    Left Breast:  Normal breast examination (BIRADS 1).                          \\n\\nAnswer according to the template:\\n{\\n'Nodule': 'right',\\n'Mass': 'right',\\n'Calcification': 'x',\\n'Asymmetry': 'x',\\n'Architectural Distortion': 'x',\\n'Skin Thickening': 'x',\\n'Lymph Node Enlargement': 'x',\\n'Intramammary Lymph Node': 'x',\\n'Nipple Retraction': 'x',\\n'Skin Retraction': 'x',\\n'Trabecular Thickening': 'x',\\n}\\n\\n\\n\\n\\n\\n\\n\\n\\n\\n\\n\\n\\n\\n\\n\\n\\n\\n\\n\\n\\n\\n\\n\\n\"]\n"
          ]
        },
        {
          "name": "stderr",
          "output_type": "stream",
          "text": [
            " 58%|█████▊    | 95/163 [3:33:38<2:33:37, 135.55s/it]"
          ]
        },
        {
          "name": "stdout",
          "output_type": "stream",
          "text": [
            "[\"As an AI trained in analyzing radiology reports, your task is to classify the presence or absence of specific findings in each report. Respond according to the given template. \\n\\nRequirements:\\n1. Provide the lesion's location as 'right', 'left' or 'both'(i.e, right and left) if the lesion is explicitly mentioned as present.\\n2. Provide 'obscure' if the information is incomplete.\\n3. Default to 'x' if the finding is not mentioned.\\n\\nTemplate:\\n{\\n'Nodule': '[ANSWER]',\\n'Mass': '[ANSWER]',\\n'Calcification': '[ANSWER]',\\n'Asymmetry': '[ANSWER]',\\n'Architectural Distortion': '[ANSWER]',\\n'Skin Thickening': '[ANSWER]',\\n'Lymph Node Enlargement': '[ANSWER]',\\n'Intramammary Lymph Node': '[ANSWER]',\\n'Nipple Retraction': '[ANSWER]',\\n'Skin Retraction': '[ANSWER]',\\n'Trabecular Thickening': '[ANSWER]',\\n}\\n\\nReport:\\nRight Breast:  No speculated mass lesions or suspicious microcalcifications.  Normal skin thickness and contour of breast.    Left Breast:  Three outer central rounded and oval shaped high density masses with indistinct margin are seen.  No suspicious microcalcifications.  Normal skin thickness and contour of breast.      OPINION:  Right Breast:  Normal breast examination (BIRADS 1).    Left Breast:  Three outer suspicious looking masses (BIRADS 4).                          \\n\\nAnswer according to the template:\\n{\\n'Nodule': 'obscure',\\n'Mass': 'left',\\n'Calcification': 'x',\\n'Asymmetry': 'x',\\n'Architectural Distortion': 'x',\\n'Skin Thickening': 'x',\\n'Lymph Node Enlargement': 'x',\\n'Intramammary Lymph Node': 'x',\\n'Nipple Retraction': 'x',\\n'Skin Retraction': 'x',\\n'Trabecular Thickening': 'x',\\n}\\n\\n\\n\\n\\n\\n\\n\\n\\n\\n\\n\\n\\n\\n\\n\\n\\n\\n\\n\\n\\n\\n\", \"As an AI trained in analyzing radiology reports, your task is to classify the presence or absence of specific findings in each report. Respond according to the given template. \\n\\nRequirements:\\n1. Provide the lesion's location as 'right', 'left' or 'both'(i.e, right and left) if the lesion is explicitly mentioned as present.\\n2. Provide 'obscure' if the information is incomplete.\\n3. Default to 'x' if the finding is not mentioned.\\n\\nTemplate:\\n{\\n'Nodule': '[ANSWER]',\\n'Mass': '[ANSWER]',\\n'Calcification': '[ANSWER]',\\n'Asymmetry': '[ANSWER]',\\n'Architectural Distortion': '[ANSWER]',\\n'Skin Thickening': '[ANSWER]',\\n'Lymph Node Enlargement': '[ANSWER]',\\n'Intramammary Lymph Node': '[ANSWER]',\\n'Nipple Retraction': '[ANSWER]',\\n'Skin Retraction': '[ANSWER]',\\n'Trabecular Thickening': '[ANSWER]',\\n}\\n\\nReport:\\nRight Breast:  No speculated mass lesions or suspicious microcalcifications.  Normal skin thickness and contour of breast.    Left Breast:  Upper outer quadrant irregular high density mass with speculated margin and edema pattern are seen.  No suspicious microcalcifications.      OPINION:  Right Breast:  Normal breast examination (BIRADS 1).    Left Breast:  Upper outer suspicious looking mass and edema pattern (BIRADS 4).                          \\n\\nAnswer according to the template:\\n{\\n'Nodule': 'left',\\n'Mass': 'left',\\n'Calcification': 'x',\\n'Asymmetry': 'x',\\n'Architectural Distortion': 'x',\\n'Skin Thickening': 'x',\\n'Lymph Node Enlargement': 'x',\\n'Intramammary Lymph Node': 'x',\\n'Nipple Retraction': 'x',\\n'Skin Retraction': 'x',\\n'Trabecular Thickening': 'x',\\n}\\n\\n\\n\\n\\n\\n\\n\\n\\n\\n\\n\\n\\n\\n\\n\\n\\n\\n\\n\\n\\n\\n\\n\\n\"]\n"
          ]
        },
        {
          "name": "stderr",
          "output_type": "stream",
          "text": [
            " 59%|█████▉    | 96/163 [3:35:54<2:31:27, 135.63s/it]"
          ]
        },
        {
          "name": "stdout",
          "output_type": "stream",
          "text": [
            "[\"As an AI trained in analyzing radiology reports, your task is to classify the presence or absence of specific findings in each report. Respond according to the given template. \\n\\nRequirements:\\n1. Provide the lesion's location as 'right', 'left' or 'both'(i.e, right and left) if the lesion is explicitly mentioned as present.\\n2. Provide 'obscure' if the information is incomplete.\\n3. Default to 'x' if the finding is not mentioned.\\n\\nTemplate:\\n{\\n'Nodule': '[ANSWER]',\\n'Mass': '[ANSWER]',\\n'Calcification': '[ANSWER]',\\n'Asymmetry': '[ANSWER]',\\n'Architectural Distortion': '[ANSWER]',\\n'Skin Thickening': '[ANSWER]',\\n'Lymph Node Enlargement': '[ANSWER]',\\n'Intramammary Lymph Node': '[ANSWER]',\\n'Nipple Retraction': '[ANSWER]',\\n'Skin Retraction': '[ANSWER]',\\n'Trabecular Thickening': '[ANSWER]',\\n}\\n\\nReport:\\nRight Breast:  Central outer oval shaped equal density mass with circumscribed margin is seen.  Upper outer benign macrocalcification is noted.  No suspicious microcalcifications.  Normal skin thickness and contour of breast.    Left Breast:  Multiple upper and central outer irregular high density masses with indistinct margin are seen.  No suspicious microcalcifications.  Normal skin thickness and contour of breast.      OPINION:  Right Breast:  Central outer benign looking mass (BIRADS 3).  Upper outer benign macrocalcification (BIRADS 2).    Left Breast:  Multiple upper and central outer suspicious looking masses (BIRADS 4).                          \\n\\nAnswer according to the template:\\n{\\n'Nodule': 'both',\\n'Mass': 'both',\\n'Calcification': 'right',\\n'Asymmetry': 'left',\\n'Architectural Distortion': 'x',\\n'Skin Thickening': 'x',\\n'Lymph Node Enlargement': 'x',\\n'Intramammary Lymph Node': 'x',\\n'Nipple Retraction': 'x',\\n'Skin Retraction': 'x',\\n'Trabecular Thickening': 'x',\\n}\\n\\n\\n\\n\\n\\n\\n\\n\\n\\n\\n\\n\\n\\n\\n\\n\\n\\n\\n\\n\\n\\n\\n\\n\", \"As an AI trained in analyzing radiology reports, your task is to classify the presence or absence of specific findings in each report. Respond according to the given template. \\n\\nRequirements:\\n1. Provide the lesion's location as 'right', 'left' or 'both'(i.e, right and left) if the lesion is explicitly mentioned as present.\\n2. Provide 'obscure' if the information is incomplete.\\n3. Default to 'x' if the finding is not mentioned.\\n\\nTemplate:\\n{\\n'Nodule': '[ANSWER]',\\n'Mass': '[ANSWER]',\\n'Calcification': '[ANSWER]',\\n'Asymmetry': '[ANSWER]',\\n'Architectural Distortion': '[ANSWER]',\\n'Skin Thickening': '[ANSWER]',\\n'Lymph Node Enlargement': '[ANSWER]',\\n'Intramammary Lymph Node': '[ANSWER]',\\n'Nipple Retraction': '[ANSWER]',\\n'Skin Retraction': '[ANSWER]',\\n'Trabecular Thickening': '[ANSWER]',\\n}\\n\\nReport:\\nRight Breast:  Upper outer benign macrocalcifications are noted.  No speculated mass lesions or suspicious microcalcifications.  Normal skin thickness and contour of breast.    Left Breast:  Few scattered benign macrocalcifications are noted.  No speculated mass lesions or suspicious microcalcifications.  Normal skin thickness and contour of breast.      OPINION:  Right Breast:  Upper outer benign macrocalcifications (BIRADS 2).    Left Breast:  Few scattered benign macrocalcifications (BIRADS 2).                          \\n\\nAnswer according to the template:\\n{\\n'Nodule': 'obscure',\\n'Mass': 'obscure',\\n'Calcification': 'right',\\n'Asymmetry': 'x',\\n'Architectural Distortion': 'x',\\n'Skin Thickening': 'x',\\n'Lymph Node Enlargement': 'x',\\n'Intramammary Lymph Node': 'x',\\n'Nipple Retraction': 'x',\\n'Skin Retraction': 'x',\\n'Trabecular Thickening': 'x',\\n}\\n\\n\\n\\n\\n\\n\\n\\n\\n\\n\\n\\n\\n\\n\\n\\n\\n\\n\\n\\n\"]\n"
          ]
        },
        {
          "name": "stderr",
          "output_type": "stream",
          "text": [
            " 60%|█████▉    | 97/163 [3:38:09<2:29:09, 135.59s/it]"
          ]
        },
        {
          "name": "stdout",
          "output_type": "stream",
          "text": [
            "[\"As an AI trained in analyzing radiology reports, your task is to classify the presence or absence of specific findings in each report. Respond according to the given template. \\n\\nRequirements:\\n1. Provide the lesion's location as 'right', 'left' or 'both'(i.e, right and left) if the lesion is explicitly mentioned as present.\\n2. Provide 'obscure' if the information is incomplete.\\n3. Default to 'x' if the finding is not mentioned.\\n\\nTemplate:\\n{\\n'Nodule': '[ANSWER]',\\n'Mass': '[ANSWER]',\\n'Calcification': '[ANSWER]',\\n'Asymmetry': '[ANSWER]',\\n'Architectural Distortion': '[ANSWER]',\\n'Skin Thickening': '[ANSWER]',\\n'Lymph Node Enlargement': '[ANSWER]',\\n'Intramammary Lymph Node': '[ANSWER]',\\n'Nipple Retraction': '[ANSWER]',\\n'Skin Retraction': '[ANSWER]',\\n'Trabecular Thickening': '[ANSWER]',\\n}\\n\\nReport:\\nLeft Breast:  Upper IMLN is noted.  No speculated mass lesions or suspicious microcalcifications.  Normal skin thickness and contour of breast.      OPINION:  Left Breast:  Upper IMLN (BIRADS 2).                                  \\n\\nAnswer according to the template:\\n{\\n'Nodule': 'obscure',\\n'Mass': 'obscure',\\n'Calcification': 'obscure',\\n'Asymmetry': 'obscure',\\n'Architectural Distortion': 'obscure',\\n'Skin Thickening': 'obscure',\\n'Lymph Node Enlargement': 'obscure',\\n'Intramammary Lymph Node': 'obscure',\\n'Nipple Retraction': 'obscure',\\n'Skin Retraction': 'obscure',\\n'Trabecular Thickening': 'obscure',\\n}\\n\\n\", \"As an AI trained in analyzing radiology reports, your task is to classify the presence or absence of specific findings in each report. Respond according to the given template. \\n\\nRequirements:\\n1. Provide the lesion's location as 'right', 'left' or 'both'(i.e, right and left) if the lesion is explicitly mentioned as present.\\n2. Provide 'obscure' if the information is incomplete.\\n3. Default to 'x' if the finding is not mentioned.\\n\\nTemplate:\\n{\\n'Nodule': '[ANSWER]',\\n'Mass': '[ANSWER]',\\n'Calcification': '[ANSWER]',\\n'Asymmetry': '[ANSWER]',\\n'Architectural Distortion': '[ANSWER]',\\n'Skin Thickening': '[ANSWER]',\\n'Lymph Node Enlargement': '[ANSWER]',\\n'Intramammary Lymph Node': '[ANSWER]',\\n'Nipple Retraction': '[ANSWER]',\\n'Skin Retraction': '[ANSWER]',\\n'Trabecular Thickening': '[ANSWER]',\\n}\\n\\nReport:\\nRight Breast:  Upper central irregular high density mass with indistinct margin and overlying segmental microcalcifications are noted.  Normal skin thickness and contour of breast.    Left Breast:  No speculated mass lesions or suspicious microcalcifications.  Normal skin thickness and contour of breast.      OPINION:  Right Breast:  Upper central malignant looking mass with overlying suspicious microcalcifications (BIRADS 5).    Left Breast:  Normal breast examination (BIRADS 1).                          \\n\\nAnswer according to the template:\\n{\\n'Nodule': 'right',\\n'Mass': 'right',\\n'Calcification': 'right',\\n'Asymmetry': 'obscure',\\n'Architectural Distortion': 'obscure',\\n'Skin Thickening': 'obscure',\\n'Lymph Node Enlargement': 'obscure',\\n'Intramammary Lymph Node': 'obscure',\\n'Nipple Retraction': 'obscure',\\n'Skin Retraction': 'obscure',\\n'Trabecular Thickening': 'obscure',\\n}\\n\\n\\n\\n\\n\\n\\n\\n\"]\n"
          ]
        },
        {
          "name": "stderr",
          "output_type": "stream",
          "text": [
            " 60%|██████    | 98/163 [3:40:25<2:26:56, 135.65s/it]"
          ]
        },
        {
          "name": "stdout",
          "output_type": "stream",
          "text": [
            "[\"As an AI trained in analyzing radiology reports, your task is to classify the presence or absence of specific findings in each report. Respond according to the given template. \\n\\nRequirements:\\n1. Provide the lesion's location as 'right', 'left' or 'both'(i.e, right and left) if the lesion is explicitly mentioned as present.\\n2. Provide 'obscure' if the information is incomplete.\\n3. Default to 'x' if the finding is not mentioned.\\n\\nTemplate:\\n{\\n'Nodule': '[ANSWER]',\\n'Mass': '[ANSWER]',\\n'Calcification': '[ANSWER]',\\n'Asymmetry': '[ANSWER]',\\n'Architectural Distortion': '[ANSWER]',\\n'Skin Thickening': '[ANSWER]',\\n'Lymph Node Enlargement': '[ANSWER]',\\n'Intramammary Lymph Node': '[ANSWER]',\\n'Nipple Retraction': '[ANSWER]',\\n'Skin Retraction': '[ANSWER]',\\n'Trabecular Thickening': '[ANSWER]',\\n}\\n\\nReport:\\nRight Breast:  No speculated mass lesions or suspicious microcalcifications.  Normal skin thickness and contour of breast.    Left Breast:  Diffuse edematous changes evidenced by increased skin thickness and coarsened trabeculae.  Central outer benign macrocalcifications are noted.  No suspicious microcalcifications.      OPINION:  Right Breast:  Normal breast examination (BIRADS 1).    Left Breast:  Diffuse edematous changes (BIRADS 4).  Central outer benign macrocalcifications (BIRADS 2).                    \\n\\nAnswer according to the template:\\n{\\n'Nodule': 'obscure',\\n'Mass': 'obscure',\\n'Calcification': 'obscure',\\n'Asymmetry': 'obscure',\\n'Architectural Distortion': 'obscure',\\n'Skin Thickening': 'obscure',\\n'Lymph Node Enlargement': 'obscure',\\n'Intramammary Lymph Node': 'obscure',\\n'Nipple Retraction': 'obscure',\\n'Skin Retraction': 'obscure',\\n'Trabecular Thickening': 'obscure',\\n}\\n\\n\", \"As an AI trained in analyzing radiology reports, your task is to classify the presence or absence of specific findings in each report. Respond according to the given template. \\n\\nRequirements:\\n1. Provide the lesion's location as 'right', 'left' or 'both'(i.e, right and left) if the lesion is explicitly mentioned as present.\\n2. Provide 'obscure' if the information is incomplete.\\n3. Default to 'x' if the finding is not mentioned.\\n\\nTemplate:\\n{\\n'Nodule': '[ANSWER]',\\n'Mass': '[ANSWER]',\\n'Calcification': '[ANSWER]',\\n'Asymmetry': '[ANSWER]',\\n'Architectural Distortion': '[ANSWER]',\\n'Skin Thickening': '[ANSWER]',\\n'Lymph Node Enlargement': '[ANSWER]',\\n'Intramammary Lymph Node': '[ANSWER]',\\n'Nipple Retraction': '[ANSWER]',\\n'Skin Retraction': '[ANSWER]',\\n'Trabecular Thickening': '[ANSWER]',\\n}\\n\\nReport:\\nRight Breast:  Two upper and lower irregular equal density masses with indistinct margin associated with architectural distortion are seen.  No suspicious microcalcifications.  Normal skin thickness and contour of breast.    Left Breast:  No speculated mass lesions or suspicious microcalcifications.  Normal skin thickness and contour of breast.      OPINION:  Right Breast:  Two upper and lower suspicious looking masses and architectural distortion (BIRADS 4).    Left Breast:  Normal breast examination (BIRADS 1).                          \\n\\nAnswer according to the template:\\n{\\n'Nodule': 'both',\\n'Mass': 'both',\\n'Calcification': 'x',\\n'Asymmetry': 'x',\\n'Architectural Distortion': 'both',\\n'Skin Thickening': 'x',\\n'Lymph Node Enlargement': 'x',\\n'Intramammary Lymph Node': 'x',\\n'Nipple Retraction': 'x',\\n'Skin Retraction': 'x',\\n'Trabecular Thickening': 'x',\\n}\\n\\n\\n\\n\\n\\n\\n\\n\\n\\n\\n\\n\\n\\n\\n\\n\\n\\n\\n\\n\\n\\n\\n\\n\"]\n"
          ]
        },
        {
          "name": "stderr",
          "output_type": "stream",
          "text": [
            " 61%|██████    | 99/163 [3:42:41<2:24:47, 135.74s/it]"
          ]
        },
        {
          "name": "stdout",
          "output_type": "stream",
          "text": [
            "[\"As an AI trained in analyzing radiology reports, your task is to classify the presence or absence of specific findings in each report. Respond according to the given template. \\n\\nRequirements:\\n1. Provide the lesion's location as 'right', 'left' or 'both'(i.e, right and left) if the lesion is explicitly mentioned as present.\\n2. Provide 'obscure' if the information is incomplete.\\n3. Default to 'x' if the finding is not mentioned.\\n\\nTemplate:\\n{\\n'Nodule': '[ANSWER]',\\n'Mass': '[ANSWER]',\\n'Calcification': '[ANSWER]',\\n'Asymmetry': '[ANSWER]',\\n'Architectural Distortion': '[ANSWER]',\\n'Skin Thickening': '[ANSWER]',\\n'Lymph Node Enlargement': '[ANSWER]',\\n'Intramammary Lymph Node': '[ANSWER]',\\n'Nipple Retraction': '[ANSWER]',\\n'Skin Retraction': '[ANSWER]',\\n'Trabecular Thickening': '[ANSWER]',\\n}\\n\\nReport:\\nRight Breast:  Status postoperative showing operative scar and edema.  No speculated mass lesions or suspicious microcalcifications.      Left Breast:  ACR B: Scattered fibroglandular tissue.  Outer benign macrocalcification is noted.  No speculated mass lesions or suspicious microcalcifications.  Normal skin thickness and contour of breast.      OPINION:  Right Breast:  Status post operative with operative scar and edema showing no evidence of recurrent lesions (BIRADS 2).    Left Breast:  Outer benign macrocalcification (BIRADS 2).                        \\n\\nAnswer according to the template:\\n{\\n'Nodule': 'obscure',\\n'Mass': 'obscure',\\n'Calcification': 'both',\\n'Asymmetry': 'x',\\n'Architectural Distortion': 'x',\\n'Skin Thickening': 'x',\\n'Lymph Node Enlargement': 'x',\\n'Intramammary Lymph Node': 'x',\\n'Nipple Retraction': 'x',\\n'Skin Retraction': 'x',\\n'Trabecular Thickening': 'x',\\n}\\n\\n\\n\\n\\n\\n\\n\\n\\n\\n\\n\\n\\n\\n\\n\\n\\n\\n\\n\\n\", \"As an AI trained in analyzing radiology reports, your task is to classify the presence or absence of specific findings in each report. Respond according to the given template. \\n\\nRequirements:\\n1. Provide the lesion's location as 'right', 'left' or 'both'(i.e, right and left) if the lesion is explicitly mentioned as present.\\n2. Provide 'obscure' if the information is incomplete.\\n3. Default to 'x' if the finding is not mentioned.\\n\\nTemplate:\\n{\\n'Nodule': '[ANSWER]',\\n'Mass': '[ANSWER]',\\n'Calcification': '[ANSWER]',\\n'Asymmetry': '[ANSWER]',\\n'Architectural Distortion': '[ANSWER]',\\n'Skin Thickening': '[ANSWER]',\\n'Lymph Node Enlargement': '[ANSWER]',\\n'Intramammary Lymph Node': '[ANSWER]',\\n'Nipple Retraction': '[ANSWER]',\\n'Skin Retraction': '[ANSWER]',\\n'Trabecular Thickening': '[ANSWER]',\\n}\\n\\nReport:\\nLeft Breast:  Status postoperative with operative bed showing upper outer and lower inner two irregular high density masses with speculated margin and surrounding satellites are seen.  No suspicious microcalcifications.      OPINION:  Left Breast:  Status post operative with operative bed showing upper outer and lower inner two malignant looking masses with surrounding satellites (BIRADS 5).                                \\n\\nAnswer according to the template:\\n{\\n'Nodule': 'left',\\n'Mass': 'left',\\n'Calcification': 'x',\\n'Asymmetry': 'x',\\n'Architectural Distortion': 'x',\\n'Skin Thickening': 'x',\\n'Lymph Node Enlargement': 'x',\\n'Intramammary Lymph Node': 'x',\\n'Nipple Retraction': 'x',\\n'Skin Retraction': 'x',\\n'Trabecular Thickening': 'x',\\n}\\n\\nReport:\\nRight Breast:  Status postoperative with operative bed showing upper outer and lower inner\"]\n"
          ]
        },
        {
          "name": "stderr",
          "output_type": "stream",
          "text": [
            " 61%|██████▏   | 100/163 [3:44:57<2:22:30, 135.72s/it]"
          ]
        },
        {
          "name": "stdout",
          "output_type": "stream",
          "text": [
            "[\"As an AI trained in analyzing radiology reports, your task is to classify the presence or absence of specific findings in each report. Respond according to the given template. \\n\\nRequirements:\\n1. Provide the lesion's location as 'right', 'left' or 'both'(i.e, right and left) if the lesion is explicitly mentioned as present.\\n2. Provide 'obscure' if the information is incomplete.\\n3. Default to 'x' if the finding is not mentioned.\\n\\nTemplate:\\n{\\n'Nodule': '[ANSWER]',\\n'Mass': '[ANSWER]',\\n'Calcification': '[ANSWER]',\\n'Asymmetry': '[ANSWER]',\\n'Architectural Distortion': '[ANSWER]',\\n'Skin Thickening': '[ANSWER]',\\n'Lymph Node Enlargement': '[ANSWER]',\\n'Intramammary Lymph Node': '[ANSWER]',\\n'Nipple Retraction': '[ANSWER]',\\n'Skin Retraction': '[ANSWER]',\\n'Trabecular Thickening': '[ANSWER]',\\n}\\n\\nReport:\\nRight Breast:  No speculated mass lesions or suspicious microcalcifications.  Normal skin thickness and contour of breast.    OPINION:  Right Breast:  Normal breast examination (BIRADS 1).                                      \\n\\nAnswer according to the template:\\n{\\n'Nodule': 'x',\\n'Mass': 'x',\\n'Calcification': 'x',\\n'Asymmetry': 'x',\\n'Architectural Distortion': 'x',\\n'Skin Thickening': 'x',\\n'Lymph Node Enlargement': 'x',\\n'Intramammary Lymph Node': 'x',\\n'Nipple Retraction': 'x',\\n'Skin Retraction': 'x',\\n'Trabecular Thickening': 'x',\\n}\\n\\nReport:\\nRight Breast:  No speculated mass lesions or suspicious microcalcifications. \", \"As an AI trained in analyzing radiology reports, your task is to classify the presence or absence of specific findings in each report. Respond according to the given template. \\n\\nRequirements:\\n1. Provide the lesion's location as 'right', 'left' or 'both'(i.e, right and left) if the lesion is explicitly mentioned as present.\\n2. Provide 'obscure' if the information is incomplete.\\n3. Default to 'x' if the finding is not mentioned.\\n\\nTemplate:\\n{\\n'Nodule': '[ANSWER]',\\n'Mass': '[ANSWER]',\\n'Calcification': '[ANSWER]',\\n'Asymmetry': '[ANSWER]',\\n'Architectural Distortion': '[ANSWER]',\\n'Skin Thickening': '[ANSWER]',\\n'Lymph Node Enlargement': '[ANSWER]',\\n'Intramammary Lymph Node': '[ANSWER]',\\n'Nipple Retraction': '[ANSWER]',\\n'Skin Retraction': '[ANSWER]',\\n'Trabecular Thickening': '[ANSWER]',\\n}\\n\\nReport:\\nRight Breast:  No speculated mass lesions or suspicious microcalcifications.  Normal skin thickness and contour of breast.    Left Breast:  Central inner benign macrocalcifications are noted.  No speculated mass lesions or suspicious microcalcifications.  Normal skin thickness and contour of breast.      OPINION:  Right Breast:  Normal breast examination (BIRADS 1).    Left Breast:  Central inner benign macrocalcifications (BIRADS 2).                          \\n\\nAnswer according to the template:\\n{\\n'Nodule': 'obscure',\\n'Mass': 'obscure',\\n'Calcification': 'left',\\n'Asymmetry': 'x',\\n'Architectural Distortion': 'x',\\n'Skin Thickening': 'x',\\n'Lymph Node Enlargement': 'x',\\n'Intramammary Lymph Node': 'x',\\n'Nipple Retraction': 'x',\\n'Skin Retraction': 'x',\\n'Trabecular Thickening': 'x',\\n}\\n\\n\\n\\n\\n\\n\\n\\n\\n\\n\\n\\n\\n\\n\\n\\n\\n\\n\\n\\n\"]\n"
          ]
        },
        {
          "name": "stderr",
          "output_type": "stream",
          "text": [
            " 62%|██████▏   | 101/163 [3:47:13<2:20:18, 135.78s/it]"
          ]
        },
        {
          "name": "stdout",
          "output_type": "stream",
          "text": [
            "[\"As an AI trained in analyzing radiology reports, your task is to classify the presence or absence of specific findings in each report. Respond according to the given template. \\n\\nRequirements:\\n1. Provide the lesion's location as 'right', 'left' or 'both'(i.e, right and left) if the lesion is explicitly mentioned as present.\\n2. Provide 'obscure' if the information is incomplete.\\n3. Default to 'x' if the finding is not mentioned.\\n\\nTemplate:\\n{\\n'Nodule': '[ANSWER]',\\n'Mass': '[ANSWER]',\\n'Calcification': '[ANSWER]',\\n'Asymmetry': '[ANSWER]',\\n'Architectural Distortion': '[ANSWER]',\\n'Skin Thickening': '[ANSWER]',\\n'Lymph Node Enlargement': '[ANSWER]',\\n'Intramammary Lymph Node': '[ANSWER]',\\n'Nipple Retraction': '[ANSWER]',\\n'Skin Retraction': '[ANSWER]',\\n'Trabecular Thickening': '[ANSWER]',\\n}\\n\\nReport:\\nRight Breast:  No speculated mass lesions or suspicious microcalcifications.  Normal skin thickness and contour of breast.    OPINION:  Right Breast:  Status post neoadjuvant chemotherapy of a known case of breast cancer showing no residual lesions detected (BIRADS 6).                                      \\n\\nAnswer according to the template:\\n{\\n'Nodule': 'obscure',\\n'Mass': 'obscure',\\n'Calcification': 'obscure',\\n'Asymmetry': 'obscure',\\n'Architectural Distortion': 'obscure',\\n'Skin Thickening': 'obscure',\\n'Lymph Node Enlargement': 'obscure',\\n'Intramammary Lymph Node': 'obscure',\\n'Nipple Retraction': 'obscure',\\n'Skin Retraction': 'obscure',\\n'Trabecular Thickening': 'obscure',\\n}\\n\\n\", \"As an AI trained in analyzing radiology reports, your task is to classify the presence or absence of specific findings in each report. Respond according to the given template. \\n\\nRequirements:\\n1. Provide the lesion's location as 'right', 'left' or 'both'(i.e, right and left) if the lesion is explicitly mentioned as present.\\n2. Provide 'obscure' if the information is incomplete.\\n3. Default to 'x' if the finding is not mentioned.\\n\\nTemplate:\\n{\\n'Nodule': '[ANSWER]',\\n'Mass': '[ANSWER]',\\n'Calcification': '[ANSWER]',\\n'Asymmetry': '[ANSWER]',\\n'Architectural Distortion': '[ANSWER]',\\n'Skin Thickening': '[ANSWER]',\\n'Lymph Node Enlargement': '[ANSWER]',\\n'Intramammary Lymph Node': '[ANSWER]',\\n'Nipple Retraction': '[ANSWER]',\\n'Skin Retraction': '[ANSWER]',\\n'Trabecular Thickening': '[ANSWER]',\\n}\\n\\nReport:\\nRight Breast:  No speculated mass lesions or suspicious microcalcifications.  Normal skin thickness and contour of breast.    Left Breast:  Diffuse edematous changes evidenced by increased skin thickness and coarsened trabeculae.  Lower central benign macrocalcification is noted.  No suspicious microcalcifications.      OPINION:  Right Breast:  Normal breast examination (BIRADS 1).    Left Breast:  Diffuse edematous changes (BIRADS 4).  Lower central benign macrocalcification (BIRADS 2).                    \\n\\nAnswer according to the template:\\n{\\n'Nodule': 'obscure',\\n'Mass': 'obscure',\\n'Calcification': 'obscure',\\n'Asymmetry': 'obscure',\\n'Architectural Distortion': 'obscure',\\n'Skin Thickening': 'obscure',\\n'Lymph Node Enlargement': 'obscure',\\n'Intramammary Lymph Node': 'obscure',\\n'Nipple Retraction': 'obscure',\\n'Skin Retraction': 'obscure',\\n'Trabecular Thickening': 'obscure',\\n}\\n\\n\"]\n"
          ]
        },
        {
          "name": "stderr",
          "output_type": "stream",
          "text": [
            " 63%|██████▎   | 102/163 [3:49:28<2:18:00, 135.75s/it]"
          ]
        },
        {
          "name": "stdout",
          "output_type": "stream",
          "text": [
            "[\"As an AI trained in analyzing radiology reports, your task is to classify the presence or absence of specific findings in each report. Respond according to the given template. \\n\\nRequirements:\\n1. Provide the lesion's location as 'right', 'left' or 'both'(i.e, right and left) if the lesion is explicitly mentioned as present.\\n2. Provide 'obscure' if the information is incomplete.\\n3. Default to 'x' if the finding is not mentioned.\\n\\nTemplate:\\n{\\n'Nodule': '[ANSWER]',\\n'Mass': '[ANSWER]',\\n'Calcification': '[ANSWER]',\\n'Asymmetry': '[ANSWER]',\\n'Architectural Distortion': '[ANSWER]',\\n'Skin Thickening': '[ANSWER]',\\n'Lymph Node Enlargement': '[ANSWER]',\\n'Intramammary Lymph Node': '[ANSWER]',\\n'Nipple Retraction': '[ANSWER]',\\n'Skin Retraction': '[ANSWER]',\\n'Trabecular Thickening': '[ANSWER]',\\n}\\n\\nReport:\\nRight Breast:  No speculated mass lesions or suspicious microcalcifications.  Retroareolar increased density that is tubular in shape likely dilated duct.  Normal skin thickness and contour of breast.    OPINION:  Right Breast:  Dilated retroareolar duct (BIRADS 2).                              \\n\\nAnswer according to the template:\\n{\\n'Nodule': 'obscure',\\n'Mass': 'obscure',\\n'Calcification': 'obscure',\\n'Asymmetry': 'obscure',\\n'Architectural Distortion': 'obscure',\\n'Skin Thickening': 'obscure',\\n'Lymph Node Enlargement': 'obscure',\\n'Intramammary Lymph Node': 'obscure',\\n'Nipple Retraction': 'obscure',\\n'Skin Retraction': 'obscure',\\n'Trabecular Thickening': 'obscure',\\n}\\n\\n\", \"As an AI trained in analyzing radiology reports, your task is to classify the presence or absence of specific findings in each report. Respond according to the given template. \\n\\nRequirements:\\n1. Provide the lesion's location as 'right', 'left' or 'both'(i.e, right and left) if the lesion is explicitly mentioned as present.\\n2. Provide 'obscure' if the information is incomplete.\\n3. Default to 'x' if the finding is not mentioned.\\n\\nTemplate:\\n{\\n'Nodule': '[ANSWER]',\\n'Mass': '[ANSWER]',\\n'Calcification': '[ANSWER]',\\n'Asymmetry': '[ANSWER]',\\n'Architectural Distortion': '[ANSWER]',\\n'Skin Thickening': '[ANSWER]',\\n'Lymph Node Enlargement': '[ANSWER]',\\n'Intramammary Lymph Node': '[ANSWER]',\\n'Nipple Retraction': '[ANSWER]',\\n'Skin Retraction': '[ANSWER]',\\n'Trabecular Thickening': '[ANSWER]',\\n}\\n\\nReport:\\nLeft Breast:  No speculated mass lesions or suspicious microcalcifications.  Normal skin thickness and contour of breast.      OPINION:  Left Breast:  Normal breast examination (BIRADS 1).                                      \\n\\nAnswer according to the template:\\n{\\n'Nodule': 'obscure',\\n'Mass': 'obscure',\\n'Calcification': 'obscure',\\n'Asymmetry': 'obscure',\\n'Architectural Distortion': 'obscure',\\n'Skin Thickening': 'obscure',\\n'Lymph Node Enlargement': 'obscure',\\n'Intramammary Lymph Node': 'obscure',\\n'Nipple Retraction': 'obscure',\\n'Skin Retraction': 'obscure',\\n'Trabecular Thickening': 'obscure',\\n}\\n\\n\"]\n"
          ]
        },
        {
          "name": "stderr",
          "output_type": "stream",
          "text": [
            " 63%|██████▎   | 103/163 [3:51:44<2:15:43, 135.72s/it]"
          ]
        },
        {
          "name": "stdout",
          "output_type": "stream",
          "text": [
            "[\"As an AI trained in analyzing radiology reports, your task is to classify the presence or absence of specific findings in each report. Respond according to the given template. \\n\\nRequirements:\\n1. Provide the lesion's location as 'right', 'left' or 'both'(i.e, right and left) if the lesion is explicitly mentioned as present.\\n2. Provide 'obscure' if the information is incomplete.\\n3. Default to 'x' if the finding is not mentioned.\\n\\nTemplate:\\n{\\n'Nodule': '[ANSWER]',\\n'Mass': '[ANSWER]',\\n'Calcification': '[ANSWER]',\\n'Asymmetry': '[ANSWER]',\\n'Architectural Distortion': '[ANSWER]',\\n'Skin Thickening': '[ANSWER]',\\n'Lymph Node Enlargement': '[ANSWER]',\\n'Intramammary Lymph Node': '[ANSWER]',\\n'Nipple Retraction': '[ANSWER]',\\n'Skin Retraction': '[ANSWER]',\\n'Trabecular Thickening': '[ANSWER]',\\n}\\n\\nReport:\\nLeft Breast:  Upper axillary tail rounded high density mass with microlobulated margin and edema pattern are seen.  No suspicious microcalcifications.      OPINION:  Left Breast:  Upper axillary tail suspicious looking mass and edema pattern (BIRADS 4).                                    \\n\\nAnswer according to the template:\\n{\\n'Nodule': 'left',\\n'Mass': 'left',\\n'Calcification': 'x',\\n'Asymmetry': 'x',\\n'Architectural Distortion': 'x',\\n'Skin Thickening': 'x',\\n'Lymph Node Enlargement': 'x',\\n'Intramammary Lymph Node': 'x',\\n'Nipple Retraction': 'x',\\n'Skin Retraction': 'x',\\n'Trabecular Thickening': 'x',\\n}\\n\\nReport:\\nLeft Breast:  Upper axillary tail rounded high density mass with microlobulated margin\", \"As an AI trained in analyzing radiology reports, your task is to classify the presence or absence of specific findings in each report. Respond according to the given template. \\n\\nRequirements:\\n1. Provide the lesion's location as 'right', 'left' or 'both'(i.e, right and left) if the lesion is explicitly mentioned as present.\\n2. Provide 'obscure' if the information is incomplete.\\n3. Default to 'x' if the finding is not mentioned.\\n\\nTemplate:\\n{\\n'Nodule': '[ANSWER]',\\n'Mass': '[ANSWER]',\\n'Calcification': '[ANSWER]',\\n'Asymmetry': '[ANSWER]',\\n'Architectural Distortion': '[ANSWER]',\\n'Skin Thickening': '[ANSWER]',\\n'Lymph Node Enlargement': '[ANSWER]',\\n'Intramammary Lymph Node': '[ANSWER]',\\n'Nipple Retraction': '[ANSWER]',\\n'Skin Retraction': '[ANSWER]',\\n'Trabecular Thickening': '[ANSWER]',\\n}\\n\\nReport:\\nRight Breast:  No speculated mass lesions or suspicious microcalcifications.  Normal skin thickness and contour of breast.    Left Breast:  Central rounded high density mass with indistinct margin and edema pattern are seen.  No suspicious microcalcifications.      OPINION:  Right Breast:  Normal breast examination (BIRADS 1).    Left Breast:  Central suspicious looking mass and edema pattern (BIRADS 4).                          \\n\\nAnswer according to the template:\\n{\\n'Nodule': 'obscure',\\n'Mass': 'left',\\n'Calcification': 'x',\\n'Asymmetry': 'x',\\n'Architectural Distortion': 'x',\\n'Skin Thickening': 'x',\\n'Lymph Node Enlargement': 'x',\\n'Intramammary Lymph Node': 'x',\\n'Nipple Retraction': 'x',\\n'Skin Retraction': 'x',\\n'Trabecular Thickening': 'x',\\n}\\n\\n\\n\\n\\n\\n\\n\\n\\n\\n\\n\\n\\n\\n\\n\\n\\n\\n\\n\\n\\n\\n\"]\n"
          ]
        },
        {
          "name": "stderr",
          "output_type": "stream",
          "text": [
            " 64%|██████▍   | 104/163 [3:54:00<2:13:26, 135.70s/it]"
          ]
        },
        {
          "name": "stdout",
          "output_type": "stream",
          "text": [
            "[\"As an AI trained in analyzing radiology reports, your task is to classify the presence or absence of specific findings in each report. Respond according to the given template. \\n\\nRequirements:\\n1. Provide the lesion's location as 'right', 'left' or 'both'(i.e, right and left) if the lesion is explicitly mentioned as present.\\n2. Provide 'obscure' if the information is incomplete.\\n3. Default to 'x' if the finding is not mentioned.\\n\\nTemplate:\\n{\\n'Nodule': '[ANSWER]',\\n'Mass': '[ANSWER]',\\n'Calcification': '[ANSWER]',\\n'Asymmetry': '[ANSWER]',\\n'Architectural Distortion': '[ANSWER]',\\n'Skin Thickening': '[ANSWER]',\\n'Lymph Node Enlargement': '[ANSWER]',\\n'Intramammary Lymph Node': '[ANSWER]',\\n'Nipple Retraction': '[ANSWER]',\\n'Skin Retraction': '[ANSWER]',\\n'Trabecular Thickening': '[ANSWER]',\\n}\\n\\nReport:\\nRight Breast:  No speculated mass lesions or suspicious microcalcifications.  Normal skin thickness and contour of breast.    Left Breast:  Upper central architectural distortion is noted.  No suspicious microcalcifications.  Normal skin thickness.      OPINION:  Right Breast:  Normal breast examination (BIRADS 1).    Left Breast:  Upper central suspicious looking architectural distortion (BIRADS 4).                          \\n\\nAnswer according to the template:\\n{\\n'Nodule': 'obscure',\\n'Mass': 'obscure',\\n'Calcification': 'obscure',\\n'Asymmetry': 'obscure',\\n'Architectural Distortion': 'left',\\n'Skin Thickening': 'obscure',\\n'Lymph Node Enlargement': 'obscure',\\n'Intramammary Lymph Node': 'obscure',\\n'Nipple Retraction': 'obscure',\\n'Skin Retraction': 'obscure',\\n'Trabecular Thickening': 'obscure',\\n}\\n\\n\\n\\n\", \"As an AI trained in analyzing radiology reports, your task is to classify the presence or absence of specific findings in each report. Respond according to the given template. \\n\\nRequirements:\\n1. Provide the lesion's location as 'right', 'left' or 'both'(i.e, right and left) if the lesion is explicitly mentioned as present.\\n2. Provide 'obscure' if the information is incomplete.\\n3. Default to 'x' if the finding is not mentioned.\\n\\nTemplate:\\n{\\n'Nodule': '[ANSWER]',\\n'Mass': '[ANSWER]',\\n'Calcification': '[ANSWER]',\\n'Asymmetry': '[ANSWER]',\\n'Architectural Distortion': '[ANSWER]',\\n'Skin Thickening': '[ANSWER]',\\n'Lymph Node Enlargement': '[ANSWER]',\\n'Intramammary Lymph Node': '[ANSWER]',\\n'Nipple Retraction': '[ANSWER]',\\n'Skin Retraction': '[ANSWER]',\\n'Trabecular Thickening': '[ANSWER]',\\n}\\n\\nReport:\\nRight Breast:  Upper irregular equal density mass with speculated margin and adjacent cluster of microcalcifications  Normal skin thickness and contour of breast.      OPINION:  Right Breast:  Upper malignant looking mass with adjacent cluster of microcalcifications (BIRADS 5).                                        \\n\\nAnswer according to the template:\\n{\\n'Nodule': 'right',\\n'Mass': 'right',\\n'Calcification': 'right',\\n'Asymmetry': 'obscure',\\n'Architectural Distortion': 'obscure',\\n'Skin Thickening': 'obscure',\\n'Lymph Node Enlargement': 'obscure',\\n'Intramammary Lymph Node': 'obscure',\\n'Nipple Retraction': 'obscure',\\n'Skin Retraction': 'obscure',\\n'Trabecular Thickening': 'obscure',\\n}\\n\\n\\n\\n\\n\\n\\n\\n\"]\n"
          ]
        },
        {
          "name": "stderr",
          "output_type": "stream",
          "text": [
            " 64%|██████▍   | 105/163 [3:56:15<2:11:10, 135.70s/it]"
          ]
        },
        {
          "name": "stdout",
          "output_type": "stream",
          "text": [
            "[\"As an AI trained in analyzing radiology reports, your task is to classify the presence or absence of specific findings in each report. Respond according to the given template. \\n\\nRequirements:\\n1. Provide the lesion's location as 'right', 'left' or 'both'(i.e, right and left) if the lesion is explicitly mentioned as present.\\n2. Provide 'obscure' if the information is incomplete.\\n3. Default to 'x' if the finding is not mentioned.\\n\\nTemplate:\\n{\\n'Nodule': '[ANSWER]',\\n'Mass': '[ANSWER]',\\n'Calcification': '[ANSWER]',\\n'Asymmetry': '[ANSWER]',\\n'Architectural Distortion': '[ANSWER]',\\n'Skin Thickening': '[ANSWER]',\\n'Lymph Node Enlargement': '[ANSWER]',\\n'Intramammary Lymph Node': '[ANSWER]',\\n'Nipple Retraction': '[ANSWER]',\\n'Skin Retraction': '[ANSWER]',\\n'Trabecular Thickening': '[ANSWER]',\\n}\\n\\nReport:\\nRight Breast:  No speculated mass lesions or suspicious microcalcifications.  Normal skin thickness and contour of breast.    Left Breast:  Upper central inner irregular high density mass with microlobulated margin and edema pattern are seen.  No suspicious microcalcifications.      OPINION:  Right Breast:  Normal breast examination (BIRADS 1).    Left Breast:  Upper central inner malignant looking mass and edema pattern (BIRADS 5).                          \\n\\nAnswer according to the template:\\n{\\n'Nodule': 'obscure',\\n'Mass': 'left',\\n'Calcification': 'x',\\n'Asymmetry': 'x',\\n'Architectural Distortion': 'x',\\n'Skin Thickening': 'x',\\n'Lymph Node Enlargement': 'x',\\n'Intramammary Lymph Node': 'x',\\n'Nipple Retraction': 'x',\\n'Skin Retraction': 'x',\\n'Trabecular Thickening': 'x',\\n}\\n\\n\\n\\n\\n\\n\\n\\n\\n\\n\\n\\n\\n\\n\\n\\n\\n\\n\\n\\n\\n\\n\", \"As an AI trained in analyzing radiology reports, your task is to classify the presence or absence of specific findings in each report. Respond according to the given template. \\n\\nRequirements:\\n1. Provide the lesion's location as 'right', 'left' or 'both'(i.e, right and left) if the lesion is explicitly mentioned as present.\\n2. Provide 'obscure' if the information is incomplete.\\n3. Default to 'x' if the finding is not mentioned.\\n\\nTemplate:\\n{\\n'Nodule': '[ANSWER]',\\n'Mass': '[ANSWER]',\\n'Calcification': '[ANSWER]',\\n'Asymmetry': '[ANSWER]',\\n'Architectural Distortion': '[ANSWER]',\\n'Skin Thickening': '[ANSWER]',\\n'Lymph Node Enlargement': '[ANSWER]',\\n'Intramammary Lymph Node': '[ANSWER]',\\n'Nipple Retraction': '[ANSWER]',\\n'Skin Retraction': '[ANSWER]',\\n'Trabecular Thickening': '[ANSWER]',\\n}\\n\\nReport:\\nLeft Breast:  Upper outer IMLN is noted.  Upper outer benign macrocalcifications are noted.  No speculated mass lesions or suspicious microcalcifications.  Normal skin thickness and contour of breast.      OPINION:  Left Breast:  Upper outer IMLN (BIRADS 2).  Upper outer benign macrocalcifications (BIRADS 2).                              \\n\\nAnswer according to the template:\\n{\\n'Nodule': 'obscure',\\n'Mass': 'obscure',\\n'Calcification': 'obscure',\\n'Asymmetry': 'obscure',\\n'Architectural Distortion': 'obscure',\\n'Skin Thickening': 'obscure',\\n'Lymph Node Enlargement': 'obscure',\\n'Intramammary Lymph Node': 'obscure',\\n'Nipple Retraction': 'obscure',\\n'Skin Retraction': 'obscure',\\n'Trabecular Thickening': 'obscure',\\n}\\n\\n\"]\n"
          ]
        },
        {
          "name": "stderr",
          "output_type": "stream",
          "text": [
            " 65%|██████▌   | 106/163 [3:58:31<2:08:55, 135.71s/it]"
          ]
        },
        {
          "name": "stdout",
          "output_type": "stream",
          "text": [
            "[\"As an AI trained in analyzing radiology reports, your task is to classify the presence or absence of specific findings in each report. Respond according to the given template. \\n\\nRequirements:\\n1. Provide the lesion's location as 'right', 'left' or 'both'(i.e, right and left) if the lesion is explicitly mentioned as present.\\n2. Provide 'obscure' if the information is incomplete.\\n3. Default to 'x' if the finding is not mentioned.\\n\\nTemplate:\\n{\\n'Nodule': '[ANSWER]',\\n'Mass': '[ANSWER]',\\n'Calcification': '[ANSWER]',\\n'Asymmetry': '[ANSWER]',\\n'Architectural Distortion': '[ANSWER]',\\n'Skin Thickening': '[ANSWER]',\\n'Lymph Node Enlargement': '[ANSWER]',\\n'Intramammary Lymph Node': '[ANSWER]',\\n'Nipple Retraction': '[ANSWER]',\\n'Skin Retraction': '[ANSWER]',\\n'Trabecular Thickening': '[ANSWER]',\\n}\\n\\nReport:\\nRight Breast:  No speculated mass lesions or suspicious microcalcifications.  Normal skin thickness and contour of breast.    Left Breast:  Multiple scattered rounded equal density masses with circumscribed margin are seen.  No suspicious microcalcifications.  Normal skin thickness and contour of breast.      OPINION:  Right Breast:  Normal breast examination (BIRADS 1).    Left Breast:  Multiple scattered benign looking masses (BIRADS 3).                          \\n\\nAnswer according to the template:\\n{\\n'Nodule': 'both',\\n'Mass': 'left',\\n'Calcification': 'x',\\n'Asymmetry': 'x',\\n'Architectural Distortion': 'x',\\n'Skin Thickening': 'both',\\n'Lymph Node Enlargement': 'x',\\n'Intramammary Lymph Node': 'x',\\n'Nipple Retraction': 'x',\\n'Skin Retraction': 'x',\\n'Trabecular Thickening': 'x',\\n}\\n\\n\\n\\n\\n\\n\\n\\n\\n\\n\\n\\n\\n\\n\\n\\n\\n\\n\\n\\n\\n\\n\\n\\n\", \"As an AI trained in analyzing radiology reports, your task is to classify the presence or absence of specific findings in each report. Respond according to the given template. \\n\\nRequirements:\\n1. Provide the lesion's location as 'right', 'left' or 'both'(i.e, right and left) if the lesion is explicitly mentioned as present.\\n2. Provide 'obscure' if the information is incomplete.\\n3. Default to 'x' if the finding is not mentioned.\\n\\nTemplate:\\n{\\n'Nodule': '[ANSWER]',\\n'Mass': '[ANSWER]',\\n'Calcification': '[ANSWER]',\\n'Asymmetry': '[ANSWER]',\\n'Architectural Distortion': '[ANSWER]',\\n'Skin Thickening': '[ANSWER]',\\n'Lymph Node Enlargement': '[ANSWER]',\\n'Intramammary Lymph Node': '[ANSWER]',\\n'Nipple Retraction': '[ANSWER]',\\n'Skin Retraction': '[ANSWER]',\\n'Trabecular Thickening': '[ANSWER]',\\n}\\n\\nReport:\\nRight Breast:  No speculated mass lesions or suspicious microcalcifications.  Normal skin thickness and contour of breast.    Left Breast:  Multiple upper and retroareolar irregular high density masses with speculated margin and edema pattern are noted.  No suspicious microcalcifications.      OPINION:  Right Breast:  Normal breast examination (BIRADS 1).    Left Breast:  Multiple upper and retroareolar malignant looking masses and edema pattern (BIRADS 5).                          \\n\\nAnswer according to the template:\\n{\\n'Nodule': 'both',\\n'Mass': 'left',\\n'Calcification': 'x',\\n'Asymmetry': 'x',\\n'Architectural Distortion': 'x',\\n'Skin Thickening': 'x',\\n'Lymph Node Enlargement': 'x',\\n'Intramammary Lymph Node': 'x',\\n'Nipple Retraction': 'x',\\n'Skin Retraction': 'x',\\n'Trabecular Thickening': 'x',\\n}\\n\\n\\n\\n\\n\\n\\n\\n\\n\\n\\n\\n\\n\\n\\n\\n\\n\\n\\n\\n\\n\\n\\n\\n\"]\n"
          ]
        },
        {
          "name": "stderr",
          "output_type": "stream",
          "text": [
            " 66%|██████▌   | 107/163 [4:00:47<2:06:42, 135.75s/it]"
          ]
        },
        {
          "name": "stdout",
          "output_type": "stream",
          "text": [
            "[\"As an AI trained in analyzing radiology reports, your task is to classify the presence or absence of specific findings in each report. Respond according to the given template. \\n\\nRequirements:\\n1. Provide the lesion's location as 'right', 'left' or 'both'(i.e, right and left) if the lesion is explicitly mentioned as present.\\n2. Provide 'obscure' if the information is incomplete.\\n3. Default to 'x' if the finding is not mentioned.\\n\\nTemplate:\\n{\\n'Nodule': '[ANSWER]',\\n'Mass': '[ANSWER]',\\n'Calcification': '[ANSWER]',\\n'Asymmetry': '[ANSWER]',\\n'Architectural Distortion': '[ANSWER]',\\n'Skin Thickening': '[ANSWER]',\\n'Lymph Node Enlargement': '[ANSWER]',\\n'Intramammary Lymph Node': '[ANSWER]',\\n'Nipple Retraction': '[ANSWER]',\\n'Skin Retraction': '[ANSWER]',\\n'Trabecular Thickening': '[ANSWER]',\\n}\\n\\nReport:\\nRight Breast:  No speculated mass lesions or suspicious microcalcifications.  Normal skin thickness and contour of breast.    Left Breast:  Retroareolar architectural distortion associated with nipple retraction is seen.  No suspicious microcalcifications.  Normal skin thickness.      OPINION:  Right Breast:  Normal breast examination (BIRADS 1).    Left Breast:  Retroareolar architectural distortion with nipple retraction (BIRADS 4).                          \\n\\nAnswer according to the template:\\n{\\n'Nodule': 'obscure',\\n'Mass': 'obscure',\\n'Calcification': 'obscure',\\n'Asymmetry': 'obscure',\\n'Architectural Distortion': 'left',\\n'Skin Thickening': 'obscure',\\n'Lymph Node Enlargement': 'obscure',\\n'Intramammary Lymph Node': 'obscure',\\n'Nipple Retraction': 'left',\\n'Skin Retraction': 'left',\\n'Trabecular Thickening': 'obscure',\\n}\\n\\n\\n\\n\\n\\n\\n\\n\", \"As an AI trained in analyzing radiology reports, your task is to classify the presence or absence of specific findings in each report. Respond according to the given template. \\n\\nRequirements:\\n1. Provide the lesion's location as 'right', 'left' or 'both'(i.e, right and left) if the lesion is explicitly mentioned as present.\\n2. Provide 'obscure' if the information is incomplete.\\n3. Default to 'x' if the finding is not mentioned.\\n\\nTemplate:\\n{\\n'Nodule': '[ANSWER]',\\n'Mass': '[ANSWER]',\\n'Calcification': '[ANSWER]',\\n'Asymmetry': '[ANSWER]',\\n'Architectural Distortion': '[ANSWER]',\\n'Skin Thickening': '[ANSWER]',\\n'Lymph Node Enlargement': '[ANSWER]',\\n'Intramammary Lymph Node': '[ANSWER]',\\n'Nipple Retraction': '[ANSWER]',\\n'Skin Retraction': '[ANSWER]',\\n'Trabecular Thickening': '[ANSWER]',\\n}\\n\\nReport:\\nRight Breast:  No speculated mass lesions or suspicious microcalcifications.  Normal skin thickness and contour of breast.    Left Breast:  No speculated mass lesions or suspicious microcalcifications.  Normal skin thickness and contour of breast.      OPINION:  Right Breast:  Normal breast examination (BIRADS 1).    Left Breast:  Normal breast examination (BIRADS 1).                          \\n\\nAnswer according to the template:\\n{\\n'Nodule': 'obscure',\\n'Mass': 'obscure',\\n'Calcification': 'obscure',\\n'Asymmetry': 'obscure',\\n'Architectural Distortion': 'obscure',\\n'Skin Thickening': 'obscure',\\n'Lymph Node Enlargement': 'obscure',\\n'Intramammary Lymph Node': 'obscure',\\n'Nipple Retraction': 'obscure',\\n'Skin Retraction': 'obscure',\\n'Trabecular Thickening': 'obscure',\\n}\\n\\n\"]\n"
          ]
        },
        {
          "name": "stderr",
          "output_type": "stream",
          "text": [
            " 66%|██████▋   | 108/163 [4:03:03<2:04:27, 135.78s/it]"
          ]
        },
        {
          "name": "stdout",
          "output_type": "stream",
          "text": [
            "[\"As an AI trained in analyzing radiology reports, your task is to classify the presence or absence of specific findings in each report. Respond according to the given template. \\n\\nRequirements:\\n1. Provide the lesion's location as 'right', 'left' or 'both'(i.e, right and left) if the lesion is explicitly mentioned as present.\\n2. Provide 'obscure' if the information is incomplete.\\n3. Default to 'x' if the finding is not mentioned.\\n\\nTemplate:\\n{\\n'Nodule': '[ANSWER]',\\n'Mass': '[ANSWER]',\\n'Calcification': '[ANSWER]',\\n'Asymmetry': '[ANSWER]',\\n'Architectural Distortion': '[ANSWER]',\\n'Skin Thickening': '[ANSWER]',\\n'Lymph Node Enlargement': '[ANSWER]',\\n'Intramammary Lymph Node': '[ANSWER]',\\n'Nipple Retraction': '[ANSWER]',\\n'Skin Retraction': '[ANSWER]',\\n'Trabecular Thickening': '[ANSWER]',\\n}\\n\\nReport:\\nRight Breast:  No speculated mass lesions or suspicious microcalcifications.  Normal skin thickness and contour of breast.    Left Breast:  Outer irregular high density mass with speculated margin is seen.  No suspicious microcalcifications.  Normal skin thickness and contour of breast.      OPINION:  Right Breast:  Normal breast examination (BIRADS 1).    Left Breast:  Outer malignant looking mass (BIRADS 5).                          \\n\\nAnswer according to the template:\\n{\\n'Nodule': 'left',\\n'Mass': 'left',\\n'Calcification': 'x',\\n'Asymmetry': 'x',\\n'Architectural Distortion': 'x',\\n'Skin Thickening': 'x',\\n'Lymph Node Enlargement': 'x',\\n'Intramammary Lymph Node': 'x',\\n'Nipple Retraction': 'x',\\n'Skin Retraction': 'x',\\n'Trabecular Thickening': 'x',\\n}\\n\\n\\n\\n\\n\\n\\n\\n\\n\\n\\n\\n\\n\\n\\n\\n\\n\\n\\n\\n\\n\\n\\n\\n\", \"As an AI trained in analyzing radiology reports, your task is to classify the presence or absence of specific findings in each report. Respond according to the given template. \\n\\nRequirements:\\n1. Provide the lesion's location as 'right', 'left' or 'both'(i.e, right and left) if the lesion is explicitly mentioned as present.\\n2. Provide 'obscure' if the information is incomplete.\\n3. Default to 'x' if the finding is not mentioned.\\n\\nTemplate:\\n{\\n'Nodule': '[ANSWER]',\\n'Mass': '[ANSWER]',\\n'Calcification': '[ANSWER]',\\n'Asymmetry': '[ANSWER]',\\n'Architectural Distortion': '[ANSWER]',\\n'Skin Thickening': '[ANSWER]',\\n'Lymph Node Enlargement': '[ANSWER]',\\n'Intramammary Lymph Node': '[ANSWER]',\\n'Nipple Retraction': '[ANSWER]',\\n'Skin Retraction': '[ANSWER]',\\n'Trabecular Thickening': '[ANSWER]',\\n}\\n\\nReport:\\nRight Breast:  Upper outer and retroareolar irregular high density masses with speculated margin and edema pattern are seen.  No suspicious microcalcifications.    Left Breast:  No speculated mass lesions or suspicious microcalcifications.  Normal skin thickness and contour of breast.      OPINION:  Right Breast:  Upper outer and retroareolar malignant looking masses and edema pattern (BIRADS 5).    Left Breast:  Normal breast examination (BIRADS 1).                          \\n\\nAnswer according to the template:\\n{\\n'Nodule': 'right',\\n'Mass': 'right',\\n'Calcification': 'x',\\n'Asymmetry': 'x',\\n'Architectural Distortion': 'x',\\n'Skin Thickening': 'x',\\n'Lymph Node Enlargement': 'x',\\n'Intramammary Lymph Node': 'x',\\n'Nipple Retraction': 'x',\\n'Skin Retraction': 'x',\\n'Trabecular Thickening': 'x',\\n}\\n\\n\\n\\n\\n\\n\\n\\n\\n\\n\\n\\n\\n\\n\\n\\n\\n\\n\\n\\n\\n\\n\\n\\n\"]\n"
          ]
        },
        {
          "name": "stderr",
          "output_type": "stream",
          "text": [
            " 67%|██████▋   | 109/163 [4:05:19<2:02:13, 135.81s/it]"
          ]
        },
        {
          "name": "stdout",
          "output_type": "stream",
          "text": [
            "[\"As an AI trained in analyzing radiology reports, your task is to classify the presence or absence of specific findings in each report. Respond according to the given template. \\n\\nRequirements:\\n1. Provide the lesion's location as 'right', 'left' or 'both'(i.e, right and left) if the lesion is explicitly mentioned as present.\\n2. Provide 'obscure' if the information is incomplete.\\n3. Default to 'x' if the finding is not mentioned.\\n\\nTemplate:\\n{\\n'Nodule': '[ANSWER]',\\n'Mass': '[ANSWER]',\\n'Calcification': '[ANSWER]',\\n'Asymmetry': '[ANSWER]',\\n'Architectural Distortion': '[ANSWER]',\\n'Skin Thickening': '[ANSWER]',\\n'Lymph Node Enlargement': '[ANSWER]',\\n'Intramammary Lymph Node': '[ANSWER]',\\n'Nipple Retraction': '[ANSWER]',\\n'Skin Retraction': '[ANSWER]',\\n'Trabecular Thickening': '[ANSWER]',\\n}\\n\\nReport:\\nLeft Breast:  Upper central oval shaped equal density mass with partially obscured margin.  No suspicious microcalcifications.  Normal skin thickness and contour of breast.      OPINION:  Left Breast:  Upper central benign looking mass (BIRADS 3).                                    \\n\\nAnswer according to the template:\\n{\\n'Nodule': 'left',\\n'Mass': 'left',\\n'Calcification': 'obscure',\\n'Asymmetry': 'x',\\n'Architectural Distortion': 'x',\\n'Skin Thickening': 'x',\\n'Lymph Node Enlargement': 'x',\\n'Intramammary Lymph Node': 'x',\\n'Nipple Retraction': 'x',\\n'Skin Retraction': 'x',\\n'Trabecular Thickening': 'x',\\n}\\n\\nReport:\\nLeft Breast:  Upper central oval shaped equal density mass with partially obsc\", \"As an AI trained in analyzing radiology reports, your task is to classify the presence or absence of specific findings in each report. Respond according to the given template. \\n\\nRequirements:\\n1. Provide the lesion's location as 'right', 'left' or 'both'(i.e, right and left) if the lesion is explicitly mentioned as present.\\n2. Provide 'obscure' if the information is incomplete.\\n3. Default to 'x' if the finding is not mentioned.\\n\\nTemplate:\\n{\\n'Nodule': '[ANSWER]',\\n'Mass': '[ANSWER]',\\n'Calcification': '[ANSWER]',\\n'Asymmetry': '[ANSWER]',\\n'Architectural Distortion': '[ANSWER]',\\n'Skin Thickening': '[ANSWER]',\\n'Lymph Node Enlargement': '[ANSWER]',\\n'Intramammary Lymph Node': '[ANSWER]',\\n'Nipple Retraction': '[ANSWER]',\\n'Skin Retraction': '[ANSWER]',\\n'Trabecular Thickening': '[ANSWER]',\\n}\\n\\nReport:\\nRight Breast:  No speculated mass lesions or suspicious microcalcifications.  Normal skin thickness and contour of breast.    Left Breast:  Upper asymmetrical increased density with overlying punctate and fine linear microcalcifications.  No suspicious microcalcifications.  Normal skin thickness and contour of breast.      OPINION:  Right Breast:  Normal breast examination (BIRADS 1).    Left Breast:  Upper asymmetry with overlying suspicious microcalcifications (BIRADS 4).                          \\n\\nAnswer according to the template:\\n{\\n'Nodule': 'obscure',\\n'Mass': 'obscure',\\n'Calcification': 'obscure',\\n'Asymmetry': 'left',\\n'Architectural Distortion': 'x',\\n'Skin Thickening': 'x',\\n'Lymph Node Enlargement': 'x',\\n'Intramammary Lymph Node': 'x',\\n'Nipple Retraction': 'x',\\n'Skin Retraction': 'x',\\n'Trabecular Thickening': 'x',\\n}\\n\\n\\n\\n\\n\\n\\n\\n\\n\\n\\n\\n\\n\\n\\n\\n\\n\\n\"]\n"
          ]
        },
        {
          "name": "stderr",
          "output_type": "stream",
          "text": [
            " 67%|██████▋   | 110/163 [4:07:35<2:00:02, 135.89s/it]"
          ]
        },
        {
          "name": "stdout",
          "output_type": "stream",
          "text": [
            "[\"As an AI trained in analyzing radiology reports, your task is to classify the presence or absence of specific findings in each report. Respond according to the given template. \\n\\nRequirements:\\n1. Provide the lesion's location as 'right', 'left' or 'both'(i.e, right and left) if the lesion is explicitly mentioned as present.\\n2. Provide 'obscure' if the information is incomplete.\\n3. Default to 'x' if the finding is not mentioned.\\n\\nTemplate:\\n{\\n'Nodule': '[ANSWER]',\\n'Mass': '[ANSWER]',\\n'Calcification': '[ANSWER]',\\n'Asymmetry': '[ANSWER]',\\n'Architectural Distortion': '[ANSWER]',\\n'Skin Thickening': '[ANSWER]',\\n'Lymph Node Enlargement': '[ANSWER]',\\n'Intramammary Lymph Node': '[ANSWER]',\\n'Nipple Retraction': '[ANSWER]',\\n'Skin Retraction': '[ANSWER]',\\n'Trabecular Thickening': '[ANSWER]',\\n}\\n\\nReport:\\nLeft Breast:  No speculated mass lesions or suspicious microcalcifications.  Normal skin thickness and contour of breast.      OPINION:  Left Breast:  Normal breast examination (BIRADS 1).                                      \\n\\nAnswer according to the template:\\n{\\n'Nodule': 'obscure',\\n'Mass': 'obscure',\\n'Calcification': 'obscure',\\n'Asymmetry': 'obscure',\\n'Architectural Distortion': 'obscure',\\n'Skin Thickening': 'obscure',\\n'Lymph Node Enlargement': 'obscure',\\n'Intramammary Lymph Node': 'obscure',\\n'Nipple Retraction': 'obscure',\\n'Skin Retraction': 'obscure',\\n'Trabecular Thickening': 'obscure',\\n}\\n\\n\", \"As an AI trained in analyzing radiology reports, your task is to classify the presence or absence of specific findings in each report. Respond according to the given template. \\n\\nRequirements:\\n1. Provide the lesion's location as 'right', 'left' or 'both'(i.e, right and left) if the lesion is explicitly mentioned as present.\\n2. Provide 'obscure' if the information is incomplete.\\n3. Default to 'x' if the finding is not mentioned.\\n\\nTemplate:\\n{\\n'Nodule': '[ANSWER]',\\n'Mass': '[ANSWER]',\\n'Calcification': '[ANSWER]',\\n'Asymmetry': '[ANSWER]',\\n'Architectural Distortion': '[ANSWER]',\\n'Skin Thickening': '[ANSWER]',\\n'Lymph Node Enlargement': '[ANSWER]',\\n'Intramammary Lymph Node': '[ANSWER]',\\n'Nipple Retraction': '[ANSWER]',\\n'Skin Retraction': '[ANSWER]',\\n'Trabecular Thickening': '[ANSWER]',\\n}\\n\\nReport:\\nRight Breast:  Central irregular high density masses with speculated margin and edema pattern are seen.  Associated upper outer and central asymmetrical increased density with overlying microcalcifications are noted.    Left Breast:  No speculated mass lesions or suspicious microcalcifications.  Normal skin thickness and contour of breast.      OPINION:  Right Breast:  Central malignant looking masses and edema pattern associated with upper outer and central asymmetry with overlying suspicious microcalcifications (BIRADS 5).    Left Breast:  Normal breast examination (BIRADS 1).                          \\n\\nAnswer according to the template:\\n{\\n'Nodule': 'right',\\n'Mass': 'right',\\n'Calcification': 'right',\\n'Asymmetry': 'right',\\n'Architectural Distortion': 'x',\\n'Skin Thickening': 'x',\\n'Lymph Node Enlargement': 'x',\\n'Intramammary Lymph Node': 'x',\\n'Nipple Retraction': 'x',\\n'Skin Retraction': 'x',\\n'Trabecular Thickening': 'x',\\n}\\n\\n\\n\\n\\n\\n\\n\\n\\n\\n\\n\\n\\n\\n\\n\\n\\n\\n\\n\\n\\n\\n\\n\\n\"]\n"
          ]
        },
        {
          "name": "stderr",
          "output_type": "stream",
          "text": [
            " 68%|██████▊   | 111/163 [4:09:50<1:57:41, 135.80s/it]"
          ]
        },
        {
          "name": "stdout",
          "output_type": "stream",
          "text": [
            "[\"As an AI trained in analyzing radiology reports, your task is to classify the presence or absence of specific findings in each report. Respond according to the given template. \\n\\nRequirements:\\n1. Provide the lesion's location as 'right', 'left' or 'both'(i.e, right and left) if the lesion is explicitly mentioned as present.\\n2. Provide 'obscure' if the information is incomplete.\\n3. Default to 'x' if the finding is not mentioned.\\n\\nTemplate:\\n{\\n'Nodule': '[ANSWER]',\\n'Mass': '[ANSWER]',\\n'Calcification': '[ANSWER]',\\n'Asymmetry': '[ANSWER]',\\n'Architectural Distortion': '[ANSWER]',\\n'Skin Thickening': '[ANSWER]',\\n'Lymph Node Enlargement': '[ANSWER]',\\n'Intramammary Lymph Node': '[ANSWER]',\\n'Nipple Retraction': '[ANSWER]',\\n'Skin Retraction': '[ANSWER]',\\n'Trabecular Thickening': '[ANSWER]',\\n}\\n\\nReport:\\nLeft Breast:  No speculated mass lesions or suspicious microcalcifications.  Normal skin thickness and contour of breast.      OPINION:  Left Breast:  Normal breast examination (BIRADS 1).                                      \\n\\nAnswer according to the template:\\n{\\n'Nodule': 'obscure',\\n'Mass': 'obscure',\\n'Calcification': 'obscure',\\n'Asymmetry': 'obscure',\\n'Architectural Distortion': 'obscure',\\n'Skin Thickening': 'obscure',\\n'Lymph Node Enlargement': 'obscure',\\n'Intramammary Lymph Node': 'obscure',\\n'Nipple Retraction': 'obscure',\\n'Skin Retraction': 'obscure',\\n'Trabecular Thickening': 'obscure',\\n}\\n\\n\", \"As an AI trained in analyzing radiology reports, your task is to classify the presence or absence of specific findings in each report. Respond according to the given template. \\n\\nRequirements:\\n1. Provide the lesion's location as 'right', 'left' or 'both'(i.e, right and left) if the lesion is explicitly mentioned as present.\\n2. Provide 'obscure' if the information is incomplete.\\n3. Default to 'x' if the finding is not mentioned.\\n\\nTemplate:\\n{\\n'Nodule': '[ANSWER]',\\n'Mass': '[ANSWER]',\\n'Calcification': '[ANSWER]',\\n'Asymmetry': '[ANSWER]',\\n'Architectural Distortion': '[ANSWER]',\\n'Skin Thickening': '[ANSWER]',\\n'Lymph Node Enlargement': '[ANSWER]',\\n'Intramammary Lymph Node': '[ANSWER]',\\n'Nipple Retraction': '[ANSWER]',\\n'Skin Retraction': '[ANSWER]',\\n'Trabecular Thickening': '[ANSWER]',\\n}\\n\\nReport:\\nLeft Breast:  Outer asymmetrical increased density is noted.  No suspicious microcalcifications.  Normal skin thickness and contour of breast.      OPINION:  Left Breast:  Outer asymmetry (BIRADS 3).                                      \\n\\nAnswer according to the template:\\n{\\n'Nodule': 'x',\\n'Mass': 'x',\\n'Calcification': 'x',\\n'Asymmetry': 'left',\\n'Architectural Distortion': 'x',\\n'Skin Thickening': 'x',\\n'Lymph Node Enlargement': 'x',\\n'Intramammary Lymph Node': 'x',\\n'Nipple Retraction': 'x',\\n'Skin Retraction': 'x',\\n'Trabecular Thickening': 'x',\\n}\\n\\nReport:\\nBilateral Breast:  No suspicious microcalcifications.  Normal skin thick\"]\n"
          ]
        },
        {
          "name": "stderr",
          "output_type": "stream",
          "text": [
            " 69%|██████▊   | 112/163 [4:12:06<1:55:28, 135.85s/it]"
          ]
        },
        {
          "name": "stdout",
          "output_type": "stream",
          "text": [
            "[\"As an AI trained in analyzing radiology reports, your task is to classify the presence or absence of specific findings in each report. Respond according to the given template. \\n\\nRequirements:\\n1. Provide the lesion's location as 'right', 'left' or 'both'(i.e, right and left) if the lesion is explicitly mentioned as present.\\n2. Provide 'obscure' if the information is incomplete.\\n3. Default to 'x' if the finding is not mentioned.\\n\\nTemplate:\\n{\\n'Nodule': '[ANSWER]',\\n'Mass': '[ANSWER]',\\n'Calcification': '[ANSWER]',\\n'Asymmetry': '[ANSWER]',\\n'Architectural Distortion': '[ANSWER]',\\n'Skin Thickening': '[ANSWER]',\\n'Lymph Node Enlargement': '[ANSWER]',\\n'Intramammary Lymph Node': '[ANSWER]',\\n'Nipple Retraction': '[ANSWER]',\\n'Skin Retraction': '[ANSWER]',\\n'Trabecular Thickening': '[ANSWER]',\\n}\\n\\nReport:\\nRight Breast:  No speculated mass lesions or suspicious microcalcifications.  Normal skin thickness and contour of breast.    Left Breast:  Upper outer asymmetrical increased density associated with multiple irregular high density masses with indistinct margin are seen.  No suspicious microcalcifications.  Normal skin thickness and contour of breast.      OPINION:  Right Breast:  Normal breast examination (BIRADS 1).    Left Breast:  Upper outer asymmetry and suspicious looking masses (BIRADS 4).                          \\n\\nAnswer according to the template:\\n{\\n'Nodule': 'obscure',\\n'Mass': 'left',\\n'Calcification': 'x',\\n'Asymmetry': 'left',\\n'Architectural Distortion': 'x',\\n'Skin Thickening': 'x',\\n'Lymph Node Enlargement': 'x',\\n'Intramammary Lymph Node': 'x',\\n'Nipple Retraction': 'x',\\n'Skin Retraction': 'x',\\n'Trabecular Thickening': 'x',\\n}\\n\\n\\n\\n\\n\\n\\n\\n\\n\\n\\n\\n\\n\\n\\n\\n\\n\\n\\n\\n\\n\\n\", \"As an AI trained in analyzing radiology reports, your task is to classify the presence or absence of specific findings in each report. Respond according to the given template. \\n\\nRequirements:\\n1. Provide the lesion's location as 'right', 'left' or 'both'(i.e, right and left) if the lesion is explicitly mentioned as present.\\n2. Provide 'obscure' if the information is incomplete.\\n3. Default to 'x' if the finding is not mentioned.\\n\\nTemplate:\\n{\\n'Nodule': '[ANSWER]',\\n'Mass': '[ANSWER]',\\n'Calcification': '[ANSWER]',\\n'Asymmetry': '[ANSWER]',\\n'Architectural Distortion': '[ANSWER]',\\n'Skin Thickening': '[ANSWER]',\\n'Lymph Node Enlargement': '[ANSWER]',\\n'Intramammary Lymph Node': '[ANSWER]',\\n'Nipple Retraction': '[ANSWER]',\\n'Skin Retraction': '[ANSWER]',\\n'Trabecular Thickening': '[ANSWER]',\\n}\\n\\nReport:\\nLeft Breast:  No speculated mass lesions or suspicious microcalcifications.  Normal skin thickness and contour of breast.      OPINION:  Left Breast:  Normal breast examination (BIRADS 1).                                      \\n\\nAnswer according to the template:\\n{\\n'Nodule': 'obscure',\\n'Mass': 'obscure',\\n'Calcification': 'obscure',\\n'Asymmetry': 'obscure',\\n'Architectural Distortion': 'obscure',\\n'Skin Thickening': 'obscure',\\n'Lymph Node Enlargement': 'obscure',\\n'Intramammary Lymph Node': 'obscure',\\n'Nipple Retraction': 'obscure',\\n'Skin Retraction': 'obscure',\\n'Trabecular Thickening': 'obscure',\\n}\\n\\n\"]\n"
          ]
        },
        {
          "name": "stderr",
          "output_type": "stream",
          "text": [
            " 69%|██████▉   | 113/163 [4:14:22<1:53:15, 135.90s/it]"
          ]
        },
        {
          "name": "stdout",
          "output_type": "stream",
          "text": [
            "[\"As an AI trained in analyzing radiology reports, your task is to classify the presence or absence of specific findings in each report. Respond according to the given template. \\n\\nRequirements:\\n1. Provide the lesion's location as 'right', 'left' or 'both'(i.e, right and left) if the lesion is explicitly mentioned as present.\\n2. Provide 'obscure' if the information is incomplete.\\n3. Default to 'x' if the finding is not mentioned.\\n\\nTemplate:\\n{\\n'Nodule': '[ANSWER]',\\n'Mass': '[ANSWER]',\\n'Calcification': '[ANSWER]',\\n'Asymmetry': '[ANSWER]',\\n'Architectural Distortion': '[ANSWER]',\\n'Skin Thickening': '[ANSWER]',\\n'Lymph Node Enlargement': '[ANSWER]',\\n'Intramammary Lymph Node': '[ANSWER]',\\n'Nipple Retraction': '[ANSWER]',\\n'Skin Retraction': '[ANSWER]',\\n'Trabecular Thickening': '[ANSWER]',\\n}\\n\\nReport:\\nRight Breast:  ACR B: Scattered fibroglandular tissue.  No speculated mass lesions or suspicious microcalcifications.  Normal skin thickness and contour of breast.      Left Breast:  Status postoperative showing operative scar with no speculated mass lesions or suspicious microcalcifications.      OPINION:  Right Breast:  Normal breast examination (BIRADS 1).    Left Breast:  Status post operative with operative scar showing no evidence of recurrent lesions (BIRADS 2).                        \\n\\nAnswer according to the template:\\n{\\n'Nodule': 'obscure',\\n'Mass': 'obscure',\\n'Calcification': 'obscure',\\n'Asymmetry': 'obscure',\\n'Architectural Distortion': 'obscure',\\n'Skin Thickening': 'obscure',\\n'Lymph Node Enlargement': 'obscure',\\n'Intramammary Lymph Node': 'obscure',\\n'Nipple Retraction': 'obscure',\\n'Skin Retraction': 'obscure',\\n'Trabecular Thickening': 'obscure',\\n}\\n\\n\", \"As an AI trained in analyzing radiology reports, your task is to classify the presence or absence of specific findings in each report. Respond according to the given template. \\n\\nRequirements:\\n1. Provide the lesion's location as 'right', 'left' or 'both'(i.e, right and left) if the lesion is explicitly mentioned as present.\\n2. Provide 'obscure' if the information is incomplete.\\n3. Default to 'x' if the finding is not mentioned.\\n\\nTemplate:\\n{\\n'Nodule': '[ANSWER]',\\n'Mass': '[ANSWER]',\\n'Calcification': '[ANSWER]',\\n'Asymmetry': '[ANSWER]',\\n'Architectural Distortion': '[ANSWER]',\\n'Skin Thickening': '[ANSWER]',\\n'Lymph Node Enlargement': '[ANSWER]',\\n'Intramammary Lymph Node': '[ANSWER]',\\n'Nipple Retraction': '[ANSWER]',\\n'Skin Retraction': '[ANSWER]',\\n'Trabecular Thickening': '[ANSWER]',\\n}\\n\\nReport:\\nRight Breast:  No speculated mass lesions or suspicious microcalcifications.  Normal skin thickness and contour of breast.    Left Breast:  No speculated mass lesions or suspicious microcalcifications.  Normal skin thickness and contour of breast.      OPINION:  Right Breast:  Normal breast examination (BIRADS 1).    Left Breast:  Normal breast examination (BIRADS 1).                          \\n\\nAnswer according to the template:\\n{\\n'Nodule': 'obscure',\\n'Mass': 'obscure',\\n'Calcification': 'obscure',\\n'Asymmetry': 'obscure',\\n'Architectural Distortion': 'obscure',\\n'Skin Thickening': 'obscure',\\n'Lymph Node Enlargement': 'obscure',\\n'Intramammary Lymph Node': 'obscure',\\n'Nipple Retraction': 'obscure',\\n'Skin Retraction': 'obscure',\\n'Trabecular Thickening': 'obscure',\\n}\\n\\n\"]\n"
          ]
        },
        {
          "name": "stderr",
          "output_type": "stream",
          "text": [
            " 70%|██████▉   | 114/163 [4:16:38<1:51:01, 135.94s/it]"
          ]
        },
        {
          "name": "stdout",
          "output_type": "stream",
          "text": [
            "[\"As an AI trained in analyzing radiology reports, your task is to classify the presence or absence of specific findings in each report. Respond according to the given template. \\n\\nRequirements:\\n1. Provide the lesion's location as 'right', 'left' or 'both'(i.e, right and left) if the lesion is explicitly mentioned as present.\\n2. Provide 'obscure' if the information is incomplete.\\n3. Default to 'x' if the finding is not mentioned.\\n\\nTemplate:\\n{\\n'Nodule': '[ANSWER]',\\n'Mass': '[ANSWER]',\\n'Calcification': '[ANSWER]',\\n'Asymmetry': '[ANSWER]',\\n'Architectural Distortion': '[ANSWER]',\\n'Skin Thickening': '[ANSWER]',\\n'Lymph Node Enlargement': '[ANSWER]',\\n'Intramammary Lymph Node': '[ANSWER]',\\n'Nipple Retraction': '[ANSWER]',\\n'Skin Retraction': '[ANSWER]',\\n'Trabecular Thickening': '[ANSWER]',\\n}\\n\\nReport:\\nRight Breast:  Central asymmetrical increased density is noted with overlying loose clusters of microcalcifications.  Normal skin thickness and contour of breast.    Left Breast:  No speculated mass lesions or suspicious microcalcifications.  Normal skin thickness and contour of breast.      OPINION:  Right Breast:  Central asymmetry with overlying loose clusters of microcalcifications (BIRADS 3).    Left Breast:  Normal breast examination (BIRADS 1).                          \\n\\nAnswer according to the template:\\n{\\n'Nodule': 'obscure',\\n'Mass': 'obscure',\\n'Calcification': 'both',\\n'Asymmetry': 'right',\\n'Architectural Distortion': 'x',\\n'Skin Thickening': 'x',\\n'Lymph Node Enlargement': 'x',\\n'Intramammary Lymph Node': 'x',\\n'Nipple Retraction': 'x',\\n'Skin Retraction': 'x',\\n'Trabecular Thickening': 'x',\\n}\\n\\n\\n\\n\\n\\n\\n\\n\\n\\n\\n\\n\\n\\n\\n\\n\\n\\n\\n\\n\", \"As an AI trained in analyzing radiology reports, your task is to classify the presence or absence of specific findings in each report. Respond according to the given template. \\n\\nRequirements:\\n1. Provide the lesion's location as 'right', 'left' or 'both'(i.e, right and left) if the lesion is explicitly mentioned as present.\\n2. Provide 'obscure' if the information is incomplete.\\n3. Default to 'x' if the finding is not mentioned.\\n\\nTemplate:\\n{\\n'Nodule': '[ANSWER]',\\n'Mass': '[ANSWER]',\\n'Calcification': '[ANSWER]',\\n'Asymmetry': '[ANSWER]',\\n'Architectural Distortion': '[ANSWER]',\\n'Skin Thickening': '[ANSWER]',\\n'Lymph Node Enlargement': '[ANSWER]',\\n'Intramammary Lymph Node': '[ANSWER]',\\n'Nipple Retraction': '[ANSWER]',\\n'Skin Retraction': '[ANSWER]',\\n'Trabecular Thickening': '[ANSWER]',\\n}\\n\\nReport:\\nRight Breast:  ACR C: Heterogenously dense breasts.  Upper outer rounded equal density mass with obscured margin is seen.  No suspicious microcalcifications.  Normal skin thickness and contour of breast.      Left Breast:  Status postoperative showing operative scar with no speculated mass lesions or suspicious microcalcifications.      OPINION:  Right Breast:  Upper outer benign looking mass (BIRADS 3).    Left Breast:  Status post operative with operative scar showing no evidence of recurrent lesions (BIRADS 2).                        \\n\\nAnswer according to the template:\\n{\\n'Nodule': 'obscure',\\n'Mass': 'right',\\n'Calcification': 'x',\\n'Asymmetry': 'x',\\n'Architectural Distortion': 'x',\\n'Skin Thickening': 'x',\\n'Lymph Node Enlargement': 'x',\\n'Intramammary Lymph Node': 'x',\\n'Nipple Retraction': 'x',\\n'Skin Retraction': 'x',\\n'Trabecular Thickening': 'x',\\n}\\n\\n\\n\\n\\n\\n\\n\\n\\n\\n\\n\\n\\n\\n\\n\\n\\n\\n\\n\\n\\n\\n\"]\n"
          ]
        },
        {
          "name": "stderr",
          "output_type": "stream",
          "text": [
            " 71%|███████   | 115/163 [4:18:54<1:48:44, 135.93s/it]"
          ]
        },
        {
          "name": "stdout",
          "output_type": "stream",
          "text": [
            "[\"As an AI trained in analyzing radiology reports, your task is to classify the presence or absence of specific findings in each report. Respond according to the given template. \\n\\nRequirements:\\n1. Provide the lesion's location as 'right', 'left' or 'both'(i.e, right and left) if the lesion is explicitly mentioned as present.\\n2. Provide 'obscure' if the information is incomplete.\\n3. Default to 'x' if the finding is not mentioned.\\n\\nTemplate:\\n{\\n'Nodule': '[ANSWER]',\\n'Mass': '[ANSWER]',\\n'Calcification': '[ANSWER]',\\n'Asymmetry': '[ANSWER]',\\n'Architectural Distortion': '[ANSWER]',\\n'Skin Thickening': '[ANSWER]',\\n'Lymph Node Enlargement': '[ANSWER]',\\n'Intramammary Lymph Node': '[ANSWER]',\\n'Nipple Retraction': '[ANSWER]',\\n'Skin Retraction': '[ANSWER]',\\n'Trabecular Thickening': '[ANSWER]',\\n}\\n\\nReport:\\nRight Breast:  Upper oval shaped lobulated equal density mass with circumscribed margin is seen.  No suspicious microcalcifications.  Normal skin thickness and contour of breast.      OPINION:  Right Breast:  Upper benign looking mass, likely IMLN (BIRADS 3).                                    \\n\\nAnswer according to the template:\\n{\\n'Nodule': 'right',\\n'Mass': 'right',\\n'Calcification': 'x',\\n'Asymmetry': 'x',\\n'Architectural Distortion': 'x',\\n'Skin Thickening': 'x',\\n'Lymph Node Enlargement': 'x',\\n'Intramammary Lymph Node': 'x',\\n'Nipple Retraction': 'x',\\n'Skin Retraction': 'x',\\n'Trabecular Thickening': 'x',\\n}\\n\\nReport:\\nLeft Breast:  A 1.5 cm oval shaped mass is seen in\", \"As an AI trained in analyzing radiology reports, your task is to classify the presence or absence of specific findings in each report. Respond according to the given template. \\n\\nRequirements:\\n1. Provide the lesion's location as 'right', 'left' or 'both'(i.e, right and left) if the lesion is explicitly mentioned as present.\\n2. Provide 'obscure' if the information is incomplete.\\n3. Default to 'x' if the finding is not mentioned.\\n\\nTemplate:\\n{\\n'Nodule': '[ANSWER]',\\n'Mass': '[ANSWER]',\\n'Calcification': '[ANSWER]',\\n'Asymmetry': '[ANSWER]',\\n'Architectural Distortion': '[ANSWER]',\\n'Skin Thickening': '[ANSWER]',\\n'Lymph Node Enlargement': '[ANSWER]',\\n'Intramammary Lymph Node': '[ANSWER]',\\n'Nipple Retraction': '[ANSWER]',\\n'Skin Retraction': '[ANSWER]',\\n'Trabecular Thickening': '[ANSWER]',\\n}\\n\\nReport:\\nRight Breast:  No speculated mass lesions or suspicious microcalcifications.  Normal skin thickness and contour of breast.    Left Breast:  No speculated mass lesions or suspicious microcalcifications.  Normal skin thickness and contour of breast.      OPINION:  Right Breast:  Normal breast examination (BIRADS 1).    Left Breast:  Normal breast examination (BIRADS 1).                          \\n\\nAnswer according to the template:\\n{\\n'Nodule': 'obscure',\\n'Mass': 'obscure',\\n'Calcification': 'obscure',\\n'Asymmetry': 'obscure',\\n'Architectural Distortion': 'obscure',\\n'Skin Thickening': 'obscure',\\n'Lymph Node Enlargement': 'obscure',\\n'Intramammary Lymph Node': 'obscure',\\n'Nipple Retraction': 'obscure',\\n'Skin Retraction': 'obscure',\\n'Trabecular Thickening': 'obscure',\\n}\\n\\n\"]\n"
          ]
        },
        {
          "name": "stderr",
          "output_type": "stream",
          "text": [
            " 71%|███████   | 116/163 [4:21:10<1:46:29, 135.94s/it]"
          ]
        },
        {
          "name": "stdout",
          "output_type": "stream",
          "text": [
            "[\"As an AI trained in analyzing radiology reports, your task is to classify the presence or absence of specific findings in each report. Respond according to the given template. \\n\\nRequirements:\\n1. Provide the lesion's location as 'right', 'left' or 'both'(i.e, right and left) if the lesion is explicitly mentioned as present.\\n2. Provide 'obscure' if the information is incomplete.\\n3. Default to 'x' if the finding is not mentioned.\\n\\nTemplate:\\n{\\n'Nodule': '[ANSWER]',\\n'Mass': '[ANSWER]',\\n'Calcification': '[ANSWER]',\\n'Asymmetry': '[ANSWER]',\\n'Architectural Distortion': '[ANSWER]',\\n'Skin Thickening': '[ANSWER]',\\n'Lymph Node Enlargement': '[ANSWER]',\\n'Intramammary Lymph Node': '[ANSWER]',\\n'Nipple Retraction': '[ANSWER]',\\n'Skin Retraction': '[ANSWER]',\\n'Trabecular Thickening': '[ANSWER]',\\n}\\n\\nReport:\\nRight Breast:  Upper asymmetrical increased density is noted.  No suspicious microcalcifications.  Normal skin thickness and contour of breast.      OPINION:  Right Breast:  Upper asymmetry (BIRADS 3).                                    \\n\\nAnswer according to the template:\\n{\\n'Nodule': 'x',\\n'Mass': 'x',\\n'Calcification': 'x',\\n'Asymmetry': 'right',\\n'Architectural Distortion': 'x',\\n'Skin Thickening': 'x',\\n'Lymph Node Enlargement': 'x',\\n'Intramammary Lymph Node': 'x',\\n'Nipple Retraction': 'x',\\n'Skin Retraction': 'x',\\n'Trabecular Thickening': 'x',\\n}\\n\\nReport:\\nRight Breast:  Upper asymmetrical increased density is noted.  No suspicious micro\", \"As an AI trained in analyzing radiology reports, your task is to classify the presence or absence of specific findings in each report. Respond according to the given template. \\n\\nRequirements:\\n1. Provide the lesion's location as 'right', 'left' or 'both'(i.e, right and left) if the lesion is explicitly mentioned as present.\\n2. Provide 'obscure' if the information is incomplete.\\n3. Default to 'x' if the finding is not mentioned.\\n\\nTemplate:\\n{\\n'Nodule': '[ANSWER]',\\n'Mass': '[ANSWER]',\\n'Calcification': '[ANSWER]',\\n'Asymmetry': '[ANSWER]',\\n'Architectural Distortion': '[ANSWER]',\\n'Skin Thickening': '[ANSWER]',\\n'Lymph Node Enlargement': '[ANSWER]',\\n'Intramammary Lymph Node': '[ANSWER]',\\n'Nipple Retraction': '[ANSWER]',\\n'Skin Retraction': '[ANSWER]',\\n'Trabecular Thickening': '[ANSWER]',\\n}\\n\\nReport:\\nRight Breast:  No speculated mass lesions or suspicious microcalcifications.  Normal skin thickness and contour of breast.    Left Breast:  Upper central irregular high density mass with speculated margin is seen.  No suspicious microcalcifications.  Normal skin thickness and contour of breast.      OPINION:  Right Breast:  Normal breast examination (BIRADS 1).    Left Breast:  Upper central malignant looking mass (BIRADS 5).                          \\n\\nAnswer according to the template:\\n{\\n'Nodule': 'obscure',\\n'Mass': 'left',\\n'Calcification': 'x',\\n'Asymmetry': 'x',\\n'Architectural Distortion': 'x',\\n'Skin Thickening': 'x',\\n'Lymph Node Enlargement': 'x',\\n'Intramammary Lymph Node': 'x',\\n'Nipple Retraction': 'x',\\n'Skin Retraction': 'x',\\n'Trabecular Thickening': 'x',\\n}\\n\\n\\n\\n\\n\\n\\n\\n\\n\\n\\n\\n\\n\\n\\n\\n\\n\\n\\n\\n\\n\\n\"]\n"
          ]
        },
        {
          "name": "stderr",
          "output_type": "stream",
          "text": [
            " 72%|███████▏  | 117/163 [4:23:27<1:44:18, 136.05s/it]"
          ]
        },
        {
          "name": "stdout",
          "output_type": "stream",
          "text": [
            "[\"As an AI trained in analyzing radiology reports, your task is to classify the presence or absence of specific findings in each report. Respond according to the given template. \\n\\nRequirements:\\n1. Provide the lesion's location as 'right', 'left' or 'both'(i.e, right and left) if the lesion is explicitly mentioned as present.\\n2. Provide 'obscure' if the information is incomplete.\\n3. Default to 'x' if the finding is not mentioned.\\n\\nTemplate:\\n{\\n'Nodule': '[ANSWER]',\\n'Mass': '[ANSWER]',\\n'Calcification': '[ANSWER]',\\n'Asymmetry': '[ANSWER]',\\n'Architectural Distortion': '[ANSWER]',\\n'Skin Thickening': '[ANSWER]',\\n'Lymph Node Enlargement': '[ANSWER]',\\n'Intramammary Lymph Node': '[ANSWER]',\\n'Nipple Retraction': '[ANSWER]',\\n'Skin Retraction': '[ANSWER]',\\n'Trabecular Thickening': '[ANSWER]',\\n}\\n\\nReport:\\nRight Breast:  ACR B: Scattered fibroglandular tissue.  No speculated mass lesions or suspicious microcalcifications.  Normal skin thickness and contour of breast.      Left Breast:  Status postoperative showing operative scar with upper outer asymmetrical increased density.  No suspicious microcalcifications.  Lower inner quadrant benign macrocalcification.      OPINION:  Right Breast:  Normal breast examination (BIRADS 1).    Left Breast:  Status post operative showing operative scar with upper outer asymmetry (BIRADS 3).  Lower inner benign macrocalcification (BIRADS 2).                        \\n\\nAnswer according to the template:\\n{\\n'Nodule': 'obscure',\\n'Mass': 'obscure',\\n'Calcification': 'obscure',\\n'Asymmetry': 'left',\\n'Architectural Distortion': 'x',\\n'Skin Thickening': 'x',\\n'Lymph Node Enlargement': 'x',\\n'Intramammary Lymph Node': 'x',\\n'Nipple Retraction': 'x',\\n'Skin Retraction': 'x',\\n'Trabecular Thickening': 'x',\\n}\\n\\n\\n\\n\\n\\n\\n\\n\\n\\n\\n\\n\\n\\n\\n\\n\\n\\n\", \"As an AI trained in analyzing radiology reports, your task is to classify the presence or absence of specific findings in each report. Respond according to the given template. \\n\\nRequirements:\\n1. Provide the lesion's location as 'right', 'left' or 'both'(i.e, right and left) if the lesion is explicitly mentioned as present.\\n2. Provide 'obscure' if the information is incomplete.\\n3. Default to 'x' if the finding is not mentioned.\\n\\nTemplate:\\n{\\n'Nodule': '[ANSWER]',\\n'Mass': '[ANSWER]',\\n'Calcification': '[ANSWER]',\\n'Asymmetry': '[ANSWER]',\\n'Architectural Distortion': '[ANSWER]',\\n'Skin Thickening': '[ANSWER]',\\n'Lymph Node Enlargement': '[ANSWER]',\\n'Intramammary Lymph Node': '[ANSWER]',\\n'Nipple Retraction': '[ANSWER]',\\n'Skin Retraction': '[ANSWER]',\\n'Trabecular Thickening': '[ANSWER]',\\n}\\n\\nReport:\\nLeft Breast:  Scattered benign macrocalcifications and vascular calcifications are noted.  No speculated mass lesions or suspicious microcalcifications.  Normal skin thickness and contour of breast.      OPINION:  Left Breast:  Scattered benign macrocalcifications and vascular calcifications (BIRADS 2).                                      \\n\\nAnswer according to the template:\\n{\\n'Nodule': 'x',\\n'Mass': 'x',\\n'Calcification': 'both',\\n'Asymmetry': 'x',\\n'Architectural Distortion': 'x',\\n'Skin Thickening': 'x',\\n'Lymph Node Enlargement': 'x',\\n'Intramammary Lymph Node': 'x',\\n'Nipple Retraction': 'x',\\n'Skin Retraction': 'x',\\n'Trabecular Thickening': 'x',\\n}\\n\\nReport:\\nLeft Breast:  Scattered benign macrocalcifications and vascular calcifications\"]\n"
          ]
        },
        {
          "name": "stderr",
          "output_type": "stream",
          "text": [
            " 72%|███████▏  | 118/163 [4:25:43<1:42:03, 136.07s/it]"
          ]
        },
        {
          "name": "stdout",
          "output_type": "stream",
          "text": [
            "[\"As an AI trained in analyzing radiology reports, your task is to classify the presence or absence of specific findings in each report. Respond according to the given template. \\n\\nRequirements:\\n1. Provide the lesion's location as 'right', 'left' or 'both'(i.e, right and left) if the lesion is explicitly mentioned as present.\\n2. Provide 'obscure' if the information is incomplete.\\n3. Default to 'x' if the finding is not mentioned.\\n\\nTemplate:\\n{\\n'Nodule': '[ANSWER]',\\n'Mass': '[ANSWER]',\\n'Calcification': '[ANSWER]',\\n'Asymmetry': '[ANSWER]',\\n'Architectural Distortion': '[ANSWER]',\\n'Skin Thickening': '[ANSWER]',\\n'Lymph Node Enlargement': '[ANSWER]',\\n'Intramammary Lymph Node': '[ANSWER]',\\n'Nipple Retraction': '[ANSWER]',\\n'Skin Retraction': '[ANSWER]',\\n'Trabecular Thickening': '[ANSWER]',\\n}\\n\\nReport:\\nRight Breast:  Lower inner quadrant oval shaped equal density mass with circumscribed margin is seen.  No suspicious microcalcifications.  Normal skin thickness and contour of breast.    Left Breast:  Upper outer IMLN is noted.  No speculated mass lesions or suspicious microcalcifications.  Normal skin thickness and contour of breast.      OPINION:  Right Breast:  Lower inner benign looking mass, likely fibroadenoma (BIRADS 3).    Left Breast:  Upper outer IMLN (BIRADS 2).                          \\n\\nAnswer according to the template:\\n{\\n'Nodule': 'right',\\n'Mass': 'right',\\n'Calcification': 'x',\\n'Asymmetry': 'x',\\n'Architectural Distortion': 'x',\\n'Skin Thickening': 'x',\\n'Lymph Node Enlargement': 'left',\\n'Intramammary Lymph Node': 'left',\\n'Nipple Retraction': 'x',\\n'Skin Retraction': 'x',\\n'Trabecular Thickening': 'x',\\n}\\n\\n\\n\\n\\n\\n\\n\\n\\n\\n\\n\\n\\n\\n\\n\\n\\n\\n\\n\\n\\n\\n\\n\\n\", \"As an AI trained in analyzing radiology reports, your task is to classify the presence or absence of specific findings in each report. Respond according to the given template. \\n\\nRequirements:\\n1. Provide the lesion's location as 'right', 'left' or 'both'(i.e, right and left) if the lesion is explicitly mentioned as present.\\n2. Provide 'obscure' if the information is incomplete.\\n3. Default to 'x' if the finding is not mentioned.\\n\\nTemplate:\\n{\\n'Nodule': '[ANSWER]',\\n'Mass': '[ANSWER]',\\n'Calcification': '[ANSWER]',\\n'Asymmetry': '[ANSWER]',\\n'Architectural Distortion': '[ANSWER]',\\n'Skin Thickening': '[ANSWER]',\\n'Lymph Node Enlargement': '[ANSWER]',\\n'Intramammary Lymph Node': '[ANSWER]',\\n'Nipple Retraction': '[ANSWER]',\\n'Skin Retraction': '[ANSWER]',\\n'Trabecular Thickening': '[ANSWER]',\\n}\\n\\nReport:\\nRight Breast:  ACR B: Scattered fibroglandular tissue.  No speculated mass lesions or suspicious microcalcifications.  Normal skin thickness and contour of breast.      Left Breast:  Status postoperative showing operative scar and edema.  No speculated mass lesions or suspicious microcalcifications.      OPINION:  Right Breast:  Normal breast examination (BIRADS 1).    Left Breast:  Status post operative with operative scar and edema showing no evidence of recurrent lesions (BIRADS 2).                        \\n\\nAnswer according to the template:\\n{\\n'Nodule': 'obscure',\\n'Mass': 'obscure',\\n'Calcification': 'obscure',\\n'Asymmetry': 'obscure',\\n'Architectural Distortion': 'obscure',\\n'Skin Thickening': 'obscure',\\n'Lymph Node Enlargement': 'obscure',\\n'Intramammary Lymph Node': 'obscure',\\n'Nipple Retraction': 'obscure',\\n'Skin Retraction': 'obscure',\\n'Trabecular Thickening': 'obscure',\\n}\\n\\n\"]\n"
          ]
        },
        {
          "name": "stderr",
          "output_type": "stream",
          "text": [
            " 73%|███████▎  | 119/163 [4:27:59<1:39:50, 136.15s/it]"
          ]
        },
        {
          "name": "stdout",
          "output_type": "stream",
          "text": [
            "[\"As an AI trained in analyzing radiology reports, your task is to classify the presence or absence of specific findings in each report. Respond according to the given template. \\n\\nRequirements:\\n1. Provide the lesion's location as 'right', 'left' or 'both'(i.e, right and left) if the lesion is explicitly mentioned as present.\\n2. Provide 'obscure' if the information is incomplete.\\n3. Default to 'x' if the finding is not mentioned.\\n\\nTemplate:\\n{\\n'Nodule': '[ANSWER]',\\n'Mass': '[ANSWER]',\\n'Calcification': '[ANSWER]',\\n'Asymmetry': '[ANSWER]',\\n'Architectural Distortion': '[ANSWER]',\\n'Skin Thickening': '[ANSWER]',\\n'Lymph Node Enlargement': '[ANSWER]',\\n'Intramammary Lymph Node': '[ANSWER]',\\n'Nipple Retraction': '[ANSWER]',\\n'Skin Retraction': '[ANSWER]',\\n'Trabecular Thickening': '[ANSWER]',\\n}\\n\\nReport:\\nRight Breast:  No speculated mass lesions or suspicious microcalcifications.  Normal skin thickness and contour of breast.    Left Breast:  No speculated mass lesions or suspicious microcalcifications.  Upper inner quadrant benign macrocalcifications are noted.  Retroareolar increased density that is tubular in shape likely dilated duct.  Normal skin thickness and contour of breast.      OPINION:  Right Breast:  Normal breast examination (BIRADS 1).    Left Breast:  Upper inner benign macrocalcifications (BIRADS 2).  Dilated retroareolar duct (BIRADS 2).                  \\n\\nAnswer according to the template:\\n{\\n'Nodule': 'obscure',\\n'Mass': 'obscure',\\n'Calcification': 'left',\\n'Asymmetry': 'x',\\n'Architectural Distortion': 'x',\\n'Skin Thickening': 'x',\\n'Lymph Node Enlargement': 'x',\\n'Intramammary Lymph Node': 'x',\\n'Nipple Retraction': 'x',\\n'Skin Retraction': 'x',\\n'Trabecular Thickening': 'x',\\n}\\n\\n\\n\\n\\n\\n\\n\\n\\n\\n\\n\\n\\n\\n\\n\\n\\n\\n\\n\\n\", \"As an AI trained in analyzing radiology reports, your task is to classify the presence or absence of specific findings in each report. Respond according to the given template. \\n\\nRequirements:\\n1. Provide the lesion's location as 'right', 'left' or 'both'(i.e, right and left) if the lesion is explicitly mentioned as present.\\n2. Provide 'obscure' if the information is incomplete.\\n3. Default to 'x' if the finding is not mentioned.\\n\\nTemplate:\\n{\\n'Nodule': '[ANSWER]',\\n'Mass': '[ANSWER]',\\n'Calcification': '[ANSWER]',\\n'Asymmetry': '[ANSWER]',\\n'Architectural Distortion': '[ANSWER]',\\n'Skin Thickening': '[ANSWER]',\\n'Lymph Node Enlargement': '[ANSWER]',\\n'Intramammary Lymph Node': '[ANSWER]',\\n'Nipple Retraction': '[ANSWER]',\\n'Skin Retraction': '[ANSWER]',\\n'Trabecular Thickening': '[ANSWER]',\\n}\\n\\nReport:\\nRight Breast:  Lower inner quadrant oval shaped equal density mass with obscured margin is seen.  No suspicious microcalcifications.  Normal skin thickness and contour of breast.    Left Breast:  No speculated mass lesions or suspicious microcalcifications.  Normal skin thickness and contour of breast.      OPINION:  Right Breast:  Lower inner benign looking mass (BIRADS 3).    Left Breast:  Normal breast examination (BIRADS 1).                          \\n\\nAnswer according to the template:\\n{\\n'Nodule': 'obscure',\\n'Mass': 'right',\\n'Calcification': 'x',\\n'Asymmetry': 'x',\\n'Architectural Distortion': 'x',\\n'Skin Thickening': 'x',\\n'Lymph Node Enlargement': 'x',\\n'Intramammary Lymph Node': 'x',\\n'Nipple Retraction': 'x',\\n'Skin Retraction': 'x',\\n'Trabecular Thickening': 'x',\\n}\\n\\n\\n\\n\\n\\n\\n\\n\\n\\n\\n\\n\\n\\n\\n\\n\\n\\n\\n\\n\\n\\n\"]\n"
          ]
        },
        {
          "name": "stderr",
          "output_type": "stream",
          "text": [
            " 74%|███████▎  | 120/163 [4:30:15<1:37:35, 136.18s/it]"
          ]
        },
        {
          "name": "stdout",
          "output_type": "stream",
          "text": [
            "[\"As an AI trained in analyzing radiology reports, your task is to classify the presence or absence of specific findings in each report. Respond according to the given template. \\n\\nRequirements:\\n1. Provide the lesion's location as 'right', 'left' or 'both'(i.e, right and left) if the lesion is explicitly mentioned as present.\\n2. Provide 'obscure' if the information is incomplete.\\n3. Default to 'x' if the finding is not mentioned.\\n\\nTemplate:\\n{\\n'Nodule': '[ANSWER]',\\n'Mass': '[ANSWER]',\\n'Calcification': '[ANSWER]',\\n'Asymmetry': '[ANSWER]',\\n'Architectural Distortion': '[ANSWER]',\\n'Skin Thickening': '[ANSWER]',\\n'Lymph Node Enlargement': '[ANSWER]',\\n'Intramammary Lymph Node': '[ANSWER]',\\n'Nipple Retraction': '[ANSWER]',\\n'Skin Retraction': '[ANSWER]',\\n'Trabecular Thickening': '[ANSWER]',\\n}\\n\\nReport:\\nRight Breast:  Diffuse edematous changes evidenced by increased skin thickness and coarsened trabeculae.  Multiple retroareolar irregular high density masses with speculated margin are seen.  No suspicious microcalcifications.    Left Breast:  No speculated mass lesions or suspicious microcalcifications.  Normal skin thickness and contour of breast.      OPINION:  Right Breast:  Diffuse edematous changes associated with retroareolar malignant looking masses (BIRADS 5).    Left Breast:  Normal breast examination (BIRADS 1).                    \\n\\nAnswer according to the template:\\n{\\n'Nodule': 'obscure',\\n'Mass': 'right',\\n'Calcification': 'x',\\n'Asymmetry': 'obscure',\\n'Architectural Distortion': 'obscure',\\n'Skin Thickening': 'right',\\n'Lymph Node Enlargement': 'obscure',\\n'Intramammary Lymph Node': 'obscure',\\n'Nipple Retraction': 'obscure',\\n'Skin Retraction': 'right',\\n'Trabecular Thickening': 'right',\\n}\\n\\n\\n\\n\\n\\n\\n\\n\\n\\n\\n\\n\", \"As an AI trained in analyzing radiology reports, your task is to classify the presence or absence of specific findings in each report. Respond according to the given template. \\n\\nRequirements:\\n1. Provide the lesion's location as 'right', 'left' or 'both'(i.e, right and left) if the lesion is explicitly mentioned as present.\\n2. Provide 'obscure' if the information is incomplete.\\n3. Default to 'x' if the finding is not mentioned.\\n\\nTemplate:\\n{\\n'Nodule': '[ANSWER]',\\n'Mass': '[ANSWER]',\\n'Calcification': '[ANSWER]',\\n'Asymmetry': '[ANSWER]',\\n'Architectural Distortion': '[ANSWER]',\\n'Skin Thickening': '[ANSWER]',\\n'Lymph Node Enlargement': '[ANSWER]',\\n'Intramammary Lymph Node': '[ANSWER]',\\n'Nipple Retraction': '[ANSWER]',\\n'Skin Retraction': '[ANSWER]',\\n'Trabecular Thickening': '[ANSWER]',\\n}\\n\\nReport:\\nRight Breast:  No speculated mass lesions or suspicious microcalcifications.  Normal skin thickness and contour of breast.      OPINION:  Right Breast:  Normal breast examination (BIRADS 1).                                    \\n\\nAnswer according to the template:\\n{\\n'Nodule': 'x',\\n'Mass': 'x',\\n'Calcification': 'x',\\n'Asymmetry': 'x',\\n'Architectural Distortion': 'x',\\n'Skin Thickening': 'x',\\n'Lymph Node Enlargement': 'x',\\n'Intramammary Lymph Node': 'x',\\n'Nipple Retraction': 'x',\\n'Skin Retraction': 'x',\\n'Trabecular Thickening': 'x',\\n}\\n\\nReport:\\nRight Breast:  No speculated mass lesions or suspicious microcalcifications. \"]\n"
          ]
        },
        {
          "name": "stderr",
          "output_type": "stream",
          "text": [
            " 74%|███████▍  | 121/163 [4:32:32<1:35:21, 136.22s/it]"
          ]
        },
        {
          "name": "stdout",
          "output_type": "stream",
          "text": [
            "['As an AI trained in analyzing radiology reports, your task is to classify the presence or absence of specific findings in each report. Respond according to the given template. \\n\\nRequirements:\\n1. Provide the lesion\\'s location as \\'right\\', \\'left\\' or \\'both\\'(i.e, right and left) if the lesion is explicitly mentioned as present.\\n2. Provide \\'obscure\\' if the information is incomplete.\\n3. Default to \\'x\\' if the finding is not mentioned.\\n\\nTemplate:\\n{\\n\\'Nodule\\': \\'[ANSWER]\\',\\n\\'Mass\\': \\'[ANSWER]\\',\\n\\'Calcification\\': \\'[ANSWER]\\',\\n\\'Asymmetry\\': \\'[ANSWER]\\',\\n\\'Architectural Distortion\\': \\'[ANSWER]\\',\\n\\'Skin Thickening\\': \\'[ANSWER]\\',\\n\\'Lymph Node Enlargement\\': \\'[ANSWER]\\',\\n\\'Intramammary Lymph Node\\': \\'[ANSWER]\\',\\n\\'Nipple Retraction\\': \\'[ANSWER]\\',\\n\\'Skin Retraction\\': \\'[ANSWER]\\',\\n\\'Trabecular Thickening\\': \\'[ANSWER]\\',\\n}\\n\\nReport:\\nRight Breast:  Inner equal density mass with circumscribed margin is seen.  No suspicious microcalcifications.  Normal skin thickness and contour of breast.    Left Breast:  Status postoperative showing operative scar with no definite mass lesions or suspicious microcalcifications.  Outer benign macrocalcification is noted.      OPINION:  Right Breast:  Inner benign looking mass (BIRADS 3).    Left Breast:  Status post operative with operative scar showing no evidence of recurrent lesions (BIRADS 2).  Outer benign macrocalcification (BIRADS 2).                          \\n\\nAnswer according to the template:\\n{\\n\\'Nodule\\': \\'right\\',\\n\\'Mass\\': \\'right\\',\\n\\'Calcification\\': \\'left\\',\\n\\'Asymmetry\\': \\'obscure\\',\\n\\'Architectural Distortion\\': \\'x\\',\\n\\'Skin Thickening\\': \\'obscure\\',\\n\\'Lymph Node Enlargement\\': \\'obscure\\',\\n\\'Intramammary Lymph Node\\': \\'obscure\\',\\n\\'Nipple Retraction\\': \\'obscure\\',\\n\\'Skin Retraction\\': \\'obscure\\',\\n\\'Trabecular Thickening\\': \\'obscure\\',\\n}\\n\\n\\n\"\"\"\\n\\nimport json\\n', \"As an AI trained in analyzing radiology reports, your task is to classify the presence or absence of specific findings in each report. Respond according to the given template. \\n\\nRequirements:\\n1. Provide the lesion's location as 'right', 'left' or 'both'(i.e, right and left) if the lesion is explicitly mentioned as present.\\n2. Provide 'obscure' if the information is incomplete.\\n3. Default to 'x' if the finding is not mentioned.\\n\\nTemplate:\\n{\\n'Nodule': '[ANSWER]',\\n'Mass': '[ANSWER]',\\n'Calcification': '[ANSWER]',\\n'Asymmetry': '[ANSWER]',\\n'Architectural Distortion': '[ANSWER]',\\n'Skin Thickening': '[ANSWER]',\\n'Lymph Node Enlargement': '[ANSWER]',\\n'Intramammary Lymph Node': '[ANSWER]',\\n'Nipple Retraction': '[ANSWER]',\\n'Skin Retraction': '[ANSWER]',\\n'Trabecular Thickening': '[ANSWER]',\\n}\\n\\nReport:\\nRight Breast:  Status postoperative with operative scar showing irregular high density mass with speculated margin.  No suspicious microcalcifications.      Left Breast:  ACR C: Heterogenously dense breasts.  No speculated mass lesions or suspicious microcalcifications.  Normal skin thickness and contour of breast.      OPINION:  Right Breast:  Status post operative with operative scar showing suspicious looking mass (BIRADS 4).    Left Breast:  Normal breast examination (BIRADS 1).                        \\n\\nAnswer according to the template:\\n{\\n'Nodule': 'right',\\n'Mass': 'right',\\n'Calcification': 'obscure',\\n'Asymmetry': 'obscure',\\n'Architectural Distortion': 'obscure',\\n'Skin Thickening': 'obscure',\\n'Lymph Node Enlargement': 'obscure',\\n'Intramammary Lymph Node': 'obscure',\\n'Nipple Retraction': 'obscure',\\n'Skin Retraction': 'obscure',\\n'Trabecular Thickening': 'obscure',\\n}\\n\\n\\n\\n\\n\\n\"]\n"
          ]
        },
        {
          "name": "stderr",
          "output_type": "stream",
          "text": [
            " 75%|███████▍  | 122/163 [4:34:48<1:33:02, 136.16s/it]"
          ]
        },
        {
          "name": "stdout",
          "output_type": "stream",
          "text": [
            "[\"As an AI trained in analyzing radiology reports, your task is to classify the presence or absence of specific findings in each report. Respond according to the given template. \\n\\nRequirements:\\n1. Provide the lesion's location as 'right', 'left' or 'both'(i.e, right and left) if the lesion is explicitly mentioned as present.\\n2. Provide 'obscure' if the information is incomplete.\\n3. Default to 'x' if the finding is not mentioned.\\n\\nTemplate:\\n{\\n'Nodule': '[ANSWER]',\\n'Mass': '[ANSWER]',\\n'Calcification': '[ANSWER]',\\n'Asymmetry': '[ANSWER]',\\n'Architectural Distortion': '[ANSWER]',\\n'Skin Thickening': '[ANSWER]',\\n'Lymph Node Enlargement': '[ANSWER]',\\n'Intramammary Lymph Node': '[ANSWER]',\\n'Nipple Retraction': '[ANSWER]',\\n'Skin Retraction': '[ANSWER]',\\n'Trabecular Thickening': '[ANSWER]',\\n}\\n\\nReport:\\nRight Breast:  Inner asymmetrical increased density is noted.  No suspicious microcalcifications.  Normal skin thickness and contour of breast.    Left Breast:  No speculated mass lesions or suspicious microcalcifications.  Normal skin thickness and contour of breast.      OPINION:  Right Breast:  Inner asymmetry (BIRADS 3).    Left Breast:  Normal breast examination (BIRADS 1).                          \\n\\nAnswer according to the template:\\n{\\n'Nodule': 'obscure',\\n'Mass': 'obscure',\\n'Calcification': 'obscure',\\n'Asymmetry': 'right',\\n'Architectural Distortion': 'x',\\n'Skin Thickening': 'x',\\n'Lymph Node Enlargement': 'x',\\n'Intramammary Lymph Node': 'x',\\n'Nipple Retraction': 'x',\\n'Skin Retraction': 'x',\\n'Trabecular Thickening': 'x',\\n}\\n\\n\\n\\n\\n\\n\\n\\n\\n\\n\\n\\n\\n\\n\\n\\n\\n\\n\", \"As an AI trained in analyzing radiology reports, your task is to classify the presence or absence of specific findings in each report. Respond according to the given template. \\n\\nRequirements:\\n1. Provide the lesion's location as 'right', 'left' or 'both'(i.e, right and left) if the lesion is explicitly mentioned as present.\\n2. Provide 'obscure' if the information is incomplete.\\n3. Default to 'x' if the finding is not mentioned.\\n\\nTemplate:\\n{\\n'Nodule': '[ANSWER]',\\n'Mass': '[ANSWER]',\\n'Calcification': '[ANSWER]',\\n'Asymmetry': '[ANSWER]',\\n'Architectural Distortion': '[ANSWER]',\\n'Skin Thickening': '[ANSWER]',\\n'Lymph Node Enlargement': '[ANSWER]',\\n'Intramammary Lymph Node': '[ANSWER]',\\n'Nipple Retraction': '[ANSWER]',\\n'Skin Retraction': '[ANSWER]',\\n'Trabecular Thickening': '[ANSWER]',\\n}\\n\\nReport:\\nRight Breast:  No speculated mass lesions or suspicious microcalcifications.  Normal skin thickness and contour of breast.    Left Breast:  Lower inner benign macrocalcification is noted.  No speculated mass lesions or suspicious microcalcifications.  Normal skin thickness and contour of breast.      OPINION:  Right Breast:  Normal breast examination (BIRADS 1).    Left Breast:  Lower inner benign macrocalcification (BIRADS 2).                          \\n\\nAnswer according to the template:\\n{\\n'Nodule': 'obscure',\\n'Mass': 'obscure',\\n'Calcification': 'left',\\n'Asymmetry': 'x',\\n'Architectural Distortion': 'x',\\n'Skin Thickening': 'x',\\n'Lymph Node Enlargement': 'x',\\n'Intramammary Lymph Node': 'x',\\n'Nipple Retraction': 'x',\\n'Skin Retraction': 'x',\\n'Trabecular Thickening': 'x',\\n}\\n\\n\\n\\n\\n\\n\\n\\n\\n\\n\\n\\n\\n\\n\\n\\n\\n\\n\\n\\n\"]\n"
          ]
        },
        {
          "name": "stderr",
          "output_type": "stream",
          "text": [
            " 75%|███████▌  | 123/163 [4:37:04<1:30:45, 136.14s/it]"
          ]
        },
        {
          "name": "stdout",
          "output_type": "stream",
          "text": [
            "[\"As an AI trained in analyzing radiology reports, your task is to classify the presence or absence of specific findings in each report. Respond according to the given template. \\n\\nRequirements:\\n1. Provide the lesion's location as 'right', 'left' or 'both'(i.e, right and left) if the lesion is explicitly mentioned as present.\\n2. Provide 'obscure' if the information is incomplete.\\n3. Default to 'x' if the finding is not mentioned.\\n\\nTemplate:\\n{\\n'Nodule': '[ANSWER]',\\n'Mass': '[ANSWER]',\\n'Calcification': '[ANSWER]',\\n'Asymmetry': '[ANSWER]',\\n'Architectural Distortion': '[ANSWER]',\\n'Skin Thickening': '[ANSWER]',\\n'Lymph Node Enlargement': '[ANSWER]',\\n'Intramammary Lymph Node': '[ANSWER]',\\n'Nipple Retraction': '[ANSWER]',\\n'Skin Retraction': '[ANSWER]',\\n'Trabecular Thickening': '[ANSWER]',\\n}\\n\\nReport:\\nRight Breast:  Inner benign macrocalcification is noted.  No speculated mass lesions or suspicious microcalcifications.  Normal skin thickness and contour of breast.    Left Breast:  Multiple central outer irregular high density masses with indistinct margin and few overlying central calcifications are seen associated with edema pattern.      OPINION:  Right Breast:  Inner benign macrocalcification (BIRADS 2).    Left Breast:  Multiple central outer malignant looking masses with few central overlying calcifications and edema pattern (BIRADS 5).                          \\n\\nAnswer according to the template:\\n{\\n'Nodule': 'left',\\n'Mass': 'left',\\n'Calcification': 'left',\\n'Asymmetry': 'obscure',\\n'Architectural Distortion': 'obscure',\\n'Skin Thickening': 'obscure',\\n'Lymph Node Enlargement': 'obscure',\\n'Intramammary Lymph Node': 'obscure',\\n'Nipple Retraction': 'obscure',\\n'Skin Retraction': 'obscure',\\n'Trabecular Thickening': 'obscure',\\n}\\n\\n\\n\\n\\n\\n\\n\\n\", \"As an AI trained in analyzing radiology reports, your task is to classify the presence or absence of specific findings in each report. Respond according to the given template. \\n\\nRequirements:\\n1. Provide the lesion's location as 'right', 'left' or 'both'(i.e, right and left) if the lesion is explicitly mentioned as present.\\n2. Provide 'obscure' if the information is incomplete.\\n3. Default to 'x' if the finding is not mentioned.\\n\\nTemplate:\\n{\\n'Nodule': '[ANSWER]',\\n'Mass': '[ANSWER]',\\n'Calcification': '[ANSWER]',\\n'Asymmetry': '[ANSWER]',\\n'Architectural Distortion': '[ANSWER]',\\n'Skin Thickening': '[ANSWER]',\\n'Lymph Node Enlargement': '[ANSWER]',\\n'Intramammary Lymph Node': '[ANSWER]',\\n'Nipple Retraction': '[ANSWER]',\\n'Skin Retraction': '[ANSWER]',\\n'Trabecular Thickening': '[ANSWER]',\\n}\\n\\nReport:\\nRight Breast:  Two upper and retroareolar irregular high density masses with speculated margin and nipple retraction are seen.  No suspicious microcalcifications.  Normal skin thickness and contour of breast.      OPINION:  Right Breast:  Two upper and retroareolar malignant looking masses associated with nipple retraction (BIRADS 5).                                    \\n\\nAnswer according to the template:\\n{\\n'Nodule': 'right',\\n'Mass': 'right',\\n'Calcification': 'x',\\n'Asymmetry': 'x',\\n'Architectural Distortion': 'x',\\n'Skin Thickening': 'x',\\n'Lymph Node Enlargement': 'x',\\n'Intramammary Lymph Node': 'x',\\n'Nipple Retraction': 'right',\\n'Skin Retraction': 'right',\\n'Trabecular Thickening': 'x',\\n}\\n\\nReport:\\nLeft Breast:  A 1.5 cm oval mass is seen in the upper\"]\n"
          ]
        },
        {
          "name": "stderr",
          "output_type": "stream",
          "text": [
            " 76%|███████▌  | 124/163 [4:39:20<1:28:28, 136.10s/it]"
          ]
        },
        {
          "name": "stdout",
          "output_type": "stream",
          "text": [
            "[\"As an AI trained in analyzing radiology reports, your task is to classify the presence or absence of specific findings in each report. Respond according to the given template. \\n\\nRequirements:\\n1. Provide the lesion's location as 'right', 'left' or 'both'(i.e, right and left) if the lesion is explicitly mentioned as present.\\n2. Provide 'obscure' if the information is incomplete.\\n3. Default to 'x' if the finding is not mentioned.\\n\\nTemplate:\\n{\\n'Nodule': '[ANSWER]',\\n'Mass': '[ANSWER]',\\n'Calcification': '[ANSWER]',\\n'Asymmetry': '[ANSWER]',\\n'Architectural Distortion': '[ANSWER]',\\n'Skin Thickening': '[ANSWER]',\\n'Lymph Node Enlargement': '[ANSWER]',\\n'Intramammary Lymph Node': '[ANSWER]',\\n'Nipple Retraction': '[ANSWER]',\\n'Skin Retraction': '[ANSWER]',\\n'Trabecular Thickening': '[ANSWER]',\\n}\\n\\nReport:\\nLeft Breast:  Lower irregular high density mass with speculated margin is seen.  No suspicious microcalcifications.  Normal skin thickness and contour of breast.      OPINION:  Left Breast:  Lower malignant looking mass (BIRADS 5).                                      \\n\\nAnswer according to the template:\\n{\\n'Nodule': 'left',\\n'Mass': 'left',\\n'Calcification': 'x',\\n'Asymmetry': 'x',\\n'Architectural Distortion': 'x',\\n'Skin Thickening': 'x',\\n'Lymph Node Enlargement': 'x',\\n'Intramammary Lymph Node': 'x',\\n'Nipple Retraction': 'x',\\n'Skin Retraction': 'x',\\n'Trabecular Thickening': 'x',\\n}\\n\\nReport:\\nLeft Breast:  Lower irregular high density mass with speculated margin is seen.  No\", \"As an AI trained in analyzing radiology reports, your task is to classify the presence or absence of specific findings in each report. Respond according to the given template. \\n\\nRequirements:\\n1. Provide the lesion's location as 'right', 'left' or 'both'(i.e, right and left) if the lesion is explicitly mentioned as present.\\n2. Provide 'obscure' if the information is incomplete.\\n3. Default to 'x' if the finding is not mentioned.\\n\\nTemplate:\\n{\\n'Nodule': '[ANSWER]',\\n'Mass': '[ANSWER]',\\n'Calcification': '[ANSWER]',\\n'Asymmetry': '[ANSWER]',\\n'Architectural Distortion': '[ANSWER]',\\n'Skin Thickening': '[ANSWER]',\\n'Lymph Node Enlargement': '[ANSWER]',\\n'Intramammary Lymph Node': '[ANSWER]',\\n'Nipple Retraction': '[ANSWER]',\\n'Skin Retraction': '[ANSWER]',\\n'Trabecular Thickening': '[ANSWER]',\\n}\\n\\nReport:\\nRight Breast:  No speculated mass lesions or suspicious microcalcifications.  Normal skin thickness and contour of breast.    Left Breast:  Upper outer quadrant oval shaped equal density mass with obscured margin is seen.  No suspicious microcalcifications.  Normal skin thickness and contour of breast.      OPINION:  Right Breast:  Normal breast examination (BIRADS 1).    Left Breast:  Upper outer benign looking mass (BIRADS 3).                          \\n\\nAnswer according to the template:\\n{\\n'Nodule': 'obscure',\\n'Mass': 'left',\\n'Calcification': 'x',\\n'Asymmetry': 'x',\\n'Architectural Distortion': 'x',\\n'Skin Thickening': 'x',\\n'Lymph Node Enlargement': 'x',\\n'Intramammary Lymph Node': 'x',\\n'Nipple Retraction': 'x',\\n'Skin Retraction': 'x',\\n'Trabecular Thickening': 'x',\\n}\\n\\n\\n\\n\\n\\n\\n\\n\\n\\n\\n\\n\\n\\n\\n\\n\\n\\n\\n\\n\\n\\n\"]\n"
          ]
        },
        {
          "name": "stderr",
          "output_type": "stream",
          "text": [
            " 77%|███████▋  | 125/163 [4:41:36<1:26:13, 136.16s/it]"
          ]
        },
        {
          "name": "stdout",
          "output_type": "stream",
          "text": [
            "[\"As an AI trained in analyzing radiology reports, your task is to classify the presence or absence of specific findings in each report. Respond according to the given template. \\n\\nRequirements:\\n1. Provide the lesion's location as 'right', 'left' or 'both'(i.e, right and left) if the lesion is explicitly mentioned as present.\\n2. Provide 'obscure' if the information is incomplete.\\n3. Default to 'x' if the finding is not mentioned.\\n\\nTemplate:\\n{\\n'Nodule': '[ANSWER]',\\n'Mass': '[ANSWER]',\\n'Calcification': '[ANSWER]',\\n'Asymmetry': '[ANSWER]',\\n'Architectural Distortion': '[ANSWER]',\\n'Skin Thickening': '[ANSWER]',\\n'Lymph Node Enlargement': '[ANSWER]',\\n'Intramammary Lymph Node': '[ANSWER]',\\n'Nipple Retraction': '[ANSWER]',\\n'Skin Retraction': '[ANSWER]',\\n'Trabecular Thickening': '[ANSWER]',\\n}\\n\\nReport:\\nRight Breast:  Two upper and central outer quadrant irregular high density masses with speculated margin are seen.  Upper outer architectural distortion with overlying microcalcifications.  Normal skin thickness and contour of breast.    Left Breast:  No speculated mass lesions or suspicious microcalcifications.  Normal skin thickness and contour of breast.      OPINION:  Right Breast:  Upper and central outer quadrant malignant looking lesions, one of them is seen with overlying microcalcifications (BIRADS 5).    Left Breast:  Normal breast examination (BIRADS 1).                          \\n\\nAnswer according to the template:\\n{\\n'Nodule': 'right',\\n'Mass': 'right',\\n'Calcification': 'right',\\n'Asymmetry': 'right',\\n'Architectural Distortion': 'right',\\n'Skin Thickening': 'both',\\n'Lymph Node Enlargement': 'x',\\n'Intramammary Lymph Node': 'x',\\n'Nipple Retraction': 'x',\\n'Skin Retraction': 'x',\\n'Trabecular Thickening': 'x',\\n}\\n\\n\\n\\n\\n\\n\\n\\n\\n\\n\\n\\n\\n\\n\\n\\n\\n\\n\\n\\n\\n\\n\\n\\n\", \"As an AI trained in analyzing radiology reports, your task is to classify the presence or absence of specific findings in each report. Respond according to the given template. \\n\\nRequirements:\\n1. Provide the lesion's location as 'right', 'left' or 'both'(i.e, right and left) if the lesion is explicitly mentioned as present.\\n2. Provide 'obscure' if the information is incomplete.\\n3. Default to 'x' if the finding is not mentioned.\\n\\nTemplate:\\n{\\n'Nodule': '[ANSWER]',\\n'Mass': '[ANSWER]',\\n'Calcification': '[ANSWER]',\\n'Asymmetry': '[ANSWER]',\\n'Architectural Distortion': '[ANSWER]',\\n'Skin Thickening': '[ANSWER]',\\n'Lymph Node Enlargement': '[ANSWER]',\\n'Intramammary Lymph Node': '[ANSWER]',\\n'Nipple Retraction': '[ANSWER]',\\n'Skin Retraction': '[ANSWER]',\\n'Trabecular Thickening': '[ANSWER]',\\n}\\n\\nReport:\\nLeft Breast:  No speculated mass lesions or suspicious microcalcifications.  Normal skin thickness and contour of breast.      OPINION:  Left Breast:  Normal breast examination (BIRADS 1).                                      \\n\\nAnswer according to the template:\\n{\\n'Nodule': 'obscure',\\n'Mass': 'obscure',\\n'Calcification': 'obscure',\\n'Asymmetry': 'obscure',\\n'Architectural Distortion': 'obscure',\\n'Skin Thickening': 'obscure',\\n'Lymph Node Enlargement': 'obscure',\\n'Intramammary Lymph Node': 'obscure',\\n'Nipple Retraction': 'obscure',\\n'Skin Retraction': 'obscure',\\n'Trabecular Thickening': 'obscure',\\n}\\n\\n\"]\n"
          ]
        },
        {
          "name": "stderr",
          "output_type": "stream",
          "text": [
            " 77%|███████▋  | 126/163 [4:43:52<1:23:56, 136.13s/it]"
          ]
        },
        {
          "name": "stdout",
          "output_type": "stream",
          "text": [
            "['As an AI trained in analyzing radiology reports, your task is to classify the presence or absence of specific findings in each report. Respond according to the given template. \\n\\nRequirements:\\n1. Provide the lesion\\'s location as \\'right\\', \\'left\\' or \\'both\\'(i.e, right and left) if the lesion is explicitly mentioned as present.\\n2. Provide \\'obscure\\' if the information is incomplete.\\n3. Default to \\'x\\' if the finding is not mentioned.\\n\\nTemplate:\\n{\\n\\'Nodule\\': \\'[ANSWER]\\',\\n\\'Mass\\': \\'[ANSWER]\\',\\n\\'Calcification\\': \\'[ANSWER]\\',\\n\\'Asymmetry\\': \\'[ANSWER]\\',\\n\\'Architectural Distortion\\': \\'[ANSWER]\\',\\n\\'Skin Thickening\\': \\'[ANSWER]\\',\\n\\'Lymph Node Enlargement\\': \\'[ANSWER]\\',\\n\\'Intramammary Lymph Node\\': \\'[ANSWER]\\',\\n\\'Nipple Retraction\\': \\'[ANSWER]\\',\\n\\'Skin Retraction\\': \\'[ANSWER]\\',\\n\\'Trabecular Thickening\\': \\'[ANSWER]\\',\\n}\\n\\nReport:\\nRight Breast:  Retroareolar oval shaped equal density mass with indistinct margin is seen.  Upper outer IMLN is noted.  No suspicious microcalcifications.  Normal skin thickness and contour of breast.    Left Breast:  No speculated mass lesions or suspicious microcalcifications.  Normal skin thickness and contour of breast.      OPINION:  Right Breast:  Retroareolar suspicious looking mass associated with upper outer IMLN (BIRADS 4).    Left Breast:  Normal breast examination (BIRADS 1).                          \\n\\nAnswer according to the template:\\n{\\n\\'Nodule\\': \\'right\\',\\n\\'Mass\\': \\'right\\',\\n\\'Calcification\\': \\'x\\',\\n\\'Asymmetry\\': \\'obscure\\',\\n\\'Architectural Distortion\\': \\'x\\',\\n\\'Skin Thickening\\': \\'right\\',\\n\\'Lymph Node Enlargement\\': \\'right\\',\\n\\'Intramammary Lymph Node\\': \\'right\\',\\n\\'Nipple Retraction\\': \\'x\\',\\n\\'Skin Retraction\\': \\'x\\',\\n\\'Trabecular Thickening\\': \\'x\\',\\n}\\n\\n\\n\"\"\"\\n\\nimport os\\nimport json\\nimport numpy as np\\nimport pandas as pd', \"As an AI trained in analyzing radiology reports, your task is to classify the presence or absence of specific findings in each report. Respond according to the given template. \\n\\nRequirements:\\n1. Provide the lesion's location as 'right', 'left' or 'both'(i.e, right and left) if the lesion is explicitly mentioned as present.\\n2. Provide 'obscure' if the information is incomplete.\\n3. Default to 'x' if the finding is not mentioned.\\n\\nTemplate:\\n{\\n'Nodule': '[ANSWER]',\\n'Mass': '[ANSWER]',\\n'Calcification': '[ANSWER]',\\n'Asymmetry': '[ANSWER]',\\n'Architectural Distortion': '[ANSWER]',\\n'Skin Thickening': '[ANSWER]',\\n'Lymph Node Enlargement': '[ANSWER]',\\n'Intramammary Lymph Node': '[ANSWER]',\\n'Nipple Retraction': '[ANSWER]',\\n'Skin Retraction': '[ANSWER]',\\n'Trabecular Thickening': '[ANSWER]',\\n}\\n\\nReport:\\nRight Breast:  Diffuse edematous changes evidenced by increased skin thickness and coarsened trabeculae.  No suspicious microcalcifications.    Left Breast:  No speculated mass lesions or suspicious microcalcifications.  Normal skin thickness and contour of breast.      OPINION:  Right Breast:  Diffuse edematous changes (BIRADS 4).    Left Breast:  Normal breast examination (BIRADS 1).                    \\n\\nAnswer according to the template:\\n{\\n'Nodule': 'obscure',\\n'Mass': 'obscure',\\n'Calcification': 'obscure',\\n'Asymmetry': 'obscure',\\n'Architectural Distortion': 'obscure',\\n'Skin Thickening': 'right',\\n'Lymph Node Enlargement': 'obscure',\\n'Intramammary Lymph Node': 'obscure',\\n'Nipple Retraction': 'obscure',\\n'Skin Retraction': 'right',\\n'Trabecular Thickening': 'right',\\n}\\n\\n\\n\\n\\n\\n\\n\\n\"]\n"
          ]
        },
        {
          "name": "stderr",
          "output_type": "stream",
          "text": [
            " 78%|███████▊  | 127/163 [4:46:08<1:21:40, 136.12s/it]"
          ]
        },
        {
          "name": "stdout",
          "output_type": "stream",
          "text": [
            "[\"As an AI trained in analyzing radiology reports, your task is to classify the presence or absence of specific findings in each report. Respond according to the given template. \\n\\nRequirements:\\n1. Provide the lesion's location as 'right', 'left' or 'both'(i.e, right and left) if the lesion is explicitly mentioned as present.\\n2. Provide 'obscure' if the information is incomplete.\\n3. Default to 'x' if the finding is not mentioned.\\n\\nTemplate:\\n{\\n'Nodule': '[ANSWER]',\\n'Mass': '[ANSWER]',\\n'Calcification': '[ANSWER]',\\n'Asymmetry': '[ANSWER]',\\n'Architectural Distortion': '[ANSWER]',\\n'Skin Thickening': '[ANSWER]',\\n'Lymph Node Enlargement': '[ANSWER]',\\n'Intramammary Lymph Node': '[ANSWER]',\\n'Nipple Retraction': '[ANSWER]',\\n'Skin Retraction': '[ANSWER]',\\n'Trabecular Thickening': '[ANSWER]',\\n}\\n\\nReport:\\nRight Breast:  Lower inner quadrant irregular high density mass with speculated margin and edema pattern are seen associated with clusters of pleomorphic microcalcifications.    Left Breast:  No speculated mass lesions or suspicious microcalcifications.  Normal skin thickness and contour of breast.      OPINION:  Right Breast:  Lower inner malignant looking mass with edema pattern and suspicious microcalcifications (BIRADS 5).    Left Breast:  Normal breast examination (BIRADS 1).                          \\n\\nAnswer according to the template:\\n{\\n'Nodule': 'right',\\n'Mass': 'right',\\n'Calcification': 'right',\\n'Asymmetry': 'obscure',\\n'Architectural Distortion': 'obscure',\\n'Skin Thickening': 'obscure',\\n'Lymph Node Enlargement': 'obscure',\\n'Intramammary Lymph Node': 'obscure',\\n'Nipple Retraction': 'obscure',\\n'Skin Retraction': 'obscure',\\n'Trabecular Thickening': 'obscure',\\n}\\n\\n\\n\\n\\n\\n\\n\\n\", \"As an AI trained in analyzing radiology reports, your task is to classify the presence or absence of specific findings in each report. Respond according to the given template. \\n\\nRequirements:\\n1. Provide the lesion's location as 'right', 'left' or 'both'(i.e, right and left) if the lesion is explicitly mentioned as present.\\n2. Provide 'obscure' if the information is incomplete.\\n3. Default to 'x' if the finding is not mentioned.\\n\\nTemplate:\\n{\\n'Nodule': '[ANSWER]',\\n'Mass': '[ANSWER]',\\n'Calcification': '[ANSWER]',\\n'Asymmetry': '[ANSWER]',\\n'Architectural Distortion': '[ANSWER]',\\n'Skin Thickening': '[ANSWER]',\\n'Lymph Node Enlargement': '[ANSWER]',\\n'Intramammary Lymph Node': '[ANSWER]',\\n'Nipple Retraction': '[ANSWER]',\\n'Skin Retraction': '[ANSWER]',\\n'Trabecular Thickening': '[ANSWER]',\\n}\\n\\nReport:\\nRight Breast:  ACR C: Heterogenously dense breasts.  Upper outer quadrant focal asymmetrical increased density is seen.  No suspicious microcalcifications.  Normal skin thickness and contour of breast.      Left Breast:  Upper benign macrocalcifications are noted.  No speculated mass lesions or suspicious microcalcifications.      OPINION:  Right Breast:  Upper outer quadrant focal asymmetry (BIRADS 3).    Left Breast:  Upper benign macrocalcifications (BIRADS 2).                  \\n\\nAnswer according to the template:\\n{\\n'Nodule': 'obscure',\\n'Mass': 'obscure',\\n'Calcification': 'obscure',\\n'Asymmetry': 'right',\\n'Architectural Distortion': 'x',\\n'Skin Thickening': 'x',\\n'Lymph Node Enlargement': 'x',\\n'Intramammary Lymph Node': 'x',\\n'Nipple Retraction': 'x',\\n'Skin Retraction': 'x',\\n'Trabecular Thickening': 'x',\\n}\\n\\n\\n\\n\\n\\n\\n\\n\\n\\n\\n\\n\\n\\n\\n\\n\\n\\n\"]\n"
          ]
        },
        {
          "name": "stderr",
          "output_type": "stream",
          "text": [
            " 79%|███████▊  | 128/163 [4:48:25<1:19:29, 136.28s/it]"
          ]
        },
        {
          "name": "stdout",
          "output_type": "stream",
          "text": [
            "[\"As an AI trained in analyzing radiology reports, your task is to classify the presence or absence of specific findings in each report. Respond according to the given template. \\n\\nRequirements:\\n1. Provide the lesion's location as 'right', 'left' or 'both'(i.e, right and left) if the lesion is explicitly mentioned as present.\\n2. Provide 'obscure' if the information is incomplete.\\n3. Default to 'x' if the finding is not mentioned.\\n\\nTemplate:\\n{\\n'Nodule': '[ANSWER]',\\n'Mass': '[ANSWER]',\\n'Calcification': '[ANSWER]',\\n'Asymmetry': '[ANSWER]',\\n'Architectural Distortion': '[ANSWER]',\\n'Skin Thickening': '[ANSWER]',\\n'Lymph Node Enlargement': '[ANSWER]',\\n'Intramammary Lymph Node': '[ANSWER]',\\n'Nipple Retraction': '[ANSWER]',\\n'Skin Retraction': '[ANSWER]',\\n'Trabecular Thickening': '[ANSWER]',\\n}\\n\\nReport:\\nRight Breast:  No speculated mass lesions or suspicious microcalcifications.  Upper outer vascular calcifications are noted.  Retroareolar increased density that is tubular in shape likely dilated duct.  Normal skin thickness and contour of breast.    Left Breast:  Upper central deeply seated rounded high density mass with microlobulated margin is seen.  Upper outer vascular calcifications are noted.  No suspicious microcalcifications.  Normal skin thickness and contour of breast.      OPINION:  Right Breast:  Upper outer vascular calcifications (BIRADS 2).  Dilated retroareolar duct (BIRADS 2).    Left Breast:  Upper central deeply seated suspicious looking mass (BIRADS 4).  Upper outer vascular calcifications (BIRADS 2).            \\n\\nAnswer according to the template:\\n{\\n'Nodule': 'obscure',\\n'Mass': 'left',\\n'Calcification': 'both',\\n'Asymmetry': 'x',\\n'Architectural Distortion': 'x',\\n'Skin Thickening': 'x',\\n'Lymph Node Enlargement': 'x',\\n'Intramammary Lymph Node': 'x',\\n'Nipple Retraction': 'x',\\n'Skin Retraction': 'x',\\n'Trabecular Thickening': 'x',\\n}\\n\\n\\n\\n\\n\\n\\n\\n\\n\\n\\n\\n\\n\\n\\n\\n\\n\\n\\n\\n\\n\\n\", \"As an AI trained in analyzing radiology reports, your task is to classify the presence or absence of specific findings in each report. Respond according to the given template. \\n\\nRequirements:\\n1. Provide the lesion's location as 'right', 'left' or 'both'(i.e, right and left) if the lesion is explicitly mentioned as present.\\n2. Provide 'obscure' if the information is incomplete.\\n3. Default to 'x' if the finding is not mentioned.\\n\\nTemplate:\\n{\\n'Nodule': '[ANSWER]',\\n'Mass': '[ANSWER]',\\n'Calcification': '[ANSWER]',\\n'Asymmetry': '[ANSWER]',\\n'Architectural Distortion': '[ANSWER]',\\n'Skin Thickening': '[ANSWER]',\\n'Lymph Node Enlargement': '[ANSWER]',\\n'Intramammary Lymph Node': '[ANSWER]',\\n'Nipple Retraction': '[ANSWER]',\\n'Skin Retraction': '[ANSWER]',\\n'Trabecular Thickening': '[ANSWER]',\\n}\\n\\nReport:\\nLeft Breast:  Diffuse edematous changes evidenced by increased skin thickness and coarsened trabeculae is seen associated with retroareolar architectural distortion.  No suspicious microcalcifications.    OPINION:  Left Breast:  Diffuse edematous changes associated with retroareolar architectural distortion (BIRADS 4).                              \\n\\nAnswer according to the template:\\n{\\n'Nodule': 'obscure',\\n'Mass': 'obscure',\\n'Calcification': 'obscure',\\n'Asymmetry': 'obscure',\\n'Architectural Distortion': 'left',\\n'Skin Thickening': 'left',\\n'Lymph Node Enlargement': 'obscure',\\n'Intramammary Lymph Node': 'obscure',\\n'Nipple Retraction': 'obscure',\\n'Skin Retraction': 'left',\\n'Trabecular Thickening': 'left',\\n}\\n\\n\\n\\n\\n\\n\\n\\n\\n\\n\"]\n"
          ]
        },
        {
          "name": "stderr",
          "output_type": "stream",
          "text": [
            " 79%|███████▉  | 129/163 [4:50:41<1:17:11, 136.23s/it]"
          ]
        },
        {
          "name": "stdout",
          "output_type": "stream",
          "text": [
            "[\"As an AI trained in analyzing radiology reports, your task is to classify the presence or absence of specific findings in each report. Respond according to the given template. \\n\\nRequirements:\\n1. Provide the lesion's location as 'right', 'left' or 'both'(i.e, right and left) if the lesion is explicitly mentioned as present.\\n2. Provide 'obscure' if the information is incomplete.\\n3. Default to 'x' if the finding is not mentioned.\\n\\nTemplate:\\n{\\n'Nodule': '[ANSWER]',\\n'Mass': '[ANSWER]',\\n'Calcification': '[ANSWER]',\\n'Asymmetry': '[ANSWER]',\\n'Architectural Distortion': '[ANSWER]',\\n'Skin Thickening': '[ANSWER]',\\n'Lymph Node Enlargement': '[ANSWER]',\\n'Intramammary Lymph Node': '[ANSWER]',\\n'Nipple Retraction': '[ANSWER]',\\n'Skin Retraction': '[ANSWER]',\\n'Trabecular Thickening': '[ANSWER]',\\n}\\n\\nReport:\\nRight Breast:  Lower inner irregular high density mass with speculated margin is seen.  No suspicious microcalcifications.  Normal skin thickness and contour of breast.    Left Breast:  No speculated mass lesions or suspicious microcalcifications.  Normal skin thickness and contour of breast.      OPINION:  Right Breast:  Lower inner malignant looking mass (BIRADS 5).    Left Breast:  Normal breast examination (BIRADS 1).                          \\n\\nAnswer according to the template:\\n{\\n'Nodule': 'right',\\n'Mass': 'right',\\n'Calcification': 'x',\\n'Asymmetry': 'x',\\n'Architectural Distortion': 'x',\\n'Skin Thickening': 'x',\\n'Lymph Node Enlargement': 'x',\\n'Intramammary Lymph Node': 'x',\\n'Nipple Retraction': 'x',\\n'Skin Retraction': 'x',\\n'Trabecular Thickening': 'x',\\n}\\n\\n\\n\\n\\n\\n\\n\\n\\n\\n\\n\\n\\n\\n\\n\\n\\n\\n\\n\\n\\n\\n\\n\\n\", \"As an AI trained in analyzing radiology reports, your task is to classify the presence or absence of specific findings in each report. Respond according to the given template. \\n\\nRequirements:\\n1. Provide the lesion's location as 'right', 'left' or 'both'(i.e, right and left) if the lesion is explicitly mentioned as present.\\n2. Provide 'obscure' if the information is incomplete.\\n3. Default to 'x' if the finding is not mentioned.\\n\\nTemplate:\\n{\\n'Nodule': '[ANSWER]',\\n'Mass': '[ANSWER]',\\n'Calcification': '[ANSWER]',\\n'Asymmetry': '[ANSWER]',\\n'Architectural Distortion': '[ANSWER]',\\n'Skin Thickening': '[ANSWER]',\\n'Lymph Node Enlargement': '[ANSWER]',\\n'Intramammary Lymph Node': '[ANSWER]',\\n'Nipple Retraction': '[ANSWER]',\\n'Skin Retraction': '[ANSWER]',\\n'Trabecular Thickening': '[ANSWER]',\\n}\\n\\nReport:\\nRight Breast:  Upper outer retroareolar architectural distortion with overlying clusters of pleomorphic microcalcifications are seen.   Normal skin thickness and contour of breast.    Left Breast:  No speculated mass lesions or suspicious microcalcifications.  Normal skin thickness and contour of breast.      OPINION:  Right Breast:  Upper outer retroareolar malignant looking architectural distortion and suspicious microcalcifications (BIRADS 5).    Left Breast:  Normal breast examination (BIRADS 1).                          \\n\\nAnswer according to the template:\\n{\\n'Nodule': 'obscure',\\n'Mass': 'obscure',\\n'Calcification': 'obscure',\\n'Asymmetry': 'obscure',\\n'Architectural Distortion': 'right',\\n'Skin Thickening': 'obscure',\\n'Lymph Node Enlargement': 'obscure',\\n'Intramammary Lymph Node': 'obscure',\\n'Nipple Retraction': 'obscure',\\n'Skin Retraction': 'obscure',\\n'Trabecular Thickening': 'obscure',\\n}\\n\\n\\n\\n\"]\n"
          ]
        },
        {
          "name": "stderr",
          "output_type": "stream",
          "text": [
            " 80%|███████▉  | 130/163 [4:52:57<1:14:54, 136.19s/it]"
          ]
        },
        {
          "name": "stdout",
          "output_type": "stream",
          "text": [
            "[\"As an AI trained in analyzing radiology reports, your task is to classify the presence or absence of specific findings in each report. Respond according to the given template. \\n\\nRequirements:\\n1. Provide the lesion's location as 'right', 'left' or 'both'(i.e, right and left) if the lesion is explicitly mentioned as present.\\n2. Provide 'obscure' if the information is incomplete.\\n3. Default to 'x' if the finding is not mentioned.\\n\\nTemplate:\\n{\\n'Nodule': '[ANSWER]',\\n'Mass': '[ANSWER]',\\n'Calcification': '[ANSWER]',\\n'Asymmetry': '[ANSWER]',\\n'Architectural Distortion': '[ANSWER]',\\n'Skin Thickening': '[ANSWER]',\\n'Lymph Node Enlargement': '[ANSWER]',\\n'Intramammary Lymph Node': '[ANSWER]',\\n'Nipple Retraction': '[ANSWER]',\\n'Skin Retraction': '[ANSWER]',\\n'Trabecular Thickening': '[ANSWER]',\\n}\\n\\nReport:\\nRight Breast:  No speculated mass lesions or suspicious microcalcifications.  Normal skin thickness and contour of breast.    Left Breast:  Upper outer quadrant irregular high density mass with indistinct margin is seen with overlying cluster of microcalcification.  Normal skin thickness and contour of breast.      OPINION:  Right Breast:  Normal breast examination (BIRADS 1).    Left Breast:  Upper outer suspicious looking mass with overlying suspicious microcalcification (BIRADS 4).                          \\n\\nAnswer according to the template:\\n{\\n'Nodule': 'left',\\n'Mass': 'left',\\n'Calcification': 'left',\\n'Asymmetry': 'obscure',\\n'Architectural Distortion': 'obscure',\\n'Skin Thickening': 'obscure',\\n'Lymph Node Enlargement': 'obscure',\\n'Intramammary Lymph Node': 'obscure',\\n'Nipple Retraction': 'obscure',\\n'Skin Retraction': 'obscure',\\n'Trabecular Thickening': 'obscure',\\n}\\n\\n\\n\\n\\n\\n\\n\\n\", \"As an AI trained in analyzing radiology reports, your task is to classify the presence or absence of specific findings in each report. Respond according to the given template. \\n\\nRequirements:\\n1. Provide the lesion's location as 'right', 'left' or 'both'(i.e, right and left) if the lesion is explicitly mentioned as present.\\n2. Provide 'obscure' if the information is incomplete.\\n3. Default to 'x' if the finding is not mentioned.\\n\\nTemplate:\\n{\\n'Nodule': '[ANSWER]',\\n'Mass': '[ANSWER]',\\n'Calcification': '[ANSWER]',\\n'Asymmetry': '[ANSWER]',\\n'Architectural Distortion': '[ANSWER]',\\n'Skin Thickening': '[ANSWER]',\\n'Lymph Node Enlargement': '[ANSWER]',\\n'Intramammary Lymph Node': '[ANSWER]',\\n'Nipple Retraction': '[ANSWER]',\\n'Skin Retraction': '[ANSWER]',\\n'Trabecular Thickening': '[ANSWER]',\\n}\\n\\nReport:\\nRight Breast:  Two central and upper outer irregular high density masses with speculated margin and edema pattern are seen.  No suspicious microcalcifications.    Left Breast:  No speculated mass lesions or suspicious microcalcifications.  Normal skin thickness and contour of breast.      OPINION:  Right Breast:  Two central and upper outer malignant looking masses and edema pattern (BIRADS 5).    Left Breast:  Normal breast examination (BIRADS 1).                          \\n\\nAnswer according to the template:\\n{\\n'Nodule': 'right',\\n'Mass': 'right',\\n'Calcification': 'x',\\n'Asymmetry': 'x',\\n'Architectural Distortion': 'x',\\n'Skin Thickening': 'x',\\n'Lymph Node Enlargement': 'x',\\n'Intramammary Lymph Node': 'x',\\n'Nipple Retraction': 'x',\\n'Skin Retraction': 'x',\\n'Trabecular Thickening': 'x',\\n}\\n\\n\\n\\n\\n\\n\\n\\n\\n\\n\\n\\n\\n\\n\\n\\n\\n\\n\\n\\n\\n\\n\\n\\n\"]\n"
          ]
        },
        {
          "name": "stderr",
          "output_type": "stream",
          "text": [
            " 80%|████████  | 131/163 [4:55:13<1:12:40, 136.26s/it]"
          ]
        },
        {
          "name": "stdout",
          "output_type": "stream",
          "text": [
            "[\"As an AI trained in analyzing radiology reports, your task is to classify the presence or absence of specific findings in each report. Respond according to the given template. \\n\\nRequirements:\\n1. Provide the lesion's location as 'right', 'left' or 'both'(i.e, right and left) if the lesion is explicitly mentioned as present.\\n2. Provide 'obscure' if the information is incomplete.\\n3. Default to 'x' if the finding is not mentioned.\\n\\nTemplate:\\n{\\n'Nodule': '[ANSWER]',\\n'Mass': '[ANSWER]',\\n'Calcification': '[ANSWER]',\\n'Asymmetry': '[ANSWER]',\\n'Architectural Distortion': '[ANSWER]',\\n'Skin Thickening': '[ANSWER]',\\n'Lymph Node Enlargement': '[ANSWER]',\\n'Intramammary Lymph Node': '[ANSWER]',\\n'Nipple Retraction': '[ANSWER]',\\n'Skin Retraction': '[ANSWER]',\\n'Trabecular Thickening': '[ANSWER]',\\n}\\n\\nReport:\\nRight Breast:  No speculated mass lesions or suspicious microcalcifications.  Normal skin thickness and contour of breast.    Left Breast:  Upper outer asymmetrical increased density is noted.  No suspicious microcalcifications.  Normal skin thickness and contour of breast.      OPINION:  Right Breast:  Normal breast examination (BIRADS 1).    Left Breast:  Upper outer asymmetry (BIRADS 3).                          \\n\\nAnswer according to the template:\\n{\\n'Nodule': 'obscure',\\n'Mass': 'obscure',\\n'Calcification': 'obscure',\\n'Asymmetry': 'left',\\n'Architectural Distortion': 'x',\\n'Skin Thickening': 'x',\\n'Lymph Node Enlargement': 'x',\\n'Intramammary Lymph Node': 'x',\\n'Nipple Retraction': 'x',\\n'Skin Retraction': 'x',\\n'Trabecular Thickening': 'x',\\n}\\n\\n\\n\\n\\n\\n\\n\\n\\n\\n\\n\\n\\n\\n\\n\\n\\n\\n\", \"As an AI trained in analyzing radiology reports, your task is to classify the presence or absence of specific findings in each report. Respond according to the given template. \\n\\nRequirements:\\n1. Provide the lesion's location as 'right', 'left' or 'both'(i.e, right and left) if the lesion is explicitly mentioned as present.\\n2. Provide 'obscure' if the information is incomplete.\\n3. Default to 'x' if the finding is not mentioned.\\n\\nTemplate:\\n{\\n'Nodule': '[ANSWER]',\\n'Mass': '[ANSWER]',\\n'Calcification': '[ANSWER]',\\n'Asymmetry': '[ANSWER]',\\n'Architectural Distortion': '[ANSWER]',\\n'Skin Thickening': '[ANSWER]',\\n'Lymph Node Enlargement': '[ANSWER]',\\n'Intramammary Lymph Node': '[ANSWER]',\\n'Nipple Retraction': '[ANSWER]',\\n'Skin Retraction': '[ANSWER]',\\n'Trabecular Thickening': '[ANSWER]',\\n}\\n\\nReport:\\nRight Breast:  Right upper outer punctate calcifications are noted with no clusters seen.  No speculated mass lesions.  Normal skin thickness and contour of breast.    Left Breast:  Lower central quadrant asymmetrical increased density and rounded equal density mass with indistinct margin are seen.  Central outer clusters of microcalcifications are also noted.  Normal skin thickness and contour of breast.      OPINION:  Right Breast:  Right upper outer punctate calcifications with no clusters seen (BIRADS 3).    Left Breast:  Lower central asymmetry and suspicious looking mass associated with central outer suspicious microcalcifications (BIRADS 4).                          \\n\\nAnswer according to the template:\\n{\\n'Nodule': 'obscure',\\n'Mass': 'left',\\n'Calcification': 'left',\\n'Asymmetry': 'left',\\n'Architectural Distortion': 'x',\\n'Skin Thickening': 'x',\\n'Lymph Node Enlargement': 'x',\\n'Intramammary Lymph Node': 'x',\\n'Nipple Retraction': 'x',\\n'Skin Retraction': 'x',\\n'Trabecular Thickening': 'x',\\n}\\n\\n\\n\\n\\n\\n\\n\\n\\n\\n\\n\\n\\n\\n\\n\\n\\n\\n\\n\\n\\n\\n\"]\n"
          ]
        },
        {
          "name": "stderr",
          "output_type": "stream",
          "text": [
            " 81%|████████  | 132/163 [4:57:30<1:10:25, 136.31s/it]"
          ]
        },
        {
          "name": "stdout",
          "output_type": "stream",
          "text": [
            "['As an AI trained in analyzing radiology reports, your task is to classify the presence or absence of specific findings in each report. Respond according to the given template. \\n\\nRequirements:\\n1. Provide the lesion\\'s location as \\'right\\', \\'left\\' or \\'both\\'(i.e, right and left) if the lesion is explicitly mentioned as present.\\n2. Provide \\'obscure\\' if the information is incomplete.\\n3. Default to \\'x\\' if the finding is not mentioned.\\n\\nTemplate:\\n{\\n\\'Nodule\\': \\'[ANSWER]\\',\\n\\'Mass\\': \\'[ANSWER]\\',\\n\\'Calcification\\': \\'[ANSWER]\\',\\n\\'Asymmetry\\': \\'[ANSWER]\\',\\n\\'Architectural Distortion\\': \\'[ANSWER]\\',\\n\\'Skin Thickening\\': \\'[ANSWER]\\',\\n\\'Lymph Node Enlargement\\': \\'[ANSWER]\\',\\n\\'Intramammary Lymph Node\\': \\'[ANSWER]\\',\\n\\'Nipple Retraction\\': \\'[ANSWER]\\',\\n\\'Skin Retraction\\': \\'[ANSWER]\\',\\n\\'Trabecular Thickening\\': \\'[ANSWER]\\',\\n}\\n\\nReport:\\nRight Breast:  Retroareolar irregular high density mass with speculated margin and architectural distortion are seen associated with nipple retraction and edema pattern.  No suspicious microcalcifications.    Left Breast:  Lower inner benign macrocalcification is noted.  No speculated mass lesions or suspicious microcalcifications.  Normal skin thickness and contour of breast.      OPINION:  Right Breast:  Retroareolar malignant looking mass and architectural distortion associated with nipple retraction and edema pattern (BIRADS 5).    Left Breast:  Lower inner benign macrocalcification (BIRADS 2).                          \\n\\nAnswer according to the template:\\n{\\n\\'Nodule\\': \\'obscure\\',\\n\\'Mass\\': \\'right\\',\\n\\'Calcification\\': \\'left\\',\\n\\'Asymmetry\\': \\'obscure\\',\\n\\'Architectural Distortion\\': \\'right\\',\\n\\'Skin Thickening\\': \\'obscure\\',\\n\\'Lymph Node Enlargement\\': \\'obscure\\',\\n\\'Intramammary Lymph Node\\': \\'obscure\\',\\n\\'Nipple Retraction\\': \\'right\\',\\n\\'Skin Retraction\\': \\'obscure\\',\\n\\'Trabecular Thickening\\': \\'obscure\\',\\n}\\n\\n\\n\"\"\"\\n\\nimport json\\n', \"As an AI trained in analyzing radiology reports, your task is to classify the presence or absence of specific findings in each report. Respond according to the given template. \\n\\nRequirements:\\n1. Provide the lesion's location as 'right', 'left' or 'both'(i.e, right and left) if the lesion is explicitly mentioned as present.\\n2. Provide 'obscure' if the information is incomplete.\\n3. Default to 'x' if the finding is not mentioned.\\n\\nTemplate:\\n{\\n'Nodule': '[ANSWER]',\\n'Mass': '[ANSWER]',\\n'Calcification': '[ANSWER]',\\n'Asymmetry': '[ANSWER]',\\n'Architectural Distortion': '[ANSWER]',\\n'Skin Thickening': '[ANSWER]',\\n'Lymph Node Enlargement': '[ANSWER]',\\n'Intramammary Lymph Node': '[ANSWER]',\\n'Nipple Retraction': '[ANSWER]',\\n'Skin Retraction': '[ANSWER]',\\n'Trabecular Thickening': '[ANSWER]',\\n}\\n\\nReport:\\nRight Breast:  No speculated mass lesions or suspicious microcalcifications.  Normal skin thickness and contour of breast.    Left Breast:  Upper outer quadrant irregular high density mass with speculated margin and edema pattern are seen.  No suspicious microcalcifications.      OPINION:  Right Breast:  Normal breast examination (BIRADS 1).    Left Breast:  Upper outer quadrant malignant looking mass and edema pattern (BIRADS 5).                          \\n\\nAnswer according to the template:\\n{\\n'Nodule': 'left',\\n'Mass': 'left',\\n'Calcification': 'x',\\n'Asymmetry': 'x',\\n'Architectural Distortion': 'x',\\n'Skin Thickening': 'x',\\n'Lymph Node Enlargement': 'x',\\n'Intramammary Lymph Node': 'x',\\n'Nipple Retraction': 'x',\\n'Skin Retraction': 'x',\\n'Trabecular Thickening': 'x',\\n}\\n\\n\\n\\n\\n\\n\\n\\n\\n\\n\\n\\n\\n\\n\\n\\n\\n\\n\\n\\n\\n\\n\\n\\n\"]\n"
          ]
        },
        {
          "name": "stderr",
          "output_type": "stream",
          "text": [
            " 82%|████████▏ | 133/163 [4:59:46<1:08:08, 136.27s/it]"
          ]
        },
        {
          "name": "stdout",
          "output_type": "stream",
          "text": [
            "[\"As an AI trained in analyzing radiology reports, your task is to classify the presence or absence of specific findings in each report. Respond according to the given template. \\n\\nRequirements:\\n1. Provide the lesion's location as 'right', 'left' or 'both'(i.e, right and left) if the lesion is explicitly mentioned as present.\\n2. Provide 'obscure' if the information is incomplete.\\n3. Default to 'x' if the finding is not mentioned.\\n\\nTemplate:\\n{\\n'Nodule': '[ANSWER]',\\n'Mass': '[ANSWER]',\\n'Calcification': '[ANSWER]',\\n'Asymmetry': '[ANSWER]',\\n'Architectural Distortion': '[ANSWER]',\\n'Skin Thickening': '[ANSWER]',\\n'Lymph Node Enlargement': '[ANSWER]',\\n'Intramammary Lymph Node': '[ANSWER]',\\n'Nipple Retraction': '[ANSWER]',\\n'Skin Retraction': '[ANSWER]',\\n'Trabecular Thickening': '[ANSWER]',\\n}\\n\\nReport:\\nRight Breast:  Lower inner irregular high density mass with microlobulated margin is seen.  No suspicious microcalcifications.  Normal skin thickness and contour of breast.    Left Breast:  Diffuse edematous changes evidenced by increased skin thickness and coarsened trabeculae.  No suspicious microcalcifications.      OPINION:  Right Breast:  Inner suspicious looking mass (BIRADS 4).    Left Breast:  Diffuse edematous changes (BIRADS 4).                    \\n\\nAnswer according to the template:\\n{\\n'Nodule': 'right',\\n'Mass': 'right',\\n'Calcification': 'x',\\n'Asymmetry': 'obscure',\\n'Architectural Distortion': 'x',\\n'Skin Thickening': 'left',\\n'Lymph Node Enlargement': 'x',\\n'Intramammary Lymph Node': 'x',\\n'Nipple Retraction': 'x',\\n'Skin Retraction': 'left',\\n'Trabecular Thickening': 'left',\\n}\\n\\n\\n\\n\\n\\n\\n\\n\\n\\n\\n\\n\\n\\n\\n\\n\\n\\n\\n\\n\\n\\n\", \"As an AI trained in analyzing radiology reports, your task is to classify the presence or absence of specific findings in each report. Respond according to the given template. \\n\\nRequirements:\\n1. Provide the lesion's location as 'right', 'left' or 'both'(i.e, right and left) if the lesion is explicitly mentioned as present.\\n2. Provide 'obscure' if the information is incomplete.\\n3. Default to 'x' if the finding is not mentioned.\\n\\nTemplate:\\n{\\n'Nodule': '[ANSWER]',\\n'Mass': '[ANSWER]',\\n'Calcification': '[ANSWER]',\\n'Asymmetry': '[ANSWER]',\\n'Architectural Distortion': '[ANSWER]',\\n'Skin Thickening': '[ANSWER]',\\n'Lymph Node Enlargement': '[ANSWER]',\\n'Intramammary Lymph Node': '[ANSWER]',\\n'Nipple Retraction': '[ANSWER]',\\n'Skin Retraction': '[ANSWER]',\\n'Trabecular Thickening': '[ANSWER]',\\n}\\n\\nReport:\\nRight Breast:  Upper outer quadrant irregular high density mass with speculated margin is seen.  No suspicious microcalcifications.  Normal skin thickness and contour of breast.    Left Breast:  No speculated mass lesions or suspicious microcalcifications.  Normal skin thickness and contour of breast.      OPINION:  Right Breast:  Upper outer malignant looking mass (BIRADS 5).    Left Breast:  Normal breast examination (BIRADS 1).                          \\n\\nAnswer according to the template:\\n{\\n'Nodule': 'right',\\n'Mass': 'right',\\n'Calcification': 'x',\\n'Asymmetry': 'x',\\n'Architectural Distortion': 'x',\\n'Skin Thickening': 'x',\\n'Lymph Node Enlargement': 'x',\\n'Intramammary Lymph Node': 'x',\\n'Nipple Retraction': 'x',\\n'Skin Retraction': 'x',\\n'Trabecular Thickening': 'x',\\n}\\n\\n\\n\\n\\n\\n\\n\\n\\n\\n\\n\\n\\n\\n\\n\\n\\n\\n\\n\\n\\n\\n\\n\\n\"]\n"
          ]
        },
        {
          "name": "stderr",
          "output_type": "stream",
          "text": [
            " 82%|████████▏ | 134/163 [5:02:02<1:05:51, 136.25s/it]"
          ]
        },
        {
          "name": "stdout",
          "output_type": "stream",
          "text": [
            "[\"As an AI trained in analyzing radiology reports, your task is to classify the presence or absence of specific findings in each report. Respond according to the given template. \\n\\nRequirements:\\n1. Provide the lesion's location as 'right', 'left' or 'both'(i.e, right and left) if the lesion is explicitly mentioned as present.\\n2. Provide 'obscure' if the information is incomplete.\\n3. Default to 'x' if the finding is not mentioned.\\n\\nTemplate:\\n{\\n'Nodule': '[ANSWER]',\\n'Mass': '[ANSWER]',\\n'Calcification': '[ANSWER]',\\n'Asymmetry': '[ANSWER]',\\n'Architectural Distortion': '[ANSWER]',\\n'Skin Thickening': '[ANSWER]',\\n'Lymph Node Enlargement': '[ANSWER]',\\n'Intramammary Lymph Node': '[ANSWER]',\\n'Nipple Retraction': '[ANSWER]',\\n'Skin Retraction': '[ANSWER]',\\n'Trabecular Thickening': '[ANSWER]',\\n}\\n\\nReport:\\nRight Breast:  No speculated mass lesions or suspicious microcalcifications.  Normal skin thickness and contour of breast.    Left Breast:  Retroareolar upper outer architectural distortion associated with nipple retraction and edema pattern are seen.  No suspicious microcalcifications.      OPINION:  Right Breast:  Normal breast examination (BIRADS 1).    Left Breast:  Retroareolar upper outer suspicious looking architectural distortion with nipple retraction and edema pattern (BIRADS 4).                    \\n\\nAnswer according to the template:\\n{\\n'Nodule': 'obscure',\\n'Mass': 'obscure',\\n'Calcification': 'obscure',\\n'Asymmetry': 'obscure',\\n'Architectural Distortion': 'left',\\n'Skin Thickening': 'obscure',\\n'Lymph Node Enlargement': 'obscure',\\n'Intramammary Lymph Node': 'obscure',\\n'Nipple Retraction': 'left',\\n'Skin Retraction': 'left',\\n'Trabecular Thickening': 'obscure',\\n}\\n\\n\\n\\n\\n\\n\\n\\n\", \"As an AI trained in analyzing radiology reports, your task is to classify the presence or absence of specific findings in each report. Respond according to the given template. \\n\\nRequirements:\\n1. Provide the lesion's location as 'right', 'left' or 'both'(i.e, right and left) if the lesion is explicitly mentioned as present.\\n2. Provide 'obscure' if the information is incomplete.\\n3. Default to 'x' if the finding is not mentioned.\\n\\nTemplate:\\n{\\n'Nodule': '[ANSWER]',\\n'Mass': '[ANSWER]',\\n'Calcification': '[ANSWER]',\\n'Asymmetry': '[ANSWER]',\\n'Architectural Distortion': '[ANSWER]',\\n'Skin Thickening': '[ANSWER]',\\n'Lymph Node Enlargement': '[ANSWER]',\\n'Intramammary Lymph Node': '[ANSWER]',\\n'Nipple Retraction': '[ANSWER]',\\n'Skin Retraction': '[ANSWER]',\\n'Trabecular Thickening': '[ANSWER]',\\n}\\n\\nReport:\\nRight Breast:  No speculated mass lesions or suspicious microcalcifications.  Normal skin thickness and contour of breast.    Left Breast:  Upper outer architectural distortion is seen.  No suspicious microcalcifications.  Normal skin thickness and contour of breast.      OPINION:  Right Breast:  Normal breast examination (BIRADS 1).    Left Breast:  Upper outer suspicious looking architectural distortion (BIRADS 4).                          \\n\\nAnswer according to the template:\\n{\\n'Nodule': 'obscure',\\n'Mass': 'obscure',\\n'Calcification': 'obscure',\\n'Asymmetry': 'obscure',\\n'Architectural Distortion': 'left',\\n'Skin Thickening': 'obscure',\\n'Lymph Node Enlargement': 'obscure',\\n'Intramammary Lymph Node': 'obscure',\\n'Nipple Retraction': 'obscure',\\n'Skin Retraction': 'obscure',\\n'Trabecular Thickening': 'obscure',\\n}\\n\\n\\n\\n\"]\n"
          ]
        },
        {
          "name": "stderr",
          "output_type": "stream",
          "text": [
            " 83%|████████▎ | 135/163 [5:04:18<1:03:34, 136.23s/it]"
          ]
        },
        {
          "name": "stdout",
          "output_type": "stream",
          "text": [
            "[\"As an AI trained in analyzing radiology reports, your task is to classify the presence or absence of specific findings in each report. Respond according to the given template. \\n\\nRequirements:\\n1. Provide the lesion's location as 'right', 'left' or 'both'(i.e, right and left) if the lesion is explicitly mentioned as present.\\n2. Provide 'obscure' if the information is incomplete.\\n3. Default to 'x' if the finding is not mentioned.\\n\\nTemplate:\\n{\\n'Nodule': '[ANSWER]',\\n'Mass': '[ANSWER]',\\n'Calcification': '[ANSWER]',\\n'Asymmetry': '[ANSWER]',\\n'Architectural Distortion': '[ANSWER]',\\n'Skin Thickening': '[ANSWER]',\\n'Lymph Node Enlargement': '[ANSWER]',\\n'Intramammary Lymph Node': '[ANSWER]',\\n'Nipple Retraction': '[ANSWER]',\\n'Skin Retraction': '[ANSWER]',\\n'Trabecular Thickening': '[ANSWER]',\\n}\\n\\nReport:\\nRight Breast:  No speculated mass lesions or suspicious microcalcifications.  Normal skin thickness and contour of breast.    Left Breast:  Lower inner irregular high density mass with indistinct margin is seen.  Upper outer benign macrocalcifications.  Normal skin thickness and contour of breast.      OPINION:  Right Breast:  Normal breast examination (BIRADS 1).    Left Breast:  Lower inner suspicious looking mass (BIRADS 4).  Upper outer benign macrocalcifications (BIRADS 2).                          \\n\\nAnswer according to the template:\\n{\\n'Nodule': 'left',\\n'Mass': 'left',\\n'Calcification': 'left',\\n'Asymmetry': 'obscure',\\n'Architectural Distortion': 'obscure',\\n'Skin Thickening': 'obscure',\\n'Lymph Node Enlargement': 'obscure',\\n'Intramammary Lymph Node': 'obscure',\\n'Nipple Retraction': 'obscure',\\n'Skin Retraction': 'obscure',\\n'Trabecular Thickening': 'obscure',\\n}\\n\\n\\n\\n\\n\\n\\n\\n\", \"As an AI trained in analyzing radiology reports, your task is to classify the presence or absence of specific findings in each report. Respond according to the given template. \\n\\nRequirements:\\n1. Provide the lesion's location as 'right', 'left' or 'both'(i.e, right and left) if the lesion is explicitly mentioned as present.\\n2. Provide 'obscure' if the information is incomplete.\\n3. Default to 'x' if the finding is not mentioned.\\n\\nTemplate:\\n{\\n'Nodule': '[ANSWER]',\\n'Mass': '[ANSWER]',\\n'Calcification': '[ANSWER]',\\n'Asymmetry': '[ANSWER]',\\n'Architectural Distortion': '[ANSWER]',\\n'Skin Thickening': '[ANSWER]',\\n'Lymph Node Enlargement': '[ANSWER]',\\n'Intramammary Lymph Node': '[ANSWER]',\\n'Nipple Retraction': '[ANSWER]',\\n'Skin Retraction': '[ANSWER]',\\n'Trabecular Thickening': '[ANSWER]',\\n}\\n\\nReport:\\nRight Breast:  Upper outer quadrant asymmetrical increased density is seen with overlying punctate microcalcifications.  Normal skin thickness and contour of breast.    Left Breast:  No speculated mass lesions or suspicious microcalcifications.  Normal skin thickness and contour of breast.      OPINION:  Right Breast:  Upper outer asymmetry with overlying punctate microcalcifications (BIRADS 3).    Left Breast:  Normal breast examination (BIRADS 1).                          \\n\\nAnswer according to the template:\\n{\\n'Nodule': 'obscure',\\n'Mass': 'obscure',\\n'Calcification': 'obscure',\\n'Asymmetry': 'right',\\n'Architectural Distortion': 'x',\\n'Skin Thickening': 'x',\\n'Lymph Node Enlargement': 'x',\\n'Intramammary Lymph Node': 'x',\\n'Nipple Retraction': 'x',\\n'Skin Retraction': 'x',\\n'Trabecular Thickening': 'x',\\n}\\n\\n\\n\\n\\n\\n\\n\\n\\n\\n\\n\\n\\n\\n\\n\\n\\n\\n\"]\n"
          ]
        },
        {
          "name": "stderr",
          "output_type": "stream",
          "text": [
            " 83%|████████▎ | 136/163 [5:06:35<1:01:20, 136.30s/it]"
          ]
        },
        {
          "name": "stdout",
          "output_type": "stream",
          "text": [
            "[\"As an AI trained in analyzing radiology reports, your task is to classify the presence or absence of specific findings in each report. Respond according to the given template. \\n\\nRequirements:\\n1. Provide the lesion's location as 'right', 'left' or 'both'(i.e, right and left) if the lesion is explicitly mentioned as present.\\n2. Provide 'obscure' if the information is incomplete.\\n3. Default to 'x' if the finding is not mentioned.\\n\\nTemplate:\\n{\\n'Nodule': '[ANSWER]',\\n'Mass': '[ANSWER]',\\n'Calcification': '[ANSWER]',\\n'Asymmetry': '[ANSWER]',\\n'Architectural Distortion': '[ANSWER]',\\n'Skin Thickening': '[ANSWER]',\\n'Lymph Node Enlargement': '[ANSWER]',\\n'Intramammary Lymph Node': '[ANSWER]',\\n'Nipple Retraction': '[ANSWER]',\\n'Skin Retraction': '[ANSWER]',\\n'Trabecular Thickening': '[ANSWER]',\\n}\\n\\nReport:\\nRight Breast:  Retroareolar small oval shaped equal density mass with circumscribed margin is noted.  No suspicious microcalcifications.  Normal skin thickness and contour of breast.    Left Breast:  Three central outer and inner irregular high density masses with speculated margin and intraductal extension are seen with nipple retraction.  No suspicious microcalcifications.  Normal skin thickness and contour of breast.      OPINION:  Right Breast:  Retroareolar small benign looking mass (BIRADS 3).    Left Breast:  Three malignant looking masses with intraductal extension (BIRADS 5).                          \\n\\nAnswer according to the template:\\n{\\n'Nodule': 'right',\\n'Mass': 'left',\\n'Calcification': 'x',\\n'Asymmetry': 'x',\\n'Architectural Distortion': 'x',\\n'Skin Thickening': 'x',\\n'Lymph Node Enlargement': 'x',\\n'Intramammary Lymph Node': 'x',\\n'Nipple Retraction': 'left',\\n'Skin Retraction': 'left',\\n'Trabecular Thickening': 'x',\\n}\\n\\n\\n\\n\\n\\n\\n\\n\\n\\n\\n\\n\\n\\n\\n\\n\\n\\n\\n\\n\\n\\n\\n\\n\", \"As an AI trained in analyzing radiology reports, your task is to classify the presence or absence of specific findings in each report. Respond according to the given template. \\n\\nRequirements:\\n1. Provide the lesion's location as 'right', 'left' or 'both'(i.e, right and left) if the lesion is explicitly mentioned as present.\\n2. Provide 'obscure' if the information is incomplete.\\n3. Default to 'x' if the finding is not mentioned.\\n\\nTemplate:\\n{\\n'Nodule': '[ANSWER]',\\n'Mass': '[ANSWER]',\\n'Calcification': '[ANSWER]',\\n'Asymmetry': '[ANSWER]',\\n'Architectural Distortion': '[ANSWER]',\\n'Skin Thickening': '[ANSWER]',\\n'Lymph Node Enlargement': '[ANSWER]',\\n'Intramammary Lymph Node': '[ANSWER]',\\n'Nipple Retraction': '[ANSWER]',\\n'Skin Retraction': '[ANSWER]',\\n'Trabecular Thickening': '[ANSWER]',\\n}\\n\\nReport:\\nRight Breast:  Upper outer quadrant focal asymmetrical increased density is noted.  No suspicious microcalcifications.  Normal skin thickness and contour of breast.    Left Breast:  Upper central and outer architectural distortion with overlying microcalcifications.  Normal skin thickness and contour of breast.      OPINION:  Right Breast:  Upper outer focal asymmetry (BIRADS 3).    Left Breast:  Upper central and outer malignant looking architectural distortion with overlying microcalcifications (BIRADS 5).                          \\n\\nAnswer according to the template:\\n{\\n'Nodule': 'obscure',\\n'Mass': 'obscure',\\n'Calcification': 'obscure',\\n'Asymmetry': 'right',\\n'Architectural Distortion': 'left',\\n'Skin Thickening': 'obscure',\\n'Lymph Node Enlargement': 'obscure',\\n'Intramammary Lymph Node': 'obscure',\\n'Nipple Retraction': 'obscure',\\n'Skin Retraction': 'obscure',\\n'Trabecular Thickening': 'obscure',\\n}\\n\\n\\n\\n\\n\\n\"]\n"
          ]
        },
        {
          "name": "stderr",
          "output_type": "stream",
          "text": [
            " 84%|████████▍ | 137/163 [5:08:51<59:06, 136.39s/it]  "
          ]
        },
        {
          "name": "stdout",
          "output_type": "stream",
          "text": [
            "['As an AI trained in analyzing radiology reports, your task is to classify the presence or absence of specific findings in each report. Respond according to the given template. \\n\\nRequirements:\\n1. Provide the lesion\\'s location as \\'right\\', \\'left\\' or \\'both\\'(i.e, right and left) if the lesion is explicitly mentioned as present.\\n2. Provide \\'obscure\\' if the information is incomplete.\\n3. Default to \\'x\\' if the finding is not mentioned.\\n\\nTemplate:\\n{\\n\\'Nodule\\': \\'[ANSWER]\\',\\n\\'Mass\\': \\'[ANSWER]\\',\\n\\'Calcification\\': \\'[ANSWER]\\',\\n\\'Asymmetry\\': \\'[ANSWER]\\',\\n\\'Architectural Distortion\\': \\'[ANSWER]\\',\\n\\'Skin Thickening\\': \\'[ANSWER]\\',\\n\\'Lymph Node Enlargement\\': \\'[ANSWER]\\',\\n\\'Intramammary Lymph Node\\': \\'[ANSWER]\\',\\n\\'Nipple Retraction\\': \\'[ANSWER]\\',\\n\\'Skin Retraction\\': \\'[ANSWER]\\',\\n\\'Trabecular Thickening\\': \\'[ANSWER]\\',\\n}\\n\\nReport:\\nRight Breast:  Upper inner benign macrocalcification is noted.  No speculated mass lesions or suspicious microcalcifications.  Normal skin thickness and contour of breast.    Left Breast:  Retroareolar lower inner irregular high density mass with speculated margin is seen.  No suspicious microcalcifications.  Normal skin thickness and contour of breast.      OPINION:  Right Breast:  Upper inner benign macrocalcification (BIRADS 2).    Left Breast:  Retroareolar lower inner malignant looking mass (BIRADS 5).                          \\n\\nAnswer according to the template:\\n{\\n\\'Nodule\\': \\'left\\',\\n\\'Mass\\': \\'left\\',\\n\\'Calcification\\': \\'right\\',\\n\\'Asymmetry\\': \\'obscure\\',\\n\\'Architectural Distortion\\': \\'x\\',\\n\\'Skin Thickening\\': \\'both\\',\\n\\'Lymph Node Enlargement\\': \\'x\\',\\n\\'Intramammary Lymph Node\\': \\'x\\',\\n\\'Nipple Retraction\\': \\'x\\',\\n\\'Skin Retraction\\': \\'both\\',\\n\\'Trabecular Thickening\\': \\'x\\',\\n}\\n\\n\\n\"\"\"\\n\\nimport os\\nimport json\\nimport numpy as np\\nimport pandas as pd', \"As an AI trained in analyzing radiology reports, your task is to classify the presence or absence of specific findings in each report. Respond according to the given template. \\n\\nRequirements:\\n1. Provide the lesion's location as 'right', 'left' or 'both'(i.e, right and left) if the lesion is explicitly mentioned as present.\\n2. Provide 'obscure' if the information is incomplete.\\n3. Default to 'x' if the finding is not mentioned.\\n\\nTemplate:\\n{\\n'Nodule': '[ANSWER]',\\n'Mass': '[ANSWER]',\\n'Calcification': '[ANSWER]',\\n'Asymmetry': '[ANSWER]',\\n'Architectural Distortion': '[ANSWER]',\\n'Skin Thickening': '[ANSWER]',\\n'Lymph Node Enlargement': '[ANSWER]',\\n'Intramammary Lymph Node': '[ANSWER]',\\n'Nipple Retraction': '[ANSWER]',\\n'Skin Retraction': '[ANSWER]',\\n'Trabecular Thickening': '[ANSWER]',\\n}\\n\\nReport:\\nRight Breast:  No speculated mass lesions or suspicious microcalcifications.  Retroareolar increased density that is tubular in shape likely dilated duct.  Normal skin thickness and contour of breast.    Left Breast:  Upper outer irregular high density mass with speculated margin is seen.  Upper outer benign macrocalcifications are noted.  No suspicious microcalcifications.  Normal skin thickness and contour of breast.      OPINION:  Right Breast:  Dilated retroareolar duct (BIRADS 2).    Left Breast:  Upper outer malignant looking mass (BIRADS 5).  Upper outer benign macrocalcifications (BIRADS 2).                          \\n\\nAnswer according to the template:\\n{\\n'Nodule': 'left',\\n'Mass': 'left',\\n'Calcification': 'left',\\n'Asymmetry': 'obscure',\\n'Architectural Distortion': 'obscure',\\n'Skin Thickening': 'obscure',\\n'Lymph Node Enlargement': 'obscure',\\n'Intramammary Lymph Node': 'obscure',\\n'Nipple Retraction': 'obscure',\\n'Skin Retraction': 'obscure',\\n'Trabecular Thickening': 'obscure',\\n}\\n\\n\\n\\n\\n\\n\\n\\n\"]\n"
          ]
        },
        {
          "name": "stderr",
          "output_type": "stream",
          "text": [
            " 85%|████████▍ | 138/163 [5:11:08<56:48, 136.34s/it]"
          ]
        },
        {
          "name": "stdout",
          "output_type": "stream",
          "text": [
            "[\"As an AI trained in analyzing radiology reports, your task is to classify the presence or absence of specific findings in each report. Respond according to the given template. \\n\\nRequirements:\\n1. Provide the lesion's location as 'right', 'left' or 'both'(i.e, right and left) if the lesion is explicitly mentioned as present.\\n2. Provide 'obscure' if the information is incomplete.\\n3. Default to 'x' if the finding is not mentioned.\\n\\nTemplate:\\n{\\n'Nodule': '[ANSWER]',\\n'Mass': '[ANSWER]',\\n'Calcification': '[ANSWER]',\\n'Asymmetry': '[ANSWER]',\\n'Architectural Distortion': '[ANSWER]',\\n'Skin Thickening': '[ANSWER]',\\n'Lymph Node Enlargement': '[ANSWER]',\\n'Intramammary Lymph Node': '[ANSWER]',\\n'Nipple Retraction': '[ANSWER]',\\n'Skin Retraction': '[ANSWER]',\\n'Trabecular Thickening': '[ANSWER]',\\n}\\n\\nReport:\\nRight Breast:  No speculated mass lesions or suspicious microcalcifications.  Normal skin thickness and contour of breast.    Left Breast:  Two upper outer quadrant irregular high density masses with speculated margin and skin retraction associated with edema pattern.  No suspicious microcalcifications.      OPINION:  Right Breast:  Normal breast examination (BIRADS 1).    Left Breast:  Two upper outer malignant looking masses with skin retraction and edema pattern (BIRADS 5).                          \\n\\nAnswer according to the template:\\n{\\n'Nodule': 'obscure',\\n'Mass': 'left',\\n'Calcification': 'x',\\n'Asymmetry': 'obscure',\\n'Architectural Distortion': 'obscure',\\n'Skin Thickening': 'left',\\n'Lymph Node Enlargement': 'obscure',\\n'Intramammary Lymph Node': 'obscure',\\n'Nipple Retraction': 'obscure',\\n'Skin Retraction': 'left',\\n'Trabecular Thickening': 'obscure',\\n}\\n\\n\\n\\n\\n\\n\\n\\n\\n\\n\", \"As an AI trained in analyzing radiology reports, your task is to classify the presence or absence of specific findings in each report. Respond according to the given template. \\n\\nRequirements:\\n1. Provide the lesion's location as 'right', 'left' or 'both'(i.e, right and left) if the lesion is explicitly mentioned as present.\\n2. Provide 'obscure' if the information is incomplete.\\n3. Default to 'x' if the finding is not mentioned.\\n\\nTemplate:\\n{\\n'Nodule': '[ANSWER]',\\n'Mass': '[ANSWER]',\\n'Calcification': '[ANSWER]',\\n'Asymmetry': '[ANSWER]',\\n'Architectural Distortion': '[ANSWER]',\\n'Skin Thickening': '[ANSWER]',\\n'Lymph Node Enlargement': '[ANSWER]',\\n'Intramammary Lymph Node': '[ANSWER]',\\n'Nipple Retraction': '[ANSWER]',\\n'Skin Retraction': '[ANSWER]',\\n'Trabecular Thickening': '[ANSWER]',\\n}\\n\\nReport:\\nRight Breast:  No speculated mass lesions or suspicious microcalcifications.  Normal skin thickness and contour of breast.    Left Breast:  Upper outer quadrant irregular high density mass with speculated margin is seen.  No suspicious microcalcifications.  Normal skin thickness.      OPINION:  Right Breast:  Normal breast examination (BIRADS 1).    Left Breast:  Upper outer malignant looking mass (BIRADS 5).                          \\n\\nAnswer according to the template:\\n{\\n'Nodule': 'obscure',\\n'Mass': 'left',\\n'Calcification': 'x',\\n'Asymmetry': 'x',\\n'Architectural Distortion': 'x',\\n'Skin Thickening': 'x',\\n'Lymph Node Enlargement': 'x',\\n'Intramammary Lymph Node': 'x',\\n'Nipple Retraction': 'x',\\n'Skin Retraction': 'x',\\n'Trabecular Thickening': 'x',\\n}\\n\\n\\n\\n\\n\\n\\n\\n\\n\\n\\n\\n\\n\\n\\n\\n\\n\\n\\n\\n\\n\\n\"]\n"
          ]
        },
        {
          "name": "stderr",
          "output_type": "stream",
          "text": [
            " 85%|████████▌ | 139/163 [5:13:24<54:31, 136.31s/it]"
          ]
        },
        {
          "name": "stdout",
          "output_type": "stream",
          "text": [
            "[\"As an AI trained in analyzing radiology reports, your task is to classify the presence or absence of specific findings in each report. Respond according to the given template. \\n\\nRequirements:\\n1. Provide the lesion's location as 'right', 'left' or 'both'(i.e, right and left) if the lesion is explicitly mentioned as present.\\n2. Provide 'obscure' if the information is incomplete.\\n3. Default to 'x' if the finding is not mentioned.\\n\\nTemplate:\\n{\\n'Nodule': '[ANSWER]',\\n'Mass': '[ANSWER]',\\n'Calcification': '[ANSWER]',\\n'Asymmetry': '[ANSWER]',\\n'Architectural Distortion': '[ANSWER]',\\n'Skin Thickening': '[ANSWER]',\\n'Lymph Node Enlargement': '[ANSWER]',\\n'Intramammary Lymph Node': '[ANSWER]',\\n'Nipple Retraction': '[ANSWER]',\\n'Skin Retraction': '[ANSWER]',\\n'Trabecular Thickening': '[ANSWER]',\\n}\\n\\nReport:\\nRight Breast:  No speculated mass lesions or suspicious microcalcifications.  Normal skin thickness and contour of breast.    Left Breast:  Diffuse edematous changes evidenced by increased skin thickness and coarsened trabeculae.  Upper outer asymmetrical increased density with overlying clusters of pleomorphic microcalcifications.      OPINION:  Right Breast:  Normal breast examination (BIRADS 1).    Left Breast:  Diffuse edematous changes with upper outer suspicious microcalcifications (BIRADS 4).                      \\n\\nAnswer according to the template:\\n{\\n'Nodule': 'obscure',\\n'Mass': 'obscure',\\n'Calcification': 'obscure',\\n'Asymmetry': 'obscure',\\n'Architectural Distortion': 'obscure',\\n'Skin Thickening': 'obscure',\\n'Lymph Node Enlargement': 'obscure',\\n'Intramammary Lymph Node': 'obscure',\\n'Nipple Retraction': 'obscure',\\n'Skin Retraction': 'obscure',\\n'Trabecular Thickening': 'obscure',\\n}\\n\\n\", \"As an AI trained in analyzing radiology reports, your task is to classify the presence or absence of specific findings in each report. Respond according to the given template. \\n\\nRequirements:\\n1. Provide the lesion's location as 'right', 'left' or 'both'(i.e, right and left) if the lesion is explicitly mentioned as present.\\n2. Provide 'obscure' if the information is incomplete.\\n3. Default to 'x' if the finding is not mentioned.\\n\\nTemplate:\\n{\\n'Nodule': '[ANSWER]',\\n'Mass': '[ANSWER]',\\n'Calcification': '[ANSWER]',\\n'Asymmetry': '[ANSWER]',\\n'Architectural Distortion': '[ANSWER]',\\n'Skin Thickening': '[ANSWER]',\\n'Lymph Node Enlargement': '[ANSWER]',\\n'Intramammary Lymph Node': '[ANSWER]',\\n'Nipple Retraction': '[ANSWER]',\\n'Skin Retraction': '[ANSWER]',\\n'Trabecular Thickening': '[ANSWER]',\\n}\\n\\nReport:\\nRight Breast:  No speculated mass lesions or suspicious microcalcifications.  Normal skin thickness and contour of breast.    Left Breast:  Diffuse edematous changes evidenced by increased skin thickness and coarsened trabeculae.  No suspicious microcalcifications.      OPINION:  Right Breast:  Normal breast examination (BIRADS 1).    Left Breast:  Diffuse edematous changes (BIRADS 4).                      \\n\\nAnswer according to the template:\\n{\\n'Nodule': 'obscure',\\n'Mass': 'obscure',\\n'Calcification': 'obscure',\\n'Asymmetry': 'obscure',\\n'Architectural Distortion': 'obscure',\\n'Skin Thickening': 'obscure',\\n'Lymph Node Enlargement': 'obscure',\\n'Intramammary Lymph Node': 'obscure',\\n'Nipple Retraction': 'obscure',\\n'Skin Retraction': 'obscure',\\n'Trabecular Thickening': 'obscure',\\n}\\n\\n\"]\n"
          ]
        },
        {
          "name": "stderr",
          "output_type": "stream",
          "text": [
            " 86%|████████▌ | 140/163 [5:15:40<52:16, 136.35s/it]"
          ]
        },
        {
          "name": "stdout",
          "output_type": "stream",
          "text": [
            "[\"As an AI trained in analyzing radiology reports, your task is to classify the presence or absence of specific findings in each report. Respond according to the given template. \\n\\nRequirements:\\n1. Provide the lesion's location as 'right', 'left' or 'both'(i.e, right and left) if the lesion is explicitly mentioned as present.\\n2. Provide 'obscure' if the information is incomplete.\\n3. Default to 'x' if the finding is not mentioned.\\n\\nTemplate:\\n{\\n'Nodule': '[ANSWER]',\\n'Mass': '[ANSWER]',\\n'Calcification': '[ANSWER]',\\n'Asymmetry': '[ANSWER]',\\n'Architectural Distortion': '[ANSWER]',\\n'Skin Thickening': '[ANSWER]',\\n'Lymph Node Enlargement': '[ANSWER]',\\n'Intramammary Lymph Node': '[ANSWER]',\\n'Nipple Retraction': '[ANSWER]',\\n'Skin Retraction': '[ANSWER]',\\n'Trabecular Thickening': '[ANSWER]',\\n}\\n\\nReport:\\nRight Breast:  Multiple rounded high density masses with circumscribed margin and contour bulge are seen occupying nearly the whole breast, one of them shows overlying microcalcifications associated with edema pattern.    Left Breast:  No speculated mass lesions or suspicious microcalcifications.  Normal skin thickness and contour of breast.      OPINION:  Right Breast:  Multiple suspicious looking masses with contour bulge are seen occupying nearly the whole breast associated with suspicious microcalcifications and edema pattern (BIRADS 4).    Left Breast:  Normal breast examination (BIRADS 1).                          \\n\\nAnswer according to the template:\\n{\\n'Nodule': 'both',\\n'Mass': 'both',\\n'Calcification': 'right',\\n'Asymmetry': 'right',\\n'Architectural Distortion': 'right',\\n'Skin Thickening': 'right',\\n'Lymph Node Enlargement': 'x',\\n'Intramammary Lymph Node': 'x',\\n'Nipple Retraction': 'x',\\n'Skin Retraction': 'x',\\n'Trabecular Thickening': 'x',\\n}\\n\\n\\n\\n\\n\\n\\n\\n\\n\\n\\n\\n\\n\\n\\n\\n\\n\\n\\n\\n\\n\\n\\n\\n\", \"As an AI trained in analyzing radiology reports, your task is to classify the presence or absence of specific findings in each report. Respond according to the given template. \\n\\nRequirements:\\n1. Provide the lesion's location as 'right', 'left' or 'both'(i.e, right and left) if the lesion is explicitly mentioned as present.\\n2. Provide 'obscure' if the information is incomplete.\\n3. Default to 'x' if the finding is not mentioned.\\n\\nTemplate:\\n{\\n'Nodule': '[ANSWER]',\\n'Mass': '[ANSWER]',\\n'Calcification': '[ANSWER]',\\n'Asymmetry': '[ANSWER]',\\n'Architectural Distortion': '[ANSWER]',\\n'Skin Thickening': '[ANSWER]',\\n'Lymph Node Enlargement': '[ANSWER]',\\n'Intramammary Lymph Node': '[ANSWER]',\\n'Nipple Retraction': '[ANSWER]',\\n'Skin Retraction': '[ANSWER]',\\n'Trabecular Thickening': '[ANSWER]',\\n}\\n\\nReport:\\nRight Breast:  Lower outer benign macrocalcification is noted.  No suspicious microcalcifications.  Normal skin thickness and contour of breast.    Left Breast:  Multiple upper and lower outer irregular high density masses with indistinct margin are seen with nipple retraction and overlying microcalcifications.   Normal skin thickness and contour of breast.      OPINION:  Right Breast:  Lower outer benign macrocalcification (BIRADS 2).    Left Breast:  Multiple upper and lower outer malignant looking mass with nipple retraction and overlying microcalcifications (BIRADS 5).                          \\n\\nAnswer according to the template:\\n{\\n'Nodule': 'left',\\n'Mass': 'left',\\n'Calcification': 'left',\\n'Asymmetry': 'left',\\n'Architectural Distortion': 'left',\\n'Skin Thickening': 'left',\\n'Lymph Node Enlargement': 'left',\\n'Intramammary Lymph Node': 'left',\\n'Nipple Retraction': 'left',\\n'Skin Retraction': 'left',\\n'Trabecular Thickening': 'left',\\n}\\n\\n\\n\\n\\n\\n\\n\\n\\n\\n\\n\\n\\n\\n\\n\\n\\n\\n\\n\\n\\n\\n\\n\\n\"]\n"
          ]
        },
        {
          "name": "stderr",
          "output_type": "stream",
          "text": [
            " 87%|████████▋ | 141/163 [5:17:57<49:58, 136.32s/it]"
          ]
        },
        {
          "name": "stdout",
          "output_type": "stream",
          "text": [
            "[\"As an AI trained in analyzing radiology reports, your task is to classify the presence or absence of specific findings in each report. Respond according to the given template. \\n\\nRequirements:\\n1. Provide the lesion's location as 'right', 'left' or 'both'(i.e, right and left) if the lesion is explicitly mentioned as present.\\n2. Provide 'obscure' if the information is incomplete.\\n3. Default to 'x' if the finding is not mentioned.\\n\\nTemplate:\\n{\\n'Nodule': '[ANSWER]',\\n'Mass': '[ANSWER]',\\n'Calcification': '[ANSWER]',\\n'Asymmetry': '[ANSWER]',\\n'Architectural Distortion': '[ANSWER]',\\n'Skin Thickening': '[ANSWER]',\\n'Lymph Node Enlargement': '[ANSWER]',\\n'Intramammary Lymph Node': '[ANSWER]',\\n'Nipple Retraction': '[ANSWER]',\\n'Skin Retraction': '[ANSWER]',\\n'Trabecular Thickening': '[ANSWER]',\\n}\\n\\nReport:\\nRight Breast:  Upper outer architectural distortion is seen.  Inner rounded equal density mass with indistinct margin is seen.  No suspicious microcalcifications.  Normal skin thickness and contour of breast.    Left Breast:  No speculated mass lesions or suspicious microcalcifications.  Normal skin thickness and contour of breast.      OPINION:  Right Breast:  Upper outer architectural distortion and inner mass (BIRADS 4).    Left Breast:  Normal breast examination (BIRADS 1).                          \\n\\nAnswer according to the template:\\n{\\n'Nodule': 'obscure',\\n'Mass': 'right',\\n'Calcification': 'x',\\n'Asymmetry': 'obscure',\\n'Architectural Distortion': 'right',\\n'Skin Thickening': 'x',\\n'Lymph Node Enlargement': 'x',\\n'Intramammary Lymph Node': 'x',\\n'Nipple Retraction': 'x',\\n'Skin Retraction': 'x',\\n'Trabecular Thickening': 'x',\\n}\\n\\n\\n\\n\\n\\n\\n\\n\\n\\n\\n\\n\\n\\n\\n\\n\\n\\n\\n\\n\", \"As an AI trained in analyzing radiology reports, your task is to classify the presence or absence of specific findings in each report. Respond according to the given template. \\n\\nRequirements:\\n1. Provide the lesion's location as 'right', 'left' or 'both'(i.e, right and left) if the lesion is explicitly mentioned as present.\\n2. Provide 'obscure' if the information is incomplete.\\n3. Default to 'x' if the finding is not mentioned.\\n\\nTemplate:\\n{\\n'Nodule': '[ANSWER]',\\n'Mass': '[ANSWER]',\\n'Calcification': '[ANSWER]',\\n'Asymmetry': '[ANSWER]',\\n'Architectural Distortion': '[ANSWER]',\\n'Skin Thickening': '[ANSWER]',\\n'Lymph Node Enlargement': '[ANSWER]',\\n'Intramammary Lymph Node': '[ANSWER]',\\n'Nipple Retraction': '[ANSWER]',\\n'Skin Retraction': '[ANSWER]',\\n'Trabecular Thickening': '[ANSWER]',\\n}\\n\\nReport:\\nRight Breast:  No speculated mass lesions or suspicious microcalcifications.  Normal skin thickness and contour of breast.    Left Breast:  Upper outer quadrant focal asymmetrical increased density is noted.  No speculated mass lesions or suspicious microcalcifications.  Normal skin thickness and contour of breast.      OPINION:  Right Breast:  Normal breast examination (BIRADS 1).    Left Breast:  Upper outer focal asymmetry (BIRADS 3).                          \\n\\nAnswer according to the template:\\n{\\n'Nodule': 'obscure',\\n'Mass': 'obscure',\\n'Calcification': 'obscure',\\n'Asymmetry': 'left',\\n'Architectural Distortion': 'x',\\n'Skin Thickening': 'x',\\n'Lymph Node Enlargement': 'x',\\n'Intramammary Lymph Node': 'x',\\n'Nipple Retraction': 'x',\\n'Skin Retraction': 'x',\\n'Trabecular Thickening': 'x',\\n}\\n\\n\\n\\n\\n\\n\\n\\n\\n\\n\\n\\n\\n\\n\\n\\n\\n\\n\"]\n"
          ]
        },
        {
          "name": "stderr",
          "output_type": "stream",
          "text": [
            " 87%|████████▋ | 142/163 [5:20:13<47:41, 136.29s/it]"
          ]
        },
        {
          "name": "stdout",
          "output_type": "stream",
          "text": [
            "[\"As an AI trained in analyzing radiology reports, your task is to classify the presence or absence of specific findings in each report. Respond according to the given template. \\n\\nRequirements:\\n1. Provide the lesion's location as 'right', 'left' or 'both'(i.e, right and left) if the lesion is explicitly mentioned as present.\\n2. Provide 'obscure' if the information is incomplete.\\n3. Default to 'x' if the finding is not mentioned.\\n\\nTemplate:\\n{\\n'Nodule': '[ANSWER]',\\n'Mass': '[ANSWER]',\\n'Calcification': '[ANSWER]',\\n'Asymmetry': '[ANSWER]',\\n'Architectural Distortion': '[ANSWER]',\\n'Skin Thickening': '[ANSWER]',\\n'Lymph Node Enlargement': '[ANSWER]',\\n'Intramammary Lymph Node': '[ANSWER]',\\n'Nipple Retraction': '[ANSWER]',\\n'Skin Retraction': '[ANSWER]',\\n'Trabecular Thickening': '[ANSWER]',\\n}\\n\\nReport:\\nRight Breast:  No speculated mass lesions or suspicious microcalcifications.  Normal skin thickness and contour of breast.    Left Breast:  Lower inner quadrant rounded equal density mass with indistinct margin is seen.  No suspicious microcalcifications.  Normal skin thickness and contour of breast.      OPINION:  Right Breast:  Normal breast examination (BIRADS 1).    Left Breast:  Lower inner suspicious looking mass (BIRADS 4).                          \\n\\nAnswer according to the template:\\n{\\n'Nodule': 'obscure',\\n'Mass': 'left',\\n'Calcification': 'x',\\n'Asymmetry': 'x',\\n'Architectural Distortion': 'x',\\n'Skin Thickening': 'x',\\n'Lymph Node Enlargement': 'x',\\n'Intramammary Lymph Node': 'x',\\n'Nipple Retraction': 'x',\\n'Skin Retraction': 'x',\\n'Trabecular Thickening': 'x',\\n}\\n\\n\\n\\n\\n\\n\\n\\n\\n\\n\\n\\n\\n\\n\\n\\n\\n\\n\\n\\n\\n\\n\", \"As an AI trained in analyzing radiology reports, your task is to classify the presence or absence of specific findings in each report. Respond according to the given template. \\n\\nRequirements:\\n1. Provide the lesion's location as 'right', 'left' or 'both'(i.e, right and left) if the lesion is explicitly mentioned as present.\\n2. Provide 'obscure' if the information is incomplete.\\n3. Default to 'x' if the finding is not mentioned.\\n\\nTemplate:\\n{\\n'Nodule': '[ANSWER]',\\n'Mass': '[ANSWER]',\\n'Calcification': '[ANSWER]',\\n'Asymmetry': '[ANSWER]',\\n'Architectural Distortion': '[ANSWER]',\\n'Skin Thickening': '[ANSWER]',\\n'Lymph Node Enlargement': '[ANSWER]',\\n'Intramammary Lymph Node': '[ANSWER]',\\n'Nipple Retraction': '[ANSWER]',\\n'Skin Retraction': '[ANSWER]',\\n'Trabecular Thickening': '[ANSWER]',\\n}\\n\\nReport:\\nRight Breast:  Upper outer IMLN is noted.  No speculated mass lesions or suspicious microcalcifications.  Normal skin thickness and contour of breast.    Left Breast:  Upper outer quadrant clusters of pleomorphic microcalcifications are seen.  Normal skin thickness and contour of breast.      OPINION:  Right Breast:  Upper outer IMLN (BIRADS 2).    Left Breast:  Upper outer suspicious clusters of microcalcifications (BIRADS 4).                          \\n\\nAnswer according to the template:\\n{\\n'Nodule': 'obscure',\\n'Mass': 'obscure',\\n'Calcification': 'obscure',\\n'Asymmetry': 'obscure',\\n'Architectural Distortion': 'obscure',\\n'Skin Thickening': 'obscure',\\n'Lymph Node Enlargement': 'obscure',\\n'Intramammary Lymph Node': 'obscure',\\n'Nipple Retraction': 'obscure',\\n'Skin Retraction': 'obscure',\\n'Trabecular Thickening': 'obscure',\\n}\\n\\n\"]\n"
          ]
        },
        {
          "name": "stderr",
          "output_type": "stream",
          "text": [
            " 88%|████████▊ | 143/163 [5:22:30<45:28, 136.41s/it]"
          ]
        },
        {
          "name": "stdout",
          "output_type": "stream",
          "text": [
            "[\"As an AI trained in analyzing radiology reports, your task is to classify the presence or absence of specific findings in each report. Respond according to the given template. \\n\\nRequirements:\\n1. Provide the lesion's location as 'right', 'left' or 'both'(i.e, right and left) if the lesion is explicitly mentioned as present.\\n2. Provide 'obscure' if the information is incomplete.\\n3. Default to 'x' if the finding is not mentioned.\\n\\nTemplate:\\n{\\n'Nodule': '[ANSWER]',\\n'Mass': '[ANSWER]',\\n'Calcification': '[ANSWER]',\\n'Asymmetry': '[ANSWER]',\\n'Architectural Distortion': '[ANSWER]',\\n'Skin Thickening': '[ANSWER]',\\n'Lymph Node Enlargement': '[ANSWER]',\\n'Intramammary Lymph Node': '[ANSWER]',\\n'Nipple Retraction': '[ANSWER]',\\n'Skin Retraction': '[ANSWER]',\\n'Trabecular Thickening': '[ANSWER]',\\n}\\n\\nReport:\\nRight Breast:  Diffuse edematous changes evidenced by increased skin thickness and coarsened trabeculae associated with upper outer quadrant overlying cluster of pleomorphic microcalcifications.    Left Breast:  Upper outer focal asymmetrical increased density.  Two retroareolar and lower inner quadrant oval shaped equal density masses with circumscribed margin are seen.  No suspicious microcalcifications.  Normal skin thickness and contour of breast.      OPINION:  Right Breast:  Diffuse edematous changes with upper outer quadrant suspicious cluster of microcalcifications (BIRADS 4).    Left Breast:  Upper outer focal asymmetry (BIRADS 3).  Two retroareolar and lower inner benign looking masses (BIRADS 3).                    \\n\\nAnswer according to the template:\\n{\\n'Nodule': 'obscure',\\n'Mass': 'both',\\n'Calcification': 'right',\\n'Asymmetry': 'left',\\n'Architectural Distortion': 'x',\\n'Skin Thickening': 'right',\\n'Lymph Node Enlargement': 'x',\\n'Intramammary Lymph Node': 'x',\\n'Nipple Retraction': 'x',\\n'Skin Retraction': 'right',\\n'Trabecular Thickening': 'right',\\n}\\n\\n\\n\\n\\n\\n\\n\\n\\n\\n\\n\\n\\n\\n\\n\\n\\n\\n\\n\\n\\n\\n\", \"As an AI trained in analyzing radiology reports, your task is to classify the presence or absence of specific findings in each report. Respond according to the given template. \\n\\nRequirements:\\n1. Provide the lesion's location as 'right', 'left' or 'both'(i.e, right and left) if the lesion is explicitly mentioned as present.\\n2. Provide 'obscure' if the information is incomplete.\\n3. Default to 'x' if the finding is not mentioned.\\n\\nTemplate:\\n{\\n'Nodule': '[ANSWER]',\\n'Mass': '[ANSWER]',\\n'Calcification': '[ANSWER]',\\n'Asymmetry': '[ANSWER]',\\n'Architectural Distortion': '[ANSWER]',\\n'Skin Thickening': '[ANSWER]',\\n'Lymph Node Enlargement': '[ANSWER]',\\n'Intramammary Lymph Node': '[ANSWER]',\\n'Nipple Retraction': '[ANSWER]',\\n'Skin Retraction': '[ANSWER]',\\n'Trabecular Thickening': '[ANSWER]',\\n}\\n\\nReport:\\nRight Breast:  Diffuse edematous changes evidenced by increased skin thickness and coarsened trabeculae.  No suspicious microcalcifications.    Left Breast:  No speculated mass lesions or suspicious microcalcifications.  Normal skin thickness and contour of breast.      OPINION:  Right Breast:  Diffuse edematous changes (BIRADS 4).    Left Breast:  Normal breast examination (BIRADS 1).                    \\n\\nAnswer according to the template:\\n{\\n'Nodule': 'obscure',\\n'Mass': 'obscure',\\n'Calcification': 'obscure',\\n'Asymmetry': 'obscure',\\n'Architectural Distortion': 'obscure',\\n'Skin Thickening': 'right',\\n'Lymph Node Enlargement': 'obscure',\\n'Intramammary Lymph Node': 'obscure',\\n'Nipple Retraction': 'obscure',\\n'Skin Retraction': 'right',\\n'Trabecular Thickening': 'right',\\n}\\n\\n\\n\\n\\n\\n\\n\\n\"]\n"
          ]
        },
        {
          "name": "stderr",
          "output_type": "stream",
          "text": [
            " 88%|████████▊ | 144/163 [5:24:46<43:12, 136.43s/it]"
          ]
        },
        {
          "name": "stdout",
          "output_type": "stream",
          "text": [
            "[\"As an AI trained in analyzing radiology reports, your task is to classify the presence or absence of specific findings in each report. Respond according to the given template. \\n\\nRequirements:\\n1. Provide the lesion's location as 'right', 'left' or 'both'(i.e, right and left) if the lesion is explicitly mentioned as present.\\n2. Provide 'obscure' if the information is incomplete.\\n3. Default to 'x' if the finding is not mentioned.\\n\\nTemplate:\\n{\\n'Nodule': '[ANSWER]',\\n'Mass': '[ANSWER]',\\n'Calcification': '[ANSWER]',\\n'Asymmetry': '[ANSWER]',\\n'Architectural Distortion': '[ANSWER]',\\n'Skin Thickening': '[ANSWER]',\\n'Lymph Node Enlargement': '[ANSWER]',\\n'Intramammary Lymph Node': '[ANSWER]',\\n'Nipple Retraction': '[ANSWER]',\\n'Skin Retraction': '[ANSWER]',\\n'Trabecular Thickening': '[ANSWER]',\\n}\\n\\nReport:\\nRight Breast:  Two upper outer quadrant IMLNs are noted.  No speculated mass lesions or suspicious microcalcifications.  Normal skin thickness and contour of breast.    Left Breast:  Central retroareolar inner rounded high density mass with microlobulated margin is seen.  Outer IMLN is noted.  No suspicious microcalcifications.  Normal skin thickness and contour of breast.      OPINION:  Right Breast:  Two upper outer IMLNs (BIRADS 2).    Left Breast:  Central retroareolar inner suspicious looking mass associated with outer IMLN (BIRADS 4).                          \\n\\nAnswer according to the template:\\n{\\n'Nodule': 'obscure',\\n'Mass': 'left',\\n'Calcification': 'x',\\n'Asymmetry': 'x',\\n'Architectural Distortion': 'x',\\n'Skin Thickening': 'x',\\n'Lymph Node Enlargement': 'right',\\n'Intramammary Lymph Node': 'right',\\n'Nipple Retraction': 'x',\\n'Skin Retraction': 'x',\\n'Trabecular Thickening': 'x',\\n}\\n\\n\\n\\n\\n\\n\\n\\n\\n\\n\\n\\n\\n\\n\\n\\n\\n\\n\\n\\n\\n\\n\", \"As an AI trained in analyzing radiology reports, your task is to classify the presence or absence of specific findings in each report. Respond according to the given template. \\n\\nRequirements:\\n1. Provide the lesion's location as 'right', 'left' or 'both'(i.e, right and left) if the lesion is explicitly mentioned as present.\\n2. Provide 'obscure' if the information is incomplete.\\n3. Default to 'x' if the finding is not mentioned.\\n\\nTemplate:\\n{\\n'Nodule': '[ANSWER]',\\n'Mass': '[ANSWER]',\\n'Calcification': '[ANSWER]',\\n'Asymmetry': '[ANSWER]',\\n'Architectural Distortion': '[ANSWER]',\\n'Skin Thickening': '[ANSWER]',\\n'Lymph Node Enlargement': '[ANSWER]',\\n'Intramammary Lymph Node': '[ANSWER]',\\n'Nipple Retraction': '[ANSWER]',\\n'Skin Retraction': '[ANSWER]',\\n'Trabecular Thickening': '[ANSWER]',\\n}\\n\\nReport:\\nRight Breast:  No speculated mass lesions or suspicious microcalcifications.  Normal skin thickness and contour of breast.    Left Breast:  Diffuse edematous changes evidenced by increased skin thickness and coarsened trabeculae.  No suspicious microcalcifications.      OPINION:  Right Breast:  Normal breast examination (BIRADS 1).    Left Breast:  Diffuse edematous changes (BIRADS 4).                    \\n\\nAnswer according to the template:\\n{\\n'Nodule': 'obscure',\\n'Mass': 'obscure',\\n'Calcification': 'obscure',\\n'Asymmetry': 'obscure',\\n'Architectural Distortion': 'obscure',\\n'Skin Thickening': 'obscure',\\n'Lymph Node Enlargement': 'obscure',\\n'Intramammary Lymph Node': 'obscure',\\n'Nipple Retraction': 'obscure',\\n'Skin Retraction': 'obscure',\\n'Trabecular Thickening': 'obscure',\\n}\\n\\n\"]\n"
          ]
        },
        {
          "name": "stderr",
          "output_type": "stream",
          "text": [
            " 89%|████████▉ | 145/163 [5:27:02<40:55, 136.42s/it]"
          ]
        },
        {
          "name": "stdout",
          "output_type": "stream",
          "text": [
            "[\"As an AI trained in analyzing radiology reports, your task is to classify the presence or absence of specific findings in each report. Respond according to the given template. \\n\\nRequirements:\\n1. Provide the lesion's location as 'right', 'left' or 'both'(i.e, right and left) if the lesion is explicitly mentioned as present.\\n2. Provide 'obscure' if the information is incomplete.\\n3. Default to 'x' if the finding is not mentioned.\\n\\nTemplate:\\n{\\n'Nodule': '[ANSWER]',\\n'Mass': '[ANSWER]',\\n'Calcification': '[ANSWER]',\\n'Asymmetry': '[ANSWER]',\\n'Architectural Distortion': '[ANSWER]',\\n'Skin Thickening': '[ANSWER]',\\n'Lymph Node Enlargement': '[ANSWER]',\\n'Intramammary Lymph Node': '[ANSWER]',\\n'Nipple Retraction': '[ANSWER]',\\n'Skin Retraction': '[ANSWER]',\\n'Trabecular Thickening': '[ANSWER]',\\n}\\n\\nReport:\\nRight Breast:  Upper outer asymmetrical increased density is noted.  No suspicious microcalcifications.  Normal skin thickness.    Left Breast:  No speculated mass lesions or suspicious microcalcifications.  Normal skin thickness and contour of breast.      OPINION:  Right Breast:  Upper outer asymmetry (BIRADS 3).    Left Breast:  Normal breast examination (BIRADS 1).                          \\n\\nAnswer according to the template:\\n{\\n'Nodule': 'obscure',\\n'Mass': 'obscure',\\n'Calcification': 'obscure',\\n'Asymmetry': 'right',\\n'Architectural Distortion': 'x',\\n'Skin Thickening': 'x',\\n'Lymph Node Enlargement': 'x',\\n'Intramammary Lymph Node': 'x',\\n'Nipple Retraction': 'x',\\n'Skin Retraction': 'x',\\n'Trabecular Thickening': 'x',\\n}\\n\\n\\n\\n\\n\\n\\n\\n\\n\\n\\n\\n\\n\\n\\n\\n\\n\\n\", \"As an AI trained in analyzing radiology reports, your task is to classify the presence or absence of specific findings in each report. Respond according to the given template. \\n\\nRequirements:\\n1. Provide the lesion's location as 'right', 'left' or 'both'(i.e, right and left) if the lesion is explicitly mentioned as present.\\n2. Provide 'obscure' if the information is incomplete.\\n3. Default to 'x' if the finding is not mentioned.\\n\\nTemplate:\\n{\\n'Nodule': '[ANSWER]',\\n'Mass': '[ANSWER]',\\n'Calcification': '[ANSWER]',\\n'Asymmetry': '[ANSWER]',\\n'Architectural Distortion': '[ANSWER]',\\n'Skin Thickening': '[ANSWER]',\\n'Lymph Node Enlargement': '[ANSWER]',\\n'Intramammary Lymph Node': '[ANSWER]',\\n'Nipple Retraction': '[ANSWER]',\\n'Skin Retraction': '[ANSWER]',\\n'Trabecular Thickening': '[ANSWER]',\\n}\\n\\nReport:\\nRight Breast:  Diffuse edematous changes evidenced by increased skin thickness and coarsened trabeculae.  Associated upper outer clusters of pleomorphic microcalcifications are also seen.    Left Breast:  Central benign macrocalcifications are noted.  No speculated mass lesions or suspicious microcalcifications.  Normal skin thickness and contour of breast.      OPINION:  Right Breast:  Diffuse edematous changes associated with upper outer suspicious microcalcifications (BIRADS 5).    Left Breast:  Central benign macrocalcifications (BIRADS 2).                    \\n\\nAnswer according to the template:\\n{\\n'Nodule': 'obscure',\\n'Mass': 'obscure',\\n'Calcification': 'obscure',\\n'Asymmetry': 'obscure',\\n'Architectural Distortion': 'obscure',\\n'Skin Thickening': 'both',\\n'Lymph Node Enlargement': 'obscure',\\n'Intramammary Lymph Node': 'obscure',\\n'Nipple Retraction': 'obscure',\\n'Skin Retraction': 'obscure',\\n'Trabecular Thickening': 'both',\\n}\\n\\n\\n\\n\\n\\n\"]\n"
          ]
        },
        {
          "name": "stderr",
          "output_type": "stream",
          "text": [
            " 90%|████████▉ | 146/163 [5:29:19<38:39, 136.43s/it]"
          ]
        },
        {
          "name": "stdout",
          "output_type": "stream",
          "text": [
            "[\"As an AI trained in analyzing radiology reports, your task is to classify the presence or absence of specific findings in each report. Respond according to the given template. \\n\\nRequirements:\\n1. Provide the lesion's location as 'right', 'left' or 'both'(i.e, right and left) if the lesion is explicitly mentioned as present.\\n2. Provide 'obscure' if the information is incomplete.\\n3. Default to 'x' if the finding is not mentioned.\\n\\nTemplate:\\n{\\n'Nodule': '[ANSWER]',\\n'Mass': '[ANSWER]',\\n'Calcification': '[ANSWER]',\\n'Asymmetry': '[ANSWER]',\\n'Architectural Distortion': '[ANSWER]',\\n'Skin Thickening': '[ANSWER]',\\n'Lymph Node Enlargement': '[ANSWER]',\\n'Intramammary Lymph Node': '[ANSWER]',\\n'Nipple Retraction': '[ANSWER]',\\n'Skin Retraction': '[ANSWER]',\\n'Trabecular Thickening': '[ANSWER]',\\n}\\n\\nReport:\\nRight Breast:  Two upper outer irregular high density masses with speculated margin and intraductal extension associated with nipple retraction.  No suspicious microcalcifications.  Normal skin thickness and contour of breast.    Left Breast:  No speculated mass lesions or suspicious microcalcifications.  Normal skin thickness and contour of breast.      OPINION:  Right Breast:  Two upper outer malignant looking masses with intraductal extension and nipple retraction (BIRADS 5).    Left Breast:  Normal breast examination (BIRADS 1).                          \\n\\nAnswer according to the template:\\n{\\n'Nodule': 'right',\\n'Mass': 'right',\\n'Calcification': 'x',\\n'Asymmetry': 'right',\\n'Architectural Distortion': 'x',\\n'Skin Thickening': 'right',\\n'Lymph Node Enlargement': 'x',\\n'Intramammary Lymph Node': 'x',\\n'Nipple Retraction': 'right',\\n'Skin Retraction': 'right',\\n'Trabecular Thickening': 'x',\\n}\\n\\n\\n\\n\\n\\n\\n\\n\\n\\n\\n\\n\\n\\n\\n\\n\\n\\n\\n\\n\\n\\n\\n\\n\", \"As an AI trained in analyzing radiology reports, your task is to classify the presence or absence of specific findings in each report. Respond according to the given template. \\n\\nRequirements:\\n1. Provide the lesion's location as 'right', 'left' or 'both'(i.e, right and left) if the lesion is explicitly mentioned as present.\\n2. Provide 'obscure' if the information is incomplete.\\n3. Default to 'x' if the finding is not mentioned.\\n\\nTemplate:\\n{\\n'Nodule': '[ANSWER]',\\n'Mass': '[ANSWER]',\\n'Calcification': '[ANSWER]',\\n'Asymmetry': '[ANSWER]',\\n'Architectural Distortion': '[ANSWER]',\\n'Skin Thickening': '[ANSWER]',\\n'Lymph Node Enlargement': '[ANSWER]',\\n'Intramammary Lymph Node': '[ANSWER]',\\n'Nipple Retraction': '[ANSWER]',\\n'Skin Retraction': '[ANSWER]',\\n'Trabecular Thickening': '[ANSWER]',\\n}\\n\\nReport:\\nRight Breast:  Diffuse scattered macrocalcifications seen all over the breast.  Upper central irregular equal density mass with speculated margin and overlying macrocalcification.  Normal skin thickness and contour of breast.    Left Breast:  Upper benign macrocalcification is noted.  No speculated mass lesions or suspicious microcalcifications.  Normal skin thickness and contour of breast.      OPINION:  Right Breast:  Diffuse scattered benign looking macrocalcifications (BIRADS 2).  Upper central suspicious looking mass (BIRADS 4).    Left Breast:  Upper benign macrocalcification (BIRADS 2).                          \\n\\nAnswer according to the template:\\n{\\n'Nodule': 'obscure',\\n'Mass': 'right',\\n'Calcification': 'both',\\n'Asymmetry': 'x',\\n'Architectural Distortion': 'x',\\n'Skin Thickening': 'x',\\n'Lymph Node Enlargement': 'x',\\n'Intramammary Lymph Node': 'x',\\n'Nipple Retraction': 'x',\\n'Skin Retraction': 'x',\\n'Trabecular Thickening': 'x',\\n}\\n\\n\\n\\n\\n\\n\\n\\n\\n\\n\\n\\n\\n\\n\\n\\n\\n\\n\\n\\n\\n\\n\"]\n"
          ]
        },
        {
          "name": "stderr",
          "output_type": "stream",
          "text": [
            " 90%|█████████ | 147/163 [5:31:35<36:21, 136.35s/it]"
          ]
        },
        {
          "name": "stdout",
          "output_type": "stream",
          "text": [
            "[\"As an AI trained in analyzing radiology reports, your task is to classify the presence or absence of specific findings in each report. Respond according to the given template. \\n\\nRequirements:\\n1. Provide the lesion's location as 'right', 'left' or 'both'(i.e, right and left) if the lesion is explicitly mentioned as present.\\n2. Provide 'obscure' if the information is incomplete.\\n3. Default to 'x' if the finding is not mentioned.\\n\\nTemplate:\\n{\\n'Nodule': '[ANSWER]',\\n'Mass': '[ANSWER]',\\n'Calcification': '[ANSWER]',\\n'Asymmetry': '[ANSWER]',\\n'Architectural Distortion': '[ANSWER]',\\n'Skin Thickening': '[ANSWER]',\\n'Lymph Node Enlargement': '[ANSWER]',\\n'Intramammary Lymph Node': '[ANSWER]',\\n'Nipple Retraction': '[ANSWER]',\\n'Skin Retraction': '[ANSWER]',\\n'Trabecular Thickening': '[ANSWER]',\\n}\\n\\nReport:\\nRight Breast:  Upper outer rounded high density mass with circumscribed margin is seen.  No suspicious microcalcifications.  Normal skin thickness and contour of breast.    Left Breast:  No speculated mass lesions or suspicious microcalcifications.  Normal skin thickness and contour of breast.      OPINION:  Right Breast:  Upper outer suspicious looking mass (BIRADS 4).    Left Breast:  Normal breast examination (BIRADS 1).                          \\n\\nAnswer according to the template:\\n{\\n'Nodule': 'right',\\n'Mass': 'right',\\n'Calcification': 'x',\\n'Asymmetry': 'x',\\n'Architectural Distortion': 'x',\\n'Skin Thickening': 'x',\\n'Lymph Node Enlargement': 'x',\\n'Intramammary Lymph Node': 'x',\\n'Nipple Retraction': 'x',\\n'Skin Retraction': 'x',\\n'Trabecular Thickening': 'x',\\n}\\n\\n\\n\\n\\n\\n\\n\\n\\n\\n\\n\\n\\n\\n\\n\\n\\n\\n\\n\\n\\n\\n\\n\\n\", \"As an AI trained in analyzing radiology reports, your task is to classify the presence or absence of specific findings in each report. Respond according to the given template. \\n\\nRequirements:\\n1. Provide the lesion's location as 'right', 'left' or 'both'(i.e, right and left) if the lesion is explicitly mentioned as present.\\n2. Provide 'obscure' if the information is incomplete.\\n3. Default to 'x' if the finding is not mentioned.\\n\\nTemplate:\\n{\\n'Nodule': '[ANSWER]',\\n'Mass': '[ANSWER]',\\n'Calcification': '[ANSWER]',\\n'Asymmetry': '[ANSWER]',\\n'Architectural Distortion': '[ANSWER]',\\n'Skin Thickening': '[ANSWER]',\\n'Lymph Node Enlargement': '[ANSWER]',\\n'Intramammary Lymph Node': '[ANSWER]',\\n'Nipple Retraction': '[ANSWER]',\\n'Skin Retraction': '[ANSWER]',\\n'Trabecular Thickening': '[ANSWER]',\\n}\\n\\nReport:\\nRight Breast:  Lower inner quadrant oval shaped equal density mass with obscured margin.  Upper outer benign macrocalcification is noted.  No suspicious microcalcifications.      OPINION:  Right Breast:  Lower inner benign looking mass (BIRADS 3).  Upper outer benign macrocalcification (BIRADS 2).                                  \\n\\nAnswer according to the template:\\n{\\n'Nodule': 'obscure',\\n'Mass': 'right',\\n'Calcification': 'right',\\n'Asymmetry': 'x',\\n'Architectural Distortion': 'x',\\n'Skin Thickening': 'x',\\n'Lymph Node Enlargement': 'x',\\n'Intramammary Lymph Node': 'x',\\n'Nipple Retraction': 'x',\\n'Skin Retraction': 'x',\\n'Trabecular Thickening': 'x',\\n}\\n\\n\\n\\n\\n\\n\\n\\n\\n\\n\\n\\n\\n\\n\\n\\n\\n\\n\\n\\n\\n\\n\"]\n"
          ]
        },
        {
          "name": "stderr",
          "output_type": "stream",
          "text": [
            " 91%|█████████ | 148/163 [5:33:52<34:06, 136.41s/it]"
          ]
        },
        {
          "name": "stdout",
          "output_type": "stream",
          "text": [
            "[\"As an AI trained in analyzing radiology reports, your task is to classify the presence or absence of specific findings in each report. Respond according to the given template. \\n\\nRequirements:\\n1. Provide the lesion's location as 'right', 'left' or 'both'(i.e, right and left) if the lesion is explicitly mentioned as present.\\n2. Provide 'obscure' if the information is incomplete.\\n3. Default to 'x' if the finding is not mentioned.\\n\\nTemplate:\\n{\\n'Nodule': '[ANSWER]',\\n'Mass': '[ANSWER]',\\n'Calcification': '[ANSWER]',\\n'Asymmetry': '[ANSWER]',\\n'Architectural Distortion': '[ANSWER]',\\n'Skin Thickening': '[ANSWER]',\\n'Lymph Node Enlargement': '[ANSWER]',\\n'Intramammary Lymph Node': '[ANSWER]',\\n'Nipple Retraction': '[ANSWER]',\\n'Skin Retraction': '[ANSWER]',\\n'Trabecular Thickening': '[ANSWER]',\\n}\\n\\nReport:\\nRight Breast:  Lower central asymmetrical increased density is seen.  No suspicious microcalcifications.  Normal skin thickness and contour of breast.    Left Breast:  Upper outer oval shaped equal density mass with circumscribed margin is seen.  No suspicious microcalcifications.  Normal skin thickness and contour of breast.      OPINION:  Right Breast:  Lower central asymmetry (BIRADS 3).    Left Breast:  Upper outer benign looking mass (BIRADS 3).                          \\n\\nAnswer according to the template:\\n{\\n'Nodule': 'obscure',\\n'Mass': 'left',\\n'Calcification': 'x',\\n'Asymmetry': 'right',\\n'Architectural Distortion': 'x',\\n'Skin Thickening': 'x',\\n'Lymph Node Enlargement': 'x',\\n'Intramammary Lymph Node': 'x',\\n'Nipple Retraction': 'x',\\n'Skin Retraction': 'x',\\n'Trabecular Thickening': 'x',\\n}\\n\\n\\n\\n\\n\\n\\n\\n\\n\\n\\n\\n\\n\\n\\n\\n\\n\\n\\n\\n\\n\\n\", \"As an AI trained in analyzing radiology reports, your task is to classify the presence or absence of specific findings in each report. Respond according to the given template. \\n\\nRequirements:\\n1. Provide the lesion's location as 'right', 'left' or 'both'(i.e, right and left) if the lesion is explicitly mentioned as present.\\n2. Provide 'obscure' if the information is incomplete.\\n3. Default to 'x' if the finding is not mentioned.\\n\\nTemplate:\\n{\\n'Nodule': '[ANSWER]',\\n'Mass': '[ANSWER]',\\n'Calcification': '[ANSWER]',\\n'Asymmetry': '[ANSWER]',\\n'Architectural Distortion': '[ANSWER]',\\n'Skin Thickening': '[ANSWER]',\\n'Lymph Node Enlargement': '[ANSWER]',\\n'Intramammary Lymph Node': '[ANSWER]',\\n'Nipple Retraction': '[ANSWER]',\\n'Skin Retraction': '[ANSWER]',\\n'Trabecular Thickening': '[ANSWER]',\\n}\\n\\nReport:\\nRight Breast:  Lower outer benign macrocalcification is noted.  No speculated mass lesions or suspicious microcalcifications.  Normal skin thickness and contour of breast.    Left Breast:  Upper outer quadrant irregular high density mass with speculated margin associated with lower and central inner two irregular equal density masses with indistinct margin are seen.  No suspicious microcalcifications.  Normal skin thickness and contour of breast.      OPINION:  Right Breast:  Lower outer benign macrocalcification (BIRADS 2).    Left Breast:  Upper outer malignant looking mass associated with two lower and central inner malignant looking masses (BIRADS 5).                          \\n\\nAnswer according to the template:\\n{\\n'Nodule': 'obscure',\\n'Mass': 'left',\\n'Calcification': 'right',\\n'Asymmetry': 'obscure',\\n'Architectural Distortion': 'obscure',\\n'Skin Thickening': 'obscure',\\n'Lymph Node Enlargement': 'obscure',\\n'Intramammary Lymph Node': 'obscure',\\n'Nipple Retraction': 'obscure',\\n'Skin Retraction': 'obscure',\\n'Trabecular Thickening': 'obscure',\\n}\\n\\n\\n\\n\\n\\n\"]\n"
          ]
        },
        {
          "name": "stderr",
          "output_type": "stream",
          "text": [
            " 91%|█████████▏| 149/163 [5:36:08<31:50, 136.43s/it]"
          ]
        },
        {
          "name": "stdout",
          "output_type": "stream",
          "text": [
            "['As an AI trained in analyzing radiology reports, your task is to classify the presence or absence of specific findings in each report. Respond according to the given template. \\n\\nRequirements:\\n1. Provide the lesion\\'s location as \\'right\\', \\'left\\' or \\'both\\'(i.e, right and left) if the lesion is explicitly mentioned as present.\\n2. Provide \\'obscure\\' if the information is incomplete.\\n3. Default to \\'x\\' if the finding is not mentioned.\\n\\nTemplate:\\n{\\n\\'Nodule\\': \\'[ANSWER]\\',\\n\\'Mass\\': \\'[ANSWER]\\',\\n\\'Calcification\\': \\'[ANSWER]\\',\\n\\'Asymmetry\\': \\'[ANSWER]\\',\\n\\'Architectural Distortion\\': \\'[ANSWER]\\',\\n\\'Skin Thickening\\': \\'[ANSWER]\\',\\n\\'Lymph Node Enlargement\\': \\'[ANSWER]\\',\\n\\'Intramammary Lymph Node\\': \\'[ANSWER]\\',\\n\\'Nipple Retraction\\': \\'[ANSWER]\\',\\n\\'Skin Retraction\\': \\'[ANSWER]\\',\\n\\'Trabecular Thickening\\': \\'[ANSWER]\\',\\n}\\n\\nReport:\\nRight Breast:  Lower inner benign macrocalcifications are noted.  No speculated mass lesions or suspicious microcalcifications.  Normal skin thickness and contour of breast.    Left Breast:  Diffuse edematous changes evidenced by increased skin thickness and coarsened trabeculae.  Upper outer irregular high density mass with microlobulated margin and nipple retraction.  No suspicious microcalcifications.        OPINION:  Right Breast:  Lower inner benign macrocalcifications (BIRADS 2).    Left Breast:  Diffuse edematous changes associated with suspicious looking mass and nipple retraction (BIRADS 4).                    \\n\\nAnswer according to the template:\\n{\\n\\'Nodule\\': \\'left\\',\\n\\'Mass\\': \\'left\\',\\n\\'Calcification\\': \\'right\\',\\n\\'Asymmetry\\': \\'left\\',\\n\\'Architectural Distortion\\': \\'left\\',\\n\\'Skin Thickening\\': \\'left\\',\\n\\'Lymph Node Enlargement\\': \\'x\\',\\n\\'Intramammary Lymph Node\\': \\'x\\',\\n\\'Nipple Retraction\\': \\'left\\',\\n\\'Skin Retraction\\': \\'left\\',\\n\\'Trabecular Thickening\\': \\'left\\',\\n}\\n\\n\\n\"\"\"\\n\\nimport os\\nimport json\\nimport numpy as np\\nimport pandas as pd\\nimport', \"As an AI trained in analyzing radiology reports, your task is to classify the presence or absence of specific findings in each report. Respond according to the given template. \\n\\nRequirements:\\n1. Provide the lesion's location as 'right', 'left' or 'both'(i.e, right and left) if the lesion is explicitly mentioned as present.\\n2. Provide 'obscure' if the information is incomplete.\\n3. Default to 'x' if the finding is not mentioned.\\n\\nTemplate:\\n{\\n'Nodule': '[ANSWER]',\\n'Mass': '[ANSWER]',\\n'Calcification': '[ANSWER]',\\n'Asymmetry': '[ANSWER]',\\n'Architectural Distortion': '[ANSWER]',\\n'Skin Thickening': '[ANSWER]',\\n'Lymph Node Enlargement': '[ANSWER]',\\n'Intramammary Lymph Node': '[ANSWER]',\\n'Nipple Retraction': '[ANSWER]',\\n'Skin Retraction': '[ANSWER]',\\n'Trabecular Thickening': '[ANSWER]',\\n}\\n\\nReport:\\nRight Breast:  No speculated mass lesions or suspicious microcalcifications.  Normal skin thickness and contour of breast.    Left Breast:  Diffuse edematous changes evidenced by increased skin thickness and coarsened trabeculae.  No suspicious microcalcifications.      OPINION:  Right Breast:  Normal breast examination (BIRADS 1).    Left Breast:  Diffuse edematous changes (BIRADS 4).                    \\n\\nAnswer according to the template:\\n{\\n'Nodule': 'obscure',\\n'Mass': 'obscure',\\n'Calcification': 'obscure',\\n'Asymmetry': 'obscure',\\n'Architectural Distortion': 'obscure',\\n'Skin Thickening': 'obscure',\\n'Lymph Node Enlargement': 'obscure',\\n'Intramammary Lymph Node': 'obscure',\\n'Nipple Retraction': 'obscure',\\n'Skin Retraction': 'obscure',\\n'Trabecular Thickening': 'obscure',\\n}\\n\\n\"]\n"
          ]
        },
        {
          "name": "stderr",
          "output_type": "stream",
          "text": [
            " 92%|█████████▏| 150/163 [5:38:24<29:33, 136.44s/it]"
          ]
        },
        {
          "name": "stdout",
          "output_type": "stream",
          "text": [
            "[\"As an AI trained in analyzing radiology reports, your task is to classify the presence or absence of specific findings in each report. Respond according to the given template. \\n\\nRequirements:\\n1. Provide the lesion's location as 'right', 'left' or 'both'(i.e, right and left) if the lesion is explicitly mentioned as present.\\n2. Provide 'obscure' if the information is incomplete.\\n3. Default to 'x' if the finding is not mentioned.\\n\\nTemplate:\\n{\\n'Nodule': '[ANSWER]',\\n'Mass': '[ANSWER]',\\n'Calcification': '[ANSWER]',\\n'Asymmetry': '[ANSWER]',\\n'Architectural Distortion': '[ANSWER]',\\n'Skin Thickening': '[ANSWER]',\\n'Lymph Node Enlargement': '[ANSWER]',\\n'Intramammary Lymph Node': '[ANSWER]',\\n'Nipple Retraction': '[ANSWER]',\\n'Skin Retraction': '[ANSWER]',\\n'Trabecular Thickening': '[ANSWER]',\\n}\\n\\nReport:\\nRight Breast:  Central architectural distortion with overlying microcalcifications is seen.  Normal skin thickness and contour of breast.    Left Breast:  No speculated mass lesions or suspicious microcalcifications.  Normal skin thickness and contour of breast.      OPINION:  Right Breast:  Central malignant looking architectural distortion with overlying suspicious microcalcifications (BIRADS 5).    Left Breast:  Normal breast examination (BIRADS 1).                          \\n\\nAnswer according to the template:\\n{\\n'Nodule': 'obscure',\\n'Mass': 'obscure',\\n'Calcification': 'obscure',\\n'Asymmetry': 'obscure',\\n'Architectural Distortion': 'right',\\n'Skin Thickening': 'obscure',\\n'Lymph Node Enlargement': 'obscure',\\n'Intramammary Lymph Node': 'obscure',\\n'Nipple Retraction': 'obscure',\\n'Skin Retraction': 'obscure',\\n'Trabecular Thickening': 'obscure',\\n}\\n\\n\\n\\n\", \"As an AI trained in analyzing radiology reports, your task is to classify the presence or absence of specific findings in each report. Respond according to the given template. \\n\\nRequirements:\\n1. Provide the lesion's location as 'right', 'left' or 'both'(i.e, right and left) if the lesion is explicitly mentioned as present.\\n2. Provide 'obscure' if the information is incomplete.\\n3. Default to 'x' if the finding is not mentioned.\\n\\nTemplate:\\n{\\n'Nodule': '[ANSWER]',\\n'Mass': '[ANSWER]',\\n'Calcification': '[ANSWER]',\\n'Asymmetry': '[ANSWER]',\\n'Architectural Distortion': '[ANSWER]',\\n'Skin Thickening': '[ANSWER]',\\n'Lymph Node Enlargement': '[ANSWER]',\\n'Intramammary Lymph Node': '[ANSWER]',\\n'Nipple Retraction': '[ANSWER]',\\n'Skin Retraction': '[ANSWER]',\\n'Trabecular Thickening': '[ANSWER]',\\n}\\n\\nReport:\\nRight Breast:  Status postoperative showing operative scar with surgical clips and edema.  No speculated mass lesions or suspicious microcalcifications.      Left Breast:  ACR B: Scattered fibroglandular tissue.  No speculated mass lesions or suspicious microcalcifications.  Normal skin thickness and contour of breast.      OPINION:  Right Breast:  Status post operative with operative scar and edema showing no evidence of recurrent lesions (BIRADS 2).    Left Breast:  Normal breast examination (BIRADS 1).                        \\n\\nAnswer according to the template:\\n{\\n'Nodule': 'obscure',\\n'Mass': 'obscure',\\n'Calcification': 'obscure',\\n'Asymmetry': 'obscure',\\n'Architectural Distortion': 'obscure',\\n'Skin Thickening': 'obscure',\\n'Lymph Node Enlargement': 'obscure',\\n'Intramammary Lymph Node': 'obscure',\\n'Nipple Retraction': 'obscure',\\n'Skin Retraction': 'obscure',\\n'Trabecular Thickening': 'obscure',\\n}\\n\\n\"]\n"
          ]
        },
        {
          "name": "stderr",
          "output_type": "stream",
          "text": [
            " 93%|█████████▎| 151/163 [5:40:41<27:17, 136.47s/it]"
          ]
        },
        {
          "name": "stdout",
          "output_type": "stream",
          "text": [
            "[\"As an AI trained in analyzing radiology reports, your task is to classify the presence or absence of specific findings in each report. Respond according to the given template. \\n\\nRequirements:\\n1. Provide the lesion's location as 'right', 'left' or 'both'(i.e, right and left) if the lesion is explicitly mentioned as present.\\n2. Provide 'obscure' if the information is incomplete.\\n3. Default to 'x' if the finding is not mentioned.\\n\\nTemplate:\\n{\\n'Nodule': '[ANSWER]',\\n'Mass': '[ANSWER]',\\n'Calcification': '[ANSWER]',\\n'Asymmetry': '[ANSWER]',\\n'Architectural Distortion': '[ANSWER]',\\n'Skin Thickening': '[ANSWER]',\\n'Lymph Node Enlargement': '[ANSWER]',\\n'Intramammary Lymph Node': '[ANSWER]',\\n'Nipple Retraction': '[ANSWER]',\\n'Skin Retraction': '[ANSWER]',\\n'Trabecular Thickening': '[ANSWER]',\\n}\\n\\nReport:\\nRight Breast:  Upper outer quadrant benign macrocalcification is noted.  No speculated mass lesions or suspicious microcalcifications.  Normal skin thickness and contour of breast.    Left Breast:  Three lower and central inner irregular high density masses with speculated margin and surrounding nodules.   Central benign macrocalcification is noted.  No suspicious microcalcifications.  Normal skin thickness and contour of breast.      OPINION:  Right Breast:  Upper outer benign macrocalcification (BIRADS 2).    Left Breast:  Three lower and central inner malignant looking masses (BIRADS 5).  Central benign macrocalcification (BIRADS 2).                          \\n\\nAnswer according to the template:\\n{\\n'Nodule': 'both',\\n'Mass': 'left',\\n'Calcification': 'both',\\n'Asymmetry': 'obscure',\\n'Architectural Distortion': 'obscure',\\n'Skin Thickening': 'obscure',\\n'Lymph Node Enlargement': 'obscure',\\n'Intramammary Lymph Node': 'obscure',\\n'Nipple Retraction': 'obscure',\\n'Skin Retraction': 'obscure',\\n'Trabecular Thickening': 'obscure',\\n}\\n\\n\\n\\n\\n\\n\\n\\n\", \"As an AI trained in analyzing radiology reports, your task is to classify the presence or absence of specific findings in each report. Respond according to the given template. \\n\\nRequirements:\\n1. Provide the lesion's location as 'right', 'left' or 'both'(i.e, right and left) if the lesion is explicitly mentioned as present.\\n2. Provide 'obscure' if the information is incomplete.\\n3. Default to 'x' if the finding is not mentioned.\\n\\nTemplate:\\n{\\n'Nodule': '[ANSWER]',\\n'Mass': '[ANSWER]',\\n'Calcification': '[ANSWER]',\\n'Asymmetry': '[ANSWER]',\\n'Architectural Distortion': '[ANSWER]',\\n'Skin Thickening': '[ANSWER]',\\n'Lymph Node Enlargement': '[ANSWER]',\\n'Intramammary Lymph Node': '[ANSWER]',\\n'Nipple Retraction': '[ANSWER]',\\n'Skin Retraction': '[ANSWER]',\\n'Trabecular Thickening': '[ANSWER]',\\n}\\n\\nReport:\\nRight Breast:  No speculated mass lesions or suspicious microcalcifications.  Normal skin thickness and contour of breast.    Left Breast:  Upper central inner rounded high density mass with circumscribed margin is seen.  No suspicious microcalcifications.  Normal skin thickness and contour of breast.      OPINION:  Right Breast:  Normal breast examination (BIRADS 1).    Left Breast:  Upper central inner suspicious looking mass (BIRADS 4).                          \\n\\nAnswer according to the template:\\n{\\n'Nodule': 'left',\\n'Mass': 'left',\\n'Calcification': 'x',\\n'Asymmetry': 'x',\\n'Architectural Distortion': 'x',\\n'Skin Thickening': 'x',\\n'Lymph Node Enlargement': 'x',\\n'Intramammary Lymph Node': 'x',\\n'Nipple Retraction': 'x',\\n'Skin Retraction': 'x',\\n'Trabecular Thickening': 'x',\\n}\\n\\n\\n\\n\\n\\n\\n\\n\\n\\n\\n\\n\\n\\n\\n\\n\\n\\n\\n\\n\\n\\n\\n\\n\"]\n"
          ]
        },
        {
          "name": "stderr",
          "output_type": "stream",
          "text": [
            " 93%|█████████▎| 152/163 [5:42:57<25:00, 136.41s/it]"
          ]
        },
        {
          "name": "stdout",
          "output_type": "stream",
          "text": [
            "[\"As an AI trained in analyzing radiology reports, your task is to classify the presence or absence of specific findings in each report. Respond according to the given template. \\n\\nRequirements:\\n1. Provide the lesion's location as 'right', 'left' or 'both'(i.e, right and left) if the lesion is explicitly mentioned as present.\\n2. Provide 'obscure' if the information is incomplete.\\n3. Default to 'x' if the finding is not mentioned.\\n\\nTemplate:\\n{\\n'Nodule': '[ANSWER]',\\n'Mass': '[ANSWER]',\\n'Calcification': '[ANSWER]',\\n'Asymmetry': '[ANSWER]',\\n'Architectural Distortion': '[ANSWER]',\\n'Skin Thickening': '[ANSWER]',\\n'Lymph Node Enlargement': '[ANSWER]',\\n'Intramammary Lymph Node': '[ANSWER]',\\n'Nipple Retraction': '[ANSWER]',\\n'Skin Retraction': '[ANSWER]',\\n'Trabecular Thickening': '[ANSWER]',\\n}\\n\\nReport:\\nRight Breast:  No speculated mass lesions or suspicious microcalcifications.  Normal skin thickness and contour of breast.    Left Breast:  Two upper central irregular high density masses with speculated margin are seen.  No suspicious microcalcifications.  Normal skin thickness and contour of breast.      OPINION:  Right Breast:  Normal breast examination (BIRADS 1).    Left Breast:  Two upper central suspicious looking masses (BIRADS 4).                          \\n\\nAnswer according to the template:\\n{\\n'Nodule': 'obscure',\\n'Mass': 'left',\\n'Calcification': 'x',\\n'Asymmetry': 'x',\\n'Architectural Distortion': 'x',\\n'Skin Thickening': 'x',\\n'Lymph Node Enlargement': 'x',\\n'Intramammary Lymph Node': 'x',\\n'Nipple Retraction': 'x',\\n'Skin Retraction': 'x',\\n'Trabecular Thickening': 'x',\\n}\\n\\n\\n\\n\\n\\n\\n\\n\\n\\n\\n\\n\\n\\n\\n\\n\\n\\n\\n\\n\\n\\n\", \"As an AI trained in analyzing radiology reports, your task is to classify the presence or absence of specific findings in each report. Respond according to the given template. \\n\\nRequirements:\\n1. Provide the lesion's location as 'right', 'left' or 'both'(i.e, right and left) if the lesion is explicitly mentioned as present.\\n2. Provide 'obscure' if the information is incomplete.\\n3. Default to 'x' if the finding is not mentioned.\\n\\nTemplate:\\n{\\n'Nodule': '[ANSWER]',\\n'Mass': '[ANSWER]',\\n'Calcification': '[ANSWER]',\\n'Asymmetry': '[ANSWER]',\\n'Architectural Distortion': '[ANSWER]',\\n'Skin Thickening': '[ANSWER]',\\n'Lymph Node Enlargement': '[ANSWER]',\\n'Intramammary Lymph Node': '[ANSWER]',\\n'Nipple Retraction': '[ANSWER]',\\n'Skin Retraction': '[ANSWER]',\\n'Trabecular Thickening': '[ANSWER]',\\n}\\n\\nReport:\\nRight Breast:  Upper outer quadrant irregular high density mass with speculated margin associated with retroareolar asymmetrical increased density and edema pattern.  No suspicious microcalcifications.    Left Breast:  No speculated mass lesions or suspicious microcalcifications.  Normal skin thickness and contour of breast.      OPINION:  Right Breast:  Upper outer malignant looking mass with retroareolar asymmetry and edema pattern (BIRADS 5).    Left Breast:  Normal breast examination (BIRADS 1).                          \\n\\nAnswer according to the template:\\n{\\n'Nodule': 'right',\\n'Mass': 'right',\\n'Calcification': 'x',\\n'Asymmetry': 'right',\\n'Architectural Distortion': 'x',\\n'Skin Thickening': 'x',\\n'Lymph Node Enlargement': 'x',\\n'Intramammary Lymph Node': 'x',\\n'Nipple Retraction': 'x',\\n'Skin Retraction': 'x',\\n'Trabecular Thickening': 'x',\\n}\\n\\n\\n\\n\\n\\n\\n\\n\\n\\n\\n\\n\\n\\n\\n\\n\\n\\n\\n\\n\\n\\n\\n\\n\"]\n"
          ]
        },
        {
          "name": "stderr",
          "output_type": "stream",
          "text": [
            " 94%|█████████▍| 153/163 [5:45:14<22:44, 136.46s/it]"
          ]
        },
        {
          "name": "stdout",
          "output_type": "stream",
          "text": [
            "[\"As an AI trained in analyzing radiology reports, your task is to classify the presence or absence of specific findings in each report. Respond according to the given template. \\n\\nRequirements:\\n1. Provide the lesion's location as 'right', 'left' or 'both'(i.e, right and left) if the lesion is explicitly mentioned as present.\\n2. Provide 'obscure' if the information is incomplete.\\n3. Default to 'x' if the finding is not mentioned.\\n\\nTemplate:\\n{\\n'Nodule': '[ANSWER]',\\n'Mass': '[ANSWER]',\\n'Calcification': '[ANSWER]',\\n'Asymmetry': '[ANSWER]',\\n'Architectural Distortion': '[ANSWER]',\\n'Skin Thickening': '[ANSWER]',\\n'Lymph Node Enlargement': '[ANSWER]',\\n'Intramammary Lymph Node': '[ANSWER]',\\n'Nipple Retraction': '[ANSWER]',\\n'Skin Retraction': '[ANSWER]',\\n'Trabecular Thickening': '[ANSWER]',\\n}\\n\\nReport:\\nRight Breast:  Status post operative with operative bed showing retroareolar irregular high density masses with speculated margin and overlying clusters of microcalcifications associated with nipple retraction.  Normal skin thickness and contour of breast.    Left Breast:  ACR C: Heterogenously dense breast.  Lower architectural distortion is seen.  No suspicious microcalcifications.  Normal skin thickness and contour of breast.      OPINION:  Right Breast:  Status post operative showing retroareolar malignant looking masses with overlying suspicious microcalcifications and nipple retraction (BIRADS 5).    Left Breast:  Lower architectural distortion (BIRADS 4).                          \\n\\nAnswer according to the template:\\n{\\n'Nodule': 'right',\\n'Mass': 'right',\\n'Calcification': 'right',\\n'Asymmetry': 'left',\\n'Architectural Distortion': 'left',\\n'Skin Thickening': 'both',\\n'Lymph Node Enlargement': 'x',\\n'Intramammary Lymph Node': 'x',\\n'Nipple Retraction': 'right',\\n'Skin Retraction': 'right',\\n'Trabecular Thickening': 'x',\\n}\\n\\n\\n\\n\\n\\n\\n\\n\\n\\n\\n\\n\\n\\n\\n\\n\\n\\n\\n\\n\\n\\n\\n\\n\", \"As an AI trained in analyzing radiology reports, your task is to classify the presence or absence of specific findings in each report. Respond according to the given template. \\n\\nRequirements:\\n1. Provide the lesion's location as 'right', 'left' or 'both'(i.e, right and left) if the lesion is explicitly mentioned as present.\\n2. Provide 'obscure' if the information is incomplete.\\n3. Default to 'x' if the finding is not mentioned.\\n\\nTemplate:\\n{\\n'Nodule': '[ANSWER]',\\n'Mass': '[ANSWER]',\\n'Calcification': '[ANSWER]',\\n'Asymmetry': '[ANSWER]',\\n'Architectural Distortion': '[ANSWER]',\\n'Skin Thickening': '[ANSWER]',\\n'Lymph Node Enlargement': '[ANSWER]',\\n'Intramammary Lymph Node': '[ANSWER]',\\n'Nipple Retraction': '[ANSWER]',\\n'Skin Retraction': '[ANSWER]',\\n'Trabecular Thickening': '[ANSWER]',\\n}\\n\\nReport:\\nRight Breast:  Diffuse edematous changes evidenced by increased skin thickness and coarsened trabeculae.  Upper central rounded high density mass with indistinct margin associated with clusters of pleomorphic microcalcifications.      Left Breast:  Diffuse edematous changes evidenced by increased skin thickness and coarsened trabeculae.  Upper outer cluster of microcalcifications.      OPINION:  Right Breast:  Diffuse edematous changes associated with upper central suspicious looking mass and microcalcifications (BIRADS 4).    Left Breast:  Diffuse edematous changes associated with upper outer suspicious microcalcifications (BIRADS 4).                    \\n\\nAnswer according to the template:\\n{\\n'Nodule': 'right',\\n'Mass': 'right',\\n'Calcification': 'right',\\n'Asymmetry': 'right',\\n'Architectural Distortion': 'right',\\n'Skin Thickening': 'right',\\n'Lymph Node Enlargement': 'right',\\n'Intramammary Lymph Node': 'right',\\n'Nipple Retraction': 'right',\\n'Skin Retraction': 'right',\\n'Trabecular Thickening': 'right',\\n}\\n\\n\\n\\n\\n\\n\\n\\n\\n\\n\\n\\n\\n\\n\\n\\n\\n\\n\\n\\n\\n\\n\\n\\n\"]\n"
          ]
        },
        {
          "name": "stderr",
          "output_type": "stream",
          "text": [
            " 94%|█████████▍| 154/163 [5:47:30<20:28, 136.46s/it]"
          ]
        },
        {
          "name": "stdout",
          "output_type": "stream",
          "text": [
            "[\"As an AI trained in analyzing radiology reports, your task is to classify the presence or absence of specific findings in each report. Respond according to the given template. \\n\\nRequirements:\\n1. Provide the lesion's location as 'right', 'left' or 'both'(i.e, right and left) if the lesion is explicitly mentioned as present.\\n2. Provide 'obscure' if the information is incomplete.\\n3. Default to 'x' if the finding is not mentioned.\\n\\nTemplate:\\n{\\n'Nodule': '[ANSWER]',\\n'Mass': '[ANSWER]',\\n'Calcification': '[ANSWER]',\\n'Asymmetry': '[ANSWER]',\\n'Architectural Distortion': '[ANSWER]',\\n'Skin Thickening': '[ANSWER]',\\n'Lymph Node Enlargement': '[ANSWER]',\\n'Intramammary Lymph Node': '[ANSWER]',\\n'Nipple Retraction': '[ANSWER]',\\n'Skin Retraction': '[ANSWER]',\\n'Trabecular Thickening': '[ANSWER]',\\n}\\n\\nReport:\\nRight Breast:  Upper outer benign macrocalcifications are noted.  No speculated mass lesions or suspicious microcalcifications.  Normal skin thickness and contour of breast.    Left Breast:  Multiple retroareolar and lower inner irregular high density masses with speculated margin and nipple retraction associated with edema pattern.  No suspicious microcalcifications.      OPINION:  Right Breast:  Upper outer benign macrocalcifications (BIRADS 2).    Left Breast:  Multiple retroareolar and lower inner malignant looking masses with nipple retraction and edema pattern (BIRADS 5).                          \\n\\nAnswer according to the template:\\n{\\n'Nodule': 'left',\\n'Mass': 'left',\\n'Calcification': 'right',\\n'Asymmetry': 'left',\\n'Architectural Distortion': 'left',\\n'Skin Thickening': 'left',\\n'Lymph Node Enlargement': 'left',\\n'Intramammary Lymph Node': 'left',\\n'Nipple Retraction': 'left',\\n'Skin Retraction': 'left',\\n'Trabecular Thickening': 'right',\\n}\\n\\n\\n\\n\\n\\n\\n\\n\\n\\n\\n\\n\\n\\n\\n\\n\\n\\n\\n\\n\\n\\n\\n\\n\", \"As an AI trained in analyzing radiology reports, your task is to classify the presence or absence of specific findings in each report. Respond according to the given template. \\n\\nRequirements:\\n1. Provide the lesion's location as 'right', 'left' or 'both'(i.e, right and left) if the lesion is explicitly mentioned as present.\\n2. Provide 'obscure' if the information is incomplete.\\n3. Default to 'x' if the finding is not mentioned.\\n\\nTemplate:\\n{\\n'Nodule': '[ANSWER]',\\n'Mass': '[ANSWER]',\\n'Calcification': '[ANSWER]',\\n'Asymmetry': '[ANSWER]',\\n'Architectural Distortion': '[ANSWER]',\\n'Skin Thickening': '[ANSWER]',\\n'Lymph Node Enlargement': '[ANSWER]',\\n'Intramammary Lymph Node': '[ANSWER]',\\n'Nipple Retraction': '[ANSWER]',\\n'Skin Retraction': '[ANSWER]',\\n'Trabecular Thickening': '[ANSWER]',\\n}\\n\\nReport:\\nRight Breast:  ACR B: Scattered fibroglandular tissue.  No speculated mass lesions or suspicious microcalcifications.  Normal skin thickness and contour of breast.      Left Breast:  Status postoperative showing operative scar with lower inner rounded high density mass seen with microlobulated margin.  No suspicious microcalcifications.      OPINION:  Right Breast:  Normal breast examination (BIRADS 1).    Left Breast:  Status post operative with operative scar showing a lower inner suspicious looking mass (BIRADS 4).                        \\n\\nAnswer according to the template:\\n{\\n'Nodule': 'obscure',\\n'Mass': 'left',\\n'Calcification': 'x',\\n'Asymmetry': 'x',\\n'Architectural Distortion': 'x',\\n'Skin Thickening': 'x',\\n'Lymph Node Enlargement': 'x',\\n'Intramammary Lymph Node': 'x',\\n'Nipple Retraction': 'x',\\n'Skin Retraction': 'x',\\n'Trabecular Thickening': 'x',\\n}\\n\\n\\n\\n\\n\\n\\n\\n\\n\\n\\n\\n\\n\\n\\n\\n\\n\\n\\n\\n\\n\\n\"]\n"
          ]
        },
        {
          "name": "stderr",
          "output_type": "stream",
          "text": [
            " 95%|█████████▌| 155/163 [5:49:47<18:11, 136.50s/it]"
          ]
        },
        {
          "name": "stdout",
          "output_type": "stream",
          "text": [
            "[\"As an AI trained in analyzing radiology reports, your task is to classify the presence or absence of specific findings in each report. Respond according to the given template. \\n\\nRequirements:\\n1. Provide the lesion's location as 'right', 'left' or 'both'(i.e, right and left) if the lesion is explicitly mentioned as present.\\n2. Provide 'obscure' if the information is incomplete.\\n3. Default to 'x' if the finding is not mentioned.\\n\\nTemplate:\\n{\\n'Nodule': '[ANSWER]',\\n'Mass': '[ANSWER]',\\n'Calcification': '[ANSWER]',\\n'Asymmetry': '[ANSWER]',\\n'Architectural Distortion': '[ANSWER]',\\n'Skin Thickening': '[ANSWER]',\\n'Lymph Node Enlargement': '[ANSWER]',\\n'Intramammary Lymph Node': '[ANSWER]',\\n'Nipple Retraction': '[ANSWER]',\\n'Skin Retraction': '[ANSWER]',\\n'Trabecular Thickening': '[ANSWER]',\\n}\\n\\nReport:\\nRight Breast:  Status postoperative showing operative scar and edema.  Two lower inner oval shaped equal density masses with partially obscured margin are seen.  No suspicious microcalcifications.      Left Breast:  ACR C: Heterogenously dense breasts.  Upper central asymmetrical increased density is seen.  Normal skin thickness and contour of breast.      OPINION:  Right Breast:  Status post operative with operative scar and edema showing no evidence of recurrent lesions (BIRADS 2).  Two lower inner benign looking masses (BIRADS 3).    Left Breast:  Upper central asymmetry (BIRADS 3).                        \\n\\nAnswer according to the template:\\n{\\n'Nodule': 'obscure',\\n'Mass': 'both',\\n'Calcification': 'x',\\n'Asymmetry': 'left',\\n'Architectural Distortion': 'x',\\n'Skin Thickening': 'x',\\n'Lymph Node Enlargement': 'x',\\n'Intramammary Lymph Node': 'x',\\n'Nipple Retraction': 'x',\\n'Skin Retraction': 'x',\\n'Trabecular Thickening': 'x',\\n}\\n\\n\\n\\n\\n\\n\\n\\n\\n\\n\\n\\n\\n\\n\\n\\n\\n\\n\\n\\n\\n\\n\", \"As an AI trained in analyzing radiology reports, your task is to classify the presence or absence of specific findings in each report. Respond according to the given template. \\n\\nRequirements:\\n1. Provide the lesion's location as 'right', 'left' or 'both'(i.e, right and left) if the lesion is explicitly mentioned as present.\\n2. Provide 'obscure' if the information is incomplete.\\n3. Default to 'x' if the finding is not mentioned.\\n\\nTemplate:\\n{\\n'Nodule': '[ANSWER]',\\n'Mass': '[ANSWER]',\\n'Calcification': '[ANSWER]',\\n'Asymmetry': '[ANSWER]',\\n'Architectural Distortion': '[ANSWER]',\\n'Skin Thickening': '[ANSWER]',\\n'Lymph Node Enlargement': '[ANSWER]',\\n'Intramammary Lymph Node': '[ANSWER]',\\n'Nipple Retraction': '[ANSWER]',\\n'Skin Retraction': '[ANSWER]',\\n'Trabecular Thickening': '[ANSWER]',\\n}\\n\\nReport:\\nRight Breast:  Upper and lower inner benign macrocalcifications are noted.  No speculated mass lesions or suspicious microcalcifications.  Normal skin thickness and contour of breast.    Left Breast:  Diffuse edematous changes evidenced by increased skin thickness and coarsened trabeculae associated with upper and central outer focal asymmetrical increased density.  Few scattered outer microcalcifications are also noted.      OPINION:  Right Breast:  Upper and lower inner benign macrocalcifications (BIRADS 2).    Left Breast:  Diffuse edematous changes associated with suspicious looking upper and central outer focal asymmetry and few scattered outer microcalcifications (BIRADS 4).                    \\n\\nAnswer according to the template:\\n{\\n'Nodule': 'obscure',\\n'Mass': 'obscure',\\n'Calcification': 'both',\\n'Asymmetry': 'left',\\n'Architectural Distortion': 'x',\\n'Skin Thickening': 'left',\\n'Lymph Node Enlargement': 'x',\\n'Intramammary Lymph Node': 'x',\\n'Nipple Retraction': 'x',\\n'Skin Retraction': 'left',\\n'Trabecular Thickening': 'left',\\n}\\n\\n\\n\\n\\n\\n\\n\\n\\n\\n\\n\\n\\n\\n\\n\\n\\n\\n\\n\\n\"]\n"
          ]
        },
        {
          "name": "stderr",
          "output_type": "stream",
          "text": [
            " 96%|█████████▌| 156/163 [5:52:05<15:58, 136.89s/it]"
          ]
        },
        {
          "name": "stdout",
          "output_type": "stream",
          "text": [
            "['As an AI trained in analyzing radiology reports, your task is to classify the presence or absence of specific findings in each report. Respond according to the given template. \\n\\nRequirements:\\n1. Provide the lesion\\'s location as \\'right\\', \\'left\\' or \\'both\\'(i.e, right and left) if the lesion is explicitly mentioned as present.\\n2. Provide \\'obscure\\' if the information is incomplete.\\n3. Default to \\'x\\' if the finding is not mentioned.\\n\\nTemplate:\\n{\\n\\'Nodule\\': \\'[ANSWER]\\',\\n\\'Mass\\': \\'[ANSWER]\\',\\n\\'Calcification\\': \\'[ANSWER]\\',\\n\\'Asymmetry\\': \\'[ANSWER]\\',\\n\\'Architectural Distortion\\': \\'[ANSWER]\\',\\n\\'Skin Thickening\\': \\'[ANSWER]\\',\\n\\'Lymph Node Enlargement\\': \\'[ANSWER]\\',\\n\\'Intramammary Lymph Node\\': \\'[ANSWER]\\',\\n\\'Nipple Retraction\\': \\'[ANSWER]\\',\\n\\'Skin Retraction\\': \\'[ANSWER]\\',\\n\\'Trabecular Thickening\\': \\'[ANSWER]\\',\\n}\\n\\nReport:\\nRight Breast:  Upper outer quadrant irregular high density mass with speculated margin is seen associated with upper outer architectural distortion with overlying calcification.  Multiple retroareolar rounded equal density masses with circumscribed margin are also seen associated with retroareolar increased density that is tubular in shape likely dilated ducts.  Few scattered benign macrocalcifications are noted.  Normal skin thickness and contour of breast.    Left Breast:  Multiple retroareolar rounded equal density masses with circumscribed margin are seen associated with retroareolar increased density that is tubular in shape likely dilated ducts.  Another upper outer quadrant rounded equal density mass with circumscribed margin is also seen.  Few scattered benign macrocalcifications are noted.  Normal skin thickness and contour of breast.      OPINION:  Right Breast:  Upper outer malignant looking mass associated with upper outer architectural distortion seen with overlying calcification (BIRADS 5).  Multiple retroareolar benign looking masses (BIRADS 3).  Dilated retroareolar ducts (BIRADS 2).  Few scattered benign macrocalcifications (BIRADS 2).        Left Breast:  Multiple retroareolar and upper outer benign looking masses (BIRADS 3).  Dilated retroareolar ducts (BIRADS 2).  Few scattered benign macrocalcifications (BIRADS 2).                                                    \\n\\nAnswer according to the template:\\n{\\n\\'Nodule\\': \\'right\\',\\n\\'Mass\\': \\'right\\',\\n\\'Calcification\\': \\'right\\',\\n\\'Asymmetry\\': \\'right\\',\\n\\'Architectural Distortion\\': \\'right\\',\\n\\'Skin Thickening\\': \\'x\\',\\n\\'Lymph Node Enlargement\\': \\'x\\',\\n\\'Intramammary Lymph Node\\': \\'x\\',\\n\\'Nipple Retraction\\': \\'x\\',\\n\\'Skin Retraction\\': \\'x\\',\\n\\'Trabecular Thickening\\': \\'x\\',\\n}\\n\\n\"\"\"\\n\\nimport json\\nimport os\\nimport re\\nimport sys\\n\\n\\ndef main():\\n', \"As an AI trained in analyzing radiology reports, your task is to classify the presence or absence of specific findings in each report. Respond according to the given template. \\n\\nRequirements:\\n1. Provide the lesion's location as 'right', 'left' or 'both'(i.e, right and left) if the lesion is explicitly mentioned as present.\\n2. Provide 'obscure' if the information is incomplete.\\n3. Default to 'x' if the finding is not mentioned.\\n\\nTemplate:\\n{\\n'Nodule': '[ANSWER]',\\n'Mass': '[ANSWER]',\\n'Calcification': '[ANSWER]',\\n'Asymmetry': '[ANSWER]',\\n'Architectural Distortion': '[ANSWER]',\\n'Skin Thickening': '[ANSWER]',\\n'Lymph Node Enlargement': '[ANSWER]',\\n'Intramammary Lymph Node': '[ANSWER]',\\n'Nipple Retraction': '[ANSWER]',\\n'Skin Retraction': '[ANSWER]',\\n'Trabecular Thickening': '[ANSWER]',\\n}\\n\\nReport:\\nRight Breast:  No speculated mass lesions or suspicious microcalcifications.  Normal skin thickness and contour of breast.    Left Breast:  Lower inner quadrant rounded equal density mass with indistinct margin is seen.  No suspicious microcalcifications.  Normal skin thickness and contour of breast.      OPINION:  Right Breast:  Normal breast examination (BIRADS 1).    Left Breast:  Lower inner suspicious looking mass (BIRADS 4).                          \\n\\nAnswer according to the template:\\n{\\n'Nodule': 'obscure',\\n'Mass': 'left',\\n'Calcification': 'x',\\n'Asymmetry': 'x',\\n'Architectural Distortion': 'x',\\n'Skin Thickening': 'x',\\n'Lymph Node Enlargement': 'x',\\n'Intramammary Lymph Node': 'x',\\n'Nipple Retraction': 'x',\\n'Skin Retraction': 'x',\\n'Trabecular Thickening': 'x',\\n}\\n\\n\\n\\n\\n\\n\\n\\n\\n\\n\\n\\n\\n\\n\\n\\n\\n\\n\\n\\n\\n\\n\"]\n"
          ]
        },
        {
          "name": "stderr",
          "output_type": "stream",
          "text": [
            " 96%|█████████▋| 157/163 [5:54:22<13:42, 137.00s/it]"
          ]
        },
        {
          "name": "stdout",
          "output_type": "stream",
          "text": [
            "[\"As an AI trained in analyzing radiology reports, your task is to classify the presence or absence of specific findings in each report. Respond according to the given template. \\n\\nRequirements:\\n1. Provide the lesion's location as 'right', 'left' or 'both'(i.e, right and left) if the lesion is explicitly mentioned as present.\\n2. Provide 'obscure' if the information is incomplete.\\n3. Default to 'x' if the finding is not mentioned.\\n\\nTemplate:\\n{\\n'Nodule': '[ANSWER]',\\n'Mass': '[ANSWER]',\\n'Calcification': '[ANSWER]',\\n'Asymmetry': '[ANSWER]',\\n'Architectural Distortion': '[ANSWER]',\\n'Skin Thickening': '[ANSWER]',\\n'Lymph Node Enlargement': '[ANSWER]',\\n'Intramammary Lymph Node': '[ANSWER]',\\n'Nipple Retraction': '[ANSWER]',\\n'Skin Retraction': '[ANSWER]',\\n'Trabecular Thickening': '[ANSWER]',\\n}\\n\\nReport:\\nRight Breast:  Lower inner focal asymmetrical increased density is seen.  Associated multiple lower outer and inner oval shaped equal density masses with obscured margin are also seen.  Upper central benign macrocalcification is noted.  Normal skin thickness and contour of breast.    Left Breast:  Lower inner quadrant irregular high density mass with speculated margin is seen.  Associated multiple upper outer and lower inner scattered nodules are also seen.  Central benign macrocalcification is noted.  Normal skin thickness and contour of breast.      OPINION:  Right Breast:  Lower inner focal asymmetry associated with multiple lower outer and inner nodules (BIRADS 3).  Upper central benign macrocalcification (BIRADS 2).    Left Breast:  Lower inner malignant looking mass associated with multiple scattered nodules (BIRADS 5).  Central benign macrocalcification (BIRADS 2).        \\n\\nAnswer according to the template:\\n{\\n'Nodule': 'left',\\n'Mass': 'left',\\n'Calcification': 'right',\\n'Asymmetry': 'right',\\n'Architectural Distortion': 'x',\\n'Skin Thickening': 'x',\\n'Lymph Node Enlargement': 'x',\\n'Intramammary Lymph Node': 'x',\\n'Nipple Retraction': 'x',\\n'Skin Retraction': 'x',\\n'Trabecular Thickening': 'x',\\n}\\n\\n\\n\\n\\n\\n\\n\\n\\n\\n\\n\\n\\n\\n\\n\\n\\n\\n\\n\\n\\n\\n\\n\\n\", 'As an AI trained in analyzing radiology reports, your task is to classify the presence or absence of specific findings in each report. Respond according to the given template. \\n\\nRequirements:\\n1. Provide the lesion\\'s location as \\'right\\', \\'left\\' or \\'both\\'(i.e, right and left) if the lesion is explicitly mentioned as present.\\n2. Provide \\'obscure\\' if the information is incomplete.\\n3. Default to \\'x\\' if the finding is not mentioned.\\n\\nTemplate:\\n{\\n\\'Nodule\\': \\'[ANSWER]\\',\\n\\'Mass\\': \\'[ANSWER]\\',\\n\\'Calcification\\': \\'[ANSWER]\\',\\n\\'Asymmetry\\': \\'[ANSWER]\\',\\n\\'Architectural Distortion\\': \\'[ANSWER]\\',\\n\\'Skin Thickening\\': \\'[ANSWER]\\',\\n\\'Lymph Node Enlargement\\': \\'[ANSWER]\\',\\n\\'Intramammary Lymph Node\\': \\'[ANSWER]\\',\\n\\'Nipple Retraction\\': \\'[ANSWER]\\',\\n\\'Skin Retraction\\': \\'[ANSWER]\\',\\n\\'Trabecular Thickening\\': \\'[ANSWER]\\',\\n}\\n\\nReport:\\nRight Breast:  No speculated mass lesions or suspicious microcalcifications.  Normal skin thickness and contour of breast.    Left Breast:  Diffuse edematous changes evidenced by increased skin thickness and coarsened trabeculae.  Lower inner irregular high density mass with microlobulated margin.  Another upper outer rounded equal density mass with circumscribed margin are seen.  No suspicious microcalcifications.      OPINION:  Right Breast:  Normal breast examination (BIRADS 1).    Left Breast:  Diffuse edematous changes associated with lower inner suspicious looking mass and another upper outer mass as described (BIRADS 4).                    \\n\\nAnswer according to the template:\\n{\\n\\'Nodule\\': \\'obscure\\',\\n\\'Mass\\': \\'left\\',\\n\\'Calcification\\': \\'x\\',\\n\\'Asymmetry\\': \\'obscure\\',\\n\\'Architectural Distortion\\': \\'obscure\\',\\n\\'Skin Thickening\\': \\'left\\',\\n\\'Lymph Node Enlargement\\': \\'x\\',\\n\\'Intramammary Lymph Node\\': \\'x\\',\\n\\'Nipple Retraction\\': \\'x\\',\\n\\'Skin Retraction\\': \\'left\\',\\n\\'Trabecular Thickening\\': \\'left\\',\\n}\\n\\n\"\"\"\\n\\nimport json\\nimport os\\nimport re\\nimport sys\\n']\n"
          ]
        },
        {
          "name": "stderr",
          "output_type": "stream",
          "text": [
            " 97%|█████████▋| 158/163 [5:56:39<11:25, 137.06s/it]"
          ]
        },
        {
          "name": "stdout",
          "output_type": "stream",
          "text": [
            "['As an AI trained in analyzing radiology reports, your task is to classify the presence or absence of specific findings in each report. Respond according to the given template. \\n\\nRequirements:\\n1. Provide the lesion\\'s location as \\'right\\', \\'left\\' or \\'both\\'(i.e, right and left) if the lesion is explicitly mentioned as present.\\n2. Provide \\'obscure\\' if the information is incomplete.\\n3. Default to \\'x\\' if the finding is not mentioned.\\n\\nTemplate:\\n{\\n\\'Nodule\\': \\'[ANSWER]\\',\\n\\'Mass\\': \\'[ANSWER]\\',\\n\\'Calcification\\': \\'[ANSWER]\\',\\n\\'Asymmetry\\': \\'[ANSWER]\\',\\n\\'Architectural Distortion\\': \\'[ANSWER]\\',\\n\\'Skin Thickening\\': \\'[ANSWER]\\',\\n\\'Lymph Node Enlargement\\': \\'[ANSWER]\\',\\n\\'Intramammary Lymph Node\\': \\'[ANSWER]\\',\\n\\'Nipple Retraction\\': \\'[ANSWER]\\',\\n\\'Skin Retraction\\': \\'[ANSWER]\\',\\n\\'Trabecular Thickening\\': \\'[ANSWER]\\',\\n}\\n\\nReport:\\nRight Breast:  Upper outer vascular calcification is noted.  No speculated mass lesions or suspicious microcalcifications.  Normal skin thickness and contour of breast.    Left Breast:  Upper inner irregular high density mass with indistinct margin is seen.  Associated two lower and central inner rounded equal density nodules with circumscribed margin are also seen.  Normal skin thickness and contour of breast.      OPINION:  Right Breast:  Upper outer vascular calcification (BIRADS 2).    Left Breast:  Upper inner suspicious looking upper inner mass associated with another two lower and central inner nodules (BIRADS 4).                          \\n\\nAnswer according to the template:\\n{\\n\\'Nodule\\': \\'left\\',\\n\\'Mass\\': \\'left\\',\\n\\'Calcification\\': \\'right\\',\\n\\'Asymmetry\\': \\'obscure\\',\\n\\'Architectural Distortion\\': \\'x\\',\\n\\'Skin Thickening\\': \\'both\\',\\n\\'Lymph Node Enlargement\\': \\'x\\',\\n\\'Intramammary Lymph Node\\': \\'x\\',\\n\\'Nipple Retraction\\': \\'x\\',\\n\\'Skin Retraction\\': \\'both\\',\\n\\'Trabecular Thickening\\': \\'x\\',\\n}\\n\\n\\n\"\"\"\\n\\nimport os\\nimport json\\nimport numpy as np\\nimport pandas as pd', 'As an AI trained in analyzing radiology reports, your task is to classify the presence or absence of specific findings in each report. Respond according to the given template. \\n\\nRequirements:\\n1. Provide the lesion\\'s location as \\'right\\', \\'left\\' or \\'both\\'(i.e, right and left) if the lesion is explicitly mentioned as present.\\n2. Provide \\'obscure\\' if the information is incomplete.\\n3. Default to \\'x\\' if the finding is not mentioned.\\n\\nTemplate:\\n{\\n\\'Nodule\\': \\'[ANSWER]\\',\\n\\'Mass\\': \\'[ANSWER]\\',\\n\\'Calcification\\': \\'[ANSWER]\\',\\n\\'Asymmetry\\': \\'[ANSWER]\\',\\n\\'Architectural Distortion\\': \\'[ANSWER]\\',\\n\\'Skin Thickening\\': \\'[ANSWER]\\',\\n\\'Lymph Node Enlargement\\': \\'[ANSWER]\\',\\n\\'Intramammary Lymph Node\\': \\'[ANSWER]\\',\\n\\'Nipple Retraction\\': \\'[ANSWER]\\',\\n\\'Skin Retraction\\': \\'[ANSWER]\\',\\n\\'Trabecular Thickening\\': \\'[ANSWER]\\',\\n}\\n\\nReport:\\nRight Breast:  Diffuse edematous changes evidenced by increased skin thickness and coarsened trabeculae.  Central inner benign macrocalcifications are noted.  No suspicious microcalcifications.    Left Breast:  Diffuse edematous changes evidenced by increased skin thickness and coarsened trabeculae.  Upper outer quadrant irregular high density mass lesion with speculated margin is seen with overlying calcification.  Upper outer benign macrocalcifications are also noted.      OPINION:  Right Breast:  Diffuse edematous changes (BIRADS 4).  Central inner benign macrocalcifications (BIRADS 2).    Left Breast:  Diffuse edematous changes associated with upper outer malignant looking mass with overlying calcification (BIRADS 5).  Upper outer benign macrocalcification (BIRADS 2).            \\n\\nAnswer according to the template:\\n{\\n\\'Nodule\\': \\'obscure\\',\\n\\'Mass\\': \\'left\\',\\n\\'Calcification\\': \\'both\\',\\n\\'Asymmetry\\': \\'obscure\\',\\n\\'Architectural Distortion\\': \\'obscure\\',\\n\\'Skin Thickening\\': \\'both\\',\\n\\'Lymph Node Enlargement\\': \\'obscure\\',\\n\\'Intramammary Lymph Node\\': \\'obscure\\',\\n\\'Nipple Retraction\\': \\'obscure\\',\\n\\'Skin Retraction\\': \\'both\\',\\n\\'Trabecular Thickening\\': \\'both\\',\\n}\\n\\n\"\"\"\\n\\nimport json\\nimport os\\n']\n"
          ]
        },
        {
          "name": "stderr",
          "output_type": "stream",
          "text": [
            " 98%|█████████▊| 159/163 [5:58:56<09:07, 136.98s/it]"
          ]
        },
        {
          "name": "stdout",
          "output_type": "stream",
          "text": [
            "[\"As an AI trained in analyzing radiology reports, your task is to classify the presence or absence of specific findings in each report. Respond according to the given template. \\n\\nRequirements:\\n1. Provide the lesion's location as 'right', 'left' or 'both'(i.e, right and left) if the lesion is explicitly mentioned as present.\\n2. Provide 'obscure' if the information is incomplete.\\n3. Default to 'x' if the finding is not mentioned.\\n\\nTemplate:\\n{\\n'Nodule': '[ANSWER]',\\n'Mass': '[ANSWER]',\\n'Calcification': '[ANSWER]',\\n'Asymmetry': '[ANSWER]',\\n'Architectural Distortion': '[ANSWER]',\\n'Skin Thickening': '[ANSWER]',\\n'Lymph Node Enlargement': '[ANSWER]',\\n'Intramammary Lymph Node': '[ANSWER]',\\n'Nipple Retraction': '[ANSWER]',\\n'Skin Retraction': '[ANSWER]',\\n'Trabecular Thickening': '[ANSWER]',\\n}\\n\\nReport:\\nRight Breast:  ACR D: Extremely dense breasts.  No speculated mass lesions or suspicious microcalcifications.  Normal skin thickness and contour of breast.      Left Breast:  Status postoperative with operative scar showing central inner irregular high denisty mass with indistinct margin.  No suspicious microcalcifications.      OPINION:  Right Breast:  Normal breast examination (BIRADS 1).    Left Breast:  Status post operative with operative scar showing suspicious looking mass (BIRADS 4).                        \\n\\nAnswer according to the template:\\n{\\n'Nodule': 'obscure',\\n'Mass': 'left',\\n'Calcification': 'x',\\n'Asymmetry': 'x',\\n'Architectural Distortion': 'x',\\n'Skin Thickening': 'x',\\n'Lymph Node Enlargement': 'x',\\n'Intramammary Lymph Node': 'x',\\n'Nipple Retraction': 'x',\\n'Skin Retraction': 'x',\\n'Trabecular Thickening': 'x',\\n}\\n\\n\\n\\n\\n\\n\\n\\n\\n\\n\\n\\n\\n\\n\\n\\n\\n\\n\\n\\n\\n\\n\", \"As an AI trained in analyzing radiology reports, your task is to classify the presence or absence of specific findings in each report. Respond according to the given template. \\n\\nRequirements:\\n1. Provide the lesion's location as 'right', 'left' or 'both'(i.e, right and left) if the lesion is explicitly mentioned as present.\\n2. Provide 'obscure' if the information is incomplete.\\n3. Default to 'x' if the finding is not mentioned.\\n\\nTemplate:\\n{\\n'Nodule': '[ANSWER]',\\n'Mass': '[ANSWER]',\\n'Calcification': '[ANSWER]',\\n'Asymmetry': '[ANSWER]',\\n'Architectural Distortion': '[ANSWER]',\\n'Skin Thickening': '[ANSWER]',\\n'Lymph Node Enlargement': '[ANSWER]',\\n'Intramammary Lymph Node': '[ANSWER]',\\n'Nipple Retraction': '[ANSWER]',\\n'Skin Retraction': '[ANSWER]',\\n'Trabecular Thickening': '[ANSWER]',\\n}\\n\\nReport:\\nRight Breast:  Diffuse edematous changes evidenced by increased skin thickness and coarsened trabeculae associated with upper outer clusters of pleomorphic microcalcifications.    Left Breast:  Upper outer vascular calcification is noted.  No speculated mass lesions or suspicious microcalcifications.  Normal skin thickness and contour of breast.      OPINION:  Right Breast:  Diffuse edematous changes associated with upper outer suspicious microcalcifications (BIRADS 5).    Left Breast:  Upper outer vascular calcification (BIRADS 2).                    \\n\\nAnswer according to the template:\\n{\\n'Nodule': 'obscure',\\n'Mass': 'obscure',\\n'Calcification': 'both',\\n'Asymmetry': 'obscure',\\n'Architectural Distortion': 'obscure',\\n'Skin Thickening': 'both',\\n'Lymph Node Enlargement': 'obscure',\\n'Intramammary Lymph Node': 'obscure',\\n'Nipple Retraction': 'obscure',\\n'Skin Retraction': 'obscure',\\n'Trabecular Thickening': 'both',\\n}\\n\\n\\n\\n\\n\\n\\n\\n\"]\n"
          ]
        },
        {
          "name": "stderr",
          "output_type": "stream",
          "text": [
            " 98%|█████████▊| 160/163 [6:01:13<06:50, 136.97s/it]"
          ]
        },
        {
          "name": "stdout",
          "output_type": "stream",
          "text": [
            "[\"As an AI trained in analyzing radiology reports, your task is to classify the presence or absence of specific findings in each report. Respond according to the given template. \\n\\nRequirements:\\n1. Provide the lesion's location as 'right', 'left' or 'both'(i.e, right and left) if the lesion is explicitly mentioned as present.\\n2. Provide 'obscure' if the information is incomplete.\\n3. Default to 'x' if the finding is not mentioned.\\n\\nTemplate:\\n{\\n'Nodule': '[ANSWER]',\\n'Mass': '[ANSWER]',\\n'Calcification': '[ANSWER]',\\n'Asymmetry': '[ANSWER]',\\n'Architectural Distortion': '[ANSWER]',\\n'Skin Thickening': '[ANSWER]',\\n'Lymph Node Enlargement': '[ANSWER]',\\n'Intramammary Lymph Node': '[ANSWER]',\\n'Nipple Retraction': '[ANSWER]',\\n'Skin Retraction': '[ANSWER]',\\n'Trabecular Thickening': '[ANSWER]',\\n}\\n\\nReport:\\nRight Breast:  Inner oval shaped equal density mass with obscured margin is noted.  Lower inner benign macrocalcification is noted.  Normal skin thickness and contour of breast.    Left Breast:  Retroareolar central outer oval shaped mixed equal and low density fat containing lesion with circumscribed margin showing breast within breast sign.  No suspicious microcalcifications.  Normal skin thickness and contour of breast.      OPINION:  Right Breast:  Inner benign looking mass (BIRADS 3).  Lower inner benign macrocalcification (BIRADS 2).    Left Breast:  Retroareolar central outer benign looking lesion, likely hamartoma (BIRADS 2).                          \\n\\nAnswer according to the template:\\n{\\n'Nodule': 'obscure',\\n'Mass': 'right',\\n'Calcification': 'left',\\n'Asymmetry': 'x',\\n'Architectural Distortion': 'x',\\n'Skin Thickening': 'x',\\n'Lymph Node Enlargement': 'x',\\n'Intramammary Lymph Node': 'x',\\n'Nipple Retraction': 'x',\\n'Skin Retraction': 'x',\\n'Trabecular Thickening': 'x',\\n}\\n\\n\\n\\n\\n\\n\\n\\n\\n\\n\\n\\n\\n\\n\\n\\n\\n\\n\\n\\n\\n\\n\", \"As an AI trained in analyzing radiology reports, your task is to classify the presence or absence of specific findings in each report. Respond according to the given template. \\n\\nRequirements:\\n1. Provide the lesion's location as 'right', 'left' or 'both'(i.e, right and left) if the lesion is explicitly mentioned as present.\\n2. Provide 'obscure' if the information is incomplete.\\n3. Default to 'x' if the finding is not mentioned.\\n\\nTemplate:\\n{\\n'Nodule': '[ANSWER]',\\n'Mass': '[ANSWER]',\\n'Calcification': '[ANSWER]',\\n'Asymmetry': '[ANSWER]',\\n'Architectural Distortion': '[ANSWER]',\\n'Skin Thickening': '[ANSWER]',\\n'Lymph Node Enlargement': '[ANSWER]',\\n'Intramammary Lymph Node': '[ANSWER]',\\n'Nipple Retraction': '[ANSWER]',\\n'Skin Retraction': '[ANSWER]',\\n'Trabecular Thickening': '[ANSWER]',\\n}\\n\\nReport:\\nRight Breast:  ACR C: Heterogenously dense breasts.  No speculated mass lesions or suspicious microcalcifications.  Normal skin thickness and contour of breast.      Left Breast:  Status postoperative showing operative scar with surgical clips and edema.  No speculated mass lesions or suspicious microcalcifications.      OPINION:  Right Breast:  Normal breast examination (BIRADS 1).    Left Breast:  Status post operative with operative scar and edema showing no evidence of recurrent lesions (BIRADS 2).                        \\n\\nAnswer according to the template:\\n{\\n'Nodule': 'obscure',\\n'Mass': 'obscure',\\n'Calcification': 'obscure',\\n'Asymmetry': 'obscure',\\n'Architectural Distortion': 'obscure',\\n'Skin Thickening': 'obscure',\\n'Lymph Node Enlargement': 'obscure',\\n'Intramammary Lymph Node': 'obscure',\\n'Nipple Retraction': 'obscure',\\n'Skin Retraction': 'obscure',\\n'Trabecular Thickening': 'obscure',\\n}\\n\\n\"]\n"
          ]
        },
        {
          "name": "stderr",
          "output_type": "stream",
          "text": [
            " 99%|█████████▉| 161/163 [6:03:30<04:33, 136.86s/it]"
          ]
        },
        {
          "name": "stdout",
          "output_type": "stream",
          "text": [
            "[\"As an AI trained in analyzing radiology reports, your task is to classify the presence or absence of specific findings in each report. Respond according to the given template. \\n\\nRequirements:\\n1. Provide the lesion's location as 'right', 'left' or 'both'(i.e, right and left) if the lesion is explicitly mentioned as present.\\n2. Provide 'obscure' if the information is incomplete.\\n3. Default to 'x' if the finding is not mentioned.\\n\\nTemplate:\\n{\\n'Nodule': '[ANSWER]',\\n'Mass': '[ANSWER]',\\n'Calcification': '[ANSWER]',\\n'Asymmetry': '[ANSWER]',\\n'Architectural Distortion': '[ANSWER]',\\n'Skin Thickening': '[ANSWER]',\\n'Lymph Node Enlargement': '[ANSWER]',\\n'Intramammary Lymph Node': '[ANSWER]',\\n'Nipple Retraction': '[ANSWER]',\\n'Skin Retraction': '[ANSWER]',\\n'Trabecular Thickening': '[ANSWER]',\\n}\\n\\nReport:\\nRight Breast:  Status postoperative showing operative scar with surgical clips and lower inner architectural distorton and nodular increased density associated with overlying clusters of pleomorphic microcalcifications seen.       OPINION:  Right Breast:  Status post operative with operative scar showing lower inner suspicious looking architectural distortion and nodular density with overlying suspicious microcalcifications (BIRADS 4).                                \\n\\nAnswer according to the template:\\n{\\n'Nodule': 'right',\\n'Mass': 'right',\\n'Calcification': 'right',\\n'Asymmetry': 'obscure',\\n'Architectural Distortion': 'right',\\n'Skin Thickening': 'obscure',\\n'Lymph Node Enlargement': 'obscure',\\n'Intramammary Lymph Node': 'obscure',\\n'Nipple Retraction': 'obscure',\\n'Skin Retraction': 'obscure',\\n'Trabecular Thickening': 'obscure',\\n}\\n\\n\\n\\n\\n\\n\\n\\n\\n\\n\", \"As an AI trained in analyzing radiology reports, your task is to classify the presence or absence of specific findings in each report. Respond according to the given template. \\n\\nRequirements:\\n1. Provide the lesion's location as 'right', 'left' or 'both'(i.e, right and left) if the lesion is explicitly mentioned as present.\\n2. Provide 'obscure' if the information is incomplete.\\n3. Default to 'x' if the finding is not mentioned.\\n\\nTemplate:\\n{\\n'Nodule': '[ANSWER]',\\n'Mass': '[ANSWER]',\\n'Calcification': '[ANSWER]',\\n'Asymmetry': '[ANSWER]',\\n'Architectural Distortion': '[ANSWER]',\\n'Skin Thickening': '[ANSWER]',\\n'Lymph Node Enlargement': '[ANSWER]',\\n'Intramammary Lymph Node': '[ANSWER]',\\n'Nipple Retraction': '[ANSWER]',\\n'Skin Retraction': '[ANSWER]',\\n'Trabecular Thickening': '[ANSWER]',\\n}\\n\\nReport:\\nRight Breast:  No speculated mass lesions or suspicious microcalcifications.  Normal skin thickness and contour of breast.    Left Breast:  Retroareolar architectural distortion is seen retracting the nipple.  No suspicious microcalcifications.  Normal skin thickness.      OPINION:  Right Breast:  Normal breast examination (BIRADS 1).    Left Breast:  Retroareolar suspicious looking architectural distortion and nipple retraction (BIRADS 4).                          \\n\\nAnswer according to the template:\\n{\\n'Nodule': 'obscure',\\n'Mass': 'obscure',\\n'Calcification': 'obscure',\\n'Asymmetry': 'obscure',\\n'Architectural Distortion': 'left',\\n'Skin Thickening': 'obscure',\\n'Lymph Node Enlargement': 'obscure',\\n'Intramammary Lymph Node': 'obscure',\\n'Nipple Retraction': 'left',\\n'Skin Retraction': 'left',\\n'Trabecular Thickening': 'obscure',\\n}\\n\\n\\n\\n\\n\\n\\n\\n\"]\n"
          ]
        },
        {
          "name": "stderr",
          "output_type": "stream",
          "text": [
            " 99%|█████████▉| 162/163 [6:05:46<02:16, 136.84s/it]"
          ]
        },
        {
          "name": "stdout",
          "output_type": "stream",
          "text": [
            "[\"As an AI trained in analyzing radiology reports, your task is to classify the presence or absence of specific findings in each report. Respond according to the given template. \\n\\nRequirements:\\n1. Provide the lesion's location as 'right', 'left' or 'both'(i.e, right and left) if the lesion is explicitly mentioned as present.\\n2. Provide 'obscure' if the information is incomplete.\\n3. Default to 'x' if the finding is not mentioned.\\n\\nTemplate:\\n{\\n'Nodule': '[ANSWER]',\\n'Mass': '[ANSWER]',\\n'Calcification': '[ANSWER]',\\n'Asymmetry': '[ANSWER]',\\n'Architectural Distortion': '[ANSWER]',\\n'Skin Thickening': '[ANSWER]',\\n'Lymph Node Enlargement': '[ANSWER]',\\n'Intramammary Lymph Node': '[ANSWER]',\\n'Nipple Retraction': '[ANSWER]',\\n'Skin Retraction': '[ANSWER]',\\n'Trabecular Thickening': '[ANSWER]',\\n}\\n\\nReport:\\nRight Breast:  No speculated mass lesions or suspicious microcalcifications.  Normal skin thickness and contour of breast.    Left Breast:  Upper outer quadrant rounded equal density mass with indistinct margin is seen.  Lower inner quadrant linear tortuous density.  No suspicious microcalcifications.  Normal skin thickness and contour of breast.      OPINION:  Right Breast:  Normal breast examination (BIRADS 1).    Left Breast:  Lower inner quadrant linear tortuous density corresponding to skin pigmented lesions.  Upper outer quadrant suspicious looking mass (BIRADS 4).                            \\n\\nAnswer according to the template:\\n{\\n'Nodule': 'obscure',\\n'Mass': 'left',\\n'Calcification': 'x',\\n'Asymmetry': 'x',\\n'Architectural Distortion': 'x',\\n'Skin Thickening': 'x',\\n'Lymph Node Enlargement': 'x',\\n'Intramammary Lymph Node': 'x',\\n'Nipple Retraction': 'x',\\n'Skin Retraction': 'x',\\n'Trabecular Thickening': 'x',\\n}\\n\\n\\n\\n\\n\\n\\n\\n\\n\\n\\n\\n\\n\\n\\n\\n\\n\\n\\n\\n\\n\\n\", \"As an AI trained in analyzing radiology reports, your task is to classify the presence or absence of specific findings in each report. Respond according to the given template. \\n\\nRequirements:\\n1. Provide the lesion's location as 'right', 'left' or 'both'(i.e, right and left) if the lesion is explicitly mentioned as present.\\n2. Provide 'obscure' if the information is incomplete.\\n3. Default to 'x' if the finding is not mentioned.\\n\\nTemplate:\\n{\\n'Nodule': '[ANSWER]',\\n'Mass': '[ANSWER]',\\n'Calcification': '[ANSWER]',\\n'Asymmetry': '[ANSWER]',\\n'Architectural Distortion': '[ANSWER]',\\n'Skin Thickening': '[ANSWER]',\\n'Lymph Node Enlargement': '[ANSWER]',\\n'Intramammary Lymph Node': '[ANSWER]',\\n'Nipple Retraction': '[ANSWER]',\\n'Skin Retraction': '[ANSWER]',\\n'Trabecular Thickening': '[ANSWER]',\\n}\\n\\nReport:\\nRight Breast:  Diffuse edematous changes evidenced by increased skin thickness and coarsened trabeculae associated with diffuse air/dark density.  No suspicious microcalcifications.    Left Breast:  No speculated mass lesions or suspicious microcalcifications.  Normal skin thickness and contour of breast.      OPINION:  Right Breast:  Diffuse edematous changes associated with regional air/dark density (BIRADS 3).    Left Breast:  Normal breast examination (BIRADS 1).                    \\n\\nAnswer according to the template:\\n{\\n'Nodule': 'obscure',\\n'Mass': 'obscure',\\n'Calcification': 'obscure',\\n'Asymmetry': 'obscure',\\n'Architectural Distortion': 'obscure',\\n'Skin Thickening': 'right',\\n'Lymph Node Enlargement': 'obscure',\\n'Intramammary Lymph Node': 'obscure',\\n'Nipple Retraction': 'obscure',\\n'Skin Retraction': 'right',\\n'Trabecular Thickening': 'right',\\n}\\n\\n\\n\\n\\n\\n\\n\\n\"]\n"
          ]
        },
        {
          "name": "stderr",
          "output_type": "stream",
          "text": [
            "100%|██████████| 163/163 [6:08:03<00:00, 135.48s/it]"
          ]
        },
        {
          "name": "stdout",
          "output_type": "stream",
          "text": [
            "['As an AI trained in analyzing radiology reports, your task is to classify the presence or absence of specific findings in each report. Respond according to the given template. \\n\\nRequirements:\\n1. Provide the lesion\\'s location as \\'right\\', \\'left\\' or \\'both\\'(i.e, right and left) if the lesion is explicitly mentioned as present.\\n2. Provide \\'obscure\\' if the information is incomplete.\\n3. Default to \\'x\\' if the finding is not mentioned.\\n\\nTemplate:\\n{\\n\\'Nodule\\': \\'[ANSWER]\\',\\n\\'Mass\\': \\'[ANSWER]\\',\\n\\'Calcification\\': \\'[ANSWER]\\',\\n\\'Asymmetry\\': \\'[ANSWER]\\',\\n\\'Architectural Distortion\\': \\'[ANSWER]\\',\\n\\'Skin Thickening\\': \\'[ANSWER]\\',\\n\\'Lymph Node Enlargement\\': \\'[ANSWER]\\',\\n\\'Intramammary Lymph Node\\': \\'[ANSWER]\\',\\n\\'Nipple Retraction\\': \\'[ANSWER]\\',\\n\\'Skin Retraction\\': \\'[ANSWER]\\',\\n\\'Trabecular Thickening\\': \\'[ANSWER]\\',\\n}\\n\\nReport:\\nRight Breast:  \\tUpper outer and retroareolar nodular asymmetrical increased density is seen.  \\tUpper outer oval shaped equal density lesion with circumscribed margin.  \\tUpper outer IMLN.  No suspicious microcalcifications.  Normal skin thickness and contour of breast.    Left Breast:  No speculated mass lesions or suspicious microcalcifications.  Normal skin thickness and contour of breast.      OPINION:  Right Breast:  \\tUpper outer and retroareolar asymmetry and benign looking lesion (BIRADS 3).  \\tUpper outer IMLN (BIRADS 2).      Left Breast:  Normal breast examination (BIRADS 1).                          \\n\\nAnswer according to the template:\\n{\\n\\'Nodule\\': \\'right\\',\\n\\'Mass\\': \\'x\\',\\n\\'Calcification\\': \\'x\\',\\n\\'Asymmetry\\': \\'right\\',\\n\\'Architectural Distortion\\': \\'x\\',\\n\\'Skin Thickening\\': \\'x\\',\\n\\'Lymph Node Enlargement\\': \\'right\\',\\n\\'Intramammary Lymph Node\\': \\'right\\',\\n\\'Nipple Retraction\\': \\'x\\',\\n\\'Skin Retraction\\': \\'x\\',\\n\\'Trabecular Thickening\\': \\'x\\',\\n}\\n\\n\\n\"\"\"\\n\\nimport os\\nimport json\\nimport numpy as np\\nimport pandas as pd\\nimport', \"As an AI trained in analyzing radiology reports, your task is to classify the presence or absence of specific findings in each report. Respond according to the given template. \\n\\nRequirements:\\n1. Provide the lesion's location as 'right', 'left' or 'both'(i.e, right and left) if the lesion is explicitly mentioned as present.\\n2. Provide 'obscure' if the information is incomplete.\\n3. Default to 'x' if the finding is not mentioned.\\n\\nTemplate:\\n{\\n'Nodule': '[ANSWER]',\\n'Mass': '[ANSWER]',\\n'Calcification': '[ANSWER]',\\n'Asymmetry': '[ANSWER]',\\n'Architectural Distortion': '[ANSWER]',\\n'Skin Thickening': '[ANSWER]',\\n'Lymph Node Enlargement': '[ANSWER]',\\n'Intramammary Lymph Node': '[ANSWER]',\\n'Nipple Retraction': '[ANSWER]',\\n'Skin Retraction': '[ANSWER]',\\n'Trabecular Thickening': '[ANSWER]',\\n}\\n\\nReport:\\nRight Breast:  Upper outer benign macrocalcification is noted.  No speculated mass lesions or suspicious microcalcifications.  Normal skin thickness and contour of breast.    Left Breast:  Upper inner quadrant asymmetrical increased density is noted.  No suspicious microcalcifications.  Normal skin thickness and contour of breast.      OPINION:  Right Breast:  Upper outer benign macrocalcification (BIRADS 2).    Left Breast:  Upper inner asymmetry (BIRADS 3).                          \\n\\nAnswer according to the template:\\n{\\n'Nodule': 'x',\\n'Mass': 'x',\\n'Calcification': 'right',\\n'Asymmetry': 'left',\\n'Architectural Distortion': 'x',\\n'Skin Thickening': 'x',\\n'Lymph Node Enlargement': 'x',\\n'Intramammary Lymph Node': 'x',\\n'Nipple Retraction': 'x',\\n'Skin Retraction': 'x',\\n'Trabecular Thickening': 'x',\\n}\\n\\n\\n\\n\\n\\n\\n\\n\\n\\n\\n\\n\\n\\n\\n\\n\\n\\n\\n\\n\\n\\n\\n\\n\"]\n"
          ]
        },
        {
          "name": "stderr",
          "output_type": "stream",
          "text": [
            "\n"
          ]
        }
      ],
      "source": [
        "from tqdm import tqdm\n",
        "labels = []\n",
        "for batch in tqdm(batchs):\n",
        "    label = generate_label(model, batch, IS_ZEROSHOT)\n",
        "    labels.append(label)\n",
        "    \n",
        "labels = sum(labels, [])"
      ]
    },
    {
      "cell_type": "code",
      "execution_count": 40,
      "metadata": {},
      "outputs": [
        {
          "name": "stdout",
          "output_type": "stream",
          "text": [
            "saved at  /home/workspace/inference_result/llama-65b_NSHOT0-CDDCESM_fixed1.3.xlsx\n"
          ]
        }
      ],
      "source": [
        "import os\n",
        "inference_result_path = \"/home/workspace/inference_result\"\n",
        "if USE_FINETUNED:\n",
        "    file_name = checkpoint_name.split(\"/\")[4] + f\"-{DATASET}_{version}.xlsx\"\n",
        "    # file_name = checkpoint_name.split(\"/\")[4] + \"_prior10k.xlsx\"\n",
        "    # file_name = checkpoint_name.split(\"/\")[4] + \"-SNUH_test_v4.2.xlsx\"\n",
        "    # file_name = checkpoint_name.split(\"/\")[4] + \"-SNUH_training_v2.2.xlsx\"\n",
        "    # file_name = checkpoint_name.split(\"/\")[4] + \"-CDDCESM_fixed1.3.xlsx\"\n",
        "else:\n",
        "    file_name = model_id.split('/')[-1] + f\"_NSHOT{N_SHOT}-{DATASET}_{version}.xlsx\"\n",
        "pd.concat((data, pd.DataFrame(labels)), axis=1).to_excel(os.path.join(inference_result_path, file_name), index=False)\n",
        "print(\"saved at \", inference_result_path+'/'+file_name)"
      ]
    },
    {
      "cell_type": "code",
      "execution_count": 59,
      "metadata": {},
      "outputs": [
        {
          "data": {
            "text/plain": [
              "[{'Nodule': 'x',\n",
              "  'Mass': 'x',\n",
              "  'Calcification': 'x',\n",
              "  'Asymmetry': 'x',\n",
              "  'Architectural Distortion': 'l',\n",
              "  'Skin Thickening': 'x',\n",
              "  'Lymph Node Enlargement': 'x',\n",
              "  'Intramammary Lymph Node': 'x',\n",
              "  'Nipple Retraction': 'x',\n",
              "  'Skin Retraction': 'x',\n",
              "  'Trabecular Thickening': 'x'},\n",
              " {'Nodule': 'o',\n",
              "  'Mass': 'b',\n",
              "  'Calcification': 'r',\n",
              "  'Asymmetry': 'o',\n",
              "  'Architectural Distortion': 'o',\n",
              "  'Skin Thickening': 'o',\n",
              "  'Lymph Node Enlargement': 'o',\n",
              "  'Intramammary Lymph Node': 'o',\n",
              "  'Nipple Retraction': 'o',\n",
              "  'Skin Retraction': 'o',\n",
              "  'Trabecular Thickening': 'o'},\n",
              " {'Nodule': 'l',\n",
              "  'Mass': 'l',\n",
              "  'Calcification': 'x',\n",
              "  'Asymmetry': 'x',\n",
              "  'Architectural Distortion': 'x',\n",
              "  'Skin Thickening': 'x',\n",
              "  'Lymph Node Enlargement': 'x',\n",
              "  'Intramammary Lymph Node': 'x',\n",
              "  'Nipple Retraction': 'x',\n",
              "  'Skin Retraction': 'x',\n",
              "  'Trabecular Thickening': 'x'},\n",
              " {'Nodule': 'o',\n",
              "  'Mass': 'o',\n",
              "  'Calcification': 'o',\n",
              "  'Asymmetry': 'o',\n",
              "  'Architectural Distortion': 'o',\n",
              "  'Skin Thickening': 'o',\n",
              "  'Lymph Node Enlargement': 'o',\n",
              "  'Intramammary Lymph Node': 'o',\n",
              "  'Nipple Retraction': 'o',\n",
              "  'Skin Retraction': 'o',\n",
              "  'Trabecular Thickening': 'o'},\n",
              " {'Nodule': 'o',\n",
              "  'Mass': 'o',\n",
              "  'Calcification': 'o',\n",
              "  'Asymmetry': 'o',\n",
              "  'Architectural Distortion': 'o',\n",
              "  'Skin Thickening': 'o',\n",
              "  'Lymph Node Enlargement': 'o',\n",
              "  'Intramammary Lymph Node': 'o',\n",
              "  'Nipple Retraction': 'o',\n",
              "  'Skin Retraction': 'o',\n",
              "  'Trabecular Thickening': 'o'},\n",
              " {'Nodule': 'l',\n",
              "  'Mass': 'l',\n",
              "  'Calcification': 'r',\n",
              "  'Asymmetry': 'o',\n",
              "  'Architectural Distortion': 'x',\n",
              "  'Skin Thickening': 'b',\n",
              "  'Lymph Node Enlargement': 'x',\n",
              "  'Intramammary Lymph Node': 'x',\n",
              "  'Nipple Retraction': 'x',\n",
              "  'Skin Retraction': 'b',\n",
              "  'Trabecular Thickening': 'x'},\n",
              " {'Nodule': 'l',\n",
              "  'Mass': 'l',\n",
              "  'Calcification': 'x',\n",
              "  'Asymmetry': 'l',\n",
              "  'Architectural Distortion': 'x',\n",
              "  'Skin Thickening': 'l',\n",
              "  'Lymph Node Enlargement': 'x',\n",
              "  'Intramammary Lymph Node': 'x',\n",
              "  'Nipple Retraction': 'l',\n",
              "  'Skin Retraction': 'l',\n",
              "  'Trabecular Thickening': 'x'},\n",
              " {'Nodule': 'o',\n",
              "  'Mass': 'o',\n",
              "  'Calcification': 'l',\n",
              "  'Asymmetry': 'x',\n",
              "  'Architectural Distortion': 'x',\n",
              "  'Skin Thickening': 'x',\n",
              "  'Lymph Node Enlargement': 'x',\n",
              "  'Intramammary Lymph Node': 'x',\n",
              "  'Nipple Retraction': 'x',\n",
              "  'Skin Retraction': 'x',\n",
              "  'Trabecular Thickening': 'x'},\n",
              " {'Nodule': 'o',\n",
              "  'Mass': 'o',\n",
              "  'Calcification': 'l',\n",
              "  'Asymmetry': 'x',\n",
              "  'Architectural Distortion': 'x',\n",
              "  'Skin Thickening': 'x',\n",
              "  'Lymph Node Enlargement': 'x',\n",
              "  'Intramammary Lymph Node': 'x',\n",
              "  'Nipple Retraction': 'x',\n",
              "  'Skin Retraction': 'x',\n",
              "  'Trabecular Thickening': 'x'},\n",
              " {'Nodule': 'o',\n",
              "  'Mass': 'o',\n",
              "  'Calcification': 'o',\n",
              "  'Asymmetry': 'o',\n",
              "  'Architectural Distortion': 'o',\n",
              "  'Skin Thickening': 'o',\n",
              "  'Lymph Node Enlargement': 'o',\n",
              "  'Intramammary Lymph Node': 'o',\n",
              "  'Nipple Retraction': 'o',\n",
              "  'Skin Retraction': 'o',\n",
              "  'Trabecular Thickening': 'o'},\n",
              " {'Nodule': 'r',\n",
              "  'Mass': 'r',\n",
              "  'Calcification': 'o',\n",
              "  'Asymmetry': 'x',\n",
              "  'Architectural Distortion': 'x',\n",
              "  'Skin Thickening': 'x',\n",
              "  'Lymph Node Enlargement': 'x',\n",
              "  'Intramammary Lymph Node': 'x',\n",
              "  'Nipple Retraction': 'x',\n",
              "  'Skin Retraction': 'x',\n",
              "  'Trabecular Thickening': 'x'},\n",
              " {'Nodule': 'o',\n",
              "  'Mass': 'o',\n",
              "  'Calcification': 'o',\n",
              "  'Asymmetry': 'l',\n",
              "  'Architectural Distortion': 'x',\n",
              "  'Skin Thickening': 'x',\n",
              "  'Lymph Node Enlargement': 'l',\n",
              "  'Intramammary Lymph Node': 'l',\n",
              "  'Nipple Retraction': 'x',\n",
              "  'Skin Retraction': 'x',\n",
              "  'Trabecular Thickening': 'x'},\n",
              " {'Nodule': 'r',\n",
              "  'Mass': 'r',\n",
              "  'Calcification': 'x',\n",
              "  'Asymmetry': 'x',\n",
              "  'Architectural Distortion': 'x',\n",
              "  'Skin Thickening': 'x',\n",
              "  'Lymph Node Enlargement': 'x',\n",
              "  'Intramammary Lymph Node': 'x',\n",
              "  'Nipple Retraction': 'x',\n",
              "  'Skin Retraction': 'x',\n",
              "  'Trabecular Thickening': 'x'},\n",
              " {'Nodule': 'o',\n",
              "  'Mass': 'o',\n",
              "  'Calcification': 'o',\n",
              "  'Asymmetry': 'o',\n",
              "  'Architectural Distortion': 'o',\n",
              "  'Skin Thickening': 'r',\n",
              "  'Lymph Node Enlargement': 'o',\n",
              "  'Intramammary Lymph Node': 'o',\n",
              "  'Nipple Retraction': 'o',\n",
              "  'Skin Retraction': 'r',\n",
              "  'Trabecular Thickening': 'r'},\n",
              " {'Nodule': 'l',\n",
              "  'Mass': 'l',\n",
              "  'Calcification': 'x',\n",
              "  'Asymmetry': 'x',\n",
              "  'Architectural Distortion': 'x',\n",
              "  'Skin Thickening': 'x',\n",
              "  'Lymph Node Enlargement': 'x',\n",
              "  'Intramammary Lymph Node': 'x',\n",
              "  'Nipple Retraction': 'x',\n",
              "  'Skin Retraction': 'x',\n",
              "  'Trabecular Thickening': 'x'},\n",
              " {'Nodule': 'r',\n",
              "  'Mass': 'r',\n",
              "  'Calcification': 'x',\n",
              "  'Asymmetry': 'x',\n",
              "  'Architectural Distortion': 'x',\n",
              "  'Skin Thickening': 'x',\n",
              "  'Lymph Node Enlargement': 'x',\n",
              "  'Intramammary Lymph Node': 'x',\n",
              "  'Nipple Retraction': 'x',\n",
              "  'Skin Retraction': 'x',\n",
              "  'Trabecular Thickening': 'x'},\n",
              " {'Nodule': 'x',\n",
              "  'Mass': 'x',\n",
              "  'Calcification': 'x',\n",
              "  'Asymmetry': 'x',\n",
              "  'Architectural Distortion': 'r',\n",
              "  'Skin Thickening': 'x',\n",
              "  'Lymph Node Enlargement': 'x',\n",
              "  'Intramammary Lymph Node': 'x',\n",
              "  'Nipple Retraction': 'x',\n",
              "  'Skin Retraction': 'x',\n",
              "  'Trabecular Thickening': 'x'},\n",
              " {'Nodule': 'b',\n",
              "  'Mass': 'b',\n",
              "  'Calcification': 'x',\n",
              "  'Asymmetry': 'l',\n",
              "  'Architectural Distortion': 'l',\n",
              "  'Skin Thickening': 'x',\n",
              "  'Lymph Node Enlargement': 'x',\n",
              "  'Intramammary Lymph Node': 'x',\n",
              "  'Nipple Retraction': 'x',\n",
              "  'Skin Retraction': 'x',\n",
              "  'Trabecular Thickening': 'x'},\n",
              " {'Nodule': 'o',\n",
              "  'Mass': 'l',\n",
              "  'Calcification': 'x',\n",
              "  'Asymmetry': 'x',\n",
              "  'Architectural Distortion': 'x',\n",
              "  'Skin Thickening': 'x',\n",
              "  'Lymph Node Enlargement': 'x',\n",
              "  'Intramammary Lymph Node': 'x',\n",
              "  'Nipple Retraction': 'x',\n",
              "  'Skin Retraction': 'x',\n",
              "  'Trabecular Thickening': 'x'},\n",
              " {'Nodule': 'o',\n",
              "  'Mass': 'o',\n",
              "  'Calcification': 'o',\n",
              "  'Asymmetry': 'o',\n",
              "  'Architectural Distortion': 'o',\n",
              "  'Skin Thickening': 'o',\n",
              "  'Lymph Node Enlargement': 'o',\n",
              "  'Intramammary Lymph Node': 'o',\n",
              "  'Nipple Retraction': 'o',\n",
              "  'Skin Retraction': 'o',\n",
              "  'Trabecular Thickening': 'o'},\n",
              " {'Nodule': 'o',\n",
              "  'Mass': 'o',\n",
              "  'Calcification': 'o',\n",
              "  'Asymmetry': 'r',\n",
              "  'Architectural Distortion': 'x',\n",
              "  'Skin Thickening': 'x',\n",
              "  'Lymph Node Enlargement': 'x',\n",
              "  'Intramammary Lymph Node': 'x',\n",
              "  'Nipple Retraction': 'x',\n",
              "  'Skin Retraction': 'x',\n",
              "  'Trabecular Thickening': 'x'},\n",
              " {'Nodule': 'o',\n",
              "  'Mass': 'o',\n",
              "  'Calcification': 'o',\n",
              "  'Asymmetry': 'l',\n",
              "  'Architectural Distortion': 'o',\n",
              "  'Skin Thickening': 'l',\n",
              "  'Lymph Node Enlargement': 'o',\n",
              "  'Intramammary Lymph Node': 'o',\n",
              "  'Nipple Retraction': 'o',\n",
              "  'Skin Retraction': 'o',\n",
              "  'Trabecular Thickening': 'o'},\n",
              " {'Nodule': 'o',\n",
              "  'Mass': 'o',\n",
              "  'Calcification': 'o',\n",
              "  'Asymmetry': 'o',\n",
              "  'Architectural Distortion': 'o',\n",
              "  'Skin Thickening': 'o',\n",
              "  'Lymph Node Enlargement': 'o',\n",
              "  'Intramammary Lymph Node': 'o',\n",
              "  'Nipple Retraction': 'o',\n",
              "  'Skin Retraction': 'o',\n",
              "  'Trabecular Thickening': 'o'},\n",
              " {'Nodule': 'r',\n",
              "  'Mass': 'r',\n",
              "  'Calcification': 'r',\n",
              "  'Asymmetry': 'o',\n",
              "  'Architectural Distortion': 'o',\n",
              "  'Skin Thickening': 'o',\n",
              "  'Lymph Node Enlargement': 'o',\n",
              "  'Intramammary Lymph Node': 'o',\n",
              "  'Nipple Retraction': 'o',\n",
              "  'Skin Retraction': 'o',\n",
              "  'Trabecular Thickening': 'o'},\n",
              " {'Nodule': 'l',\n",
              "  'Mass': 'l',\n",
              "  'Calcification': 'l',\n",
              "  'Asymmetry': 'o',\n",
              "  'Architectural Distortion': 'o',\n",
              "  'Skin Thickening': 'o',\n",
              "  'Lymph Node Enlargement': 'o',\n",
              "  'Intramammary Lymph Node': 'o',\n",
              "  'Nipple Retraction': 'o',\n",
              "  'Skin Retraction': 'o',\n",
              "  'Trabecular Thickening': 'o'},\n",
              " {'Nodule': 'o',\n",
              "  'Mass': 'o',\n",
              "  'Calcification': 'o',\n",
              "  'Asymmetry': 'o',\n",
              "  'Architectural Distortion': 'o',\n",
              "  'Skin Thickening': 'o',\n",
              "  'Lymph Node Enlargement': 'o',\n",
              "  'Intramammary Lymph Node': 'o',\n",
              "  'Nipple Retraction': 'o',\n",
              "  'Skin Retraction': 'o',\n",
              "  'Trabecular Thickening': 'o'},\n",
              " {'Nodule': 'o',\n",
              "  'Mass': 'o',\n",
              "  'Calcification': 'o',\n",
              "  'Asymmetry': 'l',\n",
              "  'Architectural Distortion': 'o',\n",
              "  'Skin Thickening': 'l',\n",
              "  'Lymph Node Enlargement': 'o',\n",
              "  'Intramammary Lymph Node': 'o',\n",
              "  'Nipple Retraction': 'o',\n",
              "  'Skin Retraction': 'l',\n",
              "  'Trabecular Thickening': 'l'},\n",
              " {'Nodule': 'o',\n",
              "  'Mass': 'o',\n",
              "  'Calcification': 'o',\n",
              "  'Asymmetry': 'r',\n",
              "  'Architectural Distortion': 'o',\n",
              "  'Skin Thickening': 'l',\n",
              "  'Lymph Node Enlargement': 'o',\n",
              "  'Intramammary Lymph Node': 'o',\n",
              "  'Nipple Retraction': 'o',\n",
              "  'Skin Retraction': 'l',\n",
              "  'Trabecular Thickening': 'l'},\n",
              " {'Nodule': 'o',\n",
              "  'Mass': 'o',\n",
              "  'Calcification': 'o',\n",
              "  'Asymmetry': 'o',\n",
              "  'Architectural Distortion': 'o',\n",
              "  'Skin Thickening': 'o',\n",
              "  'Lymph Node Enlargement': 'o',\n",
              "  'Intramammary Lymph Node': 'o',\n",
              "  'Nipple Retraction': 'o',\n",
              "  'Skin Retraction': 'o',\n",
              "  'Trabecular Thickening': 'o'},\n",
              " {'Nodule': 'o',\n",
              "  'Mass': 'o',\n",
              "  'Calcification': 'r',\n",
              "  'Asymmetry': 'x',\n",
              "  'Architectural Distortion': 'x',\n",
              "  'Skin Thickening': 'r',\n",
              "  'Lymph Node Enlargement': 'x',\n",
              "  'Intramammary Lymph Node': 'x',\n",
              "  'Nipple Retraction': 'x',\n",
              "  'Skin Retraction': 'r',\n",
              "  'Trabecular Thickening': 'r'},\n",
              " {'Nodule': 'r',\n",
              "  'Mass': 'r',\n",
              "  'Calcification': 'o',\n",
              "  'Asymmetry': 'x',\n",
              "  'Architectural Distortion': 'x',\n",
              "  'Skin Thickening': 'x',\n",
              "  'Lymph Node Enlargement': 'x',\n",
              "  'Intramammary Lymph Node': 'x',\n",
              "  'Nipple Retraction': 'x',\n",
              "  'Skin Retraction': 'x',\n",
              "  'Trabecular Thickening': 'x'},\n",
              " {'Nodule': 'r',\n",
              "  'Mass': 'x',\n",
              "  'Calcification': 'r',\n",
              "  'Asymmetry': 'r',\n",
              "  'Architectural Distortion': 'x',\n",
              "  'Skin Thickening': 'x',\n",
              "  'Lymph Node Enlargement': 'x',\n",
              "  'Intramammary Lymph Node': 'x',\n",
              "  'Nipple Retraction': 'x',\n",
              "  'Skin Retraction': 'x',\n",
              "  'Trabecular Thickening': 'x'},\n",
              " {'Nodule': 'o',\n",
              "  'Mass': 'o',\n",
              "  'Calcification': 'o',\n",
              "  'Asymmetry': 'o',\n",
              "  'Architectural Distortion': 'o',\n",
              "  'Skin Thickening': 'o',\n",
              "  'Lymph Node Enlargement': 'o',\n",
              "  'Intramammary Lymph Node': 'o',\n",
              "  'Nipple Retraction': 'o',\n",
              "  'Skin Retraction': 'o',\n",
              "  'Trabecular Thickening': 'o'},\n",
              " {'Nodule': 'o',\n",
              "  'Mass': 'o',\n",
              "  'Calcification': 'o',\n",
              "  'Asymmetry': 'r',\n",
              "  'Architectural Distortion': 'x',\n",
              "  'Skin Thickening': 'x',\n",
              "  'Lymph Node Enlargement': 'x',\n",
              "  'Intramammary Lymph Node': 'x',\n",
              "  'Nipple Retraction': 'x',\n",
              "  'Skin Retraction': 'x',\n",
              "  'Trabecular Thickening': 'x'},\n",
              " {'Nodule': 'o',\n",
              "  'Mass': 'l',\n",
              "  'Calcification': 'x',\n",
              "  'Asymmetry': 'x',\n",
              "  'Architectural Distortion': 'x',\n",
              "  'Skin Thickening': 'x',\n",
              "  'Lymph Node Enlargement': 'x',\n",
              "  'Intramammary Lymph Node': 'x',\n",
              "  'Nipple Retraction': 'x',\n",
              "  'Skin Retraction': 'x',\n",
              "  'Trabecular Thickening': 'x'},\n",
              " {'Nodule': 'o',\n",
              "  'Mass': 'o',\n",
              "  'Calcification': 'o',\n",
              "  'Asymmetry': 'o',\n",
              "  'Architectural Distortion': 'o',\n",
              "  'Skin Thickening': 'o',\n",
              "  'Lymph Node Enlargement': 'o',\n",
              "  'Intramammary Lymph Node': 'o',\n",
              "  'Nipple Retraction': 'o',\n",
              "  'Skin Retraction': 'o',\n",
              "  'Trabecular Thickening': 'o'},\n",
              " {'Nodule': 'o',\n",
              "  'Mass': 'o',\n",
              "  'Calcification': 'o',\n",
              "  'Asymmetry': 'l',\n",
              "  'Architectural Distortion': 'x',\n",
              "  'Skin Thickening': 'x',\n",
              "  'Lymph Node Enlargement': 'x',\n",
              "  'Intramammary Lymph Node': 'x',\n",
              "  'Nipple Retraction': 'x',\n",
              "  'Skin Retraction': 'x',\n",
              "  'Trabecular Thickening': 'x'},\n",
              " {'Nodule': 'o',\n",
              "  'Mass': 'o',\n",
              "  'Calcification': 'o',\n",
              "  'Asymmetry': 'o',\n",
              "  'Architectural Distortion': 'o',\n",
              "  'Skin Thickening': 'o',\n",
              "  'Lymph Node Enlargement': 'o',\n",
              "  'Intramammary Lymph Node': 'o',\n",
              "  'Nipple Retraction': 'o',\n",
              "  'Skin Retraction': 'o',\n",
              "  'Trabecular Thickening': 'o'},\n",
              " {'Nodule': 'o',\n",
              "  'Mass': 'o',\n",
              "  'Calcification': 'o',\n",
              "  'Asymmetry': 'o',\n",
              "  'Architectural Distortion': 'o',\n",
              "  'Skin Thickening': 'o',\n",
              "  'Lymph Node Enlargement': 'o',\n",
              "  'Intramammary Lymph Node': 'o',\n",
              "  'Nipple Retraction': 'o',\n",
              "  'Skin Retraction': 'o',\n",
              "  'Trabecular Thickening': 'o'},\n",
              " {'Nodule': 'r',\n",
              "  'Mass': 'r',\n",
              "  'Calcification': 'x',\n",
              "  'Asymmetry': 'x',\n",
              "  'Architectural Distortion': 'x',\n",
              "  'Skin Thickening': 'x',\n",
              "  'Lymph Node Enlargement': 'l',\n",
              "  'Intramammary Lymph Node': 'l',\n",
              "  'Nipple Retraction': 'x',\n",
              "  'Skin Retraction': 'x',\n",
              "  'Trabecular Thickening': 'x'},\n",
              " {'Nodule': 'o',\n",
              "  'Mass': 'o',\n",
              "  'Calcification': 'o',\n",
              "  'Asymmetry': 'o',\n",
              "  'Architectural Distortion': 'o',\n",
              "  'Skin Thickening': 'o',\n",
              "  'Lymph Node Enlargement': 'o',\n",
              "  'Intramammary Lymph Node': 'o',\n",
              "  'Nipple Retraction': 'o',\n",
              "  'Skin Retraction': 'o',\n",
              "  'Trabecular Thickening': 'o'},\n",
              " {'Nodule': 'o',\n",
              "  'Mass': 'o',\n",
              "  'Calcification': 'o',\n",
              "  'Asymmetry': 'r',\n",
              "  'Architectural Distortion': 'o',\n",
              "  'Skin Thickening': 'o',\n",
              "  'Lymph Node Enlargement': 'o',\n",
              "  'Intramammary Lymph Node': 'o',\n",
              "  'Nipple Retraction': 'o',\n",
              "  'Skin Retraction': 'o',\n",
              "  'Trabecular Thickening': 'o'},\n",
              " {'Nodule': 'o',\n",
              "  'Mass': 'o',\n",
              "  'Calcification': 'o',\n",
              "  'Asymmetry': 'o',\n",
              "  'Architectural Distortion': 'o',\n",
              "  'Skin Thickening': 'o',\n",
              "  'Lymph Node Enlargement': 'o',\n",
              "  'Intramammary Lymph Node': 'o',\n",
              "  'Nipple Retraction': 'o',\n",
              "  'Skin Retraction': 'o',\n",
              "  'Trabecular Thickening': 'o'},\n",
              " {'Nodule': 'r',\n",
              "  'Mass': 'r',\n",
              "  'Calcification': 'x',\n",
              "  'Asymmetry': 'x',\n",
              "  'Architectural Distortion': 'x',\n",
              "  'Skin Thickening': 'x',\n",
              "  'Lymph Node Enlargement': 'x',\n",
              "  'Intramammary Lymph Node': 'x',\n",
              "  'Nipple Retraction': 'x',\n",
              "  'Skin Retraction': 'x',\n",
              "  'Trabecular Thickening': 'x'},\n",
              " {'Nodule': 'b',\n",
              "  'Mass': 'b',\n",
              "  'Calcification': 'x',\n",
              "  'Asymmetry': 'l',\n",
              "  'Architectural Distortion': 'x',\n",
              "  'Skin Thickening': 'x',\n",
              "  'Lymph Node Enlargement': 'x',\n",
              "  'Intramammary Lymph Node': 'x',\n",
              "  'Nipple Retraction': 'x',\n",
              "  'Skin Retraction': 'x',\n",
              "  'Trabecular Thickening': 'x'},\n",
              " {'Nodule': 'o',\n",
              "  'Mass': 'o',\n",
              "  'Calcification': 'o',\n",
              "  'Asymmetry': 'l',\n",
              "  'Architectural Distortion': 'x',\n",
              "  'Skin Thickening': 'x',\n",
              "  'Lymph Node Enlargement': 'x',\n",
              "  'Intramammary Lymph Node': 'x',\n",
              "  'Nipple Retraction': 'x',\n",
              "  'Skin Retraction': 'x',\n",
              "  'Trabecular Thickening': 'x'},\n",
              " {'Nodule': 'o',\n",
              "  'Mass': 'r',\n",
              "  'Calcification': 'r',\n",
              "  'Asymmetry': 'o',\n",
              "  'Architectural Distortion': 'r',\n",
              "  'Skin Thickening': 'x',\n",
              "  'Lymph Node Enlargement': 'x',\n",
              "  'Intramammary Lymph Node': 'x',\n",
              "  'Nipple Retraction': 'x',\n",
              "  'Skin Retraction': 'x',\n",
              "  'Trabecular Thickening': 'x'},\n",
              " {'Nodule': 'o',\n",
              "  'Mass': 'o',\n",
              "  'Calcification': 'o',\n",
              "  'Asymmetry': 'o',\n",
              "  'Architectural Distortion': 'o',\n",
              "  'Skin Thickening': 'o',\n",
              "  'Lymph Node Enlargement': 'o',\n",
              "  'Intramammary Lymph Node': 'o',\n",
              "  'Nipple Retraction': 'o',\n",
              "  'Skin Retraction': 'o',\n",
              "  'Trabecular Thickening': 'o'},\n",
              " {'Nodule': 'o',\n",
              "  'Mass': 'o',\n",
              "  'Calcification': 'o',\n",
              "  'Asymmetry': 'o',\n",
              "  'Architectural Distortion': 'o',\n",
              "  'Skin Thickening': 'o',\n",
              "  'Lymph Node Enlargement': 'o',\n",
              "  'Intramammary Lymph Node': 'o',\n",
              "  'Nipple Retraction': 'o',\n",
              "  'Skin Retraction': 'o',\n",
              "  'Trabecular Thickening': 'o'},\n",
              " {'Nodule': 'o',\n",
              "  'Mass': 'o',\n",
              "  'Calcification': 'o',\n",
              "  'Asymmetry': 'l',\n",
              "  'Architectural Distortion': 'x',\n",
              "  'Skin Thickening': 'x',\n",
              "  'Lymph Node Enlargement': 'x',\n",
              "  'Intramammary Lymph Node': 'x',\n",
              "  'Nipple Retraction': 'x',\n",
              "  'Skin Retraction': 'x',\n",
              "  'Trabecular Thickening': 'x'},\n",
              " {'Nodule': 'o',\n",
              "  'Mass': 'o',\n",
              "  'Calcification': 'o',\n",
              "  'Asymmetry': 'r',\n",
              "  'Architectural Distortion': 'x',\n",
              "  'Skin Thickening': 'x',\n",
              "  'Lymph Node Enlargement': 'x',\n",
              "  'Intramammary Lymph Node': 'x',\n",
              "  'Nipple Retraction': 'x',\n",
              "  'Skin Retraction': 'x',\n",
              "  'Trabecular Thickening': 'x'},\n",
              " {'Nodule': 'o',\n",
              "  'Mass': 'o',\n",
              "  'Calcification': 'b',\n",
              "  'Asymmetry': 'x',\n",
              "  'Architectural Distortion': 'x',\n",
              "  'Skin Thickening': 'x',\n",
              "  'Lymph Node Enlargement': 'x',\n",
              "  'Intramammary Lymph Node': 'x',\n",
              "  'Nipple Retraction': 'x',\n",
              "  'Skin Retraction': 'x',\n",
              "  'Trabecular Thickening': 'x'},\n",
              " {'Nodule': 'o',\n",
              "  'Mass': 'o',\n",
              "  'Calcification': 'o',\n",
              "  'Asymmetry': 'r',\n",
              "  'Architectural Distortion': 'o',\n",
              "  'Skin Thickening': 'o',\n",
              "  'Lymph Node Enlargement': 'o',\n",
              "  'Intramammary Lymph Node': 'o',\n",
              "  'Nipple Retraction': 'o',\n",
              "  'Skin Retraction': 'o',\n",
              "  'Trabecular Thickening': 'o'},\n",
              " {'Nodule': 'o',\n",
              "  'Mass': 'o',\n",
              "  'Calcification': 'o',\n",
              "  'Asymmetry': 'o',\n",
              "  'Architectural Distortion': 'o',\n",
              "  'Skin Thickening': 'o',\n",
              "  'Lymph Node Enlargement': 'o',\n",
              "  'Intramammary Lymph Node': 'o',\n",
              "  'Nipple Retraction': 'o',\n",
              "  'Skin Retraction': 'o',\n",
              "  'Trabecular Thickening': 'o'},\n",
              " {'Nodule': 'o',\n",
              "  'Mass': 'o',\n",
              "  'Calcification': 'x',\n",
              "  'Asymmetry': 'r',\n",
              "  'Architectural Distortion': 'o',\n",
              "  'Skin Thickening': 'o',\n",
              "  'Lymph Node Enlargement': 'o',\n",
              "  'Intramammary Lymph Node': 'o',\n",
              "  'Nipple Retraction': 'r',\n",
              "  'Skin Retraction': 'o',\n",
              "  'Trabecular Thickening': 'o'},\n",
              " {'Nodule': 'o',\n",
              "  'Mass': 'o',\n",
              "  'Calcification': 'o',\n",
              "  'Asymmetry': 'o',\n",
              "  'Architectural Distortion': 'l',\n",
              "  'Skin Thickening': 'o',\n",
              "  'Lymph Node Enlargement': 'o',\n",
              "  'Intramammary Lymph Node': 'o',\n",
              "  'Nipple Retraction': 'o',\n",
              "  'Skin Retraction': 'o',\n",
              "  'Trabecular Thickening': 'o'},\n",
              " {'Nodule': 'o',\n",
              "  'Mass': 'o',\n",
              "  'Calcification': 'o',\n",
              "  'Asymmetry': 'o',\n",
              "  'Architectural Distortion': 'o',\n",
              "  'Skin Thickening': 'o',\n",
              "  'Lymph Node Enlargement': 'o',\n",
              "  'Intramammary Lymph Node': 'o',\n",
              "  'Nipple Retraction': 'o',\n",
              "  'Skin Retraction': 'o',\n",
              "  'Trabecular Thickening': 'o'},\n",
              " {'Nodule': 'o',\n",
              "  'Mass': 'o',\n",
              "  'Calcification': 'o',\n",
              "  'Asymmetry': 'o',\n",
              "  'Architectural Distortion': 'o',\n",
              "  'Skin Thickening': 'o',\n",
              "  'Lymph Node Enlargement': 'o',\n",
              "  'Intramammary Lymph Node': 'o',\n",
              "  'Nipple Retraction': 'o',\n",
              "  'Skin Retraction': 'o',\n",
              "  'Trabecular Thickening': 'o'},\n",
              " {'Nodule': 'r',\n",
              "  'Mass': 'r',\n",
              "  'Calcification': 'l',\n",
              "  'Asymmetry': 'o',\n",
              "  'Architectural Distortion': 'o',\n",
              "  'Skin Thickening': 'o',\n",
              "  'Lymph Node Enlargement': 'o',\n",
              "  'Intramammary Lymph Node': 'o',\n",
              "  'Nipple Retraction': 'o',\n",
              "  'Skin Retraction': 'o',\n",
              "  'Trabecular Thickening': 'o'},\n",
              " {'Nodule': 'l',\n",
              "  'Mass': 'l',\n",
              "  'Calcification': 'x',\n",
              "  'Asymmetry': 'x',\n",
              "  'Architectural Distortion': 'x',\n",
              "  'Skin Thickening': 'x',\n",
              "  'Lymph Node Enlargement': 'x',\n",
              "  'Intramammary Lymph Node': 'x',\n",
              "  'Nipple Retraction': 'x',\n",
              "  'Skin Retraction': 'x',\n",
              "  'Trabecular Thickening': 'x'},\n",
              " {'Nodule': 'o',\n",
              "  'Mass': 'o',\n",
              "  'Calcification': 'o',\n",
              "  'Asymmetry': 'l',\n",
              "  'Architectural Distortion': 'o',\n",
              "  'Skin Thickening': 'o',\n",
              "  'Lymph Node Enlargement': 'o',\n",
              "  'Intramammary Lymph Node': 'o',\n",
              "  'Nipple Retraction': 'o',\n",
              "  'Skin Retraction': 'o',\n",
              "  'Trabecular Thickening': 'o'},\n",
              " {'Nodule': 'o',\n",
              "  'Mass': 'o',\n",
              "  'Calcification': 'o',\n",
              "  'Asymmetry': 'o',\n",
              "  'Architectural Distortion': 'o',\n",
              "  'Skin Thickening': 'o',\n",
              "  'Lymph Node Enlargement': 'o',\n",
              "  'Intramammary Lymph Node': 'o',\n",
              "  'Nipple Retraction': 'o',\n",
              "  'Skin Retraction': 'o',\n",
              "  'Trabecular Thickening': 'o'},\n",
              " {'Nodule': 'o',\n",
              "  'Mass': 'o',\n",
              "  'Calcification': 'o',\n",
              "  'Asymmetry': 'o',\n",
              "  'Architectural Distortion': 'o',\n",
              "  'Skin Thickening': 'o',\n",
              "  'Lymph Node Enlargement': 'o',\n",
              "  'Intramammary Lymph Node': 'o',\n",
              "  'Nipple Retraction': 'o',\n",
              "  'Skin Retraction': 'o',\n",
              "  'Trabecular Thickening': 'o'},\n",
              " {'Nodule': 'r',\n",
              "  'Mass': 'r',\n",
              "  'Calcification': 'x',\n",
              "  'Asymmetry': 'x',\n",
              "  'Architectural Distortion': 'x',\n",
              "  'Skin Thickening': 'x',\n",
              "  'Lymph Node Enlargement': 'l',\n",
              "  'Intramammary Lymph Node': 'l',\n",
              "  'Nipple Retraction': 'x',\n",
              "  'Skin Retraction': 'x',\n",
              "  'Trabecular Thickening': 'x'},\n",
              " {'Nodule': 'o',\n",
              "  'Mass': 'l',\n",
              "  'Calcification': 'x',\n",
              "  'Asymmetry': 'x',\n",
              "  'Architectural Distortion': 'x',\n",
              "  'Skin Thickening': 'x',\n",
              "  'Lymph Node Enlargement': 'x',\n",
              "  'Intramammary Lymph Node': 'x',\n",
              "  'Nipple Retraction': 'x',\n",
              "  'Skin Retraction': 'x',\n",
              "  'Trabecular Thickening': 'x'},\n",
              " {'Nodule': 'r',\n",
              "  'Mass': 'r',\n",
              "  'Calcification': 'x',\n",
              "  'Asymmetry': 'x',\n",
              "  'Architectural Distortion': 'x',\n",
              "  'Skin Thickening': 'x',\n",
              "  'Lymph Node Enlargement': 'x',\n",
              "  'Intramammary Lymph Node': 'x',\n",
              "  'Nipple Retraction': 'x',\n",
              "  'Skin Retraction': 'x',\n",
              "  'Trabecular Thickening': 'x'},\n",
              " {'Nodule': 'r',\n",
              "  'Mass': 'r',\n",
              "  'Calcification': 'r',\n",
              "  'Asymmetry': 'x',\n",
              "  'Architectural Distortion': 'x',\n",
              "  'Skin Thickening': 'x',\n",
              "  'Lymph Node Enlargement': 'l',\n",
              "  'Intramammary Lymph Node': 'l',\n",
              "  'Nipple Retraction': 'x',\n",
              "  'Skin Retraction': 'x',\n",
              "  'Trabecular Thickening': 'x'},\n",
              " {'Nodule': 'o',\n",
              "  'Mass': 'b',\n",
              "  'Calcification': 'x',\n",
              "  'Asymmetry': 'x',\n",
              "  'Architectural Distortion': 'x',\n",
              "  'Skin Thickening': 'x',\n",
              "  'Lymph Node Enlargement': 'x',\n",
              "  'Intramammary Lymph Node': 'x',\n",
              "  'Nipple Retraction': 'x',\n",
              "  'Skin Retraction': 'x',\n",
              "  'Trabecular Thickening': 'x'},\n",
              " {'Nodule': 'x',\n",
              "  'Mass': 'x',\n",
              "  'Calcification': 'l',\n",
              "  'Asymmetry': 'x',\n",
              "  'Architectural Distortion': 'x',\n",
              "  'Skin Thickening': 'x',\n",
              "  'Lymph Node Enlargement': 'x',\n",
              "  'Intramammary Lymph Node': 'x',\n",
              "  'Nipple Retraction': 'x',\n",
              "  'Skin Retraction': 'x',\n",
              "  'Trabecular Thickening': 'x'},\n",
              " {'Nodule': 'o',\n",
              "  'Mass': 'o',\n",
              "  'Calcification': 'l',\n",
              "  'Asymmetry': 'x',\n",
              "  'Architectural Distortion': 'x',\n",
              "  'Skin Thickening': 'x',\n",
              "  'Lymph Node Enlargement': 'x',\n",
              "  'Intramammary Lymph Node': 'x',\n",
              "  'Nipple Retraction': 'x',\n",
              "  'Skin Retraction': 'x',\n",
              "  'Trabecular Thickening': 'x'},\n",
              " {'Nodule': 'o',\n",
              "  'Mass': 'o',\n",
              "  'Calcification': 'o',\n",
              "  'Asymmetry': 'o',\n",
              "  'Architectural Distortion': 'o',\n",
              "  'Skin Thickening': 'o',\n",
              "  'Lymph Node Enlargement': 'o',\n",
              "  'Intramammary Lymph Node': 'o',\n",
              "  'Nipple Retraction': 'o',\n",
              "  'Skin Retraction': 'o',\n",
              "  'Trabecular Thickening': 'o'},\n",
              " {'Nodule': 'r',\n",
              "  'Mass': 'r',\n",
              "  'Calcification': 'x',\n",
              "  'Asymmetry': 'x',\n",
              "  'Architectural Distortion': 'x',\n",
              "  'Skin Thickening': 'x',\n",
              "  'Lymph Node Enlargement': 'x',\n",
              "  'Intramammary Lymph Node': 'x',\n",
              "  'Nipple Retraction': 'x',\n",
              "  'Skin Retraction': 'x',\n",
              "  'Trabecular Thickening': 'x'},\n",
              " {'Nodule': 'o',\n",
              "  'Mass': 'o',\n",
              "  'Calcification': 'r',\n",
              "  'Asymmetry': 'r',\n",
              "  'Architectural Distortion': 'x',\n",
              "  'Skin Thickening': 'x',\n",
              "  'Lymph Node Enlargement': 'x',\n",
              "  'Intramammary Lymph Node': 'x',\n",
              "  'Nipple Retraction': 'x',\n",
              "  'Skin Retraction': 'x',\n",
              "  'Trabecular Thickening': 'x'},\n",
              " {'Nodule': 'o',\n",
              "  'Mass': 'o',\n",
              "  'Calcification': 'o',\n",
              "  'Asymmetry': 'l',\n",
              "  'Architectural Distortion': 'x',\n",
              "  'Skin Thickening': 'x',\n",
              "  'Lymph Node Enlargement': 'x',\n",
              "  'Intramammary Lymph Node': 'x',\n",
              "  'Nipple Retraction': 'x',\n",
              "  'Skin Retraction': 'x',\n",
              "  'Trabecular Thickening': 'x'},\n",
              " {'Nodule': 'o',\n",
              "  'Mass': 'o',\n",
              "  'Calcification': 'o',\n",
              "  'Asymmetry': 'o',\n",
              "  'Architectural Distortion': 'o',\n",
              "  'Skin Thickening': 'o',\n",
              "  'Lymph Node Enlargement': 'o',\n",
              "  'Intramammary Lymph Node': 'o',\n",
              "  'Nipple Retraction': 'o',\n",
              "  'Skin Retraction': 'o',\n",
              "  'Trabecular Thickening': 'o'},\n",
              " {'Nodule': 'r',\n",
              "  'Mass': 'r',\n",
              "  'Calcification': 'r',\n",
              "  'Asymmetry': 'o',\n",
              "  'Architectural Distortion': 'x',\n",
              "  'Skin Thickening': 'r',\n",
              "  'Lymph Node Enlargement': 'x',\n",
              "  'Intramammary Lymph Node': 'x',\n",
              "  'Nipple Retraction': 'x',\n",
              "  'Skin Retraction': 'x',\n",
              "  'Trabecular Thickening': 'x'},\n",
              " {'Nodule': 'r',\n",
              "  'Mass': 'r',\n",
              "  'Calcification': 'o',\n",
              "  'Asymmetry': 'x',\n",
              "  'Architectural Distortion': 'x',\n",
              "  'Skin Thickening': 'x',\n",
              "  'Lymph Node Enlargement': 'x',\n",
              "  'Intramammary Lymph Node': 'x',\n",
              "  'Nipple Retraction': 'x',\n",
              "  'Skin Retraction': 'x',\n",
              "  'Trabecular Thickening': 'x'},\n",
              " {'Nodule': 'o',\n",
              "  'Mass': 'o',\n",
              "  'Calcification': 'o',\n",
              "  'Asymmetry': 'o',\n",
              "  'Architectural Distortion': 'o',\n",
              "  'Skin Thickening': 'o',\n",
              "  'Lymph Node Enlargement': 'o',\n",
              "  'Intramammary Lymph Node': 'o',\n",
              "  'Nipple Retraction': 'o',\n",
              "  'Skin Retraction': 'o',\n",
              "  'Trabecular Thickening': 'o'},\n",
              " {'Nodule': 'o',\n",
              "  'Mass': 'o',\n",
              "  'Calcification': 'o',\n",
              "  'Asymmetry': 'o',\n",
              "  'Architectural Distortion': 'o',\n",
              "  'Skin Thickening': 'o',\n",
              "  'Lymph Node Enlargement': 'o',\n",
              "  'Intramammary Lymph Node': 'o',\n",
              "  'Nipple Retraction': 'o',\n",
              "  'Skin Retraction': 'o',\n",
              "  'Trabecular Thickening': 'o'},\n",
              " {'Nodule': 'o',\n",
              "  'Mass': 'o',\n",
              "  'Calcification': 'o',\n",
              "  'Asymmetry': 'o',\n",
              "  'Architectural Distortion': 'o',\n",
              "  'Skin Thickening': 'o',\n",
              "  'Lymph Node Enlargement': 'o',\n",
              "  'Intramammary Lymph Node': 'o',\n",
              "  'Nipple Retraction': 'o',\n",
              "  'Skin Retraction': 'o',\n",
              "  'Trabecular Thickening': 'o'},\n",
              " {'Nodule': 'o',\n",
              "  'Mass': 'o',\n",
              "  'Calcification': 'o',\n",
              "  'Asymmetry': 'o',\n",
              "  'Architectural Distortion': 'o',\n",
              "  'Skin Thickening': 'o',\n",
              "  'Lymph Node Enlargement': 'o',\n",
              "  'Intramammary Lymph Node': 'o',\n",
              "  'Nipple Retraction': 'o',\n",
              "  'Skin Retraction': 'o',\n",
              "  'Trabecular Thickening': 'o'},\n",
              " {'Nodule': 'o',\n",
              "  'Mass': 'l',\n",
              "  'Calcification': 'x',\n",
              "  'Asymmetry': 'x',\n",
              "  'Architectural Distortion': 'x',\n",
              "  'Skin Thickening': 'x',\n",
              "  'Lymph Node Enlargement': 'x',\n",
              "  'Intramammary Lymph Node': 'x',\n",
              "  'Nipple Retraction': 'x',\n",
              "  'Skin Retraction': 'x',\n",
              "  'Trabecular Thickening': 'x'},\n",
              " {'Nodule': 'o',\n",
              "  'Mass': 'o',\n",
              "  'Calcification': 'o',\n",
              "  'Asymmetry': 'l',\n",
              "  'Architectural Distortion': 'l',\n",
              "  'Skin Thickening': 'x',\n",
              "  'Lymph Node Enlargement': 'x',\n",
              "  'Intramammary Lymph Node': 'x',\n",
              "  'Nipple Retraction': 'x',\n",
              "  'Skin Retraction': 'x',\n",
              "  'Trabecular Thickening': 'x'},\n",
              " {'Nodule': 'o',\n",
              "  'Mass': 'o',\n",
              "  'Calcification': 'o',\n",
              "  'Asymmetry': 'o',\n",
              "  'Architectural Distortion': 'l',\n",
              "  'Skin Thickening': 'o',\n",
              "  'Lymph Node Enlargement': 'o',\n",
              "  'Intramammary Lymph Node': 'o',\n",
              "  'Nipple Retraction': 'o',\n",
              "  'Skin Retraction': 'o',\n",
              "  'Trabecular Thickening': 'o'},\n",
              " {'Nodule': 'x',\n",
              "  'Mass': 'x',\n",
              "  'Calcification': 'x',\n",
              "  'Asymmetry': 'x',\n",
              "  'Architectural Distortion': 'r',\n",
              "  'Skin Thickening': 'x',\n",
              "  'Lymph Node Enlargement': 'x',\n",
              "  'Intramammary Lymph Node': 'x',\n",
              "  'Nipple Retraction': 'x',\n",
              "  'Skin Retraction': 'x',\n",
              "  'Trabecular Thickening': 'x'},\n",
              " {'Nodule': 'o',\n",
              "  'Mass': 'o',\n",
              "  'Calcification': 'o',\n",
              "  'Asymmetry': 'r',\n",
              "  'Architectural Distortion': 'x',\n",
              "  'Skin Thickening': 'x',\n",
              "  'Lymph Node Enlargement': 'x',\n",
              "  'Intramammary Lymph Node': 'x',\n",
              "  'Nipple Retraction': 'x',\n",
              "  'Skin Retraction': 'x',\n",
              "  'Trabecular Thickening': 'x'},\n",
              " {'Nodule': 'o',\n",
              "  'Mass': 'o',\n",
              "  'Calcification': 'o',\n",
              "  'Asymmetry': 'l',\n",
              "  'Architectural Distortion': 'x',\n",
              "  'Skin Thickening': 'x',\n",
              "  'Lymph Node Enlargement': 'x',\n",
              "  'Intramammary Lymph Node': 'x',\n",
              "  'Nipple Retraction': 'x',\n",
              "  'Skin Retraction': 'x',\n",
              "  'Trabecular Thickening': 'x'},\n",
              " {'Nodule': 'o',\n",
              "  'Mass': 'o',\n",
              "  'Calcification': 'o',\n",
              "  'Asymmetry': 'r',\n",
              "  'Architectural Distortion': 'x',\n",
              "  'Skin Thickening': 'x',\n",
              "  'Lymph Node Enlargement': 'x',\n",
              "  'Intramammary Lymph Node': 'x',\n",
              "  'Nipple Retraction': 'x',\n",
              "  'Skin Retraction': 'x',\n",
              "  'Trabecular Thickening': 'x'},\n",
              " {'Nodule': 'r',\n",
              "  'Mass': 'r',\n",
              "  'Calcification': 'r',\n",
              "  'Asymmetry': 'o',\n",
              "  'Architectural Distortion': 'o',\n",
              "  'Skin Thickening': 'o',\n",
              "  'Lymph Node Enlargement': 'o',\n",
              "  'Intramammary Lymph Node': 'o',\n",
              "  'Nipple Retraction': 'o',\n",
              "  'Skin Retraction': 'o',\n",
              "  'Trabecular Thickening': 'o'},\n",
              " {'Nodule': 'o',\n",
              "  'Mass': 'o',\n",
              "  'Calcification': 'o',\n",
              "  'Asymmetry': 'r',\n",
              "  'Architectural Distortion': 'x',\n",
              "  'Skin Thickening': 'x',\n",
              "  'Lymph Node Enlargement': 'x',\n",
              "  'Intramammary Lymph Node': 'x',\n",
              "  'Nipple Retraction': 'x',\n",
              "  'Skin Retraction': 'x',\n",
              "  'Trabecular Thickening': 'x'},\n",
              " {'Nodule': 'o',\n",
              "  'Mass': 'o',\n",
              "  'Calcification': 'o',\n",
              "  'Asymmetry': 'l',\n",
              "  'Architectural Distortion': 'o',\n",
              "  'Skin Thickening': 'o',\n",
              "  'Lymph Node Enlargement': 'o',\n",
              "  'Intramammary Lymph Node': 'o',\n",
              "  'Nipple Retraction': 'o',\n",
              "  'Skin Retraction': 'o',\n",
              "  'Trabecular Thickening': 'o'},\n",
              " {'Nodule': 'o',\n",
              "  'Mass': 'o',\n",
              "  'Calcification': 'o',\n",
              "  'Asymmetry': 'o',\n",
              "  'Architectural Distortion': 'o',\n",
              "  'Skin Thickening': 'o',\n",
              "  'Lymph Node Enlargement': 'o',\n",
              "  'Intramammary Lymph Node': 'o',\n",
              "  'Nipple Retraction': 'o',\n",
              "  'Skin Retraction': 'o',\n",
              "  'Trabecular Thickening': 'o'},\n",
              " {'Nodule': 'o',\n",
              "  'Mass': 'l',\n",
              "  'Calcification': 'b',\n",
              "  'Asymmetry': 'x',\n",
              "  'Architectural Distortion': 'x',\n",
              "  'Skin Thickening': 'x',\n",
              "  'Lymph Node Enlargement': 'x',\n",
              "  'Intramammary Lymph Node': 'x',\n",
              "  'Nipple Retraction': 'x',\n",
              "  'Skin Retraction': 'x',\n",
              "  'Trabecular Thickening': 'x'},\n",
              " {'Nodule': 'o',\n",
              "  'Mass': 'o',\n",
              "  'Calcification': 'o',\n",
              "  'Asymmetry': 'r',\n",
              "  'Architectural Distortion': 'x',\n",
              "  'Skin Thickening': 'x',\n",
              "  'Lymph Node Enlargement': 'l',\n",
              "  'Intramammary Lymph Node': 'l',\n",
              "  'Nipple Retraction': 'x',\n",
              "  'Skin Retraction': 'x',\n",
              "  'Trabecular Thickening': 'x'},\n",
              " {'Nodule': 'l',\n",
              "  'Mass': 'l',\n",
              "  'Calcification': 'x',\n",
              "  'Asymmetry': 'l',\n",
              "  'Architectural Distortion': 'x',\n",
              "  'Skin Thickening': 'l',\n",
              "  'Lymph Node Enlargement': 'x',\n",
              "  'Intramammary Lymph Node': 'x',\n",
              "  'Nipple Retraction': 'l',\n",
              "  'Skin Retraction': 'l',\n",
              "  'Trabecular Thickening': 'x'},\n",
              " {'Nodule': 'o',\n",
              "  'Mass': 'r',\n",
              "  'Calcification': 'l',\n",
              "  'Asymmetry': 'r',\n",
              "  'Architectural Distortion': 'o',\n",
              "  'Skin Thickening': 'o',\n",
              "  'Lymph Node Enlargement': 'o',\n",
              "  'Intramammary Lymph Node': 'o',\n",
              "  'Nipple Retraction': 'o',\n",
              "  'Skin Retraction': 'o',\n",
              "  'Trabecular Thickening': 'o'},\n",
              " {'Nodule': 'o',\n",
              "  'Mass': 'l',\n",
              "  'Calcification': 'x',\n",
              "  'Asymmetry': 'x',\n",
              "  'Architectural Distortion': 'x',\n",
              "  'Skin Thickening': 'x',\n",
              "  'Lymph Node Enlargement': 'x',\n",
              "  'Intramammary Lymph Node': 'x',\n",
              "  'Nipple Retraction': 'x',\n",
              "  'Skin Retraction': 'x',\n",
              "  'Trabecular Thickening': 'x'},\n",
              " {'Nodule': 'o',\n",
              "  'Mass': 'o',\n",
              "  'Calcification': 'o',\n",
              "  'Asymmetry': 'l',\n",
              "  'Architectural Distortion': 'x',\n",
              "  'Skin Thickening': 'x',\n",
              "  'Lymph Node Enlargement': 'x',\n",
              "  'Intramammary Lymph Node': 'x',\n",
              "  'Nipple Retraction': 'x',\n",
              "  'Skin Retraction': 'x',\n",
              "  'Trabecular Thickening': 'x'},\n",
              " {'Nodule': 'r',\n",
              "  'Mass': 'r',\n",
              "  'Calcification': 'x',\n",
              "  'Asymmetry': 'x',\n",
              "  'Architectural Distortion': 'x',\n",
              "  'Skin Thickening': 'x',\n",
              "  'Lymph Node Enlargement': 'x',\n",
              "  'Intramammary Lymph Node': 'x',\n",
              "  'Nipple Retraction': 'x',\n",
              "  'Skin Retraction': 'x',\n",
              "  'Trabecular Thickening': 'x'},\n",
              " {'Nodule': 'o',\n",
              "  'Mass': 'o',\n",
              "  'Calcification': 'o',\n",
              "  'Asymmetry': 'o',\n",
              "  'Architectural Distortion': 'o',\n",
              "  'Skin Thickening': 'o',\n",
              "  'Lymph Node Enlargement': 'o',\n",
              "  'Intramammary Lymph Node': 'o',\n",
              "  'Nipple Retraction': 'o',\n",
              "  'Skin Retraction': 'o',\n",
              "  'Trabecular Thickening': 'o'},\n",
              " {'Nodule': 'o',\n",
              "  'Mass': 'o',\n",
              "  'Calcification': 'o',\n",
              "  'Asymmetry': 'o',\n",
              "  'Architectural Distortion': 'o',\n",
              "  'Skin Thickening': 'o',\n",
              "  'Lymph Node Enlargement': 'o',\n",
              "  'Intramammary Lymph Node': 'o',\n",
              "  'Nipple Retraction': 'o',\n",
              "  'Skin Retraction': 'o',\n",
              "  'Trabecular Thickening': 'o'},\n",
              " {'Nodule': 'o',\n",
              "  'Mass': 'o',\n",
              "  'Calcification': 'o',\n",
              "  'Asymmetry': 'r',\n",
              "  'Architectural Distortion': 'x',\n",
              "  'Skin Thickening': 'x',\n",
              "  'Lymph Node Enlargement': 'x',\n",
              "  'Intramammary Lymph Node': 'x',\n",
              "  'Nipple Retraction': 'x',\n",
              "  'Skin Retraction': 'x',\n",
              "  'Trabecular Thickening': 'x'},\n",
              " {'Nodule': 'r',\n",
              "  'Mass': 'r',\n",
              "  'Calcification': 'o',\n",
              "  'Asymmetry': 'x',\n",
              "  'Architectural Distortion': 'x',\n",
              "  'Skin Thickening': 'x',\n",
              "  'Lymph Node Enlargement': 'x',\n",
              "  'Intramammary Lymph Node': 'x',\n",
              "  'Nipple Retraction': 'x',\n",
              "  'Skin Retraction': 'x',\n",
              "  'Trabecular Thickening': 'x'},\n",
              " {'Nodule': 'o',\n",
              "  'Mass': 'o',\n",
              "  'Calcification': 'o',\n",
              "  'Asymmetry': 'o',\n",
              "  'Architectural Distortion': 'o',\n",
              "  'Skin Thickening': 'o',\n",
              "  'Lymph Node Enlargement': 'o',\n",
              "  'Intramammary Lymph Node': 'o',\n",
              "  'Nipple Retraction': 'o',\n",
              "  'Skin Retraction': 'o',\n",
              "  'Trabecular Thickening': 'o'},\n",
              " {'Nodule': 'r',\n",
              "  'Mass': 'r',\n",
              "  'Calcification': 'x',\n",
              "  'Asymmetry': 'x',\n",
              "  'Architectural Distortion': 'x',\n",
              "  'Skin Thickening': 'x',\n",
              "  'Lymph Node Enlargement': 'x',\n",
              "  'Intramammary Lymph Node': 'x',\n",
              "  'Nipple Retraction': 'x',\n",
              "  'Skin Retraction': 'x',\n",
              "  'Trabecular Thickening': 'x'},\n",
              " {'Nodule': 'o',\n",
              "  'Mass': 'o',\n",
              "  'Calcification': 'o',\n",
              "  'Asymmetry': 'o',\n",
              "  'Architectural Distortion': 'l',\n",
              "  'Skin Thickening': 'l',\n",
              "  'Lymph Node Enlargement': 'r',\n",
              "  'Intramammary Lymph Node': 'r',\n",
              "  'Nipple Retraction': 'o',\n",
              "  'Skin Retraction': 'l',\n",
              "  'Trabecular Thickening': 'o'},\n",
              " {'Nodule': 'r',\n",
              "  'Mass': 'r',\n",
              "  'Calcification': 'x',\n",
              "  'Asymmetry': 'x',\n",
              "  'Architectural Distortion': 'x',\n",
              "  'Skin Thickening': 'x',\n",
              "  'Lymph Node Enlargement': 'x',\n",
              "  'Intramammary Lymph Node': 'x',\n",
              "  'Nipple Retraction': 'x',\n",
              "  'Skin Retraction': 'x',\n",
              "  'Trabecular Thickening': 'x'},\n",
              " {'Nodule': 'l',\n",
              "  'Mass': 'l',\n",
              "  'Calcification': 'l',\n",
              "  'Asymmetry': 'o',\n",
              "  'Architectural Distortion': 'o',\n",
              "  'Skin Thickening': 'o',\n",
              "  'Lymph Node Enlargement': 'o',\n",
              "  'Intramammary Lymph Node': 'o',\n",
              "  'Nipple Retraction': 'o',\n",
              "  'Skin Retraction': 'o',\n",
              "  'Trabecular Thickening': 'o'},\n",
              " {'Nodule': 'o',\n",
              "  'Mass': 'o',\n",
              "  'Calcification': 'o',\n",
              "  'Asymmetry': 'o',\n",
              "  'Architectural Distortion': 'o',\n",
              "  'Skin Thickening': 'o',\n",
              "  'Lymph Node Enlargement': 'o',\n",
              "  'Intramammary Lymph Node': 'o',\n",
              "  'Nipple Retraction': 'o',\n",
              "  'Skin Retraction': 'o',\n",
              "  'Trabecular Thickening': 'o'},\n",
              " {'Nodule': 'o',\n",
              "  'Mass': 'o',\n",
              "  'Calcification': 'o',\n",
              "  'Asymmetry': 'o',\n",
              "  'Architectural Distortion': 'o',\n",
              "  'Skin Thickening': 'o',\n",
              "  'Lymph Node Enlargement': 'o',\n",
              "  'Intramammary Lymph Node': 'o',\n",
              "  'Nipple Retraction': 'o',\n",
              "  'Skin Retraction': 'o',\n",
              "  'Trabecular Thickening': 'o'},\n",
              " {'Nodule': 'r',\n",
              "  'Mass': 'r',\n",
              "  'Calcification': 'o',\n",
              "  'Asymmetry': 'x',\n",
              "  'Architectural Distortion': 'x',\n",
              "  'Skin Thickening': 'x',\n",
              "  'Lymph Node Enlargement': 'x',\n",
              "  'Intramammary Lymph Node': 'x',\n",
              "  'Nipple Retraction': 'x',\n",
              "  'Skin Retraction': 'x',\n",
              "  'Trabecular Thickening': 'x'},\n",
              " {'Nodule': 'o',\n",
              "  'Mass': 'o',\n",
              "  'Calcification': 'o',\n",
              "  'Asymmetry': 'o',\n",
              "  'Architectural Distortion': 'o',\n",
              "  'Skin Thickening': 'o',\n",
              "  'Lymph Node Enlargement': 'o',\n",
              "  'Intramammary Lymph Node': 'o',\n",
              "  'Nipple Retraction': 'o',\n",
              "  'Skin Retraction': 'o',\n",
              "  'Trabecular Thickening': 'o'},\n",
              " {'Nodule': 'o',\n",
              "  'Mass': 'l',\n",
              "  'Calcification': 'b',\n",
              "  'Asymmetry': 'x',\n",
              "  'Architectural Distortion': 'x',\n",
              "  'Skin Thickening': 'x',\n",
              "  'Lymph Node Enlargement': 'x',\n",
              "  'Intramammary Lymph Node': 'x',\n",
              "  'Nipple Retraction': 'x',\n",
              "  'Skin Retraction': 'x',\n",
              "  'Trabecular Thickening': 'x'},\n",
              " {'Nodule': 'o',\n",
              "  'Mass': 'o',\n",
              "  'Calcification': 'o',\n",
              "  'Asymmetry': 'o',\n",
              "  'Architectural Distortion': 'r',\n",
              "  'Skin Thickening': 'o',\n",
              "  'Lymph Node Enlargement': 'o',\n",
              "  'Intramammary Lymph Node': 'o',\n",
              "  'Nipple Retraction': 'o',\n",
              "  'Skin Retraction': 'o',\n",
              "  'Trabecular Thickening': 'o'},\n",
              " {'Nodule': 'o',\n",
              "  'Mass': 'o',\n",
              "  'Calcification': 'o',\n",
              "  'Asymmetry': 'r',\n",
              "  'Architectural Distortion': 'o',\n",
              "  'Skin Thickening': 'o',\n",
              "  'Lymph Node Enlargement': 'o',\n",
              "  'Intramammary Lymph Node': 'o',\n",
              "  'Nipple Retraction': 'r',\n",
              "  'Skin Retraction': 'r',\n",
              "  'Trabecular Thickening': 'o'},\n",
              " {'Nodule': 'o',\n",
              "  'Mass': 'o',\n",
              "  'Calcification': 'r',\n",
              "  'Asymmetry': 'o',\n",
              "  'Architectural Distortion': 'r',\n",
              "  'Skin Thickening': 'o',\n",
              "  'Lymph Node Enlargement': 'o',\n",
              "  'Intramammary Lymph Node': 'o',\n",
              "  'Nipple Retraction': 'o',\n",
              "  'Skin Retraction': 'o',\n",
              "  'Trabecular Thickening': 'o'},\n",
              " {'Nodule': 'o',\n",
              "  'Mass': 'o',\n",
              "  'Calcification': 'o',\n",
              "  'Asymmetry': 'o',\n",
              "  'Architectural Distortion': 'o',\n",
              "  'Skin Thickening': 'o',\n",
              "  'Lymph Node Enlargement': 'o',\n",
              "  'Intramammary Lymph Node': 'o',\n",
              "  'Nipple Retraction': 'o',\n",
              "  'Skin Retraction': 'o',\n",
              "  'Trabecular Thickening': 'o'},\n",
              " {'Nodule': 'o',\n",
              "  'Mass': 'o',\n",
              "  'Calcification': 'o',\n",
              "  'Asymmetry': 'o',\n",
              "  'Architectural Distortion': 'o',\n",
              "  'Skin Thickening': 'o',\n",
              "  'Lymph Node Enlargement': 'o',\n",
              "  'Intramammary Lymph Node': 'o',\n",
              "  'Nipple Retraction': 'o',\n",
              "  'Skin Retraction': 'o',\n",
              "  'Trabecular Thickening': 'o'},\n",
              " {'Nodule': 'o',\n",
              "  'Mass': 'l',\n",
              "  'Calcification': 'r',\n",
              "  'Asymmetry': 'l',\n",
              "  'Architectural Distortion': 'x',\n",
              "  'Skin Thickening': 'x',\n",
              "  'Lymph Node Enlargement': 'x',\n",
              "  'Intramammary Lymph Node': 'x',\n",
              "  'Nipple Retraction': 'x',\n",
              "  'Skin Retraction': 'x',\n",
              "  'Trabecular Thickening': 'x'},\n",
              " {'Nodule': 'o',\n",
              "  'Mass': 'o',\n",
              "  'Calcification': 'o',\n",
              "  'Asymmetry': 'o',\n",
              "  'Architectural Distortion': 'o',\n",
              "  'Skin Thickening': 'o',\n",
              "  'Lymph Node Enlargement': 'o',\n",
              "  'Intramammary Lymph Node': 'o',\n",
              "  'Nipple Retraction': 'o',\n",
              "  'Skin Retraction': 'o',\n",
              "  'Trabecular Thickening': 'o'},\n",
              " {'Nodule': 'o',\n",
              "  'Mass': 'o',\n",
              "  'Calcification': 'b',\n",
              "  'Asymmetry': 'o',\n",
              "  'Architectural Distortion': 'l',\n",
              "  'Skin Thickening': 'b',\n",
              "  'Lymph Node Enlargement': 'o',\n",
              "  'Intramammary Lymph Node': 'o',\n",
              "  'Nipple Retraction': 'o',\n",
              "  'Skin Retraction': 'o',\n",
              "  'Trabecular Thickening': 'o'},\n",
              " {'Nodule': 'r',\n",
              "  'Mass': 'r',\n",
              "  'Calcification': 'x',\n",
              "  'Asymmetry': 'x',\n",
              "  'Architectural Distortion': 'x',\n",
              "  'Skin Thickening': 'x',\n",
              "  'Lymph Node Enlargement': 'x',\n",
              "  'Intramammary Lymph Node': 'x',\n",
              "  'Nipple Retraction': 'l',\n",
              "  'Skin Retraction': 'l',\n",
              "  'Trabecular Thickening': 'x'},\n",
              " {'Nodule': 'o',\n",
              "  'Mass': 'o',\n",
              "  'Calcification': 'b',\n",
              "  'Asymmetry': 'o',\n",
              "  'Architectural Distortion': 'r',\n",
              "  'Skin Thickening': 'o',\n",
              "  'Lymph Node Enlargement': 'o',\n",
              "  'Intramammary Lymph Node': 'o',\n",
              "  'Nipple Retraction': 'r',\n",
              "  'Skin Retraction': 'o',\n",
              "  'Trabecular Thickening': 'o'},\n",
              " {'Nodule': 'o',\n",
              "  'Mass': 'o',\n",
              "  'Calcification': 'r',\n",
              "  'Asymmetry': 'r',\n",
              "  'Architectural Distortion': 'x',\n",
              "  'Skin Thickening': 'x',\n",
              "  'Lymph Node Enlargement': 'x',\n",
              "  'Intramammary Lymph Node': 'x',\n",
              "  'Nipple Retraction': 'x',\n",
              "  'Skin Retraction': 'x',\n",
              "  'Trabecular Thickening': 'x'},\n",
              " {'Nodule': 'o',\n",
              "  'Mass': 'l',\n",
              "  'Calcification': 'x',\n",
              "  'Asymmetry': 'x',\n",
              "  'Architectural Distortion': 'x',\n",
              "  'Skin Thickening': 'x',\n",
              "  'Lymph Node Enlargement': 'x',\n",
              "  'Intramammary Lymph Node': 'x',\n",
              "  'Nipple Retraction': 'x',\n",
              "  'Skin Retraction': 'x',\n",
              "  'Trabecular Thickening': 'x'},\n",
              " {'Nodule': 'o',\n",
              "  'Mass': 'l',\n",
              "  'Calcification': 'x',\n",
              "  'Asymmetry': 'x',\n",
              "  'Architectural Distortion': 'x',\n",
              "  'Skin Thickening': 'x',\n",
              "  'Lymph Node Enlargement': 'x',\n",
              "  'Intramammary Lymph Node': 'x',\n",
              "  'Nipple Retraction': 'x',\n",
              "  'Skin Retraction': 'x',\n",
              "  'Trabecular Thickening': 'x'},\n",
              " {'Nodule': 'o',\n",
              "  'Mass': 'o',\n",
              "  'Calcification': 'o',\n",
              "  'Asymmetry': 'o',\n",
              "  'Architectural Distortion': 'o',\n",
              "  'Skin Thickening': 'o',\n",
              "  'Lymph Node Enlargement': 'o',\n",
              "  'Intramammary Lymph Node': 'o',\n",
              "  'Nipple Retraction': 'o',\n",
              "  'Skin Retraction': 'o',\n",
              "  'Trabecular Thickening': 'o'},\n",
              " {'Nodule': 'b',\n",
              "  'Mass': 'l',\n",
              "  'Calcification': 'l',\n",
              "  'Asymmetry': 'l',\n",
              "  'Architectural Distortion': 'x',\n",
              "  'Skin Thickening': 'x',\n",
              "  'Lymph Node Enlargement': 'x',\n",
              "  'Intramammary Lymph Node': 'x',\n",
              "  'Nipple Retraction': 'x',\n",
              "  'Skin Retraction': 'x',\n",
              "  'Trabecular Thickening': 'x'},\n",
              " {'Nodule': 'o',\n",
              "  'Mass': 'l',\n",
              "  'Calcification': 'x',\n",
              "  'Asymmetry': 'x',\n",
              "  'Architectural Distortion': 'x',\n",
              "  'Skin Thickening': 'x',\n",
              "  'Lymph Node Enlargement': 'x',\n",
              "  'Intramammary Lymph Node': 'x',\n",
              "  'Nipple Retraction': 'x',\n",
              "  'Skin Retraction': 'x',\n",
              "  'Trabecular Thickening': 'x'},\n",
              " {'Nodule': 'o',\n",
              "  'Mass': 'o',\n",
              "  'Calcification': 'o',\n",
              "  'Asymmetry': 'o',\n",
              "  'Architectural Distortion': 'o',\n",
              "  'Skin Thickening': 'o',\n",
              "  'Lymph Node Enlargement': 'o',\n",
              "  'Intramammary Lymph Node': 'o',\n",
              "  'Nipple Retraction': 'o',\n",
              "  'Skin Retraction': 'o',\n",
              "  'Trabecular Thickening': 'o'},\n",
              " {'Nodule': 'o',\n",
              "  'Mass': 'o',\n",
              "  'Calcification': 'o',\n",
              "  'Asymmetry': 'l',\n",
              "  'Architectural Distortion': 'o',\n",
              "  'Skin Thickening': 'o',\n",
              "  'Lymph Node Enlargement': 'o',\n",
              "  'Intramammary Lymph Node': 'o',\n",
              "  'Nipple Retraction': 'o',\n",
              "  'Skin Retraction': 'o',\n",
              "  'Trabecular Thickening': 'o'},\n",
              " {'Nodule': 'r',\n",
              "  'Mass': 'r',\n",
              "  'Calcification': 'x',\n",
              "  'Asymmetry': 'x',\n",
              "  'Architectural Distortion': 'x',\n",
              "  'Skin Thickening': 'x',\n",
              "  'Lymph Node Enlargement': 'x',\n",
              "  'Intramammary Lymph Node': 'x',\n",
              "  'Nipple Retraction': 'x',\n",
              "  'Skin Retraction': 'x',\n",
              "  'Trabecular Thickening': 'x'},\n",
              " {'Nodule': 'x',\n",
              "  'Mass': 'x',\n",
              "  'Calcification': 'x',\n",
              "  'Asymmetry': 'x',\n",
              "  'Architectural Distortion': 'x',\n",
              "  'Skin Thickening': 'x',\n",
              "  'Lymph Node Enlargement': 'x',\n",
              "  'Intramammary Lymph Node': 'x',\n",
              "  'Nipple Retraction': 'x',\n",
              "  'Skin Retraction': 'x',\n",
              "  'Trabecular Thickening': 'x'},\n",
              " {'Nodule': 'r',\n",
              "  'Mass': 'r',\n",
              "  'Calcification': 'r',\n",
              "  'Asymmetry': 'o',\n",
              "  'Architectural Distortion': 'o',\n",
              "  'Skin Thickening': 'o',\n",
              "  'Lymph Node Enlargement': 'o',\n",
              "  'Intramammary Lymph Node': 'o',\n",
              "  'Nipple Retraction': 'o',\n",
              "  'Skin Retraction': 'o',\n",
              "  'Trabecular Thickening': 'o'},\n",
              " {'Nodule': 'o',\n",
              "  'Mass': 'o',\n",
              "  'Calcification': 'o',\n",
              "  'Asymmetry': 'o',\n",
              "  'Architectural Distortion': 'o',\n",
              "  'Skin Thickening': 'o',\n",
              "  'Lymph Node Enlargement': 'o',\n",
              "  'Intramammary Lymph Node': 'o',\n",
              "  'Nipple Retraction': 'o',\n",
              "  'Skin Retraction': 'o',\n",
              "  'Trabecular Thickening': 'o'},\n",
              " {'Nodule': 'o',\n",
              "  'Mass': 'o',\n",
              "  'Calcification': 'o',\n",
              "  'Asymmetry': 'o',\n",
              "  'Architectural Distortion': 'o',\n",
              "  'Skin Thickening': 'o',\n",
              "  'Lymph Node Enlargement': 'o',\n",
              "  'Intramammary Lymph Node': 'o',\n",
              "  'Nipple Retraction': 'o',\n",
              "  'Skin Retraction': 'o',\n",
              "  'Trabecular Thickening': 'o'},\n",
              " {'Nodule': 'o',\n",
              "  'Mass': 'o',\n",
              "  'Calcification': 'o',\n",
              "  'Asymmetry': 'o',\n",
              "  'Architectural Distortion': 'o',\n",
              "  'Skin Thickening': 'o',\n",
              "  'Lymph Node Enlargement': 'o',\n",
              "  'Intramammary Lymph Node': 'o',\n",
              "  'Nipple Retraction': 'o',\n",
              "  'Skin Retraction': 'o',\n",
              "  'Trabecular Thickening': 'o'},\n",
              " {'Nodule': 'r',\n",
              "  'Mass': 'r',\n",
              "  'Calcification': 'r',\n",
              "  'Asymmetry': 'r',\n",
              "  'Architectural Distortion': 'o',\n",
              "  'Skin Thickening': 'r',\n",
              "  'Lymph Node Enlargement': 'o',\n",
              "  'Intramammary Lymph Node': 'o',\n",
              "  'Nipple Retraction': 'r',\n",
              "  'Skin Retraction': 'r',\n",
              "  'Trabecular Thickening': 'o'},\n",
              " {'Nodule': 'o',\n",
              "  'Mass': 'o',\n",
              "  'Calcification': 'o',\n",
              "  'Asymmetry': 'o',\n",
              "  'Architectural Distortion': 'o',\n",
              "  'Skin Thickening': 'o',\n",
              "  'Lymph Node Enlargement': 'o',\n",
              "  'Intramammary Lymph Node': 'o',\n",
              "  'Nipple Retraction': 'o',\n",
              "  'Skin Retraction': 'o',\n",
              "  'Trabecular Thickening': 'o'},\n",
              " {'Nodule': 'o',\n",
              "  'Mass': 'o',\n",
              "  'Calcification': 'o',\n",
              "  'Asymmetry': 'o',\n",
              "  'Architectural Distortion': 'o',\n",
              "  'Skin Thickening': 'o',\n",
              "  'Lymph Node Enlargement': 'o',\n",
              "  'Intramammary Lymph Node': 'o',\n",
              "  'Nipple Retraction': 'o',\n",
              "  'Skin Retraction': 'o',\n",
              "  'Trabecular Thickening': 'o'},\n",
              " {'Nodule': 'o',\n",
              "  'Mass': 'o',\n",
              "  'Calcification': 'b',\n",
              "  'Asymmetry': 'l',\n",
              "  'Architectural Distortion': 'x',\n",
              "  'Skin Thickening': 'x',\n",
              "  'Lymph Node Enlargement': 'x',\n",
              "  'Intramammary Lymph Node': 'x',\n",
              "  'Nipple Retraction': 'x',\n",
              "  'Skin Retraction': 'x',\n",
              "  'Trabecular Thickening': 'x'},\n",
              " {'Nodule': 'r',\n",
              "  'Mass': 'r',\n",
              "  'Calcification': 'o',\n",
              "  'Asymmetry': 'x',\n",
              "  'Architectural Distortion': 'x',\n",
              "  'Skin Thickening': 'x',\n",
              "  'Lymph Node Enlargement': 'x',\n",
              "  'Intramammary Lymph Node': 'x',\n",
              "  'Nipple Retraction': 'x',\n",
              "  'Skin Retraction': 'x',\n",
              "  'Trabecular Thickening': 'x'},\n",
              " {'Nodule': 'o',\n",
              "  'Mass': 'o',\n",
              "  'Calcification': 'o',\n",
              "  'Asymmetry': 'o',\n",
              "  'Architectural Distortion': 'o',\n",
              "  'Skin Thickening': 'o',\n",
              "  'Lymph Node Enlargement': 'o',\n",
              "  'Intramammary Lymph Node': 'o',\n",
              "  'Nipple Retraction': 'o',\n",
              "  'Skin Retraction': 'o',\n",
              "  'Trabecular Thickening': 'o'},\n",
              " {'Nodule': 'o',\n",
              "  'Mass': 'o',\n",
              "  'Calcification': 'l',\n",
              "  'Asymmetry': 'x',\n",
              "  'Architectural Distortion': 'x',\n",
              "  'Skin Thickening': 'x',\n",
              "  'Lymph Node Enlargement': 'x',\n",
              "  'Intramammary Lymph Node': 'x',\n",
              "  'Nipple Retraction': 'x',\n",
              "  'Skin Retraction': 'x',\n",
              "  'Trabecular Thickening': 'x'},\n",
              " {'Nodule': 'o',\n",
              "  'Mass': 'o',\n",
              "  'Calcification': 'r',\n",
              "  'Asymmetry': 'l',\n",
              "  'Architectural Distortion': 'x',\n",
              "  'Skin Thickening': 'x',\n",
              "  'Lymph Node Enlargement': 'x',\n",
              "  'Intramammary Lymph Node': 'x',\n",
              "  'Nipple Retraction': 'x',\n",
              "  'Skin Retraction': 'x',\n",
              "  'Trabecular Thickening': 'x'},\n",
              " {'Nodule': 'r',\n",
              "  'Mass': 'r',\n",
              "  'Calcification': 'x',\n",
              "  'Asymmetry': 'x',\n",
              "  'Architectural Distortion': 'x',\n",
              "  'Skin Thickening': 'x',\n",
              "  'Lymph Node Enlargement': 'x',\n",
              "  'Intramammary Lymph Node': 'x',\n",
              "  'Nipple Retraction': 'x',\n",
              "  'Skin Retraction': 'x',\n",
              "  'Trabecular Thickening': 'x'},\n",
              " {'Nodule': 'x',\n",
              "  'Mass': 'x',\n",
              "  'Calcification': 'x',\n",
              "  'Asymmetry': 'x',\n",
              "  'Architectural Distortion': 'r',\n",
              "  'Skin Thickening': 'x',\n",
              "  'Lymph Node Enlargement': 'x',\n",
              "  'Intramammary Lymph Node': 'x',\n",
              "  'Nipple Retraction': 'x',\n",
              "  'Skin Retraction': 'x',\n",
              "  'Trabecular Thickening': 'x'},\n",
              " {'Nodule': 'r',\n",
              "  'Mass': 'r',\n",
              "  'Calcification': 'x',\n",
              "  'Asymmetry': 'x',\n",
              "  'Architectural Distortion': 'x',\n",
              "  'Skin Thickening': 'x',\n",
              "  'Lymph Node Enlargement': 'x',\n",
              "  'Intramammary Lymph Node': 'x',\n",
              "  'Nipple Retraction': 'x',\n",
              "  'Skin Retraction': 'x',\n",
              "  'Trabecular Thickening': 'x'},\n",
              " {'Nodule': 'b',\n",
              "  'Mass': 'b',\n",
              "  'Calcification': 'b',\n",
              "  'Asymmetry': 'x',\n",
              "  'Architectural Distortion': 'x',\n",
              "  'Skin Thickening': 'x',\n",
              "  'Lymph Node Enlargement': 'x',\n",
              "  'Intramammary Lymph Node': 'x',\n",
              "  'Nipple Retraction': 'x',\n",
              "  'Skin Retraction': 'x',\n",
              "  'Trabecular Thickening': 'x'},\n",
              " {'Nodule': 'o',\n",
              "  'Mass': 'o',\n",
              "  'Calcification': 'o',\n",
              "  'Asymmetry': 'l',\n",
              "  'Architectural Distortion': 'x',\n",
              "  'Skin Thickening': 'x',\n",
              "  'Lymph Node Enlargement': 'x',\n",
              "  'Intramammary Lymph Node': 'x',\n",
              "  'Nipple Retraction': 'x',\n",
              "  'Skin Retraction': 'x',\n",
              "  'Trabecular Thickening': 'x'},\n",
              " {'Nodule': 'o',\n",
              "  'Mass': 'o',\n",
              "  'Calcification': 'o',\n",
              "  'Asymmetry': 'o',\n",
              "  'Architectural Distortion': 'o',\n",
              "  'Skin Thickening': 'o',\n",
              "  'Lymph Node Enlargement': 'o',\n",
              "  'Intramammary Lymph Node': 'o',\n",
              "  'Nipple Retraction': 'o',\n",
              "  'Skin Retraction': 'o',\n",
              "  'Trabecular Thickening': 'o'},\n",
              " {'Nodule': 'l',\n",
              "  'Mass': 'l',\n",
              "  'Calcification': 'l',\n",
              "  'Asymmetry': 'o',\n",
              "  'Architectural Distortion': 'o',\n",
              "  'Skin Thickening': 'o',\n",
              "  'Lymph Node Enlargement': 'o',\n",
              "  'Intramammary Lymph Node': 'o',\n",
              "  'Nipple Retraction': 'o',\n",
              "  'Skin Retraction': 'o',\n",
              "  'Trabecular Thickening': 'o'},\n",
              " {'Nodule': 'b',\n",
              "  'Mass': 'b',\n",
              "  'Calcification': 'l',\n",
              "  'Asymmetry': 'o',\n",
              "  'Architectural Distortion': 'o',\n",
              "  'Skin Thickening': 'o',\n",
              "  'Lymph Node Enlargement': 'b',\n",
              "  'Intramammary Lymph Node': 'o',\n",
              "  'Nipple Retraction': 'o',\n",
              "  'Skin Retraction': 'o',\n",
              "  'Trabecular Thickening': 'o'},\n",
              " {'Nodule': 'o',\n",
              "  'Mass': 'o',\n",
              "  'Calcification': 'o',\n",
              "  'Asymmetry': 'l',\n",
              "  'Architectural Distortion': 'x',\n",
              "  'Skin Thickening': 'x',\n",
              "  'Lymph Node Enlargement': 'x',\n",
              "  'Intramammary Lymph Node': 'x',\n",
              "  'Nipple Retraction': 'x',\n",
              "  'Skin Retraction': 'x',\n",
              "  'Trabecular Thickening': 'x'},\n",
              " {'Nodule': 'o',\n",
              "  'Mass': 'o',\n",
              "  'Calcification': 'o',\n",
              "  'Asymmetry': 'o',\n",
              "  'Architectural Distortion': 'o',\n",
              "  'Skin Thickening': 'o',\n",
              "  'Lymph Node Enlargement': 'o',\n",
              "  'Intramammary Lymph Node': 'o',\n",
              "  'Nipple Retraction': 'o',\n",
              "  'Skin Retraction': 'o',\n",
              "  'Trabecular Thickening': 'o'},\n",
              " {'Nodule': 'o',\n",
              "  'Mass': 'o',\n",
              "  'Calcification': 'o',\n",
              "  'Asymmetry': 'o',\n",
              "  'Architectural Distortion': 'o',\n",
              "  'Skin Thickening': 'o',\n",
              "  'Lymph Node Enlargement': 'o',\n",
              "  'Intramammary Lymph Node': 'o',\n",
              "  'Nipple Retraction': 'o',\n",
              "  'Skin Retraction': 'o',\n",
              "  'Trabecular Thickening': 'o'},\n",
              " {'Nodule': 'x',\n",
              "  'Mass': 'x',\n",
              "  'Calcification': 'x',\n",
              "  'Asymmetry': 'x',\n",
              "  'Architectural Distortion': 'x',\n",
              "  'Skin Thickening': 'x',\n",
              "  'Lymph Node Enlargement': 'x',\n",
              "  'Intramammary Lymph Node': 'x',\n",
              "  'Nipple Retraction': 'x',\n",
              "  'Skin Retraction': 'x',\n",
              "  'Trabecular Thickening': 'x'},\n",
              " {'Nodule': 'o',\n",
              "  'Mass': 'o',\n",
              "  'Calcification': 'o',\n",
              "  'Asymmetry': 'o',\n",
              "  'Architectural Distortion': 'o',\n",
              "  'Skin Thickening': 'o',\n",
              "  'Lymph Node Enlargement': 'o',\n",
              "  'Intramammary Lymph Node': 'o',\n",
              "  'Nipple Retraction': 'o',\n",
              "  'Skin Retraction': 'o',\n",
              "  'Trabecular Thickening': 'o'},\n",
              " {'Nodule': 'o',\n",
              "  'Mass': 'o',\n",
              "  'Calcification': 'o',\n",
              "  'Asymmetry': 'o',\n",
              "  'Architectural Distortion': 'o',\n",
              "  'Skin Thickening': 'o',\n",
              "  'Lymph Node Enlargement': 'o',\n",
              "  'Intramammary Lymph Node': 'o',\n",
              "  'Nipple Retraction': 'o',\n",
              "  'Skin Retraction': 'o',\n",
              "  'Trabecular Thickening': 'o'},\n",
              " {'Nodule': 'o',\n",
              "  'Mass': 'o',\n",
              "  'Calcification': 'b',\n",
              "  'Asymmetry': 'x',\n",
              "  'Architectural Distortion': 'x',\n",
              "  'Skin Thickening': 'x',\n",
              "  'Lymph Node Enlargement': 'x',\n",
              "  'Intramammary Lymph Node': 'x',\n",
              "  'Nipple Retraction': 'x',\n",
              "  'Skin Retraction': 'x',\n",
              "  'Trabecular Thickening': 'x'},\n",
              " {'Nodule': 'r',\n",
              "  'Mass': 'r',\n",
              "  'Calcification': 'l',\n",
              "  'Asymmetry': 'o',\n",
              "  'Architectural Distortion': 'x',\n",
              "  'Skin Thickening': 'o',\n",
              "  'Lymph Node Enlargement': 'o',\n",
              "  'Intramammary Lymph Node': 'o',\n",
              "  'Nipple Retraction': 'o',\n",
              "  'Skin Retraction': 'o',\n",
              "  'Trabecular Thickening': 'o'},\n",
              " {'Nodule': 'r',\n",
              "  'Mass': 'r',\n",
              "  'Calcification': 'r',\n",
              "  'Asymmetry': 'o',\n",
              "  'Architectural Distortion': 'x',\n",
              "  'Skin Thickening': 'x',\n",
              "  'Lymph Node Enlargement': 'x',\n",
              "  'Intramammary Lymph Node': 'x',\n",
              "  'Nipple Retraction': 'x',\n",
              "  'Skin Retraction': 'x',\n",
              "  'Trabecular Thickening': 'x'},\n",
              " {'Nodule': 'r',\n",
              "  'Mass': 'r',\n",
              "  'Calcification': 'x',\n",
              "  'Asymmetry': 'x',\n",
              "  'Architectural Distortion': 'x',\n",
              "  'Skin Thickening': 'x',\n",
              "  'Lymph Node Enlargement': 'x',\n",
              "  'Intramammary Lymph Node': 'x',\n",
              "  'Nipple Retraction': 'x',\n",
              "  'Skin Retraction': 'x',\n",
              "  'Trabecular Thickening': 'x'},\n",
              " {'Nodule': 'x',\n",
              "  'Mass': 'x',\n",
              "  'Calcification': 'l',\n",
              "  'Asymmetry': 'x',\n",
              "  'Architectural Distortion': 'x',\n",
              "  'Skin Thickening': 'x',\n",
              "  'Lymph Node Enlargement': 'x',\n",
              "  'Intramammary Lymph Node': 'x',\n",
              "  'Nipple Retraction': 'x',\n",
              "  'Skin Retraction': 'x',\n",
              "  'Trabecular Thickening': 'x'},\n",
              " {'Nodule': 'r',\n",
              "  'Mass': 'r',\n",
              "  'Calcification': 'r',\n",
              "  'Asymmetry': 'l',\n",
              "  'Architectural Distortion': 'x',\n",
              "  'Skin Thickening': 'x',\n",
              "  'Lymph Node Enlargement': 'x',\n",
              "  'Intramammary Lymph Node': 'x',\n",
              "  'Nipple Retraction': 'x',\n",
              "  'Skin Retraction': 'x',\n",
              "  'Trabecular Thickening': 'x'},\n",
              " {'Nodule': 'o',\n",
              "  'Mass': 'o',\n",
              "  'Calcification': 'o',\n",
              "  'Asymmetry': 'o',\n",
              "  'Architectural Distortion': 'o',\n",
              "  'Skin Thickening': 'o',\n",
              "  'Lymph Node Enlargement': 'o',\n",
              "  'Intramammary Lymph Node': 'o',\n",
              "  'Nipple Retraction': 'o',\n",
              "  'Skin Retraction': 'o',\n",
              "  'Trabecular Thickening': 'o'},\n",
              " {'Nodule': 'o',\n",
              "  'Mass': 'o',\n",
              "  'Calcification': 'o',\n",
              "  'Asymmetry': 'o',\n",
              "  'Architectural Distortion': 'o',\n",
              "  'Skin Thickening': 'o',\n",
              "  'Lymph Node Enlargement': 'o',\n",
              "  'Intramammary Lymph Node': 'o',\n",
              "  'Nipple Retraction': 'o',\n",
              "  'Skin Retraction': 'o',\n",
              "  'Trabecular Thickening': 'o'},\n",
              " {'Nodule': 'l',\n",
              "  'Mass': 'l',\n",
              "  'Calcification': 'x',\n",
              "  'Asymmetry': 'x',\n",
              "  'Architectural Distortion': 'x',\n",
              "  'Skin Thickening': 'x',\n",
              "  'Lymph Node Enlargement': 'x',\n",
              "  'Intramammary Lymph Node': 'x',\n",
              "  'Nipple Retraction': 'x',\n",
              "  'Skin Retraction': 'x',\n",
              "  'Trabecular Thickening': 'x'},\n",
              " {'Nodule': 'o',\n",
              "  'Mass': 'o',\n",
              "  'Calcification': 'o',\n",
              "  'Asymmetry': 'o',\n",
              "  'Architectural Distortion': 'o',\n",
              "  'Skin Thickening': 'r',\n",
              "  'Lymph Node Enlargement': 'o',\n",
              "  'Intramammary Lymph Node': 'o',\n",
              "  'Nipple Retraction': 'r',\n",
              "  'Skin Retraction': 'r',\n",
              "  'Trabecular Thickening': 'r'},\n",
              " {'Nodule': 'o',\n",
              "  'Mass': 'o',\n",
              "  'Calcification': 'o',\n",
              "  'Asymmetry': 'o',\n",
              "  'Architectural Distortion': 'o',\n",
              "  'Skin Thickening': 'o',\n",
              "  'Lymph Node Enlargement': 'o',\n",
              "  'Intramammary Lymph Node': 'o',\n",
              "  'Nipple Retraction': 'o',\n",
              "  'Skin Retraction': 'o',\n",
              "  'Trabecular Thickening': 'o'},\n",
              " {'Nodule': 'l',\n",
              "  'Mass': 'l',\n",
              "  'Calcification': 'x',\n",
              "  'Asymmetry': 'x',\n",
              "  'Architectural Distortion': 'x',\n",
              "  'Skin Thickening': 'x',\n",
              "  'Lymph Node Enlargement': 'x',\n",
              "  'Intramammary Lymph Node': 'x',\n",
              "  'Nipple Retraction': 'x',\n",
              "  'Skin Retraction': 'x',\n",
              "  'Trabecular Thickening': 'x'},\n",
              " {'Nodule': 'r',\n",
              "  'Mass': 'r',\n",
              "  'Calcification': 'x',\n",
              "  'Asymmetry': 'x',\n",
              "  'Architectural Distortion': 'x',\n",
              "  'Skin Thickening': 'x',\n",
              "  'Lymph Node Enlargement': 'x',\n",
              "  'Intramammary Lymph Node': 'x',\n",
              "  'Nipple Retraction': 'x',\n",
              "  'Skin Retraction': 'x',\n",
              "  'Trabecular Thickening': 'x'},\n",
              " {'Nodule': 'o',\n",
              "  'Mass': 'l',\n",
              "  'Calcification': 'x',\n",
              "  'Asymmetry': 'x',\n",
              "  'Architectural Distortion': 'x',\n",
              "  'Skin Thickening': 'x',\n",
              "  'Lymph Node Enlargement': 'x',\n",
              "  'Intramammary Lymph Node': 'x',\n",
              "  'Nipple Retraction': 'x',\n",
              "  'Skin Retraction': 'x',\n",
              "  'Trabecular Thickening': 'x'},\n",
              " {'Nodule': 'o',\n",
              "  'Mass': 'l',\n",
              "  'Calcification': 'l',\n",
              "  'Asymmetry': 'x',\n",
              "  'Architectural Distortion': 'x',\n",
              "  'Skin Thickening': 'x',\n",
              "  'Lymph Node Enlargement': 'x',\n",
              "  'Intramammary Lymph Node': 'x',\n",
              "  'Nipple Retraction': 'x',\n",
              "  'Skin Retraction': 'x',\n",
              "  'Trabecular Thickening': 'x'},\n",
              " {'Nodule': 'o',\n",
              "  'Mass': 'o',\n",
              "  'Calcification': 'o',\n",
              "  'Asymmetry': 'o',\n",
              "  'Architectural Distortion': 'o',\n",
              "  'Skin Thickening': 'o',\n",
              "  'Lymph Node Enlargement': 'o',\n",
              "  'Intramammary Lymph Node': 'o',\n",
              "  'Nipple Retraction': 'o',\n",
              "  'Skin Retraction': 'o',\n",
              "  'Trabecular Thickening': 'o'},\n",
              " {'Nodule': 'o',\n",
              "  'Mass': 'o',\n",
              "  'Calcification': 'r',\n",
              "  'Asymmetry': 'o',\n",
              "  'Architectural Distortion': 'o',\n",
              "  'Skin Thickening': 'o',\n",
              "  'Lymph Node Enlargement': 'o',\n",
              "  'Intramammary Lymph Node': 'o',\n",
              "  'Nipple Retraction': 'o',\n",
              "  'Skin Retraction': 'o',\n",
              "  'Trabecular Thickening': 'o'},\n",
              " {'Nodule': 'r',\n",
              "  'Mass': 'r',\n",
              "  'Calcification': 'x',\n",
              "  'Asymmetry': 'r',\n",
              "  'Architectural Distortion': 'x',\n",
              "  'Skin Thickening': 'x',\n",
              "  'Lymph Node Enlargement': 'x',\n",
              "  'Intramammary Lymph Node': 'x',\n",
              "  'Nipple Retraction': 'r',\n",
              "  'Skin Retraction': 'r',\n",
              "  'Trabecular Thickening': 'x'},\n",
              " {'Nodule': 'x',\n",
              "  'Mass': 'x',\n",
              "  'Calcification': 'x',\n",
              "  'Asymmetry': 'x',\n",
              "  'Architectural Distortion': 'x',\n",
              "  'Skin Thickening': 'x',\n",
              "  'Lymph Node Enlargement': 'x',\n",
              "  'Intramammary Lymph Node': 'x',\n",
              "  'Nipple Retraction': 'x',\n",
              "  'Skin Retraction': 'x',\n",
              "  'Trabecular Thickening': 'x'},\n",
              " {'Nodule': 'o',\n",
              "  'Mass': 'o',\n",
              "  'Calcification': 'o',\n",
              "  'Asymmetry': 'o',\n",
              "  'Architectural Distortion': 'o',\n",
              "  'Skin Thickening': 'o',\n",
              "  'Lymph Node Enlargement': 'o',\n",
              "  'Intramammary Lymph Node': 'o',\n",
              "  'Nipple Retraction': 'o',\n",
              "  'Skin Retraction': 'o',\n",
              "  'Trabecular Thickening': 'o'},\n",
              " {'Nodule': 'r',\n",
              "  'Mass': 'r',\n",
              "  'Calcification': 'x',\n",
              "  'Asymmetry': 'x',\n",
              "  'Architectural Distortion': 'x',\n",
              "  'Skin Thickening': 'x',\n",
              "  'Lymph Node Enlargement': 'x',\n",
              "  'Intramammary Lymph Node': 'x',\n",
              "  'Nipple Retraction': 'x',\n",
              "  'Skin Retraction': 'x',\n",
              "  'Trabecular Thickening': 'x'},\n",
              " {'Nodule': 'o',\n",
              "  'Mass': 'o',\n",
              "  'Calcification': 'o',\n",
              "  'Asymmetry': 'l',\n",
              "  'Architectural Distortion': 'x',\n",
              "  'Skin Thickening': 'x',\n",
              "  'Lymph Node Enlargement': 'l',\n",
              "  'Intramammary Lymph Node': 'l',\n",
              "  'Nipple Retraction': 'x',\n",
              "  'Skin Retraction': 'x',\n",
              "  'Trabecular Thickening': 'x'},\n",
              " {'Nodule': 'o',\n",
              "  'Mass': 'o',\n",
              "  'Calcification': 'o',\n",
              "  'Asymmetry': 'o',\n",
              "  'Architectural Distortion': 'o',\n",
              "  'Skin Thickening': 'o',\n",
              "  'Lymph Node Enlargement': 'o',\n",
              "  'Intramammary Lymph Node': 'o',\n",
              "  'Nipple Retraction': 'o',\n",
              "  'Skin Retraction': 'o',\n",
              "  'Trabecular Thickening': 'o'},\n",
              " {'Nodule': 'o',\n",
              "  'Mass': 'o',\n",
              "  'Calcification': 'o',\n",
              "  'Asymmetry': 'o',\n",
              "  'Architectural Distortion': 'o',\n",
              "  'Skin Thickening': 'o',\n",
              "  'Lymph Node Enlargement': 'o',\n",
              "  'Intramammary Lymph Node': 'o',\n",
              "  'Nipple Retraction': 'o',\n",
              "  'Skin Retraction': 'o',\n",
              "  'Trabecular Thickening': 'o'},\n",
              " {'Nodule': 'r',\n",
              "  'Mass': 'r',\n",
              "  'Calcification': 'o',\n",
              "  'Asymmetry': 'o',\n",
              "  'Architectural Distortion': 'o',\n",
              "  'Skin Thickening': 'o',\n",
              "  'Lymph Node Enlargement': 'o',\n",
              "  'Intramammary Lymph Node': 'o',\n",
              "  'Nipple Retraction': 'o',\n",
              "  'Skin Retraction': 'o',\n",
              "  'Trabecular Thickening': 'o'},\n",
              " {'Nodule': 'o',\n",
              "  'Mass': 'o',\n",
              "  'Calcification': 'o',\n",
              "  'Asymmetry': 'o',\n",
              "  'Architectural Distortion': 'o',\n",
              "  'Skin Thickening': 'o',\n",
              "  'Lymph Node Enlargement': 'o',\n",
              "  'Intramammary Lymph Node': 'o',\n",
              "  'Nipple Retraction': 'o',\n",
              "  'Skin Retraction': 'o',\n",
              "  'Trabecular Thickening': 'o'},\n",
              " {'Nodule': 'o',\n",
              "  'Mass': 'o',\n",
              "  'Calcification': 'b',\n",
              "  'Asymmetry': 'x',\n",
              "  'Architectural Distortion': 'x',\n",
              "  'Skin Thickening': 'x',\n",
              "  'Lymph Node Enlargement': 'x',\n",
              "  'Intramammary Lymph Node': 'x',\n",
              "  'Nipple Retraction': 'x',\n",
              "  'Skin Retraction': 'x',\n",
              "  'Trabecular Thickening': 'x'},\n",
              " {'Nodule': 'o',\n",
              "  'Mass': 'o',\n",
              "  'Calcification': 'x',\n",
              "  'Asymmetry': 'r',\n",
              "  'Architectural Distortion': 'x',\n",
              "  'Skin Thickening': 'x',\n",
              "  'Lymph Node Enlargement': 'x',\n",
              "  'Intramammary Lymph Node': 'x',\n",
              "  'Nipple Retraction': 'x',\n",
              "  'Skin Retraction': 'x',\n",
              "  'Trabecular Thickening': 'x'},\n",
              " {'Nodule': 'r',\n",
              "  'Mass': 'r',\n",
              "  'Calcification': 'x',\n",
              "  'Asymmetry': 'x',\n",
              "  'Architectural Distortion': 'x',\n",
              "  'Skin Thickening': 'x',\n",
              "  'Lymph Node Enlargement': 'x',\n",
              "  'Intramammary Lymph Node': 'x',\n",
              "  'Nipple Retraction': 'x',\n",
              "  'Skin Retraction': 'x',\n",
              "  'Trabecular Thickening': 'x'},\n",
              " {'Nodule': 'o',\n",
              "  'Mass': 'l',\n",
              "  'Calcification': 'x',\n",
              "  'Asymmetry': 'x',\n",
              "  'Architectural Distortion': 'x',\n",
              "  'Skin Thickening': 'x',\n",
              "  'Lymph Node Enlargement': 'x',\n",
              "  'Intramammary Lymph Node': 'x',\n",
              "  'Nipple Retraction': 'x',\n",
              "  'Skin Retraction': 'x',\n",
              "  'Trabecular Thickening': 'x'},\n",
              " {'Nodule': 'l',\n",
              "  'Mass': 'l',\n",
              "  'Calcification': 'x',\n",
              "  'Asymmetry': 'x',\n",
              "  'Architectural Distortion': 'x',\n",
              "  'Skin Thickening': 'x',\n",
              "  'Lymph Node Enlargement': 'x',\n",
              "  'Intramammary Lymph Node': 'x',\n",
              "  'Nipple Retraction': 'x',\n",
              "  'Skin Retraction': 'x',\n",
              "  'Trabecular Thickening': 'x'},\n",
              " {'Nodule': 'b',\n",
              "  'Mass': 'b',\n",
              "  'Calcification': 'r',\n",
              "  'Asymmetry': 'l',\n",
              "  'Architectural Distortion': 'x',\n",
              "  'Skin Thickening': 'x',\n",
              "  'Lymph Node Enlargement': 'x',\n",
              "  'Intramammary Lymph Node': 'x',\n",
              "  'Nipple Retraction': 'x',\n",
              "  'Skin Retraction': 'x',\n",
              "  'Trabecular Thickening': 'x'},\n",
              " {'Nodule': 'o',\n",
              "  'Mass': 'o',\n",
              "  'Calcification': 'r',\n",
              "  'Asymmetry': 'x',\n",
              "  'Architectural Distortion': 'x',\n",
              "  'Skin Thickening': 'x',\n",
              "  'Lymph Node Enlargement': 'x',\n",
              "  'Intramammary Lymph Node': 'x',\n",
              "  'Nipple Retraction': 'x',\n",
              "  'Skin Retraction': 'x',\n",
              "  'Trabecular Thickening': 'x'},\n",
              " {'Nodule': 'o',\n",
              "  'Mass': 'o',\n",
              "  'Calcification': 'o',\n",
              "  'Asymmetry': 'o',\n",
              "  'Architectural Distortion': 'o',\n",
              "  'Skin Thickening': 'o',\n",
              "  'Lymph Node Enlargement': 'o',\n",
              "  'Intramammary Lymph Node': 'o',\n",
              "  'Nipple Retraction': 'o',\n",
              "  'Skin Retraction': 'o',\n",
              "  'Trabecular Thickening': 'o'},\n",
              " {'Nodule': 'r',\n",
              "  'Mass': 'r',\n",
              "  'Calcification': 'r',\n",
              "  'Asymmetry': 'o',\n",
              "  'Architectural Distortion': 'o',\n",
              "  'Skin Thickening': 'o',\n",
              "  'Lymph Node Enlargement': 'o',\n",
              "  'Intramammary Lymph Node': 'o',\n",
              "  'Nipple Retraction': 'o',\n",
              "  'Skin Retraction': 'o',\n",
              "  'Trabecular Thickening': 'o'},\n",
              " {'Nodule': 'o',\n",
              "  'Mass': 'o',\n",
              "  'Calcification': 'o',\n",
              "  'Asymmetry': 'o',\n",
              "  'Architectural Distortion': 'o',\n",
              "  'Skin Thickening': 'o',\n",
              "  'Lymph Node Enlargement': 'o',\n",
              "  'Intramammary Lymph Node': 'o',\n",
              "  'Nipple Retraction': 'o',\n",
              "  'Skin Retraction': 'o',\n",
              "  'Trabecular Thickening': 'o'},\n",
              " {'Nodule': 'b',\n",
              "  'Mass': 'b',\n",
              "  'Calcification': 'x',\n",
              "  'Asymmetry': 'x',\n",
              "  'Architectural Distortion': 'b',\n",
              "  'Skin Thickening': 'x',\n",
              "  'Lymph Node Enlargement': 'x',\n",
              "  'Intramammary Lymph Node': 'x',\n",
              "  'Nipple Retraction': 'x',\n",
              "  'Skin Retraction': 'x',\n",
              "  'Trabecular Thickening': 'x'},\n",
              " {'Nodule': 'o',\n",
              "  'Mass': 'o',\n",
              "  'Calcification': 'b',\n",
              "  'Asymmetry': 'x',\n",
              "  'Architectural Distortion': 'x',\n",
              "  'Skin Thickening': 'x',\n",
              "  'Lymph Node Enlargement': 'x',\n",
              "  'Intramammary Lymph Node': 'x',\n",
              "  'Nipple Retraction': 'x',\n",
              "  'Skin Retraction': 'x',\n",
              "  'Trabecular Thickening': 'x'},\n",
              " {'Nodule': 'l',\n",
              "  'Mass': 'l',\n",
              "  'Calcification': 'x',\n",
              "  'Asymmetry': 'x',\n",
              "  'Architectural Distortion': 'x',\n",
              "  'Skin Thickening': 'x',\n",
              "  'Lymph Node Enlargement': 'x',\n",
              "  'Intramammary Lymph Node': 'x',\n",
              "  'Nipple Retraction': 'x',\n",
              "  'Skin Retraction': 'x',\n",
              "  'Trabecular Thickening': 'x'},\n",
              " {'Nodule': 'x',\n",
              "  'Mass': 'x',\n",
              "  'Calcification': 'x',\n",
              "  'Asymmetry': 'x',\n",
              "  'Architectural Distortion': 'x',\n",
              "  'Skin Thickening': 'x',\n",
              "  'Lymph Node Enlargement': 'x',\n",
              "  'Intramammary Lymph Node': 'x',\n",
              "  'Nipple Retraction': 'x',\n",
              "  'Skin Retraction': 'x',\n",
              "  'Trabecular Thickening': 'x'},\n",
              " {'Nodule': 'o',\n",
              "  'Mass': 'o',\n",
              "  'Calcification': 'l',\n",
              "  'Asymmetry': 'x',\n",
              "  'Architectural Distortion': 'x',\n",
              "  'Skin Thickening': 'x',\n",
              "  'Lymph Node Enlargement': 'x',\n",
              "  'Intramammary Lymph Node': 'x',\n",
              "  'Nipple Retraction': 'x',\n",
              "  'Skin Retraction': 'x',\n",
              "  'Trabecular Thickening': 'x'},\n",
              " {'Nodule': 'o',\n",
              "  'Mass': 'o',\n",
              "  'Calcification': 'o',\n",
              "  'Asymmetry': 'o',\n",
              "  'Architectural Distortion': 'o',\n",
              "  'Skin Thickening': 'o',\n",
              "  'Lymph Node Enlargement': 'o',\n",
              "  'Intramammary Lymph Node': 'o',\n",
              "  'Nipple Retraction': 'o',\n",
              "  'Skin Retraction': 'o',\n",
              "  'Trabecular Thickening': 'o'},\n",
              " {'Nodule': 'o',\n",
              "  'Mass': 'o',\n",
              "  'Calcification': 'o',\n",
              "  'Asymmetry': 'o',\n",
              "  'Architectural Distortion': 'o',\n",
              "  'Skin Thickening': 'o',\n",
              "  'Lymph Node Enlargement': 'o',\n",
              "  'Intramammary Lymph Node': 'o',\n",
              "  'Nipple Retraction': 'o',\n",
              "  'Skin Retraction': 'o',\n",
              "  'Trabecular Thickening': 'o'},\n",
              " {'Nodule': 'o',\n",
              "  'Mass': 'o',\n",
              "  'Calcification': 'o',\n",
              "  'Asymmetry': 'o',\n",
              "  'Architectural Distortion': 'o',\n",
              "  'Skin Thickening': 'o',\n",
              "  'Lymph Node Enlargement': 'o',\n",
              "  'Intramammary Lymph Node': 'o',\n",
              "  'Nipple Retraction': 'o',\n",
              "  'Skin Retraction': 'o',\n",
              "  'Trabecular Thickening': 'o'},\n",
              " {'Nodule': 'o',\n",
              "  'Mass': 'o',\n",
              "  'Calcification': 'o',\n",
              "  'Asymmetry': 'o',\n",
              "  'Architectural Distortion': 'o',\n",
              "  'Skin Thickening': 'o',\n",
              "  'Lymph Node Enlargement': 'o',\n",
              "  'Intramammary Lymph Node': 'o',\n",
              "  'Nipple Retraction': 'o',\n",
              "  'Skin Retraction': 'o',\n",
              "  'Trabecular Thickening': 'o'},\n",
              " {'Nodule': 'l',\n",
              "  'Mass': 'l',\n",
              "  'Calcification': 'x',\n",
              "  'Asymmetry': 'x',\n",
              "  'Architectural Distortion': 'x',\n",
              "  'Skin Thickening': 'x',\n",
              "  'Lymph Node Enlargement': 'x',\n",
              "  'Intramammary Lymph Node': 'x',\n",
              "  'Nipple Retraction': 'x',\n",
              "  'Skin Retraction': 'x',\n",
              "  'Trabecular Thickening': 'x'},\n",
              " {'Nodule': 'o',\n",
              "  'Mass': 'l',\n",
              "  'Calcification': 'x',\n",
              "  'Asymmetry': 'x',\n",
              "  'Architectural Distortion': 'x',\n",
              "  'Skin Thickening': 'x',\n",
              "  'Lymph Node Enlargement': 'x',\n",
              "  'Intramammary Lymph Node': 'x',\n",
              "  'Nipple Retraction': 'x',\n",
              "  'Skin Retraction': 'x',\n",
              "  'Trabecular Thickening': 'x'},\n",
              " {'Nodule': 'o',\n",
              "  'Mass': 'o',\n",
              "  'Calcification': 'o',\n",
              "  'Asymmetry': 'o',\n",
              "  'Architectural Distortion': 'l',\n",
              "  'Skin Thickening': 'o',\n",
              "  'Lymph Node Enlargement': 'o',\n",
              "  'Intramammary Lymph Node': 'o',\n",
              "  'Nipple Retraction': 'o',\n",
              "  'Skin Retraction': 'o',\n",
              "  'Trabecular Thickening': 'o'},\n",
              " {'Nodule': 'r',\n",
              "  'Mass': 'r',\n",
              "  'Calcification': 'r',\n",
              "  'Asymmetry': 'o',\n",
              "  'Architectural Distortion': 'o',\n",
              "  'Skin Thickening': 'o',\n",
              "  'Lymph Node Enlargement': 'o',\n",
              "  'Intramammary Lymph Node': 'o',\n",
              "  'Nipple Retraction': 'o',\n",
              "  'Skin Retraction': 'o',\n",
              "  'Trabecular Thickening': 'o'},\n",
              " {'Nodule': 'o',\n",
              "  'Mass': 'l',\n",
              "  'Calcification': 'x',\n",
              "  'Asymmetry': 'x',\n",
              "  'Architectural Distortion': 'x',\n",
              "  'Skin Thickening': 'x',\n",
              "  'Lymph Node Enlargement': 'x',\n",
              "  'Intramammary Lymph Node': 'x',\n",
              "  'Nipple Retraction': 'x',\n",
              "  'Skin Retraction': 'x',\n",
              "  'Trabecular Thickening': 'x'},\n",
              " {'Nodule': 'o',\n",
              "  'Mass': 'o',\n",
              "  'Calcification': 'o',\n",
              "  'Asymmetry': 'o',\n",
              "  'Architectural Distortion': 'o',\n",
              "  'Skin Thickening': 'o',\n",
              "  'Lymph Node Enlargement': 'o',\n",
              "  'Intramammary Lymph Node': 'o',\n",
              "  'Nipple Retraction': 'o',\n",
              "  'Skin Retraction': 'o',\n",
              "  'Trabecular Thickening': 'o'},\n",
              " {'Nodule': 'b',\n",
              "  'Mass': 'l',\n",
              "  'Calcification': 'x',\n",
              "  'Asymmetry': 'x',\n",
              "  'Architectural Distortion': 'x',\n",
              "  'Skin Thickening': 'b',\n",
              "  'Lymph Node Enlargement': 'x',\n",
              "  'Intramammary Lymph Node': 'x',\n",
              "  'Nipple Retraction': 'x',\n",
              "  'Skin Retraction': 'x',\n",
              "  'Trabecular Thickening': 'x'},\n",
              " {'Nodule': 'b',\n",
              "  'Mass': 'l',\n",
              "  'Calcification': 'x',\n",
              "  'Asymmetry': 'x',\n",
              "  'Architectural Distortion': 'x',\n",
              "  'Skin Thickening': 'x',\n",
              "  'Lymph Node Enlargement': 'x',\n",
              "  'Intramammary Lymph Node': 'x',\n",
              "  'Nipple Retraction': 'x',\n",
              "  'Skin Retraction': 'x',\n",
              "  'Trabecular Thickening': 'x'},\n",
              " {'Nodule': 'o',\n",
              "  'Mass': 'o',\n",
              "  'Calcification': 'o',\n",
              "  'Asymmetry': 'o',\n",
              "  'Architectural Distortion': 'l',\n",
              "  'Skin Thickening': 'o',\n",
              "  'Lymph Node Enlargement': 'o',\n",
              "  'Intramammary Lymph Node': 'o',\n",
              "  'Nipple Retraction': 'l',\n",
              "  'Skin Retraction': 'l',\n",
              "  'Trabecular Thickening': 'o'},\n",
              " {'Nodule': 'o',\n",
              "  'Mass': 'o',\n",
              "  'Calcification': 'o',\n",
              "  'Asymmetry': 'o',\n",
              "  'Architectural Distortion': 'o',\n",
              "  'Skin Thickening': 'o',\n",
              "  'Lymph Node Enlargement': 'o',\n",
              "  'Intramammary Lymph Node': 'o',\n",
              "  'Nipple Retraction': 'o',\n",
              "  'Skin Retraction': 'o',\n",
              "  'Trabecular Thickening': 'o'},\n",
              " {'Nodule': 'l',\n",
              "  'Mass': 'l',\n",
              "  'Calcification': 'x',\n",
              "  'Asymmetry': 'x',\n",
              "  'Architectural Distortion': 'x',\n",
              "  'Skin Thickening': 'x',\n",
              "  'Lymph Node Enlargement': 'x',\n",
              "  'Intramammary Lymph Node': 'x',\n",
              "  'Nipple Retraction': 'x',\n",
              "  'Skin Retraction': 'x',\n",
              "  'Trabecular Thickening': 'x'},\n",
              " {'Nodule': 'r',\n",
              "  'Mass': 'r',\n",
              "  'Calcification': 'x',\n",
              "  'Asymmetry': 'x',\n",
              "  'Architectural Distortion': 'x',\n",
              "  'Skin Thickening': 'x',\n",
              "  'Lymph Node Enlargement': 'x',\n",
              "  'Intramammary Lymph Node': 'x',\n",
              "  'Nipple Retraction': 'x',\n",
              "  'Skin Retraction': 'x',\n",
              "  'Trabecular Thickening': 'x'},\n",
              " {'Nodule': 'l',\n",
              "  'Mass': 'l',\n",
              "  'Calcification': 'o',\n",
              "  'Asymmetry': 'x',\n",
              "  'Architectural Distortion': 'x',\n",
              "  'Skin Thickening': 'x',\n",
              "  'Lymph Node Enlargement': 'x',\n",
              "  'Intramammary Lymph Node': 'x',\n",
              "  'Nipple Retraction': 'x',\n",
              "  'Skin Retraction': 'x',\n",
              "  'Trabecular Thickening': 'x'},\n",
              " {'Nodule': 'o',\n",
              "  'Mass': 'o',\n",
              "  'Calcification': 'o',\n",
              "  'Asymmetry': 'l',\n",
              "  'Architectural Distortion': 'x',\n",
              "  'Skin Thickening': 'x',\n",
              "  'Lymph Node Enlargement': 'x',\n",
              "  'Intramammary Lymph Node': 'x',\n",
              "  'Nipple Retraction': 'x',\n",
              "  'Skin Retraction': 'x',\n",
              "  'Trabecular Thickening': 'x'},\n",
              " {'Nodule': 'o',\n",
              "  'Mass': 'o',\n",
              "  'Calcification': 'o',\n",
              "  'Asymmetry': 'o',\n",
              "  'Architectural Distortion': 'o',\n",
              "  'Skin Thickening': 'o',\n",
              "  'Lymph Node Enlargement': 'o',\n",
              "  'Intramammary Lymph Node': 'o',\n",
              "  'Nipple Retraction': 'o',\n",
              "  'Skin Retraction': 'o',\n",
              "  'Trabecular Thickening': 'o'},\n",
              " {'Nodule': 'r',\n",
              "  'Mass': 'r',\n",
              "  'Calcification': 'r',\n",
              "  'Asymmetry': 'r',\n",
              "  'Architectural Distortion': 'x',\n",
              "  'Skin Thickening': 'x',\n",
              "  'Lymph Node Enlargement': 'x',\n",
              "  'Intramammary Lymph Node': 'x',\n",
              "  'Nipple Retraction': 'x',\n",
              "  'Skin Retraction': 'x',\n",
              "  'Trabecular Thickening': 'x'},\n",
              " {'Nodule': 'o',\n",
              "  'Mass': 'o',\n",
              "  'Calcification': 'o',\n",
              "  'Asymmetry': 'o',\n",
              "  'Architectural Distortion': 'o',\n",
              "  'Skin Thickening': 'o',\n",
              "  'Lymph Node Enlargement': 'o',\n",
              "  'Intramammary Lymph Node': 'o',\n",
              "  'Nipple Retraction': 'o',\n",
              "  'Skin Retraction': 'o',\n",
              "  'Trabecular Thickening': 'o'},\n",
              " {'Nodule': 'x',\n",
              "  'Mass': 'x',\n",
              "  'Calcification': 'x',\n",
              "  'Asymmetry': 'l',\n",
              "  'Architectural Distortion': 'x',\n",
              "  'Skin Thickening': 'x',\n",
              "  'Lymph Node Enlargement': 'x',\n",
              "  'Intramammary Lymph Node': 'x',\n",
              "  'Nipple Retraction': 'x',\n",
              "  'Skin Retraction': 'x',\n",
              "  'Trabecular Thickening': 'x'},\n",
              " {'Nodule': 'o',\n",
              "  'Mass': 'l',\n",
              "  'Calcification': 'x',\n",
              "  'Asymmetry': 'l',\n",
              "  'Architectural Distortion': 'x',\n",
              "  'Skin Thickening': 'x',\n",
              "  'Lymph Node Enlargement': 'x',\n",
              "  'Intramammary Lymph Node': 'x',\n",
              "  'Nipple Retraction': 'x',\n",
              "  'Skin Retraction': 'x',\n",
              "  'Trabecular Thickening': 'x'},\n",
              " {'Nodule': 'o',\n",
              "  'Mass': 'o',\n",
              "  'Calcification': 'o',\n",
              "  'Asymmetry': 'o',\n",
              "  'Architectural Distortion': 'o',\n",
              "  'Skin Thickening': 'o',\n",
              "  'Lymph Node Enlargement': 'o',\n",
              "  'Intramammary Lymph Node': 'o',\n",
              "  'Nipple Retraction': 'o',\n",
              "  'Skin Retraction': 'o',\n",
              "  'Trabecular Thickening': 'o'},\n",
              " {'Nodule': 'o',\n",
              "  'Mass': 'o',\n",
              "  'Calcification': 'o',\n",
              "  'Asymmetry': 'o',\n",
              "  'Architectural Distortion': 'o',\n",
              "  'Skin Thickening': 'o',\n",
              "  'Lymph Node Enlargement': 'o',\n",
              "  'Intramammary Lymph Node': 'o',\n",
              "  'Nipple Retraction': 'o',\n",
              "  'Skin Retraction': 'o',\n",
              "  'Trabecular Thickening': 'o'},\n",
              " {'Nodule': 'o',\n",
              "  'Mass': 'o',\n",
              "  'Calcification': 'o',\n",
              "  'Asymmetry': 'o',\n",
              "  'Architectural Distortion': 'o',\n",
              "  'Skin Thickening': 'o',\n",
              "  'Lymph Node Enlargement': 'o',\n",
              "  'Intramammary Lymph Node': 'o',\n",
              "  'Nipple Retraction': 'o',\n",
              "  'Skin Retraction': 'o',\n",
              "  'Trabecular Thickening': 'o'},\n",
              " {'Nodule': 'o',\n",
              "  'Mass': 'o',\n",
              "  'Calcification': 'b',\n",
              "  'Asymmetry': 'r',\n",
              "  'Architectural Distortion': 'x',\n",
              "  'Skin Thickening': 'x',\n",
              "  'Lymph Node Enlargement': 'x',\n",
              "  'Intramammary Lymph Node': 'x',\n",
              "  'Nipple Retraction': 'x',\n",
              "  'Skin Retraction': 'x',\n",
              "  'Trabecular Thickening': 'x'},\n",
              " {'Nodule': 'o',\n",
              "  'Mass': 'r',\n",
              "  'Calcification': 'x',\n",
              "  'Asymmetry': 'x',\n",
              "  'Architectural Distortion': 'x',\n",
              "  'Skin Thickening': 'x',\n",
              "  'Lymph Node Enlargement': 'x',\n",
              "  'Intramammary Lymph Node': 'x',\n",
              "  'Nipple Retraction': 'x',\n",
              "  'Skin Retraction': 'x',\n",
              "  'Trabecular Thickening': 'x'},\n",
              " {'Nodule': 'r',\n",
              "  'Mass': 'r',\n",
              "  'Calcification': 'x',\n",
              "  'Asymmetry': 'x',\n",
              "  'Architectural Distortion': 'x',\n",
              "  'Skin Thickening': 'x',\n",
              "  'Lymph Node Enlargement': 'x',\n",
              "  'Intramammary Lymph Node': 'x',\n",
              "  'Nipple Retraction': 'x',\n",
              "  'Skin Retraction': 'x',\n",
              "  'Trabecular Thickening': 'x'},\n",
              " {'Nodule': 'o',\n",
              "  'Mass': 'o',\n",
              "  'Calcification': 'o',\n",
              "  'Asymmetry': 'o',\n",
              "  'Architectural Distortion': 'o',\n",
              "  'Skin Thickening': 'o',\n",
              "  'Lymph Node Enlargement': 'o',\n",
              "  'Intramammary Lymph Node': 'o',\n",
              "  'Nipple Retraction': 'o',\n",
              "  'Skin Retraction': 'o',\n",
              "  'Trabecular Thickening': 'o'},\n",
              " {'Nodule': 'x',\n",
              "  'Mass': 'x',\n",
              "  'Calcification': 'x',\n",
              "  'Asymmetry': 'r',\n",
              "  'Architectural Distortion': 'x',\n",
              "  'Skin Thickening': 'x',\n",
              "  'Lymph Node Enlargement': 'x',\n",
              "  'Intramammary Lymph Node': 'x',\n",
              "  'Nipple Retraction': 'x',\n",
              "  'Skin Retraction': 'x',\n",
              "  'Trabecular Thickening': 'x'},\n",
              " {'Nodule': 'o',\n",
              "  'Mass': 'l',\n",
              "  'Calcification': 'x',\n",
              "  'Asymmetry': 'x',\n",
              "  'Architectural Distortion': 'x',\n",
              "  'Skin Thickening': 'x',\n",
              "  'Lymph Node Enlargement': 'x',\n",
              "  'Intramammary Lymph Node': 'x',\n",
              "  'Nipple Retraction': 'x',\n",
              "  'Skin Retraction': 'x',\n",
              "  'Trabecular Thickening': 'x'},\n",
              " {'Nodule': 'o',\n",
              "  'Mass': 'o',\n",
              "  'Calcification': 'o',\n",
              "  'Asymmetry': 'l',\n",
              "  'Architectural Distortion': 'x',\n",
              "  'Skin Thickening': 'x',\n",
              "  'Lymph Node Enlargement': 'x',\n",
              "  'Intramammary Lymph Node': 'x',\n",
              "  'Nipple Retraction': 'x',\n",
              "  'Skin Retraction': 'x',\n",
              "  'Trabecular Thickening': 'x'},\n",
              " {'Nodule': 'x',\n",
              "  'Mass': 'x',\n",
              "  'Calcification': 'b',\n",
              "  'Asymmetry': 'x',\n",
              "  'Architectural Distortion': 'x',\n",
              "  'Skin Thickening': 'x',\n",
              "  'Lymph Node Enlargement': 'x',\n",
              "  'Intramammary Lymph Node': 'x',\n",
              "  'Nipple Retraction': 'x',\n",
              "  'Skin Retraction': 'x',\n",
              "  'Trabecular Thickening': 'x'},\n",
              " {'Nodule': 'r',\n",
              "  'Mass': 'r',\n",
              "  'Calcification': 'x',\n",
              "  'Asymmetry': 'x',\n",
              "  'Architectural Distortion': 'x',\n",
              "  'Skin Thickening': 'x',\n",
              "  'Lymph Node Enlargement': 'l',\n",
              "  'Intramammary Lymph Node': 'l',\n",
              "  'Nipple Retraction': 'x',\n",
              "  'Skin Retraction': 'x',\n",
              "  'Trabecular Thickening': 'x'},\n",
              " {'Nodule': 'o',\n",
              "  'Mass': 'o',\n",
              "  'Calcification': 'o',\n",
              "  'Asymmetry': 'o',\n",
              "  'Architectural Distortion': 'o',\n",
              "  'Skin Thickening': 'o',\n",
              "  'Lymph Node Enlargement': 'o',\n",
              "  'Intramammary Lymph Node': 'o',\n",
              "  'Nipple Retraction': 'o',\n",
              "  'Skin Retraction': 'o',\n",
              "  'Trabecular Thickening': 'o'},\n",
              " {'Nodule': 'o',\n",
              "  'Mass': 'o',\n",
              "  'Calcification': 'l',\n",
              "  'Asymmetry': 'x',\n",
              "  'Architectural Distortion': 'x',\n",
              "  'Skin Thickening': 'x',\n",
              "  'Lymph Node Enlargement': 'x',\n",
              "  'Intramammary Lymph Node': 'x',\n",
              "  'Nipple Retraction': 'x',\n",
              "  'Skin Retraction': 'x',\n",
              "  'Trabecular Thickening': 'x'},\n",
              " {'Nodule': 'o',\n",
              "  'Mass': 'r',\n",
              "  'Calcification': 'x',\n",
              "  'Asymmetry': 'x',\n",
              "  'Architectural Distortion': 'x',\n",
              "  'Skin Thickening': 'x',\n",
              "  'Lymph Node Enlargement': 'x',\n",
              "  'Intramammary Lymph Node': 'x',\n",
              "  'Nipple Retraction': 'x',\n",
              "  'Skin Retraction': 'x',\n",
              "  'Trabecular Thickening': 'x'},\n",
              " {'Nodule': 'o',\n",
              "  'Mass': 'r',\n",
              "  'Calcification': 'x',\n",
              "  'Asymmetry': 'o',\n",
              "  'Architectural Distortion': 'o',\n",
              "  'Skin Thickening': 'r',\n",
              "  'Lymph Node Enlargement': 'o',\n",
              "  'Intramammary Lymph Node': 'o',\n",
              "  'Nipple Retraction': 'o',\n",
              "  'Skin Retraction': 'r',\n",
              "  'Trabecular Thickening': 'r'},\n",
              " {'Nodule': 'x',\n",
              "  'Mass': 'x',\n",
              "  'Calcification': 'x',\n",
              "  'Asymmetry': 'x',\n",
              "  'Architectural Distortion': 'x',\n",
              "  'Skin Thickening': 'x',\n",
              "  'Lymph Node Enlargement': 'x',\n",
              "  'Intramammary Lymph Node': 'x',\n",
              "  'Nipple Retraction': 'x',\n",
              "  'Skin Retraction': 'x',\n",
              "  'Trabecular Thickening': 'x'},\n",
              " {'Nodule': 'r',\n",
              "  'Mass': 'r',\n",
              "  'Calcification': 'l',\n",
              "  'Asymmetry': 'o',\n",
              "  'Architectural Distortion': 'x',\n",
              "  'Skin Thickening': 'o',\n",
              "  'Lymph Node Enlargement': 'o',\n",
              "  'Intramammary Lymph Node': 'o',\n",
              "  'Nipple Retraction': 'o',\n",
              "  'Skin Retraction': 'o',\n",
              "  'Trabecular Thickening': 'o'},\n",
              " {'Nodule': 'r',\n",
              "  'Mass': 'r',\n",
              "  'Calcification': 'o',\n",
              "  'Asymmetry': 'o',\n",
              "  'Architectural Distortion': 'o',\n",
              "  'Skin Thickening': 'o',\n",
              "  'Lymph Node Enlargement': 'o',\n",
              "  'Intramammary Lymph Node': 'o',\n",
              "  'Nipple Retraction': 'o',\n",
              "  'Skin Retraction': 'o',\n",
              "  'Trabecular Thickening': 'o'},\n",
              " {'Nodule': 'o',\n",
              "  'Mass': 'o',\n",
              "  'Calcification': 'o',\n",
              "  'Asymmetry': 'r',\n",
              "  'Architectural Distortion': 'x',\n",
              "  'Skin Thickening': 'x',\n",
              "  'Lymph Node Enlargement': 'x',\n",
              "  'Intramammary Lymph Node': 'x',\n",
              "  'Nipple Retraction': 'x',\n",
              "  'Skin Retraction': 'x',\n",
              "  'Trabecular Thickening': 'x'},\n",
              " {'Nodule': 'o',\n",
              "  'Mass': 'o',\n",
              "  'Calcification': 'l',\n",
              "  'Asymmetry': 'x',\n",
              "  'Architectural Distortion': 'x',\n",
              "  'Skin Thickening': 'x',\n",
              "  'Lymph Node Enlargement': 'x',\n",
              "  'Intramammary Lymph Node': 'x',\n",
              "  'Nipple Retraction': 'x',\n",
              "  'Skin Retraction': 'x',\n",
              "  'Trabecular Thickening': 'x'},\n",
              " {'Nodule': 'l',\n",
              "  'Mass': 'l',\n",
              "  'Calcification': 'l',\n",
              "  'Asymmetry': 'o',\n",
              "  'Architectural Distortion': 'o',\n",
              "  'Skin Thickening': 'o',\n",
              "  'Lymph Node Enlargement': 'o',\n",
              "  'Intramammary Lymph Node': 'o',\n",
              "  'Nipple Retraction': 'o',\n",
              "  'Skin Retraction': 'o',\n",
              "  'Trabecular Thickening': 'o'},\n",
              " {'Nodule': 'r',\n",
              "  'Mass': 'r',\n",
              "  'Calcification': 'x',\n",
              "  'Asymmetry': 'x',\n",
              "  'Architectural Distortion': 'x',\n",
              "  'Skin Thickening': 'x',\n",
              "  'Lymph Node Enlargement': 'x',\n",
              "  'Intramammary Lymph Node': 'x',\n",
              "  'Nipple Retraction': 'r',\n",
              "  'Skin Retraction': 'r',\n",
              "  'Trabecular Thickening': 'x'},\n",
              " {'Nodule': 'l',\n",
              "  'Mass': 'l',\n",
              "  'Calcification': 'x',\n",
              "  'Asymmetry': 'x',\n",
              "  'Architectural Distortion': 'x',\n",
              "  'Skin Thickening': 'x',\n",
              "  'Lymph Node Enlargement': 'x',\n",
              "  'Intramammary Lymph Node': 'x',\n",
              "  'Nipple Retraction': 'x',\n",
              "  'Skin Retraction': 'x',\n",
              "  'Trabecular Thickening': 'x'},\n",
              " {'Nodule': 'o',\n",
              "  'Mass': 'l',\n",
              "  'Calcification': 'x',\n",
              "  'Asymmetry': 'x',\n",
              "  'Architectural Distortion': 'x',\n",
              "  'Skin Thickening': 'x',\n",
              "  'Lymph Node Enlargement': 'x',\n",
              "  'Intramammary Lymph Node': 'x',\n",
              "  'Nipple Retraction': 'x',\n",
              "  'Skin Retraction': 'x',\n",
              "  'Trabecular Thickening': 'x'},\n",
              " {'Nodule': 'r',\n",
              "  'Mass': 'r',\n",
              "  'Calcification': 'r',\n",
              "  'Asymmetry': 'r',\n",
              "  'Architectural Distortion': 'r',\n",
              "  'Skin Thickening': 'b',\n",
              "  'Lymph Node Enlargement': 'x',\n",
              "  'Intramammary Lymph Node': 'x',\n",
              "  'Nipple Retraction': 'x',\n",
              "  'Skin Retraction': 'x',\n",
              "  'Trabecular Thickening': 'x'},\n",
              " {'Nodule': 'o',\n",
              "  'Mass': 'o',\n",
              "  'Calcification': 'o',\n",
              "  'Asymmetry': 'o',\n",
              "  'Architectural Distortion': 'o',\n",
              "  'Skin Thickening': 'o',\n",
              "  'Lymph Node Enlargement': 'o',\n",
              "  'Intramammary Lymph Node': 'o',\n",
              "  'Nipple Retraction': 'o',\n",
              "  'Skin Retraction': 'o',\n",
              "  'Trabecular Thickening': 'o'},\n",
              " {'Nodule': 'r',\n",
              "  'Mass': 'r',\n",
              "  'Calcification': 'x',\n",
              "  'Asymmetry': 'o',\n",
              "  'Architectural Distortion': 'x',\n",
              "  'Skin Thickening': 'r',\n",
              "  'Lymph Node Enlargement': 'r',\n",
              "  'Intramammary Lymph Node': 'r',\n",
              "  'Nipple Retraction': 'x',\n",
              "  'Skin Retraction': 'x',\n",
              "  'Trabecular Thickening': 'x'},\n",
              " {'Nodule': 'o',\n",
              "  'Mass': 'o',\n",
              "  'Calcification': 'o',\n",
              "  'Asymmetry': 'o',\n",
              "  'Architectural Distortion': 'o',\n",
              "  'Skin Thickening': 'r',\n",
              "  'Lymph Node Enlargement': 'o',\n",
              "  'Intramammary Lymph Node': 'o',\n",
              "  'Nipple Retraction': 'o',\n",
              "  'Skin Retraction': 'r',\n",
              "  'Trabecular Thickening': 'r'},\n",
              " {'Nodule': 'r',\n",
              "  'Mass': 'r',\n",
              "  'Calcification': 'r',\n",
              "  'Asymmetry': 'o',\n",
              "  'Architectural Distortion': 'o',\n",
              "  'Skin Thickening': 'o',\n",
              "  'Lymph Node Enlargement': 'o',\n",
              "  'Intramammary Lymph Node': 'o',\n",
              "  'Nipple Retraction': 'o',\n",
              "  'Skin Retraction': 'o',\n",
              "  'Trabecular Thickening': 'o'},\n",
              " {'Nodule': 'o',\n",
              "  'Mass': 'o',\n",
              "  'Calcification': 'o',\n",
              "  'Asymmetry': 'r',\n",
              "  'Architectural Distortion': 'x',\n",
              "  'Skin Thickening': 'x',\n",
              "  'Lymph Node Enlargement': 'x',\n",
              "  'Intramammary Lymph Node': 'x',\n",
              "  'Nipple Retraction': 'x',\n",
              "  'Skin Retraction': 'x',\n",
              "  'Trabecular Thickening': 'x'},\n",
              " {'Nodule': 'o',\n",
              "  'Mass': 'l',\n",
              "  'Calcification': 'b',\n",
              "  'Asymmetry': 'x',\n",
              "  'Architectural Distortion': 'x',\n",
              "  'Skin Thickening': 'x',\n",
              "  'Lymph Node Enlargement': 'x',\n",
              "  'Intramammary Lymph Node': 'x',\n",
              "  'Nipple Retraction': 'x',\n",
              "  'Skin Retraction': 'x',\n",
              "  'Trabecular Thickening': 'x'},\n",
              " {'Nodule': 'o',\n",
              "  'Mass': 'o',\n",
              "  'Calcification': 'o',\n",
              "  'Asymmetry': 'o',\n",
              "  'Architectural Distortion': 'l',\n",
              "  'Skin Thickening': 'l',\n",
              "  'Lymph Node Enlargement': 'o',\n",
              "  'Intramammary Lymph Node': 'o',\n",
              "  'Nipple Retraction': 'o',\n",
              "  'Skin Retraction': 'l',\n",
              "  'Trabecular Thickening': 'l'},\n",
              " {'Nodule': 'r',\n",
              "  'Mass': 'r',\n",
              "  'Calcification': 'x',\n",
              "  'Asymmetry': 'x',\n",
              "  'Architectural Distortion': 'x',\n",
              "  'Skin Thickening': 'x',\n",
              "  'Lymph Node Enlargement': 'x',\n",
              "  'Intramammary Lymph Node': 'x',\n",
              "  'Nipple Retraction': 'x',\n",
              "  'Skin Retraction': 'x',\n",
              "  'Trabecular Thickening': 'x'},\n",
              " {'Nodule': 'o',\n",
              "  'Mass': 'o',\n",
              "  'Calcification': 'o',\n",
              "  'Asymmetry': 'o',\n",
              "  'Architectural Distortion': 'r',\n",
              "  'Skin Thickening': 'o',\n",
              "  'Lymph Node Enlargement': 'o',\n",
              "  'Intramammary Lymph Node': 'o',\n",
              "  'Nipple Retraction': 'o',\n",
              "  'Skin Retraction': 'o',\n",
              "  'Trabecular Thickening': 'o'},\n",
              " {'Nodule': 'l',\n",
              "  'Mass': 'l',\n",
              "  'Calcification': 'l',\n",
              "  'Asymmetry': 'o',\n",
              "  'Architectural Distortion': 'o',\n",
              "  'Skin Thickening': 'o',\n",
              "  'Lymph Node Enlargement': 'o',\n",
              "  'Intramammary Lymph Node': 'o',\n",
              "  'Nipple Retraction': 'o',\n",
              "  'Skin Retraction': 'o',\n",
              "  'Trabecular Thickening': 'o'},\n",
              " {'Nodule': 'r',\n",
              "  'Mass': 'r',\n",
              "  'Calcification': 'x',\n",
              "  'Asymmetry': 'x',\n",
              "  'Architectural Distortion': 'x',\n",
              "  'Skin Thickening': 'x',\n",
              "  'Lymph Node Enlargement': 'x',\n",
              "  'Intramammary Lymph Node': 'x',\n",
              "  'Nipple Retraction': 'x',\n",
              "  'Skin Retraction': 'x',\n",
              "  'Trabecular Thickening': 'x'},\n",
              " {'Nodule': 'o',\n",
              "  'Mass': 'o',\n",
              "  'Calcification': 'o',\n",
              "  'Asymmetry': 'l',\n",
              "  'Architectural Distortion': 'x',\n",
              "  'Skin Thickening': 'x',\n",
              "  'Lymph Node Enlargement': 'x',\n",
              "  'Intramammary Lymph Node': 'x',\n",
              "  'Nipple Retraction': 'x',\n",
              "  'Skin Retraction': 'x',\n",
              "  'Trabecular Thickening': 'x'},\n",
              " {'Nodule': 'o',\n",
              "  'Mass': 'l',\n",
              "  'Calcification': 'l',\n",
              "  'Asymmetry': 'l',\n",
              "  'Architectural Distortion': 'x',\n",
              "  'Skin Thickening': 'x',\n",
              "  'Lymph Node Enlargement': 'x',\n",
              "  'Intramammary Lymph Node': 'x',\n",
              "  'Nipple Retraction': 'x',\n",
              "  'Skin Retraction': 'x',\n",
              "  'Trabecular Thickening': 'x'},\n",
              " {'Nodule': 'o',\n",
              "  'Mass': 'r',\n",
              "  'Calcification': 'l',\n",
              "  'Asymmetry': 'o',\n",
              "  'Architectural Distortion': 'r',\n",
              "  'Skin Thickening': 'o',\n",
              "  'Lymph Node Enlargement': 'o',\n",
              "  'Intramammary Lymph Node': 'o',\n",
              "  'Nipple Retraction': 'r',\n",
              "  'Skin Retraction': 'o',\n",
              "  'Trabecular Thickening': 'o'},\n",
              " {'Nodule': 'l',\n",
              "  'Mass': 'l',\n",
              "  'Calcification': 'x',\n",
              "  'Asymmetry': 'x',\n",
              "  'Architectural Distortion': 'x',\n",
              "  'Skin Thickening': 'x',\n",
              "  'Lymph Node Enlargement': 'x',\n",
              "  'Intramammary Lymph Node': 'x',\n",
              "  'Nipple Retraction': 'x',\n",
              "  'Skin Retraction': 'x',\n",
              "  'Trabecular Thickening': 'x'},\n",
              " {'Nodule': 'r',\n",
              "  'Mass': 'r',\n",
              "  'Calcification': 'x',\n",
              "  'Asymmetry': 'o',\n",
              "  'Architectural Distortion': 'x',\n",
              "  'Skin Thickening': 'l',\n",
              "  'Lymph Node Enlargement': 'x',\n",
              "  'Intramammary Lymph Node': 'x',\n",
              "  'Nipple Retraction': 'x',\n",
              "  'Skin Retraction': 'l',\n",
              "  'Trabecular Thickening': 'l'},\n",
              " {'Nodule': 'r',\n",
              "  'Mass': 'r',\n",
              "  'Calcification': 'x',\n",
              "  'Asymmetry': 'x',\n",
              "  'Architectural Distortion': 'x',\n",
              "  'Skin Thickening': 'x',\n",
              "  'Lymph Node Enlargement': 'x',\n",
              "  'Intramammary Lymph Node': 'x',\n",
              "  'Nipple Retraction': 'x',\n",
              "  'Skin Retraction': 'x',\n",
              "  'Trabecular Thickening': 'x'},\n",
              " {'Nodule': 'o',\n",
              "  'Mass': 'o',\n",
              "  'Calcification': 'o',\n",
              "  'Asymmetry': 'o',\n",
              "  'Architectural Distortion': 'l',\n",
              "  'Skin Thickening': 'o',\n",
              "  'Lymph Node Enlargement': 'o',\n",
              "  'Intramammary Lymph Node': 'o',\n",
              "  'Nipple Retraction': 'l',\n",
              "  'Skin Retraction': 'l',\n",
              "  'Trabecular Thickening': 'o'},\n",
              " {'Nodule': 'o',\n",
              "  'Mass': 'o',\n",
              "  'Calcification': 'o',\n",
              "  'Asymmetry': 'o',\n",
              "  'Architectural Distortion': 'l',\n",
              "  'Skin Thickening': 'o',\n",
              "  'Lymph Node Enlargement': 'o',\n",
              "  'Intramammary Lymph Node': 'o',\n",
              "  'Nipple Retraction': 'o',\n",
              "  'Skin Retraction': 'o',\n",
              "  'Trabecular Thickening': 'o'},\n",
              " {'Nodule': 'l',\n",
              "  'Mass': 'l',\n",
              "  'Calcification': 'l',\n",
              "  'Asymmetry': 'o',\n",
              "  'Architectural Distortion': 'o',\n",
              "  'Skin Thickening': 'o',\n",
              "  'Lymph Node Enlargement': 'o',\n",
              "  'Intramammary Lymph Node': 'o',\n",
              "  'Nipple Retraction': 'o',\n",
              "  'Skin Retraction': 'o',\n",
              "  'Trabecular Thickening': 'o'},\n",
              " {'Nodule': 'o',\n",
              "  'Mass': 'o',\n",
              "  'Calcification': 'o',\n",
              "  'Asymmetry': 'r',\n",
              "  'Architectural Distortion': 'x',\n",
              "  'Skin Thickening': 'x',\n",
              "  'Lymph Node Enlargement': 'x',\n",
              "  'Intramammary Lymph Node': 'x',\n",
              "  'Nipple Retraction': 'x',\n",
              "  'Skin Retraction': 'x',\n",
              "  'Trabecular Thickening': 'x'},\n",
              " {'Nodule': 'r',\n",
              "  'Mass': 'l',\n",
              "  'Calcification': 'x',\n",
              "  'Asymmetry': 'x',\n",
              "  'Architectural Distortion': 'x',\n",
              "  'Skin Thickening': 'x',\n",
              "  'Lymph Node Enlargement': 'x',\n",
              "  'Intramammary Lymph Node': 'x',\n",
              "  'Nipple Retraction': 'l',\n",
              "  'Skin Retraction': 'l',\n",
              "  'Trabecular Thickening': 'x'},\n",
              " {'Nodule': 'o',\n",
              "  'Mass': 'o',\n",
              "  'Calcification': 'o',\n",
              "  'Asymmetry': 'r',\n",
              "  'Architectural Distortion': 'l',\n",
              "  'Skin Thickening': 'o',\n",
              "  'Lymph Node Enlargement': 'o',\n",
              "  'Intramammary Lymph Node': 'o',\n",
              "  'Nipple Retraction': 'o',\n",
              "  'Skin Retraction': 'o',\n",
              "  'Trabecular Thickening': 'o'},\n",
              " {'Nodule': 'l',\n",
              "  'Mass': 'l',\n",
              "  'Calcification': 'r',\n",
              "  'Asymmetry': 'o',\n",
              "  'Architectural Distortion': 'x',\n",
              "  'Skin Thickening': 'b',\n",
              "  'Lymph Node Enlargement': 'x',\n",
              "  'Intramammary Lymph Node': 'x',\n",
              "  'Nipple Retraction': 'x',\n",
              "  'Skin Retraction': 'b',\n",
              "  'Trabecular Thickening': 'x'},\n",
              " {'Nodule': 'l',\n",
              "  'Mass': 'l',\n",
              "  'Calcification': 'l',\n",
              "  'Asymmetry': 'o',\n",
              "  'Architectural Distortion': 'o',\n",
              "  'Skin Thickening': 'o',\n",
              "  'Lymph Node Enlargement': 'o',\n",
              "  'Intramammary Lymph Node': 'o',\n",
              "  'Nipple Retraction': 'o',\n",
              "  'Skin Retraction': 'o',\n",
              "  'Trabecular Thickening': 'o'},\n",
              " {'Nodule': 'o',\n",
              "  'Mass': 'l',\n",
              "  'Calcification': 'x',\n",
              "  'Asymmetry': 'o',\n",
              "  'Architectural Distortion': 'o',\n",
              "  'Skin Thickening': 'l',\n",
              "  'Lymph Node Enlargement': 'o',\n",
              "  'Intramammary Lymph Node': 'o',\n",
              "  'Nipple Retraction': 'o',\n",
              "  'Skin Retraction': 'l',\n",
              "  'Trabecular Thickening': 'o'},\n",
              " {'Nodule': 'o',\n",
              "  'Mass': 'l',\n",
              "  'Calcification': 'x',\n",
              "  'Asymmetry': 'x',\n",
              "  'Architectural Distortion': 'x',\n",
              "  'Skin Thickening': 'x',\n",
              "  'Lymph Node Enlargement': 'x',\n",
              "  'Intramammary Lymph Node': 'x',\n",
              "  'Nipple Retraction': 'x',\n",
              "  'Skin Retraction': 'x',\n",
              "  'Trabecular Thickening': 'x'},\n",
              " {'Nodule': 'o',\n",
              "  'Mass': 'o',\n",
              "  'Calcification': 'o',\n",
              "  'Asymmetry': 'o',\n",
              "  'Architectural Distortion': 'o',\n",
              "  'Skin Thickening': 'o',\n",
              "  'Lymph Node Enlargement': 'o',\n",
              "  'Intramammary Lymph Node': 'o',\n",
              "  'Nipple Retraction': 'o',\n",
              "  'Skin Retraction': 'o',\n",
              "  'Trabecular Thickening': 'o'},\n",
              " {'Nodule': 'o',\n",
              "  'Mass': 'o',\n",
              "  'Calcification': 'o',\n",
              "  'Asymmetry': 'o',\n",
              "  'Architectural Distortion': 'o',\n",
              "  'Skin Thickening': 'o',\n",
              "  'Lymph Node Enlargement': 'o',\n",
              "  'Intramammary Lymph Node': 'o',\n",
              "  'Nipple Retraction': 'o',\n",
              "  'Skin Retraction': 'o',\n",
              "  'Trabecular Thickening': 'o'},\n",
              " {'Nodule': 'b',\n",
              "  'Mass': 'b',\n",
              "  'Calcification': 'r',\n",
              "  'Asymmetry': 'r',\n",
              "  'Architectural Distortion': 'r',\n",
              "  'Skin Thickening': 'r',\n",
              "  'Lymph Node Enlargement': 'x',\n",
              "  'Intramammary Lymph Node': 'x',\n",
              "  'Nipple Retraction': 'x',\n",
              "  'Skin Retraction': 'x',\n",
              "  'Trabecular Thickening': 'x'},\n",
              " {'Nodule': 'l',\n",
              "  'Mass': 'l',\n",
              "  'Calcification': 'l',\n",
              "  'Asymmetry': 'l',\n",
              "  'Architectural Distortion': 'l',\n",
              "  'Skin Thickening': 'l',\n",
              "  'Lymph Node Enlargement': 'l',\n",
              "  'Intramammary Lymph Node': 'l',\n",
              "  'Nipple Retraction': 'l',\n",
              "  'Skin Retraction': 'l',\n",
              "  'Trabecular Thickening': 'l'},\n",
              " {'Nodule': 'o',\n",
              "  'Mass': 'r',\n",
              "  'Calcification': 'x',\n",
              "  'Asymmetry': 'o',\n",
              "  'Architectural Distortion': 'r',\n",
              "  'Skin Thickening': 'x',\n",
              "  'Lymph Node Enlargement': 'x',\n",
              "  'Intramammary Lymph Node': 'x',\n",
              "  'Nipple Retraction': 'x',\n",
              "  'Skin Retraction': 'x',\n",
              "  'Trabecular Thickening': 'x'},\n",
              " {'Nodule': 'o',\n",
              "  'Mass': 'o',\n",
              "  'Calcification': 'o',\n",
              "  'Asymmetry': 'l',\n",
              "  'Architectural Distortion': 'x',\n",
              "  'Skin Thickening': 'x',\n",
              "  'Lymph Node Enlargement': 'x',\n",
              "  'Intramammary Lymph Node': 'x',\n",
              "  'Nipple Retraction': 'x',\n",
              "  'Skin Retraction': 'x',\n",
              "  'Trabecular Thickening': 'x'},\n",
              " {'Nodule': 'o',\n",
              "  'Mass': 'l',\n",
              "  'Calcification': 'x',\n",
              "  'Asymmetry': 'x',\n",
              "  'Architectural Distortion': 'x',\n",
              "  'Skin Thickening': 'x',\n",
              "  'Lymph Node Enlargement': 'x',\n",
              "  'Intramammary Lymph Node': 'x',\n",
              "  'Nipple Retraction': 'x',\n",
              "  'Skin Retraction': 'x',\n",
              "  'Trabecular Thickening': 'x'},\n",
              " {'Nodule': 'o',\n",
              "  'Mass': 'o',\n",
              "  'Calcification': 'o',\n",
              "  'Asymmetry': 'o',\n",
              "  'Architectural Distortion': 'o',\n",
              "  'Skin Thickening': 'o',\n",
              "  'Lymph Node Enlargement': 'o',\n",
              "  'Intramammary Lymph Node': 'o',\n",
              "  'Nipple Retraction': 'o',\n",
              "  'Skin Retraction': 'o',\n",
              "  'Trabecular Thickening': 'o'},\n",
              " {'Nodule': 'o',\n",
              "  'Mass': 'b',\n",
              "  'Calcification': 'r',\n",
              "  'Asymmetry': 'l',\n",
              "  'Architectural Distortion': 'x',\n",
              "  'Skin Thickening': 'r',\n",
              "  'Lymph Node Enlargement': 'x',\n",
              "  'Intramammary Lymph Node': 'x',\n",
              "  'Nipple Retraction': 'x',\n",
              "  'Skin Retraction': 'r',\n",
              "  'Trabecular Thickening': 'r'},\n",
              " {'Nodule': 'o',\n",
              "  'Mass': 'o',\n",
              "  'Calcification': 'o',\n",
              "  'Asymmetry': 'o',\n",
              "  'Architectural Distortion': 'o',\n",
              "  'Skin Thickening': 'r',\n",
              "  'Lymph Node Enlargement': 'o',\n",
              "  'Intramammary Lymph Node': 'o',\n",
              "  'Nipple Retraction': 'o',\n",
              "  'Skin Retraction': 'r',\n",
              "  'Trabecular Thickening': 'r'},\n",
              " {'Nodule': 'o',\n",
              "  'Mass': 'l',\n",
              "  'Calcification': 'x',\n",
              "  'Asymmetry': 'x',\n",
              "  'Architectural Distortion': 'x',\n",
              "  'Skin Thickening': 'x',\n",
              "  'Lymph Node Enlargement': 'r',\n",
              "  'Intramammary Lymph Node': 'r',\n",
              "  'Nipple Retraction': 'x',\n",
              "  'Skin Retraction': 'x',\n",
              "  'Trabecular Thickening': 'x'},\n",
              " {'Nodule': 'o',\n",
              "  'Mass': 'o',\n",
              "  'Calcification': 'o',\n",
              "  'Asymmetry': 'o',\n",
              "  'Architectural Distortion': 'o',\n",
              "  'Skin Thickening': 'o',\n",
              "  'Lymph Node Enlargement': 'o',\n",
              "  'Intramammary Lymph Node': 'o',\n",
              "  'Nipple Retraction': 'o',\n",
              "  'Skin Retraction': 'o',\n",
              "  'Trabecular Thickening': 'o'},\n",
              " {'Nodule': 'o',\n",
              "  'Mass': 'o',\n",
              "  'Calcification': 'o',\n",
              "  'Asymmetry': 'r',\n",
              "  'Architectural Distortion': 'x',\n",
              "  'Skin Thickening': 'x',\n",
              "  'Lymph Node Enlargement': 'x',\n",
              "  'Intramammary Lymph Node': 'x',\n",
              "  'Nipple Retraction': 'x',\n",
              "  'Skin Retraction': 'x',\n",
              "  'Trabecular Thickening': 'x'},\n",
              " {'Nodule': 'o',\n",
              "  'Mass': 'o',\n",
              "  'Calcification': 'o',\n",
              "  'Asymmetry': 'o',\n",
              "  'Architectural Distortion': 'o',\n",
              "  'Skin Thickening': 'b',\n",
              "  'Lymph Node Enlargement': 'o',\n",
              "  'Intramammary Lymph Node': 'o',\n",
              "  'Nipple Retraction': 'o',\n",
              "  'Skin Retraction': 'o',\n",
              "  'Trabecular Thickening': 'b'},\n",
              " {'Nodule': 'r',\n",
              "  'Mass': 'r',\n",
              "  'Calcification': 'x',\n",
              "  'Asymmetry': 'r',\n",
              "  'Architectural Distortion': 'x',\n",
              "  'Skin Thickening': 'r',\n",
              "  'Lymph Node Enlargement': 'x',\n",
              "  'Intramammary Lymph Node': 'x',\n",
              "  'Nipple Retraction': 'r',\n",
              "  'Skin Retraction': 'r',\n",
              "  'Trabecular Thickening': 'x'},\n",
              " {'Nodule': 'o',\n",
              "  'Mass': 'r',\n",
              "  'Calcification': 'b',\n",
              "  'Asymmetry': 'x',\n",
              "  'Architectural Distortion': 'x',\n",
              "  'Skin Thickening': 'x',\n",
              "  'Lymph Node Enlargement': 'x',\n",
              "  'Intramammary Lymph Node': 'x',\n",
              "  'Nipple Retraction': 'x',\n",
              "  'Skin Retraction': 'x',\n",
              "  'Trabecular Thickening': 'x'},\n",
              " {'Nodule': 'r',\n",
              "  'Mass': 'r',\n",
              "  'Calcification': 'x',\n",
              "  'Asymmetry': 'x',\n",
              "  'Architectural Distortion': 'x',\n",
              "  'Skin Thickening': 'x',\n",
              "  'Lymph Node Enlargement': 'x',\n",
              "  'Intramammary Lymph Node': 'x',\n",
              "  'Nipple Retraction': 'x',\n",
              "  'Skin Retraction': 'x',\n",
              "  'Trabecular Thickening': 'x'},\n",
              " {'Nodule': 'o',\n",
              "  'Mass': 'r',\n",
              "  'Calcification': 'r',\n",
              "  'Asymmetry': 'x',\n",
              "  'Architectural Distortion': 'x',\n",
              "  'Skin Thickening': 'x',\n",
              "  'Lymph Node Enlargement': 'x',\n",
              "  'Intramammary Lymph Node': 'x',\n",
              "  'Nipple Retraction': 'x',\n",
              "  'Skin Retraction': 'x',\n",
              "  'Trabecular Thickening': 'x'},\n",
              " {'Nodule': 'o',\n",
              "  'Mass': 'l',\n",
              "  'Calcification': 'x',\n",
              "  'Asymmetry': 'r',\n",
              "  'Architectural Distortion': 'x',\n",
              "  'Skin Thickening': 'x',\n",
              "  'Lymph Node Enlargement': 'x',\n",
              "  'Intramammary Lymph Node': 'x',\n",
              "  'Nipple Retraction': 'x',\n",
              "  'Skin Retraction': 'x',\n",
              "  'Trabecular Thickening': 'x'},\n",
              " {'Nodule': 'o',\n",
              "  'Mass': 'l',\n",
              "  'Calcification': 'r',\n",
              "  'Asymmetry': 'o',\n",
              "  'Architectural Distortion': 'o',\n",
              "  'Skin Thickening': 'o',\n",
              "  'Lymph Node Enlargement': 'o',\n",
              "  'Intramammary Lymph Node': 'o',\n",
              "  'Nipple Retraction': 'o',\n",
              "  'Skin Retraction': 'o',\n",
              "  'Trabecular Thickening': 'o'},\n",
              " {'Nodule': 'l',\n",
              "  'Mass': 'l',\n",
              "  'Calcification': 'r',\n",
              "  'Asymmetry': 'l',\n",
              "  'Architectural Distortion': 'l',\n",
              "  'Skin Thickening': 'l',\n",
              "  'Lymph Node Enlargement': 'x',\n",
              "  'Intramammary Lymph Node': 'x',\n",
              "  'Nipple Retraction': 'l',\n",
              "  'Skin Retraction': 'l',\n",
              "  'Trabecular Thickening': 'l'},\n",
              " {'Nodule': 'o',\n",
              "  'Mass': 'o',\n",
              "  'Calcification': 'o',\n",
              "  'Asymmetry': 'o',\n",
              "  'Architectural Distortion': 'o',\n",
              "  'Skin Thickening': 'o',\n",
              "  'Lymph Node Enlargement': 'o',\n",
              "  'Intramammary Lymph Node': 'o',\n",
              "  'Nipple Retraction': 'o',\n",
              "  'Skin Retraction': 'o',\n",
              "  'Trabecular Thickening': 'o'},\n",
              " {'Nodule': 'o',\n",
              "  'Mass': 'o',\n",
              "  'Calcification': 'o',\n",
              "  'Asymmetry': 'o',\n",
              "  'Architectural Distortion': 'r',\n",
              "  'Skin Thickening': 'o',\n",
              "  'Lymph Node Enlargement': 'o',\n",
              "  'Intramammary Lymph Node': 'o',\n",
              "  'Nipple Retraction': 'o',\n",
              "  'Skin Retraction': 'o',\n",
              "  'Trabecular Thickening': 'o'},\n",
              " {'Nodule': 'o',\n",
              "  'Mass': 'o',\n",
              "  'Calcification': 'o',\n",
              "  'Asymmetry': 'o',\n",
              "  'Architectural Distortion': 'o',\n",
              "  'Skin Thickening': 'o',\n",
              "  'Lymph Node Enlargement': 'o',\n",
              "  'Intramammary Lymph Node': 'o',\n",
              "  'Nipple Retraction': 'o',\n",
              "  'Skin Retraction': 'o',\n",
              "  'Trabecular Thickening': 'o'},\n",
              " {'Nodule': 'b',\n",
              "  'Mass': 'l',\n",
              "  'Calcification': 'b',\n",
              "  'Asymmetry': 'o',\n",
              "  'Architectural Distortion': 'o',\n",
              "  'Skin Thickening': 'o',\n",
              "  'Lymph Node Enlargement': 'o',\n",
              "  'Intramammary Lymph Node': 'o',\n",
              "  'Nipple Retraction': 'o',\n",
              "  'Skin Retraction': 'o',\n",
              "  'Trabecular Thickening': 'o'},\n",
              " {'Nodule': 'l',\n",
              "  'Mass': 'l',\n",
              "  'Calcification': 'x',\n",
              "  'Asymmetry': 'x',\n",
              "  'Architectural Distortion': 'x',\n",
              "  'Skin Thickening': 'x',\n",
              "  'Lymph Node Enlargement': 'x',\n",
              "  'Intramammary Lymph Node': 'x',\n",
              "  'Nipple Retraction': 'x',\n",
              "  'Skin Retraction': 'x',\n",
              "  'Trabecular Thickening': 'x'},\n",
              " {'Nodule': 'o',\n",
              "  'Mass': 'l',\n",
              "  'Calcification': 'x',\n",
              "  'Asymmetry': 'x',\n",
              "  'Architectural Distortion': 'x',\n",
              "  'Skin Thickening': 'x',\n",
              "  'Lymph Node Enlargement': 'x',\n",
              "  'Intramammary Lymph Node': 'x',\n",
              "  'Nipple Retraction': 'x',\n",
              "  'Skin Retraction': 'x',\n",
              "  'Trabecular Thickening': 'x'},\n",
              " {'Nodule': 'r',\n",
              "  'Mass': 'r',\n",
              "  'Calcification': 'x',\n",
              "  'Asymmetry': 'r',\n",
              "  'Architectural Distortion': 'x',\n",
              "  'Skin Thickening': 'x',\n",
              "  'Lymph Node Enlargement': 'x',\n",
              "  'Intramammary Lymph Node': 'x',\n",
              "  'Nipple Retraction': 'x',\n",
              "  'Skin Retraction': 'x',\n",
              "  'Trabecular Thickening': 'x'},\n",
              " {'Nodule': 'r',\n",
              "  'Mass': 'r',\n",
              "  'Calcification': 'r',\n",
              "  'Asymmetry': 'l',\n",
              "  'Architectural Distortion': 'l',\n",
              "  'Skin Thickening': 'b',\n",
              "  'Lymph Node Enlargement': 'x',\n",
              "  'Intramammary Lymph Node': 'x',\n",
              "  'Nipple Retraction': 'r',\n",
              "  'Skin Retraction': 'r',\n",
              "  'Trabecular Thickening': 'x'},\n",
              " {'Nodule': 'r',\n",
              "  'Mass': 'r',\n",
              "  'Calcification': 'r',\n",
              "  'Asymmetry': 'r',\n",
              "  'Architectural Distortion': 'r',\n",
              "  'Skin Thickening': 'r',\n",
              "  'Lymph Node Enlargement': 'r',\n",
              "  'Intramammary Lymph Node': 'r',\n",
              "  'Nipple Retraction': 'r',\n",
              "  'Skin Retraction': 'r',\n",
              "  'Trabecular Thickening': 'r'},\n",
              " {'Nodule': 'l',\n",
              "  'Mass': 'l',\n",
              "  'Calcification': 'r',\n",
              "  'Asymmetry': 'l',\n",
              "  'Architectural Distortion': 'l',\n",
              "  'Skin Thickening': 'l',\n",
              "  'Lymph Node Enlargement': 'l',\n",
              "  'Intramammary Lymph Node': 'l',\n",
              "  'Nipple Retraction': 'l',\n",
              "  'Skin Retraction': 'l',\n",
              "  'Trabecular Thickening': 'r'},\n",
              " {'Nodule': 'o',\n",
              "  'Mass': 'l',\n",
              "  'Calcification': 'x',\n",
              "  'Asymmetry': 'x',\n",
              "  'Architectural Distortion': 'x',\n",
              "  'Skin Thickening': 'x',\n",
              "  'Lymph Node Enlargement': 'x',\n",
              "  'Intramammary Lymph Node': 'x',\n",
              "  'Nipple Retraction': 'x',\n",
              "  'Skin Retraction': 'x',\n",
              "  'Trabecular Thickening': 'x'},\n",
              " {'Nodule': 'o',\n",
              "  'Mass': 'b',\n",
              "  'Calcification': 'x',\n",
              "  'Asymmetry': 'l',\n",
              "  'Architectural Distortion': 'x',\n",
              "  'Skin Thickening': 'x',\n",
              "  'Lymph Node Enlargement': 'x',\n",
              "  'Intramammary Lymph Node': 'x',\n",
              "  'Nipple Retraction': 'x',\n",
              "  'Skin Retraction': 'x',\n",
              "  'Trabecular Thickening': 'x'},\n",
              " {'Nodule': 'o',\n",
              "  'Mass': 'o',\n",
              "  'Calcification': 'b',\n",
              "  'Asymmetry': 'l',\n",
              "  'Architectural Distortion': 'x',\n",
              "  'Skin Thickening': 'l',\n",
              "  'Lymph Node Enlargement': 'x',\n",
              "  'Intramammary Lymph Node': 'x',\n",
              "  'Nipple Retraction': 'x',\n",
              "  'Skin Retraction': 'l',\n",
              "  'Trabecular Thickening': 'l'},\n",
              " {'Nodule': 'r',\n",
              "  'Mass': 'r',\n",
              "  'Calcification': 'r',\n",
              "  'Asymmetry': 'r',\n",
              "  'Architectural Distortion': 'r',\n",
              "  'Skin Thickening': 'x',\n",
              "  'Lymph Node Enlargement': 'x',\n",
              "  'Intramammary Lymph Node': 'x',\n",
              "  'Nipple Retraction': 'x',\n",
              "  'Skin Retraction': 'x',\n",
              "  'Trabecular Thickening': 'x'},\n",
              " {'Nodule': 'o',\n",
              "  'Mass': 'l',\n",
              "  'Calcification': 'x',\n",
              "  'Asymmetry': 'x',\n",
              "  'Architectural Distortion': 'x',\n",
              "  'Skin Thickening': 'x',\n",
              "  'Lymph Node Enlargement': 'x',\n",
              "  'Intramammary Lymph Node': 'x',\n",
              "  'Nipple Retraction': 'x',\n",
              "  'Skin Retraction': 'x',\n",
              "  'Trabecular Thickening': 'x'},\n",
              " {'Nodule': 'l',\n",
              "  'Mass': 'l',\n",
              "  'Calcification': 'r',\n",
              "  'Asymmetry': 'r',\n",
              "  'Architectural Distortion': 'x',\n",
              "  'Skin Thickening': 'x',\n",
              "  'Lymph Node Enlargement': 'x',\n",
              "  'Intramammary Lymph Node': 'x',\n",
              "  'Nipple Retraction': 'x',\n",
              "  'Skin Retraction': 'x',\n",
              "  'Trabecular Thickening': 'x'},\n",
              " {'Nodule': 'o',\n",
              "  'Mass': 'l',\n",
              "  'Calcification': 'x',\n",
              "  'Asymmetry': 'o',\n",
              "  'Architectural Distortion': 'o',\n",
              "  'Skin Thickening': 'l',\n",
              "  'Lymph Node Enlargement': 'x',\n",
              "  'Intramammary Lymph Node': 'x',\n",
              "  'Nipple Retraction': 'x',\n",
              "  'Skin Retraction': 'l',\n",
              "  'Trabecular Thickening': 'l'},\n",
              " {'Nodule': 'l',\n",
              "  'Mass': 'l',\n",
              "  'Calcification': 'r',\n",
              "  'Asymmetry': 'o',\n",
              "  'Architectural Distortion': 'x',\n",
              "  'Skin Thickening': 'b',\n",
              "  'Lymph Node Enlargement': 'x',\n",
              "  'Intramammary Lymph Node': 'x',\n",
              "  'Nipple Retraction': 'x',\n",
              "  'Skin Retraction': 'b',\n",
              "  'Trabecular Thickening': 'x'},\n",
              " {'Nodule': 'o',\n",
              "  'Mass': 'l',\n",
              "  'Calcification': 'b',\n",
              "  'Asymmetry': 'o',\n",
              "  'Architectural Distortion': 'o',\n",
              "  'Skin Thickening': 'b',\n",
              "  'Lymph Node Enlargement': 'o',\n",
              "  'Intramammary Lymph Node': 'o',\n",
              "  'Nipple Retraction': 'o',\n",
              "  'Skin Retraction': 'b',\n",
              "  'Trabecular Thickening': 'b'},\n",
              " {'Nodule': 'o',\n",
              "  'Mass': 'l',\n",
              "  'Calcification': 'x',\n",
              "  'Asymmetry': 'x',\n",
              "  'Architectural Distortion': 'x',\n",
              "  'Skin Thickening': 'x',\n",
              "  'Lymph Node Enlargement': 'x',\n",
              "  'Intramammary Lymph Node': 'x',\n",
              "  'Nipple Retraction': 'x',\n",
              "  'Skin Retraction': 'x',\n",
              "  'Trabecular Thickening': 'x'},\n",
              " {'Nodule': 'o',\n",
              "  'Mass': 'o',\n",
              "  'Calcification': 'b',\n",
              "  'Asymmetry': 'o',\n",
              "  'Architectural Distortion': 'o',\n",
              "  'Skin Thickening': 'b',\n",
              "  'Lymph Node Enlargement': 'o',\n",
              "  'Intramammary Lymph Node': 'o',\n",
              "  'Nipple Retraction': 'o',\n",
              "  'Skin Retraction': 'o',\n",
              "  'Trabecular Thickening': 'b'},\n",
              " {'Nodule': 'o',\n",
              "  'Mass': 'r',\n",
              "  'Calcification': 'l',\n",
              "  'Asymmetry': 'x',\n",
              "  'Architectural Distortion': 'x',\n",
              "  'Skin Thickening': 'x',\n",
              "  'Lymph Node Enlargement': 'x',\n",
              "  'Intramammary Lymph Node': 'x',\n",
              "  'Nipple Retraction': 'x',\n",
              "  'Skin Retraction': 'x',\n",
              "  'Trabecular Thickening': 'x'},\n",
              " {'Nodule': 'o',\n",
              "  'Mass': 'o',\n",
              "  'Calcification': 'o',\n",
              "  'Asymmetry': 'o',\n",
              "  'Architectural Distortion': 'o',\n",
              "  'Skin Thickening': 'o',\n",
              "  'Lymph Node Enlargement': 'o',\n",
              "  'Intramammary Lymph Node': 'o',\n",
              "  'Nipple Retraction': 'o',\n",
              "  'Skin Retraction': 'o',\n",
              "  'Trabecular Thickening': 'o'},\n",
              " {'Nodule': 'r',\n",
              "  'Mass': 'r',\n",
              "  'Calcification': 'r',\n",
              "  'Asymmetry': 'o',\n",
              "  'Architectural Distortion': 'r',\n",
              "  'Skin Thickening': 'o',\n",
              "  'Lymph Node Enlargement': 'o',\n",
              "  'Intramammary Lymph Node': 'o',\n",
              "  'Nipple Retraction': 'o',\n",
              "  'Skin Retraction': 'o',\n",
              "  'Trabecular Thickening': 'o'},\n",
              " {'Nodule': 'o',\n",
              "  'Mass': 'o',\n",
              "  'Calcification': 'o',\n",
              "  'Asymmetry': 'o',\n",
              "  'Architectural Distortion': 'l',\n",
              "  'Skin Thickening': 'o',\n",
              "  'Lymph Node Enlargement': 'o',\n",
              "  'Intramammary Lymph Node': 'o',\n",
              "  'Nipple Retraction': 'l',\n",
              "  'Skin Retraction': 'l',\n",
              "  'Trabecular Thickening': 'o'},\n",
              " {'Nodule': 'o',\n",
              "  'Mass': 'l',\n",
              "  'Calcification': 'x',\n",
              "  'Asymmetry': 'x',\n",
              "  'Architectural Distortion': 'x',\n",
              "  'Skin Thickening': 'x',\n",
              "  'Lymph Node Enlargement': 'x',\n",
              "  'Intramammary Lymph Node': 'x',\n",
              "  'Nipple Retraction': 'x',\n",
              "  'Skin Retraction': 'x',\n",
              "  'Trabecular Thickening': 'x'},\n",
              " {'Nodule': 'o',\n",
              "  'Mass': 'o',\n",
              "  'Calcification': 'o',\n",
              "  'Asymmetry': 'o',\n",
              "  'Architectural Distortion': 'o',\n",
              "  'Skin Thickening': 'r',\n",
              "  'Lymph Node Enlargement': 'o',\n",
              "  'Intramammary Lymph Node': 'o',\n",
              "  'Nipple Retraction': 'o',\n",
              "  'Skin Retraction': 'r',\n",
              "  'Trabecular Thickening': 'r'},\n",
              " {'Nodule': 'r',\n",
              "  'Mass': 'x',\n",
              "  'Calcification': 'x',\n",
              "  'Asymmetry': 'r',\n",
              "  'Architectural Distortion': 'x',\n",
              "  'Skin Thickening': 'x',\n",
              "  'Lymph Node Enlargement': 'r',\n",
              "  'Intramammary Lymph Node': 'r',\n",
              "  'Nipple Retraction': 'x',\n",
              "  'Skin Retraction': 'x',\n",
              "  'Trabecular Thickening': 'x'},\n",
              " {'Nodule': 'x',\n",
              "  'Mass': 'x',\n",
              "  'Calcification': 'r',\n",
              "  'Asymmetry': 'l',\n",
              "  'Architectural Distortion': 'x',\n",
              "  'Skin Thickening': 'x',\n",
              "  'Lymph Node Enlargement': 'x',\n",
              "  'Intramammary Lymph Node': 'x',\n",
              "  'Nipple Retraction': 'x',\n",
              "  'Skin Retraction': 'x',\n",
              "  'Trabecular Thickening': 'x'}]"
            ]
          },
          "execution_count": 59,
          "metadata": {},
          "output_type": "execute_result"
        }
      ],
      "source": [
        "labels"
      ]
    },
    {
      "cell_type": "code",
      "execution_count": null,
      "metadata": {},
      "outputs": [],
      "source": []
    }
  ],
  "metadata": {
    "accelerator": "GPU",
    "colab": {
      "gpuType": "T4",
      "machine_shape": "hm",
      "provenance": []
    },
    "kernelspec": {
      "display_name": "Python 3",
      "name": "python3"
    },
    "language_info": {
      "codemirror_mode": {
        "name": "ipython",
        "version": 3
      },
      "file_extension": ".py",
      "mimetype": "text/x-python",
      "name": "python",
      "nbconvert_exporter": "python",
      "pygments_lexer": "ipython3",
      "version": "3.10.8"
    },
    "widgets": {
      "application/vnd.jupyter.widget-state+json": {
        "0a91d94890634dc1bb43176347c27fec": {
          "model_module": "@jupyter-widgets/base",
          "model_module_version": "1.2.0",
          "model_name": "LayoutModel",
          "state": {
            "_model_module": "@jupyter-widgets/base",
            "_model_module_version": "1.2.0",
            "_model_name": "LayoutModel",
            "_view_count": null,
            "_view_module": "@jupyter-widgets/base",
            "_view_module_version": "1.2.0",
            "_view_name": "LayoutView",
            "align_content": null,
            "align_items": null,
            "align_self": null,
            "border": null,
            "bottom": null,
            "display": null,
            "flex": null,
            "flex_flow": null,
            "grid_area": null,
            "grid_auto_columns": null,
            "grid_auto_flow": null,
            "grid_auto_rows": null,
            "grid_column": null,
            "grid_gap": null,
            "grid_row": null,
            "grid_template_areas": null,
            "grid_template_columns": null,
            "grid_template_rows": null,
            "height": null,
            "justify_content": null,
            "justify_items": null,
            "left": null,
            "margin": null,
            "max_height": null,
            "max_width": null,
            "min_height": null,
            "min_width": null,
            "object_fit": null,
            "object_position": null,
            "order": null,
            "overflow": null,
            "overflow_x": null,
            "overflow_y": null,
            "padding": null,
            "right": null,
            "top": null,
            "visibility": null,
            "width": null
          }
        },
        "278070bfaaac4794a649f11306ad2947": {
          "model_module": "@jupyter-widgets/controls",
          "model_module_version": "1.5.0",
          "model_name": "HBoxModel",
          "state": {
            "_dom_classes": [],
            "_model_module": "@jupyter-widgets/controls",
            "_model_module_version": "1.5.0",
            "_model_name": "HBoxModel",
            "_view_count": null,
            "_view_module": "@jupyter-widgets/controls",
            "_view_module_version": "1.5.0",
            "_view_name": "HBoxView",
            "box_style": "",
            "children": [
              "IPY_MODEL_5391d6d2385549319099d3bf653c34ee",
              "IPY_MODEL_ee696f00718b43989f653dd01391a87d",
              "IPY_MODEL_e39e4f5284224bfdbde4359d8593d206"
            ],
            "layout": "IPY_MODEL_0a91d94890634dc1bb43176347c27fec"
          }
        },
        "3473e65596d5455385269f59e6159e38": {
          "model_module": "@jupyter-widgets/controls",
          "model_module_version": "1.5.0",
          "model_name": "DescriptionStyleModel",
          "state": {
            "_model_module": "@jupyter-widgets/controls",
            "_model_module_version": "1.5.0",
            "_model_name": "DescriptionStyleModel",
            "_view_count": null,
            "_view_module": "@jupyter-widgets/base",
            "_view_module_version": "1.2.0",
            "_view_name": "StyleView",
            "description_width": ""
          }
        },
        "388757e992344b06b2fc7e4573eba77d": {
          "model_module": "@jupyter-widgets/controls",
          "model_module_version": "1.5.0",
          "model_name": "ProgressStyleModel",
          "state": {
            "_model_module": "@jupyter-widgets/controls",
            "_model_module_version": "1.5.0",
            "_model_name": "ProgressStyleModel",
            "_view_count": null,
            "_view_module": "@jupyter-widgets/base",
            "_view_module_version": "1.2.0",
            "_view_name": "StyleView",
            "bar_color": null,
            "description_width": ""
          }
        },
        "416d78e5558f4019972720c8d52a410b": {
          "model_module": "@jupyter-widgets/base",
          "model_module_version": "1.2.0",
          "model_name": "LayoutModel",
          "state": {
            "_model_module": "@jupyter-widgets/base",
            "_model_module_version": "1.2.0",
            "_model_name": "LayoutModel",
            "_view_count": null,
            "_view_module": "@jupyter-widgets/base",
            "_view_module_version": "1.2.0",
            "_view_name": "LayoutView",
            "align_content": null,
            "align_items": null,
            "align_self": null,
            "border": null,
            "bottom": null,
            "display": null,
            "flex": null,
            "flex_flow": null,
            "grid_area": null,
            "grid_auto_columns": null,
            "grid_auto_flow": null,
            "grid_auto_rows": null,
            "grid_column": null,
            "grid_gap": null,
            "grid_row": null,
            "grid_template_areas": null,
            "grid_template_columns": null,
            "grid_template_rows": null,
            "height": null,
            "justify_content": null,
            "justify_items": null,
            "left": null,
            "margin": null,
            "max_height": null,
            "max_width": null,
            "min_height": null,
            "min_width": null,
            "object_fit": null,
            "object_position": null,
            "order": null,
            "overflow": null,
            "overflow_x": null,
            "overflow_y": null,
            "padding": null,
            "right": null,
            "top": null,
            "visibility": null,
            "width": null
          }
        },
        "5391d6d2385549319099d3bf653c34ee": {
          "model_module": "@jupyter-widgets/controls",
          "model_module_version": "1.5.0",
          "model_name": "HTMLModel",
          "state": {
            "_dom_classes": [],
            "_model_module": "@jupyter-widgets/controls",
            "_model_module_version": "1.5.0",
            "_model_name": "HTMLModel",
            "_view_count": null,
            "_view_module": "@jupyter-widgets/controls",
            "_view_module_version": "1.5.0",
            "_view_name": "HTMLView",
            "description": "",
            "description_tooltip": null,
            "layout": "IPY_MODEL_ec9d84f9337948cba5562b7e995bb2ef",
            "placeholder": "​",
            "style": "IPY_MODEL_3473e65596d5455385269f59e6159e38",
            "value": "100%"
          }
        },
        "664f6a3720a446929197650580dd005d": {
          "model_module": "@jupyter-widgets/base",
          "model_module_version": "1.2.0",
          "model_name": "LayoutModel",
          "state": {
            "_model_module": "@jupyter-widgets/base",
            "_model_module_version": "1.2.0",
            "_model_name": "LayoutModel",
            "_view_count": null,
            "_view_module": "@jupyter-widgets/base",
            "_view_module_version": "1.2.0",
            "_view_name": "LayoutView",
            "align_content": null,
            "align_items": null,
            "align_self": null,
            "border": null,
            "bottom": null,
            "display": null,
            "flex": null,
            "flex_flow": null,
            "grid_area": null,
            "grid_auto_columns": null,
            "grid_auto_flow": null,
            "grid_auto_rows": null,
            "grid_column": null,
            "grid_gap": null,
            "grid_row": null,
            "grid_template_areas": null,
            "grid_template_columns": null,
            "grid_template_rows": null,
            "height": null,
            "justify_content": null,
            "justify_items": null,
            "left": null,
            "margin": null,
            "max_height": null,
            "max_width": null,
            "min_height": null,
            "min_width": null,
            "object_fit": null,
            "object_position": null,
            "order": null,
            "overflow": null,
            "overflow_x": null,
            "overflow_y": null,
            "padding": null,
            "right": null,
            "top": null,
            "visibility": null,
            "width": null
          }
        },
        "92e0594143bd4c2690dc3ddaa0170b17": {
          "model_module": "@jupyter-widgets/controls",
          "model_module_version": "1.5.0",
          "model_name": "DescriptionStyleModel",
          "state": {
            "_model_module": "@jupyter-widgets/controls",
            "_model_module_version": "1.5.0",
            "_model_name": "DescriptionStyleModel",
            "_view_count": null,
            "_view_module": "@jupyter-widgets/base",
            "_view_module_version": "1.2.0",
            "_view_name": "StyleView",
            "description_width": ""
          }
        },
        "e39e4f5284224bfdbde4359d8593d206": {
          "model_module": "@jupyter-widgets/controls",
          "model_module_version": "1.5.0",
          "model_name": "HTMLModel",
          "state": {
            "_dom_classes": [],
            "_model_module": "@jupyter-widgets/controls",
            "_model_module_version": "1.5.0",
            "_model_name": "HTMLModel",
            "_view_count": null,
            "_view_module": "@jupyter-widgets/controls",
            "_view_module_version": "1.5.0",
            "_view_name": "HTMLView",
            "description": "",
            "description_tooltip": null,
            "layout": "IPY_MODEL_664f6a3720a446929197650580dd005d",
            "placeholder": "​",
            "style": "IPY_MODEL_92e0594143bd4c2690dc3ddaa0170b17",
            "value": " 1/1 [00:00&lt;00:00,  9.41it/s]"
          }
        },
        "ec9d84f9337948cba5562b7e995bb2ef": {
          "model_module": "@jupyter-widgets/base",
          "model_module_version": "1.2.0",
          "model_name": "LayoutModel",
          "state": {
            "_model_module": "@jupyter-widgets/base",
            "_model_module_version": "1.2.0",
            "_model_name": "LayoutModel",
            "_view_count": null,
            "_view_module": "@jupyter-widgets/base",
            "_view_module_version": "1.2.0",
            "_view_name": "LayoutView",
            "align_content": null,
            "align_items": null,
            "align_self": null,
            "border": null,
            "bottom": null,
            "display": null,
            "flex": null,
            "flex_flow": null,
            "grid_area": null,
            "grid_auto_columns": null,
            "grid_auto_flow": null,
            "grid_auto_rows": null,
            "grid_column": null,
            "grid_gap": null,
            "grid_row": null,
            "grid_template_areas": null,
            "grid_template_columns": null,
            "grid_template_rows": null,
            "height": null,
            "justify_content": null,
            "justify_items": null,
            "left": null,
            "margin": null,
            "max_height": null,
            "max_width": null,
            "min_height": null,
            "min_width": null,
            "object_fit": null,
            "object_position": null,
            "order": null,
            "overflow": null,
            "overflow_x": null,
            "overflow_y": null,
            "padding": null,
            "right": null,
            "top": null,
            "visibility": null,
            "width": null
          }
        },
        "ee696f00718b43989f653dd01391a87d": {
          "model_module": "@jupyter-widgets/controls",
          "model_module_version": "1.5.0",
          "model_name": "FloatProgressModel",
          "state": {
            "_dom_classes": [],
            "_model_module": "@jupyter-widgets/controls",
            "_model_module_version": "1.5.0",
            "_model_name": "FloatProgressModel",
            "_view_count": null,
            "_view_module": "@jupyter-widgets/controls",
            "_view_module_version": "1.5.0",
            "_view_name": "ProgressView",
            "bar_style": "success",
            "description": "",
            "description_tooltip": null,
            "layout": "IPY_MODEL_416d78e5558f4019972720c8d52a410b",
            "max": 1,
            "min": 0,
            "orientation": "horizontal",
            "style": "IPY_MODEL_388757e992344b06b2fc7e4573eba77d",
            "value": 1
          }
        }
      }
    }
  },
  "nbformat": 4,
  "nbformat_minor": 0
}
