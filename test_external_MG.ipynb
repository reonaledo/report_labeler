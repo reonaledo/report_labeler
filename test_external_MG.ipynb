{
 "cells": [
  {
   "cell_type": "code",
   "execution_count": 1,
   "metadata": {},
   "outputs": [],
   "source": [
    "import pandas as pd\n",
    "from sklearn.metrics import f1_score\n",
    "import numpy as np"
   ]
  },
  {
   "cell_type": "code",
   "execution_count": 2,
   "metadata": {},
   "outputs": [],
   "source": [
    "def get_each_f1(true, pred):\n",
    "    label = ['r','l','b','o','x']\n",
    "    f1 = []\n",
    "    for l in label:\n",
    "        f1.append(f1_score(true==l, pred==l, zero_division=np.nan, average='binary'))\n",
    "\n",
    "    return f1"
   ]
  },
  {
   "cell_type": "code",
   "execution_count": 3,
   "metadata": {},
   "outputs": [],
   "source": [
    "# path = \"/home/workspace/inference_result/v2.2_7b_r8-CDDCESM.xlsx\"\n",
    "# path = \"/home/workspace/inference_result/v2.2_30b_r2-CDDCESM.xlsx\"\n",
    "# path = \"/home/workspace/inference_result/v2.2_30b_r1kqvo-CDDCESM.xlsx\"\n",
    "# path = \"/home/workspace/inference_result/v2.2_13b_r8-CDDCESM.xlsx\"\n",
    "# path = \"/home/workspace/inference_result/v2.2_30b_r4kqvo-CDDCESM.xlsx\"\n",
    "# path = \"/home/workspace/inference_result/v2.2_13b_r1kqvo-CDDCESM.xlsx\"\n",
    "# path = \"/home/workspace/inference_result/v2.2_13b_r2-CDDCESM.xlsx\"\n",
    "# path = \"/home/workspace/inference_result/v2.2_30b_r16-CDDCESM.xlsx\"\n",
    "# path = \"/home/workspace/inference_result/v2.2_30b_r8-CDDCESM.xlsx\"\n",
    "# ==================================\n",
    "### v3\n",
    "# path = \"/home/workspace/inference_result/v3.0_13b_r1kqvo-CDDCESM.xlsx\"\n",
    "# path = \"/home/workspace/inference_result/v3.0_13b_r1kqvo-CDDCESM_FULLPROMPT.xlsx\"\n",
    "# path = \"/home/workspace/inference_result/v3.0_13b_r2-CDDCESM_FULLPROMPT.xlsx\"\n",
    "\n",
    "### v3 wo CESM, fixed\n",
    "# path = \"/home/workspace/inference_result/v3.0_13b_r1kqvo-CDDCESM_FULLPROMPT_fixed.xlsx\"\n",
    "# path = \"/home/workspace/inference_result/v3.0_13b_r2-CDDCESM_FULLPROMPT_fixed.xlsx\"\n",
    "# path = \"/home/workspace/inference_result/v3.0_30b_r2-CDDCESM_FULLPROMPT_fixed.xlsx\"\n",
    "# path = \"/home/workspace/inference_result/v3.0_30b_r16-CDDCESM_fixed.xlsx\"\n",
    "# path = \"/home/workspace/inference_result/v3.0_7b_r8-CDDCESM_FULLPROMPT_fixed.xlsx\"\n",
    "# path = \"/home/workspace/inference_result/v3.0_13b_r8-CDDCESM_FULLPROMPT_fixed.xlsx\"\n",
    "# path = \"/home/workspace/inference_result/v3.0_30b_r1kqvo-CDDCESM_FULLPROMPT_fixed.xlsx\"\n",
    "# path = \"/home/workspace/inference_result/v3.0_30b_r4kqvo-CDDCESM_fixed.xlsx\"\n",
    "# path = \"/home/workspace/inference_result/v3.0_30b_r8-CDDCESM_FULLPROMPT_fixed.xlsx\"\n",
    "# path = \"/home/workspace/inference_result/v3.0_7b_r1kqvo-CDDCESM_FULLPROMPT_fixed.xlsx\"\n",
    "\n",
    "### v3 wo CESM, fixed1.2\n",
    "# path = \"/home/workspace/inference_result/v3.0_30b_r2-CDDCESM_FULLPROMPT_fixed1.2.xlsx\"\n",
    "# path = \"/home/workspace/inference_result/v3.0_30b_r2-CDDCESM_fixed1.2-checkpoint76.xlsx\"\n",
    "# path = \"/home/workspace/inference_result/v3.0_30b_r2-CDDCESM_fixed1.2-checkpoint156.xlsx\"\n",
    "# path = \"/home/workspace/inference_result/v3.0_30b_r2-CDDCESM_fixed1.2-checkpoint212.xlsx\"\n",
    "\n",
    "# path = \"/home/workspace/inference_result/v3.0_13b_r1kqvo-CDDCESM_FULLPROMPT_fixed1.2.xlsx\"\n",
    "\n",
    "### v3.2 wo CESM, fixed1.2\n",
    "# path = \"/home/workspace/inference_result/v3.2_30b_r2-CDDCESM_fixed1.2-checkpoint52.xlsx\"\n",
    "# path = \"/home/workspace/inference_result/v3.2_30b_r2-CDDCESM_fixed1.2-checkpoint100.xlsx\"\n",
    "# path = \"/home/workspace/inference_result/v3.2_30b_r2-CDDCESM_fixed1.2-checkpoint152.xlsx\"\n",
    "# path = \"/home/workspace/inference_result/v3.2_30b_r2-CDDCESM_fixed1.2-checkpoint212.xlsx\"\n",
    "# path = \"/home/workspace/inference_result/v3.2_30b_r2-CDDCESM_fixed1.2.xlsx\" ## 268\n",
    "\n",
    "# path = \"/home/workspace/inference_result/v3.2_30b_r1-CDDCESM_fixed1.2_2048.xlsx\" \n",
    "# path = \"/home/workspace/inference_result/v3.2_30b_r1_cutoff512-CDDCESM_fixed1.2_512_new70.xlsx\" \n",
    "\n",
    "# path = \"/home/workspace/inference_result/v3.2_30b_r1all_bz8-CDDCESM_fixed1.2.xlsx\" \n",
    "# path = \"/home/workspace/inference_result/v3.2_30b_r1all_bz8-CDDCESM_fixed1.2-checkpoint580.xlsx\" \n",
    "# path = \"/home/workspace/inference_result/v3.2_30b_r1_cutoff512_bs8-CDDCESM_fixed1.2.xlsx\" \n",
    "\n",
    "# path = \"/home/workspace/inference_result/v3.2_13b_r1-CDDCESM_fixed1.2.xlsx\" \n",
    "# path = \"/home/workspace/inference_result/v3.2_13b_r1kqvo-CDDCESM_fixed1.2.xlsx\" \n",
    "# path = \"/home/workspace/inference_result/v3.2_13b_r1all_bs8-CDDCESM_fixed1.2.xlsx\" \n",
    "# path = \"/home/workspace/inference_result/v3.2_13b_r1all_bs4.xlsx\" \n",
    "# path = \"/home/workspace/inference_result/v3.2_30b_r2all_bz8-CDDCESM_fixed1.2.xlsx\" \n",
    "# path = \"/home/workspace/inference_result/v3.2_13b_r2all_bs8-CDDCESM_fixed1.2.xlsx\" \n",
    "# path = \"/home/workspace/inference_result/v3.2_30b_r4all_bz8-CDDCESM_fixed1.3.xlsx\" \n",
    "# path = \"/home/workspace/inference_result/v3.2_30b_r2all_bz16-CDDCESM_fixed1.3.xlsx\"\n",
    " \n",
    "# path = \"/home/workspace/inference_result/v3.2_7b_r2all_bs8-CDDCESM_fixed1.3.xlsx\" \n",
    "# path = \"/home/workspace/inference_result/v3.2_13b_r2all_bs8-CDDCESM_fixed1.3.xlsx\"\n",
    "# path = \"/home/workspace/inference_result/v3.2_30b_r2all_bz8-CDDCESM_fixed1.3.xlsx\"\n",
    "# path = \"/home/workspace/inference_result/v3.2_65b_r2all_bs8-CDDCESM_fixed1.3.xlsx\" \n",
    "\n",
    "\n",
    "\n",
    "### FeW-SHOT\n",
    "# path = \"/home/workspace/inference_result/llama-13b_shot3-CDDCESM_fixed1.3.xlsx\"\n",
    "# path = \"/home/workspace/inference_result/llama-30b_shot3-CDDCESM_fixed1.3.xlsx\"\n",
    "# path = \"/home/workspace/inference_result/llama-13b_NSHOT3-CDDCESM_fixed1.3.xlsx\"\n",
    "# path = \"/home/workspace/inference_result/llama-13b_NSHOT10-CDDCESM_fixed1.3.xlsx\"\n",
    "# path = \"/home/workspace/inference_result/llama-30b_NSHOT3-CDDCESM_fixed1.3.xlsx\"\n",
    "# path = \"/home/workspace/inference_result/llama-65b_NSHOT3-CDDCESM_fixed1.3.xlsx\"\n",
    "# path = \"/home/workspace/inference_result/llama-30b_NSHOT10-CDDCESM_fixed1.3.xlsx\"\n",
    "# path = \"/home/workspace/inference_result/llama-65b_NSHOT10-CDDCESM_fixed1.3.xlsx\"\n",
    "\n",
    "# path = \"/home/workspace/inference_result/Llama-2-70b-hf_NSHOT3-CDDCESM_fixed1.3.xlsx\"\n",
    "# path = \"/home/workspace/inference_result/Llama-2-70b-hf_NSHOT10-CDDCESM_fixed1.3.xlsx\"\n",
    "# path = \"/home/workspace/inference_result/Llama-2-70b-hf_NSHOT3-CDDCESM_fixed1.3_add_hereis.xlsx\"\n",
    "\n",
    "\n",
    "# path = \"/home/workspace/inference_result/meditron-70b_NSHOT10-CDDCESM_fixed1.3.xlsx\"\n",
    "# path = \"/home/workspace/inference_result/llama-65b_NSHOT3-CDDCESM_fixed1.3.xlsx\"\n",
    "path = \"/home/workspace/inference_result/llama-65b_NSHOT0-CDDCESM_fixed1.3.xlsx\"\n",
    "\n",
    "\n",
    "inference_result = pd.read_excel(path)"
   ]
  },
  {
   "cell_type": "code",
   "execution_count": 4,
   "metadata": {},
   "outputs": [],
   "source": [
    "# true = inference_result.iloc[:,2:14].fillna('x')\n",
    "# true.drop('SDD', axis=1, inplace=True)\n",
    "# true = pd.read_excel('/home/data/CDD-CESM/CDD-CESM_reports_w_label_wo_CESM_fixed1.3.xlsx').iloc[:,2:13].fillna('x')\n",
    "true = pd.read_excel('/home/data/CDD-CESM/CDD-CESM_reports_w_label_wo_CESM_fixed2.0.xlsx').iloc[:,2:13].fillna('x')\n",
    "pred = inference_result.iloc[:,15:].fillna('x')\n",
    "\n",
    "pred.columns =true.columns"
   ]
  },
  {
   "cell_type": "code",
   "execution_count": 5,
   "metadata": {},
   "outputs": [
    {
     "data": {
      "text/html": [
       "<div>\n",
       "<style scoped>\n",
       "    .dataframe tbody tr th:only-of-type {\n",
       "        vertical-align: middle;\n",
       "    }\n",
       "\n",
       "    .dataframe tbody tr th {\n",
       "        vertical-align: top;\n",
       "    }\n",
       "\n",
       "    .dataframe thead th {\n",
       "        text-align: right;\n",
       "    }\n",
       "</style>\n",
       "<table border=\"1\" class=\"dataframe\">\n",
       "  <thead>\n",
       "    <tr style=\"text-align: right;\">\n",
       "      <th></th>\n",
       "      <th>N</th>\n",
       "      <th>M</th>\n",
       "      <th>C</th>\n",
       "      <th>A</th>\n",
       "      <th>AD</th>\n",
       "      <th>ST</th>\n",
       "      <th>LNE</th>\n",
       "      <th>ILN</th>\n",
       "      <th>NR</th>\n",
       "      <th>SR</th>\n",
       "      <th>TT</th>\n",
       "    </tr>\n",
       "  </thead>\n",
       "  <tbody>\n",
       "    <tr>\n",
       "      <th>0</th>\n",
       "      <td>x</td>\n",
       "      <td>x</td>\n",
       "      <td>x</td>\n",
       "      <td>x</td>\n",
       "      <td>l</td>\n",
       "      <td>x</td>\n",
       "      <td>x</td>\n",
       "      <td>x</td>\n",
       "      <td>x</td>\n",
       "      <td>x</td>\n",
       "      <td>x</td>\n",
       "    </tr>\n",
       "    <tr>\n",
       "      <th>1</th>\n",
       "      <td>x</td>\n",
       "      <td>r</td>\n",
       "      <td>r</td>\n",
       "      <td>x</td>\n",
       "      <td>x</td>\n",
       "      <td>x</td>\n",
       "      <td>x</td>\n",
       "      <td>x</td>\n",
       "      <td>x</td>\n",
       "      <td>x</td>\n",
       "      <td>x</td>\n",
       "    </tr>\n",
       "    <tr>\n",
       "      <th>2</th>\n",
       "      <td>x</td>\n",
       "      <td>l</td>\n",
       "      <td>x</td>\n",
       "      <td>x</td>\n",
       "      <td>x</td>\n",
       "      <td>x</td>\n",
       "      <td>x</td>\n",
       "      <td>x</td>\n",
       "      <td>x</td>\n",
       "      <td>x</td>\n",
       "      <td>x</td>\n",
       "    </tr>\n",
       "    <tr>\n",
       "      <th>3</th>\n",
       "      <td>x</td>\n",
       "      <td>x</td>\n",
       "      <td>x</td>\n",
       "      <td>x</td>\n",
       "      <td>x</td>\n",
       "      <td>x</td>\n",
       "      <td>x</td>\n",
       "      <td>x</td>\n",
       "      <td>x</td>\n",
       "      <td>x</td>\n",
       "      <td>x</td>\n",
       "    </tr>\n",
       "    <tr>\n",
       "      <th>4</th>\n",
       "      <td>x</td>\n",
       "      <td>x</td>\n",
       "      <td>x</td>\n",
       "      <td>x</td>\n",
       "      <td>x</td>\n",
       "      <td>x</td>\n",
       "      <td>x</td>\n",
       "      <td>x</td>\n",
       "      <td>x</td>\n",
       "      <td>x</td>\n",
       "      <td>x</td>\n",
       "    </tr>\n",
       "    <tr>\n",
       "      <th>...</th>\n",
       "      <td>...</td>\n",
       "      <td>...</td>\n",
       "      <td>...</td>\n",
       "      <td>...</td>\n",
       "      <td>...</td>\n",
       "      <td>...</td>\n",
       "      <td>...</td>\n",
       "      <td>...</td>\n",
       "      <td>...</td>\n",
       "      <td>...</td>\n",
       "      <td>...</td>\n",
       "    </tr>\n",
       "    <tr>\n",
       "      <th>321</th>\n",
       "      <td>x</td>\n",
       "      <td>x</td>\n",
       "      <td>x</td>\n",
       "      <td>x</td>\n",
       "      <td>l</td>\n",
       "      <td>x</td>\n",
       "      <td>x</td>\n",
       "      <td>x</td>\n",
       "      <td>l</td>\n",
       "      <td>x</td>\n",
       "      <td>x</td>\n",
       "    </tr>\n",
       "    <tr>\n",
       "      <th>322</th>\n",
       "      <td>x</td>\n",
       "      <td>l</td>\n",
       "      <td>x</td>\n",
       "      <td>x</td>\n",
       "      <td>x</td>\n",
       "      <td>x</td>\n",
       "      <td>x</td>\n",
       "      <td>x</td>\n",
       "      <td>x</td>\n",
       "      <td>x</td>\n",
       "      <td>x</td>\n",
       "    </tr>\n",
       "    <tr>\n",
       "      <th>323</th>\n",
       "      <td>x</td>\n",
       "      <td>x</td>\n",
       "      <td>x</td>\n",
       "      <td>x</td>\n",
       "      <td>x</td>\n",
       "      <td>r</td>\n",
       "      <td>x</td>\n",
       "      <td>x</td>\n",
       "      <td>x</td>\n",
       "      <td>x</td>\n",
       "      <td>r</td>\n",
       "    </tr>\n",
       "    <tr>\n",
       "      <th>324</th>\n",
       "      <td>r</td>\n",
       "      <td>x</td>\n",
       "      <td>x</td>\n",
       "      <td>r</td>\n",
       "      <td>x</td>\n",
       "      <td>x</td>\n",
       "      <td>x</td>\n",
       "      <td>r</td>\n",
       "      <td>x</td>\n",
       "      <td>x</td>\n",
       "      <td>x</td>\n",
       "    </tr>\n",
       "    <tr>\n",
       "      <th>325</th>\n",
       "      <td>x</td>\n",
       "      <td>x</td>\n",
       "      <td>r</td>\n",
       "      <td>l</td>\n",
       "      <td>x</td>\n",
       "      <td>x</td>\n",
       "      <td>x</td>\n",
       "      <td>x</td>\n",
       "      <td>x</td>\n",
       "      <td>x</td>\n",
       "      <td>x</td>\n",
       "    </tr>\n",
       "  </tbody>\n",
       "</table>\n",
       "<p>326 rows × 11 columns</p>\n",
       "</div>"
      ],
      "text/plain": [
       "     N  M  C  A AD ST LNE ILN NR SR TT\n",
       "0    x  x  x  x  l  x   x   x  x  x  x\n",
       "1    x  r  r  x  x  x   x   x  x  x  x\n",
       "2    x  l  x  x  x  x   x   x  x  x  x\n",
       "3    x  x  x  x  x  x   x   x  x  x  x\n",
       "4    x  x  x  x  x  x   x   x  x  x  x\n",
       "..  .. .. .. .. .. ..  ..  .. .. .. ..\n",
       "321  x  x  x  x  l  x   x   x  l  x  x\n",
       "322  x  l  x  x  x  x   x   x  x  x  x\n",
       "323  x  x  x  x  x  r   x   x  x  x  r\n",
       "324  r  x  x  r  x  x   x   r  x  x  x\n",
       "325  x  x  r  l  x  x   x   x  x  x  x\n",
       "\n",
       "[326 rows x 11 columns]"
      ]
     },
     "execution_count": 5,
     "metadata": {},
     "output_type": "execute_result"
    }
   ],
   "source": [
    "true"
   ]
  },
  {
   "cell_type": "code",
   "execution_count": 6,
   "metadata": {},
   "outputs": [
    {
     "data": {
      "text/html": [
       "<div>\n",
       "<style scoped>\n",
       "    .dataframe tbody tr th:only-of-type {\n",
       "        vertical-align: middle;\n",
       "    }\n",
       "\n",
       "    .dataframe tbody tr th {\n",
       "        vertical-align: top;\n",
       "    }\n",
       "\n",
       "    .dataframe thead th {\n",
       "        text-align: right;\n",
       "    }\n",
       "</style>\n",
       "<table border=\"1\" class=\"dataframe\">\n",
       "  <thead>\n",
       "    <tr style=\"text-align: right;\">\n",
       "      <th></th>\n",
       "      <th>N</th>\n",
       "      <th>M</th>\n",
       "      <th>C</th>\n",
       "      <th>A</th>\n",
       "      <th>AD</th>\n",
       "      <th>ST</th>\n",
       "      <th>LNE</th>\n",
       "      <th>ILN</th>\n",
       "      <th>NR</th>\n",
       "      <th>SR</th>\n",
       "      <th>TT</th>\n",
       "    </tr>\n",
       "  </thead>\n",
       "  <tbody>\n",
       "    <tr>\n",
       "      <th>0</th>\n",
       "      <td>x</td>\n",
       "      <td>x</td>\n",
       "      <td>x</td>\n",
       "      <td>x</td>\n",
       "      <td>l</td>\n",
       "      <td>x</td>\n",
       "      <td>x</td>\n",
       "      <td>x</td>\n",
       "      <td>x</td>\n",
       "      <td>x</td>\n",
       "      <td>x</td>\n",
       "    </tr>\n",
       "    <tr>\n",
       "      <th>1</th>\n",
       "      <td>o</td>\n",
       "      <td>b</td>\n",
       "      <td>r</td>\n",
       "      <td>o</td>\n",
       "      <td>o</td>\n",
       "      <td>o</td>\n",
       "      <td>o</td>\n",
       "      <td>o</td>\n",
       "      <td>o</td>\n",
       "      <td>o</td>\n",
       "      <td>o</td>\n",
       "    </tr>\n",
       "    <tr>\n",
       "      <th>2</th>\n",
       "      <td>l</td>\n",
       "      <td>l</td>\n",
       "      <td>x</td>\n",
       "      <td>x</td>\n",
       "      <td>x</td>\n",
       "      <td>x</td>\n",
       "      <td>x</td>\n",
       "      <td>x</td>\n",
       "      <td>x</td>\n",
       "      <td>x</td>\n",
       "      <td>x</td>\n",
       "    </tr>\n",
       "    <tr>\n",
       "      <th>3</th>\n",
       "      <td>o</td>\n",
       "      <td>o</td>\n",
       "      <td>o</td>\n",
       "      <td>o</td>\n",
       "      <td>o</td>\n",
       "      <td>o</td>\n",
       "      <td>o</td>\n",
       "      <td>o</td>\n",
       "      <td>o</td>\n",
       "      <td>o</td>\n",
       "      <td>o</td>\n",
       "    </tr>\n",
       "    <tr>\n",
       "      <th>4</th>\n",
       "      <td>o</td>\n",
       "      <td>o</td>\n",
       "      <td>o</td>\n",
       "      <td>o</td>\n",
       "      <td>o</td>\n",
       "      <td>o</td>\n",
       "      <td>o</td>\n",
       "      <td>o</td>\n",
       "      <td>o</td>\n",
       "      <td>o</td>\n",
       "      <td>o</td>\n",
       "    </tr>\n",
       "    <tr>\n",
       "      <th>...</th>\n",
       "      <td>...</td>\n",
       "      <td>...</td>\n",
       "      <td>...</td>\n",
       "      <td>...</td>\n",
       "      <td>...</td>\n",
       "      <td>...</td>\n",
       "      <td>...</td>\n",
       "      <td>...</td>\n",
       "      <td>...</td>\n",
       "      <td>...</td>\n",
       "      <td>...</td>\n",
       "    </tr>\n",
       "    <tr>\n",
       "      <th>321</th>\n",
       "      <td>o</td>\n",
       "      <td>o</td>\n",
       "      <td>o</td>\n",
       "      <td>o</td>\n",
       "      <td>l</td>\n",
       "      <td>o</td>\n",
       "      <td>o</td>\n",
       "      <td>o</td>\n",
       "      <td>l</td>\n",
       "      <td>l</td>\n",
       "      <td>o</td>\n",
       "    </tr>\n",
       "    <tr>\n",
       "      <th>322</th>\n",
       "      <td>o</td>\n",
       "      <td>l</td>\n",
       "      <td>x</td>\n",
       "      <td>x</td>\n",
       "      <td>x</td>\n",
       "      <td>x</td>\n",
       "      <td>x</td>\n",
       "      <td>x</td>\n",
       "      <td>x</td>\n",
       "      <td>x</td>\n",
       "      <td>x</td>\n",
       "    </tr>\n",
       "    <tr>\n",
       "      <th>323</th>\n",
       "      <td>o</td>\n",
       "      <td>o</td>\n",
       "      <td>o</td>\n",
       "      <td>o</td>\n",
       "      <td>o</td>\n",
       "      <td>r</td>\n",
       "      <td>o</td>\n",
       "      <td>o</td>\n",
       "      <td>o</td>\n",
       "      <td>r</td>\n",
       "      <td>r</td>\n",
       "    </tr>\n",
       "    <tr>\n",
       "      <th>324</th>\n",
       "      <td>r</td>\n",
       "      <td>x</td>\n",
       "      <td>x</td>\n",
       "      <td>r</td>\n",
       "      <td>x</td>\n",
       "      <td>x</td>\n",
       "      <td>r</td>\n",
       "      <td>r</td>\n",
       "      <td>x</td>\n",
       "      <td>x</td>\n",
       "      <td>x</td>\n",
       "    </tr>\n",
       "    <tr>\n",
       "      <th>325</th>\n",
       "      <td>x</td>\n",
       "      <td>x</td>\n",
       "      <td>r</td>\n",
       "      <td>l</td>\n",
       "      <td>x</td>\n",
       "      <td>x</td>\n",
       "      <td>x</td>\n",
       "      <td>x</td>\n",
       "      <td>x</td>\n",
       "      <td>x</td>\n",
       "      <td>x</td>\n",
       "    </tr>\n",
       "  </tbody>\n",
       "</table>\n",
       "<p>326 rows × 11 columns</p>\n",
       "</div>"
      ],
      "text/plain": [
       "     N  M  C  A AD ST LNE ILN NR SR TT\n",
       "0    x  x  x  x  l  x   x   x  x  x  x\n",
       "1    o  b  r  o  o  o   o   o  o  o  o\n",
       "2    l  l  x  x  x  x   x   x  x  x  x\n",
       "3    o  o  o  o  o  o   o   o  o  o  o\n",
       "4    o  o  o  o  o  o   o   o  o  o  o\n",
       "..  .. .. .. .. .. ..  ..  .. .. .. ..\n",
       "321  o  o  o  o  l  o   o   o  l  l  o\n",
       "322  o  l  x  x  x  x   x   x  x  x  x\n",
       "323  o  o  o  o  o  r   o   o  o  r  r\n",
       "324  r  x  x  r  x  x   r   r  x  x  x\n",
       "325  x  x  r  l  x  x   x   x  x  x  x\n",
       "\n",
       "[326 rows x 11 columns]"
      ]
     },
     "execution_count": 6,
     "metadata": {},
     "output_type": "execute_result"
    }
   ],
   "source": [
    "pred"
   ]
  },
  {
   "cell_type": "code",
   "execution_count": 7,
   "metadata": {},
   "outputs": [],
   "source": [
    "default_dict = {'N': 'o',\n",
    " 'M': 'o',\n",
    " 'C': 'o',\n",
    " 'A': 'o',\n",
    " 'AD': 'o',\n",
    " 'ST': 'o',\n",
    " 'LNE': 'o',\n",
    " 'ILN': 'o',\n",
    " 'NR': 'o',\n",
    " 'SR': 'o',\n",
    " 'TT': 'o'}"
   ]
  },
  {
   "cell_type": "code",
   "execution_count": 8,
   "metadata": {},
   "outputs": [
    {
     "name": "stdout",
     "output_type": "stream",
     "text": [
      "80\n",
      "[3, 4, 9, 19, 22, 25, 28, 32, 35, 37, 38, 40, 42, 47, 48, 53, 56, 57, 61, 62, 70, 74, 77, 78, 79, 80, 91, 99, 100, 103, 108, 109, 111, 116, 117, 119, 126, 129, 134, 135, 136, 138, 139, 142, 150, 154, 155, 157, 158, 165, 166, 169, 174, 178, 181, 182, 184, 192, 194, 200, 201, 202, 203, 209, 213, 218, 220, 223, 224, 225, 229, 235, 249, 276, 277, 283, 287, 297, 299, 319]\n"
     ]
    }
   ],
   "source": [
    "s = 0\n",
    "drop_idx = []\n",
    "for i in range(len(pred)):\n",
    "    if dict(pred.iloc[i]) == default_dict:\n",
    "        s += 1\n",
    "        drop_idx.append(i)\n",
    "\n",
    "print(s)\n",
    "print(drop_idx)"
   ]
  },
  {
   "cell_type": "code",
   "execution_count": 9,
   "metadata": {},
   "outputs": [],
   "source": [
    "pred = pred.reset_index(drop=True)\n",
    "pred = pred.drop(drop_idx)\n",
    "true = true.drop(drop_idx)"
   ]
  },
  {
   "cell_type": "code",
   "execution_count": 7,
   "metadata": {},
   "outputs": [],
   "source": [
    "import numpy as np\n",
    "import pandas as pd\n",
    "from sklearn.metrics import f1_score\n",
    "from scipy import stats\n",
    "\n",
    "def bootstrap_sample(df_pred, df_true, seed=None):\n",
    "    np.random.seed(seed)\n",
    "    n = len(df_pred)\n",
    "    indices = np.random.choice(n, n, replace=True)\n",
    "    new_pred = df_pred.iloc[indices].reset_index(drop=True)\n",
    "    new_true = df_true.iloc[indices].reset_index(drop=True)\n",
    "    return new_pred, new_true\n",
    "\n",
    "def get_all_f1(true, pred, average):\n",
    "    all_f1 = []\n",
    "    for i in range(len(true.columns)):\n",
    "        all_f1.append(f1_score(true.iloc[:,i], pred.iloc[:,i], average=average))\n",
    "    return all_f1\n",
    "\n",
    "all_f1_scores_weighted = []\n",
    "all_f1_scores_macro = []\n",
    "all_f1_scores_micro = []\n",
    "for i in range(10):\n",
    "    new_pred, new_true = bootstrap_sample(pred, true, seed=i)\n",
    "    f1_weighted = get_all_f1(new_true, new_pred, average='weighted')\n",
    "    f1_macro = get_all_f1(new_true, new_pred, average='macro')\n",
    "    f1_micro = get_all_f1(new_true, new_pred, average='micro')\n",
    "    all_f1_scores_weighted.append(f1_weighted)\n",
    "    all_f1_scores_macro.append(f1_macro)\n",
    "    all_f1_scores_micro.append(f1_micro)\n",
    "\n",
    "def calculate_mean_std(scores_list):\n",
    "    mean_scores = np.mean(scores_list, axis=0)\n",
    "    std_scores = np.std(scores_list, axis=0)\n",
    "    return mean_scores, std_scores\n",
    "\n",
    "def calculate_confidence_interval(scores_list, confidence=0.95):\n",
    "    mean_scores, std_scores = calculate_mean_std(scores_list)\n",
    "    se = std_scores / np.sqrt(len(scores_list))\n",
    "    h = se * stats.t.ppf((1 + confidence) / 2., len(scores_list) - 1)\n",
    "    return mean_scores - h, mean_scores + h\n",
    "\n",
    "# 평균, 표준편차 및 95% 신뢰구간 계산\n",
    "average_f1_weighted, std_f1_weighted = calculate_mean_std(all_f1_scores_weighted)\n",
    "ci_f1_weighted_1, ci_f1_weighted_2 = calculate_confidence_interval(all_f1_scores_weighted)\n",
    "\n",
    "average_f1_macro, std_f1_macro = calculate_mean_std(all_f1_scores_macro)\n",
    "ci_f1_macro_1, ci_f1_macro_2 = calculate_confidence_interval(all_f1_scores_macro)\n",
    "\n",
    "average_f1_micro, std_f1_micro = calculate_mean_std(all_f1_scores_micro)\n",
    "ci_f1_micro_1, ci_f1_micro_2 = calculate_confidence_interval(all_f1_scores_micro)"
   ]
  },
  {
   "cell_type": "code",
   "execution_count": 8,
   "metadata": {},
   "outputs": [],
   "source": [
    "result_df = pd.DataFrame([average_f1_weighted, average_f1_macro, average_f1_micro]).transpose()\n",
    "ci_df = pd.DataFrame([ci_f1_weighted_1, ci_f1_weighted_2, ci_f1_macro_1, ci_f1_macro_2, ci_f1_micro_1, ci_f1_micro_2]).transpose()"
   ]
  },
  {
   "cell_type": "code",
   "execution_count": 9,
   "metadata": {},
   "outputs": [
    {
     "data": {
      "text/html": [
       "<div>\n",
       "<style scoped>\n",
       "    .dataframe tbody tr th:only-of-type {\n",
       "        vertical-align: middle;\n",
       "    }\n",
       "\n",
       "    .dataframe tbody tr th {\n",
       "        vertical-align: top;\n",
       "    }\n",
       "\n",
       "    .dataframe thead th {\n",
       "        text-align: right;\n",
       "    }\n",
       "</style>\n",
       "<table border=\"1\" class=\"dataframe\">\n",
       "  <thead>\n",
       "    <tr style=\"text-align: right;\">\n",
       "      <th></th>\n",
       "      <th>0</th>\n",
       "    </tr>\n",
       "  </thead>\n",
       "  <tbody>\n",
       "    <tr>\n",
       "      <th>0</th>\n",
       "      <td>0.394707</td>\n",
       "    </tr>\n",
       "    <tr>\n",
       "      <th>1</th>\n",
       "      <td>0.395733</td>\n",
       "    </tr>\n",
       "    <tr>\n",
       "      <th>2</th>\n",
       "      <td>0.407880</td>\n",
       "    </tr>\n",
       "    <tr>\n",
       "      <th>3</th>\n",
       "      <td>0.411082</td>\n",
       "    </tr>\n",
       "    <tr>\n",
       "      <th>4</th>\n",
       "      <td>0.434449</td>\n",
       "    </tr>\n",
       "    <tr>\n",
       "      <th>5</th>\n",
       "      <td>0.439603</td>\n",
       "    </tr>\n",
       "    <tr>\n",
       "      <th>6</th>\n",
       "      <td>0.391491</td>\n",
       "    </tr>\n",
       "    <tr>\n",
       "      <th>7</th>\n",
       "      <td>0.431530</td>\n",
       "    </tr>\n",
       "    <tr>\n",
       "      <th>8</th>\n",
       "      <td>0.429737</td>\n",
       "    </tr>\n",
       "    <tr>\n",
       "      <th>9</th>\n",
       "      <td>0.400705</td>\n",
       "    </tr>\n",
       "  </tbody>\n",
       "</table>\n",
       "</div>"
      ],
      "text/plain": [
       "          0\n",
       "0  0.394707\n",
       "1  0.395733\n",
       "2  0.407880\n",
       "3  0.411082\n",
       "4  0.434449\n",
       "5  0.439603\n",
       "6  0.391491\n",
       "7  0.431530\n",
       "8  0.429737\n",
       "9  0.400705"
      ]
     },
     "execution_count": 9,
     "metadata": {},
     "output_type": "execute_result"
    }
   ],
   "source": [
    "average_macro_f1 = [np.mean(f1) for f1 in all_f1_scores_macro]\n",
    "pd.DataFrame(average_macro_f1)"
   ]
  },
  {
   "cell_type": "code",
   "execution_count": 10,
   "metadata": {},
   "outputs": [
    {
     "data": {
      "text/html": [
       "<div>\n",
       "<style scoped>\n",
       "    .dataframe tbody tr th:only-of-type {\n",
       "        vertical-align: middle;\n",
       "    }\n",
       "\n",
       "    .dataframe tbody tr th {\n",
       "        vertical-align: top;\n",
       "    }\n",
       "\n",
       "    .dataframe thead th {\n",
       "        text-align: right;\n",
       "    }\n",
       "</style>\n",
       "<table border=\"1\" class=\"dataframe\">\n",
       "  <thead>\n",
       "    <tr style=\"text-align: right;\">\n",
       "      <th></th>\n",
       "      <th>0</th>\n",
       "      <th>1</th>\n",
       "      <th>2</th>\n",
       "    </tr>\n",
       "  </thead>\n",
       "  <tbody>\n",
       "    <tr>\n",
       "      <th>0</th>\n",
       "      <td>0.078381</td>\n",
       "      <td>0.059390</td>\n",
       "      <td>0.058896</td>\n",
       "    </tr>\n",
       "    <tr>\n",
       "      <th>1</th>\n",
       "      <td>0.492003</td>\n",
       "      <td>0.490125</td>\n",
       "      <td>0.457669</td>\n",
       "    </tr>\n",
       "    <tr>\n",
       "      <th>2</th>\n",
       "      <td>0.644326</td>\n",
       "      <td>0.537416</td>\n",
       "      <td>0.510429</td>\n",
       "    </tr>\n",
       "    <tr>\n",
       "      <th>3</th>\n",
       "      <td>0.643428</td>\n",
       "      <td>0.587850</td>\n",
       "      <td>0.527914</td>\n",
       "    </tr>\n",
       "    <tr>\n",
       "      <th>4</th>\n",
       "      <td>0.740649</td>\n",
       "      <td>0.557193</td>\n",
       "      <td>0.604601</td>\n",
       "    </tr>\n",
       "    <tr>\n",
       "      <th>5</th>\n",
       "      <td>0.693326</td>\n",
       "      <td>0.412086</td>\n",
       "      <td>0.554601</td>\n",
       "    </tr>\n",
       "    <tr>\n",
       "      <th>6</th>\n",
       "      <td>0.688237</td>\n",
       "      <td>0.144659</td>\n",
       "      <td>0.525153</td>\n",
       "    </tr>\n",
       "    <tr>\n",
       "      <th>7</th>\n",
       "      <td>0.707391</td>\n",
       "      <td>0.419822</td>\n",
       "      <td>0.557669</td>\n",
       "    </tr>\n",
       "    <tr>\n",
       "      <th>8</th>\n",
       "      <td>0.736166</td>\n",
       "      <td>0.667233</td>\n",
       "      <td>0.591718</td>\n",
       "    </tr>\n",
       "    <tr>\n",
       "      <th>9</th>\n",
       "      <td>0.660892</td>\n",
       "      <td>0.172066</td>\n",
       "      <td>0.500920</td>\n",
       "    </tr>\n",
       "    <tr>\n",
       "      <th>10</th>\n",
       "      <td>0.732502</td>\n",
       "      <td>0.502766</td>\n",
       "      <td>0.588650</td>\n",
       "    </tr>\n",
       "  </tbody>\n",
       "</table>\n",
       "</div>"
      ],
      "text/plain": [
       "           0         1         2\n",
       "0   0.078381  0.059390  0.058896\n",
       "1   0.492003  0.490125  0.457669\n",
       "2   0.644326  0.537416  0.510429\n",
       "3   0.643428  0.587850  0.527914\n",
       "4   0.740649  0.557193  0.604601\n",
       "5   0.693326  0.412086  0.554601\n",
       "6   0.688237  0.144659  0.525153\n",
       "7   0.707391  0.419822  0.557669\n",
       "8   0.736166  0.667233  0.591718\n",
       "9   0.660892  0.172066  0.500920\n",
       "10  0.732502  0.502766  0.588650"
      ]
     },
     "execution_count": 10,
     "metadata": {},
     "output_type": "execute_result"
    }
   ],
   "source": [
    "result_df"
   ]
  },
  {
   "cell_type": "code",
   "execution_count": 11,
   "metadata": {},
   "outputs": [
    {
     "data": {
      "text/html": [
       "<div>\n",
       "<style scoped>\n",
       "    .dataframe tbody tr th:only-of-type {\n",
       "        vertical-align: middle;\n",
       "    }\n",
       "\n",
       "    .dataframe tbody tr th {\n",
       "        vertical-align: top;\n",
       "    }\n",
       "\n",
       "    .dataframe thead th {\n",
       "        text-align: right;\n",
       "    }\n",
       "</style>\n",
       "<table border=\"1\" class=\"dataframe\">\n",
       "  <thead>\n",
       "    <tr style=\"text-align: right;\">\n",
       "      <th></th>\n",
       "      <th>0</th>\n",
       "      <th>1</th>\n",
       "      <th>2</th>\n",
       "      <th>3</th>\n",
       "      <th>4</th>\n",
       "      <th>5</th>\n",
       "    </tr>\n",
       "  </thead>\n",
       "  <tbody>\n",
       "    <tr>\n",
       "      <th>0</th>\n",
       "      <td>0.067581</td>\n",
       "      <td>0.089182</td>\n",
       "      <td>0.047113</td>\n",
       "      <td>0.071668</td>\n",
       "      <td>0.051833</td>\n",
       "      <td>0.065959</td>\n",
       "    </tr>\n",
       "    <tr>\n",
       "      <th>1</th>\n",
       "      <td>0.482214</td>\n",
       "      <td>0.501793</td>\n",
       "      <td>0.474031</td>\n",
       "      <td>0.506220</td>\n",
       "      <td>0.449529</td>\n",
       "      <td>0.465809</td>\n",
       "    </tr>\n",
       "    <tr>\n",
       "      <th>2</th>\n",
       "      <td>0.632304</td>\n",
       "      <td>0.656349</td>\n",
       "      <td>0.513640</td>\n",
       "      <td>0.561192</td>\n",
       "      <td>0.497778</td>\n",
       "      <td>0.523081</td>\n",
       "    </tr>\n",
       "    <tr>\n",
       "      <th>3</th>\n",
       "      <td>0.633341</td>\n",
       "      <td>0.653514</td>\n",
       "      <td>0.583247</td>\n",
       "      <td>0.592453</td>\n",
       "      <td>0.514916</td>\n",
       "      <td>0.540913</td>\n",
       "    </tr>\n",
       "    <tr>\n",
       "      <th>4</th>\n",
       "      <td>0.727614</td>\n",
       "      <td>0.753684</td>\n",
       "      <td>0.511087</td>\n",
       "      <td>0.603299</td>\n",
       "      <td>0.588433</td>\n",
       "      <td>0.620770</td>\n",
       "    </tr>\n",
       "    <tr>\n",
       "      <th>5</th>\n",
       "      <td>0.678629</td>\n",
       "      <td>0.708023</td>\n",
       "      <td>0.379821</td>\n",
       "      <td>0.444350</td>\n",
       "      <td>0.537695</td>\n",
       "      <td>0.571508</td>\n",
       "    </tr>\n",
       "    <tr>\n",
       "      <th>6</th>\n",
       "      <td>0.671383</td>\n",
       "      <td>0.705092</td>\n",
       "      <td>0.133231</td>\n",
       "      <td>0.156088</td>\n",
       "      <td>0.505729</td>\n",
       "      <td>0.544578</td>\n",
       "    </tr>\n",
       "    <tr>\n",
       "      <th>7</th>\n",
       "      <td>0.692745</td>\n",
       "      <td>0.722038</td>\n",
       "      <td>0.398906</td>\n",
       "      <td>0.440738</td>\n",
       "      <td>0.539956</td>\n",
       "      <td>0.575382</td>\n",
       "    </tr>\n",
       "    <tr>\n",
       "      <th>8</th>\n",
       "      <td>0.720018</td>\n",
       "      <td>0.752314</td>\n",
       "      <td>0.658793</td>\n",
       "      <td>0.675673</td>\n",
       "      <td>0.571885</td>\n",
       "      <td>0.611551</td>\n",
       "    </tr>\n",
       "    <tr>\n",
       "      <th>9</th>\n",
       "      <td>0.641318</td>\n",
       "      <td>0.680465</td>\n",
       "      <td>0.152309</td>\n",
       "      <td>0.191823</td>\n",
       "      <td>0.478757</td>\n",
       "      <td>0.523083</td>\n",
       "    </tr>\n",
       "    <tr>\n",
       "      <th>10</th>\n",
       "      <td>0.719248</td>\n",
       "      <td>0.745755</td>\n",
       "      <td>0.452370</td>\n",
       "      <td>0.553162</td>\n",
       "      <td>0.572158</td>\n",
       "      <td>0.605143</td>\n",
       "    </tr>\n",
       "  </tbody>\n",
       "</table>\n",
       "</div>"
      ],
      "text/plain": [
       "           0         1         2         3         4         5\n",
       "0   0.067581  0.089182  0.047113  0.071668  0.051833  0.065959\n",
       "1   0.482214  0.501793  0.474031  0.506220  0.449529  0.465809\n",
       "2   0.632304  0.656349  0.513640  0.561192  0.497778  0.523081\n",
       "3   0.633341  0.653514  0.583247  0.592453  0.514916  0.540913\n",
       "4   0.727614  0.753684  0.511087  0.603299  0.588433  0.620770\n",
       "5   0.678629  0.708023  0.379821  0.444350  0.537695  0.571508\n",
       "6   0.671383  0.705092  0.133231  0.156088  0.505729  0.544578\n",
       "7   0.692745  0.722038  0.398906  0.440738  0.539956  0.575382\n",
       "8   0.720018  0.752314  0.658793  0.675673  0.571885  0.611551\n",
       "9   0.641318  0.680465  0.152309  0.191823  0.478757  0.523083\n",
       "10  0.719248  0.745755  0.452370  0.553162  0.572158  0.605143"
      ]
     },
     "execution_count": 11,
     "metadata": {},
     "output_type": "execute_result"
    }
   ],
   "source": [
    "ci_df"
   ]
  },
  {
   "cell_type": "code",
   "execution_count": 12,
   "metadata": {},
   "outputs": [
    {
     "name": "stdout",
     "output_type": "stream",
     "text": [
      "0.41369156317980116\n",
      "(0.40117193128623807, 0.42621119507336425)\n"
     ]
    }
   ],
   "source": [
    "average = [np.mean(all_f1_scores_macro[i]) for i in range(10)]\n",
    "print(np.mean(average))\n",
    "print(calculate_confidence_interval(average))"
   ]
  },
  {
   "cell_type": "code",
   "execution_count": 13,
   "metadata": {},
   "outputs": [
    {
     "name": "stdout",
     "output_type": "stream",
     "text": [
      "0.6197546770362641\n",
      "(0.6091493260908523, 0.6303600279816759)\n"
     ]
    }
   ],
   "source": [
    "average = [np.mean(all_f1_scores_weighted[i]) for i in range(10)]\n",
    "print(np.mean(average))\n",
    "print(calculate_confidence_interval(average))"
   ]
  },
  {
   "cell_type": "code",
   "execution_count": null,
   "metadata": {},
   "outputs": [],
   "source": []
  },
  {
   "cell_type": "code",
   "execution_count": 17,
   "metadata": {},
   "outputs": [
    {
     "name": "stdout",
     "output_type": "stream",
     "text": [
      "1.0\n",
      "0.9968771919425427\n",
      "0.9608195220217929\n",
      "1.0\n",
      "1.0\n",
      "0.9679981217398407\n",
      "1.0\n",
      "1.0\n",
      "0.9968542940834707\n",
      "1.0\n",
      "0.9756461048540528\n"
     ]
    }
   ],
   "source": [
    "# weighted f1 score\n",
    "for i in range(len(true.columns)):\n",
    "    print(\n",
    "        # true.columns[i], \n",
    "    f\"{f1_score(true.iloc[:,i], pred.iloc[:,i], average='weighted')}\")\n"
   ]
  },
  {
   "cell_type": "code",
   "execution_count": 18,
   "metadata": {},
   "outputs": [
    {
     "name": "stdout",
     "output_type": "stream",
     "text": [
      "1.0\n",
      "0.9872785829307569\n",
      "0.9064925373134328\n",
      "1.0\n",
      "1.0\n",
      "0.9129229062673322\n",
      "1.0\n",
      "1.0\n",
      "0.981912366560774\n",
      "1.0\n",
      "0.9270978441127694\n"
     ]
    }
   ],
   "source": [
    "# weighted f1 score\n",
    "for i in range(len(true.columns)):\n",
    "    print(\n",
    "        # true.columns[i], \n",
    "    f\"{f1_score(true.iloc[:,i], pred.iloc[:,i], average='macro')}\")\n"
   ]
  },
  {
   "cell_type": "code",
   "execution_count": 19,
   "metadata": {},
   "outputs": [
    {
     "name": "stdout",
     "output_type": "stream",
     "text": [
      "1.0\n",
      "0.9969325153374233\n",
      "0.9601226993865031\n",
      "1.0\n",
      "1.0\n",
      "0.9723926380368099\n",
      "1.0\n",
      "1.0\n",
      "0.9969325153374233\n",
      "1.0\n",
      "0.9785276073619632\n"
     ]
    }
   ],
   "source": [
    "# weighted f1 score\n",
    "for i in range(len(true.columns)):\n",
    "    print(\n",
    "        # true.columns[i], \n",
    "    f\"{f1_score(true.iloc[:,i], pred.iloc[:,i], average='micro')}\")\n"
   ]
  },
  {
   "cell_type": "code",
   "execution_count": 20,
   "metadata": {},
   "outputs": [
    {
     "name": "stdout",
     "output_type": "stream",
     "text": [
      "/home/workspace/inference_result/v3.2_65b_r2all_bs8-CDDCESM_fixed1.3.xlsx\n",
      "N AVG-F1: nan Each-F1: [1.0, 1.0, 1.0, nan, 1.0]\n",
      "M AVG-F1: nan Each-F1: [1.0, 0.9925925925925926, 0.9565217391304348, nan, 1.0]\n",
      "C AVG-F1: nan Each-F1: [0.9866666666666666, 0.8333333333333334, 0.8059701492537313, nan, 1.0]\n",
      "A AVG-F1: nan Each-F1: [1.0, 1.0, nan, nan, 1.0]\n",
      "AD AVG-F1: nan Each-F1: [1.0, 1.0, nan, nan, 1.0]\n",
      "ST AVG-F1: nan Each-F1: [1.0, 0.6666666666666666, 1.0, nan, 0.9850249584026624]\n",
      "LNE AVG-F1: nan Each-F1: [nan, nan, nan, nan, 1.0]\n",
      "ILN AVG-F1: nan Each-F1: [1.0, 1.0, 1.0, nan, 1.0]\n",
      "NR AVG-F1: nan Each-F1: [0.9473684210526316, 1.0, nan, nan, 0.99836867862969]\n",
      "SR AVG-F1: nan Each-F1: [nan, 1.0, nan, nan, 1.0]\n",
      "TT AVG-F1: nan Each-F1: [1.0, 0.72, 1.0, nan, 0.988391376451078]\n"
     ]
    }
   ],
   "source": [
    "print(path)\n",
    "for i in range(len(true.columns)):\n",
    "    print(true.columns[i], \n",
    "    # \"Acc: {:.3f}\".format((true.iloc[:,i] == pred.iloc[:,i]).mean()),\n",
    "    # \"Micro-F1: {:.3f}\".format(f1_score(true.iloc[:,i], pred.iloc[:,i], average='micro')),\n",
    "    # \"Macro-F1: {:.3}\".format(f1_score(true.iloc[:,i], pred.iloc[:,i], average='macro')),\n",
    "    \"AVG-F1: {:.3}\".format(sum(get_each_f1(true.iloc[:,i], pred.iloc[:,i]))/5),\n",
    "    f\"Each-F1: {get_each_f1(true.iloc[:,i], pred.iloc[:,i])}\")\n",
    "\n",
    "# macro"
   ]
  },
  {
   "cell_type": "code",
   "execution_count": 21,
   "metadata": {},
   "outputs": [
    {
     "name": "stdout",
     "output_type": "stream",
     "text": [
      "/home/workspace/inference_result/v3.2_65b_r2all_bs8-CDDCESM_fixed1.3.xlsx\n",
      "N AVG-F1: nan Each-F1: [1.0, 1.0, 1.0, nan, 1.0]\n",
      "M AVG-F1: nan Each-F1: [1.0, 0.9925925925925926, 0.9565217391304348, nan, 1.0]\n",
      "C AVG-F1: nan Each-F1: [0.9866666666666666, 0.8333333333333334, 0.8059701492537313, nan, 1.0]\n",
      "A AVG-F1: nan Each-F1: [1.0, 1.0, nan, nan, 1.0]\n",
      "AD AVG-F1: nan Each-F1: [1.0, 1.0, nan, nan, 1.0]\n",
      "ST AVG-F1: nan Each-F1: [1.0, 0.6666666666666666, 1.0, nan, 0.9850249584026624]\n",
      "LNE AVG-F1: nan Each-F1: [nan, nan, nan, nan, 1.0]\n",
      "ILN AVG-F1: nan Each-F1: [1.0, 1.0, 1.0, nan, 1.0]\n",
      "NR AVG-F1: nan Each-F1: [0.9473684210526316, 1.0, nan, nan, 0.99836867862969]\n",
      "SR AVG-F1: nan Each-F1: [nan, 1.0, nan, nan, 1.0]\n",
      "TT AVG-F1: nan Each-F1: [1.0, 0.72, 1.0, nan, 0.988391376451078]\n"
     ]
    }
   ],
   "source": [
    "print(path)\n",
    "for i in range(len(true.columns)):\n",
    "    print(true.columns[i], \n",
    "    # \"Acc: {:.3f}\".format((true.iloc[:,i] == pred.iloc[:,i]).mean()),\n",
    "    # \"Micro-F1: {:.3f}\".format(f1_score(true.iloc[:,i], pred.iloc[:,i], average='micro')),\n",
    "    # \"Macro-F1: {:.3}\".format(f1_score(true.iloc[:,i], pred.iloc[:,i], average='macro')),\n",
    "    \"AVG-F1: {:.3}\".format(sum(get_each_f1(true.iloc[:,i], pred.iloc[:,i]))/5),\n",
    "    f\"Each-F1: {get_each_f1(true.iloc[:,i], pred.iloc[:,i])}\")\n",
    "\n",
    "# macro"
   ]
  },
  {
   "cell_type": "code",
   "execution_count": 22,
   "metadata": {},
   "outputs": [
    {
     "name": "stdout",
     "output_type": "stream",
     "text": [
      "/home/workspace/inference_result/v3.2_65b_r2all_bs8-CDDCESM_fixed1.3.xlsx\n",
      "N AVG-F1: nan Each-F1: [1.0, 1.0, 1.0, nan, 1.0]\n",
      "M AVG-F1: nan Each-F1: [1.0, 0.9925925925925926, 0.9565217391304348, nan, 1.0]\n",
      "C AVG-F1: nan Each-F1: [0.9866666666666666, 0.8333333333333334, 0.8059701492537313, nan, 1.0]\n",
      "A AVG-F1: nan Each-F1: [1.0, 1.0, nan, nan, 1.0]\n",
      "AD AVG-F1: nan Each-F1: [1.0, 1.0, nan, nan, 1.0]\n",
      "ST AVG-F1: nan Each-F1: [1.0, 0.6666666666666666, 1.0, nan, 0.9850249584026624]\n",
      "LNE AVG-F1: nan Each-F1: [nan, nan, nan, nan, 1.0]\n",
      "ILN AVG-F1: nan Each-F1: [1.0, 1.0, 1.0, nan, 1.0]\n",
      "NR AVG-F1: nan Each-F1: [0.9473684210526316, 1.0, nan, nan, 0.99836867862969]\n",
      "SR AVG-F1: nan Each-F1: [nan, 1.0, nan, nan, 1.0]\n",
      "TT AVG-F1: nan Each-F1: [1.0, 0.72, 1.0, nan, 0.988391376451078]\n"
     ]
    }
   ],
   "source": [
    "print(path)\n",
    "for i in range(len(true.columns)):\n",
    "    print(true.columns[i], \n",
    "    # \"Acc: {:.3f}\".format((true.iloc[:,i] == pred.iloc[:,i]).mean()),\n",
    "    # \"Micro-F1: {:.3f}\".format(f1_score(true.iloc[:,i], pred.iloc[:,i], average='micro')),\n",
    "    # \"Macro-F1: {:.3}\".format(f1_score(true.iloc[:,i], pred.iloc[:,i], average='macro')),\n",
    "    \"AVG-F1: {:.3}\".format(sum(get_each_f1(true.iloc[:,i], pred.iloc[:,i]))/5),\n",
    "    f\"Each-F1: {get_each_f1(true.iloc[:,i], pred.iloc[:,i])}\")\n",
    "\n",
    "# macro"
   ]
  },
  {
   "cell_type": "code",
   "execution_count": 23,
   "metadata": {},
   "outputs": [
    {
     "name": "stdout",
     "output_type": "stream",
     "text": [
      "/home/workspace/inference_result/v3.2_65b_r2all_bs8-CDDCESM_fixed1.3.xlsx\n",
      "N AVG-F1: nan Each-F1: [1.0, 1.0, 1.0, nan, 1.0]\n",
      "M AVG-F1: nan Each-F1: [1.0, 0.9925925925925926, 0.9565217391304348, nan, 1.0]\n",
      "C AVG-F1: nan Each-F1: [0.9866666666666666, 0.8333333333333334, 0.8059701492537313, nan, 1.0]\n",
      "A AVG-F1: nan Each-F1: [1.0, 1.0, nan, nan, 1.0]\n",
      "AD AVG-F1: nan Each-F1: [1.0, 1.0, nan, nan, 1.0]\n",
      "ST AVG-F1: nan Each-F1: [1.0, 0.6666666666666666, 1.0, nan, 0.9850249584026624]\n",
      "LNE AVG-F1: nan Each-F1: [nan, nan, nan, nan, 1.0]\n",
      "ILN AVG-F1: nan Each-F1: [1.0, 1.0, 1.0, nan, 1.0]\n",
      "NR AVG-F1: nan Each-F1: [0.9473684210526316, 1.0, nan, nan, 0.99836867862969]\n",
      "SR AVG-F1: nan Each-F1: [nan, 1.0, nan, nan, 1.0]\n",
      "TT AVG-F1: nan Each-F1: [1.0, 0.72, 1.0, nan, 0.988391376451078]\n"
     ]
    }
   ],
   "source": [
    "print(path)\n",
    "for i in range(len(true.columns)):\n",
    "    print(true.columns[i], \n",
    "    # \"Acc: {:.3f}\".format((true.iloc[:,i] == pred.iloc[:,i]).mean()),\n",
    "    # \"Micro-F1: {:.3f}\".format(f1_score(true.iloc[:,i], pred.iloc[:,i], average='micro')),\n",
    "    # \"Macro-F1: {:.3}\".format(f1_score(true.iloc[:,i], pred.iloc[:,i], average='macro')),\n",
    "    \"AVG-F1: {:.3}\".format(sum(get_each_f1(true.iloc[:,i], pred.iloc[:,i]))/5),\n",
    "    f\"Each-F1: {get_each_f1(true.iloc[:,i], pred.iloc[:,i])}\")\n",
    "\n",
    "# macro"
   ]
  },
  {
   "cell_type": "code",
   "execution_count": 24,
   "metadata": {},
   "outputs": [
    {
     "name": "stdout",
     "output_type": "stream",
     "text": [
      "/home/workspace/inference_result/v3.2_65b_r2all_bs8-CDDCESM_fixed1.3.xlsx\n",
      "N AVG-F1: nan Each-F1: [1.0, 1.0, 1.0, nan, 1.0]\n",
      "M AVG-F1: nan Each-F1: [1.0, 0.9925925925925926, 0.9565217391304348, nan, 1.0]\n",
      "C AVG-F1: nan Each-F1: [0.9866666666666666, 0.8333333333333334, 0.8059701492537313, nan, 1.0]\n",
      "A AVG-F1: nan Each-F1: [1.0, 1.0, nan, nan, 1.0]\n",
      "AD AVG-F1: nan Each-F1: [1.0, 1.0, nan, nan, 1.0]\n",
      "ST AVG-F1: nan Each-F1: [1.0, 0.6666666666666666, 1.0, nan, 0.9850249584026624]\n",
      "LNE AVG-F1: nan Each-F1: [nan, nan, nan, nan, 1.0]\n",
      "ILN AVG-F1: nan Each-F1: [1.0, 1.0, 1.0, nan, 1.0]\n",
      "NR AVG-F1: nan Each-F1: [0.9473684210526316, 1.0, nan, nan, 0.99836867862969]\n",
      "SR AVG-F1: nan Each-F1: [nan, 1.0, nan, nan, 1.0]\n",
      "TT AVG-F1: nan Each-F1: [1.0, 0.72, 1.0, nan, 0.988391376451078]\n"
     ]
    }
   ],
   "source": [
    "print(path)\n",
    "for i in range(len(true.columns)):\n",
    "    print(true.columns[i], \n",
    "    # \"Acc: {:.3f}\".format((true.iloc[:,i] == pred.iloc[:,i]).mean()),\n",
    "    # \"Micro-F1: {:.3f}\".format(f1_score(true.iloc[:,i], pred.iloc[:,i], average='micro')),\n",
    "    # \"Macro-F1: {:.3}\".format(f1_score(true.iloc[:,i], pred.iloc[:,i], average='macro')),\n",
    "    \"AVG-F1: {:.3}\".format(sum(get_each_f1(true.iloc[:,i], pred.iloc[:,i]))/5),\n",
    "    f\"Each-F1: {get_each_f1(true.iloc[:,i], pred.iloc[:,i])}\")\n",
    "\n",
    "# macro"
   ]
  },
  {
   "cell_type": "code",
   "execution_count": 25,
   "metadata": {},
   "outputs": [
    {
     "name": "stdout",
     "output_type": "stream",
     "text": [
      "154\n",
      "182\n",
      "194\n",
      "201\n",
      "277\n",
      "287\n",
      "297\n",
      "[154, 182, 194, 201, 277, 287, 297]\n"
     ]
    }
   ],
   "source": [
    "col='TT'\n",
    "idx = []\n",
    "for i in range(len(true)):\n",
    "    if true.iloc[i][col]!=pred.iloc[i][col]:\n",
    "        print(i)\n",
    "        idx.append(i)\n",
    "print(idx)"
   ]
  },
  {
   "cell_type": "code",
   "execution_count": 26,
   "metadata": {},
   "outputs": [
    {
     "data": {
      "text/plain": [
       "['Right Breast:  No speculated mass lesions or suspicious microcalcifications.  Normal skin thickness and contour of breast.    Left Breast:  Diffuse edematous changes evidenced by increased skin thickness and coarsened trabeculae.  No suspicious microcalcifications.      OPINION:  Right Breast:  Normal breast examination (BIRADS 1).    Left Breast:  Diffuse edematous changes (BIRADS 4).                          ',\n",
       " 'Right Breast:  No speculated mass lesions or suspicious microcalcifications.  Normal skin thickness and contour of breast.    Left Breast:  Diffuse edematous changes evidenced by increased skin thickness and coarsened trabeculae.  No suspicious microcalcifications.      OPINION:  Right Breast:  Normal breast examination (BIRADS 1).    Left Breast:  Diffuse edematous changes (BIRADS 4).                          ',\n",
       " 'Right Breast:  No speculated mass lesions or suspicious microcalcifications.  Normal skin thickness and contour of breast.    Left Breast:  Diffuse edematous changes evidenced by increased skin thickness and coarsened trabeculae.  Central outer benign macrocalcifications are noted.  No suspicious microcalcifications.      OPINION:  Right Breast:  Normal breast examination (BIRADS 1).    Left Breast:  Diffuse edematous changes (BIRADS 4).  Central outer benign macrocalcifications (BIRADS 2).                    ',\n",
       " 'Right Breast:  No speculated mass lesions or suspicious microcalcifications.  Normal skin thickness and contour of breast.    Left Breast:  Diffuse edematous changes evidenced by increased skin thickness and coarsened trabeculae.  Lower central benign macrocalcification is noted.  No suspicious microcalcifications.      OPINION:  Right Breast:  Normal breast examination (BIRADS 1).    Left Breast:  Diffuse edematous changes (BIRADS 4).  Lower central benign macrocalcification (BIRADS 2).                    ',\n",
       " 'Right Breast:  No speculated mass lesions or suspicious microcalcifications.  Normal skin thickness and contour of breast.    Left Breast:  Diffuse edematous changes evidenced by increased skin thickness and coarsened trabeculae.  No suspicious microcalcifications.      OPINION:  Right Breast:  Normal breast examination (BIRADS 1).    Left Breast:  Diffuse edematous changes (BIRADS 4).                      ',\n",
       " 'Right Breast:  No speculated mass lesions or suspicious microcalcifications.  Normal skin thickness and contour of breast.    Left Breast:  Diffuse edematous changes evidenced by increased skin thickness and coarsened trabeculae.  No suspicious microcalcifications.      OPINION:  Right Breast:  Normal breast examination (BIRADS 1).    Left Breast:  Diffuse edematous changes (BIRADS 4).                    ',\n",
       " 'Right Breast:  No speculated mass lesions or suspicious microcalcifications.  Normal skin thickness and contour of breast.    Left Breast:  Diffuse edematous changes evidenced by increased skin thickness and coarsened trabeculae.  No suspicious microcalcifications.      OPINION:  Right Breast:  Normal breast examination (BIRADS 1).    Left Breast:  Diffuse edematous changes (BIRADS 4).                    ']"
      ]
     },
     "execution_count": 26,
     "metadata": {},
     "output_type": "execute_result"
    }
   ],
   "source": [
    "list(inference_result.loc[idx].processed_finding)"
   ]
  },
  {
   "cell_type": "code",
   "execution_count": 27,
   "metadata": {},
   "outputs": [
    {
     "name": "stdout",
     "output_type": "stream",
     "text": [
      "     N  M  C  A AD ST LNE ILN NR SR TT\n",
      "154  x  x  x  x  x  l   x   x  x  x  l\n",
      "182  x  x  x  x  x  l   x   x  x  x  l\n",
      "194  x  x  l  x  x  l   x   x  x  x  l\n",
      "201  x  x  l  x  x  l   x   x  x  x  l\n",
      "277  x  x  x  x  x  l   x   x  x  x  l\n",
      "287  x  x  x  x  x  l   x   x  x  x  l\n",
      "297  x  x  x  x  x  l   x   x  x  x  l\n",
      "     N  M  C  A AD ST LNE ILN NR SR TT\n",
      "154  x  x  x  x  x  x   x   x  x  x  x\n",
      "182  x  x  x  x  x  x   x   x  x  x  x\n",
      "194  x  x  l  x  x  x   x   x  x  x  x\n",
      "201  x  x  l  x  x  x   x   x  x  x  x\n",
      "277  x  x  x  x  x  x   x   x  x  x  x\n",
      "287  x  x  x  x  x  x   x   x  x  x  x\n",
      "297  x  x  x  x  x  x   x   x  x  x  x\n"
     ]
    }
   ],
   "source": [
    "print(true.loc[idx])\n",
    "print(pred.loc[idx])"
   ]
  },
  {
   "cell_type": "code",
   "execution_count": null,
   "metadata": {},
   "outputs": [],
   "source": []
  },
  {
   "cell_type": "code",
   "execution_count": null,
   "metadata": {},
   "outputs": [],
   "source": []
  },
  {
   "cell_type": "code",
   "execution_count": null,
   "metadata": {},
   "outputs": [],
   "source": []
  },
  {
   "attachments": {},
   "cell_type": "markdown",
   "metadata": {},
   "source": [
    "# EDA"
   ]
  },
  {
   "cell_type": "code",
   "execution_count": 28,
   "metadata": {},
   "outputs": [
    {
     "ename": "ModuleNotFoundError",
     "evalue": "No module named 'pandas_profiling'",
     "output_type": "error",
     "traceback": [
      "\u001b[0;31m---------------------------------------------------------------------------\u001b[0m",
      "\u001b[0;31mModuleNotFoundError\u001b[0m                       Traceback (most recent call last)",
      "Cell \u001b[0;32mIn[28], line 1\u001b[0m\n\u001b[0;32m----> 1\u001b[0m \u001b[39mfrom\u001b[39;00m \u001b[39mpandas_profiling\u001b[39;00m \u001b[39mimport\u001b[39;00m ProfileReport\n",
      "\u001b[0;31mModuleNotFoundError\u001b[0m: No module named 'pandas_profiling'"
     ]
    }
   ],
   "source": [
    "from pandas_profiling import ProfileReport"
   ]
  },
  {
   "cell_type": "code",
   "execution_count": null,
   "metadata": {},
   "outputs": [],
   "source": [
    "ProfileReport(true)"
   ]
  },
  {
   "cell_type": "code",
   "execution_count": null,
   "metadata": {},
   "outputs": [],
   "source": [
    "ProfileReport(pred)"
   ]
  },
  {
   "cell_type": "code",
   "execution_count": null,
   "metadata": {},
   "outputs": [],
   "source": [
    "inference_result[pred['ST.1']!='x']"
   ]
  },
  {
   "cell_type": "code",
   "execution_count": null,
   "metadata": {},
   "outputs": [],
   "source": [
    "nr = []\n",
    "for i,f in enumerate(inference_result['processed_finding']):\n",
    "    if 'increased skin thick' in f:\n",
    "      print(i)\n",
    "      nr.append(i)  "
   ]
  },
  {
   "cell_type": "code",
   "execution_count": null,
   "metadata": {},
   "outputs": [],
   "source": [
    "inference_result[pred['ST.1']!='x']['processed_finding'].iloc[0]"
   ]
  },
  {
   "cell_type": "code",
   "execution_count": null,
   "metadata": {},
   "outputs": [],
   "source": [
    "inference_result[pred['ST.1']!='x']['processed_finding'].iloc[2]"
   ]
  },
  {
   "cell_type": "code",
   "execution_count": null,
   "metadata": {},
   "outputs": [],
   "source": []
  },
  {
   "cell_type": "code",
   "execution_count": null,
   "metadata": {},
   "outputs": [],
   "source": []
  },
  {
   "cell_type": "code",
   "execution_count": null,
   "metadata": {},
   "outputs": [],
   "source": []
  },
  {
   "cell_type": "code",
   "execution_count": null,
   "metadata": {},
   "outputs": [
    {
     "data": {
      "text/plain": [
       "N\n",
       "x    317\n",
       "r      5\n",
       "l      3\n",
       "b      1\n",
       "Name: count, dtype: int64"
      ]
     },
     "execution_count": 5,
     "metadata": {},
     "output_type": "execute_result"
    }
   ],
   "source": [
    "true['N'].value_counts()"
   ]
  },
  {
   "cell_type": "code",
   "execution_count": null,
   "metadata": {},
   "outputs": [
    {
     "data": {
      "text/plain": [
       "M\n",
       "x    180\n",
       "r     67\n",
       "l     67\n",
       "b     12\n",
       "Name: count, dtype: int64"
      ]
     },
     "execution_count": 6,
     "metadata": {},
     "output_type": "execute_result"
    }
   ],
   "source": [
    "true['M'].value_counts()"
   ]
  },
  {
   "cell_type": "code",
   "execution_count": null,
   "metadata": {},
   "outputs": [
    {
     "data": {
      "text/plain": [
       "C\n",
       "x    219\n",
       "l     41\n",
       "r     38\n",
       "b     28\n",
       "Name: count, dtype: int64"
      ]
     },
     "execution_count": 7,
     "metadata": {},
     "output_type": "execute_result"
    }
   ],
   "source": [
    "true['C'].value_counts()"
   ]
  },
  {
   "cell_type": "code",
   "execution_count": null,
   "metadata": {},
   "outputs": [
    {
     "data": {
      "text/plain": [
       "A\n",
       "x    261\n",
       "l     35\n",
       "r     30\n",
       "Name: count, dtype: int64"
      ]
     },
     "execution_count": 8,
     "metadata": {},
     "output_type": "execute_result"
    }
   ],
   "source": [
    "true['A'].value_counts()"
   ]
  },
  {
   "cell_type": "code",
   "execution_count": null,
   "metadata": {},
   "outputs": [
    {
     "data": {
      "text/plain": [
       "AD\n",
       "x    296\n",
       "l     15\n",
       "r     15\n",
       "Name: count, dtype: int64"
      ]
     },
     "execution_count": 9,
     "metadata": {},
     "output_type": "execute_result"
    }
   ],
   "source": [
    "true['AD'].value_counts()"
   ]
  },
  {
   "cell_type": "code",
   "execution_count": null,
   "metadata": {},
   "outputs": [
    {
     "data": {
      "text/plain": [
       "ST\n",
       "x    296\n",
       "l     18\n",
       "r      9\n",
       "b      3\n",
       "Name: count, dtype: int64"
      ]
     },
     "execution_count": 10,
     "metadata": {},
     "output_type": "execute_result"
    }
   ],
   "source": [
    "true['ST'].value_counts()"
   ]
  },
  {
   "cell_type": "code",
   "execution_count": null,
   "metadata": {},
   "outputs": [
    {
     "data": {
      "text/plain": [
       "LNE\n",
       "x    326\n",
       "Name: count, dtype: int64"
      ]
     },
     "execution_count": 11,
     "metadata": {},
     "output_type": "execute_result"
    }
   ],
   "source": [
    "true['LNE'].value_counts()"
   ]
  },
  {
   "cell_type": "code",
   "execution_count": null,
   "metadata": {},
   "outputs": [
    {
     "data": {
      "text/plain": [
       "ILN\n",
       "x    306\n",
       "l     10\n",
       "r      7\n",
       "b      3\n",
       "Name: count, dtype: int64"
      ]
     },
     "execution_count": 12,
     "metadata": {},
     "output_type": "execute_result"
    }
   ],
   "source": [
    "true['ILN'].value_counts()"
   ]
  },
  {
   "cell_type": "code",
   "execution_count": null,
   "metadata": {},
   "outputs": [
    {
     "data": {
      "text/plain": [
       "NR\n",
       "x    306\n",
       "l     10\n",
       "r     10\n",
       "Name: count, dtype: int64"
      ]
     },
     "execution_count": 13,
     "metadata": {},
     "output_type": "execute_result"
    }
   ],
   "source": [
    "true['NR'].value_counts()"
   ]
  },
  {
   "cell_type": "code",
   "execution_count": null,
   "metadata": {},
   "outputs": [
    {
     "data": {
      "text/plain": [
       "SR\n",
       "x    324\n",
       "l      2\n",
       "Name: count, dtype: int64"
      ]
     },
     "execution_count": 14,
     "metadata": {},
     "output_type": "execute_result"
    }
   ],
   "source": [
    "true['SR'].value_counts()"
   ]
  },
  {
   "cell_type": "code",
   "execution_count": null,
   "metadata": {},
   "outputs": [
    {
     "data": {
      "text/plain": [
       "TT\n",
       "x    326\n",
       "Name: count, dtype: int64"
      ]
     },
     "execution_count": 15,
     "metadata": {},
     "output_type": "execute_result"
    }
   ],
   "source": [
    "true['TT'].value_counts()"
   ]
  },
  {
   "cell_type": "code",
   "execution_count": null,
   "metadata": {},
   "outputs": [],
   "source": []
  }
 ],
 "metadata": {
  "kernelspec": {
   "display_name": "Python 3",
   "language": "python",
   "name": "python3"
  },
  "language_info": {
   "codemirror_mode": {
    "name": "ipython",
    "version": 3
   },
   "file_extension": ".py",
   "mimetype": "text/x-python",
   "name": "python",
   "nbconvert_exporter": "python",
   "pygments_lexer": "ipython3",
   "version": "3.10.8"
  },
  "orig_nbformat": 4
 },
 "nbformat": 4,
 "nbformat_minor": 2
}
