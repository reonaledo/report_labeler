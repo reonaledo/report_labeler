{
 "cells": [
  {
   "cell_type": "code",
   "execution_count": 1,
   "metadata": {},
   "outputs": [],
   "source": [
    "import pandas as pd\n",
    "from sklearn.metrics import f1_score\n",
    "import numpy as np"
   ]
  },
  {
   "cell_type": "code",
   "execution_count": 2,
   "metadata": {},
   "outputs": [],
   "source": [
    "def get_each_f1(true, pred):\n",
    "    label = ['r','l','b','o','x']\n",
    "    f1 = []\n",
    "    for l in label:\n",
    "        f1.append(f1_score(true==l, pred==l, zero_division=np.nan, average='binary'))\n",
    "\n",
    "    return f1"
   ]
  },
  {
   "cell_type": "code",
   "execution_count": 3,
   "metadata": {},
   "outputs": [],
   "source": [
    "# path = \"/home/workspace/inference_result/v2.2_7b_r8.xlsx\"\n",
    "# path = \"/home/workspace/inference_result/v2.2_30b_r8.xlsx\"\n",
    "# path = \"/home/workspace/inference_result/v2.2_30b_r2-SNUH.xlsx\"\n",
    "# path = \"/home/workspace/inference_result/v2.2_30b_r16.xlsx\"\n",
    "# path = \"/home/workspace/inference_result/v2.2_30b_r4kqvo.xlsx\"\n",
    "# path = \"/home/workspace/inference_result/v2.2_30b_r1kqvo.xlsx\"\n",
    "# path = \"/home/workspace/inference_result/v2.2_13b_r2-SNUH.xlsx\"\n",
    "# path = \"/home/workspace/inference_result/v2.2_13b_r8-SNUH.xlsx\"\n",
    "# path = \"/home/workspace/inference_result/v2.2_13b_r1kqvo-SNUH.xlsx\"\n",
    "# ==========================================\n",
    "### v3\n",
    "# path = \"/home/workspace/inference_result/v3.0_13b_r1kqvo-SNUH.xlsx\"\n",
    "# path = \"/home/workspace/inference_result/v3.0_13b_r1kqvo-SNUH_FULLPROMPT.xlsx\"\n",
    "# path = \"/home/workspace/inference_result/v3.0_7b_r8-SNUH_FULLPROMPT.xlsx\"\n",
    "# path = \"/home/workspace/inference_result/v3.0_13b_r2-SNUH_FULL_PROMPRT.xlsx\"\n",
    "# path = \"/home/workspace/inference_result/v3.0_30b_r1kqvo-SNUH_FULL_PROMPRT.xlsx\"\n",
    "# path = \"/home/workspace/inference_result/v3.0_30b_r4kqvo-SNUH_FULLPROMPT.xlsx\"\n",
    "# path = \"/home/workspace/inference_result/v3.0_30b_r2-SNUH.xlsx\"\n",
    "# path = \"/home/workspace/inference_result/v3.0_13b_r8-SNUH_FULLPROMPT.xlsx\"\n",
    "# path = \"/home/workspace/inference_result/v3.0_7b_r1kqvo-SNUH_FULL_PROMPRT.xlsx\"\n",
    "# path = \"/home/workspace/inference_result/v3.0_30b_r8-SNUH.xlsx\"\n",
    "# path = \"/home/workspace/inference_result/v3.0_30b_r16-SNUH_FULLPROMPT.xlsx\"\n",
    "# path = \"/home/workspace/inference_result/v3.0_30b_r1kqvo-SNUH_FULLPROMPT-checkpoint132.xlsx\"\n",
    "\n",
    "### v3.2\n",
    "# path = \"/home/workspace/inference_result/v3.2_30b_r2-SNUH_test_v4.xlsx\"\n",
    "# path = \"/home/workspace/inference_result/v3.2_30b_r4all_bz8-SNUH_test_v4.1.xlsx\"\n",
    "# path = \"/home/workspace/inference_result/v3.2_7b_r2all_bs8-SNUH_test_v4.2.xlsx\"\n",
    "# path = \"/home/workspace/inference_result/v3.2_13b_r2all_bs8-SNUH_test_v4.1.xlsx\"\n",
    "# path = \"/home/workspace/inference_result/v3.2_30b_r2all_bz8-SNUH_test_v4.xlsx\"\n",
    "# path = \"/home/workspace/inference_result/v3.2_65b_r2all_bs8-SNUH_test_v4.2.xlsx\"\n",
    "\n",
    "\n",
    "## FEW-SHOT\n",
    "# path = \"/home/workspace/inference_result/llama-13bshot3.xlsx\"\n",
    "# path = \"/home/workspace/inference_result/llama-13b_shot10-SNUH_test_v4.2.xlsx\"\n",
    "# path = \"/home/workspace/inference_result/llama-30b_shot3-SNUH_test_v4.2.xlsx\"\n",
    "# path = \"/home/workspace/inference_result/llama-13b_NSHOT3-SNUH_test_v4.2.xlsx\"\n",
    "# path = \"/home/workspace/inference_result/llama-13b_NSHOT10-SNUH_test_v4.2.xlsx\"\n",
    "# path = \"/home/workspace/inference_result/llama-30b_NSHOT10-SNUH_test_v4.2.xlsx\"\n",
    "# path = \"/home/workspace/inference_result/llama-30b_NSHOT3-SNUH_test_v4.2.xlsx\"\n",
    "# path = \"/home/workspace/inference_result/llama-65b_NSHOT3-SNUH_test_v4.2.xlsx\"\n",
    "# path = \"/home/workspace/inference_result/llama-65b_NSHOT10-SNUH_test_v4.2.xlsx\"\n",
    "\n",
    "# path = \"/home/workspace/inference_result/Llama-2-70b-hf_NSHOT3-SNUH_test_v5.xlsx\"\n",
    "# path = \"/home/workspace/inference_result/Llama-2-70b-hf_NSHOT10-SNUH_test_v5.xlsx\"\n",
    "# path = \"/home/workspace/inference_result/Llama-2-70b-hf_NSHOT3-SNUH_test_v5_add_hereis.xlsx\"\n",
    "# path = \"/home/workspace/inference_result/v3.2_Llama2_70b_r2all_bs8-SNUH_test_v5.xlsx\"\n",
    "# path =\"/home/workspace/inference_result/v3.2_Llama2_13b_r2all_bs8-SNUH_test_v5.xlsx\"\n",
    "\n",
    "# path = \"/home/workspace/inference_result/meditron-70b_NSHOT10-SNUH_test_v5.xlsx\"\n",
    "\n",
    "# path = \"/home/workspace/inference_result/llama-65b_NSHOT3-SNUH_test_v5.xlsx\"\n",
    "path = \"/home/workspace/inference_result/llama-65b_NSHOT0-SNUH_test_v5.xlsx\"\n",
    "\n",
    "## Zero-shot\n",
    "\n"
   ]
  },
  {
   "cell_type": "code",
   "execution_count": 4,
   "metadata": {},
   "outputs": [],
   "source": [
    "inference_result = pd.read_excel(path)\n",
    "# true = inference_result.iloc[:,10:22].fillna('x')\n",
    "# true.drop('SDD', axis=1, inplace=True)\n",
    "true = pd.read_excel('/home/data/SNUH_Mammo/0518/MGLabler_test_data_v5.xlsx').iloc[:,10:21].fillna('x')\n",
    "\n",
    "# pred = inference_result.iloc[:,22:33].fillna('x')\n",
    "\n",
    "# pred = inference_result.iloc[:,24:].fillna('x')\n",
    "# pred = pred.drop(506).reset_index(drop=True)\n",
    "\n",
    "pred = inference_result.iloc[:,23:34].fillna('x')\n",
    "\n",
    "pred.columns =true.columns"
   ]
  },
  {
   "cell_type": "code",
   "execution_count": 5,
   "metadata": {},
   "outputs": [
    {
     "data": {
      "text/html": [
       "<div>\n",
       "<style scoped>\n",
       "    .dataframe tbody tr th:only-of-type {\n",
       "        vertical-align: middle;\n",
       "    }\n",
       "\n",
       "    .dataframe tbody tr th {\n",
       "        vertical-align: top;\n",
       "    }\n",
       "\n",
       "    .dataframe thead th {\n",
       "        text-align: right;\n",
       "    }\n",
       "</style>\n",
       "<table border=\"1\" class=\"dataframe\">\n",
       "  <thead>\n",
       "    <tr style=\"text-align: right;\">\n",
       "      <th></th>\n",
       "      <th>N</th>\n",
       "      <th>M</th>\n",
       "      <th>C</th>\n",
       "      <th>A</th>\n",
       "      <th>AD</th>\n",
       "      <th>ST</th>\n",
       "      <th>LNE</th>\n",
       "      <th>ILN</th>\n",
       "      <th>NR</th>\n",
       "      <th>SR</th>\n",
       "      <th>TT</th>\n",
       "    </tr>\n",
       "  </thead>\n",
       "  <tbody>\n",
       "    <tr>\n",
       "      <th>0</th>\n",
       "      <td>l</td>\n",
       "      <td>l</td>\n",
       "      <td>x</td>\n",
       "      <td>l</td>\n",
       "      <td>x</td>\n",
       "      <td>x</td>\n",
       "      <td>x</td>\n",
       "      <td>x</td>\n",
       "      <td>x</td>\n",
       "      <td>x</td>\n",
       "      <td>x</td>\n",
       "    </tr>\n",
       "    <tr>\n",
       "      <th>1</th>\n",
       "      <td>x</td>\n",
       "      <td>x</td>\n",
       "      <td>r</td>\n",
       "      <td>x</td>\n",
       "      <td>x</td>\n",
       "      <td>x</td>\n",
       "      <td>x</td>\n",
       "      <td>x</td>\n",
       "      <td>x</td>\n",
       "      <td>x</td>\n",
       "      <td>x</td>\n",
       "    </tr>\n",
       "    <tr>\n",
       "      <th>2</th>\n",
       "      <td>o</td>\n",
       "      <td>o</td>\n",
       "      <td>o</td>\n",
       "      <td>o</td>\n",
       "      <td>o</td>\n",
       "      <td>o</td>\n",
       "      <td>o</td>\n",
       "      <td>o</td>\n",
       "      <td>o</td>\n",
       "      <td>o</td>\n",
       "      <td>o</td>\n",
       "    </tr>\n",
       "    <tr>\n",
       "      <th>3</th>\n",
       "      <td>x</td>\n",
       "      <td>x</td>\n",
       "      <td>C2</td>\n",
       "      <td>x</td>\n",
       "      <td>x</td>\n",
       "      <td>x</td>\n",
       "      <td>x</td>\n",
       "      <td>x</td>\n",
       "      <td>x</td>\n",
       "      <td>x</td>\n",
       "      <td>x</td>\n",
       "    </tr>\n",
       "    <tr>\n",
       "      <th>4</th>\n",
       "      <td>x</td>\n",
       "      <td>x</td>\n",
       "      <td>x</td>\n",
       "      <td>x</td>\n",
       "      <td>x</td>\n",
       "      <td>x</td>\n",
       "      <td>x</td>\n",
       "      <td>x</td>\n",
       "      <td>x</td>\n",
       "      <td>x</td>\n",
       "      <td>x</td>\n",
       "    </tr>\n",
       "    <tr>\n",
       "      <th>...</th>\n",
       "      <td>...</td>\n",
       "      <td>...</td>\n",
       "      <td>...</td>\n",
       "      <td>...</td>\n",
       "      <td>...</td>\n",
       "      <td>...</td>\n",
       "      <td>...</td>\n",
       "      <td>...</td>\n",
       "      <td>...</td>\n",
       "      <td>...</td>\n",
       "      <td>...</td>\n",
       "    </tr>\n",
       "    <tr>\n",
       "      <th>544</th>\n",
       "      <td>x</td>\n",
       "      <td>x</td>\n",
       "      <td>x</td>\n",
       "      <td>x</td>\n",
       "      <td>r</td>\n",
       "      <td>x</td>\n",
       "      <td>x</td>\n",
       "      <td>x</td>\n",
       "      <td>x</td>\n",
       "      <td>x</td>\n",
       "      <td>x</td>\n",
       "    </tr>\n",
       "    <tr>\n",
       "      <th>545</th>\n",
       "      <td>o</td>\n",
       "      <td>r</td>\n",
       "      <td>r</td>\n",
       "      <td>l</td>\n",
       "      <td>x</td>\n",
       "      <td>l</td>\n",
       "      <td>x</td>\n",
       "      <td>x</td>\n",
       "      <td>x</td>\n",
       "      <td>x</td>\n",
       "      <td>x</td>\n",
       "    </tr>\n",
       "    <tr>\n",
       "      <th>546</th>\n",
       "      <td>o</td>\n",
       "      <td>o</td>\n",
       "      <td>o</td>\n",
       "      <td>o</td>\n",
       "      <td>o</td>\n",
       "      <td>o</td>\n",
       "      <td>o</td>\n",
       "      <td>o</td>\n",
       "      <td>o</td>\n",
       "      <td>o</td>\n",
       "      <td>o</td>\n",
       "    </tr>\n",
       "    <tr>\n",
       "      <th>547</th>\n",
       "      <td>x</td>\n",
       "      <td>x</td>\n",
       "      <td>x</td>\n",
       "      <td>x</td>\n",
       "      <td>x</td>\n",
       "      <td>x</td>\n",
       "      <td>x</td>\n",
       "      <td>x</td>\n",
       "      <td>x</td>\n",
       "      <td>x</td>\n",
       "      <td>x</td>\n",
       "    </tr>\n",
       "    <tr>\n",
       "      <th>548</th>\n",
       "      <td>l</td>\n",
       "      <td>l</td>\n",
       "      <td>x</td>\n",
       "      <td>l</td>\n",
       "      <td>x</td>\n",
       "      <td>l</td>\n",
       "      <td>x</td>\n",
       "      <td>x</td>\n",
       "      <td>l</td>\n",
       "      <td>l</td>\n",
       "      <td>x</td>\n",
       "    </tr>\n",
       "  </tbody>\n",
       "</table>\n",
       "<p>549 rows × 11 columns</p>\n",
       "</div>"
      ],
      "text/plain": [
       "     N  M   C  A AD ST LNE ILN NR SR TT\n",
       "0    l  l   x  l  x  x   x   x  x  x  x\n",
       "1    x  x   r  x  x  x   x   x  x  x  x\n",
       "2    o  o   o  o  o  o   o   o  o  o  o\n",
       "3    x  x  C2  x  x  x   x   x  x  x  x\n",
       "4    x  x   x  x  x  x   x   x  x  x  x\n",
       "..  .. ..  .. .. .. ..  ..  .. .. .. ..\n",
       "544  x  x   x  x  r  x   x   x  x  x  x\n",
       "545  o  r   r  l  x  l   x   x  x  x  x\n",
       "546  o  o   o  o  o  o   o   o  o  o  o\n",
       "547  x  x   x  x  x  x   x   x  x  x  x\n",
       "548  l  l   x  l  x  l   x   x  l  l  x\n",
       "\n",
       "[549 rows x 11 columns]"
      ]
     },
     "execution_count": 5,
     "metadata": {},
     "output_type": "execute_result"
    }
   ],
   "source": [
    "pred"
   ]
  },
  {
   "cell_type": "code",
   "execution_count": 6,
   "metadata": {},
   "outputs": [
    {
     "data": {
      "text/html": [
       "<div>\n",
       "<style scoped>\n",
       "    .dataframe tbody tr th:only-of-type {\n",
       "        vertical-align: middle;\n",
       "    }\n",
       "\n",
       "    .dataframe tbody tr th {\n",
       "        vertical-align: top;\n",
       "    }\n",
       "\n",
       "    .dataframe thead th {\n",
       "        text-align: right;\n",
       "    }\n",
       "</style>\n",
       "<table border=\"1\" class=\"dataframe\">\n",
       "  <thead>\n",
       "    <tr style=\"text-align: right;\">\n",
       "      <th></th>\n",
       "      <th>N</th>\n",
       "      <th>M</th>\n",
       "      <th>C</th>\n",
       "      <th>A</th>\n",
       "      <th>AD</th>\n",
       "      <th>ST</th>\n",
       "      <th>LNE</th>\n",
       "      <th>ILN</th>\n",
       "      <th>NR</th>\n",
       "      <th>SR</th>\n",
       "      <th>TT</th>\n",
       "    </tr>\n",
       "  </thead>\n",
       "  <tbody>\n",
       "    <tr>\n",
       "      <th>0</th>\n",
       "      <td>x</td>\n",
       "      <td>l</td>\n",
       "      <td>x</td>\n",
       "      <td>x</td>\n",
       "      <td>x</td>\n",
       "      <td>x</td>\n",
       "      <td>x</td>\n",
       "      <td>x</td>\n",
       "      <td>x</td>\n",
       "      <td>x</td>\n",
       "      <td>x</td>\n",
       "    </tr>\n",
       "    <tr>\n",
       "      <th>1</th>\n",
       "      <td>x</td>\n",
       "      <td>x</td>\n",
       "      <td>r</td>\n",
       "      <td>x</td>\n",
       "      <td>x</td>\n",
       "      <td>x</td>\n",
       "      <td>x</td>\n",
       "      <td>x</td>\n",
       "      <td>x</td>\n",
       "      <td>x</td>\n",
       "      <td>x</td>\n",
       "    </tr>\n",
       "    <tr>\n",
       "      <th>2</th>\n",
       "      <td>x</td>\n",
       "      <td>x</td>\n",
       "      <td>b</td>\n",
       "      <td>x</td>\n",
       "      <td>x</td>\n",
       "      <td>x</td>\n",
       "      <td>x</td>\n",
       "      <td>x</td>\n",
       "      <td>x</td>\n",
       "      <td>x</td>\n",
       "      <td>x</td>\n",
       "    </tr>\n",
       "    <tr>\n",
       "      <th>3</th>\n",
       "      <td>x</td>\n",
       "      <td>x</td>\n",
       "      <td>b</td>\n",
       "      <td>x</td>\n",
       "      <td>x</td>\n",
       "      <td>x</td>\n",
       "      <td>x</td>\n",
       "      <td>x</td>\n",
       "      <td>x</td>\n",
       "      <td>x</td>\n",
       "      <td>x</td>\n",
       "    </tr>\n",
       "    <tr>\n",
       "      <th>4</th>\n",
       "      <td>x</td>\n",
       "      <td>x</td>\n",
       "      <td>x</td>\n",
       "      <td>x</td>\n",
       "      <td>x</td>\n",
       "      <td>x</td>\n",
       "      <td>x</td>\n",
       "      <td>x</td>\n",
       "      <td>x</td>\n",
       "      <td>x</td>\n",
       "      <td>x</td>\n",
       "    </tr>\n",
       "    <tr>\n",
       "      <th>...</th>\n",
       "      <td>...</td>\n",
       "      <td>...</td>\n",
       "      <td>...</td>\n",
       "      <td>...</td>\n",
       "      <td>...</td>\n",
       "      <td>...</td>\n",
       "      <td>...</td>\n",
       "      <td>...</td>\n",
       "      <td>...</td>\n",
       "      <td>...</td>\n",
       "      <td>...</td>\n",
       "    </tr>\n",
       "    <tr>\n",
       "      <th>544</th>\n",
       "      <td>x</td>\n",
       "      <td>x</td>\n",
       "      <td>x</td>\n",
       "      <td>x</td>\n",
       "      <td>r</td>\n",
       "      <td>x</td>\n",
       "      <td>x</td>\n",
       "      <td>x</td>\n",
       "      <td>x</td>\n",
       "      <td>x</td>\n",
       "      <td>x</td>\n",
       "    </tr>\n",
       "    <tr>\n",
       "      <th>545</th>\n",
       "      <td>x</td>\n",
       "      <td>r</td>\n",
       "      <td>r</td>\n",
       "      <td>l</td>\n",
       "      <td>x</td>\n",
       "      <td>l</td>\n",
       "      <td>x</td>\n",
       "      <td>x</td>\n",
       "      <td>x</td>\n",
       "      <td>x</td>\n",
       "      <td>x</td>\n",
       "    </tr>\n",
       "    <tr>\n",
       "      <th>546</th>\n",
       "      <td>x</td>\n",
       "      <td>x</td>\n",
       "      <td>x</td>\n",
       "      <td>x</td>\n",
       "      <td>x</td>\n",
       "      <td>x</td>\n",
       "      <td>x</td>\n",
       "      <td>r</td>\n",
       "      <td>x</td>\n",
       "      <td>x</td>\n",
       "      <td>x</td>\n",
       "    </tr>\n",
       "    <tr>\n",
       "      <th>547</th>\n",
       "      <td>x</td>\n",
       "      <td>x</td>\n",
       "      <td>x</td>\n",
       "      <td>x</td>\n",
       "      <td>x</td>\n",
       "      <td>x</td>\n",
       "      <td>x</td>\n",
       "      <td>r</td>\n",
       "      <td>x</td>\n",
       "      <td>x</td>\n",
       "      <td>x</td>\n",
       "    </tr>\n",
       "    <tr>\n",
       "      <th>548</th>\n",
       "      <td>x</td>\n",
       "      <td>l</td>\n",
       "      <td>x</td>\n",
       "      <td>x</td>\n",
       "      <td>x</td>\n",
       "      <td>x</td>\n",
       "      <td>x</td>\n",
       "      <td>x</td>\n",
       "      <td>l</td>\n",
       "      <td>x</td>\n",
       "      <td>x</td>\n",
       "    </tr>\n",
       "  </tbody>\n",
       "</table>\n",
       "<p>549 rows × 11 columns</p>\n",
       "</div>"
      ],
      "text/plain": [
       "     N  M  C  A AD ST LNE ILN NR SR TT\n",
       "0    x  l  x  x  x  x   x   x  x  x  x\n",
       "1    x  x  r  x  x  x   x   x  x  x  x\n",
       "2    x  x  b  x  x  x   x   x  x  x  x\n",
       "3    x  x  b  x  x  x   x   x  x  x  x\n",
       "4    x  x  x  x  x  x   x   x  x  x  x\n",
       "..  .. .. .. .. .. ..  ..  .. .. .. ..\n",
       "544  x  x  x  x  r  x   x   x  x  x  x\n",
       "545  x  r  r  l  x  l   x   x  x  x  x\n",
       "546  x  x  x  x  x  x   x   r  x  x  x\n",
       "547  x  x  x  x  x  x   x   r  x  x  x\n",
       "548  x  l  x  x  x  x   x   x  l  x  x\n",
       "\n",
       "[549 rows x 11 columns]"
      ]
     },
     "execution_count": 6,
     "metadata": {},
     "output_type": "execute_result"
    }
   ],
   "source": [
    "true"
   ]
  },
  {
   "cell_type": "code",
   "execution_count": 8,
   "metadata": {},
   "outputs": [],
   "source": [
    "# path2 = \"/home/workspace/inference_result/v3.2_7b_r2all_bs8-SNUH_test_v5.xlsx\"\n",
    "# path2 = \"/home/workspace/inference_result/v3.2_13b_r2all_bs8-SNUH_test_v5.xlsx\"\n",
    "path2 = \"/home/workspace/inference_result/v3.2_30b_r2all_bz8-SNUH_test_v5.xlsx\"\n",
    "# path2 = \"/home/workspace/inference_result/v3.2_65b_r2all_bs8-SNUH_test_v5.xlsx\"\n",
    "\n",
    "inference_result2 = pd.read_excel(path2).iloc[:29,1:]\n",
    "pred_2 = inference_result2.iloc[:,22:33]\n",
    "pred_2.columns =true.columns"
   ]
  },
  {
   "cell_type": "code",
   "execution_count": 9,
   "metadata": {},
   "outputs": [],
   "source": [
    "inference_result = pd.concat((inference_result,inference_result2.fillna('x'))).reset_index(drop=True)\n",
    "pred = pd.concat((pred,pred_2.fillna('x'))).reset_index(drop=True)"
   ]
  },
  {
   "cell_type": "code",
   "execution_count": 10,
   "metadata": {},
   "outputs": [
    {
     "data": {
      "text/html": [
       "<div>\n",
       "<style scoped>\n",
       "    .dataframe tbody tr th:only-of-type {\n",
       "        vertical-align: middle;\n",
       "    }\n",
       "\n",
       "    .dataframe tbody tr th {\n",
       "        vertical-align: top;\n",
       "    }\n",
       "\n",
       "    .dataframe thead th {\n",
       "        text-align: right;\n",
       "    }\n",
       "</style>\n",
       "<table border=\"1\" class=\"dataframe\">\n",
       "  <thead>\n",
       "    <tr style=\"text-align: right;\">\n",
       "      <th></th>\n",
       "      <th>N</th>\n",
       "      <th>M</th>\n",
       "      <th>C</th>\n",
       "      <th>A</th>\n",
       "      <th>AD</th>\n",
       "      <th>ST</th>\n",
       "      <th>LNE</th>\n",
       "      <th>ILN</th>\n",
       "      <th>NR</th>\n",
       "      <th>SR</th>\n",
       "      <th>TT</th>\n",
       "    </tr>\n",
       "  </thead>\n",
       "  <tbody>\n",
       "    <tr>\n",
       "      <th>0</th>\n",
       "      <td>x</td>\n",
       "      <td>l</td>\n",
       "      <td>x</td>\n",
       "      <td>x</td>\n",
       "      <td>x</td>\n",
       "      <td>x</td>\n",
       "      <td>x</td>\n",
       "      <td>x</td>\n",
       "      <td>x</td>\n",
       "      <td>x</td>\n",
       "      <td>x</td>\n",
       "    </tr>\n",
       "    <tr>\n",
       "      <th>1</th>\n",
       "      <td>x</td>\n",
       "      <td>x</td>\n",
       "      <td>r</td>\n",
       "      <td>x</td>\n",
       "      <td>x</td>\n",
       "      <td>x</td>\n",
       "      <td>x</td>\n",
       "      <td>x</td>\n",
       "      <td>x</td>\n",
       "      <td>x</td>\n",
       "      <td>x</td>\n",
       "    </tr>\n",
       "    <tr>\n",
       "      <th>2</th>\n",
       "      <td>x</td>\n",
       "      <td>x</td>\n",
       "      <td>b</td>\n",
       "      <td>x</td>\n",
       "      <td>x</td>\n",
       "      <td>x</td>\n",
       "      <td>x</td>\n",
       "      <td>x</td>\n",
       "      <td>x</td>\n",
       "      <td>x</td>\n",
       "      <td>x</td>\n",
       "    </tr>\n",
       "    <tr>\n",
       "      <th>3</th>\n",
       "      <td>x</td>\n",
       "      <td>x</td>\n",
       "      <td>b</td>\n",
       "      <td>x</td>\n",
       "      <td>x</td>\n",
       "      <td>x</td>\n",
       "      <td>x</td>\n",
       "      <td>x</td>\n",
       "      <td>x</td>\n",
       "      <td>x</td>\n",
       "      <td>x</td>\n",
       "    </tr>\n",
       "    <tr>\n",
       "      <th>4</th>\n",
       "      <td>x</td>\n",
       "      <td>x</td>\n",
       "      <td>x</td>\n",
       "      <td>x</td>\n",
       "      <td>x</td>\n",
       "      <td>x</td>\n",
       "      <td>x</td>\n",
       "      <td>x</td>\n",
       "      <td>x</td>\n",
       "      <td>x</td>\n",
       "      <td>x</td>\n",
       "    </tr>\n",
       "    <tr>\n",
       "      <th>...</th>\n",
       "      <td>...</td>\n",
       "      <td>...</td>\n",
       "      <td>...</td>\n",
       "      <td>...</td>\n",
       "      <td>...</td>\n",
       "      <td>...</td>\n",
       "      <td>...</td>\n",
       "      <td>...</td>\n",
       "      <td>...</td>\n",
       "      <td>...</td>\n",
       "      <td>...</td>\n",
       "    </tr>\n",
       "    <tr>\n",
       "      <th>544</th>\n",
       "      <td>x</td>\n",
       "      <td>x</td>\n",
       "      <td>x</td>\n",
       "      <td>x</td>\n",
       "      <td>r</td>\n",
       "      <td>x</td>\n",
       "      <td>x</td>\n",
       "      <td>x</td>\n",
       "      <td>x</td>\n",
       "      <td>x</td>\n",
       "      <td>x</td>\n",
       "    </tr>\n",
       "    <tr>\n",
       "      <th>545</th>\n",
       "      <td>x</td>\n",
       "      <td>r</td>\n",
       "      <td>r</td>\n",
       "      <td>l</td>\n",
       "      <td>x</td>\n",
       "      <td>l</td>\n",
       "      <td>x</td>\n",
       "      <td>x</td>\n",
       "      <td>x</td>\n",
       "      <td>x</td>\n",
       "      <td>x</td>\n",
       "    </tr>\n",
       "    <tr>\n",
       "      <th>546</th>\n",
       "      <td>x</td>\n",
       "      <td>x</td>\n",
       "      <td>x</td>\n",
       "      <td>x</td>\n",
       "      <td>x</td>\n",
       "      <td>x</td>\n",
       "      <td>x</td>\n",
       "      <td>r</td>\n",
       "      <td>x</td>\n",
       "      <td>x</td>\n",
       "      <td>x</td>\n",
       "    </tr>\n",
       "    <tr>\n",
       "      <th>547</th>\n",
       "      <td>x</td>\n",
       "      <td>x</td>\n",
       "      <td>x</td>\n",
       "      <td>x</td>\n",
       "      <td>x</td>\n",
       "      <td>x</td>\n",
       "      <td>x</td>\n",
       "      <td>r</td>\n",
       "      <td>x</td>\n",
       "      <td>x</td>\n",
       "      <td>x</td>\n",
       "    </tr>\n",
       "    <tr>\n",
       "      <th>548</th>\n",
       "      <td>x</td>\n",
       "      <td>l</td>\n",
       "      <td>x</td>\n",
       "      <td>x</td>\n",
       "      <td>x</td>\n",
       "      <td>x</td>\n",
       "      <td>x</td>\n",
       "      <td>x</td>\n",
       "      <td>l</td>\n",
       "      <td>x</td>\n",
       "      <td>x</td>\n",
       "    </tr>\n",
       "  </tbody>\n",
       "</table>\n",
       "<p>549 rows × 11 columns</p>\n",
       "</div>"
      ],
      "text/plain": [
       "     N  M  C  A AD ST LNE ILN NR SR TT\n",
       "0    x  l  x  x  x  x   x   x  x  x  x\n",
       "1    x  x  r  x  x  x   x   x  x  x  x\n",
       "2    x  x  b  x  x  x   x   x  x  x  x\n",
       "3    x  x  b  x  x  x   x   x  x  x  x\n",
       "4    x  x  x  x  x  x   x   x  x  x  x\n",
       "..  .. .. .. .. .. ..  ..  .. .. .. ..\n",
       "544  x  x  x  x  r  x   x   x  x  x  x\n",
       "545  x  r  r  l  x  l   x   x  x  x  x\n",
       "546  x  x  x  x  x  x   x   r  x  x  x\n",
       "547  x  x  x  x  x  x   x   r  x  x  x\n",
       "548  x  l  x  x  x  x   x   x  l  x  x\n",
       "\n",
       "[549 rows x 11 columns]"
      ]
     },
     "execution_count": 10,
     "metadata": {},
     "output_type": "execute_result"
    }
   ],
   "source": [
    "pred"
   ]
  },
  {
   "cell_type": "code",
   "execution_count": 35,
   "metadata": {},
   "outputs": [],
   "source": [
    "default_dict = {'N': 'o',\n",
    " 'M': 'o',\n",
    " 'C': 'o',\n",
    " 'A': 'o',\n",
    " 'AD': 'o',\n",
    " 'ST': 'o',\n",
    " 'LNE': 'o',\n",
    " 'ILN': 'o',\n",
    " 'NR': 'o',\n",
    " 'SR': 'o',\n",
    " 'TT': 'o'}"
   ]
  },
  {
   "cell_type": "code",
   "execution_count": 36,
   "metadata": {},
   "outputs": [
    {
     "name": "stdout",
     "output_type": "stream",
     "text": [
      "51\n",
      "[2, 12, 13, 15, 21, 39, 41, 51, 57, 63, 66, 70, 73, 75, 76, 103, 117, 121, 133, 173, 176, 188, 222, 226, 253, 256, 271, 274, 278, 342, 352, 366, 377, 386, 410, 416, 429, 452, 461, 477, 483, 486, 505, 508, 518, 524, 533, 537, 538, 543, 546]\n"
     ]
    }
   ],
   "source": [
    "s = 0\n",
    "drop_idx = []\n",
    "for i in range(len(pred)):\n",
    "    if dict(pred.iloc[i]) == default_dict:\n",
    "        s += 1\n",
    "        drop_idx.append(i)\n",
    "\n",
    "print(s)\n",
    "print(drop_idx)"
   ]
  },
  {
   "cell_type": "code",
   "execution_count": 9,
   "metadata": {},
   "outputs": [],
   "source": [
    "pred = pred.reset_index(drop=True)\n",
    "pred = pred.drop(drop_idx)\n",
    "true = true.drop(drop_idx)"
   ]
  },
  {
   "cell_type": "code",
   "execution_count": 7,
   "metadata": {},
   "outputs": [],
   "source": [
    "import numpy as np\n",
    "import pandas as pd\n",
    "from sklearn.metrics import f1_score\n",
    "from scipy import stats\n",
    "\n",
    "def bootstrap_sample(df_pred, df_true, seed=None):\n",
    "    np.random.seed(seed)\n",
    "    n = len(df_pred)\n",
    "    indices = np.random.choice(n, n, replace=True)\n",
    "    new_pred = df_pred.iloc[indices].reset_index(drop=True)\n",
    "    new_true = df_true.iloc[indices].reset_index(drop=True)\n",
    "    return new_pred, new_true\n",
    "\n",
    "def get_all_f1(true, pred, average):\n",
    "    all_f1 = []\n",
    "    for i in range(len(true.columns)):\n",
    "        all_f1.append(f1_score(true.iloc[:,i], pred.iloc[:,i], average=average))\n",
    "    return all_f1\n",
    "\n",
    "all_f1_scores_weighted = []\n",
    "all_f1_scores_macro = []\n",
    "all_f1_scores_micro = []\n",
    "for i in range(10):\n",
    "    new_pred, new_true = bootstrap_sample(pred, true, seed=i)\n",
    "    f1_weighted = get_all_f1(new_true, new_pred, average='weighted')\n",
    "    f1_macro = get_all_f1(new_true, new_pred, average='macro')\n",
    "    f1_micro = get_all_f1(new_true, new_pred, average='micro')\n",
    "    all_f1_scores_weighted.append(f1_weighted)\n",
    "    all_f1_scores_macro.append(f1_macro)\n",
    "    all_f1_scores_micro.append(f1_micro)\n",
    "\n",
    "def calculate_mean_std(scores_list):\n",
    "    mean_scores = np.mean(scores_list, axis=0)\n",
    "    std_scores = np.std(scores_list, axis=0)\n",
    "    return mean_scores, std_scores\n",
    "\n",
    "def calculate_confidence_interval(scores_list, confidence=0.95):\n",
    "    mean_scores, std_scores = calculate_mean_std(scores_list)\n",
    "    se = std_scores / np.sqrt(len(scores_list))\n",
    "    h = se * stats.t.ppf((1 + confidence) / 2., len(scores_list) - 1)\n",
    "    return mean_scores - h, mean_scores + h\n",
    "\n",
    "# 평균, 표준편차 및 95% 신뢰구간 계산\n",
    "average_f1_weighted, std_f1_weighted = calculate_mean_std(all_f1_scores_weighted)\n",
    "ci_f1_weighted_1, ci_f1_weighted_2 = calculate_confidence_interval(all_f1_scores_weighted)\n",
    "\n",
    "average_f1_macro, std_f1_macro = calculate_mean_std(all_f1_scores_macro)\n",
    "ci_f1_macro_1, ci_f1_macro_2 = calculate_confidence_interval(all_f1_scores_macro)\n",
    "\n",
    "average_f1_micro, std_f1_micro = calculate_mean_std(all_f1_scores_micro)\n",
    "ci_f1_micro_1, ci_f1_micro_2 = calculate_confidence_interval(all_f1_scores_micro)"
   ]
  },
  {
   "cell_type": "code",
   "execution_count": 8,
   "metadata": {},
   "outputs": [],
   "source": [
    "result_df = pd.DataFrame([average_f1_weighted, average_f1_macro, average_f1_micro]).transpose()\n",
    "ci_df = pd.DataFrame([ci_f1_weighted_1, ci_f1_weighted_2, ci_f1_macro_1, ci_f1_macro_2, ci_f1_micro_1, ci_f1_micro_2]).transpose()"
   ]
  },
  {
   "cell_type": "code",
   "execution_count": 9,
   "metadata": {},
   "outputs": [
    {
     "data": {
      "text/html": [
       "<div>\n",
       "<style scoped>\n",
       "    .dataframe tbody tr th:only-of-type {\n",
       "        vertical-align: middle;\n",
       "    }\n",
       "\n",
       "    .dataframe tbody tr th {\n",
       "        vertical-align: top;\n",
       "    }\n",
       "\n",
       "    .dataframe thead th {\n",
       "        text-align: right;\n",
       "    }\n",
       "</style>\n",
       "<table border=\"1\" class=\"dataframe\">\n",
       "  <thead>\n",
       "    <tr style=\"text-align: right;\">\n",
       "      <th></th>\n",
       "      <th>0</th>\n",
       "    </tr>\n",
       "  </thead>\n",
       "  <tbody>\n",
       "    <tr>\n",
       "      <th>0</th>\n",
       "      <td>0.397788</td>\n",
       "    </tr>\n",
       "    <tr>\n",
       "      <th>1</th>\n",
       "      <td>0.400765</td>\n",
       "    </tr>\n",
       "    <tr>\n",
       "      <th>2</th>\n",
       "      <td>0.419898</td>\n",
       "    </tr>\n",
       "    <tr>\n",
       "      <th>3</th>\n",
       "      <td>0.426002</td>\n",
       "    </tr>\n",
       "    <tr>\n",
       "      <th>4</th>\n",
       "      <td>0.406014</td>\n",
       "    </tr>\n",
       "    <tr>\n",
       "      <th>5</th>\n",
       "      <td>0.428265</td>\n",
       "    </tr>\n",
       "    <tr>\n",
       "      <th>6</th>\n",
       "      <td>0.385862</td>\n",
       "    </tr>\n",
       "    <tr>\n",
       "      <th>7</th>\n",
       "      <td>0.393756</td>\n",
       "    </tr>\n",
       "    <tr>\n",
       "      <th>8</th>\n",
       "      <td>0.411322</td>\n",
       "    </tr>\n",
       "    <tr>\n",
       "      <th>9</th>\n",
       "      <td>0.407367</td>\n",
       "    </tr>\n",
       "  </tbody>\n",
       "</table>\n",
       "</div>"
      ],
      "text/plain": [
       "          0\n",
       "0  0.397788\n",
       "1  0.400765\n",
       "2  0.419898\n",
       "3  0.426002\n",
       "4  0.406014\n",
       "5  0.428265\n",
       "6  0.385862\n",
       "7  0.393756\n",
       "8  0.411322\n",
       "9  0.407367"
      ]
     },
     "execution_count": 9,
     "metadata": {},
     "output_type": "execute_result"
    }
   ],
   "source": [
    "average_macro_f1 = [np.mean(f1) for f1 in all_f1_scores_macro]\n",
    "pd.DataFrame(average_macro_f1)"
   ]
  },
  {
   "cell_type": "code",
   "execution_count": 10,
   "metadata": {},
   "outputs": [
    {
     "data": {
      "text/html": [
       "<div>\n",
       "<style scoped>\n",
       "    .dataframe tbody tr th:only-of-type {\n",
       "        vertical-align: middle;\n",
       "    }\n",
       "\n",
       "    .dataframe tbody tr th {\n",
       "        vertical-align: top;\n",
       "    }\n",
       "\n",
       "    .dataframe thead th {\n",
       "        text-align: right;\n",
       "    }\n",
       "</style>\n",
       "<table border=\"1\" class=\"dataframe\">\n",
       "  <thead>\n",
       "    <tr style=\"text-align: right;\">\n",
       "      <th></th>\n",
       "      <th>0</th>\n",
       "      <th>1</th>\n",
       "      <th>2</th>\n",
       "    </tr>\n",
       "  </thead>\n",
       "  <tbody>\n",
       "    <tr>\n",
       "      <th>0</th>\n",
       "      <td>0.644684</td>\n",
       "      <td>0.261385</td>\n",
       "      <td>0.504007</td>\n",
       "    </tr>\n",
       "    <tr>\n",
       "      <th>1</th>\n",
       "      <td>0.770561</td>\n",
       "      <td>0.541306</td>\n",
       "      <td>0.650638</td>\n",
       "    </tr>\n",
       "    <tr>\n",
       "      <th>2</th>\n",
       "      <td>0.847576</td>\n",
       "      <td>0.578920</td>\n",
       "      <td>0.800182</td>\n",
       "    </tr>\n",
       "    <tr>\n",
       "      <th>3</th>\n",
       "      <td>0.781836</td>\n",
       "      <td>0.447308</td>\n",
       "      <td>0.669217</td>\n",
       "    </tr>\n",
       "    <tr>\n",
       "      <th>4</th>\n",
       "      <td>0.820460</td>\n",
       "      <td>0.375838</td>\n",
       "      <td>0.702368</td>\n",
       "    </tr>\n",
       "    <tr>\n",
       "      <th>5</th>\n",
       "      <td>0.813391</td>\n",
       "      <td>0.452090</td>\n",
       "      <td>0.695446</td>\n",
       "    </tr>\n",
       "    <tr>\n",
       "      <th>6</th>\n",
       "      <td>0.820562</td>\n",
       "      <td>0.416469</td>\n",
       "      <td>0.700546</td>\n",
       "    </tr>\n",
       "    <tr>\n",
       "      <th>7</th>\n",
       "      <td>0.816236</td>\n",
       "      <td>0.219762</td>\n",
       "      <td>0.698543</td>\n",
       "    </tr>\n",
       "    <tr>\n",
       "      <th>8</th>\n",
       "      <td>0.815392</td>\n",
       "      <td>0.505395</td>\n",
       "      <td>0.695264</td>\n",
       "    </tr>\n",
       "    <tr>\n",
       "      <th>9</th>\n",
       "      <td>0.801554</td>\n",
       "      <td>0.377272</td>\n",
       "      <td>0.677960</td>\n",
       "    </tr>\n",
       "    <tr>\n",
       "      <th>10</th>\n",
       "      <td>0.826190</td>\n",
       "      <td>0.309000</td>\n",
       "      <td>0.705464</td>\n",
       "    </tr>\n",
       "  </tbody>\n",
       "</table>\n",
       "</div>"
      ],
      "text/plain": [
       "           0         1         2\n",
       "0   0.644684  0.261385  0.504007\n",
       "1   0.770561  0.541306  0.650638\n",
       "2   0.847576  0.578920  0.800182\n",
       "3   0.781836  0.447308  0.669217\n",
       "4   0.820460  0.375838  0.702368\n",
       "5   0.813391  0.452090  0.695446\n",
       "6   0.820562  0.416469  0.700546\n",
       "7   0.816236  0.219762  0.698543\n",
       "8   0.815392  0.505395  0.695264\n",
       "9   0.801554  0.377272  0.677960\n",
       "10  0.826190  0.309000  0.705464"
      ]
     },
     "execution_count": 10,
     "metadata": {},
     "output_type": "execute_result"
    }
   ],
   "source": [
    "result_df"
   ]
  },
  {
   "cell_type": "code",
   "execution_count": 11,
   "metadata": {},
   "outputs": [
    {
     "data": {
      "text/html": [
       "<div>\n",
       "<style scoped>\n",
       "    .dataframe tbody tr th:only-of-type {\n",
       "        vertical-align: middle;\n",
       "    }\n",
       "\n",
       "    .dataframe tbody tr th {\n",
       "        vertical-align: top;\n",
       "    }\n",
       "\n",
       "    .dataframe thead th {\n",
       "        text-align: right;\n",
       "    }\n",
       "</style>\n",
       "<table border=\"1\" class=\"dataframe\">\n",
       "  <thead>\n",
       "    <tr style=\"text-align: right;\">\n",
       "      <th></th>\n",
       "      <th>0</th>\n",
       "      <th>1</th>\n",
       "      <th>2</th>\n",
       "      <th>3</th>\n",
       "      <th>4</th>\n",
       "      <th>5</th>\n",
       "    </tr>\n",
       "  </thead>\n",
       "  <tbody>\n",
       "    <tr>\n",
       "      <th>0</th>\n",
       "      <td>0.631028</td>\n",
       "      <td>0.658339</td>\n",
       "      <td>0.237211</td>\n",
       "      <td>0.285558</td>\n",
       "      <td>0.487443</td>\n",
       "      <td>0.520572</td>\n",
       "    </tr>\n",
       "    <tr>\n",
       "      <th>1</th>\n",
       "      <td>0.760450</td>\n",
       "      <td>0.780672</td>\n",
       "      <td>0.513179</td>\n",
       "      <td>0.569433</td>\n",
       "      <td>0.637887</td>\n",
       "      <td>0.663388</td>\n",
       "    </tr>\n",
       "    <tr>\n",
       "      <th>2</th>\n",
       "      <td>0.835061</td>\n",
       "      <td>0.860092</td>\n",
       "      <td>0.538064</td>\n",
       "      <td>0.619777</td>\n",
       "      <td>0.786817</td>\n",
       "      <td>0.813547</td>\n",
       "    </tr>\n",
       "    <tr>\n",
       "      <th>3</th>\n",
       "      <td>0.772725</td>\n",
       "      <td>0.790948</td>\n",
       "      <td>0.418606</td>\n",
       "      <td>0.476009</td>\n",
       "      <td>0.657974</td>\n",
       "      <td>0.680459</td>\n",
       "    </tr>\n",
       "    <tr>\n",
       "      <th>4</th>\n",
       "      <td>0.814583</td>\n",
       "      <td>0.826338</td>\n",
       "      <td>0.348672</td>\n",
       "      <td>0.403004</td>\n",
       "      <td>0.694416</td>\n",
       "      <td>0.710320</td>\n",
       "    </tr>\n",
       "    <tr>\n",
       "      <th>5</th>\n",
       "      <td>0.806748</td>\n",
       "      <td>0.820034</td>\n",
       "      <td>0.420957</td>\n",
       "      <td>0.483222</td>\n",
       "      <td>0.686385</td>\n",
       "      <td>0.704508</td>\n",
       "    </tr>\n",
       "    <tr>\n",
       "      <th>6</th>\n",
       "      <td>0.814639</td>\n",
       "      <td>0.826485</td>\n",
       "      <td>0.383993</td>\n",
       "      <td>0.448946</td>\n",
       "      <td>0.692240</td>\n",
       "      <td>0.708853</td>\n",
       "    </tr>\n",
       "    <tr>\n",
       "      <th>7</th>\n",
       "      <td>0.811215</td>\n",
       "      <td>0.821256</td>\n",
       "      <td>0.186558</td>\n",
       "      <td>0.252966</td>\n",
       "      <td>0.691867</td>\n",
       "      <td>0.705219</td>\n",
       "    </tr>\n",
       "    <tr>\n",
       "      <th>8</th>\n",
       "      <td>0.809885</td>\n",
       "      <td>0.820898</td>\n",
       "      <td>0.465380</td>\n",
       "      <td>0.545410</td>\n",
       "      <td>0.687126</td>\n",
       "      <td>0.703403</td>\n",
       "    </tr>\n",
       "    <tr>\n",
       "      <th>9</th>\n",
       "      <td>0.794110</td>\n",
       "      <td>0.808997</td>\n",
       "      <td>0.340348</td>\n",
       "      <td>0.414195</td>\n",
       "      <td>0.668213</td>\n",
       "      <td>0.687707</td>\n",
       "    </tr>\n",
       "    <tr>\n",
       "      <th>10</th>\n",
       "      <td>0.820549</td>\n",
       "      <td>0.831832</td>\n",
       "      <td>0.268411</td>\n",
       "      <td>0.349590</td>\n",
       "      <td>0.697495</td>\n",
       "      <td>0.713434</td>\n",
       "    </tr>\n",
       "  </tbody>\n",
       "</table>\n",
       "</div>"
      ],
      "text/plain": [
       "           0         1         2         3         4         5\n",
       "0   0.631028  0.658339  0.237211  0.285558  0.487443  0.520572\n",
       "1   0.760450  0.780672  0.513179  0.569433  0.637887  0.663388\n",
       "2   0.835061  0.860092  0.538064  0.619777  0.786817  0.813547\n",
       "3   0.772725  0.790948  0.418606  0.476009  0.657974  0.680459\n",
       "4   0.814583  0.826338  0.348672  0.403004  0.694416  0.710320\n",
       "5   0.806748  0.820034  0.420957  0.483222  0.686385  0.704508\n",
       "6   0.814639  0.826485  0.383993  0.448946  0.692240  0.708853\n",
       "7   0.811215  0.821256  0.186558  0.252966  0.691867  0.705219\n",
       "8   0.809885  0.820898  0.465380  0.545410  0.687126  0.703403\n",
       "9   0.794110  0.808997  0.340348  0.414195  0.668213  0.687707\n",
       "10  0.820549  0.831832  0.268411  0.349590  0.697495  0.713434"
      ]
     },
     "execution_count": 11,
     "metadata": {},
     "output_type": "execute_result"
    }
   ],
   "source": [
    "ci_df"
   ]
  },
  {
   "cell_type": "code",
   "execution_count": 12,
   "metadata": {},
   "outputs": [
    {
     "name": "stdout",
     "output_type": "stream",
     "text": [
      "0.40770397305800943\n",
      "(0.3982665811668779, 0.41714136494914095)\n"
     ]
    }
   ],
   "source": [
    "average = [np.mean(all_f1_scores_macro[i]) for i in range(10)]\n",
    "print(np.mean(average))\n",
    "print(calculate_confidence_interval(average))"
   ]
  },
  {
   "cell_type": "code",
   "execution_count": 13,
   "metadata": {},
   "outputs": [
    {
     "name": "stdout",
     "output_type": "stream",
     "text": [
      "0.7962219455667122\n",
      "(0.7906379330796092, 0.8018059580538153)\n"
     ]
    }
   ],
   "source": [
    "average = [np.mean(all_f1_scores_weighted[i]) for i in range(10)]\n",
    "print(np.mean(average))\n",
    "print(calculate_confidence_interval(average))"
   ]
  },
  {
   "cell_type": "code",
   "execution_count": null,
   "metadata": {},
   "outputs": [],
   "source": []
  },
  {
   "cell_type": "code",
   "execution_count": null,
   "metadata": {},
   "outputs": [],
   "source": []
  },
  {
   "cell_type": "code",
   "execution_count": null,
   "metadata": {},
   "outputs": [],
   "source": []
  },
  {
   "cell_type": "code",
   "execution_count": 20,
   "metadata": {},
   "outputs": [
    {
     "name": "stdout",
     "output_type": "stream",
     "text": [
      "0.9932371211059736\n",
      "0.9947714286362388\n",
      "0.9926992603392254\n",
      "0.9972871371545944\n",
      "1.0\n",
      "0.9936256179463633\n",
      "0.9990884044021411\n",
      "1.0\n",
      "0.9913558485159257\n",
      "1.0\n",
      "1.0\n"
     ]
    }
   ],
   "source": [
    "# weighted f1 score\n",
    "for i in range(len(true.columns)):\n",
    "    print(\n",
    "        # true.columns[i], \n",
    "    f\"{f1_score(true.iloc[:,i], pred.iloc[:,i], average='weighted')}\")\n"
   ]
  },
  {
   "cell_type": "code",
   "execution_count": 21,
   "metadata": {},
   "outputs": [
    {
     "ename": "NameError",
     "evalue": "name 'average_f1_scores_macro' is not defined",
     "output_type": "error",
     "traceback": [
      "\u001b[0;31m---------------------------------------------------------------------------\u001b[0m",
      "\u001b[0;31mNameError\u001b[0m                                 Traceback (most recent call last)",
      "Cell \u001b[0;32mIn[21], line 1\u001b[0m\n\u001b[0;32m----> 1\u001b[0m average_f1_scores_macro\n",
      "\u001b[0;31mNameError\u001b[0m: name 'average_f1_scores_macro' is not defined"
     ]
    }
   ],
   "source": [
    "average_f1_scores_macro"
   ]
  },
  {
   "cell_type": "code",
   "execution_count": null,
   "metadata": {},
   "outputs": [
    {
     "name": "stdout",
     "output_type": "stream",
     "text": [
      "0.9495798319327731\n",
      "0.862904562539599\n",
      "0.9249471482746022\n",
      "0.739713117674984\n",
      "1.0\n",
      "0.7140535880090197\n",
      "0.749767008387698\n",
      "1.0\n",
      "0.8873356114735426\n",
      "1.0\n",
      "1.0\n"
     ]
    }
   ],
   "source": [
    "# weighted f1 score\n",
    "for i in range(len(true.columns)):\n",
    "    print(\n",
    "        # true.columns[i], \n",
    "    f\"{f1_score(true.iloc[:,i], pred.iloc[:,i], average='macro')}\")\n"
   ]
  },
  {
   "cell_type": "code",
   "execution_count": null,
   "metadata": {},
   "outputs": [
    {
     "name": "stdout",
     "output_type": "stream",
     "text": [
      "0.9726775956284153\n",
      "0.9581056466302369\n",
      "0.9234972677595629\n",
      "0.9726775956284153\n",
      "0.9872495446265938\n",
      "0.9836065573770492\n",
      "0.9836065573770492\n",
      "0.9890710382513661\n",
      "0.9890710382513661\n",
      "0.9854280510018215\n",
      "0.9927140255009107\n"
     ]
    }
   ],
   "source": [
    "# weighted f1 score\n",
    "for i in range(len(true.columns)):\n",
    "    print(\n",
    "        # true.columns[i], \n",
    "    f\"{f1_score(true.iloc[:,i], pred.iloc[:,i], average='micro')}\")\n"
   ]
  },
  {
   "cell_type": "code",
   "execution_count": null,
   "metadata": {},
   "outputs": [
    {
     "name": "stdout",
     "output_type": "stream",
     "text": [
      "/home/workspace/inference_result/v3.2_65b_r2all_bs8-SNUH_test_v4.2.xlsx\n",
      "N 1.0, 0.9411764705882353, 0.8571428571428571, nan, 1.0\n",
      "M 0.9259259259259259, 0.972972972972973, 0.7499999999999999, 0.6666666666666666, 0.9989572471324296\n",
      "C 0.9882352941176471, 0.9882352941176471, 0.9852216748768472, 0.6666666666666666, 0.9963768115942029\n",
      "A 0.9811320754716981, 0.9787234042553191, nan, nan, 0.9989969909729188\n",
      "AD 1.0, 1.0, nan, nan, 1.0\n",
      "ST 0.8571428571428571, 1.0, nan, nan, 0.999071494893222\n",
      "LNE 1.0, 1.0, nan, nan, 0.9990680335507922\n",
      "ILN 1.0, 1.0, 1.0, nan, 1.0\n",
      "NR 0.6666666666666666, 1.0, nan, nan, 0.995340167753961\n",
      "SR 1.0, 1.0, nan, nan, 1.0\n",
      "TT 1.0, 1.0, nan, nan, 1.0\n"
     ]
    }
   ],
   "source": [
    "print(path)\n",
    "for i in range(len(true.columns)):\n",
    "    print(true.columns[i], \n",
    "    # \"Acc: {:.3f}\".format((true.iloc[:,i] == pred.iloc[:,i]).mean()),\n",
    "    # \"Micro-F1: {:.3f}\".format(f1_score(true.iloc[:,i], pred.iloc[:,i], average='micro')),\n",
    "    # \"Macro-F1: {:.3}\".format(f1_score(true.iloc[:,i], pred.iloc[:,i], average='macro')),\n",
    "    # \"AVG-F1: {:.3}\".format(sum(get_each_f1(true.iloc[:,i], pred.iloc[:,i]))/5),\n",
    "    f\"{get_each_f1(true.iloc[:,i], pred.iloc[:,i])}\"[1:-1])\n",
    "\n",
    "# macro"
   ]
  },
  {
   "cell_type": "code",
   "execution_count": null,
   "metadata": {},
   "outputs": [
    {
     "name": "stdout",
     "output_type": "stream",
     "text": [
      "/home/workspace/inference_result/v3.2_13b_r2all_bs8-SNUH_test_v4.1.xlsx\n",
      "N AVG-F1: nan Each-F1: [0.923076923076923, 0.7272727272727273, 0.6666666666666666, nan, 1.0]\n",
      "M AVG-F1: 0.94 Each-F1: [0.9500000000000001, 1.0, 0.75, 1.0, 1.0]\n",
      "C AVG-F1: 0.991 Each-F1: [0.9935483870967742, 0.9820359281437125, 0.9795918367346939, 1.0, 1.0]\n",
      "A AVG-F1: nan Each-F1: [1.0, 1.0, nan, nan, 1.0]\n",
      "AD AVG-F1: nan Each-F1: [1.0, 1.0, nan, nan, 1.0]\n",
      "ST AVG-F1: nan Each-F1: [0.888888888888889, 1.0, nan, nan, 0.9990281827016522]\n",
      "LNE AVG-F1: nan Each-F1: [1.0, 1.0, nan, nan, 0.9990300678952473]\n",
      "ILN AVG-F1: nan Each-F1: [1.0, 1.0, nan, nan, 1.0]\n",
      "NR AVG-F1: nan Each-F1: [0.7499999999999999, 0.5, nan, nan, 0.9961089494163423]\n",
      "SR AVG-F1: nan Each-F1: [1.0, 1.0, nan, nan, 1.0]\n",
      "TT AVG-F1: nan Each-F1: [1.0, 1.0, nan, nan, 1.0]\n"
     ]
    }
   ],
   "source": [
    "print(path)\n",
    "for i in range(len(true.columns)):\n",
    "    print(true.columns[i], \n",
    "    # \"Acc: {:.3f}\".format((true.iloc[:,i] == pred.iloc[:,i]).mean()),\n",
    "    # \"Micro-F1: {:.3f}\".format(f1_score(true.iloc[:,i], pred.iloc[:,i], average='micro')),\n",
    "    # \"Macro-F1: {:.3}\".format(f1_score(true.iloc[:,i], pred.iloc[:,i], average='macro')),\n",
    "    \"AVG-F1: {:.3}\".format(sum(get_each_f1(true.iloc[:,i], pred.iloc[:,i]))/5),\n",
    "    f\"Each-F1: {get_each_f1(true.iloc[:,i], pred.iloc[:,i])}\")\n",
    "\n",
    "# macro"
   ]
  },
  {
   "cell_type": "code",
   "execution_count": null,
   "metadata": {},
   "outputs": [
    {
     "name": "stdout",
     "output_type": "stream",
     "text": [
      "/home/workspace/inference_result/v3.2_30b_r2all_bz8-SNUH_test_v4.xlsx\n",
      "N AVG-F1: nan Each-F1: [1.0, 1.0, 1.0, nan, 1.0]\n",
      "M AVG-F1: 0.924 Each-F1: [0.9523809523809523, 1.0, 0.6666666666666666, 1.0, 1.0]\n",
      "C AVG-F1: 1.0 Each-F1: [1.0, 1.0, 1.0, 1.0, 1.0]\n",
      "A AVG-F1: nan Each-F1: [1.0, 1.0, nan, nan, 1.0]\n",
      "AD AVG-F1: nan Each-F1: [1.0, 1.0, nan, nan, 1.0]\n",
      "ST AVG-F1: nan Each-F1: [0.9090909090909091, 0.6666666666666666, nan, nan, 0.9980506822612086]\n",
      "LNE AVG-F1: nan Each-F1: [1.0, 1.0, nan, nan, 0.9990300678952473]\n",
      "ILN AVG-F1: nan Each-F1: [1.0, 1.0, nan, nan, 1.0]\n",
      "NR AVG-F1: nan Each-F1: [0.6666666666666666, 0.8, nan, nan, 0.996101364522417]\n",
      "SR AVG-F1: nan Each-F1: [1.0, 1.0, nan, nan, 1.0]\n",
      "TT AVG-F1: nan Each-F1: [1.0, nan, nan, nan, 1.0]\n"
     ]
    }
   ],
   "source": [
    "print(path)\n",
    "for i in range(len(true.columns)):\n",
    "    print(true.columns[i], \n",
    "    # \"Acc: {:.3f}\".format((true.iloc[:,i] == pred.iloc[:,i]).mean()),\n",
    "    # \"Micro-F1: {:.3f}\".format(f1_score(true.iloc[:,i], pred.iloc[:,i], average='micro')),\n",
    "    # \"Macro-F1: {:.3}\".format(f1_score(true.iloc[:,i], pred.iloc[:,i], average='macro')),\n",
    "    \"AVG-F1: {:.3}\".format(sum(get_each_f1(true.iloc[:,i], pred.iloc[:,i]))/5),\n",
    "    f\"Each-F1: {get_each_f1(true.iloc[:,i], pred.iloc[:,i])}\")\n",
    "\n",
    "# macro"
   ]
  },
  {
   "cell_type": "code",
   "execution_count": null,
   "metadata": {},
   "outputs": [
    {
     "name": "stdout",
     "output_type": "stream",
     "text": [
      "/home/workspace/inference_result/v3.2_65b_r2all_bs8-SNUH_test_v4.2.xlsx\n",
      "N AVG-F1: nan Each-F1: [1.0, 0.9333333333333333, 0.8571428571428571, nan, 1.0]\n",
      "M AVG-F1: 0.849 Each-F1: [0.9268292682926829, 0.9841269841269841, 0.6666666666666666, 0.6666666666666666, 0.9989212513484358]\n",
      "C AVG-F1: 0.925 Each-F1: [0.987012987012987, 0.9879518072289156, 0.9847715736040609, 0.6666666666666666, 0.9961538461538462]\n",
      "A AVG-F1: nan Each-F1: [0.9803921568627451, 1.0, nan, nan, 0.9989484752891693]\n",
      "AD AVG-F1: nan Each-F1: [1.0, 1.0, nan, nan, 1.0]\n",
      "ST AVG-F1: nan Each-F1: [0.888888888888889, 1.0, nan, nan, 0.9990281827016522]\n",
      "LNE AVG-F1: nan Each-F1: [1.0, 1.0, nan, nan, 0.9990300678952473]\n",
      "ILN AVG-F1: nan Each-F1: [1.0, 1.0, nan, nan, 1.0]\n",
      "NR AVG-F1: nan Each-F1: [0.6666666666666666, 1.0, nan, nan, 0.9970788704965919]\n",
      "SR AVG-F1: nan Each-F1: [1.0, 1.0, nan, nan, 1.0]\n",
      "TT AVG-F1: nan Each-F1: [1.0, 1.0, nan, nan, 1.0]\n"
     ]
    }
   ],
   "source": [
    "print(path)\n",
    "for i in range(len(true.columns)):\n",
    "    print(true.columns[i], \n",
    "    # \"Acc: {:.3f}\".format((true.iloc[:,i] == pred.iloc[:,i]).mean()),\n",
    "    # \"Micro-F1: {:.3f}\".format(f1_score(true.iloc[:,i], pred.iloc[:,i], average='micro')),\n",
    "    # \"Macro-F1: {:.3}\".format(f1_score(true.iloc[:,i], pred.iloc[:,i], average='macro')),\n",
    "    \"AVG-F1: {:.3}\".format(sum(get_each_f1(true.iloc[:,i], pred.iloc[:,i]))/5),\n",
    "    f\"Each-F1: {get_each_f1(true.iloc[:,i], pred.iloc[:,i])}\")\n",
    "\n",
    "# macro"
   ]
  },
  {
   "cell_type": "code",
   "execution_count": null,
   "metadata": {},
   "outputs": [
    {
     "name": "stdout",
     "output_type": "stream",
     "text": [
      "/home/workspace/inference_result/llama-65b_NSHOT10-SNUH_test_v4.2.xlsx\n",
      "N AVG-F1: nan Each-F1: [0.5263157894736842, 0.33333333333333326, 0.5714285714285715, nan, 0.9839357429718876]\n",
      "M AVG-F1: nan Each-F1: [0.8444444444444444, 0.8656716417910448, 0.28571428571428575, nan, 0.9891304347826088]\n",
      "C AVG-F1: nan Each-F1: [0.7910447761194029, 0.8505747126436781, 0.84375, nan, 0.9424860853432282]\n",
      "A AVG-F1: nan Each-F1: [0.8799999999999999, 0.7999999999999999, nan, nan, 0.9904761904761904]\n",
      "AD AVG-F1: nan Each-F1: [1.0, 0.7499999999999999, nan, nan, 0.9970731707317073]\n",
      "ST AVG-F1: nan Each-F1: [0.7272727272727272, 0.4, nan, nan, 0.994140625]\n",
      "LNE AVG-F1: nan Each-F1: [nan, 0.5, nan, nan, 0.9970958373668926]\n",
      "ILN AVG-F1: nan Each-F1: [0.6666666666666666, 0.8, nan, nan, 0.9961089494163423]\n",
      "NR AVG-F1: nan Each-F1: [0.7499999999999999, 0.5, nan, nan, 0.9921722113502935]\n",
      "SR AVG-F1: nan Each-F1: [0.5, 0.8, nan, nan, 0.9961165048543689]\n",
      "TT AVG-F1: nan Each-F1: [0.8, nan, nan, nan, 0.9990319457889641]\n"
     ]
    }
   ],
   "source": [
    "print(path)\n",
    "for i in range(len(true.columns)):\n",
    "    print(true.columns[i], \n",
    "    # \"Acc: {:.3f}\".format((true.iloc[:,i] == pred.iloc[:,i]).mean()),\n",
    "    # \"Micro-F1: {:.3f}\".format(f1_score(true.iloc[:,i], pred.iloc[:,i], average='micro')),\n",
    "    # \"Macro-F1: {:.3}\".format(f1_score(true.iloc[:,i], pred.iloc[:,i], average='macro')),\n",
    "    \"AVG-F1: {:.3}\".format(sum(get_each_f1(true.iloc[:,i], pred.iloc[:,i]))/5),\n",
    "    f\"Each-F1: {get_each_f1(true.iloc[:,i], pred.iloc[:,i])}\")\n",
    "\n",
    "# macro"
   ]
  },
  {
   "cell_type": "code",
   "execution_count": null,
   "metadata": {},
   "outputs": [],
   "source": []
  },
  {
   "cell_type": "code",
   "execution_count": null,
   "metadata": {},
   "outputs": [],
   "source": []
  },
  {
   "attachments": {},
   "cell_type": "markdown",
   "metadata": {},
   "source": [
    "# EDA"
   ]
  },
  {
   "cell_type": "code",
   "execution_count": null,
   "metadata": {},
   "outputs": [],
   "source": [
    "from pandas_profiling import ProfileReport"
   ]
  },
  {
   "cell_type": "code",
   "execution_count": null,
   "metadata": {},
   "outputs": [],
   "source": [
    "ProfileReport(true)"
   ]
  },
  {
   "cell_type": "code",
   "execution_count": null,
   "metadata": {},
   "outputs": [],
   "source": [
    "inference_result[pred['SR.1']!='x']"
   ]
  },
  {
   "cell_type": "code",
   "execution_count": null,
   "metadata": {},
   "outputs": [],
   "source": [
    "inference_result[pred['SR.1']!='x']['processed_finding'].iloc[0]"
   ]
  },
  {
   "cell_type": "code",
   "execution_count": null,
   "metadata": {},
   "outputs": [],
   "source": [
    "inference_result[pred['SR.1']!='x']['processed_finding'].iloc[1]"
   ]
  },
  {
   "cell_type": "code",
   "execution_count": null,
   "metadata": {},
   "outputs": [],
   "source": [
    "inference_result[pred['SR.1']!='x']['processed_finding'].iloc[2]"
   ]
  },
  {
   "cell_type": "code",
   "execution_count": null,
   "metadata": {},
   "outputs": [],
   "source": [
    "inference_result[~pd.isna(inference_result[\"SR\"])]['SR']"
   ]
  },
  {
   "cell_type": "code",
   "execution_count": null,
   "metadata": {},
   "outputs": [],
   "source": [
    "inference_result[pred['SR.1']!='x']['SR']"
   ]
  },
  {
   "cell_type": "code",
   "execution_count": null,
   "metadata": {},
   "outputs": [],
   "source": [
    "inference_result['processed_finding'].iloc[516]"
   ]
  },
  {
   "cell_type": "code",
   "execution_count": null,
   "metadata": {},
   "outputs": [],
   "source": []
  },
  {
   "cell_type": "code",
   "execution_count": null,
   "metadata": {},
   "outputs": [],
   "source": []
  },
  {
   "cell_type": "code",
   "execution_count": null,
   "metadata": {},
   "outputs": [
    {
     "data": {
      "text/plain": [
       "N\n",
       "x    529\n",
       "r      8\n",
       "l      8\n",
       "b      4\n",
       "Name: count, dtype: int64"
      ]
     },
     "execution_count": 21,
     "metadata": {},
     "output_type": "execute_result"
    }
   ],
   "source": [
    "true['N'].value_counts()"
   ]
  },
  {
   "cell_type": "code",
   "execution_count": null,
   "metadata": {},
   "outputs": [
    {
     "data": {
      "text/plain": [
       "M\n",
       "x    480\n",
       "l     37\n",
       "r     26\n",
       "b      5\n",
       "o      1\n",
       "Name: count, dtype: int64"
      ]
     },
     "execution_count": 22,
     "metadata": {},
     "output_type": "execute_result"
    }
   ],
   "source": [
    "true['M'].value_counts()"
   ]
  },
  {
   "cell_type": "code",
   "execution_count": null,
   "metadata": {},
   "outputs": [
    {
     "data": {
      "text/plain": [
       "C\n",
       "x    276\n",
       "b    102\n",
       "r     85\n",
       "l     85\n",
       "o      1\n",
       "Name: count, dtype: int64"
      ]
     },
     "execution_count": 32,
     "metadata": {},
     "output_type": "execute_result"
    }
   ],
   "source": [
    "true['C'].value_counts()"
   ]
  },
  {
   "cell_type": "code",
   "execution_count": null,
   "metadata": {},
   "outputs": [
    {
     "data": {
      "text/plain": [
       "A\n",
       "x    498\n",
       "r     27\n",
       "l     23\n",
       "b      1\n",
       "Name: count, dtype: int64"
      ]
     },
     "execution_count": 33,
     "metadata": {},
     "output_type": "execute_result"
    }
   ],
   "source": [
    "true['A'].value_counts()"
   ]
  },
  {
   "cell_type": "code",
   "execution_count": null,
   "metadata": {},
   "outputs": [
    {
     "data": {
      "text/plain": [
       "AD\n",
       "x    538\n",
       "r      7\n",
       "l      4\n",
       "Name: count, dtype: int64"
      ]
     },
     "execution_count": 34,
     "metadata": {},
     "output_type": "execute_result"
    }
   ],
   "source": [
    "true['AD'].value_counts()"
   ]
  },
  {
   "cell_type": "code",
   "execution_count": null,
   "metadata": {},
   "outputs": [
    {
     "data": {
      "text/plain": [
       "ST\n",
       "x    538\n",
       "r      7\n",
       "l      3\n",
       "b      1\n",
       "Name: count, dtype: int64"
      ]
     },
     "execution_count": 35,
     "metadata": {},
     "output_type": "execute_result"
    }
   ],
   "source": [
    "true['ST'].value_counts()"
   ]
  },
  {
   "cell_type": "code",
   "execution_count": null,
   "metadata": {},
   "outputs": [
    {
     "data": {
      "text/plain": [
       "LNE\n",
       "x    537\n",
       "r      6\n",
       "l      6\n",
       "Name: count, dtype: int64"
      ]
     },
     "execution_count": 36,
     "metadata": {},
     "output_type": "execute_result"
    }
   ],
   "source": [
    "true['LNE'].value_counts()"
   ]
  },
  {
   "cell_type": "code",
   "execution_count": null,
   "metadata": {},
   "outputs": [
    {
     "data": {
      "text/plain": [
       "ILN\n",
       "x    539\n",
       "r      6\n",
       "l      3\n",
       "b      1\n",
       "Name: count, dtype: int64"
      ]
     },
     "execution_count": 37,
     "metadata": {},
     "output_type": "execute_result"
    }
   ],
   "source": [
    "true['ILN'].value_counts()"
   ]
  },
  {
   "cell_type": "code",
   "execution_count": null,
   "metadata": {},
   "outputs": [
    {
     "data": {
      "text/plain": [
       "NR\n",
       "x    537\n",
       "r      7\n",
       "l      5\n",
       "Name: count, dtype: int64"
      ]
     },
     "execution_count": 38,
     "metadata": {},
     "output_type": "execute_result"
    }
   ],
   "source": [
    "true['NR'].value_counts()"
   ]
  },
  {
   "cell_type": "code",
   "execution_count": null,
   "metadata": {},
   "outputs": [
    {
     "data": {
      "text/plain": [
       "SR\n",
       "x    540\n",
       "l      6\n",
       "r      3\n",
       "Name: count, dtype: int64"
      ]
     },
     "execution_count": 39,
     "metadata": {},
     "output_type": "execute_result"
    }
   ],
   "source": [
    "true['SR'].value_counts()"
   ]
  },
  {
   "cell_type": "code",
   "execution_count": null,
   "metadata": {},
   "outputs": [
    {
     "data": {
      "text/plain": [
       "TT\n",
       "x    544\n",
       "r      4\n",
       "l      1\n",
       "Name: count, dtype: int64"
      ]
     },
     "execution_count": 40,
     "metadata": {},
     "output_type": "execute_result"
    }
   ],
   "source": [
    "true['TT'].value_counts()"
   ]
  },
  {
   "cell_type": "code",
   "execution_count": null,
   "metadata": {},
   "outputs": [
    {
     "data": {
      "text/plain": [
       "0.9908925318761385"
      ]
     },
     "execution_count": 41,
     "metadata": {},
     "output_type": "execute_result"
    }
   ],
   "source": [
    "544/549"
   ]
  }
 ],
 "metadata": {
  "kernelspec": {
   "display_name": "Python 3",
   "language": "python",
   "name": "python3"
  },
  "language_info": {
   "codemirror_mode": {
    "name": "ipython",
    "version": 3
   },
   "file_extension": ".py",
   "mimetype": "text/x-python",
   "name": "python",
   "nbconvert_exporter": "python",
   "pygments_lexer": "ipython3",
   "version": "3.10.8"
  },
  "orig_nbformat": 4
 },
 "nbformat": 4,
 "nbformat_minor": 2
}
